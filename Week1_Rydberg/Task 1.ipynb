{
 "cells": [
  {
   "cell_type": "markdown",
   "id": "7efdc72d",
   "metadata": {},
   "source": [
    "# Task 1"
   ]
  },
  {
   "cell_type": "code",
   "execution_count": null,
   "id": "feda0b43",
   "metadata": {},
   "outputs": [],
   "source": [
    "using Bloqade\n",
    "using KrylovKit\n",
    "using SparseArrays\n",
    "using PythonCall\n",
    "\n",
    "plt = pyimport(\"matplotlib.pyplot\");"
   ]
  },
  {
   "cell_type": "markdown",
   "id": "648f734f",
   "metadata": {},
   "source": [
    "## Ground State Properties"
   ]
  },
  {
   "cell_type": "code",
   "execution_count": null,
   "id": "279b8f4a",
   "metadata": {},
   "outputs": [],
   "source": [
    "nsites = 9\n",
    "atoms = generate_sites(ChainLattice(), nsites, scale = 5.72)"
   ]
  },
  {
   "cell_type": "code",
   "execution_count": null,
   "id": "6468b204",
   "metadata": {},
   "outputs": [],
   "source": [
    "Ω = 2π * 4\n",
    "Δ_step = 30\n",
    "Δ = LinRange(-2π * 10, 2π * 10, Δ_step);"
   ]
  },
  {
   "cell_type": "code",
   "execution_count": null,
   "id": "7ed2c9ad",
   "metadata": {},
   "outputs": [],
   "source": [
    "density_g = zeros(Δ_step, nsites)\n",
    "\n",
    "for ii in 1:Δ_step\n",
    "    h_ii = rydberg_h(atoms; Δ = Δ[ii], Ω) # create the Rydberg Hamiltonian\n",
    "    h_m = mat(h_ii) # convert the Hamiltonian into a matrix\n",
    "    vals, vecs, info = KrylovKit.eigsolve(h_m, 1, :SR) # find the ground state eigenvalue and eigenvector\n",
    "    g_state = ArrayReg(vecs[1]) # creates the initial state with all atoms in ``| 0 \\rangle`` state\n",
    "\n",
    "    for jj in 1:nsites\n",
    "        density_g[ii, jj] = rydberg_density(g_state, jj) # measure the density of Rydberg excitations on each site\n",
    "    end\n",
    "end"
   ]
  },
  {
   "cell_type": "code",
   "execution_count": null,
   "id": "014b134d",
   "metadata": {},
   "outputs": [],
   "source": [
    "fig, ax = plt.subplots(figsize = (10, 4))\n",
    "ax.bar(1:nsites, density_g[1, :])\n",
    "ax.set_xticks(1:nsites)\n",
    "ax.set_xlabel(\"Sites\")\n",
    "ax.set_ylabel(\"Rydberg density\")\n",
    "ax.set_title(\"Density Profile: 1D Chain, Δ = -2π * 10 MHz\")\n",
    "fig"
   ]
  },
  {
   "cell_type": "code",
   "execution_count": null,
   "id": "3193d83a",
   "metadata": {},
   "outputs": [],
   "source": [
    "fig, ax = plt.subplots(figsize = (10, 4))\n",
    "ax.bar(1:nsites, density_g[30, :])\n",
    "ax.set_xticks(1:nsites)\n",
    "ax.set_xlabel(\"Sites\")\n",
    "ax.set_ylabel(\"Rydberg density\")\n",
    "ax.set_title(\"Density Profile: 1D Chain, Δ = 2π * 10 MHz\")\n",
    "fig"
   ]
  },
  {
   "cell_type": "code",
   "execution_count": null,
   "id": "9ff16afb",
   "metadata": {},
   "outputs": [],
   "source": [
    "order_para = map(1:Δ_step) do ii\n",
    "    return sum(density_g[ii, 1:2:nsites]) - sum(density_g[ii, 2:2:nsites])\n",
    "end\n",
    "\n",
    "fig, ax = plt.subplots(figsize = (10, 4))\n",
    "ax.plot(Δ / 2π, order_para)\n",
    "ax.set_xlabel(\"Δ/2π (MHz) \")\n",
    "ax.set_ylabel(\"Order parameter\")\n",
    "fig"
   ]
  },
  {
   "cell_type": "markdown",
   "id": "b085a474",
   "metadata": {},
   "source": [
    "## Preparation of Ordered States in 1D"
   ]
  },
  {
   "cell_type": "code",
   "execution_count": null,
   "id": "48ddbee9",
   "metadata": {},
   "outputs": [],
   "source": [
    "total_time = 3.0;\n",
    "Ω_max = 2π * 4;\n",
    "Ω = piecewise_linear(clocks = [0.0, 0.1, 2.1, 2.2, total_time], values = [0.0, Ω_max, Ω_max, 0, 0]);"
   ]
  },
  {
   "cell_type": "code",
   "execution_count": null,
   "id": "89e66ab2",
   "metadata": {},
   "outputs": [],
   "source": [
    "U1 = -2π * 10;\n",
    "U2 = 2π * 10;\n",
    "Δ = piecewise_linear(clocks = [0.0, 0.6, 2.1, total_time], values = [U1, U1, U2, U2]);"
   ]
  },
  {
   "cell_type": "code",
   "execution_count": null,
   "id": "d4ffa109",
   "metadata": {},
   "outputs": [],
   "source": [
    "fig, (ax1, ax2) = plt.subplots(ncols = 2, figsize = (12, 4))\n",
    "Bloqade.plot!(ax1, Ω)\n",
    "ax1.set_ylabel(\"Ω/2π (MHz)\")\n",
    "Bloqade.plot!(ax2, Δ)\n",
    "ax2.set_ylabel(\"Δ/2π (MHz)\")\n",
    "fig"
   ]
  },
  {
   "cell_type": "code",
   "execution_count": null,
   "id": "70d42356",
   "metadata": {},
   "outputs": [],
   "source": [
    "nsites = 9\n",
    "atoms = generate_sites(ChainLattice(), nsites, scale = 5.72)"
   ]
  },
  {
   "cell_type": "code",
   "execution_count": null,
   "id": "c513a71b",
   "metadata": {},
   "outputs": [],
   "source": [
    "h = rydberg_h(atoms; Δ, Ω)"
   ]
  },
  {
   "cell_type": "code",
   "execution_count": null,
   "id": "6131fb58",
   "metadata": {},
   "outputs": [],
   "source": [
    "reg = zero_state(nsites);\n",
    "prob = SchrodingerProblem(reg, total_time, h);\n",
    "integrator = init(prob, Vern8());"
   ]
  },
  {
   "cell_type": "code",
   "execution_count": null,
   "id": "98b71bc3",
   "metadata": {},
   "outputs": [],
   "source": [
    "densities = []\n",
    "σxs = []\n",
    "\n",
    "for _ in TimeChoiceIterator(integrator, 0.0:1e-3:total_time)\n",
    "    push!(densities, rydberg_density(reg))\n",
    "    \n",
    "    # Calculate expectation value of Xᵢ at each site\n",
    "    σx = [expect(chain(nsites, put(i=>Op.X)), reg) for i in 1:nsites]\n",
    "    push!(σxs, σx)\n",
    "    \n",
    "    \n",
    "end\n",
    "Dvals = hcat(densities...);\n",
    "Xvals = hcat(σxs...);"
   ]
  },
  {
   "cell_type": "code",
   "execution_count": null,
   "id": "e2c01d14",
   "metadata": {},
   "outputs": [],
   "source": [
    "fig, ax = plt.subplots(figsize = (10, 4))\n",
    "shw = ax.imshow(real(Dvals), interpolation = \"nearest\", aspect = \"auto\", extent = [0, total_time, 0.5, nsites + 0.5])\n",
    "ax.set_xlabel(\"time (μs)\")\n",
    "ax.set_ylabel(\"site\")\n",
    "ax.set_xticks(0:0.2:total_time)\n",
    "ax.set_yticks(1:nsites)\n",
    "bar = fig.colorbar(shw)\n",
    "fig"
   ]
  },
  {
   "cell_type": "code",
   "execution_count": null,
   "id": "f6e1eceb",
   "metadata": {},
   "outputs": [],
   "source": [
    "fig, ax = plt.subplots(figsize = (10, 4))\n",
    "shw = ax.imshow(real(Xvals), interpolation = \"nearest\", aspect = \"auto\", extent = [0, total_time, 0.5, nsites + 0.5])\n",
    "ax.set_xlabel(\"time (μs)\")\n",
    "ax.set_ylabel(\"site\")\n",
    "ax.set_xticks(0:0.2:total_time)\n",
    "ax.set_yticks(1:nsites)\n",
    "bar = fig.colorbar(shw)\n",
    "fig"
   ]
  },
  {
   "cell_type": "code",
   "execution_count": null,
   "id": "cbac7bbb",
   "metadata": {},
   "outputs": [],
   "source": [
    "bitstring_hist(reg; nlargest = 20)"
   ]
  },
  {
   "cell_type": "markdown",
   "id": "88346a1d",
   "metadata": {},
   "source": [
    "## Calculate Ground State Energy"
   ]
  },
  {
   "cell_type": "code",
   "execution_count": null,
   "id": "4794d030",
   "metadata": {},
   "outputs": [],
   "source": [
    "h_ryd = h |> attime(total_time)"
   ]
  },
  {
   "cell_type": "code",
   "execution_count": null,
   "id": "9a2c3608",
   "metadata": {},
   "outputs": [],
   "source": [
    "vals, vecs, info = KrylovKit.eigsolve(mat(h_ryd), 10, :SR);"
   ]
  },
  {
   "cell_type": "code",
   "execution_count": null,
   "id": "1252bdd2",
   "metadata": {},
   "outputs": [],
   "source": [
    "ΔE = vals[2] - vals[1]"
   ]
  },
  {
   "cell_type": "code",
   "execution_count": null,
   "id": "4d9d6268",
   "metadata": {},
   "outputs": [],
   "source": [
    "function get_ΔE(nsites::Int, Δ, Ω, total_time)\n",
    "    atoms = generate_sites(ChainLattice(), nsites, scale = 5.72)\n",
    "    h_ryd = rydberg_h(atoms; Δ, Ω) |> attime(total_time)\n",
    "    \n",
    "    # Get three smallest eigenvalues\n",
    "    vals, _, _ = KrylovKit.eigsolve(mat(h_ryd), 3, :SR);\n",
    "    ΔE = vals[2] - vals[1]\n",
    "    \n",
    "    ΔE\n",
    "end"
   ]
  },
  {
   "cell_type": "code",
   "execution_count": null,
   "id": "d3ec0265",
   "metadata": {},
   "outputs": [],
   "source": [
    "get_ΔE(20, Δ, Ω, total_time)"
   ]
  },
  {
   "cell_type": "code",
   "execution_count": null,
   "id": "e8a95060",
   "metadata": {},
   "outputs": [],
   "source": [
    "nsites_list = 3:1:20 |> collect;\n",
    "ΔEs = [get_ΔE(nsites, Δ, Ω, total_time) for nsites in nsites_list]"
   ]
  },
  {
   "cell_type": "code",
   "execution_count": null,
   "id": "6b58d345",
   "metadata": {},
   "outputs": [],
   "source": [
    "plt.plot(nsites_list, ΔEs)"
   ]
  }
 ],
 "metadata": {
  "kernelspec": {
   "display_name": "Julia 1.6.3",
   "language": "julia",
   "name": "julia-1.6"
  },
  "language_info": {
   "file_extension": ".jl",
   "mimetype": "application/julia",
   "name": "julia",
   "version": "1.6.3"
  }
 },
 "nbformat": 4,
 "nbformat_minor": 5
}
