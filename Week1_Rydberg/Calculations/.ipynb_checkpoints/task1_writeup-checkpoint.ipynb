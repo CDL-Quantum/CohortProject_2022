{
 "cells": [
  {
   "cell_type": "markdown",
   "id": "347525de",
   "metadata": {},
   "source": [
    "The calculations described in this document were performed using the [Bloqade](https://queracomputing.github.io/Bloqade.jl/dev/) open-source software package. \n",
    "\n",
    "## Task 1: Adiabatic state preparation with Bloqade\n"
   ]
  },
  {
   "cell_type": "markdown",
   "id": "9924c979",
   "metadata": {},
   "source": [
    "\n",
    "Please see this [Jupyter notebook file](https://github.com/) for the calculation details associated with task #1.\n",
    "\n",
    "Our first task is to investigate Rydberg state preparation in a one-dimensional (1D) chain. The target state, known as the $\\mathbb{Z_2}$ state, consists of alternating ground ($g$) and first-excited states ($r$), i.e.,\n",
    "$$ |\\psi \\rangle = | g \\hspace{1mm} r \\hspace{1mm} g \\hspace{1mm} r \\hspace{1mm} g \\hspace{1mm} r  \\cdots \\rangle . $$\n",
    "\n",
    "We found that all 1D chains will have excitations at the endpoints, which is due to the repulsive nature of the excited states. If the number of atoms in the chain is even, then it is not possible to have excitations at the endpoints and still obtain the $\\mathbb{Z_2}$ state. Thus, we investigate only chains with odd numbers of atoms in this analysis and start with the state preparation of 9 atoms. We are interested in the 9-qubit state as it evolves in time according to the Hamiltonian. The average occupation on each site as a function of time is described by the following contour plot.\n",
    "\n",
    "![image info](./Images/state_prep.png)\n",
    "\n",
    "We see that the Rydberg densities converge towards the $\\mathbb{Z_2}$ ordered state. Unfortunately, it appears that the excited states in the middle of the chain are not prepared to the ideal target state. Further insight can be gained by calculating the expectation value of $\\langle \\sigma^x_i \\rangle$ for our prepared state. For both the ground and excited states, the expectation value of the Pauli X operator is equal to zero. Thus, we expect that the non-ideal preparation of each site will result in non-zero expectation values. The further the expectation value from zero, the less ideal the preparation. To investigate this, we plot $\\langle \\sigma^x_i \\rangle$ for each site.\n",
    "\n",
    "![image info](./Images/expectation_value.png)\n",
    "\n",
    "Just as we saw with the time evolution, the above plot shows that state preparation is better at the endpoints and decreases in fidelity as we consider states towards the middle of the chain. We also see that state preparation of the even numbered sites is better as compared to odd numbered sites. This is not surprising since both the initial and target states of the even numbered sites are the ground state.\n",
    "\n",
    "Finally, we wish to determine the viability of the adiabatic protocol for quantum computing based on Rydberg atom arrays. The adiabatic condition states that the system is evolved slow enough such that the atoms stay in the ground state [1]. The lower-bound for the time required to evolve the Rydberg atom system and stay within the adiabatic protocol is given by the inverse square of the energy-splitting between the ground and excited states $\\Delta E\\,$ [1], i.e.,\n",
    "$$ t >> \\frac{\\text{MHz}}{(\\Delta E/2\\pi)^2} , $$\n",
    "where $t$ is the time evolution of the system. Thus, the smaller the energy splitting, the longer the time required to evolve the system. We can determine the minimum energy splitting as a function of the detuning, for a fixed Rabi frequency:\n",
    "\n",
    "![image info](./Images/deltaE_vs_detuning.png)\n",
    "\n",
    "The minimum splitting is found to be $1.61$ MHz, which is shown on the above plot with the dashed red line. For the 9 atom 1D chain and a Rabi frequency of $\\Omega = 2\\pi \\times 4$ MHz, the minimum time evolution is\n",
    "$$ t >> \\frac{\\text{MHz}}{(1.61 \\text{ MHz})^2} = 0.39 \\mu s . $$\n",
    "Next, it would be interesting to determine the dependence of the calculation time on the number of atoms. To that end, we calculate and plot the energy splitting and the minimum evolution time for chains with an increasing number of atoms:\n",
    "\n",
    "![image info](./Images/deltaE_and_time.png)\n",
    "\n",
    "The plot on the left shows that even for a small number of qubits, the adiabatic protocol requires a relatively small energy separation between the ground and excited states. This becomes problematic when considering a larger number of atoms, as it becomes increasingly difficult to drive the system while ensuring that it remains in the ground state as required by the adiabatic protocol.\n",
    "\n",
    "The plot on the right shows how the minimum time required to complete the protocol scales with the number of atoms. An advantage of this protocol is that the runtime is $O(2^n)$, which demonstrates that the quantum protocol does indeed have an advantage over its classical counterpart. \n",
    "\n",
    "Our analysis indicates that despite a speedup in the runtime, executing the adiabatic protocol is likely infeasible for a large number of qubits. We have seen that state preparation with high-fidelity is difficult for a large number of qubits, and the ability to adhere to the adiabatic requirements in terms of driving the system without exciting the state becomes increasingly difficult for a large number of atoms.\n",
    "\n",
    "# References\n",
    "[1] Albash, Tameem, and Daniel A. Lidar. \"Adiabatic quantum computation.\" Reviews of Modern Physics 90.1 (2018): 015002."
   ]
  },
  {
   "cell_type": "code",
   "execution_count": null,
   "id": "a4f36b47",
   "metadata": {},
   "outputs": [],
   "source": []
  },
  {
   "cell_type": "code",
   "execution_count": null,
   "id": "97cd57d6",
   "metadata": {},
   "outputs": [],
   "source": []
  }
 ],
 "metadata": {
  "kernelspec": {
   "display_name": "Julia 1.7.3",
   "language": "julia",
   "name": "julia-1.7"
  },
  "language_info": {
   "file_extension": ".jl",
   "mimetype": "application/julia",
   "name": "julia",
   "version": "1.7.3"
  }
 },
 "nbformat": 4,
 "nbformat_minor": 5
}
