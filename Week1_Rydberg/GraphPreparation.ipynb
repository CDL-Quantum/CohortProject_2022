{
 "cells": [
  {
   "cell_type": "code",
   "execution_count": 11,
   "id": "fd4e26dc-7111-4112-b4b4-c5847d0d95ed",
   "metadata": {},
   "outputs": [],
   "source": [
    "using Random\n",
    "using LinearAlgebra\n",
    ";"
   ]
  },
  {
   "cell_type": "code",
   "execution_count": 37,
   "id": "888a295e-af12-40c6-a9a9-5f02f150dcd8",
   "metadata": {},
   "outputs": [
    {
     "name": "stdout",
     "output_type": "stream",
     "text": [
      "true\n"
     ]
    },
    {
     "data": {
      "text/plain": [
       "4×4 Matrix{Int64}:\n",
       " 0  0  0  0\n",
       " 0  0  0  0\n",
       " 0  0  0  1\n",
       " 0  0  1  0"
      ]
     },
     "execution_count": 37,
     "metadata": {},
     "output_type": "execute_result"
    }
   ],
   "source": [
    "# correlated \n",
    "n = 4\n",
    "μ = 2*rand(n) .- 1\n",
    "Σ_kernel = 2*rand(n,n) .- 1\n",
    "Σ = Σ_kernel*transpose(Σ_kernel)\n",
    "println(isposdef(Σ))\n",
    "threshold = .1\n",
    "market_graph = (Σ .> threshold)\n",
    "market_graph_complement = (market_graph .+ 1) .% 2\n"
   ]
  },
  {
   "cell_type": "code",
   "execution_count": 38,
   "id": "cc73ddb4-033f-4ec1-8830-8e86b12463ce",
   "metadata": {},
   "outputs": [
    {
     "name": "stdout",
     "output_type": "stream",
     "text": [
      "true\n"
     ]
    },
    {
     "data": {
      "text/plain": [
       "4×4 Matrix{Int64}:\n",
       " 1  0  1  0\n",
       " 0  1  1  1\n",
       " 1  1  1  0\n",
       " 0  1  0  1"
      ]
     },
     "execution_count": 38,
     "metadata": {},
     "output_type": "execute_result"
    }
   ],
   "source": [
    "# anticorrelated \n",
    "n = 4\n",
    "μ = 2*rand(n) .- 1\n",
    "Σ_kernel = 2*rand(n,n) .- 1\n",
    "Σ = Σ_kernel*transpose(Σ_kernel)\n",
    "println(isposdef(Σ))\n",
    "threshold = -.1\n",
    "market_graph = (Σ .< threshold)\n",
    "market_graph_complement = (market_graph .+ 1) .% 2"
   ]
  }
 ],
 "metadata": {
  "kernelspec": {
   "display_name": "Julia 1.7.2",
   "language": "julia",
   "name": "julia-1.7"
  },
  "language_info": {
   "file_extension": ".jl",
   "mimetype": "application/julia",
   "name": "julia",
   "version": "1.7.2"
  }
 },
 "nbformat": 4,
 "nbformat_minor": 5
}
