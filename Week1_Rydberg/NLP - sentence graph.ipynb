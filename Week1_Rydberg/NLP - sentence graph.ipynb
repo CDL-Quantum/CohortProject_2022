{
 "cells": [
  {
   "cell_type": "code",
   "execution_count": 21,
   "id": "3c49a303",
   "metadata": {},
   "outputs": [
    {
     "name": "stdout",
     "output_type": "stream",
     "text": [
      "Quantum computing is one of the hottest topics in the technology sector today\n",
      "The technology is enabling individuals and companies to solve computational problems that were previously considered intractable\n",
      "Cryptography, chemistry, quantum simulation, optimization, machine learning, and numerous other fields have been significantly impacted by this technology\n",
      "While quantum computers aren’t going to replace classical computers immediately, quantum technology is significantly changing the way the world operates\n",
      "Many entities are focused on developing quantum computing hardware since this is the core bottleneck today\n",
      "\n",
      "Graph [[0.         0.1118034  0.20412415 0.24333213 0.31980107]\n",
      " [0.1118034  0.         0.09128709 0.         0.        ]\n",
      " [0.20412415 0.09128709 0.         0.26490647 0.        ]\n",
      " [0.24333213 0.         0.26490647 0.         0.13834289]\n",
      " [0.31980107 0.         0.         0.13834289 0.        ]]\n",
      "MIS result  [1, 3]\n",
      "Indexes of top ranked_sentence order are  [(0.3083424691227565, ['Quantum', 'computing', 'is', 'one', 'of', 'the', 'hottest', 'topics', 'in', 'the', 'technology', 'sector', 'today']), (0.2278462707106821, ['While', 'quantum', 'computers', 'aren’t', 'going', 'to', 'replace', 'classical', 'computers', 'immediately,', 'quantum', 'technology', 'is', 'significantly', 'changing', 'the', 'way', 'the', 'world', 'operates']), (0.2052650202057265, ['Cryptography,', 'chemistry,', 'quantum', 'simulation,', 'optimization,', 'machine', 'learning,', 'and', 'numerous', 'other', 'fields', 'have', 'been', 'significantly', 'impacted', 'by', 'this', 'technology']), (0.16678653599032867, ['Many', 'entities', 'are', 'focused', 'on', 'developing', 'quantum', 'computing', 'hardware', 'since', 'this', 'is', 'the', 'core', 'bottleneck', 'today']), (0.09175970397050606, ['The', 'technology', 'is', 'enabling', 'individuals', 'and', 'companies', 'to', 'solve', 'computational', 'problems', 'that', 'were', 'previously', 'considered', 'intractable'])]\n",
      "Summarize Text: \n",
      " Quantum computing is one of the hottest topics in the technology sector today. While quantum computers aren’t going to replace classical computers immediately, quantum technology is significantly changing the way the world operates\n"
     ]
    },
    {
     "data": {
      "image/png": "[encoded data removed]",
      "text/plain": [
       "<Figure size 432x288 with 1 Axes>"
      ]
     },
     "metadata": {},
     "output_type": "display_data"
    }
   ],
   "source": [
    "from nltk.corpus import stopwords\n",
    "from nltk.cluster.util import cosine_distance\n",
    "import numpy as np\n",
    "import networkx as nx\n",
    "import matplotlib\n",
    "\n",
    "threshold = 0.09\n",
    "\n",
    "%matplotlib inline\n",
    "    \n",
    "def read_article(file_name):\n",
    "    file = open(file_name, \"r\")\n",
    "    filedata = file.readlines()\n",
    "    article = filedata[0].split(\". \")\n",
    "    sentences = []\n",
    "\n",
    "    for sentence in article:\n",
    "        print(sentence)\n",
    "        sentences.append(sentence.replace(\"[^a-zA-Z]\", \" \").split(\" \"))\n",
    "    sentences.pop() \n",
    "    \n",
    "    return sentences\n",
    "\n",
    "def sentence_similarity(sent1, sent2, stopwords=None):\n",
    "    if stopwords is None:\n",
    "        stopwords = []\n",
    " \n",
    "    sent1 = [w.lower() for w in sent1]\n",
    "    sent2 = [w.lower() for w in sent2]\n",
    " \n",
    "    all_words = list(set(sent1 + sent2))\n",
    " \n",
    "    vector1 = [0] * len(all_words)\n",
    "    vector2 = [0] * len(all_words)\n",
    " \n",
    "    # build the vector for the first sentence\n",
    "    for w in sent1:\n",
    "        if w in stopwords:\n",
    "            continue\n",
    "        vector1[all_words.index(w)] += 1\n",
    " \n",
    "    # build the vector for the second sentence\n",
    "    for w in sent2:\n",
    "        if w in stopwords:\n",
    "            continue\n",
    "        vector2[all_words.index(w)] += 1\n",
    " \n",
    "    return 1 - cosine_distance(vector1, vector2)\n",
    " \n",
    "def build_similarity_matrix(sentences, stop_words):\n",
    "    # Create an empty similarity matrix\n",
    "    similarity_matrix = np.zeros((len(sentences), len(sentences)))\n",
    " \n",
    "    for idx1 in range(len(sentences)):\n",
    "        for idx2 in range(len(sentences)):\n",
    "            if idx1 == idx2: #ignore if both are same sentences\n",
    "                continue \n",
    "            similarity_matrix[idx1][idx2] = sentence_similarity(sentences[idx1], sentences[idx2], stop_words)\n",
    "            if similarity_matrix[idx1][idx2] < threshold:\n",
    "                similarity_matrix[idx1][idx2] = 0.\n",
    "            \n",
    "    return similarity_matrix\n",
    "\n",
    "\n",
    "def generate_summary(file_name, top_n=5):\n",
    "    stop_words = stopwords.words('english')\n",
    "    summarize_text = []\n",
    "\n",
    "    # Step 1 - Read text anc split it\n",
    "    sentences =  read_article(file_name)\n",
    "\n",
    "    # Step 2 - Generate Similary Martix across sentences\n",
    "    sentence_similarity_martix = build_similarity_matrix(sentences, stop_words)\n",
    "\n",
    "    # Step 3 - Rank sentences in similarity martix\n",
    "    sentence_similarity_graph = nx.from_numpy_array(sentence_similarity_martix)\n",
    "    print(\"Graph\", sentence_similarity_martix)\n",
    "    nx.draw_networkx(sentence_similarity_graph, with_labels=True)\n",
    "    \n",
    "    print(\"MIS result \", nx.maximal_independent_set(sentence_similarity_graph))\n",
    "    \n",
    "    \n",
    "    scores = nx.pagerank(sentence_similarity_graph)\n",
    "\n",
    "    # Step 4 - Sort the rank and pick top sentences\n",
    "    ranked_sentence = sorted(((scores[i],s) for i,s in enumerate(sentences)), reverse=True)    \n",
    "    print(\"Indexes of top ranked_sentence order are \", ranked_sentence)    \n",
    "\n",
    "    for i in range(top_n):\n",
    "      summarize_text.append(\" \".join(ranked_sentence[i][1]))\n",
    "\n",
    "    # Step 5 - Offcourse, output the summarize texr\n",
    "    print(\"Summarize Text: \\n\", \". \".join(summarize_text))\n",
    "\n",
    "# let's begin\n",
    "generate_summary( \"qtext.txt\", 2)"
   ]
  },
  {
   "cell_type": "code",
   "execution_count": 22,
   "id": "b9b9e304",
   "metadata": {},
   "outputs": [
    {
     "name": "stdout",
     "output_type": "stream",
     "text": [
      "The tower is 324 metres (1,063 ft) tall\n",
      "About the same height as an 81-storey building\n",
      "It was the tallest structure in Paris\n",
      "Its base is square, measuring 125 metres (410 ft) on each side\n",
      "It was the first structure to reach a height of 300 metres\n",
      "Excluding transmitters, the Eiffel Tower is the second tallest free-standing structure in France after the Millau Viaduct.\n",
      "Graph [[0.         0.         0.         0.28867513 0.16666667]\n",
      " [0.         0.         0.         0.         0.23570226]\n",
      " [0.         0.         0.         0.         0.23570226]\n",
      " [0.28867513 0.         0.         0.         0.14433757]\n",
      " [0.16666667 0.23570226 0.23570226 0.14433757 0.        ]]\n",
      "MIS result  [1, 0, 2]\n",
      "Indexes of top ranked_sentence order are  [(0.35549616273111606, ['It', 'was', 'the', 'first', 'structure', 'to', 'reach', 'a', 'height', 'of', '300', 'metres']), (0.2057998481372572, ['The', 'tower', 'is', '324', 'metres', '(1,063', 'ft)', 'tall']), (0.19664518841717618, ['Its', 'base', 'is', 'square,', 'measuring', '125', 'metres', '(410', 'ft)', 'on', 'each', 'side']), (0.1210294003572252, ['It', 'was', 'the', 'tallest', 'structure', 'in', 'Paris']), (0.1210294003572252, ['About', 'the', 'same', 'height', 'as', 'an', '81-storey', 'building'])]\n",
      "Summarize Text: \n",
      " It was the first structure to reach a height of 300 metres. The tower is 324 metres (1,063 ft) tall\n"
     ]
    },
    {
     "data": {
      "image/png": "[encoded data removed]",
      "text/plain": [
       "<Figure size 432x288 with 1 Axes>"
      ]
     },
     "metadata": {},
     "output_type": "display_data"
    }
   ],
   "source": [
    "generate_summary( \"tower.txt\", 2)"
   ]
  },
  {
   "cell_type": "code",
   "execution_count": null,
   "id": "cbe9ce9c",
   "metadata": {},
   "outputs": [],
   "source": []
  }
 ],
 "metadata": {
  "kernelspec": {
   "display_name": "Python 3",
   "language": "python",
   "name": "python3"
  },
  "language_info": {
   "codemirror_mode": {
    "name": "ipython",
    "version": 3
   },
   "file_extension": ".py",
   "mimetype": "text/x-python",
   "name": "python",
   "nbconvert_exporter": "python",
   "pygments_lexer": "ipython3",
   "version": "3.8.11"
  }
 },
 "nbformat": 4,
 "nbformat_minor": 5
}
