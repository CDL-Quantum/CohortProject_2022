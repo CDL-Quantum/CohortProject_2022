{
 "cells": [
  {
   "cell_type": "code",
   "execution_count": 1,
   "metadata": {},
   "outputs": [],
   "source": [
    "import numpy as np\n",
    "from utility import *"
   ]
  },
  {
   "cell_type": "code",
   "execution_count": 4,
   "metadata": {},
   "outputs": [],
   "source": [
    "def gen_qbham(h, nqb = None):\n",
    "\n",
    "    I, X, Y, Z = np.identity(2), np.array([[0, 1], [1, 0]]), np.array([[0, -1j], [1j, 0]]), np.array([[1, 0], [0, -1]])\n",
    "\n",
    "    # Build matrix representiation of the Hamiltonian H\n",
    "    if(nqb is None):\n",
    "        n_qubits = openfermion.count_qubits(h)\n",
    "    else:\n",
    "        n_qubits = nqb   \n",
    "\n",
    "    h_matrix = np.zeros((2**n_qubits, 2**n_qubits), dtype=np.complex)\n",
    "    for term, term_coeff in h.terms.items(): # Iterate over pauli-words of H\n",
    "        term = dict(term) # Dict[qubit_index, 'X'/'Y'/'Z']\n",
    "\n",
    "        # Build matrix rep of current pauli-word using kronecker product to represent x_i y_j ...\n",
    "        pw_matrix = np.identity(1)\n",
    "        for i in range(n_qubits):\n",
    "            if i not in term:        pw_matrix = np.kron(pw_matrix, I)\n",
    "            else:\n",
    "                if term[i] == 'X':   pw_matrix = np.kron(pw_matrix, X)\n",
    "                elif term[i] == 'Y': pw_matrix = np.kron(pw_matrix, Y)\n",
    "                else:                pw_matrix = np.kron(pw_matrix, Z)\n",
    "        h_matrix += pw_matrix * term_coeff\n",
    "\n",
    "    return h_matrix\n",
    "\n",
    "\n",
    "def op_var(op, wf):\n",
    "    \n",
    "    op2 = np.dot(op, op)\n",
    "    var = np.dot(np.dot(wf.conj(),op2),wf) - np.dot(np.dot(wf.conj(),op),wf)**2\n",
    "    \n",
    "    return var"
   ]
  },
  {
   "cell_type": "code",
   "execution_count": 6,
   "metadata": {},
   "outputs": [
    {
     "name": "stdout",
     "output_type": "stream",
     "text": [
      "Number of qubits needed: 4\n",
      "H variance:  (-4.440892098500626e-16+0j)\n"
     ]
    }
   ],
   "source": [
    "h = get_qubit_hamiltonian(mol='h2', geometry=0.741, basis='sto3g', qubit_transf='jw')\n",
    "n_qubits = openfermion.count_qubits(h)\n",
    "print('Number of qubits needed:',n_qubits)\n",
    "\n",
    "h_m = gen_qbham(h) \n",
    "evals, evecs = np.linalg.eigh(h_m) \n",
    "psi = evecs[:,0]\n",
    "var_h = op_var(h_m, psi)\n",
    "print('H variance: ', var_h)"
   ]
  },
  {
   "cell_type": "code",
   "execution_count": 7,
   "metadata": {},
   "outputs": [
    {
     "name": "stdout",
     "output_type": "stream",
     "text": [
      "QWC N_T: (31208.047958562664+0j)\n",
      "FC N_T: (32929.34741061861+0j)\n"
     ]
    }
   ],
   "source": [
    "etol = 1.0e-3\n",
    "\n",
    "#Error estimate from qubit-wise commuting partitioning\n",
    "qwc_list = get_qwc_group(h)    \n",
    "var_qwc = []\n",
    "for qwc in qwc_list:\n",
    "    uz = get_zform_unitary(qwc) #unitary rotation for z-gate measurement\n",
    "    allz = remove_complex(uz * qwc * uz)\n",
    "       \n",
    "    uhn = gen_qbham(allz, n_qubits)\n",
    "    var_hn = op_var(uhn, psi)\n",
    "    var_qwc.append(var_hn**0.5)\n",
    "\n",
    "print('QWC N_T:', (np.sum(var_qwc)/etol)**2)\n",
    "    \n",
    "#Error estimate from fully commuting partitioning\n",
    "comm_groups = get_commuting_group(h) \n",
    "var_fc = []\n",
    "for hn in comm_groups.values():\n",
    "    uqwc = get_qwc_unitary(hn)\n",
    "    qwc = remove_complex(uqwc * hn * uqwc)\n",
    "    \n",
    "    uz = get_zform_unitary(qwc) #unitary rotation for z-gate measurement\n",
    "    allz = remove_complex(uz * qwc * uz)\n",
    "    \n",
    "    uhn = gen_qbham(allz, n_qubits)\n",
    "    var_hn = op_var(uhn, psi)\n",
    "    var_fc.append(var_hn**0.5)\n",
    "    \n",
    "print('FC N_T:', (np.sum(var_fc)/etol)**2)"
   ]
  },
  {
   "cell_type": "code",
   "execution_count": null,
   "metadata": {},
   "outputs": [],
   "source": []
  }
 ],
 "metadata": {
  "kernelspec": {
   "display_name": "tql-kernel",
   "language": "python",
   "name": "tql-kernel"
  },
  "language_info": {
   "codemirror_mode": {
    "name": "ipython",
    "version": 3
   },
   "file_extension": ".py",
   "mimetype": "text/x-python",
   "name": "python",
   "nbconvert_exporter": "python",
   "pygments_lexer": "ipython3",
   "version": "3.7.1"
  }
 },
 "nbformat": 4,
 "nbformat_minor": 2
}
