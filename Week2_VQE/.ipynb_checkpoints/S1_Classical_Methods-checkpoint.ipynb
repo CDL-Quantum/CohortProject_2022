{
 "cells": [
  {
   "cell_type": "markdown",
   "metadata": {},
   "source": [
    "# Review of classical electronic structure methods \n",
    "\n",
    "In order to assess the performance of quantum computing algorithms in addressing the electronic structure problem, we will briefly review a few commonly employed classical electronic structure methods of varying level of approximation. \n",
    "\n",
    "## Hartree-Fock\n",
    "\n",
    "The Hartree-Fock (HF) method employs a **mean-field approximation**, where Coulomb correlation of electrons is neglected. The HF wavefunction is hence restricted to the form of a single Slater determinant, for which the optimal form may be acquired by an optimization of the underlying single particle basis (orbitals). Once the optimal HF orbitals have been found, the HF state may be written as \n",
    "\n",
    "$$ | \\text{HF} \\rangle = \\prod_{p \\in \\text{occ}} \\hat a^\\dagger_p | \\text{vac} \\rangle $$\n",
    "\n",
    "where $\\hat a^\\dagger_p$ creates an electron in the $p^{\\rm{th}}$ optimized HF spin orbital, and  $| \\text{vac} \\rangle$ is the vacuum state (all spin-orbitals unoccupied). Due to the restriction to a single Slater determinant, the HF energy may be obtained very efficiently and can be applied to very large molecules, however it becomes qualitatively incorrect when **electronic correlations** become sufficiently strong. The HF wavefunction is often used as a starting point in more accurate treatments of electronic correlation. \n",
    "\n",
    "## Coupled cluster\n",
    "\n",
    "The Coupled cluster (CC) method introduces electronic correlation to the wavefunction ansatz by operating on the HF reference state with the exponential of excitation operators\n",
    "\n",
    "$$|\\text{CC} \\rangle = e^{\\hat T} | \\text{HF}\\rangle, \\quad \\hat T = \\hat T_1 + \\hat T_2 + ...$$\n",
    "\n",
    "where $\\hat T_1 = \\sum_{ia} t^{a}_i \\hat a^\\dagger_a \\hat a_i$ are referred to as 'singles', $\\hat T_2 = \\sum_{ijab} t^{ab}_{ij} \\hat a^\\dagger_a \\hat a^\\dagger_b \\hat a_i \\hat a_j$ as 'doubles', etc. When the excitation rank is truncated to only singles (S) and doubles (D), $\\hat T = \\hat T_1 + \\hat T_2$, the corresponding ansatz is referred to as CCSD. Since the number of possible single and double excitations for a system of $N$ electrons in $M$ orbitals is polynomial in $M$, one can efficiently solve a system of equations to obtain the optimized CCSD amplitudes. CCSD often gives accurate energies and can be applied to modestly sized chemical systems. However, due to its implementation, it can **violate the variational principle** and give energies lower than the ground state.\n",
    "\n",
    "## Full Configuration Interaction\n",
    "The full configuration interaction (FCI) method yields the **exact ground state energy** within a given basis set. The FCI wavefunction is written as a linear combination of all possible $N$-particle Slater determinants over the orbital basis\n",
    "$$|\\text{FCI} \\rangle =  \\left( \\sum_{ia} C^{a}_i \\hat a^\\dagger_a \\hat a_i + \\sum_{ijab} C^{ab}_{ij} \\hat a^\\dagger_a \\hat a^\\dagger_b \\hat a_i \\hat a_j + ...  \\right) | \\text{HF} \\rangle $$\n",
    "where the sum includes up to $N$-electron excitations, and hence there are an exponential number of coefficients to optimize in $| \\text{FCI} \\rangle$. Due to its **exponential complexity**, FCI is often reserved for only the smallest chemical systems. However, it serves as a useful result to compare to when assessing tractable electronic structure methods."
   ]
  },
  {
   "cell_type": "markdown",
   "metadata": {},
   "source": [
    "# Benchmarking for electronic PESs in minimal basis (STO-3G)\n",
    "\n",
    "We will apply HF, CCSD, and FCI to obtaining the PESs for a few molecular dissociation processes in minimal (STO-3G) basis."
   ]
  },
  {
   "cell_type": "code",
   "execution_count": 1,
   "metadata": {},
   "outputs": [
    {
     "name": "stderr",
     "output_type": "stream",
     "text": [
      "/home/toto/anaconda3/envs/tequila/lib/python3.7/site-packages/pyscf/lib/misc.py:46: H5pyDeprecationWarning: Using default_file_mode other than 'r' is deprecated. Pass the mode to h5py.File() instead.\n",
      "  h5py.get_config().default_file_mode = 'a'\n"
     ]
    }
   ],
   "source": [
    "import numpy as np\n",
    "import matplotlib.pyplot as plt\n",
    "from utility import get_molecular_data, obtain_PES\n",
    "\n",
    "basis = 'sto-3g'"
   ]
  },
  {
   "cell_type": "markdown",
   "metadata": {},
   "source": [
    "## H<sub>2</sub>"
   ]
  },
  {
   "cell_type": "code",
   "execution_count": 2,
   "metadata": {},
   "outputs": [],
   "source": [
    "bond_lengths = np.linspace(0.2,2.6,15)"
   ]
  },
  {
   "cell_type": "code",
   "execution_count": 12,
   "metadata": {},
   "outputs": [
    {
     "name": "stdout",
     "output_type": "stream",
     "text": [
      "converged SCF energy = -13.6461406230644\n",
      "E = -13.688259672346549 Eh\n",
      "converged SCF energy = -14.6638476533708\n",
      "E = -14.695428653988124 Eh\n",
      "converged SCF energy = -15.1793308876539\n",
      "E = -15.205533452190364 Eh\n",
      "converged SCF energy = -15.4282500554304\n",
      "E = -15.453764177169944 Eh\n",
      "converged SCF energy = -15.5340149232253\n",
      "E = -15.561971899387295 Eh\n",
      "converged SCF energy = -15.5613330259289\n",
      "E = -15.594201676920255 Eh\n",
      "converged SCF energy = -15.5449469082172\n",
      "E = -15.585133442318423 Eh\n",
      "converged SCF energy = -15.5040855166709\n",
      "E = -15.55427855494315 Eh\n",
      "converged SCF energy = -15.4498051446317\n",
      "E = -15.513168580260382 Eh\n",
      "converged SCF energy = -15.3888479081095\n",
      "E = -15.469136621394696 Eh\n",
      "converged SCF energy = -15.3256048118447\n",
      "E = -15.42725766486918 Eh\n",
      "converged SCF energy = -15.2631136354313\n",
      "E = -15.39136576402699 Eh\n",
      "converged SCF energy = -15.2035735745471\n",
      "E = -15.364464751211736 Eh\n",
      "converged SCF energy = -15.148605594184\n",
      "E = -15.347999673370525 Eh\n",
      "converged SCF energy = -15.099392142745\n",
      "E = -15.340207695686882 Eh\n"
     ]
    }
   ],
   "source": [
    "#Run FCI\n",
    "FCI_PES = obtain_PES('beh2', bond_lengths, basis, method='fci')"
   ]
  },
  {
   "cell_type": "code",
   "execution_count": 13,
   "metadata": {},
   "outputs": [
    {
     "name": "stdout",
     "output_type": "stream",
     "text": [
      "converged SCF energy = -13.6461406230644\n",
      "E = -13.646140623064404 Eh\n",
      "converged SCF energy = -14.6638476533708\n",
      "E = -14.663847653370777 Eh\n",
      "converged SCF energy = -15.1793308876539\n",
      "E = -15.17933088765393 Eh\n",
      "converged SCF energy = -15.4282500554304\n",
      "E = -15.428250055430365 Eh\n",
      "converged SCF energy = -15.5340149232253\n",
      "E = -15.53401492322532 Eh\n",
      "converged SCF energy = -15.5613330259289\n",
      "E = -15.561333025928958 Eh\n",
      "converged SCF energy = -15.5449469082172\n",
      "E = -15.54494690821732 Eh\n",
      "converged SCF energy = -15.5040855166709\n",
      "E = -15.50408551667098 Eh\n",
      "converged SCF energy = -15.4498051446317\n",
      "E = -15.449805144631704 Eh\n",
      "converged SCF energy = -15.3888479081095\n",
      "E = -15.388847908109456 Eh\n",
      "converged SCF energy = -15.3256048118447\n",
      "E = -15.325604811844695 Eh\n",
      "converged SCF energy = -15.2631136354313\n",
      "E = -15.263113635431278 Eh\n",
      "converged SCF energy = -15.2035735745471\n",
      "E = -15.203573574547054 Eh\n",
      "converged SCF energy = -15.148605594184\n",
      "E = -15.148605594184113 Eh\n",
      "converged SCF energy = -15.099392142745\n",
      "E = -15.099392142745213 Eh\n"
     ]
    }
   ],
   "source": [
    "#Run HF\n",
    "HF_PES = obtain_PES('beh2', bond_lengths, basis,  method='hf')"
   ]
  },
  {
   "cell_type": "code",
   "execution_count": 14,
   "metadata": {},
   "outputs": [
    {
     "name": "stdout",
     "output_type": "stream",
     "text": [
      "converged SCF energy = -13.6461406230644\n",
      "E = -13.687701194825147 Eh\n",
      "converged SCF energy = -14.6638476533708\n",
      "E = -14.695014249192615 Eh\n",
      "converged SCF energy = -15.1793308876539\n",
      "E = -15.205227144514186 Eh\n",
      "converged SCF energy = -15.4282500554304\n",
      "E = -15.453496775543133 Eh\n",
      "converged SCF energy = -15.5340149232253\n",
      "E = -15.561690060906587 Eh\n",
      "converged SCF energy = -15.5613330259289\n",
      "E = -15.59385059679556 Eh\n",
      "converged SCF energy = -15.5449469082172\n",
      "E = -15.584638043844613 Eh\n",
      "converged SCF energy = -15.5040855166709\n",
      "E = -15.553517203914126 Eh\n",
      "converged SCF energy = -15.4498051446317\n",
      "E = -15.511925849344351 Eh\n",
      "converged SCF energy = -15.3888479081095\n",
      "E = -15.467032318499287 Eh\n",
      "converged SCF energy = -15.3256048118447\n",
      "E = -15.423676660932239 Eh\n",
      "converged SCF energy = -15.2631136354313\n",
      "E = -15.385597628793073 Eh\n",
      "converged SCF energy = -15.2035735745471\n",
      "E = -15.356714945515183 Eh\n",
      "converged SCF energy = -15.148605594184\n",
      "E = -15.340649660813197 Eh\n",
      "converged SCF energy = -15.099392142745\n",
      "E = -15.335087030783754 Eh\n"
     ]
    }
   ],
   "source": [
    "#Run CCSD\n",
    "CCSD_PES = obtain_PES('beh2', bond_lengths, basis,  method='ccsd')"
   ]
  },
  {
   "cell_type": "code",
   "execution_count": 15,
   "metadata": {},
   "outputs": [
    {
     "data": {
      "text/plain": [
       "<matplotlib.legend.Legend at 0x7fbbcc3a26d8>"
      ]
     },
     "execution_count": 15,
     "metadata": {},
     "output_type": "execute_result"
    },
    {
     "data": {
      "image/png": "[encoded data removed]",
      "text/plain": [
       "<Figure size 432x288 with 1 Axes>"
      ]
     },
     "metadata": {
      "needs_background": "light"
     },
     "output_type": "display_data"
    }
   ],
   "source": [
    "#Plot H2 PESs\n",
    "\n",
    "plt.title('Beh2 dissociation, STO-3G')\n",
    "plt.xlabel('R, Angstrom')\n",
    "plt.ylabel('E, Hartree')\n",
    "\n",
    "plt.plot(bond_lengths, FCI_PES, label='FCI')\n",
    "plt.scatter(bond_lengths, HF_PES, label='HF', color='orange')\n",
    "plt.scatter(bond_lengths, CCSD_PES, label='CCSD', color='purple')\n",
    "plt.legend()"
   ]
  },
  {
   "cell_type": "markdown",
   "metadata": {},
   "source": [
    "<img src=\"figs/testimage.png\">"
   ]
  },
  {
   "cell_type": "markdown",
   "metadata": {},
   "source": [
    "## H<sub>2</sub>O symmetric O-H dissociation"
   ]
  },
  {
   "cell_type": "code",
   "execution_count": 7,
   "metadata": {},
   "outputs": [],
   "source": [
    "bond_lengths = np.linspace(0.5,2.7,15)"
   ]
  },
  {
   "cell_type": "code",
   "execution_count": 8,
   "metadata": {},
   "outputs": [
    {
     "name": "stdout",
     "output_type": "stream",
     "text": [
      "converged SCF energy = -73.1294523897688\n",
      "E = -73.14266064419186 Eh\n",
      "converged SCF energy = -74.4533755394604\n",
      "E = -74.4751075124485 Eh\n",
      "converged SCF energy = -74.870474914869\n",
      "E = -74.90403466185086 Eh\n",
      "converged SCF energy = -74.9629980695871\n",
      "E = -75.01375475283753 Eh\n",
      "converged SCF energy = -74.9280772606054\n",
      "E = -75.00350455957073 Eh\n",
      "converged SCF energy = -74.8427106360511\n",
      "E = -74.95165998270585 Eh\n",
      "converged SCF energy = -74.7404009823898\n",
      "E = -74.89214773895245 Eh\n",
      "converged SCF energy = -74.635639705213\n",
      "E = -74.83920106144603 Eh\n",
      "converged SCF energy = -74.5355993564524\n",
      "E = -74.79864247355965 Eh\n",
      "converged SCF energy = -74.4447494379007\n",
      "E = -74.77160104176522 Eh\n",
      "converged SCF energy = -74.3648409739232\n",
      "E = -74.75568062884756 Eh\n",
      "converged SCF energy = -74.2975641705531\n",
      "E = -74.74704179511413 Eh\n",
      "converged SCF energy = -74.2414470355423\n",
      "E = -74.74248580253669 Eh\n",
      "converged SCF energy = -74.2701898592245\n",
      "E = -74.74007321750207 Eh\n",
      "SCF not converged.\n",
      "SCF energy = -72.9779091970606\n",
      "E = -74.73877996591855 Eh\n"
     ]
    }
   ],
   "source": [
    "#Run FCI\n",
    "FCI_PES = obtain_PES('h2o', bond_lengths, basis, method='fci')"
   ]
  },
  {
   "cell_type": "code",
   "execution_count": 9,
   "metadata": {},
   "outputs": [
    {
     "name": "stdout",
     "output_type": "stream",
     "text": [
      "converged SCF energy = -73.1294523897688\n",
      "E = -73.12945238976879 Eh\n",
      "converged SCF energy = -74.4533755394604\n",
      "E = -74.45337553946032 Eh\n",
      "converged SCF energy = -74.870474914869\n",
      "E = -74.87047491486898 Eh\n",
      "converged SCF energy = -74.9629980695871\n",
      "E = -74.96299806958714 Eh\n",
      "converged SCF energy = -74.9280772606054\n",
      "E = -74.92807726060542 Eh\n",
      "converged SCF energy = -74.8427106360511\n",
      "E = -74.84271063605114 Eh\n",
      "converged SCF energy = -74.7404009823898\n",
      "E = -74.74040098238984 Eh\n",
      "converged SCF energy = -74.635639705213\n",
      "E = -74.63563970521292 Eh\n",
      "converged SCF energy = -74.5355993564524\n",
      "E = -74.5355993564522 Eh\n",
      "converged SCF energy = -74.4447494379007\n",
      "E = -74.44474943790088 Eh\n",
      "converged SCF energy = -74.3648409739232\n",
      "E = -74.36484097367011 Eh\n",
      "converged SCF energy = -74.2975641705531\n",
      "E = -74.29756417047129 Eh\n",
      "converged SCF energy = -74.2414470355423\n",
      "E = -74.24144703553984 Eh\n",
      "converged SCF energy = -74.2701898592245\n",
      "E = -74.27018985922447 Eh\n",
      "SCF not converged.\n",
      "SCF energy = -72.9779091970606\n",
      "E = -74.27384558971953 Eh\n"
     ]
    }
   ],
   "source": [
    "#Run HF\n",
    "HF_PES = obtain_PES('h2o', bond_lengths, basis,  method='hf')"
   ]
  },
  {
   "cell_type": "code",
   "execution_count": 10,
   "metadata": {},
   "outputs": [
    {
     "name": "stdout",
     "output_type": "stream",
     "text": [
      "converged SCF energy = -73.1294523897688\n",
      "E = -73.14264199013864 Eh\n",
      "converged SCF energy = -74.4533755394604\n",
      "E = -74.47507181152251 Eh\n",
      "converged SCF energy = -74.870474914869\n",
      "E = -74.90396572546004 Eh\n",
      "converged SCF energy = -74.9629980695871\n",
      "E = -75.01362375104931 Eh\n",
      "converged SCF energy = -74.9280772606054\n",
      "E = -75.00323818884034 Eh\n",
      "converged SCF energy = -74.8427106360511\n",
      "E = -74.95111229479164 Eh\n",
      "converged SCF energy = -74.7404009823898\n",
      "E = -74.89124014326607 Eh\n",
      "converged SCF energy = -74.635639705213\n",
      "E = -74.83851102902908 Eh\n",
      "converged SCF energy = -74.5355993564524\n",
      "E = -74.80070751299603 Eh\n",
      "converged SCF energy = -74.4447494379007\n",
      "E = -74.78108881825993 Eh\n",
      "converged SCF energy = -74.3648409739232\n",
      "E = -74.77699594674745 Eh\n",
      "converged SCF energy = -74.2975641705531\n",
      "E = -74.77975997839296 Eh\n",
      "converged SCF energy = -74.2414470355423\n",
      "E = -74.78341476280087 Eh\n",
      "converged SCF energy = -74.2701898592245\n",
      "E = -74.64238990015475 Eh\n",
      "SCF not converged.\n",
      "SCF energy = -72.9779091970606\n",
      "E = -72.96891630062034 Eh\n"
     ]
    }
   ],
   "source": [
    "#Run CCSD\n",
    "CCSD_PES = obtain_PES('h2o', bond_lengths, basis,  method='ccsd')"
   ]
  },
  {
   "cell_type": "code",
   "execution_count": 11,
   "metadata": {},
   "outputs": [
    {
     "data": {
      "text/plain": [
       "<matplotlib.legend.Legend at 0x7fbbcc40d160>"
      ]
     },
     "execution_count": 11,
     "metadata": {},
     "output_type": "execute_result"
    },
    {
     "data": {
      "image/png": "[encoded data removed]",
      "text/plain": [
       "<Figure size 432x288 with 1 Axes>"
      ]
     },
     "metadata": {
      "needs_background": "light"
     },
     "output_type": "display_data"
    }
   ],
   "source": [
    "#Plot H2O PESs\n",
    "\n",
    "plt.title('H2O symmetric dissociation, STO-3G')\n",
    "plt.xlabel('R, Angstrom')\n",
    "plt.ylabel('E, Hartree')\n",
    "\n",
    "plt.plot(bond_lengths, FCI_PES, label='FCI')\n",
    "plt.scatter(bond_lengths, HF_PES, label='HF', color='orange')\n",
    "plt.scatter(bond_lengths, CCSD_PES, label='CCSD', color='purple')\n",
    "plt.legend()"
   ]
  },
  {
   "cell_type": "code",
   "execution_count": null,
   "metadata": {},
   "outputs": [],
   "source": []
  }
 ],
 "metadata": {
  "kernelspec": {
   "display_name": "tequila",
   "language": "python",
   "name": "tequila"
  },
  "language_info": {
   "codemirror_mode": {
    "name": "ipython",
    "version": 3
   },
   "file_extension": ".py",
   "mimetype": "text/x-python",
   "name": "python",
   "nbconvert_exporter": "python",
   "pygments_lexer": "ipython3",
   "version": "3.7.1"
  }
 },
 "nbformat": 4,
 "nbformat_minor": 2
}
