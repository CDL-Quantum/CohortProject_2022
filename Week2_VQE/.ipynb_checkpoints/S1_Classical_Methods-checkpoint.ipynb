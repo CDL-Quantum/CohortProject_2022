{
 "cells": [
  {
   "cell_type": "markdown",
   "metadata": {},
   "source": [
    "# Review of classical electronic structure methods \n",
    "\n",
    "In order to assess the performance of quantum computing algorithms in addressing the electronic structure problem, we will briefly review a few commonly employed classical electronic structure methods of varying level of approximation. \n",
    "\n",
    "## Hartree-Fock\n",
    "\n",
    "The Hartree-Fock (HF) method employs a **mean-field approximation**, where Coulomb correlation of electrons is neglected. The HF wavefunction is hence restricted to the form of a single Slater determinant, for which the optimal form may be acquired by an optimization of the underlying single particle basis (orbitals). Once the optimal HF orbitals have been found, the HF state may be written as \n",
    "\n",
    "$$ | \\text{HF} \\rangle = \\prod_{p \\in \\text{occ}} \\hat a^\\dagger_p | \\text{vac} \\rangle $$\n",
    "\n",
    "where $\\hat a^\\dagger_p$ creates an electron in the $p^{\\rm{th}}$ optimized HF spin orbital, and  $| \\text{vac} \\rangle$ is the vacuum state (all spin-orbitals unoccupied). Due to the restriction to a single Slater determinant, the HF energy may be obtained very efficiently and can be applied to very large molecules, however it becomes qualitatively incorrect when **electronic correlations** become sufficiently strong. The HF wavefunction is often used as a starting point in more accurate treatments of electronic correlation. \n",
    "\n",
    "## Coupled cluster\n",
    "\n",
    "The Coupled cluster (CC) method introduces electronic correlation to the wavefunction ansatz by operating on the HF reference state with the exponential of excitation operators\n",
    "\n",
    "$$|\\text{CC} \\rangle = e^{\\hat T} | \\text{HF}\\rangle, \\quad \\hat T = \\hat T_1 + \\hat T_2 + ...$$\n",
    "\n",
    "where $\\hat T_1 = \\sum_{ia} t^{a}_i \\hat a^\\dagger_a \\hat a_i$ are referred to as 'singles', $\\hat T_2 = \\sum_{ijab} t^{ab}_{ij} \\hat a^\\dagger_a \\hat a^\\dagger_b \\hat a_i \\hat a_j$ as 'doubles', etc. When the excitation rank is truncated to only singles (S) and doubles (D), $\\hat T = \\hat T_1 + \\hat T_2$, the corresponding ansatz is referred to as CCSD. Since the number of possible single and double excitations for a system of $N$ electrons in $M$ orbitals is polynomial in $M$, one can efficiently solve a system of equations to obtain the optimized CCSD amplitudes. CCSD often gives accurate energies and can be applied to modestly sized chemical systems. However, due to its implementation, it can **violate the variational principle** and give energies lower than the ground state.\n",
    "\n",
    "## Full Configuration Interaction\n",
    "The full configuration interaction (FCI) method yields the **exact ground state energy** within a given basis set. The FCI wavefunction is written as a linear combination of all possible $N$-particle Slater determinants over the orbital basis\n",
    "$$|\\text{FCI} \\rangle =  \\left( \\sum_{ia} C^{a}_i \\hat a^\\dagger_a \\hat a_i + \\sum_{ijab} C^{ab}_{ij} \\hat a^\\dagger_a \\hat a^\\dagger_b \\hat a_i \\hat a_j + ...  \\right) | \\text{HF} \\rangle $$\n",
    "where the sum includes up to $N$-electron excitations, and hence there are an exponential number of coefficients to optimize in $| \\text{FCI} \\rangle$. Due to its **exponential complexity**, FCI is often reserved for only the smallest chemical systems. However, it serves as a useful result to compare to when assessing tractable electronic structure methods."
   ]
  },
  {
   "cell_type": "markdown",
   "metadata": {},
   "source": [
    "# Benchmarking for electronic PESs in minimal basis (STO-3G)\n",
    "\n",
    "We will apply HF, CCSD, and FCI to obtaining the PESs for a few molecular dissociation processes in minimal (STO-3G) basis."
   ]
  },
  {
   "cell_type": "code",
   "execution_count": 1,
   "metadata": {},
   "outputs": [],
   "source": [
    "import numpy as np\n",
    "import matplotlib.pyplot as plt\n",
    "from utility import get_molecular_data, obtain_PES\n",
    "\n",
    "basis = 'sto-3g'"
   ]
  },
  {
   "cell_type": "markdown",
   "metadata": {},
   "source": [
    "## H<sub>2</sub>"
   ]
  },
  {
   "cell_type": "code",
   "execution_count": 2,
   "metadata": {},
   "outputs": [],
   "source": [
    "bond_lengths = np.linspace(0.2,2.6,15)"
   ]
  },
  {
   "cell_type": "code",
   "execution_count": 3,
   "metadata": {},
   "outputs": [
    {
     "name": "stdout",
     "output_type": "stream",
     "text": [
      "converged SCF energy = 0.164175012061695\n",
      "E = 0.1574821347983626 Eh\n",
      "converged SCF energy = -0.839684083956066\n",
      "E = -0.8488991057547286 Eh\n",
      "converged SCF energy = -1.07486102490599\n",
      "E = -1.0882281842437145 Eh\n",
      "converged SCF energy = -1.11750157922789\n",
      "E = -1.1369289593879268 Eh\n",
      "converged SCF energy = -1.09513510118901\n",
      "E = -1.1229570528666366 Eh\n",
      "converged SCF energy = -1.04953250777026\n",
      "E = -1.088764536606875 Eh\n",
      "converged SCF energy = -0.995976005034107\n",
      "E = -1.0504420373457724 Eh\n",
      "converged SCF energy = -0.941480654707799\n",
      "E = -1.0154682492882454 Eh\n",
      "converged SCF energy = -0.889889958382754\n",
      "E = -0.987393055625748 Eh\n",
      "converged SCF energy = -0.843174458569733\n",
      "E = -0.9670259116896887 Eh\n",
      "converged SCF energy = -0.802135433844889\n",
      "E = -0.953424238929029 Eh\n",
      "converged SCF energy = -0.766864889751916\n",
      "E = -0.9449089871327181 Eh\n",
      "converged SCF energy = -0.737027158095766\n",
      "E = -0.9398197912427146 Eh\n",
      "converged SCF energy = -0.712060259734193\n",
      "E = -0.9368706035430503 Eh\n",
      "converged SCF energy = -0.691327561197378\n",
      "E = -0.9351960308474743 Eh\n"
     ]
    }
   ],
   "source": [
    "#Run FCI\n",
    "FCI_PES = obtain_PES('h2', bond_lengths, basis, method='fci')"
   ]
  },
  {
   "cell_type": "code",
   "execution_count": 4,
   "metadata": {},
   "outputs": [
    {
     "name": "stdout",
     "output_type": "stream",
     "text": [
      "converged SCF energy = 0.164175012061695\n",
      "E = 0.1641750120616945 Eh\n",
      "converged SCF energy = -0.839684083956066\n",
      "E = -0.8396840839560673 Eh\n",
      "converged SCF energy = -1.07486102490599\n",
      "E = -1.0748610249059856 Eh\n",
      "converged SCF energy = -1.11750157922789\n",
      "E = -1.1175015792278888 Eh\n",
      "converged SCF energy = -1.09513510118901\n",
      "E = -1.0951351011890114 Eh\n",
      "converged SCF energy = -1.04953250777026\n",
      "E = -1.049532507770262 Eh\n",
      "converged SCF energy = -0.995976005034107\n",
      "E = -0.9959760050341069 Eh\n",
      "converged SCF energy = -0.941480654707799\n",
      "E = -0.9414806547077987 Eh\n",
      "converged SCF energy = -0.889889958382754\n",
      "E = -0.8898899583827544 Eh\n",
      "converged SCF energy = -0.843174458569733\n",
      "E = -0.8431744585697334 Eh\n",
      "converged SCF energy = -0.802135433844889\n",
      "E = -0.8021354338448896 Eh\n",
      "converged SCF energy = -0.766864889751916\n",
      "E = -0.7668648897519159 Eh\n",
      "converged SCF energy = -0.737027158095766\n",
      "E = -0.7370271580957655 Eh\n",
      "converged SCF energy = -0.712060259734193\n",
      "E = -0.7120602597341927 Eh\n",
      "converged SCF energy = -0.691327561197378\n",
      "E = -0.6913275611973779 Eh\n"
     ]
    }
   ],
   "source": [
    "#Run HF\n",
    "HF_PES = obtain_PES('h2', bond_lengths, basis,  method='hf')"
   ]
  },
  {
   "cell_type": "code",
   "execution_count": 5,
   "metadata": {},
   "outputs": [
    {
     "name": "stdout",
     "output_type": "stream",
     "text": [
      "converged SCF energy = 0.164175012061695\n",
      "E = 0.15748213187554627 Eh\n",
      "converged SCF energy = -0.839684083956066\n",
      "E = -0.8488991194884011 Eh\n",
      "converged SCF energy = -1.07486102490599\n",
      "E = -1.088228226369215 Eh\n",
      "converged SCF energy = -1.11750157922789\n",
      "E = -1.1369290925648163 Eh\n",
      "converged SCF energy = -1.09513510118901\n",
      "E = -1.1229570528701238 Eh\n",
      "converged SCF energy = -1.04953250777026\n",
      "E = -1.0887645366340952 Eh\n",
      "converged SCF energy = -0.995976005034107\n",
      "E = -1.0504420376224524 Eh\n",
      "converged SCF energy = -0.941480654707799\n",
      "E = -1.0154682493815126 Eh\n",
      "converged SCF energy = -0.889889958382754\n",
      "E = -0.9873930560203389 Eh\n",
      "converged SCF energy = -0.843174458569733\n",
      "E = -0.9670259127457664 Eh\n",
      "converged SCF energy = -0.802135433844889\n",
      "E = -0.9534242405781552 Eh\n",
      "converged SCF energy = -0.766864889751916\n",
      "E = -0.9449089882730493 Eh\n",
      "converged SCF energy = -0.737027158095766\n",
      "E = -0.9398197914113715 Eh\n",
      "converged SCF energy = -0.712060259734193\n",
      "E = -0.936870603545118 Eh\n",
      "converged SCF energy = -0.691327561197378\n",
      "E = -0.9351959716501703 Eh\n"
     ]
    }
   ],
   "source": [
    "#Run CCSD\n",
    "CCSD_PES = obtain_PES('h2', bond_lengths, basis,  method='ccsd')"
   ]
  },
  {
   "cell_type": "code",
   "execution_count": 6,
   "metadata": {},
   "outputs": [
    {
     "data": {
      "text/plain": [
       "<matplotlib.legend.Legend at 0x7fa59a3afd00>"
      ]
     },
     "execution_count": 6,
     "metadata": {},
     "output_type": "execute_result"
    },
    {
     "data": {
      "image/png": "[encoded data removed]",
      "text/plain": [
       "<Figure size 432x288 with 1 Axes>"
      ]
     },
     "metadata": {
      "needs_background": "light"
     },
     "output_type": "display_data"
    }
   ],
   "source": [
    "#Plot H2 PESs\n",
    "\n",
    "plt.title('H2 dissociation, STO-3G')\n",
    "plt.xlabel('R, Angstrom')\n",
    "plt.ylabel('E, Hartree')\n",
    "\n",
    "plt.plot(bond_lengths, FCI_PES, label='FCI')\n",
    "plt.scatter(bond_lengths, HF_PES, label='HF', color='orange')\n",
    "plt.scatter(bond_lengths, CCSD_PES, label='CCSD', color='purple')\n",
    "plt.legend()"
   ]
  },
  {
   "cell_type": "markdown",
   "metadata": {},
   "source": [
    "<img src=\"figs/testimage.png\">"
   ]
  },
  {
   "cell_type": "markdown",
   "metadata": {},
   "source": [
    "## H<sub>2</sub>O symmetric O-H dissociation"
   ]
  },
  {
   "cell_type": "code",
   "execution_count": 7,
   "metadata": {},
   "outputs": [],
   "source": [
    "bond_lengths = np.linspace(0.5,2.7,15)"
   ]
  },
  {
   "cell_type": "code",
   "execution_count": 8,
   "metadata": {},
   "outputs": [
    {
     "name": "stdout",
     "output_type": "stream",
     "text": [
      "E = -73.14278405998408 Eh\n",
      "E = -74.47523205267994 Eh\n",
      "E = -74.90413378058085 Eh\n",
      "E = -75.01383133956638 Eh\n",
      "E = -75.00356512166869 Eh\n",
      "E = -74.95170869126753 Eh\n",
      "E = -74.8921864821597 Eh\n",
      "E = -74.83923063661472 Eh\n",
      "E = -74.79866365936665 Eh\n",
      "E = -74.77161515186873 Eh\n",
      "E = -74.75568947216955 Eh\n",
      "E = -74.74704715250577 Eh\n",
      "E = -74.74248898749504 Eh\n",
      "E = -74.74007426355803 Eh\n",
      "Could not converge\n"
     ]
    }
   ],
   "source": [
    "#Run FCI\n",
    "FCI_PES = obtain_PES('h2o', bond_lengths, basis, method='fci')"
   ]
  },
  {
   "cell_type": "code",
   "execution_count": 9,
   "metadata": {},
   "outputs": [
    {
     "name": "stdout",
     "output_type": "stream",
     "text": [
      "E = -73.1294816132027 Eh\n",
      "E = -74.45343797012882 Eh\n",
      "E = -74.87055361048274 Eh\n",
      "E = -74.96308510923824 Eh\n",
      "E = -74.92817508739554 Eh\n",
      "E = -74.84281942863745 Eh\n",
      "E = -74.74051950148719 Eh\n",
      "E = -74.63577758413565 Eh\n",
      "E = -74.5357663865733 Eh\n",
      "E = -74.4449438474384 Eh\n",
      "E = -74.36975504261737 Eh\n",
      "E = -74.29778481417816 Eh\n",
      "E = -74.24167220051008 Eh\n",
      "E = -74.27129957697417 Eh\n",
      "Could not converge\n"
     ]
    }
   ],
   "source": [
    "#Run HF\n",
    "HF_PES = obtain_PES('h2o', bond_lengths, basis,  method='hf')"
   ]
  },
  {
   "cell_type": "code",
   "execution_count": 10,
   "metadata": {},
   "outputs": [
    {
     "name": "stdout",
     "output_type": "stream",
     "text": [
      "E = -73.1427636391869 Eh\n",
      "E = -74.47519485717146 Eh\n",
      "E = -74.90406353010555 Eh\n",
      "E = -75.01370018934803 Eh\n",
      "E = -75.00330155818891 Eh\n",
      "E = -74.95116757042632 Eh\n",
      "E = -74.89128367467832 Eh\n",
      "E = -74.8385340113911 Eh\n",
      "E = -74.80070162375995 Eh\n",
      "E = -74.78105738717322 Eh\n",
      "E = -74.74394274756116 Eh\n",
      "E = -74.77972801511778 Eh\n",
      "E = -74.78338963453125 Eh\n",
      "E = -74.64224434263167 Eh\n",
      "Could not converge\n"
     ]
    }
   ],
   "source": [
    "#Run CCSD\n",
    "CCSD_PES = obtain_PES('h2o', bond_lengths, basis,  method='ccsd')"
   ]
  },
  {
   "cell_type": "code",
   "execution_count": 15,
   "metadata": {},
   "outputs": [
    {
     "data": {
      "text/plain": [
       "<matplotlib.legend.Legend at 0x7f3876d0ff98>"
      ]
     },
     "execution_count": 15,
     "metadata": {},
     "output_type": "execute_result"
    },
    {
     "data": {
      "image/png": "[encoded data removed]",
      "text/plain": [
       "<Figure size 432x288 with 1 Axes>"
      ]
     },
     "metadata": {
      "needs_background": "light"
     },
     "output_type": "display_data"
    }
   ],
   "source": [
    "#Plot H2O PESs\n",
    "\n",
    "plt.title('H2O symmetric dissociation, STO-3G')\n",
    "plt.xlabel('R, Angstrom')\n",
    "plt.ylabel('E, Hartree')\n",
    "\n",
    "plt.plot(bond_lengths, FCI_PES, label='FCI')\n",
    "plt.scatter(bond_lengths, HF_PES, label='HF', color='orange')\n",
    "plt.scatter(bond_lengths, CCSD_PES, label='CCSD', color='purple')\n",
    "plt.legend()"
   ]
  },
  {
   "cell_type": "markdown",
   "metadata": {},
   "source": [
    "# LiH"
   ]
  },
  {
   "cell_type": "code",
   "execution_count": 8,
   "metadata": {},
   "outputs": [],
   "source": [
    "bond_lengths = np.linspace(0.5,2.7,15)"
   ]
  },
  {
   "cell_type": "code",
   "execution_count": 9,
   "metadata": {},
   "outputs": [
    {
     "name": "stdout",
     "output_type": "stream",
     "text": [
      "converged SCF energy = -7.02841009454194\n",
      "E = -7.04790987992546 Eh\n",
      "converged SCF energy = -7.41424633809114\n",
      "E = -7.432419292655318 Eh\n",
      "converged SCF energy = -7.63075319809793\n",
      "E = -7.6482878031886905 Eh\n",
      "converged SCF energy = -7.7521280996913\n",
      "E = -7.768888987795298 Eh\n",
      "converged SCF energy = -7.81770034246342\n",
      "E = -7.834153448652394 Eh\n",
      "converged SCF energy = -7.85014930748359\n",
      "E = -7.86702139400715 Eh\n",
      "converged SCF energy = -7.86235799509204\n",
      "E = -7.880473997009637 Eh\n",
      "converged SCF energy = -7.86186476980866\n",
      "E = -7.88209659992097 Eh\n",
      "converged SCF energy = -7.85332352141747\n",
      "E = -7.876589791832258 Eh\n",
      "converged SCF energy = -7.839723857875\n",
      "E = -7.86700878395266 Eh\n",
      "converged SCF energy = -7.8230284354916\n",
      "E = -7.855405140636218 Eh\n",
      "converged SCF energy = -7.80454513916833\n",
      "E = -7.8431938938050925 Eh\n",
      "converged SCF energy = -7.78516468403137\n",
      "E = -7.831372200202388 Eh\n",
      "converged SCF energy = -7.76551842676235\n",
      "E = -7.820636090683231 Eh\n",
      "converged SCF energy = -7.74607970736098\n",
      "E = -7.81142060055779 Eh\n"
     ]
    }
   ],
   "source": [
    "#Run FCI\n",
    "FCI_PES = obtain_PES('lih', bond_lengths, basis, method='fci')"
   ]
  },
  {
   "cell_type": "code",
   "execution_count": 10,
   "metadata": {},
   "outputs": [
    {
     "name": "stdout",
     "output_type": "stream",
     "text": [
      "converged SCF energy = -7.02841009454194\n",
      "E = -7.028410094541949 Eh\n",
      "converged SCF energy = -7.41424633809114\n",
      "E = -7.414246338092038 Eh\n",
      "converged SCF energy = -7.63075319809793\n",
      "E = -7.630753198102356 Eh\n",
      "converged SCF energy = -7.7521280996913\n",
      "E = -7.752128099691326 Eh\n",
      "converged SCF energy = -7.81770034246342\n",
      "E = -7.817700342463425 Eh\n",
      "converged SCF energy = -7.85014930748359\n",
      "E = -7.850149307483597 Eh\n",
      "converged SCF energy = -7.86235799509204\n",
      "E = -7.862357995093025 Eh\n",
      "converged SCF energy = -7.86186476980866\n",
      "E = -7.8618647698086574 Eh\n",
      "converged SCF energy = -7.85332352141747\n",
      "E = -7.853323521417474 Eh\n",
      "converged SCF energy = -7.839723857875\n",
      "E = -7.839723857875008 Eh\n",
      "converged SCF energy = -7.8230284354916\n",
      "E = -7.823028435491603 Eh\n",
      "converged SCF energy = -7.80454513916833\n",
      "E = -7.804545139168334 Eh\n",
      "converged SCF energy = -7.78516468403137\n",
      "E = -7.785164684031371 Eh\n",
      "converged SCF energy = -7.76551842676235\n",
      "E = -7.765518426762356 Eh\n",
      "converged SCF energy = -7.74607970736098\n",
      "E = -7.746079707360989 Eh\n"
     ]
    }
   ],
   "source": [
    "#Run HF\n",
    "HF_PES = obtain_PES('lih', bond_lengths, basis,  method='hf')"
   ]
  },
  {
   "cell_type": "code",
   "execution_count": 11,
   "metadata": {},
   "outputs": [
    {
     "name": "stdout",
     "output_type": "stream",
     "text": [
      "converged SCF energy = -7.02841009454194\n",
      "E = -7.0479098774480065 Eh\n",
      "converged SCF energy = -7.41424633809114\n",
      "E = -7.432419292687056 Eh\n",
      "converged SCF energy = -7.63075319809793\n",
      "E = -7.648287803201037 Eh\n",
      "converged SCF energy = -7.7521280996913\n",
      "E = -7.768888987849417 Eh\n",
      "converged SCF energy = -7.81770034246342\n",
      "E = -7.8341534334873 Eh\n",
      "converged SCF energy = -7.85014930748359\n",
      "E = -7.867021394305885 Eh\n",
      "converged SCF energy = -7.86235799509204\n",
      "E = -7.880473997509282 Eh\n",
      "converged SCF energy = -7.86186476980866\n",
      "E = -7.882096600731159 Eh\n",
      "converged SCF energy = -7.85332352141747\n",
      "E = -7.8765897918581835 Eh\n",
      "converged SCF energy = -7.839723857875\n",
      "E = -7.867008781594679 Eh\n",
      "converged SCF energy = -7.8230284354916\n",
      "E = -7.855405125983984 Eh\n",
      "converged SCF energy = -7.80454513916833\n",
      "E = -7.843193893583268 Eh\n",
      "converged SCF energy = -7.78516468403137\n",
      "E = -7.83137220004034 Eh\n",
      "converged SCF energy = -7.76551842676235\n",
      "E = -7.820636091591968 Eh\n",
      "converged SCF energy = -7.74607970736098\n",
      "E = -7.811420600878349 Eh\n"
     ]
    }
   ],
   "source": [
    "#Run CCSD\n",
    "CCSD_PES = obtain_PES('lih', bond_lengths, basis,  method='ccsd')"
   ]
  },
  {
   "cell_type": "code",
   "execution_count": 12,
   "metadata": {},
   "outputs": [
    {
     "data": {
      "text/plain": [
       "<matplotlib.legend.Legend at 0x7fa59a3d8700>"
      ]
     },
     "execution_count": 12,
     "metadata": {},
     "output_type": "execute_result"
    },
    {
     "data": {
      "image/png": "[encoded data removed]",
      "text/plain": [
       "<Figure size 432x288 with 1 Axes>"
      ]
     },
     "metadata": {
      "needs_background": "light"
     },
     "output_type": "display_data"
    }
   ],
   "source": [
    "#Plot LiH PESs\n",
    "\n",
    "plt.title('LiH symmetric dissociation, STO-3G')\n",
    "plt.xlabel('R, Angstrom')\n",
    "plt.ylabel('E, Hartree')\n",
    "\n",
    "plt.plot(bond_lengths, FCI_PES, label='FCI')\n",
    "plt.scatter(bond_lengths, HF_PES, label='HF', color='orange')\n",
    "plt.scatter(bond_lengths, CCSD_PES, label='CCSD', color='purple')\n",
    "plt.legend()"
   ]
  },
  {
   "cell_type": "markdown",
   "metadata": {},
   "source": [
    "This is consistent with the results (shown below) from [Kandala et al. Nature 549 (2017)](https://www.nature.com/articles/nature23879). We also see how CCSD is a better approximation to the exact solutions provided by FCI, but it does sometimes violate the variation principle and provide energy estimates lower than the true ground state. HF, however, is a variational principle that always provides an upper bound on FCI. "
   ]
  },
  {
   "cell_type": "markdown",
   "metadata": {},
   "source": [
    "![image.png](https://user-images.githubusercontent.com/10100490/179431371-ab2bee83-1407-41a5-bb2c-6d9f25d602cb.png)"
   ]
  }
 ],
 "metadata": {
  "kernelspec": {
   "display_name": "Python 3 (ipykernel)",
   "language": "python",
   "name": "python3"
  },
  "language_info": {
   "codemirror_mode": {
    "name": "ipython",
    "version": 3
   },
   "file_extension": ".py",
   "mimetype": "text/x-python",
   "name": "python",
   "nbconvert_exporter": "python",
   "pygments_lexer": "ipython3",
   "version": "3.9.12"
  }
 },
 "nbformat": 4,
 "nbformat_minor": 4
}
