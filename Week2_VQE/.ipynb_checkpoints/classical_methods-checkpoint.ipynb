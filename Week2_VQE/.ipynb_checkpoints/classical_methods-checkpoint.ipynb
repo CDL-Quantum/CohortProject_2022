{
 "cells": [
  {
   "cell_type": "markdown",
   "metadata": {},
   "source": [
    "# Review of classical electronic structure methods \n",
    "\n",
    "In order to assess the performance of quantum computing algorithms in addressing the electronic structure problem, we will briefly review a few commonly employed classical electronic structure methods of varying level of approximation. \n",
    "\n",
    "## Hartree-Fock\n",
    "\n",
    "The Hartree-Fock (HF) method employs a **mean-field approximation**, where Coulomb correlation of electrons is neglected. The HF wavefunction is hence restricted to the form of a single Slater determinant, for which the optimal form may be acquired by an optimization of the underlying single particle basis (orbitals). Once the optimal HF orbitals have been found, the HF state may be written as \n",
    "\n",
    "$$ | \\text{HF} \\rangle = \\prod_{p \\in \\text{occ}} \\hat a^\\dagger_p | \\text{vac} \\rangle $$\n",
    "\n",
    "where $\\hat a^\\dagger_p$ creates an electron in the $p^{\\rm{th}}$ optimized HF spin orbital, and  $| \\text{vac} \\rangle$ is the vacuum state (all spin-orbitals unoccupied). Due to the restriction to a single Slater determinant, the HF energy may be obtained very efficiently and can be applied to very large molecules, however it becomes qualitatively incorrect when **electronic correlations** become sufficiently strong. The HF wavefunction is often used as a starting point in more accurate treatments of electronic correlation. \n",
    "\n",
    "## Coupled cluster\n",
    "\n",
    "The Coupled cluster (CC) method introduces electronic correlation to the wavefunction ansatz by operating on the HF reference state with the exponential of excitation operators\n",
    "\n",
    "$$|\\text{CC} \\rangle = e^{\\hat T} | \\text{HF}\\rangle, \\quad \\hat T = \\hat T_1 + \\hat T_2 + ...$$\n",
    "\n",
    "where $\\hat T_1 = \\sum_{ia} t^{a}_i \\hat a^\\dagger_a \\hat a_i$ are referred to as 'singles', $\\hat T_2 = \\sum_{ijab} t^{ab}_{ij} \\hat a^\\dagger_a \\hat a^\\dagger_b \\hat a_i \\hat a_j$ as 'doubles', etc. When the excitation rank is truncated to only singles (S) and doubles (D), $\\hat T = \\hat T_1 + \\hat T_2$, the corresponding ansatz is referred to as CCSD. Since the number of possible single and double excitations for a system of $N$ electrons in $M$ orbitals is polynomial in $M$, one can efficiently solve a system of equations to obtain the optimized CCSD amplitudes. CCSD often gives accurate energies and can be applied to modestly sized chemical systems. However, due to its implementation, it can **violate the variational principle** and give energies lower than the ground state.\n",
    "\n",
    "## Full Configuration Interaction\n",
    "The full configuration interaction (FCI) method yields the **exact ground state energy** within a given basis set. The FCI wavefunction is written as a linear combination of all possible $N$-particle Slater determinants over the orbital basis\n",
    "$$|\\text{FCI} \\rangle =  \\left( \\sum_{ia} C^{a}_i \\hat a^\\dagger_a \\hat a_i + \\sum_{ijab} C^{ab}_{ij} \\hat a^\\dagger_a \\hat a^\\dagger_b \\hat a_i \\hat a_j + ...  \\right) | \\text{HF} \\rangle $$\n",
    "where the sum includes up to $N$-electron excitations, and hence there are an exponential number of coefficients to optimize in $| \\text{FCI} \\rangle$. Due to its **exponential complexity**, FCI is often reserved for only the smallest chemical systems. However, it serves as a useful result to compare to when assessing tractable electronic structure methods."
   ]
  },
  {
   "cell_type": "markdown",
   "metadata": {},
   "source": [
    "# Benchmarking for electronic PESs in minimal basis (STO-3G)\n",
    "\n",
    "We will apply HF, CCSD, and FCI to obtaining the PESs for a few molecular dissociation processes in minimal (STO-3G) basis."
   ]
  },
  {
   "cell_type": "code",
   "execution_count": 1,
   "metadata": {},
   "outputs": [
    {
     "name": "stderr",
     "output_type": "stream",
     "text": [
      "/home/toto/anaconda3/envs/tequila/lib/python3.7/site-packages/pyscf/lib/misc.py:46: H5pyDeprecationWarning: Using default_file_mode other than 'r' is deprecated. Pass the mode to h5py.File() instead.\n",
      "  h5py.get_config().default_file_mode = 'a'\n"
     ]
    }
   ],
   "source": [
    "import numpy as np\n",
    "import matplotlib.pyplot as plt\n",
    "from utility import get_molecular_data, obtain_PES\n",
    "\n",
    "basis = 'sto-3g'"
   ]
  },
  {
   "cell_type": "markdown",
   "metadata": {},
   "source": [
    "## H<sub>2</sub>"
   ]
  },
  {
   "cell_type": "code",
   "execution_count": 5,
   "metadata": {},
   "outputs": [],
   "source": [
    "bond_lengths = np.linspace(0.1, 3, 20)"
   ]
  },
  {
   "cell_type": "code",
   "execution_count": 6,
   "metadata": {},
   "outputs": [
    {
     "name": "stdout",
     "output_type": "stream",
     "text": [
      "converged SCF energy = 2.71588739329275\n",
      "E = 2.709960770867276 Eh\n",
      "converged SCF energy = -0.323755876828869\n",
      "E = -0.33105917972144416 Eh\n",
      "converged SCF energy = -0.914752154964551\n",
      "E = -0.9246510329980269 Eh\n",
      "converged SCF energy = -1.08335326968451\n",
      "E = -1.0971706373244545 Eh\n",
      "converged SCF energy = -1.11750290613135\n",
      "E = -1.136774280335843 Eh\n",
      "converged SCF energy = -1.09991415360857\n",
      "E = -1.12647682433191 Eh\n",
      "converged SCF energy = -1.06163130892239\n",
      "E = -1.0977897419866682 Eh\n",
      "converged SCF energy = -1.01514648442756\n",
      "E = -1.0637898157852796 Eh\n",
      "converged SCF energy = -0.96639556315115\n",
      "E = -1.0308583465310082 Eh\n",
      "converged SCF energy = -0.918800745689801\n",
      "E = -1.0024556333152825 Eh\n",
      "converged SCF energy = -0.874345623411538\n",
      "E = -0.9800529641737533 Eh\n",
      "converged SCF energy = -0.834051457577711\n",
      "E = -0.9636516111562812 Eh\n",
      "converged SCF energy = -0.798318792508427\n",
      "E = -0.9523641748508357 Eh\n",
      "converged SCF energy = -0.767149954044848\n",
      "E = -0.9449665847563831 Eh\n",
      "converged SCF energy = -0.740294215791154\n",
      "E = -0.9402897884689644 Eh\n",
      "converged SCF energy = -0.717358635390298\n",
      "E = -0.9374059293031909 Eh\n",
      "converged SCF energy = -0.697895182585625\n",
      "E = -0.9356577721682918 Eh\n",
      "converged SCF energy = -0.681458669724317\n",
      "E = -0.9346116469380035 Eh\n",
      "converged SCF energy = -0.667634944154382\n",
      "E = -0.9339930174718005 Eh\n",
      "converged SCF energy = -0.656048251145591\n",
      "E = -0.9336318445584981 Eh\n"
     ]
    }
   ],
   "source": [
    "#Run FCI\n",
    "FCI_PES = obtain_PES('h2', bond_lengths, basis, method='fci')"
   ]
  },
  {
   "cell_type": "code",
   "execution_count": 7,
   "metadata": {},
   "outputs": [
    {
     "name": "stdout",
     "output_type": "stream",
     "text": [
      "converged SCF energy = 2.71588739329275\n",
      "E = 2.7158873932927525 Eh\n",
      "converged SCF energy = -0.323755876828869\n",
      "E = -0.32375587682886886 Eh\n",
      "converged SCF energy = -0.914752154964551\n",
      "E = -0.914752154964551 Eh\n",
      "converged SCF energy = -1.08335326968451\n",
      "E = -1.0833532696845152 Eh\n",
      "converged SCF energy = -1.11750290613135\n",
      "E = -1.1175029061313522 Eh\n",
      "converged SCF energy = -1.09991415360857\n",
      "E = -1.0999141536085708 Eh\n",
      "converged SCF energy = -1.06163130892239\n",
      "E = -1.0616313089223874 Eh\n",
      "converged SCF energy = -1.01514648442756\n",
      "E = -1.0151464844275546 Eh\n",
      "converged SCF energy = -0.96639556315115\n",
      "E = -0.9663955631511509 Eh\n",
      "converged SCF energy = -0.918800745689801\n",
      "E = -0.9188007456898013 Eh\n",
      "converged SCF energy = -0.874345623411538\n",
      "E = -0.8743456234115373 Eh\n",
      "converged SCF energy = -0.834051457577711\n",
      "E = -0.8340514575777112 Eh\n",
      "converged SCF energy = -0.798318792508427\n",
      "E = -0.7983187925084273 Eh\n",
      "converged SCF energy = -0.767149954044848\n",
      "E = -0.7671499540448474 Eh\n",
      "converged SCF energy = -0.740294215791154\n",
      "E = -0.7402942157911536 Eh\n",
      "converged SCF energy = -0.717358635390298\n",
      "E = -0.7173586353902985 Eh\n",
      "converged SCF energy = -0.697895182585625\n",
      "E = -0.6978951825856244 Eh\n",
      "converged SCF energy = -0.681458669724317\n",
      "E = -0.6814586697243172 Eh\n",
      "converged SCF energy = -0.667634944154382\n",
      "E = -0.6676349441543821 Eh\n",
      "converged SCF energy = -0.656048251145591\n",
      "E = -0.6560482511455902 Eh\n"
     ]
    }
   ],
   "source": [
    "#Run HF\n",
    "HF_PES = obtain_PES('h2', bond_lengths, basis,  method='hf')"
   ]
  },
  {
   "cell_type": "code",
   "execution_count": 8,
   "metadata": {},
   "outputs": [
    {
     "name": "stdout",
     "output_type": "stream",
     "text": [
      "converged SCF energy = 2.71588739329275\n",
      "E = 2.709960769299898 Eh\n",
      "converged SCF energy = -0.323755876828869\n",
      "E = -0.33105918423836855 Eh\n",
      "converged SCF energy = -0.914752154964551\n",
      "E = -0.9246510520858587 Eh\n",
      "converged SCF energy = -1.08335326968451\n",
      "E = -1.097170685704112 Eh\n",
      "converged SCF energy = -1.11750290613135\n",
      "E = -1.1367744094618528 Eh\n",
      "converged SCF energy = -1.09991415360857\n",
      "E = -1.126477149325331 Eh\n",
      "converged SCF energy = -1.06163130892239\n",
      "E = -1.0977897420009595 Eh\n",
      "converged SCF energy = -1.01514648442756\n",
      "E = -1.063789815911664 Eh\n",
      "converged SCF energy = -0.96639556315115\n",
      "E = -1.0308583465723777 Eh\n",
      "converged SCF energy = -0.918800745689801\n",
      "E = -1.002455633498415 Eh\n",
      "converged SCF energy = -0.874345623411538\n",
      "E = -0.9800529647433472 Eh\n",
      "converged SCF energy = -0.834051457577711\n",
      "E = -0.9636516123758463 Eh\n",
      "converged SCF energy = -0.798318792508427\n",
      "E = -0.9523641765112671 Eh\n",
      "converged SCF energy = -0.767149954044848\n",
      "E = -0.9449665859062888 Eh\n",
      "converged SCF energy = -0.740294215791154\n",
      "E = -0.9402897887106921 Eh\n",
      "converged SCF energy = -0.717358635390298\n",
      "E = -0.9374059293103504 Eh\n",
      "converged SCF energy = -0.697895182585625\n",
      "E = -0.9356577721696313 Eh\n",
      "converged SCF energy = -0.681458669724317\n",
      "E = -0.9346116470335952 Eh\n",
      "converged SCF energy = -0.667634944154382\n",
      "E = -0.93399301836945 Eh\n",
      "converged SCF energy = -0.656048251145591\n",
      "E = -0.9336318497426199 Eh\n"
     ]
    }
   ],
   "source": [
    "#Run CCSD\n",
    "CCSD_PES = obtain_PES('h2', bond_lengths, basis,  method='ccsd')"
   ]
  },
  {
   "cell_type": "code",
   "execution_count": 9,
   "metadata": {},
   "outputs": [
    {
     "data": {
      "text/plain": [
       "array([0.1       , 0.25263158, 0.40526316, 0.55789474, 0.71052632,\n",
       "       0.86315789, 1.01578947, 1.16842105, 1.32105263, 1.47368421,\n",
       "       1.62631579, 1.77894737, 1.93157895, 2.08421053, 2.23684211,\n",
       "       2.38947368, 2.54210526, 2.69473684, 2.84736842, 3.        ])"
      ]
     },
     "execution_count": 9,
     "metadata": {},
     "output_type": "execute_result"
    }
   ],
   "source": [
    "bond_lengths"
   ]
  },
  {
   "cell_type": "code",
   "execution_count": 10,
   "metadata": {},
   "outputs": [
    {
     "data": {
      "text/plain": [
       "<matplotlib.legend.Legend at 0x7f036c719c88>"
      ]
     },
     "execution_count": 10,
     "metadata": {},
     "output_type": "execute_result"
    },
    {
     "data": {
      "image/png": "[encoded data removed]",
      "text/plain": [
       "<Figure size 432x288 with 1 Axes>"
      ]
     },
     "metadata": {
      "needs_background": "light"
     },
     "output_type": "display_data"
    }
   ],
   "source": [
    "#Plot H2 PESs\n",
    "\n",
    "plt.title('Beh2 dissociation, STO-3G')\n",
    "plt.xlabel('R, Angstrom')\n",
    "plt.ylabel('E, Hartree')\n",
    "\n",
    "plt.plot(bond_lengths, FCI_PES, label='FCI')\n",
    "plt.scatter(bond_lengths, HF_PES, label='HF', color='orange')\n",
    "plt.scatter(bond_lengths, CCSD_PES, label='CCSD', color='purple')\n",
    "plt.legend()"
   ]
  },
  {
   "cell_type": "code",
   "execution_count": 26,
   "metadata": {},
   "outputs": [
    {
     "data": {
      "text/plain": [
       "[[0.1,\n",
       "  0.25263157894736843,\n",
       "  0.4052631578947369,\n",
       "  0.5578947368421052,\n",
       "  0.7105263157894737,\n",
       "  0.8631578947368421,\n",
       "  1.0157894736842106,\n",
       "  1.168421052631579,\n",
       "  1.3210526315789475,\n",
       "  1.473684210526316,\n",
       "  1.6263157894736844,\n",
       "  1.7789473684210528,\n",
       "  1.931578947368421,\n",
       "  2.0842105263157893,\n",
       "  2.236842105263158,\n",
       "  2.3894736842105266,\n",
       "  2.542105263157895,\n",
       "  2.694736842105263,\n",
       "  2.8473684210526318,\n",
       "  3.0],\n",
       " [-15.038380984419941,\n",
       "  -15.379440863397999,\n",
       "  -15.533943573867443,\n",
       "  -15.589182966190846,\n",
       "  -15.591103469666391,\n",
       "  -15.564876267565253,\n",
       "  -15.524926303240605,\n",
       "  -15.480114095434905,\n",
       "  -15.436373711299488,\n",
       "  -15.398061000988939,\n",
       "  -15.368587163342593,\n",
       "  -15.349951570313639,\n",
       "  -15.340899289903348,\n",
       "  -15.33748355693971,\n",
       "  -15.33645938330668],\n",
       " [-15.010660096200704,\n",
       "  -15.354095601179605,\n",
       "  -15.50717921035485,\n",
       "  -15.558253045939352,\n",
       "  -15.55351862046083,\n",
       "  -15.517944979368409,\n",
       "  -15.465500623861656,\n",
       "  -15.404444454630744,\n",
       "  -15.340005422013013,\n",
       "  -15.275718024557017,\n",
       "  -15.21409999184359,\n",
       "  -15.156991619939143,\n",
       "  -15.105730438402688,\n",
       "  -15.061262428100536,\n",
       "  -15.02421000603717],\n",
       " [-15.03804001492835,\n",
       "  -15.379165260600143,\n",
       "  -15.53367288052311,\n",
       "  -15.588862461577303,\n",
       "  -15.590664408422223,\n",
       "  -15.564210620842282,\n",
       "  -15.523844085540375,\n",
       "  -15.478273029210449,\n",
       "  -15.4331940458408,\n",
       "  -15.392780051760857,\n",
       "  -15.361079285695219,\n",
       "  -15.342349084296735,\n",
       "  -15.335461449488946,\n",
       "  -15.334177559711405,\n",
       "  -15.33464750268766]]"
      ]
     },
     "execution_count": 26,
     "metadata": {},
     "output_type": "execute_result"
    }
   ],
   "source": [
    "[bond_length.tolist(), FCI_PES.tolist(),HF_PES.tolist(),CCSD_PES.tolist()]"
   ]
  },
  {
   "cell_type": "code",
   "execution_count": 31,
   "metadata": {},
   "outputs": [
    {
     "ename": "TypeError",
     "evalue": "Mismatch between array dtype ('object') and format specifier ('%f')",
     "output_type": "error",
     "traceback": [
      "\u001b[0;31m---------------------------------------------------------------------------\u001b[0m",
      "\u001b[0;31mTypeError\u001b[0m                                 Traceback (most recent call last)",
      "\u001b[0;32m~/anaconda3/envs/tequila/lib/python3.7/site-packages/numpy/lib/npyio.py\u001b[0m in \u001b[0;36msavetxt\u001b[0;34m(fname, X, fmt, delimiter, newline, header, footer, comments, encoding)\u001b[0m\n\u001b[1;32m   1434\u001b[0m                 \u001b[0;32mtry\u001b[0m\u001b[0;34m:\u001b[0m\u001b[0;34m\u001b[0m\u001b[0;34m\u001b[0m\u001b[0m\n\u001b[0;32m-> 1435\u001b[0;31m                     \u001b[0mv\u001b[0m \u001b[0;34m=\u001b[0m \u001b[0mformat\u001b[0m \u001b[0;34m%\u001b[0m \u001b[0mtuple\u001b[0m\u001b[0;34m(\u001b[0m\u001b[0mrow\u001b[0m\u001b[0;34m)\u001b[0m \u001b[0;34m+\u001b[0m \u001b[0mnewline\u001b[0m\u001b[0;34m\u001b[0m\u001b[0;34m\u001b[0m\u001b[0m\n\u001b[0m\u001b[1;32m   1436\u001b[0m                 \u001b[0;32mexcept\u001b[0m \u001b[0mTypeError\u001b[0m \u001b[0;32mas\u001b[0m \u001b[0me\u001b[0m\u001b[0;34m:\u001b[0m\u001b[0;34m\u001b[0m\u001b[0;34m\u001b[0m\u001b[0m\n",
      "\u001b[0;31mTypeError\u001b[0m: must be real number, not list",
      "\nThe above exception was the direct cause of the following exception:\n",
      "\u001b[0;31mTypeError\u001b[0m                                 Traceback (most recent call last)",
      "\u001b[0;32m/tmp/ipykernel_28937/3948922074.py\u001b[0m in \u001b[0;36m<module>\u001b[0;34m\u001b[0m\n\u001b[1;32m      1\u001b[0m \u001b[0;32mwith\u001b[0m \u001b[0mopen\u001b[0m\u001b[0;34m(\u001b[0m\u001b[0;34m\"H2_classical.csv\"\u001b[0m\u001b[0;34m,\u001b[0m \u001b[0;34m\"ab\"\u001b[0m\u001b[0;34m)\u001b[0m \u001b[0;32mas\u001b[0m \u001b[0mf\u001b[0m\u001b[0;34m:\u001b[0m\u001b[0;34m\u001b[0m\u001b[0;34m\u001b[0m\u001b[0m\n\u001b[0;32m----> 2\u001b[0;31m     \u001b[0mnp\u001b[0m\u001b[0;34m.\u001b[0m\u001b[0msavetxt\u001b[0m\u001b[0;34m(\u001b[0m\u001b[0mf\u001b[0m\u001b[0;34m,\u001b[0m \u001b[0mnp\u001b[0m\u001b[0;34m.\u001b[0m\u001b[0mtranspose\u001b[0m\u001b[0;34m(\u001b[0m\u001b[0mnp\u001b[0m\u001b[0;34m.\u001b[0m\u001b[0marray\u001b[0m\u001b[0;34m(\u001b[0m\u001b[0;34m[\u001b[0m\u001b[0mbond_length\u001b[0m\u001b[0;34m.\u001b[0m\u001b[0mtolist\u001b[0m\u001b[0;34m(\u001b[0m\u001b[0;34m)\u001b[0m\u001b[0;34m,\u001b[0m \u001b[0mFCI_PES\u001b[0m\u001b[0;34m.\u001b[0m\u001b[0mtolist\u001b[0m\u001b[0;34m(\u001b[0m\u001b[0;34m)\u001b[0m\u001b[0;34m,\u001b[0m\u001b[0mHF_PES\u001b[0m\u001b[0;34m.\u001b[0m\u001b[0mtolist\u001b[0m\u001b[0;34m(\u001b[0m\u001b[0;34m)\u001b[0m\u001b[0;34m,\u001b[0m\u001b[0mCCSD_PES\u001b[0m\u001b[0;34m.\u001b[0m\u001b[0mtolist\u001b[0m\u001b[0;34m(\u001b[0m\u001b[0;34m)\u001b[0m\u001b[0;34m]\u001b[0m\u001b[0;34m)\u001b[0m\u001b[0;34m)\u001b[0m\u001b[0;34m,\u001b[0m  \u001b[0mdelimiter\u001b[0m\u001b[0;34m=\u001b[0m\u001b[0;34m\",\"\u001b[0m\u001b[0;34m,\u001b[0m \u001b[0mfmt\u001b[0m\u001b[0;34m=\u001b[0m\u001b[0;34m\"%f\"\u001b[0m\u001b[0;34m)\u001b[0m\u001b[0;34m\u001b[0m\u001b[0;34m\u001b[0m\u001b[0m\n\u001b[0m",
      "\u001b[0;32m<__array_function__ internals>\u001b[0m in \u001b[0;36msavetxt\u001b[0;34m(*args, **kwargs)\u001b[0m\n",
      "\u001b[0;32m~/anaconda3/envs/tequila/lib/python3.7/site-packages/numpy/lib/npyio.py\u001b[0m in \u001b[0;36msavetxt\u001b[0;34m(fname, X, fmt, delimiter, newline, header, footer, comments, encoding)\u001b[0m\n\u001b[1;32m   1437\u001b[0m                     raise TypeError(\"Mismatch between array dtype ('%s') and \"\n\u001b[1;32m   1438\u001b[0m                                     \u001b[0;34m\"format specifier ('%s')\"\u001b[0m\u001b[0;34m\u001b[0m\u001b[0;34m\u001b[0m\u001b[0m\n\u001b[0;32m-> 1439\u001b[0;31m                                     % (str(X.dtype), format)) from e\n\u001b[0m\u001b[1;32m   1440\u001b[0m                 \u001b[0mfh\u001b[0m\u001b[0;34m.\u001b[0m\u001b[0mwrite\u001b[0m\u001b[0;34m(\u001b[0m\u001b[0mv\u001b[0m\u001b[0;34m)\u001b[0m\u001b[0;34m\u001b[0m\u001b[0;34m\u001b[0m\u001b[0m\n\u001b[1;32m   1441\u001b[0m \u001b[0;34m\u001b[0m\u001b[0m\n",
      "\u001b[0;31mTypeError\u001b[0m: Mismatch between array dtype ('object') and format specifier ('%f')"
     ]
    }
   ],
   "source": [
    "with open(\"H2_classical.csv\", \"ab\") as f: \n",
    "    np.savetxt(f, np.transpose(np.array([bond_length.tolist(), FCI_PES.tolist(),HF_PES.tolist(),CCSD_PES.tolist()])),  delimiter=\",\", fmt=\"%f\")"
   ]
  },
  {
   "cell_type": "code",
   "execution_count": 39,
   "metadata": {},
   "outputs": [],
   "source": [
    "with open(\"H2_bond_length_vs_energy.csv\", \"ab\") as f: \n",
    "    np.savetxt(f, np.transpose(np.array([bond_lengths, FCI_PES.tolist(),HF_PES.tolist(),CCSD_PES.tolist()])),  delimiter=\",\", fmt=\"%f\")"
   ]
  },
  {
   "cell_type": "markdown",
   "metadata": {},
   "source": [
    "<img src=\"figs/testimage.png\">"
   ]
  },
  {
   "cell_type": "markdown",
   "metadata": {},
   "source": [
    "## BeH2"
   ]
  },
  {
   "cell_type": "code",
   "execution_count": 11,
   "metadata": {},
   "outputs": [],
   "source": [
    "bond_lengths = np.linspace(0.75, 3, 15)"
   ]
  },
  {
   "cell_type": "code",
   "execution_count": 15,
   "metadata": {},
   "outputs": [
    {
     "name": "stdout",
     "output_type": "stream",
     "text": [
      "converged SCF energy = -15.0106600962007\n",
      "E = -15.038380984419941 Eh\n",
      "converged SCF energy = -15.3540956011796\n",
      "E = -15.379440863397999 Eh\n",
      "converged SCF energy = -15.5071792103548\n",
      "E = -15.533943573867443 Eh\n",
      "converged SCF energy = -15.5582530459393\n",
      "E = -15.589182966190846 Eh\n",
      "converged SCF energy = -15.5535186204607\n",
      "E = -15.591103469666391 Eh\n",
      "converged SCF energy = -15.5179449793684\n",
      "E = -15.564876267565253 Eh\n",
      "converged SCF energy = -15.4655006238616\n",
      "E = -15.524926303240605 Eh\n",
      "converged SCF energy = -15.4044444546307\n",
      "E = -15.480114095434905 Eh\n",
      "converged SCF energy = -15.340005422013\n",
      "E = -15.436373711299488 Eh\n",
      "converged SCF energy = -15.275718024557\n",
      "E = -15.398061000988939 Eh\n",
      "converged SCF energy = -15.2140999918436\n",
      "E = -15.368587163342593 Eh\n",
      "converged SCF energy = -15.156991619939\n",
      "E = -15.349951570313639 Eh\n",
      "converged SCF energy = -15.1057304384024\n",
      "E = -15.340899289903348 Eh\n",
      "converged SCF energy = -15.0612624280941\n",
      "E = -15.33748355693971 Eh\n",
      "converged SCF energy = -15.0242100060364\n",
      "E = -15.33645938330668 Eh\n"
     ]
    }
   ],
   "source": [
    "#Run FCI\n",
    "FCI_PES = obtain_PES('beh2', bond_lengths, basis, method='fci')"
   ]
  },
  {
   "cell_type": "code",
   "execution_count": 16,
   "metadata": {},
   "outputs": [
    {
     "name": "stdout",
     "output_type": "stream",
     "text": [
      "converged SCF energy = -15.0106600962007\n",
      "E = -15.010660096200704 Eh\n",
      "converged SCF energy = -15.3540956011796\n",
      "E = -15.354095601179605 Eh\n",
      "converged SCF energy = -15.5071792103548\n",
      "E = -15.50717921035485 Eh\n",
      "converged SCF energy = -15.5582530459393\n",
      "E = -15.558253045939352 Eh\n",
      "converged SCF energy = -15.5535186204607\n",
      "E = -15.55351862046083 Eh\n",
      "converged SCF energy = -15.5179449793684\n",
      "E = -15.517944979368409 Eh\n",
      "converged SCF energy = -15.4655006238616\n",
      "E = -15.465500623861656 Eh\n",
      "converged SCF energy = -15.4044444546307\n",
      "E = -15.404444454630744 Eh\n",
      "converged SCF energy = -15.340005422013\n",
      "E = -15.340005422013013 Eh\n",
      "converged SCF energy = -15.275718024557\n",
      "E = -15.275718024557017 Eh\n",
      "converged SCF energy = -15.2140999918436\n",
      "E = -15.21409999184359 Eh\n",
      "converged SCF energy = -15.156991619939\n",
      "E = -15.156991619939143 Eh\n",
      "converged SCF energy = -15.1057304384024\n",
      "E = -15.105730438402688 Eh\n",
      "converged SCF energy = -15.0612624280941\n",
      "E = -15.061262428100536 Eh\n",
      "converged SCF energy = -15.0242100060364\n",
      "E = -15.02421000603717 Eh\n"
     ]
    }
   ],
   "source": [
    "#Run HF\n",
    "HF_PES = obtain_PES('beh2', bond_lengths, basis,  method='hf')"
   ]
  },
  {
   "cell_type": "code",
   "execution_count": 17,
   "metadata": {},
   "outputs": [
    {
     "name": "stdout",
     "output_type": "stream",
     "text": [
      "converged SCF energy = -15.0106600962007\n",
      "E = -15.03804001492835 Eh\n",
      "converged SCF energy = -15.3540956011796\n",
      "E = -15.379165260600143 Eh\n",
      "converged SCF energy = -15.5071792103548\n",
      "E = -15.53367288052311 Eh\n",
      "converged SCF energy = -15.5582530459393\n",
      "E = -15.588862461577303 Eh\n",
      "converged SCF energy = -15.5535186204607\n",
      "E = -15.590664408422223 Eh\n",
      "converged SCF energy = -15.5179449793684\n",
      "E = -15.564210620842282 Eh\n",
      "converged SCF energy = -15.4655006238616\n",
      "E = -15.523844085540375 Eh\n",
      "converged SCF energy = -15.4044444546307\n",
      "E = -15.478273029210449 Eh\n",
      "converged SCF energy = -15.340005422013\n",
      "E = -15.4331940458408 Eh\n",
      "converged SCF energy = -15.275718024557\n",
      "E = -15.392780051760857 Eh\n",
      "converged SCF energy = -15.2140999918436\n",
      "E = -15.361079285695219 Eh\n",
      "converged SCF energy = -15.156991619939\n",
      "E = -15.342349084296735 Eh\n",
      "converged SCF energy = -15.1057304384024\n",
      "E = -15.335461449488946 Eh\n",
      "converged SCF energy = -15.0612624280941\n",
      "E = -15.334177559711405 Eh\n",
      "converged SCF energy = -15.0242100060364\n",
      "E = -15.33464750268766 Eh\n"
     ]
    }
   ],
   "source": [
    "#Run CCSD\n",
    "CCSD_PES = obtain_PES('beh2', bond_lengths, basis,  method='ccsd')"
   ]
  },
  {
   "cell_type": "code",
   "execution_count": 18,
   "metadata": {},
   "outputs": [
    {
     "data": {
      "text/plain": [
       "<matplotlib.legend.Legend at 0x7f036c650128>"
      ]
     },
     "execution_count": 18,
     "metadata": {},
     "output_type": "execute_result"
    },
    {
     "data": {
      "image/png": "[encoded data removed]",
      "text/plain": [
       "<Figure size 432x288 with 1 Axes>"
      ]
     },
     "metadata": {
      "needs_background": "light"
     },
     "output_type": "display_data"
    }
   ],
   "source": [
    "#Plot H2O PESs\n",
    "\n",
    "plt.title('H2O symmetric dissociation, STO-3G')\n",
    "plt.xlabel('R, Angstrom')\n",
    "plt.ylabel('E, Hartree')\n",
    "\n",
    "plt.plot(bond_lengths, FCI_PES, label='FCI')\n",
    "plt.scatter(bond_lengths, HF_PES, label='HF', color='orange')\n",
    "plt.scatter(bond_lengths, CCSD_PES, label='CCSD', color='purple')\n",
    "plt.legend()"
   ]
  },
  {
   "cell_type": "code",
   "execution_count": null,
   "metadata": {},
   "outputs": [],
   "source": []
  }
 ],
 "metadata": {
  "kernelspec": {
   "display_name": "tequila",
   "language": "python",
   "name": "tequila"
  },
  "language_info": {
   "codemirror_mode": {
    "name": "ipython",
    "version": 3
   },
   "file_extension": ".py",
   "mimetype": "text/x-python",
   "name": "python",
   "nbconvert_exporter": "python",
   "pygments_lexer": "ipython3",
   "version": "3.7.1"
  }
 },
 "nbformat": 4,
 "nbformat_minor": 2
}
