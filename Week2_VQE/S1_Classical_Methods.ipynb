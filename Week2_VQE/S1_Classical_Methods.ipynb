{
 "cells": [
  {
   "cell_type": "markdown",
   "id": "4da4aceb",
   "metadata": {},
   "source": [
    "# Review of classical electronic structure methods \n",
    "\n",
    "In order to assess the performance of quantum computing algorithms in addressing the electronic structure problem, we will briefly review a few commonly employed classical electronic structure methods of varying level of approximation. \n",
    "\n",
    "## Hartree-Fock\n",
    "\n",
    "The Hartree-Fock (HF) method employs a **mean-field approximation**, where Coulomb correlation of electrons is neglected. The HF wavefunction is hence restricted to the form of a single Slater determinant, for which the optimal form may be acquired by an optimization of the underlying single particle basis (orbitals). Once the optimal HF orbitals have been found, the HF state may be written as \n",
    "\n",
    "$$ | \\text{HF} \\rangle = \\prod_{p \\in \\text{occ}} \\hat a^\\dagger_p | \\text{vac} \\rangle $$\n",
    "\n",
    "where $\\hat a^\\dagger_p$ creates an electron in the $p^{\\rm{th}}$ optimized HF spin orbital, and  $| \\text{vac} \\rangle$ is the vacuum state (all spin-orbitals unoccupied). Due to the restriction to a single Slater determinant, the HF energy may be obtained very efficiently and can be applied to very large molecules, however it becomes qualitatively incorrect when **electronic correlations** become sufficiently strong. The HF wavefunction is often used as a starting point in more accurate treatments of electronic correlation. \n",
    "\n",
    "## Coupled cluster\n",
    "\n",
    "The Coupled cluster (CC) method introduces electronic correlation to the wavefunction ansatz by operating on the HF reference state with the exponential of excitation operators\n",
    "\n",
    "$$|\\text{CC} \\rangle = e^{\\hat T} | \\text{HF}\\rangle, \\quad \\hat T = \\hat T_1 + \\hat T_2 + ...$$\n",
    "\n",
    "where $\\hat T_1 = \\sum_{ia} t^{a}_i \\hat a^\\dagger_a \\hat a_i$ are referred to as 'singles', $\\hat T_2 = \\sum_{ijab} t^{ab}_{ij} \\hat a^\\dagger_a \\hat a^\\dagger_b \\hat a_i \\hat a_j$ as 'doubles', etc. When the excitation rank is truncated to only singles (S) and doubles (D), $\\hat T = \\hat T_1 + \\hat T_2$, the corresponding ansatz is referred to as CCSD. Since the number of possible single and double excitations for a system of $N$ electrons in $M$ orbitals is polynomial in $M$, one can efficiently solve a system of equations to obtain the optimized CCSD amplitudes. CCSD often gives accurate energies and can be applied to modestly sized chemical systems. However, due to its implementation, it can **violate the variational principle** and give energies lower than the ground state.\n",
    "\n",
    "## Full Configuration Interaction\n",
    "The full configuration interaction (FCI) method yields the **exact ground state energy** within a given basis set. The FCI wavefunction is written as a linear combination of all possible $N$-particle Slater determinants over the orbital basis\n",
    "$$|\\text{FCI} \\rangle =  \\left( \\sum_{ia} C^{a}_i \\hat a^\\dagger_a \\hat a_i + \\sum_{ijab} C^{ab}_{ij} \\hat a^\\dagger_a \\hat a^\\dagger_b \\hat a_i \\hat a_j + ...  \\right) | \\text{HF} \\rangle $$\n",
    "where the sum includes up to $N$-electron excitations, and hence there are an exponential number of coefficients to optimize in $| \\text{FCI} \\rangle$. Due to its **exponential complexity**, FCI is often reserved for only the smallest chemical systems. However, it serves as a useful result to compare to when assessing tractable electronic structure methods."
   ]
  },
  {
   "cell_type": "markdown",
   "id": "58c46e22",
   "metadata": {},
   "source": [
    "# Benchmarking for electronic PESs in minimal basis (STO-3G)\n",
    "\n",
    "We will apply HF, CCSD, and FCI to obtaining the PESs for a few molecular dissociation processes in minimal (STO-3G) basis."
   ]
  },
  {
   "cell_type": "code",
   "execution_count": 2,
   "id": "f209f929",
   "metadata": {},
   "outputs": [],
   "source": [
    "import numpy as np\n",
    "import matplotlib.pyplot as plt\n",
    "from utility import get_molecular_data, obtain_PES\n",
    "import numpy as np\n",
    "from qiskit import QuantumCircuit, transpile\n",
    "\n",
    "basis = 'sto-3g'"
   ]
  },
  {
   "cell_type": "code",
   "execution_count": 3,
   "id": "fadf25da",
   "metadata": {},
   "outputs": [],
   "source": [
    "bond_lengths = np.linspace(0.2,3.5,15)"
   ]
  },
  {
   "cell_type": "markdown",
   "id": "17809baa",
   "metadata": {},
   "source": [
    "# $$H_4$$"
   ]
  },
  {
   "cell_type": "code",
   "execution_count": 4,
   "id": "86f8045d",
   "metadata": {
    "scrolled": false
   },
   "outputs": [
    {
     "name": "stdout",
     "output_type": "stream",
     "text": [
      "converged SCF energy = 6.9753973149844\n",
      "E = 6.845807485143147 Eh\n",
      "converged SCF energy = 0.0932315753802087\n",
      "E = -0.051847852652365134 Eh\n",
      "converged SCF energy = -1.29511035630858\n",
      "E = -1.4633269875466333 Eh\n",
      "converged SCF energy = -1.65135854130097\n",
      "E = -1.8530154689854976 Eh\n",
      "converged SCF energy = -1.71088406614524\n",
      "E = -1.9604458445103798 Eh\n",
      "converged SCF energy = -1.66624189641683\n",
      "E = -1.9667075542242052 Eh\n",
      "converged SCF energy = -1.58693222335353\n",
      "E = -1.9411219628056853 Eh\n",
      "converged SCF energy = -1.50259197117932\n",
      "E = -1.9124203260895474 Eh\n",
      "converged SCF energy = -1.42629159426551\n",
      "E = -1.8911979669650822 Eh\n",
      "converged SCF energy = -1.36295544931224\n",
      "E = -1.8785618290338568 Eh\n",
      "converged SCF energy = -1.31315471848899\n",
      "E = -1.8719778908800584 Eh\n",
      "converged SCF energy = -1.2753750819586\n",
      "E = -1.8688149736048398 Eh\n",
      "converged SCF energy = -1.24736931216182\n",
      "E = -1.8673769023374698 Eh\n",
      "converged SCF energy = -1.22683001518096\n",
      "E = -1.8667527179841308 Eh\n",
      "converged SCF energy = -1.21171082273811\n",
      "E = -1.8664933930457033 Eh\n"
     ]
    }
   ],
   "source": [
    "#Running FCI\n",
    "FCI_PES_h4 = obtain_PES('h4', bond_lengths, basis, method='fci')"
   ]
  },
  {
   "cell_type": "code",
   "execution_count": 5,
   "id": "a7a87ab4",
   "metadata": {},
   "outputs": [
    {
     "name": "stdout",
     "output_type": "stream",
     "text": [
      "converged SCF energy = 6.9753973149844\n",
      "E = 6.97539731498444 Eh\n",
      "converged SCF energy = 0.0932315753802087\n",
      "E = 0.09323157538020244 Eh\n",
      "converged SCF energy = -1.29511035630858\n",
      "E = -1.295110356308582 Eh\n",
      "converged SCF energy = -1.65135854130097\n",
      "E = -1.6513585413009704 Eh\n",
      "converged SCF energy = -1.71088406614524\n",
      "E = -1.71088406614526 Eh\n",
      "converged SCF energy = -1.66624189641683\n",
      "E = -1.6662418964185854 Eh\n",
      "converged SCF energy = -1.58693222335353\n",
      "E = -1.5869322233686822 Eh\n",
      "converged SCF energy = -1.50259197117933\n",
      "E = -1.5025919711979774 Eh\n",
      "converged SCF energy = -1.42629159426551\n",
      "E = -1.4262915942655088 Eh\n",
      "converged SCF energy = -1.36295544931224\n",
      "E = -1.36295544932004 Eh\n",
      "converged SCF energy = -1.31315471848899\n",
      "E = -1.3131547184889927 Eh\n",
      "converged SCF energy = -1.2753750819586\n",
      "E = -1.2753750819585963 Eh\n",
      "converged SCF energy = -1.24736931216183\n",
      "E = -1.2473693121618368 Eh\n",
      "converged SCF energy = -1.22683001518096\n",
      "E = -1.2268300151815295 Eh\n",
      "converged SCF energy = -1.21171082273811\n",
      "E = -1.2117108227568414 Eh\n"
     ]
    }
   ],
   "source": [
    "#Running HF\n",
    "HF_PES_h4 = obtain_PES('h4', bond_lengths, basis,  method='hf')"
   ]
  },
  {
   "cell_type": "code",
   "execution_count": 6,
   "id": "8cce3f66",
   "metadata": {},
   "outputs": [
    {
     "name": "stdout",
     "output_type": "stream",
     "text": [
      "converged SCF energy = 6.9753973149844\n",
      "E = 6.938630615769992 Eh\n",
      "converged SCF energy = 0.0932315753802087\n",
      "E = 0.06513055250474559 Eh\n",
      "converged SCF energy = -1.29511035630858\n",
      "E = -1.3168940886770362 Eh\n",
      "converged SCF energy = -1.65135854130097\n",
      "E = -1.6969906776090737 Eh\n",
      "converged SCF energy = -1.71088406614524\n",
      "E = -1.7846923972276005 Eh\n",
      "converged SCF energy = -1.66624189641683\n",
      "E = -1.7786282140941458 Eh\n",
      "converged SCF energy = -1.58693222335353\n",
      "E = -1.7594385299333588 Eh\n",
      "converged SCF energy = -1.50259197117933\n",
      "E = -1.7631133298050525 Eh\n",
      "converged SCF energy = -1.42629159426551\n",
      "E = -1.787329815507324 Eh\n",
      "converged SCF energy = -1.36295544931224\n",
      "E = -1.8139032711083969 Eh\n",
      "converged SCF energy = -1.31315471848899\n",
      "E = -1.8341101489391534 Eh\n",
      "converged SCF energy = -1.2753750819586\n",
      "E = -1.847404439777939 Eh\n",
      "converged SCF energy = -1.24736931216183\n",
      "E = -1.8555453271864362 Eh\n",
      "converged SCF energy = -1.22683001518096\n",
      "E = -1.8603141184397776 Eh\n",
      "converged SCF energy = -1.21171082273811\n",
      "E = -1.8630224768896357 Eh\n"
     ]
    }
   ],
   "source": [
    "#Running CCSD\n",
    "CCSD_PES_h4 = obtain_PES('h4', bond_lengths, basis,  method='ccsd')"
   ]
  },
  {
   "cell_type": "code",
   "execution_count": 7,
   "id": "41d291f4",
   "metadata": {
    "scrolled": false
   },
   "outputs": [
    {
     "name": "stdout",
     "output_type": "stream",
     "text": [
      "converged SCF energy = -52.6419222048249\n",
      "E = -52.75986787780627 Eh\n",
      "converged SCF energy = -97.0966908319791\n",
      "E = -97.12990765160126 Eh\n",
      "converged SCF energy = -105.284636203092\n",
      "E = -105.34713753955796 Eh\n",
      "converged SCF energy = -107.211096799925\n",
      "E = -107.31834406387006 Eh\n",
      "converged SCF energy = -107.500385885958\n",
      "E = -107.67103242234845 Eh\n",
      "converged SCF energy = -107.375223000831\n",
      "E = -107.63162814020929 Eh\n",
      "converged SCF energy = -107.172407513618\n",
      "E = -107.53681792652245 Eh\n",
      "converged SCF energy = -106.97851794204\n",
      "E = -107.47384132701 Eh\n",
      "converged SCF energy = -106.817019806344\n",
      "E = -107.44934981866669 Eh\n",
      "converged SCF energy = -106.691338382574\n",
      "E = -107.44230695031382 Eh\n",
      "converged SCF energy = -106.596417982585\n",
      "E = -107.44001881274288 Eh\n",
      "converged SCF energy = -106.525929061984\n",
      "E = -107.43877220299181 Eh\n",
      "converged SCF energy = -106.47445114605\n",
      "E = -107.43832704415432 Eh\n",
      "converged SCF energy = -106.437200658906\n",
      "E = -107.43817681391778 Eh\n",
      "converged SCF energy = -106.410014865765\n",
      "E = -107.43808782024095 Eh\n"
     ]
    }
   ],
   "source": [
    "#Running FCI\n",
    "FCI_PES_n2 = obtain_PES('n2', bond_lengths, basis, method='fci')"
   ]
  },
  {
   "cell_type": "code",
   "execution_count": 8,
   "id": "90764459",
   "metadata": {},
   "outputs": [
    {
     "name": "stdout",
     "output_type": "stream",
     "text": [
      "converged SCF energy = -52.6419222048249\n",
      "E = -52.64192220482491 Eh\n",
      "converged SCF energy = -97.0966908319792\n",
      "E = -97.0966908319792 Eh\n",
      "converged SCF energy = -105.284636203092\n",
      "E = -105.28463620309242 Eh\n",
      "converged SCF energy = -107.211096799925\n",
      "E = -107.21109679992531 Eh\n",
      "converged SCF energy = -107.500385885958\n",
      "E = -107.50038588595807 Eh\n",
      "converged SCF energy = -107.375223000832\n",
      "E = -107.3752230008315 Eh\n",
      "converged SCF energy = -107.172407513618\n",
      "E = -107.17240751361844 Eh\n",
      "converged SCF energy = -106.97851794204\n",
      "E = -106.97851794204004 Eh\n",
      "converged SCF energy = -106.817019806344\n",
      "E = -106.81701980634392 Eh\n",
      "converged SCF energy = -106.691338382574\n",
      "E = -106.69133838257429 Eh\n",
      "converged SCF energy = -106.596417982585\n",
      "E = -106.59641798258507 Eh\n",
      "converged SCF energy = -106.525929061984\n",
      "E = -106.52592906198363 Eh\n",
      "converged SCF energy = -106.47445114605\n",
      "E = -106.47445114604996 Eh\n",
      "converged SCF energy = -106.437200658906\n",
      "E = -106.43720065890595 Eh\n",
      "converged SCF energy = -106.410014865765\n",
      "E = -106.41001486576515 Eh\n"
     ]
    }
   ],
   "source": [
    "#Running HF\n",
    "HF_PES_n2 = obtain_PES('n2', bond_lengths, basis,  method='hf')"
   ]
  },
  {
   "cell_type": "code",
   "execution_count": 9,
   "id": "f539216c",
   "metadata": {},
   "outputs": [
    {
     "name": "stdout",
     "output_type": "stream",
     "text": [
      "converged SCF energy = -52.6419222048247\n",
      "E = -52.69447054010006 Eh\n",
      "converged SCF energy = -97.0966908319791\n",
      "E = -97.12970325083754 Eh\n",
      "converged SCF energy = -105.284636203092\n",
      "E = -105.34648201207533 Eh\n",
      "converged SCF energy = -107.211096799925\n",
      "E = -107.31659371781373 Eh\n",
      "converged SCF energy = -107.500385885958\n",
      "E = -107.66634536413453 Eh\n",
      "converged SCF energy = -107.375223000832\n",
      "E = -107.62073222804094 Eh\n",
      "converged SCF energy = -107.172407513618\n",
      "E = -107.52475097021139 Eh\n",
      "converged SCF energy = -106.97851794204\n",
      "E = -107.51163292268701 Eh\n",
      "converged SCF energy = -106.817019806344\n",
      "E = -107.02812380030028 Eh\n",
      "converged SCF energy = -106.691338382574\n",
      "E = -106.9553216889339 Eh\n",
      "converged SCF energy = -106.596417982585\n",
      "E = -107.1210381506665 Eh\n",
      "converged SCF energy = -106.525929061984\n",
      "E = -106.90651414338267 Eh\n",
      "converged SCF energy = -106.47445114605\n",
      "E = -106.99318229661938 Eh\n",
      "converged SCF energy = -106.437200658906\n",
      "E = -106.85769782711485 Eh\n",
      "converged SCF energy = -106.410014865765\n",
      "E = -106.67171048112483 Eh\n"
     ]
    }
   ],
   "source": [
    "#Running CCSD\n",
    "CCSD_PES_n2 = obtain_PES('n2', bond_lengths, basis,  method='ccsd')"
   ]
  },
  {
   "cell_type": "code",
   "execution_count": 10,
   "id": "d7bbfe91",
   "metadata": {},
   "outputs": [
    {
     "data": {
      "text/plain": [
       "<matplotlib.legend.Legend at 0x7fefaeb9fda0>"
      ]
     },
     "execution_count": 10,
     "metadata": {},
     "output_type": "execute_result"
    },
    {
     "data": {
      "image/png": "[encoded data removed]",
      "text/plain": [
       "<Figure size 432x288 with 2 Axes>"
      ]
     },
     "metadata": {
      "needs_background": "light"
     },
     "output_type": "display_data"
    }
   ],
   "source": [
    "# Plotting H4 and N2 PESs\n",
    "f, (ax1, ax2) = plt.subplots(1,2)\n",
    "ax1.set_title('H4 dissociation, STO-3G')\n",
    "ax1.set_xlabel('R, Angstrom')\n",
    "ax1.set_ylabel('E, Hartree')\n",
    "\n",
    "ax1.plot(bond_lengths, FCI_PES_h4, label='FCI')\n",
    "ax1.scatter(bond_lengths, HF_PES_h4, label='HF', color='orange')\n",
    "ax1.scatter(bond_lengths, CCSD_PES_h4, label='CCSD', color='purple')\n",
    "ax1.legend()\n",
    "\n",
    "ax2.set_title('N2 dissociation, STO-3G')\n",
    "ax2.set_xlabel('R, Angstrom')\n",
    "ax2.set_ylabel('E, Hartree')\n",
    "\n",
    "ax2.plot(bond_lengths, FCI_PES_n2, label='FCI')\n",
    "ax2.scatter(bond_lengths, HF_PES_n2, label='HF', color='orange')\n",
    "ax2.scatter(bond_lengths, CCSD_PES_n2, label='CCSD', color='purple')\n",
    "ax2.legend()\n",
    "\n"
   ]
  },
  {
   "cell_type": "markdown",
   "id": "18a55a61",
   "metadata": {},
   "source": [
    "### The CCSD method does not seem that bad in comparision (for minimal atomic basis), it seems almost as accurate with FCI."
   ]
  }
 ],
 "metadata": {
  "kernelspec": {
   "display_name": "Python 3 (ipykernel)",
   "language": "python",
   "name": "python3"
  },
  "language_info": {
   "codemirror_mode": {
    "name": "ipython",
    "version": 3
   },
   "file_extension": ".py",
   "mimetype": "text/x-python",
   "name": "python",
   "nbconvert_exporter": "python",
   "pygments_lexer": "ipython3",
   "version": "3.7.1"
  }
 },
 "nbformat": 4,
 "nbformat_minor": 5
}
