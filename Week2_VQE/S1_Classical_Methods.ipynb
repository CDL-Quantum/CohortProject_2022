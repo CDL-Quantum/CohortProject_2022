{
 "cells": [
  {
   "cell_type": "markdown",
   "metadata": {},
   "source": [
    "# Review of classical electronic structure methods \n",
    "\n",
    "In order to assess the performance of quantum computing algorithms in addressing the electronic structure problem, we will briefly review a few commonly employed classical electronic structure methods of varying level of approximation. \n",
    "\n",
    "## Hartree-Fock\n",
    "\n",
    "The Hartree-Fock (HF) method employs a **mean-field approximation**, where Coulomb correlation of electrons is neglected. The HF wavefunction is hence restricted to the form of a single Slater determinant, for which the optimal form may be acquired by an optimization of the underlying single particle basis (orbitals). Once the optimal HF orbitals have been found, the HF state may be written as \n",
    "\n",
    "$$ | \\text{HF} \\rangle = \\prod_{p \\in \\text{occ}} \\hat a^\\dagger_p | \\text{vac} \\rangle $$\n",
    "\n",
    "where $\\hat a^\\dagger_p$ creates an electron in the $p^{\\rm{th}}$ optimized HF spin orbital, and  $| \\text{vac} \\rangle$ is the vacuum state (all spin-orbitals unoccupied). Due to the restriction to a single Slater determinant, the HF energy may be obtained very efficiently and can be applied to very large molecules, however it becomes qualitatively incorrect when **electronic correlations** become sufficiently strong. The HF wavefunction is often used as a starting point in more accurate treatments of electronic correlation. \n",
    "\n",
    "## Coupled cluster\n",
    "\n",
    "The Coupled cluster (CC) method introduces electronic correlation to the wavefunction ansatz by operating on the HF reference state with the exponential of excitation operators\n",
    "\n",
    "$$|\\text{CC} \\rangle = e^{\\hat T} | \\text{HF}\\rangle, \\quad \\hat T = \\hat T_1 + \\hat T_2 + ...$$\n",
    "\n",
    "where $\\hat T_1 = \\sum_{ia} t^{a}_i \\hat a^\\dagger_a \\hat a_i$ are referred to as 'singles', $\\hat T_2 = \\sum_{ijab} t^{ab}_{ij} \\hat a^\\dagger_a \\hat a^\\dagger_b \\hat a_i \\hat a_j$ as 'doubles', etc. When the excitation rank is truncated to only singles (S) and doubles (D), $\\hat T = \\hat T_1 + \\hat T_2$, the corresponding ansatz is referred to as CCSD. Since the number of possible single and double excitations for a system of $N$ electrons in $M$ orbitals is polynomial in $M$, one can efficiently solve a system of equations to obtain the optimized CCSD amplitudes. CCSD often gives accurate energies and can be applied to modestly sized chemical systems. However, due to its implementation, it can **violate the variational principle** and give energies lower than the ground state.\n",
    "\n",
    "## Full Configuration Interaction\n",
    "The full configuration interaction (FCI) method yields the **exact ground state energy** within a given basis set. The FCI wavefunction is written as a linear combination of all possible $N$-particle Slater determinants over the orbital basis\n",
    "$$|\\text{FCI} \\rangle =  \\left( \\sum_{ia} C^{a}_i \\hat a^\\dagger_a \\hat a_i + \\sum_{ijab} C^{ab}_{ij} \\hat a^\\dagger_a \\hat a^\\dagger_b \\hat a_i \\hat a_j + ...  \\right) | \\text{HF} \\rangle $$\n",
    "where the sum includes up to $N$-electron excitations, and hence there are an exponential number of coefficients to optimize in $| \\text{FCI} \\rangle$. Due to its **exponential complexity**, FCI is often reserved for only the smallest chemical systems. However, it serves as a useful result to compare to when assessing tractable electronic structure methods."
   ]
  },
  {
   "cell_type": "markdown",
   "metadata": {},
   "source": [
    "# Benchmarking for electronic PESs in minimal basis (STO-3G)\n",
    "\n",
    "We will apply HF, CCSD, and FCI to obtaining the PESs for a few molecular dissociation processes in minimal (STO-3G) basis."
   ]
  },
  {
   "cell_type": "code",
   "execution_count": 1,
   "metadata": {},
   "outputs": [],
   "source": [
    "import numpy as np\n",
    "import matplotlib.pyplot as plt\n",
    "from utility import get_molecular_data, obtain_PES\n",
    "\n",
    "basis = 'sto-3g'"
   ]
  },
  {
   "cell_type": "markdown",
   "metadata": {},
   "source": [
    "## H<sub>2</sub>"
   ]
  },
  {
   "cell_type": "code",
   "execution_count": 2,
   "metadata": {},
   "outputs": [],
   "source": [
    "bond_lengths = np.linspace(0.2,2.6,15)"
   ]
  },
  {
   "cell_type": "code",
   "execution_count": 3,
   "metadata": {},
   "outputs": [
    {
     "name": "stdout",
     "output_type": "stream",
     "text": [
      "converged SCF energy = 0.164175012061695\n",
      "E = 0.1574821347983626 Eh\n",
      "converged SCF energy = -0.839684083956066\n",
      "E = -0.8488991057547286 Eh\n",
      "converged SCF energy = -1.07486102490599\n",
      "E = -1.0882281842437145 Eh\n",
      "converged SCF energy = -1.11750157922789\n",
      "E = -1.1369289593879268 Eh\n",
      "converged SCF energy = -1.09513510118901\n",
      "E = -1.1229570528666366 Eh\n",
      "converged SCF energy = -1.04953250777026\n",
      "E = -1.088764536606875 Eh\n",
      "converged SCF energy = -0.995976005034107\n",
      "E = -1.0504420373457724 Eh\n",
      "converged SCF energy = -0.941480654707799\n",
      "E = -1.0154682492882454 Eh\n",
      "converged SCF energy = -0.889889958382754\n",
      "E = -0.987393055625748 Eh\n",
      "converged SCF energy = -0.843174458569733\n",
      "E = -0.9670259116896887 Eh\n",
      "converged SCF energy = -0.802135433844889\n",
      "E = -0.953424238929029 Eh\n",
      "converged SCF energy = -0.766864889751916\n",
      "E = -0.9449089871327181 Eh\n",
      "converged SCF energy = -0.737027158095766\n",
      "E = -0.9398197912427146 Eh\n",
      "converged SCF energy = -0.712060259734193\n",
      "E = -0.9368706035430503 Eh\n",
      "converged SCF energy = -0.691327561197378\n",
      "E = -0.9351960308474743 Eh\n"
     ]
    }
   ],
   "source": [
    "#Run FCI\n",
    "FCI_PES = obtain_PES('h2', bond_lengths, basis, method='fci')"
   ]
  },
  {
   "cell_type": "code",
   "execution_count": 4,
   "metadata": {},
   "outputs": [
    {
     "name": "stdout",
     "output_type": "stream",
     "text": [
      "converged SCF energy = 0.164175012061695\n",
      "E = 0.1641750120616945 Eh\n",
      "converged SCF energy = -0.839684083956066\n",
      "E = -0.8396840839560673 Eh\n",
      "converged SCF energy = -1.07486102490599\n",
      "E = -1.0748610249059856 Eh\n",
      "converged SCF energy = -1.11750157922789\n",
      "E = -1.1175015792278888 Eh\n",
      "converged SCF energy = -1.09513510118901\n",
      "E = -1.0951351011890114 Eh\n",
      "converged SCF energy = -1.04953250777026\n",
      "E = -1.049532507770262 Eh\n",
      "converged SCF energy = -0.995976005034107\n",
      "E = -0.9959760050341069 Eh\n",
      "converged SCF energy = -0.941480654707799\n",
      "E = -0.9414806547077987 Eh\n",
      "converged SCF energy = -0.889889958382754\n",
      "E = -0.8898899583827544 Eh\n",
      "converged SCF energy = -0.843174458569733\n",
      "E = -0.8431744585697334 Eh\n",
      "converged SCF energy = -0.802135433844889\n",
      "E = -0.8021354338448896 Eh\n",
      "converged SCF energy = -0.766864889751916\n",
      "E = -0.7668648897519159 Eh\n",
      "converged SCF energy = -0.737027158095766\n",
      "E = -0.7370271580957655 Eh\n",
      "converged SCF energy = -0.712060259734193\n",
      "E = -0.7120602597341927 Eh\n",
      "converged SCF energy = -0.691327561197378\n",
      "E = -0.6913275611973779 Eh\n"
     ]
    }
   ],
   "source": [
    "#Run HF\n",
    "HF_PES = obtain_PES('h2', bond_lengths, basis,  method='hf')"
   ]
  },
  {
   "cell_type": "code",
   "execution_count": 5,
   "metadata": {},
   "outputs": [
    {
     "name": "stdout",
     "output_type": "stream",
     "text": [
      "converged SCF energy = 0.164175012061695\n",
      "E = 0.15748213187554627 Eh\n",
      "converged SCF energy = -0.839684083956066\n",
      "E = -0.8488991194884011 Eh\n",
      "converged SCF energy = -1.07486102490599\n",
      "E = -1.088228226369215 Eh\n",
      "converged SCF energy = -1.11750157922789\n",
      "E = -1.1369290925648163 Eh\n",
      "converged SCF energy = -1.09513510118901\n",
      "E = -1.122957052870124 Eh\n",
      "converged SCF energy = -1.04953250777026\n",
      "E = -1.0887645366332943 Eh\n",
      "converged SCF energy = -0.995976005034107\n",
      "E = -1.0504420376226034 Eh\n",
      "converged SCF energy = -0.941480654707799\n",
      "E = -1.0154682493815126 Eh\n",
      "converged SCF energy = -0.889889958382754\n",
      "E = -0.9873930560203342 Eh\n",
      "converged SCF energy = -0.843174458569733\n",
      "E = -0.967025912745896 Eh\n",
      "converged SCF energy = -0.802135433844889\n",
      "E = -0.9534242405780754 Eh\n",
      "converged SCF energy = -0.766864889751916\n",
      "E = -0.9449089882730493 Eh\n",
      "converged SCF energy = -0.737027158095766\n",
      "E = -0.9398197914114315 Eh\n",
      "converged SCF energy = -0.712060259734193\n",
      "E = -0.9368706035448516 Eh\n",
      "converged SCF energy = -0.691327561197378\n",
      "E = -0.9351959716501704 Eh\n"
     ]
    }
   ],
   "source": [
    "#Run CCSD\n",
    "CCSD_PES = obtain_PES('h2', bond_lengths, basis,  method='ccsd')"
   ]
  },
  {
   "cell_type": "code",
   "execution_count": 7,
   "metadata": {},
   "outputs": [
    {
     "data": {
      "text/plain": [
       "<matplotlib.legend.Legend at 0x7ff6e49d2d30>"
      ]
     },
     "execution_count": 7,
     "metadata": {},
     "output_type": "execute_result"
    },
    {
     "data": {
      "image/png": "[encoded data removed]",
      "text/plain": [
       "<Figure size 432x288 with 1 Axes>"
      ]
     },
     "metadata": {
      "needs_background": "light"
     },
     "output_type": "display_data"
    }
   ],
   "source": [
    "#Plot H2 PESs\n",
    "%matplotlib inline\n",
    "\n",
    "plt.title('H2 dissociation, STO-3G')\n",
    "plt.xlabel('R, Angstrom')\n",
    "plt.ylabel('E, Hartree')\n",
    "\n",
    "plt.plot(bond_lengths, FCI_PES, label='FCI')\n",
    "plt.scatter(bond_lengths, HF_PES, label='HF', color='orange')\n",
    "plt.scatter(bond_lengths, CCSD_PES, label='CCSD', color='purple')\n",
    "plt.legend()"
   ]
  },
  {
   "cell_type": "markdown",
   "metadata": {},
   "source": [
    "<img src=\"figs/testimage.png\">"
   ]
  },
  {
   "cell_type": "markdown",
   "metadata": {},
   "source": [
    "## H<sub>2</sub>O symmetric O-H dissociation"
   ]
  },
  {
   "cell_type": "code",
   "execution_count": 8,
   "metadata": {},
   "outputs": [],
   "source": [
    "bond_lengths = np.linspace(0.5,2.7,15)"
   ]
  },
  {
   "cell_type": "code",
   "execution_count": 9,
   "metadata": {},
   "outputs": [
    {
     "name": "stdout",
     "output_type": "stream",
     "text": [
      "converged SCF energy = -73.1294523897688\n",
      "E = -73.14266064419182 Eh\n",
      "converged SCF energy = -74.4533755394603\n",
      "E = -74.47510751244849 Eh\n",
      "converged SCF energy = -74.870474914869\n",
      "E = -74.90403466185091 Eh\n",
      "converged SCF energy = -74.9629980695872\n",
      "E = -75.01375475283757 Eh\n",
      "converged SCF energy = -74.9280772606054\n",
      "E = -75.00350455957073 Eh\n",
      "converged SCF energy = -74.8427106360512\n",
      "E = -74.95165998270588 Eh\n",
      "converged SCF energy = -74.7404009823899\n",
      "E = -74.89214773895249 Eh\n",
      "converged SCF energy = -74.6356397052129\n",
      "E = -74.83920106144599 Eh\n",
      "converged SCF energy = -74.5355993564525\n",
      "E = -74.79864247355975 Eh\n",
      "converged SCF energy = -74.4447494379007\n",
      "E = -74.77160104176531 Eh\n",
      "converged SCF energy = -74.3648409739232\n",
      "E = -74.75568062884761 Eh\n",
      "converged SCF energy = -74.2975641705531\n",
      "E = -74.74704179511417 Eh\n",
      "converged SCF energy = -74.2414470355423\n",
      "E = -74.74248580253675 Eh\n",
      "converged SCF energy = -74.2701898592245\n",
      "E = -74.74007321750213 Eh\n",
      "SCF not converged.\n",
      "SCF energy = -74.2709658561893\n",
      "E = -74.73878064323536 Eh\n"
     ]
    }
   ],
   "source": [
    "#Run FCI\n",
    "FCI_PES = obtain_PES('h2o', bond_lengths, basis, method='fci')"
   ]
  },
  {
   "cell_type": "code",
   "execution_count": 10,
   "metadata": {},
   "outputs": [
    {
     "name": "stdout",
     "output_type": "stream",
     "text": [
      "converged SCF energy = -73.1294523897688\n",
      "E = -73.12945238976876 Eh\n",
      "converged SCF energy = -74.4533755394603\n",
      "E = -74.45337553946034 Eh\n",
      "converged SCF energy = -74.870474914869\n",
      "E = -74.87047491486905 Eh\n",
      "converged SCF energy = -74.9629980695872\n",
      "E = -74.96299806958717 Eh\n",
      "converged SCF energy = -74.9280772606054\n",
      "E = -74.92807726060543 Eh\n",
      "converged SCF energy = -74.8427106360512\n",
      "E = -74.84271063605117 Eh\n",
      "converged SCF energy = -74.7404009823899\n",
      "E = -74.7404009823899 Eh\n",
      "converged SCF energy = -74.6356397052129\n",
      "E = -74.6356397052129 Eh\n",
      "converged SCF energy = -74.5355993564525\n",
      "E = -74.53559935645228 Eh\n",
      "converged SCF energy = -74.4447494379007\n",
      "E = -74.44474943790095 Eh\n",
      "converged SCF energy = -74.3648409739232\n",
      "E = -74.36484097366971 Eh\n",
      "converged SCF energy = -74.2975641705531\n",
      "E = -74.29756417047044 Eh\n",
      "converged SCF energy = -74.2414470355423\n",
      "E = -74.24144703553986 Eh\n",
      "converged SCF energy = -74.2701898592245\n",
      "E = -74.27018985922453 Eh\n",
      "SCF not converged.\n",
      "SCF energy = -74.2709658561893\n",
      "E = -74.27097954871637 Eh\n"
     ]
    }
   ],
   "source": [
    "#Run HF\n",
    "HF_PES = obtain_PES('h2o', bond_lengths, basis,  method='hf')"
   ]
  },
  {
   "cell_type": "code",
   "execution_count": 11,
   "metadata": {},
   "outputs": [
    {
     "name": "stdout",
     "output_type": "stream",
     "text": [
      "converged SCF energy = -73.1294523897688\n",
      "E = -73.14264199013863 Eh\n",
      "converged SCF energy = -74.4533755394603\n",
      "E = -74.47507181152251 Eh\n",
      "converged SCF energy = -74.870474914869\n",
      "E = -74.9039657254601 Eh\n",
      "converged SCF energy = -74.9629980695872\n",
      "E = -75.01362375104934 Eh\n",
      "converged SCF energy = -74.9280772606054\n",
      "E = -75.00323818884036 Eh\n",
      "converged SCF energy = -74.8427106360512\n",
      "E = -74.95111229479166 Eh\n",
      "converged SCF energy = -74.7404009823899\n",
      "E = -74.89124014326615 Eh\n",
      "converged SCF energy = -74.6356397052129\n",
      "E = -74.83851102902905 Eh\n",
      "converged SCF energy = -74.5355993564525\n",
      "E = -74.800707512992 Eh\n",
      "converged SCF energy = -74.4447494379007\n",
      "E = -74.7810888182304 Eh\n",
      "converged SCF energy = -74.3648409739232\n",
      "E = -74.77699594650683 Eh\n",
      "converged SCF energy = -74.2975641705531\n",
      "E = -74.7797599784174 Eh\n",
      "converged SCF energy = -74.2414470355423\n",
      "E = -74.78341476280805 Eh\n",
      "converged SCF energy = -74.2701898592245\n",
      "E = -74.6423936595491 Eh\n",
      "SCF not converged.\n",
      "SCF energy = -74.2709658561893\n",
      "E = -74.64221038359725 Eh\n"
     ]
    }
   ],
   "source": [
    "#Run CCSD\n",
    "CCSD_PES = obtain_PES('h2o', bond_lengths, basis,  method='ccsd')"
   ]
  },
  {
   "cell_type": "code",
   "execution_count": 12,
   "metadata": {},
   "outputs": [
    {
     "data": {
      "text/plain": [
       "<matplotlib.legend.Legend at 0x7ff6e4e20940>"
      ]
     },
     "execution_count": 12,
     "metadata": {},
     "output_type": "execute_result"
    },
    {
     "data": {
      "image/png": "[encoded data removed]",
      "text/plain": [
       "<Figure size 432x288 with 1 Axes>"
      ]
     },
     "metadata": {
      "needs_background": "light"
     },
     "output_type": "display_data"
    }
   ],
   "source": [
    "#Plot H2O PESs\n",
    "\n",
    "plt.title('H2O symmetric dissociation, STO-3G')\n",
    "plt.xlabel('R, Angstrom')\n",
    "plt.ylabel('E, Hartree')\n",
    "\n",
    "plt.plot(bond_lengths, FCI_PES, label='FCI')\n",
    "plt.scatter(bond_lengths, HF_PES, label='HF', color='orange')\n",
    "plt.scatter(bond_lengths, CCSD_PES, label='CCSD', color='purple')\n",
    "plt.legend()"
   ]
  },
  {
   "cell_type": "markdown",
   "metadata": {},
   "source": [
    "# LiH experiments"
   ]
  },
  {
   "cell_type": "code",
   "execution_count": null,
   "metadata": {},
   "outputs": [],
   "source": []
  },
  {
   "cell_type": "code",
   "execution_count": 13,
   "metadata": {},
   "outputs": [
    {
     "name": "stdout",
     "output_type": "stream",
     "text": [
      "Bonds  [1.0, 1.1428571428571428, 1.2857142857142856, 1.4285714285714286, 1.5714285714285714, 1.7142857142857142, 1.8571428571428572, 2.0, 2.142857142857143, 2.2857142857142856, 2.4285714285714284, 2.571428571428571, 2.7142857142857144, 2.8571428571428568, 3.0]\n"
     ]
    }
   ],
   "source": [
    "bond_lengths = [x for x in np.linspace(1.0,3.,15)]\n",
    "print(\"Bonds \", bond_lengths)"
   ]
  },
  {
   "cell_type": "code",
   "execution_count": 14,
   "metadata": {},
   "outputs": [
    {
     "name": "stdout",
     "output_type": "stream",
     "text": [
      "converged SCF energy = -7.76736213574856\n",
      "E = -7.784021320447714 Eh\n",
      "converged SCF energy = -7.8217717368278\n",
      "E = -7.83823071309703 Eh\n",
      "converged SCF energy = -7.85014930748358\n",
      "E = -7.867021394007146 Eh\n",
      "converged SCF energy = -7.86186054886682\n",
      "E = -7.879828050123835 Eh\n",
      "converged SCF energy = -7.86266233945033\n",
      "E = -7.88244271005656 Eh\n",
      "converged SCF energy = -7.8562578126226\n",
      "E = -7.878602083177335 Eh\n",
      "converged SCF energy = -7.84511350054133\n",
      "E = -7.870818098786525 Eh\n",
      "converged SCF energy = -7.83090558463708\n",
      "E = -7.8608282582306135 Eh\n",
      "converged SCF energy = -7.81478745947676\n",
      "E = -7.849862022801246 Eh\n",
      "converged SCF energy = -7.79756397296905\n",
      "E = -7.838807629693247 Eh\n",
      "converged SCF energy = -7.77981080726173\n",
      "E = -7.828313535815831 Eh\n",
      "converged SCF energy = -7.76195663663687\n",
      "E = -7.818838820450994 Eh\n",
      "converged SCF energy = -7.74433634734151\n",
      "E = -7.810666366425997 Eh\n",
      "converged SCF energy = -7.72722087675799\n",
      "E = -7.803904126770144 Eh\n",
      "converged SCF energy = -7.71082990021723\n",
      "E = -7.798504222541858 Eh\n"
     ]
    }
   ],
   "source": [
    "#Run FCI\n",
    "FCI_PES = obtain_PES('lih', bond_lengths, basis, method='fci')"
   ]
  },
  {
   "cell_type": "code",
   "execution_count": 15,
   "metadata": {},
   "outputs": [
    {
     "name": "stdout",
     "output_type": "stream",
     "text": [
      "converged SCF energy = -7.76736213574856\n",
      "E = -7.76736213574858 Eh\n",
      "converged SCF energy = -7.8217717368278\n",
      "E = -7.821771736827804 Eh\n",
      "converged SCF energy = -7.85014930748358\n",
      "E = -7.850149307483593 Eh\n",
      "converged SCF energy = -7.86186054886682\n",
      "E = -7.861860548867691 Eh\n",
      "converged SCF energy = -7.86266233945033\n",
      "E = -7.862662339450331 Eh\n",
      "converged SCF energy = -7.8562578126226\n",
      "E = -7.8562578126226015 Eh\n",
      "converged SCF energy = -7.84511350054133\n",
      "E = -7.845113500541334 Eh\n",
      "converged SCF energy = -7.83090558463708\n",
      "E = -7.830905584637083 Eh\n",
      "converged SCF energy = -7.81478745947676\n",
      "E = -7.8147874594767615 Eh\n",
      "converged SCF energy = -7.79756397296905\n",
      "E = -7.797563972969052 Eh\n",
      "converged SCF energy = -7.77981080726173\n",
      "E = -7.779810807261728 Eh\n",
      "converged SCF energy = -7.76195663663687\n",
      "E = -7.761956636636876 Eh\n",
      "converged SCF energy = -7.74433634734151\n",
      "E = -7.744336347341508 Eh\n",
      "converged SCF energy = -7.72722087675799\n",
      "E = -7.727220876757992 Eh\n",
      "converged SCF energy = -7.71082990021723\n",
      "E = -7.71082990021723 Eh\n"
     ]
    }
   ],
   "source": [
    "#Run HF\n",
    "HF_PES = obtain_PES('lih', bond_lengths, basis,  method='hf')"
   ]
  },
  {
   "cell_type": "code",
   "execution_count": 16,
   "metadata": {},
   "outputs": [
    {
     "name": "stdout",
     "output_type": "stream",
     "text": [
      "converged SCF energy = -7.76736213574856\n",
      "E = -7.784021320322783 Eh\n",
      "converged SCF energy = -7.8217717368278\n",
      "E = -7.838230695801694 Eh\n",
      "converged SCF energy = -7.85014930748358\n",
      "E = -7.867021394305881 Eh\n",
      "converged SCF energy = -7.86186054886682\n",
      "E = -7.8798280505999685 Eh\n",
      "converged SCF energy = -7.86266233945033\n",
      "E = -7.88244271080792 Eh\n",
      "converged SCF energy = -7.8562578126226\n",
      "E = -7.878602083257619 Eh\n",
      "converged SCF energy = -7.84511350054133\n",
      "E = -7.87081809840468 Eh\n",
      "converged SCF energy = -7.83090558463708\n",
      "E = -7.860828240375539 Eh\n",
      "converged SCF energy = -7.81478745947676\n",
      "E = -7.849862021437759 Eh\n",
      "converged SCF energy = -7.79756397296905\n",
      "E = -7.838807629443284 Eh\n",
      "converged SCF energy = -7.77981080726173\n",
      "E = -7.828313535833144 Eh\n",
      "converged SCF energy = -7.76195663663687\n",
      "E = -7.81883882162407 Eh\n",
      "converged SCF energy = -7.74433634734151\n",
      "E = -7.810666365994729 Eh\n",
      "converged SCF energy = -7.72722087675799\n",
      "E = -7.803904122059267 Eh\n",
      "converged SCF energy = -7.71082990021723\n",
      "E = -7.79850422476594 Eh\n"
     ]
    }
   ],
   "source": [
    "#Run CCSD\n",
    "CCSD_PES = obtain_PES('lih', bond_lengths, basis,  method='ccsd')"
   ]
  },
  {
   "cell_type": "code",
   "execution_count": 18,
   "metadata": {},
   "outputs": [
    {
     "data": {
      "text/plain": [
       "<matplotlib.legend.Legend at 0x7ff6e5110f10>"
      ]
     },
     "execution_count": 18,
     "metadata": {},
     "output_type": "execute_result"
    },
    {
     "data": {
      "image/png": "[encoded data removed]",
      "text/plain": [
       "<Figure size 432x288 with 1 Axes>"
      ]
     },
     "metadata": {
      "needs_background": "light"
     },
     "output_type": "display_data"
    }
   ],
   "source": [
    "#Plot LiH PESs\n",
    "plt.title('LiH, STO-3G')\n",
    "plt.xlabel(r'R ($A^\\circ$)',fontsize=20)\n",
    "plt.ylabel(r'Energy ($E_h$)',fontsize=14)\n",
    "\n",
    "plt.plot(bond_lengths, FCI_PES, label='FCI')\n",
    "plt.scatter(bond_lengths, HF_PES, label='HF', color='orange')\n",
    "plt.scatter(bond_lengths, CCSD_PES, label='CCSD', color='purple')\n",
    "plt.legend(loc = 'upper center')"
   ]
  },
  {
   "cell_type": "markdown",
   "metadata": {},
   "source": [
    "# N_2 experiments"
   ]
  },
  {
   "cell_type": "code",
   "execution_count": 19,
   "metadata": {},
   "outputs": [],
   "source": [
    "bond_lengths = [x for x in np.linspace(1.0,2.5,15)] "
   ]
  },
  {
   "cell_type": "code",
   "execution_count": 20,
   "metadata": {},
   "outputs": [
    {
     "name": "stdout",
     "output_type": "stream",
     "text": [
      "converged SCF energy = -107.419532451682\n",
      "E = -107.54909913089496 Eh\n",
      "converged SCF energy = -107.498107964779\n",
      "E = -107.65770236159335 Eh\n",
      "converged SCF energy = -107.482163844633\n",
      "E = -107.67646774352286 Eh\n",
      "converged SCF energy = -107.418881320941\n",
      "E = -107.65247596476337 Eh\n",
      "converged SCF energy = -107.333986469678\n",
      "E = -107.6113769769133 Eh\n",
      "converged SCF energy = -107.241164238016\n",
      "E = -107.56694555601618 Eh\n",
      "converged SCF energy = -107.147678080256\n",
      "E = -107.52681894459629 Eh\n",
      "converged SCF energy = -107.057543201456\n",
      "E = -107.49501004199278 Eh\n",
      "converged SCF energy = -106.97309583238\n",
      "E = -107.4726266799452 Eh\n",
      "converged SCF energy = -106.895649038756\n",
      "E = -107.45844046039899 Eh\n",
      "converged SCF energy = -106.825762218971\n",
      "E = -107.45013816013336 Eh\n",
      "converged SCF energy = -106.763423294753\n",
      "E = -107.44549417014312 Eh\n",
      "converged SCF energy = -106.708240719537\n",
      "E = -107.44289975521387 Eh\n",
      "converged SCF energy = -106.659630621238\n",
      "E = -107.441380356629 Eh\n",
      "converged SCF energy = -106.616959082769\n",
      "E = -107.44041281699681 Eh\n"
     ]
    }
   ],
   "source": [
    "#Run FCI\n",
    "FCI_PES = obtain_PES('n2', bond_lengths, basis, method='fci')"
   ]
  },
  {
   "cell_type": "code",
   "execution_count": 21,
   "metadata": {},
   "outputs": [
    {
     "name": "stdout",
     "output_type": "stream",
     "text": [
      "converged SCF energy = -107.419532451682\n",
      "E = -107.41953245168216 Eh\n",
      "converged SCF energy = -107.498107964779\n",
      "E = -107.49810796477881 Eh\n",
      "converged SCF energy = -107.482163844633\n",
      "E = -107.4821638446329 Eh\n",
      "converged SCF energy = -107.418881320941\n",
      "E = -107.41888132094114 Eh\n",
      "converged SCF energy = -107.333986469678\n",
      "E = -107.33398646967771 Eh\n",
      "converged SCF energy = -107.241164238016\n",
      "E = -107.24116423801624 Eh\n",
      "converged SCF energy = -107.147678080256\n",
      "E = -107.14767808025617 Eh\n",
      "converged SCF energy = -107.057543201456\n",
      "E = -107.05754320145627 Eh\n",
      "converged SCF energy = -106.97309583238\n",
      "E = -106.97309583238015 Eh\n",
      "converged SCF energy = -106.895649038756\n",
      "E = -106.89564903875645 Eh\n",
      "converged SCF energy = -106.825762218971\n",
      "E = -106.82576221897088 Eh\n",
      "converged SCF energy = -106.763423294753\n",
      "E = -106.76342329475276 Eh\n",
      "converged SCF energy = -106.708240719537\n",
      "E = -106.70824071953662 Eh\n",
      "converged SCF energy = -106.659630621238\n",
      "E = -106.65963062123777 Eh\n",
      "converged SCF energy = -106.616959082769\n",
      "E = -106.61695908276899 Eh\n"
     ]
    }
   ],
   "source": [
    "#Run HF\n",
    "HF_PES = obtain_PES('n2', bond_lengths, basis,  method='hf')"
   ]
  },
  {
   "cell_type": "code",
   "execution_count": 22,
   "metadata": {},
   "outputs": [
    {
     "name": "stdout",
     "output_type": "stream",
     "text": [
      "converged SCF energy = -107.419532451682\n",
      "E = -107.54652281753592 Eh\n",
      "converged SCF energy = -107.498107964779\n",
      "E = -107.65365969032304 Eh\n",
      "converged SCF energy = -107.482163844633\n",
      "E = -107.67022875455264 Eh\n",
      "converged SCF energy = -107.418881320941\n",
      "E = -107.6433010317038 Eh\n",
      "converged SCF energy = -107.333986469678\n",
      "E = -107.59905513922799 Eh\n",
      "converged SCF energy = -107.241164238016\n",
      "E = -107.55297693249399 Eh\n",
      "converged SCF energy = -107.147678080256\n",
      "E = -107.51661744093731 Eh\n",
      "converged SCF energy = -107.057543201456\n",
      "E = -107.50072648738458 Eh\n",
      "converged SCF energy = -106.97309583238\n",
      "E = -107.51332305813847 Eh\n",
      "converged SCF energy = -106.895649038756\n",
      "E = -107.54569410619425 Eh\n",
      "converged SCF energy = -106.825762218971\n",
      "E = -107.17441113149584 Eh\n",
      "converged SCF energy = -106.763423294753\n",
      "E = -107.2860758375516 Eh\n",
      "converged SCF energy = -106.708240719537\n",
      "E = -107.19051860873437 Eh\n",
      "converged SCF energy = -106.659630621238\n",
      "E = -107.06730701489165 Eh\n",
      "converged SCF energy = -106.616959082769\n",
      "E = -106.76728740156955 Eh\n"
     ]
    }
   ],
   "source": [
    "#Run CCSD\n",
    "CCSD_PES = obtain_PES('n2', bond_lengths, basis,  method='ccsd')"
   ]
  },
  {
   "cell_type": "code",
   "execution_count": 23,
   "metadata": {},
   "outputs": [
    {
     "data": {
      "text/plain": [
       "<matplotlib.legend.Legend at 0x7ff6e51d4730>"
      ]
     },
     "execution_count": 23,
     "metadata": {},
     "output_type": "execute_result"
    },
    {
     "data": {
      "image/png": "[encoded data removed]",
      "text/plain": [
       "<Figure size 432x288 with 1 Axes>"
      ]
     },
     "metadata": {
      "needs_background": "light"
     },
     "output_type": "display_data"
    }
   ],
   "source": [
    "#Plot N2 PESs\n",
    "\n",
    "plt.title('N2, STO-3G')\n",
    "plt.xlabel(r'R ($A^\\circ$)',fontsize=20)\n",
    "plt.ylabel(r'Energy ($E_h$)',fontsize=14)\n",
    "\n",
    "plt.plot(bond_lengths, FCI_PES, label='FCI')\n",
    "plt.scatter(bond_lengths, HF_PES, label='HF', color='orange')\n",
    "plt.scatter(bond_lengths, CCSD_PES, label='CCSD', color='purple')\n",
    "plt.legend(loc = 'upper center')"
   ]
  },
  {
   "cell_type": "markdown",
   "metadata": {},
   "source": [
    "# Separability experiments for LiH"
   ]
  },
  {
   "cell_type": "code",
   "execution_count": 26,
   "metadata": {},
   "outputs": [
    {
     "name": "stdout",
     "output_type": "stream",
     "text": [
      "converged SCF energy = -1.1167061372361\n",
      "E = -1.1167061372361042 Eh\n",
      "converged SCF energy = -1.1167061372361\n",
      "E = -1.1372744055294377 Eh\n",
      "converged SCF energy = -1.1167061372361\n",
      "E = -1.1372745709766414 Eh\n",
      "Could not converge\n",
      "Could not converge\n",
      "Could not converge\n"
     ]
    }
   ],
   "source": [
    "r0 = 0.741\n",
    "hf_PES = obtain_PES('h2', [r0], basis, method='hf')\n",
    "fci_PES = obtain_PES('h2', [r0], basis, method='fci')\n",
    "ccsd_PES = obtain_PES('h2', [r0], basis, method='ccsd')\n",
    "\n",
    "hf_PES2 = obtain_PES('h2x2', [5.], basis, method='hf')\n",
    "fci_PES2 = obtain_PES('h2x2', [5.], basis, method='fci')\n",
    "ccsd_PES2 = obtain_PES('h2x2', [5.], basis, method='ccsd')\n",
    "\n"
   ]
  },
  {
   "cell_type": "code",
   "execution_count": null,
   "metadata": {},
   "outputs": [],
   "source": []
  }
 ],
 "metadata": {
  "kernelspec": {
   "display_name": "Python 3",
   "language": "python",
   "name": "python3"
  },
  "language_info": {
   "codemirror_mode": {
    "name": "ipython",
    "version": 3
   },
   "file_extension": ".py",
   "mimetype": "text/x-python",
   "name": "python",
   "nbconvert_exporter": "python",
   "pygments_lexer": "ipython3",
   "version": "3.8.11"
  }
 },
 "nbformat": 4,
 "nbformat_minor": 4
}
