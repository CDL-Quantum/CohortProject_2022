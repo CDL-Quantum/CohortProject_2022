{
 "cells": [
  {
   "cell_type": "markdown",
   "metadata": {},
   "source": [
    "# Review of classical electronic structure methods \n",
    "\n",
    "In order to assess the performance of quantum computing algorithms in addressing the electronic structure problem, we will briefly review a few commonly employed classical electronic structure methods of varying level of approximation. \n",
    "\n",
    "## Hartree-Fock\n",
    "\n",
    "The Hartree-Fock (HF) method employs a **mean-field approximation**, where Coulomb correlation of electrons is neglected. The HF wavefunction is hence restricted to the form of a single Slater determinant, for which the optimal form may be acquired by an optimization of the underlying single particle basis (orbitals). Once the optimal HF orbitals have been found, the HF state may be written as \n",
    "\n",
    "$$ | \\text{HF} \\rangle = \\prod_{p \\in \\text{occ}} \\hat a^\\dagger_p | \\text{vac} \\rangle $$\n",
    "\n",
    "where $\\hat a^\\dagger_p$ creates an electron in the $p^{\\rm{th}}$ optimized HF spin orbital, and  $| \\text{vac} \\rangle$ is the vacuum state (all spin-orbitals unoccupied). Due to the restriction to a single Slater determinant, the HF energy may be obtained very efficiently and can be applied to very large molecules, however it becomes qualitatively incorrect when **electronic correlations** become sufficiently strong. The HF wavefunction is often used as a starting point in more accurate treatments of electronic correlation. \n",
    "\n",
    "## Coupled cluster\n",
    "\n",
    "The Coupled cluster (CC) method introduces electronic correlation to the wavefunction ansatz by operating on the HF reference state with the exponential of excitation operators\n",
    "\n",
    "$$|\\text{CC} \\rangle = e^{\\hat T} | \\text{HF}\\rangle, \\quad \\hat T = \\hat T_1 + \\hat T_2 + ...$$\n",
    "\n",
    "where $\\hat T_1 = \\sum_{ia} t^{a}_i \\hat a^\\dagger_a \\hat a_i$ are referred to as 'singles', $\\hat T_2 = \\sum_{ijab} t^{ab}_{ij} \\hat a^\\dagger_a \\hat a^\\dagger_b \\hat a_i \\hat a_j$ as 'doubles', etc. When the excitation rank is truncated to only singles (S) and doubles (D), $\\hat T = \\hat T_1 + \\hat T_2$, the corresponding ansatz is referred to as CCSD. Since the number of possible single and double excitations for a system of $N$ electrons in $M$ orbitals is polynomial in $M$, one can efficiently solve a system of equations to obtain the optimized CCSD amplitudes. CCSD often gives accurate energies and can be applied to modestly sized chemical systems. However, due to its implementation, it can **violate the variational principle** and give energies lower than the ground state.\n",
    "\n",
    "## Full Configuration Interaction\n",
    "The full configuration interaction (FCI) method yields the **exact ground state energy** within a given basis set. The FCI wavefunction is written as a linear combination of all possible $N$-particle Slater determinants over the orbital basis\n",
    "$$|\\text{FCI} \\rangle =  \\left( \\sum_{ia} C^{a}_i \\hat a^\\dagger_a \\hat a_i + \\sum_{ijab} C^{ab}_{ij} \\hat a^\\dagger_a \\hat a^\\dagger_b \\hat a_i \\hat a_j + ...  \\right) | \\text{HF} \\rangle $$\n",
    "where the sum includes up to $N$-electron excitations, and hence there are an exponential number of coefficients to optimize in $| \\text{FCI} \\rangle$. Due to its **exponential complexity**, FCI is often reserved for only the smallest chemical systems. However, it serves as a useful result to compare to when assessing tractable electronic structure methods."
   ]
  },
  {
   "cell_type": "markdown",
   "metadata": {},
   "source": [
    "# Benchmarking for electronic PESs in minimal basis (STO-3G)\n",
    "\n",
    "We will apply HF, CCSD, and FCI to obtaining the PESs for a few molecular dissociation processes in minimal (STO-3G) basis."
   ]
  },
  {
   "cell_type": "code",
   "execution_count": 1,
   "metadata": {},
   "outputs": [
    {
     "name": "stderr",
     "output_type": "stream",
     "text": [
      "/home/toto/anaconda3/envs/tequila/lib/python3.7/site-packages/pyscf/lib/misc.py:46: H5pyDeprecationWarning: Using default_file_mode other than 'r' is deprecated. Pass the mode to h5py.File() instead.\n",
      "  h5py.get_config().default_file_mode = 'a'\n"
     ]
    }
   ],
   "source": [
    "import numpy as np\n",
    "import matplotlib.pyplot as plt\n",
    "from utility import get_molecular_data, obtain_PES\n",
    "\n",
    "basis = 'sto-3g'"
   ]
  },
  {
   "cell_type": "markdown",
   "metadata": {},
   "source": [
    "## H<sub>2</sub>"
   ]
  },
  {
   "cell_type": "code",
   "execution_count": 2,
   "metadata": {},
   "outputs": [],
   "source": [
    "bond_lengths = np.linspace(0.2,2.6,15)"
   ]
  },
  {
   "cell_type": "code",
   "execution_count": 3,
   "metadata": {},
   "outputs": [
    {
     "name": "stdout",
     "output_type": "stream",
     "text": [
      "converged SCF energy = -5.20764371334677\n",
      "E = -5.261609469860386 Eh\n",
      "converged SCF energy = -12.0151700923054\n",
      "E = -12.06495610019475 Eh\n",
      "converged SCF energy = -13.9952479148013\n",
      "E = -14.034234080231748 Eh\n",
      "converged SCF energy = -14.8936505810723\n",
      "E = -14.922607626809516 Eh\n",
      "converged SCF energy = -15.3162702430393\n",
      "E = -15.341694790934923 Eh\n",
      "converged SCF energy = -15.498619288999\n",
      "E = -15.525137640787335 Eh\n",
      "converged SCF energy = -15.557846349987\n",
      "E = -15.588656740341191 Eh\n",
      "converged SCF energy = -15.5524598103709\n",
      "E = -15.590400228138503 Eh\n",
      "converged SCF energy = -15.5127637078718\n",
      "E = -15.560917803418517 Eh\n",
      "converged SCF energy = -15.4550960271233\n",
      "E = -15.517116536391038 Eh\n",
      "converged SCF energy = -15.3888479081095\n",
      "E = -15.469136621394696 Eh\n",
      "converged SCF energy = -15.3198547118837\n",
      "E = -15.423696408149311 Eh\n",
      "converged SCF energy = -15.2520144790746\n",
      "E = -15.385733134519185 Eh\n",
      "converged SCF energy = -15.1880720378971\n",
      "E = -15.358946505915146 Eh\n",
      "converged SCF energy = -15.129993302793\n",
      "E = -15.344355776239716 Eh\n"
     ]
    }
   ],
   "source": [
    "#Run FCI\n",
    "FCI_PES = obtain_PES('beh2', bond_lengths, basis, method='fci')"
   ]
  },
  {
   "cell_type": "code",
   "execution_count": 4,
   "metadata": {},
   "outputs": [
    {
     "name": "stdout",
     "output_type": "stream",
     "text": [
      "converged SCF energy = -5.20764371334677\n",
      "E = -5.20764371334678 Eh\n",
      "converged SCF energy = -12.0151700923054\n",
      "E = -12.015170092305375 Eh\n",
      "converged SCF energy = -13.9952479148013\n",
      "E = -13.99524791480132 Eh\n",
      "converged SCF energy = -14.8936505810723\n",
      "E = -14.893650581072285 Eh\n",
      "converged SCF energy = -15.3162702430393\n",
      "E = -15.316270243039359 Eh\n",
      "converged SCF energy = -15.498619288999\n",
      "E = -15.498619288999011 Eh\n",
      "converged SCF energy = -15.557846349987\n",
      "E = -15.557846349987027 Eh\n",
      "converged SCF energy = -15.5524598103709\n",
      "E = -15.552459810370975 Eh\n",
      "converged SCF energy = -15.5127637078718\n",
      "E = -15.512763707871839 Eh\n",
      "converged SCF energy = -15.4550960271233\n",
      "E = -15.4550960271233 Eh\n",
      "converged SCF energy = -15.3888479081095\n",
      "E = -15.388847908109456 Eh\n",
      "converged SCF energy = -15.3198547118837\n",
      "E = -15.319854711883739 Eh\n",
      "converged SCF energy = -15.2520144790746\n",
      "E = -15.252014479074571 Eh\n",
      "converged SCF energy = -15.1880720378971\n",
      "E = -15.188072037897154 Eh\n",
      "converged SCF energy = -15.129993302793\n",
      "E = -15.129993302793066 Eh\n"
     ]
    }
   ],
   "source": [
    "#Run HF\n",
    "HF_PES = obtain_PES('beh2', bond_lengths, basis,  method='hf')"
   ]
  },
  {
   "cell_type": "code",
   "execution_count": 5,
   "metadata": {},
   "outputs": [
    {
     "name": "stdout",
     "output_type": "stream",
     "text": [
      "converged SCF energy = -5.20764371334677\n",
      "E = -5.261303944776371 Eh\n",
      "converged SCF energy = -12.0151700923054\n",
      "E = -12.064421513704977 Eh\n",
      "converged SCF energy = -13.9952479148013\n",
      "E = -14.033707869163262 Eh\n",
      "converged SCF energy = -14.8936505810723\n",
      "E = -14.92224171076628 Eh\n",
      "converged SCF energy = -15.3162702430393\n",
      "E = -15.34141342551652 Eh\n",
      "converged SCF energy = -15.498619288999\n",
      "E = -15.524868671455962 Eh\n",
      "converged SCF energy = -15.557846349987\n",
      "E = -15.58833799984659 Eh\n",
      "converged SCF energy = -15.5524598103709\n",
      "E = -15.589953807634497 Eh\n",
      "converged SCF energy = -15.5127637078718\n",
      "E = -15.560217317189803 Eh\n",
      "converged SCF energy = -15.4550960271233\n",
      "E = -15.515930189952504 Eh\n",
      "converged SCF energy = -15.3888479081095\n",
      "E = -15.467032318499287 Eh\n",
      "converged SCF energy = -15.3198547118837\n",
      "E = -15.419943522281695 Eh\n",
      "converged SCF energy = -15.2520144790746\n",
      "E = -15.379531957208702 Eh\n",
      "converged SCF energy = -15.1880720378971\n",
      "E = -15.35100546893823 Eh\n",
      "converged SCF energy = -15.129993302793\n",
      "E = -15.337746659344594 Eh\n"
     ]
    }
   ],
   "source": [
    "#Run CCSD\n",
    "CCSD_PES = obtain_PES('beh2', bond_lengths, basis,  method='ccsd')"
   ]
  },
  {
   "cell_type": "code",
   "execution_count": 6,
   "metadata": {},
   "outputs": [
    {
     "data": {
      "text/plain": [
       "array([0.2       , 0.37142857, 0.54285714, 0.71428571, 0.88571429,\n",
       "       1.05714286, 1.22857143, 1.4       , 1.57142857, 1.74285714,\n",
       "       1.91428571, 2.08571429, 2.25714286, 2.42857143, 2.6       ])"
      ]
     },
     "execution_count": 6,
     "metadata": {},
     "output_type": "execute_result"
    }
   ],
   "source": [
    "bond_lengths"
   ]
  },
  {
   "cell_type": "code",
   "execution_count": 7,
   "metadata": {},
   "outputs": [
    {
     "data": {
      "text/plain": [
       "<matplotlib.legend.Legend at 0x7f86941727f0>"
      ]
     },
     "execution_count": 7,
     "metadata": {},
     "output_type": "execute_result"
    },
    {
     "data": {
      "image/png": "[encoded data removed]",
      "text/plain": [
       "<Figure size 432x288 with 1 Axes>"
      ]
     },
     "metadata": {
      "needs_background": "light"
     },
     "output_type": "display_data"
    }
   ],
   "source": [
    "#Plot H2 PESs\n",
    "\n",
    "plt.title('Beh2 dissociation, STO-3G')\n",
    "plt.xlabel('R, Angstrom')\n",
    "plt.ylabel('E, Hartree')\n",
    "\n",
    "plt.plot(bond_lengths, FCI_PES, label='FCI')\n",
    "plt.scatter(bond_lengths, HF_PES, label='HF', color='orange')\n",
    "plt.scatter(bond_lengths, CCSD_PES, label='CCSD', color='purple')\n",
    "plt.legend()"
   ]
  },
  {
   "cell_type": "markdown",
   "metadata": {},
   "source": [
    "<img src=\"figs/testimage.png\">"
   ]
  },
  {
   "cell_type": "markdown",
   "metadata": {},
   "source": [
    "## H<sub>2</sub>O symmetric O-H dissociation"
   ]
  },
  {
   "cell_type": "code",
   "execution_count": 8,
   "metadata": {},
   "outputs": [],
   "source": [
    "bond_lengths = np.linspace(0.5,2.7,15)"
   ]
  },
  {
   "cell_type": "code",
   "execution_count": 9,
   "metadata": {},
   "outputs": [
    {
     "name": "stdout",
     "output_type": "stream",
     "text": [
      "converged SCF energy = -73.1294523897688\n",
      "E = -73.14266064419186 Eh\n",
      "converged SCF energy = -74.4533755394604\n",
      "E = -74.4751075124485 Eh\n",
      "converged SCF energy = -74.870474914869\n",
      "E = -74.90403466185086 Eh\n",
      "converged SCF energy = -74.9629980695871\n",
      "E = -75.01375475283753 Eh\n",
      "converged SCF energy = -74.9280772606054\n",
      "E = -75.00350455957073 Eh\n",
      "converged SCF energy = -74.8427106360511\n",
      "E = -74.95165998270585 Eh\n",
      "converged SCF energy = -74.7404009823898\n",
      "E = -74.89214773895245 Eh\n",
      "converged SCF energy = -74.635639705213\n",
      "E = -74.83920106144603 Eh\n",
      "converged SCF energy = -74.5355993564524\n",
      "E = -74.79864247355965 Eh\n",
      "converged SCF energy = -74.4447494379007\n",
      "E = -74.77160104176522 Eh\n",
      "converged SCF energy = -74.3648409739232\n",
      "E = -74.75568062884756 Eh\n",
      "converged SCF energy = -74.2975641705531\n",
      "E = -74.74704179511413 Eh\n",
      "converged SCF energy = -74.2414470355423\n",
      "E = -74.74248580253669 Eh\n",
      "converged SCF energy = -74.2701898592245\n",
      "E = -74.74007321750207 Eh\n",
      "SCF not converged.\n",
      "SCF energy = -72.9779091970606\n",
      "E = -74.73877996591855 Eh\n"
     ]
    }
   ],
   "source": [
    "#Run FCI\n",
    "FCI_PES = obtain_PES('h2o', bond_lengths, basis, method='fci')"
   ]
  },
  {
   "cell_type": "code",
   "execution_count": 10,
   "metadata": {},
   "outputs": [
    {
     "name": "stdout",
     "output_type": "stream",
     "text": [
      "converged SCF energy = -73.1294523897688\n",
      "E = -73.12945238976879 Eh\n",
      "converged SCF energy = -74.4533755394604\n",
      "E = -74.45337553946032 Eh\n",
      "converged SCF energy = -74.870474914869\n",
      "E = -74.87047491486898 Eh\n",
      "converged SCF energy = -74.9629980695871\n",
      "E = -74.96299806958714 Eh\n",
      "converged SCF energy = -74.9280772606054\n",
      "E = -74.92807726060542 Eh\n",
      "converged SCF energy = -74.8427106360511\n",
      "E = -74.84271063605114 Eh\n",
      "converged SCF energy = -74.7404009823898\n",
      "E = -74.74040098238984 Eh\n",
      "converged SCF energy = -74.635639705213\n",
      "E = -74.63563970521292 Eh\n",
      "converged SCF energy = -74.5355993564524\n",
      "E = -74.5355993564522 Eh\n",
      "converged SCF energy = -74.4447494379007\n",
      "E = -74.44474943790088 Eh\n",
      "converged SCF energy = -74.3648409739232\n",
      "E = -74.36484097367011 Eh\n",
      "converged SCF energy = -74.2975641705531\n",
      "E = -74.29756417047129 Eh\n",
      "converged SCF energy = -74.2414470355423\n",
      "E = -74.24144703553984 Eh\n",
      "converged SCF energy = -74.2701898592245\n",
      "E = -74.27018985922447 Eh\n",
      "SCF not converged.\n",
      "SCF energy = -72.9779091970606\n",
      "E = -74.27384558971953 Eh\n"
     ]
    }
   ],
   "source": [
    "#Run HF\n",
    "HF_PES = obtain_PES('h2o', bond_lengths, basis,  method='hf')"
   ]
  },
  {
   "cell_type": "code",
   "execution_count": 11,
   "metadata": {},
   "outputs": [
    {
     "name": "stdout",
     "output_type": "stream",
     "text": [
      "converged SCF energy = -73.1294523897688\n",
      "E = -73.14264199013864 Eh\n",
      "converged SCF energy = -74.4533755394604\n",
      "E = -74.47507181152251 Eh\n",
      "converged SCF energy = -74.870474914869\n",
      "E = -74.90396572546004 Eh\n",
      "converged SCF energy = -74.9629980695871\n",
      "E = -75.01362375104931 Eh\n",
      "converged SCF energy = -74.9280772606054\n",
      "E = -75.00323818884034 Eh\n",
      "converged SCF energy = -74.8427106360511\n",
      "E = -74.95111229479164 Eh\n",
      "converged SCF energy = -74.7404009823898\n",
      "E = -74.89124014326607 Eh\n",
      "converged SCF energy = -74.635639705213\n",
      "E = -74.83851102902908 Eh\n",
      "converged SCF energy = -74.5355993564524\n",
      "E = -74.80070751299603 Eh\n",
      "converged SCF energy = -74.4447494379007\n",
      "E = -74.78108881825993 Eh\n",
      "converged SCF energy = -74.3648409739232\n",
      "E = -74.77699594674745 Eh\n",
      "converged SCF energy = -74.2975641705531\n",
      "E = -74.77975997839296 Eh\n",
      "converged SCF energy = -74.2414470355423\n",
      "E = -74.78341476280087 Eh\n",
      "converged SCF energy = -74.2701898592245\n",
      "E = -74.64238990015475 Eh\n",
      "SCF not converged.\n",
      "SCF energy = -72.9779091970606\n",
      "E = -72.96891630062034 Eh\n"
     ]
    }
   ],
   "source": [
    "#Run CCSD\n",
    "CCSD_PES = obtain_PES('h2o', bond_lengths, basis,  method='ccsd')"
   ]
  },
  {
   "cell_type": "code",
   "execution_count": 12,
   "metadata": {},
   "outputs": [
    {
     "data": {
      "text/plain": [
       "<matplotlib.legend.Legend at 0x7f869400ff98>"
      ]
     },
     "execution_count": 12,
     "metadata": {},
     "output_type": "execute_result"
    },
    {
     "data": {
      "image/png": "[encoded data removed]",
      "text/plain": [
       "<Figure size 432x288 with 1 Axes>"
      ]
     },
     "metadata": {
      "needs_background": "light"
     },
     "output_type": "display_data"
    }
   ],
   "source": [
    "#Plot H2O PESs\n",
    "\n",
    "plt.title('H2O symmetric dissociation, STO-3G')\n",
    "plt.xlabel('R, Angstrom')\n",
    "plt.ylabel('E, Hartree')\n",
    "\n",
    "plt.plot(bond_lengths, FCI_PES, label='FCI')\n",
    "plt.scatter(bond_lengths, HF_PES, label='HF', color='orange')\n",
    "plt.scatter(bond_lengths, CCSD_PES, label='CCSD', color='purple')\n",
    "plt.legend()"
   ]
  },
  {
   "cell_type": "markdown",
   "metadata": {},
   "source": [
    "## H<sub>4</sub>"
   ]
  },
  {
   "cell_type": "code",
   "execution_count": 13,
   "metadata": {},
   "outputs": [
    {
     "name": "stdout",
     "output_type": "stream",
     "text": [
      "converged SCF energy = -0.490349430194863\n",
      "E = -0.641335842421463 Eh\n",
      "converged SCF energy = -1.25392999623564\n",
      "E = -1.4206608962773828 Eh\n",
      "converged SCF energy = -1.56595801808573\n",
      "E = -1.7495063386569365 Eh\n",
      "converged SCF energy = -1.68498777833325\n",
      "E = -1.8994593810692706 Eh\n",
      "converged SCF energy = -1.71129034640399\n",
      "E = -1.9578670493505066 Eh\n",
      "converged SCF energy = -1.69051863902548\n",
      "E = -1.9705680764803604 Eh\n",
      "converged SCF energy = -1.64636314461786\n",
      "E = -1.9612229842977378 Eh\n",
      "converged SCF energy = -1.59207429477835\n",
      "E = -1.9429389599882532 Eh\n",
      "converged SCF energy = -1.53534452748882\n",
      "E = -1.9231393794642848 Eh\n",
      "converged SCF energy = -1.48067023424762\n",
      "E = -1.9057257762439963 Eh\n",
      "converged SCF energy = -1.43056954202702\n",
      "E = -1.892223038877695 Eh\n",
      "converged SCF energy = -1.38625584606783\n",
      "E = -1.8826503216484134 Eh\n",
      "converged SCF energy = -1.34807126605244\n",
      "E = -1.8762910041644876 Eh\n",
      "converged SCF energy = -1.31581002744399\n",
      "E = -1.872257347242544 Eh\n",
      "converged SCF energy = -1.2889603487334\n",
      "E = -1.8697821728300925 Eh\n",
      "converged SCF energy = -0.490349430194863\n",
      "E = -0.4903494301948683 Eh\n",
      "converged SCF energy = -1.25392999623564\n",
      "E = -1.253929996235641 Eh\n",
      "converged SCF energy = -1.56595801808573\n",
      "E = -1.565958018085725 Eh\n",
      "converged SCF energy = -1.68498777833325\n",
      "E = -1.6849877783332534 Eh\n",
      "converged SCF energy = -1.71129034640399\n",
      "E = -1.711290346404009 Eh\n",
      "converged SCF energy = -1.69051863902548\n",
      "E = -1.69051863902585 Eh\n",
      "converged SCF energy = -1.64636314461786\n",
      "E = -1.646363144622455 Eh\n",
      "converged SCF energy = -1.59207429477835\n",
      "E = -1.5920742947913156 Eh\n",
      "converged SCF energy = -1.53534452748882\n",
      "E = -1.5353445275080793 Eh\n",
      "converged SCF energy = -1.48067023424762\n",
      "E = -1.480670234247618 Eh\n",
      "converged SCF energy = -1.43056954202702\n",
      "E = -1.4305695420270228 Eh\n",
      "converged SCF energy = -1.38625584606783\n",
      "E = -1.3862558460713348 Eh\n",
      "converged SCF energy = -1.34807126605244\n",
      "E = -1.3480712660607388 Eh\n",
      "converged SCF energy = -1.31581002744399\n",
      "E = -1.3158100274439857 Eh\n",
      "converged SCF energy = -1.2889603487334\n",
      "E = -1.2889603487334054 Eh\n",
      "converged SCF energy = -0.490349430194863\n",
      "E = -0.5162706003092609 Eh\n",
      "converged SCF energy = -1.25392999623564\n",
      "E = -1.275084539878343 Eh\n",
      "converged SCF energy = -1.56595801808573\n",
      "E = -1.6017487502620433 Eh\n",
      "converged SCF energy = -1.68498777833325\n",
      "E = -1.7377396013740163 Eh\n",
      "converged SCF energy = -1.71129034640399\n",
      "E = -1.783186354413988 Eh\n",
      "converged SCF energy = -1.69051863902548\n",
      "E = -1.7858257886973585 Eh\n",
      "converged SCF energy = -1.64636314461786\n",
      "E = -1.7724959608237045 Eh\n",
      "converged SCF energy = -1.59207429477835\n",
      "E = -1.7601222341237308 Eh\n",
      "converged SCF energy = -1.53534452748882\n",
      "E = -1.758315062432779 Eh\n",
      "converged SCF energy = -1.48067023424762\n",
      "E = -1.7684836948951985 Eh\n",
      "converged SCF energy = -1.43056954202702\n",
      "E = -1.7856409913129847 Eh\n",
      "converged SCF energy = -1.38625584606783\n",
      "E = -1.8039768676173704 Eh\n",
      "converged SCF energy = -1.34807126605244\n",
      "E = -1.8201537046055538 Eh\n",
      "converged SCF energy = -1.31581002744399\n",
      "E = -1.8330957570159334 Eh\n",
      "converged SCF energy = -1.2889603487334\n",
      "E = -1.8428920007383511 Eh\n"
     ]
    },
    {
     "data": {
      "text/plain": [
       "<matplotlib.legend.Legend at 0x7f869402e198>"
      ]
     },
     "execution_count": 13,
     "metadata": {},
     "output_type": "execute_result"
    },
    {
     "data": {
      "image/png": "[encoded data removed]",
      "text/plain": [
       "<Figure size 432x288 with 1 Axes>"
      ]
     },
     "metadata": {
      "needs_background": "light"
     },
     "output_type": "display_data"
    }
   ],
   "source": [
    "bond_lengths = np.linspace(0.5,2.7,15)\n",
    "\n",
    "#Run FCI\n",
    "FCI_PES = obtain_PES('h4', bond_lengths, basis, method='fci')\n",
    "\n",
    "#Run HF\n",
    "HF_PES = obtain_PES('h4', bond_lengths, basis,  method='hf')\n",
    "\n",
    "\n",
    "#Run CCSD\n",
    "CCSD_PES = obtain_PES('h4', bond_lengths, basis,  method='ccsd')\n",
    "\n",
    "\n",
    "#Plot H2O PESs\n",
    "\n",
    "plt.title('H4 symmetric dissociation, STO-3G')\n",
    "plt.xlabel('R, Angstrom')\n",
    "plt.ylabel('E, Hartree')\n",
    "\n",
    "plt.plot(bond_lengths, FCI_PES, label='FCI')\n",
    "plt.scatter(bond_lengths, HF_PES, label='HF', color='orange')\n",
    "plt.scatter(bond_lengths, CCSD_PES, label='CCSD', color='purple')\n",
    "plt.legend()"
   ]
  },
  {
   "cell_type": "markdown",
   "metadata": {},
   "source": [
    "## N<sub>2</sub>"
   ]
  },
  {
   "cell_type": "code",
   "execution_count": 14,
   "metadata": {},
   "outputs": [
    {
     "name": "stdout",
     "output_type": "stream",
     "text": [
      "converged SCF energy = -100.573097041036\n",
      "E = -100.61110406799 Eh\n",
      "converged SCF energy = -105.049839282597\n",
      "E = -105.10993765950843 Eh\n",
      "converged SCF energy = -106.776383879108\n",
      "E = -106.86439477631563 Eh\n",
      "converged SCF energy = -107.3730531355\n",
      "E = -107.4953963734604 Eh\n",
      "converged SCF energy = -107.50055920472\n",
      "E = -107.66672237011994 Eh\n",
      "converged SCF energy = -107.443329077631\n",
      "E = -107.6633263756012 Eh\n",
      "converged SCF energy = -107.321862235985\n",
      "E = -107.60543135286065 Eh\n",
      "converged SCF energy = -107.184846460802\n",
      "E = -107.54202861224894 Eh\n",
      "converged SCF energy = -107.051717252766\n",
      "E = -107.493227866654 Eh\n",
      "converged SCF energy = -106.930868701857\n",
      "E = -107.4641790382084 Eh\n",
      "converged SCF energy = -106.825762218971\n",
      "E = -107.45013816013338 Eh\n",
      "converged SCF energy = -106.736813829634\n",
      "E = -107.4441006970192 Eh\n",
      "converged SCF energy = -106.662679574349\n",
      "E = -107.4414604544912 Eh\n",
      "converged SCF energy = -106.601415893834\n",
      "E = -107.44011306579706 Eh\n",
      "converged SCF energy = -106.551145868711\n",
      "E = -107.4389638809748 Eh\n",
      "converged SCF energy = -100.573097041036\n",
      "E = -100.57309704103602 Eh\n",
      "converged SCF energy = -105.049839282597\n",
      "E = -105.04983928259679 Eh\n",
      "converged SCF energy = -106.776383879108\n",
      "E = -106.77638387910798 Eh\n",
      "converged SCF energy = -107.3730531355\n",
      "E = -107.37305313550036 Eh\n",
      "converged SCF energy = -107.50055920472\n",
      "E = -107.50055920472006 Eh\n",
      "converged SCF energy = -107.443329077631\n",
      "E = -107.44332907763146 Eh\n",
      "converged SCF energy = -107.321862235985\n",
      "E = -107.32186223598532 Eh\n",
      "converged SCF energy = -107.184846460802\n",
      "E = -107.18484646080225 Eh\n",
      "converged SCF energy = -107.051717252766\n",
      "E = -107.05171725276568 Eh\n",
      "converged SCF energy = -106.930868701857\n",
      "E = -106.93086870185704 Eh\n",
      "converged SCF energy = -106.825762218971\n",
      "E = -106.82576221897088 Eh\n",
      "converged SCF energy = -106.736813829634\n",
      "E = -106.73681382963414 Eh\n",
      "converged SCF energy = -106.662679574349\n",
      "E = -106.66267957434901 Eh\n",
      "converged SCF energy = -106.601415893834\n",
      "E = -106.60141589383353 Eh\n",
      "converged SCF energy = -106.551145868711\n",
      "E = -106.55114586871127 Eh\n",
      "converged SCF energy = -100.573097041036\n",
      "E = -100.61082849222204 Eh\n",
      "converged SCF energy = -105.049839282597\n",
      "E = -105.10932398840838 Eh\n",
      "converged SCF energy = -106.776383879108\n",
      "E = -106.863196156665 Eh\n",
      "converged SCF energy = -107.3730531355\n",
      "E = -107.49311096325494 Eh\n",
      "converged SCF energy = -107.50055920472\n",
      "E = -107.66230331243234 Eh\n",
      "converged SCF energy = -107.443329077631\n",
      "E = -107.65519637675375 Eh\n",
      "converged SCF energy = -107.321862235985\n",
      "E = -107.592744783636 Eh\n",
      "converged SCF energy = -107.184846460802\n",
      "E = -107.5293016569468 Eh\n",
      "converged SCF energy = -107.051717252766\n",
      "E = -107.50064104391033 Eh\n",
      "converged SCF energy = -106.930868701857\n",
      "E = -107.52960202924774 Eh\n",
      "converged SCF energy = -106.825762218971\n",
      "E = -107.17964399811332 Eh\n",
      "converged SCF energy = -106.736813829634\n",
      "E = -107.0537256700335 Eh\n",
      "converged SCF energy = -106.662679574349\n",
      "E = -107.2979486762097 Eh\n",
      "converged SCF energy = -106.601415893834\n",
      "E = -107.11257149964737 Eh\n",
      "converged SCF energy = -106.551145868711\n",
      "E = -106.81981838086351 Eh\n"
     ]
    },
    {
     "data": {
      "text/plain": [
       "<matplotlib.legend.Legend at 0x7f868f6daeb8>"
      ]
     },
     "execution_count": 14,
     "metadata": {},
     "output_type": "execute_result"
    },
    {
     "data": {
      "image/png": "[encoded data removed]",
      "text/plain": [
       "<Figure size 432x288 with 1 Axes>"
      ]
     },
     "metadata": {
      "needs_background": "light"
     },
     "output_type": "display_data"
    }
   ],
   "source": [
    "bond_lengths = np.linspace(0.5,2.7,15)\n",
    "\n",
    "#Run FCI\n",
    "FCI_PES = obtain_PES('n2', bond_lengths, basis, method='fci')\n",
    "\n",
    "#Run HF\n",
    "HF_PES = obtain_PES('n2', bond_lengths, basis,  method='hf')\n",
    "\n",
    "\n",
    "#Run CCSD\n",
    "CCSD_PES = obtain_PES('n2', bond_lengths, basis,  method='ccsd')\n",
    "\n",
    "\n",
    "#Plot H2O PESs\n",
    "\n",
    "plt.title('H4 symmetric dissociation, STO-3G')\n",
    "plt.xlabel('R, Angstrom')\n",
    "plt.ylabel('E, Hartree')\n",
    "\n",
    "plt.plot(bond_lengths, FCI_PES, label='FCI')\n",
    "plt.scatter(bond_lengths, HF_PES, label='HF', color='orange')\n",
    "plt.scatter(bond_lengths, CCSD_PES, label='CCSD', color='purple')\n",
    "plt.legend()"
   ]
  }
 ],
 "metadata": {
  "kernelspec": {
   "display_name": "tequila",
   "language": "python",
   "name": "tequila"
  },
  "language_info": {
   "codemirror_mode": {
    "name": "ipython",
    "version": 3
   },
   "file_extension": ".py",
   "mimetype": "text/x-python",
   "name": "python",
   "nbconvert_exporter": "python",
   "pygments_lexer": "ipython3",
   "version": "3.7.1"
  }
 },
 "nbformat": 4,
 "nbformat_minor": 2
}
