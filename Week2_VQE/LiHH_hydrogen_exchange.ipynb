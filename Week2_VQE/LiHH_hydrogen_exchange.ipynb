{
 "cells": [
  {
   "cell_type": "code",
   "execution_count": 4,
   "id": "8f9238f2-f7a4-4380-888a-da6cc87a4434",
   "metadata": {},
   "outputs": [],
   "source": [
    "# This cell is added by sphinx-gallery\n",
    "# It can be customized to whatever you like\n",
    "%matplotlib inline"
   ]
  },
  {
   "cell_type": "code",
   "execution_count": 5,
   "id": "6147dca4-8068-4063-9beb-5400a2c71756",
   "metadata": {},
   "outputs": [],
   "source": [
    "import pennylane as qml\n",
    "from pennylane import qchem\n",
    "\n",
    "from pennylane import numpy as np\n",
    "\n",
    "symbols = [\"Li\", \"H\", \"H\"]\n",
    "multiplicity = 2"
   ]
  },
  {
   "cell_type": "code",
   "execution_count": 6,
   "id": "cb2c9c64-5287-4cbf-b1df-32652130ff3e",
   "metadata": {},
   "outputs": [
    {
     "name": "stdout",
     "output_type": "stream",
     "text": [
      "12\n",
      "12\n",
      "12\n",
      "12\n",
      "12\n",
      "12\n",
      "12\n",
      "12\n",
      "12\n",
      "12\n",
      "12\n",
      "12\n",
      "12\n",
      "12\n"
     ]
    }
   ],
   "source": [
    "from pennylane.templates import AllSinglesDoubles\n",
    "\n",
    "energies = []\n",
    "pes_point = 0\n",
    "\n",
    "# get all the singles and doubles excitations, and Hartree-Fock state\n",
    "electrons = 5\n",
    "orbitals = 6\n",
    "active_orbitals=6\n",
    "singles, doubles = qchem.excitations(electrons, orbitals)\n",
    "\n",
    "\n",
    "\n",
    "# loop to change reaction coordinate\n",
    "r_range = np.arange(1.0, 8.0, 0.5)\n",
    "for r in r_range:\n",
    "\n",
    "    coordinates = np.array([0.0, 0.0, 0.0, 0.0, 0.0, r, 0.0, 0.0, 8.0])\n",
    "\n",
    "    # We now specify the multiplicity\n",
    "    H, qubits = qchem.molecular_hamiltonian(symbols, coordinates, mult=multiplicity, active_electrons=5,\n",
    "    active_orbitals=6)\n",
    "    print(qubits)\n",
    "    hf = qml.qchem.hf_state(5, qubits)\n",
    "    \n",
    "    dev = qml.device(\"default.qubit\", wires=qubits)\n",
    "    opt = qml.GradientDescentOptimizer(stepsize=1.5)\n",
    "\n",
    "    @qml.qnode(dev)\n",
    "    def circuit(parameters):\n",
    "        AllSinglesDoubles(parameters, range(qubits), hf, singles, doubles)\n",
    "        return qml.expval(H)  # we are interested in minimizing this expectation value\n",
    "\n",
    "    params = np.zeros(len(singles) + len(doubles), requires_grad=True)\n",
    "\n",
    "    if pes_point > 0:\n",
    "        params = params_old\n",
    "\n",
    "    prev_energy = 0.0\n",
    "\n",
    "    for n in range(50):\n",
    "        params, energy = opt.step_and_cost(circuit, params)\n",
    "        if np.abs(energy - prev_energy) < 1e-6:\n",
    "            break\n",
    "        prev_energy = energy\n",
    "\n",
    "    # store the converged parameters\n",
    "    params_old = params\n",
    "    pes_point = pes_point + 1\n",
    "\n",
    "    energies.append(energy)"
   ]
  },
  {
   "cell_type": "code",
   "execution_count": 7,
   "id": "653dd7c8-62e0-4c8b-af69-d5b4ff0c3ae2",
   "metadata": {},
   "outputs": [
    {
     "data": {
      "image/png": "[encoded data removed]",
      "text/plain": [
       "<Figure size 432x288 with 1 Axes>"
      ]
     },
     "metadata": {
      "needs_background": "light"
     },
     "output_type": "display_data"
    }
   ],
   "source": [
    "import matplotlib.pyplot as plt\n",
    "fig, ax = plt.subplots()\n",
    "ax.plot(r_range, energies)\n",
    "\n",
    "ax.set(\n",
    "    xlabel=\"Distance (Bohr)\",\n",
    "    ylabel=\"Total energy (Hartree)\",\n",
    ")\n",
    "ax.grid()\n",
    "plt.show()"
   ]
  },
  {
   "cell_type": "code",
   "execution_count": null,
   "id": "9abc8b69-1943-4744-af29-ab44c64bc1a7",
   "metadata": {},
   "outputs": [],
   "source": [
    "# Energy of the reactants and products - two minima on the PES\n",
    "e_eq1 = min(energies)\n",
    "e_eq2 = min([x for x in energies if x != e_eq1])\n",
    "print(e_eq1, e_eq2)\n",
    "from scipy.signal import argrelextrema\n",
    "\n",
    "print(argrelextrema(np.array(energies), np.less))\n",
    "\n",
    "[idx1, idx2] = argrelextrema(np.array(energies), np.less)[0]\n",
    "\n",
    "#idx2 = energies.index(e_eq2)\n",
    "\n",
    "print(idx1, idx2)\n",
    "\n",
    "# Transition state is the local maximum between reactant and products\n",
    "idx_min = min(idx1, idx2)\n",
    "idx_max = max(idx1, idx2)\n",
    "\n",
    "# Transition state energy\n",
    "energy_ts = max(energies[idx_min:idx_max])\n",
    "\n",
    "# Activation energy\n",
    "activation_energy = energy_ts - e_eq1\n",
    "\n",
    "print(f\"The activation energy is {activation_energy:.6f} Hartrees\")"
   ]
  },
  {
   "cell_type": "code",
   "execution_count": null,
   "id": "de268120-bfc1-40ed-82af-ae19bd221dca",
   "metadata": {},
   "outputs": [],
   "source": [
    "# convert to joules\n",
    "activation_energy *= 4.36e-18\n",
    "# Boltzmann constant in Joules/Kelvin\n",
    "k_B = 1.38e-23\n",
    "# Temperature\n",
    "T = 300\n",
    "\n",
    "ratio = np.exp(activation_energy / (2 * k_B * T))\n",
    "\n",
    "print(f\"Ratio of reaction rates is {ratio:.0f}\")"
   ]
  }
 ],
 "metadata": {
  "kernelspec": {
   "display_name": "PennyLane",
   "language": "python",
   "name": "pennylane"
  },
  "language_info": {
   "codemirror_mode": {
    "name": "ipython",
    "version": 3
   },
   "file_extension": ".py",
   "mimetype": "text/x-python",
   "name": "python",
   "nbconvert_exporter": "python",
   "pygments_lexer": "ipython3",
   "version": "3.9.13"
  }
 },
 "nbformat": 4,
 "nbformat_minor": 5
}
