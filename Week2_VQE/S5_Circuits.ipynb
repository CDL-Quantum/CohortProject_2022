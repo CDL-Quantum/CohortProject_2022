{
 "cells": [
  {
   "cell_type": "markdown",
   "id": "214bee6c",
   "metadata": {},
   "source": [
    "# Quantum Circuits\n",
    "Quantum computers can only use a specific set of gates (universal gate set). Given the entanglers and their amplitudes found in Step 3, one can find corresponding representation of these operators in terms of elementary gates using the following procedure."
   ]
  },
  {
   "cell_type": "code",
   "execution_count": 1,
   "id": "158c5e95",
   "metadata": {},
   "outputs": [],
   "source": [
    "import os\n",
    "os.environ['KMP_DUPLICATE_LIB_OK']= 'True'\n",
    "\n",
    "import tequila as tq\n",
    "from utility import *"
   ]
  },
  {
   "cell_type": "markdown",
   "id": "de425257",
   "metadata": {},
   "source": [
    "First, we set up the Hamiltonian in Tequila's format and the unitary gates obtained in Step 3. "
   ]
  },
  {
   "cell_type": "code",
   "execution_count": 2,
   "id": "a0324458",
   "metadata": {},
   "outputs": [
    {
     "name": "stdout",
     "output_type": "stream",
     "text": [
      "circuit: \n",
      "Rx(target=(0,), parameter=beta_0)\n",
      "Rz(target=(0,), parameter=gamma_0)\n",
      "Rx(target=(1,), parameter=beta_1)\n",
      "Rz(target=(1,), parameter=gamma_1)\n",
      "Rx(target=(2,), parameter=beta_2)\n",
      "Rz(target=(2,), parameter=gamma_2)\n",
      "Rx(target=(3,), parameter=beta_3)\n",
      "Rz(target=(3,), parameter=gamma_3)\n",
      "Exp-Pauli(target=(0, 1, 2, 3), control=(), parameter=tau_0, paulistring=X(0)Y(1)X(2)X(3))\n",
      "\n"
     ]
    }
   ],
   "source": [
    "H = tq.QubitHamiltonian.from_openfermion(get_qubit_hamiltonian('h4', 4, 'sto-3g', qubit_transf='jw'))\n",
    "\n",
    "a = tq.Variable(\"tau_0\")\n",
    "U = construct_QMF_ansatz(4)\n",
    "U += tq.gates.ExpPauli(paulistring=tq.PauliString.from_string(\"X(0)Y(1)X(2)X(3)\"), angle=a)\n",
    "print(U)"
   ]
  },
  {
   "cell_type": "markdown",
   "id": "e3d332eb",
   "metadata": {},
   "source": [
    "One can check the expectation value to see it is near the ground state energy."
   ]
  },
  {
   "cell_type": "code",
   "execution_count": 3,
   "id": "e9591e3c",
   "metadata": {
    "scrolled": true
   },
   "outputs": [
    {
     "name": "stdout",
     "output_type": "stream",
     "text": [
      "-0.807560897041014\n"
     ]
    }
   ],
   "source": [
    "E = tq.ExpectationValue(H=H, U=U)\n",
    "vars = {'beta_1': 3.141592624143881, 'beta_0': 3.141592624143881, 'tau_0': 1.1331410014096885, 'gamma_1': 0.0, 'beta_3': 0.0, 'gamma_3': 0.0, 'gamma_2': 0.0, 'gamma_0': 0.0, 'beta_2': 0.0} # values obtained from step 3\n",
    "print(tq.simulate(E, variables=vars))"
   ]
  },
  {
   "cell_type": "markdown",
   "id": "847e3f48",
   "metadata": {},
   "source": [
    "One can run the same experiment on a real quantum computer through IBM Quantum Experience (ibmq). After activating your account here (https://quantum-computing.ibm.com/login), copy the API token and execute the commented block below. "
   ]
  },
  {
   "cell_type": "code",
   "execution_count": 4,
   "id": "05934ca4",
   "metadata": {},
   "outputs": [
    {
     "name": "stderr",
     "output_type": "stream",
     "text": [
      "configrc.store_credentials:WARNING:2022-07-17 14:26:27,855: Credentials already present. Set overwrite=True to overwrite.\n"
     ]
    }
   ],
   "source": [
    "from qiskit import IBMQ\n",
    "IBMQ.save_account('d5ff44567a34cecfd6b02abd67c9e218757cb7c8306966ba248ea657725900a4ea8feac54dabc8356f89d3ce3e28635d7903f4e14dffd0980561f8bf8a8625c3')"
   ]
  },
  {
   "cell_type": "markdown",
   "id": "6a70bb32",
   "metadata": {},
   "source": [
    "## Using Quantum System"
   ]
  },
  {
   "cell_type": "code",
   "execution_count": 5,
   "id": "1adc9712",
   "metadata": {},
   "outputs": [],
   "source": [
    "provider = IBMQ.load_account()"
   ]
  },
  {
   "cell_type": "code",
   "execution_count": null,
   "id": "cb60f47f",
   "metadata": {},
   "outputs": [],
   "source": [
    "tq.simulate(E, variables=vars, samples=100, backend=\"qiskit\", device='ibmq_manila')"
   ]
  },
  {
   "cell_type": "markdown",
   "id": "80ffa4c2",
   "metadata": {},
   "source": [
    "The following code block prints the circuit."
   ]
  },
  {
   "cell_type": "code",
   "execution_count": null,
   "id": "43776080",
   "metadata": {
    "scrolled": true
   },
   "outputs": [],
   "source": [
    "circ = tq.circuit.compiler.compile_exponential_pauli_gate(U)\n",
    "tq.draw(circ, backend=\"qiskit\")"
   ]
  },
  {
   "cell_type": "code",
   "execution_count": null,
   "id": "66f9bf5f",
   "metadata": {},
   "outputs": [],
   "source": [
    "tq.simulate(E, variables=vars, samples=100, backend=\"qiskit\", device='ibmq_belem')\n"
   ]
  },
  {
   "cell_type": "code",
   "execution_count": null,
   "id": "553656a6",
   "metadata": {},
   "outputs": [],
   "source": [
    "tq.simulate(E, variables=vars, samples=1000, backend=\"qiskit\", device='ibmq_belem')\n"
   ]
  },
  {
   "cell_type": "code",
   "execution_count": null,
   "id": "0df113cc",
   "metadata": {},
   "outputs": [],
   "source": [
    "tq.simulate(E, variables=vars, samples=5000, backend=\"qiskit\", device='ibmq_belem')"
   ]
  },
  {
   "cell_type": "code",
   "execution_count": null,
   "id": "aa9e5243",
   "metadata": {},
   "outputs": [],
   "source": [
    "tq.simulate(E, variables=vars, samples=8192, backend=\"qiskit\", device='ibmq_belem')\n"
   ]
  },
  {
   "cell_type": "code",
   "execution_count": null,
   "id": "32c38838",
   "metadata": {},
   "outputs": [],
   "source": [
    "Ebins = np.zeros(20)\n",
    "for bin in range(len(Ebins)):\n",
    "    Ebins[bin] = tq.simulate(E, variables=vars, samples=1000, backend=\"qiskit\", device='ibmq_belem')\n",
    "print(Ebins)\n",
    "print('Average Energy:',np.average(Ebins))\n",
    "print('Stdev: ',np.std(Ebins))\n",
    "\n"
   ]
  },
  {
   "cell_type": "code",
   "execution_count": null,
   "id": "3c1bade5",
   "metadata": {},
   "outputs": [],
   "source": [
    "import matplotlib.pyplot as plt\n",
    "\n",
    "samples = [100,1000,5000,8192]\n",
    "Evals = [-0.6782390850939107, -0.7031310116153874, -0.7047891180121715, -0.6854283267691902]\n",
    "plt.plot(samples,Evals,'or',label='IBM BELEM')\n",
    "plt.hlines(-0.9486411121761622,0,8192,label='EXACT')\n",
    "\n",
    "plt.title('H4 Energy in IBMQ_BELEM, STO-3G')\n",
    "plt.xlabel('Samples',fontsize=20)\n",
    "plt.ylabel(r'Energy ($E_h$)',fontsize=14)\n",
    "plt.legend(loc='center right')\n"
   ]
  },
  {
   "cell_type": "code",
   "execution_count": null,
   "id": "c1db2d15",
   "metadata": {},
   "outputs": [],
   "source": [
    "samples = [100,1000,5000,8192]\n",
    "Evals = [-0.6782390850939107, -0.7031310116153874, -0.7047891180121715, -0.6854283267691902]\n",
    "plt.plot(range(len(Ebins)),Ebins,'or',label='IBM BELEM')\n",
    "plt.hlines(-0.9486411121761622,0,19,label='EXACT',colors='black')\n",
    "plt.hlines(np.average(Ebins),0,19,label='IBM BELEM AVG')\n",
    "plt.hlines(np.average(Ebins)+np.std(Ebins),0,19,label=r'IBM BELEM +$\\sigma$',linestyles='dashed')\n",
    "plt.hlines(np.average(Ebins)-np.std(Ebins),0,19,label=r'IBM BELEM -$\\sigma$',linestyles='dashed')\n",
    "\n",
    "plt.title('H4 Energy in IBMQ_BELEM, STO-3G')\n",
    "plt.xlabel('Samples',fontsize=20)\n",
    "plt.ylabel(r'Energy ($E_h$)',fontsize=14)\n",
    "plt.xticks(range(len(Ebins)))\n",
    "plt.legend(loc='center right')"
   ]
  },
  {
   "cell_type": "code",
   "execution_count": null,
   "id": "8ec73481",
   "metadata": {},
   "outputs": [],
   "source": [
    "circ = tq.circuit.compiler.compile_exponential_pauli_gate(U)\n",
    "tq.draw(circ, backend=\"qiskit\")"
   ]
  }
 ],
 "metadata": {
  "kernelspec": {
   "display_name": "Python 3 (ipykernel)",
   "language": "python",
   "name": "python3"
  },
  "language_info": {
   "codemirror_mode": {
    "name": "ipython",
    "version": 3
   },
   "file_extension": ".py",
   "mimetype": "text/x-python",
   "name": "python",
   "nbconvert_exporter": "python",
   "pygments_lexer": "ipython3",
   "version": "3.7.1"
  }
 },
 "nbformat": 4,
 "nbformat_minor": 5
}
