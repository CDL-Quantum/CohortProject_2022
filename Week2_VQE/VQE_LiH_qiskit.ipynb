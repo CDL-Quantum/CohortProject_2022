{
 "cells": [
  {
   "cell_type": "code",
   "execution_count": 114,
   "id": "cdae57ff-82ac-4b89-9828-9cafc114da53",
   "metadata": {},
   "outputs": [],
   "source": [
    "import numpy as np\n",
    "import matplotlib.pyplot as plt\n",
    "\n",
    "from qiskit.visualization import *\n",
    "from qiskit import * \n",
    "import qiskit.quantum_info as qi\n",
    "from qiskit.extensions import Initialize\n",
    "from qiskit.providers.aer import extensions  # import aer snapshot instructions\n",
    "\n",
    "\n",
    "import cmath\n",
    "import math\n",
    "\n",
    "import scipy.stats as stats\n",
    "import qutip\n",
    "\n",
    "\n",
    "import time, datetime\n",
    "import pandas as pd\n",
    "import os.path"
   ]
  },
  {
   "cell_type": "markdown",
   "id": "87ce650f-3428-4ab9-8c88-9a748d05f3ca",
   "metadata": {},
   "source": [
    "# Generating the Fermionic Hamiltonian "
   ]
  },
  {
   "cell_type": "code",
   "execution_count": 127,
   "id": "b27e56f0-f0f3-4996-9887-d53997eec177",
   "metadata": {},
   "outputs": [],
   "source": [
    "from qiskit_nature.drivers import UnitsType, Molecule\n",
    "from qiskit_nature.drivers.second_quantization import ElectronicStructureDriverType, ElectronicStructureMoleculeDriver\n",
    "from qiskit_nature.problems.second_quantization import ElectronicStructureProblem\n",
    "from qiskit_nature.mappers.second_quantization import ParityMapper, JordanWignerMapper, BravyiKitaevMapper\n",
    "from qiskit_nature.converters.second_quantization import QubitConverter\n",
    "from qiskit_nature.transformers.second_quantization.electronic import ActiveSpaceTransformer, FreezeCoreTransformer\n",
    "from qiskit_nature.operators.second_quantization import FermionicOp\n",
    "from qiskit.opflow import StateFn, PauliExpectation,  CircuitSampler, PauliTrotterEvolution\n",
    "from functools import partial "
   ]
  },
  {
   "cell_type": "code",
   "execution_count": 12,
   "id": "43682b11-3031-4cd7-95fb-af8585657c67",
   "metadata": {},
   "outputs": [],
   "source": [
    "from qiskit_nature.properties.second_quantization.electronic import (\n",
    "    ElectronicEnergy,\n",
    "    ElectronicDipoleMoment,\n",
    "    ParticleNumber,\n",
    "    AngularMomentum,\n",
    "    Magnetization,\n",
    ")"
   ]
  },
  {
   "cell_type": "code",
   "execution_count": 11,
   "id": "2fde0dea-1ba7-46d4-85de-2b9322aada42",
   "metadata": {},
   "outputs": [],
   "source": [
    "from qiskit_nature.properties.second_quantization.electronic.integrals import (\n",
    "    ElectronicIntegrals,\n",
    "    OneBodyElectronicIntegrals,\n",
    "    TwoBodyElectronicIntegrals,\n",
    "    IntegralProperty,\n",
    ")\n",
    "from qiskit_nature.properties.second_quantization.electronic.bases import ElectronicBasis"
   ]
  },
  {
   "cell_type": "code",
   "execution_count": 32,
   "id": "b7dda940-d3cf-4cf8-8687-63701c68e60c",
   "metadata": {},
   "outputs": [],
   "source": [
    "def get_particle_number(problem, show=True):\n",
    "    particle_number = problem.grouped_property_transformed.get_property(\"ParticleNumber\")\n",
    "    num_particles = (particle_number.num_alpha, particle_number.num_beta)\n",
    "    num_spin_orbitals = particle_number.num_spin_orbitals\n",
    "    if show:\n",
    "        print(\"Number of alpha electrons: {}\".format(particle_number.num_alpha))\n",
    "        print(\"Number of beta electrons: {}\".format(particle_number.num_beta))\n",
    "        print(\"Number of spin orbitals: {}\".format(num_spin_orbitals))\n",
    "\n",
    "    return particle_number"
   ]
  },
  {
   "cell_type": "code",
   "execution_count": 34,
   "id": "0724b8a6-359f-4659-96b1-ea1e69c583b4",
   "metadata": {},
   "outputs": [],
   "source": [
    "def get_electronic_energy(problem, show=True):\n",
    "    electronic_energy = problem.grouped_property_transformed.get_property(\"ElectronicEnergy\")\n",
    "    if show:\n",
    "        print(electronic_energy)\n",
    "    return electronic_energy"
   ]
  },
  {
   "cell_type": "code",
   "execution_count": 167,
   "id": "8c74cf61-5f04-4d63-b565-fb0b08a9c285",
   "metadata": {},
   "outputs": [],
   "source": [
    "#Testing for H2\n",
    "\n",
    "# hydrogen_molecule = Molecule(geometry=[['H', [0., 0., 0.]],\n",
    "#                               ['H', [0., 0., 0.735]]],\n",
    "#                      charge=0, multiplicity=1)\n",
    "\n",
    "# driver = ElectronicStructureMoleculeDriver(hydrogen_molecule, basis='sto3g', driver_type=ElectronicStructureDriverType.PYSCF)\n",
    "\n",
    "# qH2 = driver.run()\n",
    "\n",
    "# H2_fermionic_hamiltonian = ElectronicStructureProblem(driver)\n",
    "\n",
    "# H2_second_q_op = H2_fermionic_hamiltonian.second_q_ops()"
   ]
  },
  {
   "cell_type": "code",
   "execution_count": 168,
   "id": "046b3b94-54b1-49d0-af02-36078da1d47f",
   "metadata": {},
   "outputs": [],
   "source": [
    "# #Testing for H2\n",
    "\n",
    "# print(\"Hydrogen molecule, basis: sto3g, Hartree-Fock calculation\")\n",
    "# H2_particle_number = get_particle_number(H2_fermionic_hamiltonian)\n",
    "\n",
    "# H2_electronic_energy = get_electronic_energy(H2_fermionic_hamiltonian)\n",
    "\n",
    "\n",
    "# # Set truncation to None\n",
    "# H2_second_q_op[0].set_truncation(0)\n",
    "# # Print the Fermionic operator\n",
    "# print(\"Hydrogen molecule Second Quantized Hamiltonian Operator\")\n",
    "# print(H2_second_q_op[0])\n",
    "# print(\"Hydrogen molecule Hamiltonian Matrix\")\n",
    "# print(H2_second_q_op[0].to_matrix())"
   ]
  },
  {
   "cell_type": "code",
   "execution_count": 163,
   "id": "6ae1c1e4-e523-4f9d-b42f-4df73ae3b0fd",
   "metadata": {},
   "outputs": [],
   "source": [
    "LiH_molecule = Molecule(geometry=[['Li', [0., 0., 0.]],\n",
    "                              ['H', [0., 0., 1.5474]]],\n",
    "                     charge=0, multiplicity=1)\n",
    "\n",
    "driver = ElectronicStructureMoleculeDriver(LiH_molecule, basis='sto3g', driver_type=ElectronicStructureDriverType.PYSCF)\n",
    "\n",
    "LiH_fermionic_hamiltonian = ElectronicStructureProblem(driver, transformers=[FreezeCoreTransformer(freeze_core=True, remove_orbitals=[4, 3])])\n",
    "\n",
    "LiH_second_q_op = LiH_fermionic_hamiltonian.second_q_ops()"
   ]
  },
  {
   "cell_type": "code",
   "execution_count": 169,
   "id": "44a19a52-b86d-4a06-83a6-688b35831e31",
   "metadata": {},
   "outputs": [
    {
     "name": "stdout",
     "output_type": "stream",
     "text": [
      "Lithium hydride molecule, basis: sto3g, Hartree-Fock calculation\n",
      "Parameters freeze_core=True, remove_orbitals=[4, 3]\n",
      "Number of alpha electrons: 1\n",
      "Number of beta electrons: 1\n",
      "Number of spin orbitals: 6\n",
      "ElectronicEnergy\n",
      "\t(AO) 1-Body Terms:\n",
      "\t\tAlpha\n",
      "\t\t<(6, 6) matrix with 18 non-zero entries>\n",
      "\t\t[0, 0] = -3.0783103203371405\n",
      "\t\t[0, 1] = -0.8147472621103113\n",
      "\t\t[0, 4] = -0.015760169051754473\n",
      "\t\t[0, 5] = -0.26470827042651623\n",
      "\t\t[1, 0] = -0.8147472621103113\n",
      "\t\t... skipping 13 entries\n",
      "\t\tBeta\n",
      "\t\t<(6, 6) matrix with 18 non-zero entries>\n",
      "\t\t[0, 0] = -3.0783103203371405\n",
      "\t\t[0, 1] = -0.8147472621103113\n",
      "\t\t[0, 4] = -0.015760169051754473\n",
      "\t\t[0, 5] = -0.26470827042651623\n",
      "\t\t[1, 0] = -0.8147472621103113\n",
      "\t\t... skipping 13 entries\n",
      "\t(AO) 2-Body Terms:\n",
      "\t\tAlpha-Alpha\n",
      "\t\t<(6, 6, 6, 6) matrix with 368 non-zero entries>\n",
      "\t\t[0, 0, 0, 0] = 1.6803951695337487\n",
      "\t\t[0, 0, 0, 1] = 0.26542036460780716\n",
      "\t\t[0, 0, 0, 5] = 0.07982930717333647\n",
      "\t\t[0, 0, 1, 0] = 0.26542036460780705\n",
      "\t\t[0, 0, 1, 1] = 0.3977268610897301\n",
      "\t\t... skipping 363 entries\n",
      "\t\tBeta-Alpha\n",
      "\t\tSame values as the corresponding primary-spin data.\n",
      "\t\tBeta-Beta\n",
      "\t\tSame values as the corresponding primary-spin data.\n",
      "\t\tAlpha-Beta\n",
      "\t\tSame values as the corresponding primary-spin data.\n",
      "\t(MO) 1-Body Terms:\n",
      "\t\tAlpha\n",
      "\t\t<(3, 3) matrix with 9 non-zero entries>\n",
      "\t\t[0, 0] = -0.7806641144801778\n",
      "\t\t[0, 1] = 0.0477021233845864\n",
      "\t\t[0, 2] = -0.1295811889750368\n",
      "\t\t[1, 0] = 0.04770212338458636\n",
      "\t\t[1, 1] = -0.3590972934808564\n",
      "\t\t... skipping 4 entries\n",
      "\t\tBeta\n",
      "\t\t<(3, 3) matrix with 9 non-zero entries>\n",
      "\t\t[0, 0] = -0.7806641144801778\n",
      "\t\t[0, 1] = 0.0477021233845864\n",
      "\t\t[0, 2] = -0.1295811889750368\n",
      "\t\t[1, 0] = 0.04770212338458636\n",
      "\t\t[1, 1] = -0.3590972934808564\n",
      "\t\t... skipping 4 entries\n",
      "\t(MO) 2-Body Terms:\n",
      "\t\tAlpha-Alpha\n",
      "\t\t<(3, 3, 3, 3) matrix with 81 non-zero entries>\n",
      "\t\t[0, 0, 0, 0] = 0.4909697621018205\n",
      "\t\t[0, 0, 0, 1] = -0.04770211713789299\n",
      "\t\t[0, 0, 0, 2] = 0.12958118927946966\n",
      "\t\t[0, 0, 1, 0] = -0.04770211713789302\n",
      "\t\t[0, 0, 1, 1] = 0.22515512668865797\n",
      "\t\t... skipping 76 entries\n",
      "\t\tBeta-Alpha\n",
      "\t\tSame values as the corresponding primary-spin data.\n",
      "\t\tBeta-Beta\n",
      "\t\tSame values as the corresponding primary-spin data.\n",
      "\t\tAlpha-Beta\n",
      "\t\tSame values as the corresponding primary-spin data.\n",
      "\tEnergy Shifts:\n",
      "\t\tFreezeCoreTransformer = (-7.81869029558114+0j)\n",
      "Lithium hydride molecule 2nd Quantized Hamiltonian Operator\n",
      "Fermionic Operator\n",
      "register length=6, number terms=342\n",
      "  -0.7806641144801778 * ( +_0 -_0 )\n",
      "+ 0.0477021233845864 * ( +_0 -_1 )\n",
      "+ -0.1295811889750368 * ( +_0 -_2 )\n",
      "+ 0.04770212338458636 * ( +_1 -_0 )\n",
      "+ -0.3590972934808564 * ( +_1 -_1 )\n",
      "+ 0.06823802789333827 * ( +_1 -_2 )\n",
      "+ -0.1295811889750366 * ( +_2 -_0 )\n",
      "+ 0.06823802789333827 * ( +_2 -_1 )\n",
      "+ -0.2261711489984197 * ( +_2 -_2 )\n",
      "+ -0.7806641144801778 * ( +_3 -_3 )\n",
      "+ 0.0477021233845864 * ( +_3 -_4 )\n",
      "+ -0.1295811889750368 * ( +_3 -_5 )\n",
      "+ 0.04770212338458636 * ( +_4 -_3 )\n",
      "+ -0.3590972934808564 * ( +_4 -_4 )\n",
      "+ 0.06823802789333827 * ( +_4 -_5 )\n",
      "+ -0.1295811889750366 * ( +_5 -_3 )\n",
      "+ 0.06823802789333827 * ( +_5 -_4 )\n",
      "+ -0.2261711489984197 * ( +_5 -_5 )\n",
      "+ -0.24548488105091024 * ( +_0 +_0 -_0 -_0 )\n",
      "+ 0.02385105856894651 * ( +_0 +_0 -_1 -_0 )\n",
      "+ -0.06479059463973484 * ( +_0 +_0 -_2 -_0 )\n",
      "+ 0.023851058568946513 * ( +_0 +_1 -_0 -_0 )\n",
      "+ -0.006278964750987798 * ( +_0 +_1 -_1 -_0 )\n",
      "+ 0.016998316939603287 * ( +_0 +_1 -_2 -_0 )\n",
      "+ -0.06479059463973488 * ( +_0 +_2 -_0 -_0 )\n",
      "+ 0.016998316939603304 * ( +_0 +_2  ...\n"
     ]
    }
   ],
   "source": [
    "print(\"Lithium hydride molecule, basis: sto3g, Hartree-Fock calculation\")\n",
    "print(\"Parameters freeze_core=True, remove_orbitals=[4, 3]\")\n",
    "LiH_particle_number = get_particle_number(LiH_fermionic_hamiltonian)\n",
    "\n",
    "LiH_electronic_energy = get_electronic_energy(LiH_fermionic_hamiltonian)\n",
    "\n",
    "# Set truncation to 1000\n",
    "LiH_second_q_op[0].set_truncation(1000)\n",
    "# Print the Fermionic operator\n",
    "print(\"Lithium hydride molecule 2nd Quantized Hamiltonian Operator\")\n",
    "print(LiH_second_q_op[0])"
   ]
  },
  {
   "cell_type": "markdown",
   "id": "d9bc0eb5-7374-4f79-b513-73a61c01e155",
   "metadata": {},
   "source": [
    "# Generating Qubit Hamiltonian with Qiskit Nature for Different Types of Mapping\n"
   ]
  },
  {
   "cell_type": "code",
   "execution_count": 43,
   "id": "eee43219-3591-4d68-986d-bd95ad144f3f",
   "metadata": {},
   "outputs": [],
   "source": [
    "def fermion_to_qubit(f_op, second_q_op, mapper, truncate=20, two_qubit_reduction=False, z2symmetry_reduction=None, show=True): \n",
    "    if show:        \n",
    "        print(\"Qubit Hamiltonian operator\")\n",
    "        dmap = {\"Jordan-Wigner\": JordanWignerMapper(), \"Parity\": ParityMapper(), \"Bravyi-Kitaev\": BravyiKitaevMapper()}\n",
    "        qubit_op = None\n",
    "        qubit_converter = None\n",
    "    for k, v in dmap.items():        \n",
    "        if k == mapper:\n",
    "            if show:\n",
    "                print(\"{} transformation \". format(mapper))\n",
    "                qubit_converter = QubitConverter(v, two_qubit_reduction=two_qubit_reduction, z2symmetry_reduction=z2symmetry_reduction)\n",
    "            if two_qubit_reduction:\n",
    "                qubit_op = qubit_converter.convert(second_q_op[0], num_particles=f_op.num_particles)\n",
    "            else:\n",
    "                qubit_op = qubit_converter.convert(second_q_op[0])\n",
    "            n_items = len(qubit_op)\n",
    "            if show:\n",
    "                print(\"Number of items in the Pauli list:\", n_items)\n",
    "                if n_items <= truncate:\n",
    "                    print(qubit_op)\n",
    "                else:\n",
    "                    print(qubit_op[0:truncate])\n",
    "    return qubit_op, qubit_converter"
   ]
  },
  {
   "cell_type": "code",
   "execution_count": 172,
   "id": "fa809ec4-7085-4a2b-8e23-1851b4e2eea7",
   "metadata": {},
   "outputs": [
    {
     "name": "stdout",
     "output_type": "stream",
     "text": [
      "Lithium Hydride molecule\n",
      "Qubit Hamiltonian operator\n",
      "Jordan-Wigner transformation \n",
      "Number of items in the Pauli list: 118\n",
      "-0.2031660615055924 * IIIIII\n",
      "- 0.03890740495187604 * IIIIIZ\n",
      "+ 0.00011828807024913228 * IIIIYY\n",
      "+ 0.00011828807024913228 * IIIIXX\n",
      "- 0.005701661059983976 * IIIYZY\n",
      "- 0.005701661059983976 * IIIXZX\n",
      "- 0.12878342110289465 * IIIIZI\n",
      "+ 0.015109234020498163 * IIIYYI\n",
      "+ 0.015109234020498163 * IIIXXI\n",
      "- 0.3121093909193637 * IIIZII\n",
      "- 0.03890740495187602 * IIZIII\n",
      "+ 0.00011828807024913271 * IYYIII\n",
      "+ 0.00011828807024913271 * IXXIII\n",
      "- 0.00570166105998397 * YZYIII\n",
      "- 0.00570166105998397 * XZXIII\n",
      "- 0.12878342110289462 * IZIIII\n",
      "+ 0.01510923402049816 * YYIIII\n",
      "+ 0.01510923402049816 * XXIIII\n",
      "- 0.3121093909193637 * ZIIIII\n",
      "+ 0.053149299296670595 * IIIIZZ\n"
     ]
    }
   ],
   "source": [
    "print(\"Lithium Hydride molecule\")\n",
    "LiH_qubit_op, qubit_converter = fermion_to_qubit(LiH_fermionic_hamiltonian, LiH_second_q_op, \"Jordan-Wigner\", two_qubit_reduction=True)"
   ]
  },
  {
   "cell_type": "code",
   "execution_count": 173,
   "id": "4d8147b0-2883-41f5-9ce5-d37782425a33",
   "metadata": {},
   "outputs": [],
   "source": [
    "# print(\"Lithium Hydride molecule\")\n",
    "# LiH_qubit_op, qubit_converter = fermion_to_qubit(LiH_fermionic_hamiltonian, LiH_second_q_op, \"Bravyi-Kitaev\", two_qubit_reduction=True)"
   ]
  },
  {
   "cell_type": "code",
   "execution_count": 174,
   "id": "b04dc90f-93c0-4467-ae1a-fe2aa8d40426",
   "metadata": {},
   "outputs": [
    {
     "name": "stdout",
     "output_type": "stream",
     "text": [
      "Lithium Hydride molecule\n",
      "Qubit Hamiltonian operator\n",
      "Parity transformation \n",
      "Number of items in the Pauli list: 100\n",
      "-0.20316606150559235 * IIII\n",
      "- 0.09275994933497159 * IIIZ\n",
      "- 0.0029411410872802763 * IIZX\n",
      "+ 0.0029411410872802763 * IIIX\n",
      "- 0.0007427996395062211 * IIXX\n",
      "+ 0.0007427996395062753 * IIYY\n",
      "- 0.21188984297009328 * IIZZ\n",
      "+ 0.01938940858370615 * IIXZ\n",
      "+ 0.019389408583706205 * IIXI\n",
      "+ 0.3652586902160326 * IIZI\n",
      "+ 0.09275994933497192 * IZII\n",
      "+ 0.002941141087280305 * ZXII\n",
      "+ 0.002941141087280292 * IXII\n",
      "- 0.0007427996395062432 * XXII\n",
      "+ 0.0007427996395062437 * YYII\n",
      "- 0.21188984297009364 * ZZII\n",
      "- 0.01938940858370628 * XZII\n",
      "+ 0.019389408583706226 * XIII\n",
      "- 0.3652586902160355 * ZIII\n",
      "- 0.12274244052545445 * IZIZ\n"
     ]
    }
   ],
   "source": [
    "print(\"Lithium Hydride molecule\")\n",
    "LiH_qubit_op, qubit_converter = fermion_to_qubit(LiH_fermionic_hamiltonian, LiH_second_q_op, \"Parity\", two_qubit_reduction=True)"
   ]
  },
  {
   "cell_type": "code",
   "execution_count": 175,
   "id": "d066d595-4ae5-4b13-8f1d-d4505db0c300",
   "metadata": {},
   "outputs": [],
   "source": [
    "from pyscf import gto, scf\n",
    "import pyqmc.api as pyq\n",
    "import h5py"
   ]
  },
  {
   "cell_type": "code",
   "execution_count": 176,
   "id": "0f033df8-4165-4ccd-9d5f-6c5c7993c645",
   "metadata": {},
   "outputs": [],
   "source": [
    "from ase import Atoms\n",
    "from ase.build import molecule\n",
    "from ase.visualize import view"
   ]
  },
  {
   "cell_type": "markdown",
   "id": "70ccb7df-21a1-46df-8ad0-62ad808ab3f8",
   "metadata": {},
   "source": [
    "### Setting up the `PySCF()` function that computes the ground state energy using PySCF RHF (restricted Hartree-Fock) method and with the `OPTIMIZE` function in PyQMC which implements the real spave variational MOnte-Carlo technique."
   ]
  },
  {
   "cell_type": "code",
   "execution_count": 177,
   "id": "6db397b9-e61a-4cd7-9a35-3fa19b565579",
   "metadata": {},
   "outputs": [],
   "source": [
    "def run_PySCF(molecule, pyqmc=True, show=True):   \n",
    "    # Reset the files\n",
    "    for fname in ['mf.hdf5','optimized_wf.hdf5','vmc_data.hdf5','dmc.hdf5']:\n",
    "        if os.path.isfile(fname):\n",
    "            os.remove(fname)\n",
    "\n",
    "    mol_PySCF = gto.M(atom = [\" \".join(map(str, (name, *coord))) for (name, coord) in molecule.geometry])\n",
    "\n",
    "    mf = scf.RHF(mol_PySCF)\n",
    "    mf.chkfile = \"mf.hdf5\"\n",
    "\n",
    "    conv, e, mo_e, mo, mo_occ = scf.hf.kernel(mf)\n",
    "    if show:\n",
    "        if conv:\n",
    "            print(\"PySCF restricted HF (RHF) converged ground-state energy: {:.12f}\".format(e))\n",
    "        else:\n",
    "            print(\"PySCF restricted HF (RHF) ground-state computation failed to converge\")\n",
    "\n",
    "    if pyqmc:\n",
    "        \n",
    "        pyq.OPTIMIZE(\"mf.hdf5\",# Construct a Slater-Jastrow wave function from the pyscf output\n",
    "          \"optimized_wf.hdf5\", # Store optimized parameters in this file.\n",
    "          nconfig=100,         # Optimize using this many Monte Carlo samples/configurations\n",
    "          max_iterations=4,    # 4 optimization steps\n",
    "          verbose=False)\n",
    "\n",
    "        with h5py.File(\"optimized_wf.hdf5\") as f:\n",
    "                                   \n",
    "            iter = f['iteration']\n",
    "            energy = f['energy']\n",
    "            error = f['energy_error']\n",
    "            l = energy.shape[0]\n",
    "            e = energy[l-1]\n",
    "            err = error[l-1]\n",
    "            if show:                \n",
    "                if err < 0.1:                    \n",
    "                    print(\"Iteration, Energy, Error\")\n",
    "                    for k in iter:\n",
    "                        print(\"{}:         {:.4f} {:.4f}\".format(k, energy[k], error[k]))\n",
    "                    print(\"PyQMC Monte Carlo converged ground-state energy: {:.12f}, error: {:.4f}\".format(e, err))\n",
    "                else:\n",
    "                    print(\"PyQMC Monte Carlo failed to converge\")\n",
    "\n",
    "    return conv, e"
   ]
  },
  {
   "cell_type": "markdown",
   "id": "9d08513b-cb94-4e44-bd6b-9c695d3904f8",
   "metadata": {},
   "source": [
    "# Setting up the VQE solver (noise free simulation):"
   ]
  },
  {
   "cell_type": "code",
   "execution_count": 214,
   "id": "64b4b3b3-cbd2-47ef-9b81-c4a2a8c8e181",
   "metadata": {},
   "outputs": [],
   "source": [
    "from qiskit_nature.algorithms import VQEUCCFactory, GroundStateEigensolver, NumPyMinimumEigensolverFactory, BOPESSampler\n",
    "from qiskit.algorithms import NumPyMinimumEigensolver, VQE, HamiltonianPhaseEstimation, PhaseEstimation\n",
    "from qiskit_nature.circuit.library.initial_states import HartreeFock\n",
    "\n",
    "\n",
    "numpy_solver = NumPyMinimumEigensolver()\n",
    "\n",
    "# from qiskit.circuit.library import TwoLocal\n",
    "#setting up the two local circuit (will use some other day !!)\n",
    "# tl_circuit = TwoLocal(rotation_blocks = ['h', 'rx'], entanglement_blocks = 'cz', entanglement='full', reps=2, parameter_prefix = 'y')\n",
    "\n",
    "#setting up a noise-free simulation\n",
    "from qiskit.utils import QuantumInstance\n",
    "quantum_instance = QuantumInstance(backend = Aer.get_backend('aer_simulator_statevector'))\n",
    "\n",
    "\n",
    "# vqe_ucc_solver = VQEUCCFactory(ansatz=tl_circuit)\n",
    "vqe_ucc_solver = VQEUCCFactory(quantum_instance)"
   ]
  },
  {
   "cell_type": "code",
   "execution_count": 179,
   "id": "7349d9ab-5dd0-43fe-ad14-d0a7f9d10d05",
   "metadata": {},
   "outputs": [],
   "source": [
    "#QPE function (has some problems for LiH)\n",
    "# def run_qpe(particle_number, qubit_converter, qubit_op, n_ancillae=3, num_time_slices = 1, show=True):\n",
    "#     initial_state = HartreeFock(particle_number.num_spin_orbitals, \n",
    "#                             (particle_number.num_alpha, \n",
    "#                              particle_number.num_beta), qubit_converter)\n",
    "\n",
    "#     state_preparation = StateFn(initial_state)\n",
    "\n",
    "#     evolution = PauliTrotterEvolution('trotter', reps=num_time_slices)\n",
    "\n",
    "#     qpe = HamiltonianPhaseEstimation(n_ancillae, quantum_instance=quantum_instance)\n",
    "#     result = qpe.estimate(qubit_op, state_preparation, evolution=evolution)\n",
    "\n",
    "#     if show:\n",
    "#         # print(\"\\nQPE initial Hartree Fock state\")\n",
    "#         # display(initial_state.draw(output='mpl'))\n",
    "#         eigv = result.most_likely_eigenvalue\n",
    "#         print(\"QPE computed electronic ground state energy (Hartree): {}\".format(eigv))\n",
    "\n",
    "#     return eigv"
   ]
  },
  {
   "cell_type": "code",
   "execution_count": 180,
   "id": "8c45e483-1b19-47c7-a8be-b7f73c0e5bd5",
   "metadata": {},
   "outputs": [],
   "source": [
    "# function that returns the ground state energy using  GroundStateEigensolver()\n",
    "def run_vqe(name, f_op, qubit_converter, solver, show=True):    \n",
    "    calc = GroundStateEigensolver(qubit_converter, solver)\n",
    "    start = time.time()\n",
    "    ground_state = calc.solve(f_op)\n",
    "    elapsed = str(datetime.timedelta(seconds = time.time()-start))\n",
    "    if show:\n",
    "        print(\"Running the VQE using the {}\".format(name))\n",
    "        print(\"Elapsed time: {} \\n\".format(elapsed))\n",
    "        print(ground_state)\n",
    "    return ground_state"
   ]
  },
  {
   "cell_type": "code",
   "execution_count": 181,
   "id": "ce5cae7c-fb4b-40a1-aed0-6abec33a071d",
   "metadata": {},
   "outputs": [],
   "source": [
    "#function that will plot the PES\n",
    "def plot_energy_landscape(energy_surface_result):\n",
    "    if len(energy_surface_result.points) > 1:        \n",
    "        \n",
    "        plt.plot(energy_surface_result.points, energy_surface_result.energies, label=\"VQE Energy\")\n",
    "        plt.xlabel('Atomic distance (Angstrom)')\n",
    "        plt.ylabel('Energy (hartree)')\n",
    "        plt.legend()\n",
    "        plt.show()\n",
    "    else:\n",
    "        print(\"Total Energy is: \", energy_surface_result.energies[0], \"hartree\")\n",
    "        print(\"(No need to plot, only one configuration calculated.)\")\n",
    "    return"
   ]
  },
  {
   "cell_type": "code",
   "execution_count": 196,
   "id": "474ecd06-1098-43b5-9243-a8427f274055",
   "metadata": {},
   "outputs": [],
   "source": [
    "#the  main function that does all the work\n",
    "def solve_ground_state(\n",
    "    molecule,\n",
    "    mapper =\"Parity\",\n",
    "    num_electrons=None,\n",
    "    num_molecular_orbitals=None,\n",
    "    transformers=None,\n",
    "    two_qubit_reduction=False,\n",
    "    z2symmetry_reduction = \"Auto\",\n",
    "    name_solver='NumPy exact solver',\n",
    "    solver=NumPyMinimumEigensolver(),\n",
    "    plot_bopes=False,\n",
    "    perturbation_steps=np.linspace(-1, 1, 3),\n",
    "    pyqmc=True,\n",
    "    n_ancillae=3, \n",
    "    num_time_slices=1,\n",
    "    loss=[],\n",
    "    label=None,\n",
    "    target=None,\n",
    "    show=True\n",
    "):\n",
    "    \n",
    "\n",
    "    # Defining the electronic structure molecule driver\n",
    "    driver = ElectronicStructureMoleculeDriver(molecule, basis='sto3g', driver_type=ElectronicStructureDriverType.PYSCF)\n",
    "\n",
    "    # Splitting into classical and quantum\n",
    "    if num_electrons != None and num_molecular_orbitals != None:\n",
    "        split = ActiveSpaceTransformer(num_electrons=num_electrons, num_molecular_orbitals=num_molecular_orbitals)\n",
    "    else:\n",
    "        split = None\n",
    "\n",
    "    # Defining a fermionic Hamiltonian operator\n",
    "    if split != None:\n",
    "        fermionic_hamiltonian = ElectronicStructureProblem(driver, [split])\n",
    "    elif transformers != None:\n",
    "        fermionic_hamiltonian = ElectronicStructureProblem(driver, transformers=transformers)\n",
    "    else:\n",
    "        fermionic_hamiltonian = ElectronicStructureProblem(driver)\n",
    "\n",
    "    # Use the second_q_ops() method [Qiskit_Nat_3] which returns a list of second quantized operators\n",
    "    second_q_op = fermionic_hamiltonian.second_q_ops()\n",
    "\n",
    "    # Get particle number\n",
    "    particle_number = get_particle_number(fermionic_hamiltonian, show=show)\n",
    "\n",
    "    if show:        \n",
    "        # We set truncation to 1000 with the method set_truncation(1000)\n",
    "        second_q_op[0].set_truncation(1000)\n",
    "        # then we print the first 20 terms of the fermionic Hamiltonian operator of the molecule\n",
    "        print(\"Fermionic Hamiltonian operator\")\n",
    "        print(second_q_op[0])\n",
    "    \n",
    "    # Use the function fermion_to_qubit() to convert a fermionic operator to a qubit operator\n",
    "    if show:\n",
    "        print(\" \")\n",
    "    qubit_op, qubit_converter = fermion_to_qubit(fermionic_hamiltonian, second_q_op, mapper=mapper, two_qubit_reduction=two_qubit_reduction, z2symmetry_reduction=z2symmetry_reduction, show=show)\n",
    "\n",
    "    # Run the the PySCF RHF method\n",
    "    if show:\n",
    "        print(\" \")\n",
    "    conv, e = run_PySCF(molecule, pyqmc=pyqmc, show=show)\n",
    "\n",
    "    # # Run QPE\n",
    "    # eigv = run_qpe(particle_number, qubit_converter, qubit_op, n_ancillae=n_ancillae, num_time_slices=num_time_slices, show=show)\n",
    "\n",
    "    # Run VQE\n",
    "    if show:\n",
    "        print(\" \")\n",
    "    ground_state = run_vqe(name_solver, fermionic_hamiltonian, qubit_converter, solver, show=show)\n",
    "\n",
    "    # # Plot loss function\n",
    "    # if loss != []:\n",
    "    #   plot_loss(loss, label, target)\n",
    "\n",
    "    if plot_bopes:        \n",
    "        # Compute the potential energy surface as follows:\n",
    "        energy_surface = BOPESSampler(gss=GroundStateEigensolver(qubit_converter, solver), bootstrap=False)\n",
    "        # Fix enables using BOPESS together with Unitary Coupled Cluster (UCC) factory ansatz\n",
    "        # Set default to an empty dictionary instead of None:\n",
    "        energy_surface._points_optparams = {}\n",
    "        energy_surface_result = energy_surface.sample(fermionic_hamiltonian, perturbation_steps)\n",
    "\n",
    "        # Plot the energy as a function of atomic separation\n",
    "        plot_energy_landscape(energy_surface_result)\n",
    "\n",
    "    return fermionic_hamiltonian, particle_number, qubit_op, qubit_converter, ground_state, energy_surface_result.points, energy_surface_result.energies"
   ]
  },
  {
   "cell_type": "markdown",
   "id": "3b851a5f-69a1-4ad0-a23a-64525cad7af5",
   "metadata": {},
   "source": [
    "# Checking the Code for H2 using UCC"
   ]
  },
  {
   "cell_type": "code",
   "execution_count": 197,
   "id": "ac942345-7536-40f6-9119-e79c72763edc",
   "metadata": {},
   "outputs": [],
   "source": [
    "hydrogen_molecule = Molecule(geometry=[['H', [0., 0., 0.]],\n",
    "                              ['H', [0., 0., 0.3]]],\n",
    "                     charge=0, multiplicity=1)"
   ]
  },
  {
   "cell_type": "code",
   "execution_count": 198,
   "id": "4e0dfad8-4980-4458-b390-0eb4b7cf917f",
   "metadata": {},
   "outputs": [],
   "source": [
    "specific_molecular_variation = partial(Molecule.absolute_distance, atom_pair=(1, 0))"
   ]
  },
  {
   "cell_type": "code",
   "execution_count": 199,
   "id": "8a8c9e2d-a793-468f-a807-1c38773bdc97",
   "metadata": {},
   "outputs": [],
   "source": [
    "hydrogen_molecule_stretchable = Molecule(geometry=\n",
    "                                 [['H', [0., 0., 0.]],\n",
    "                                  ['H', [0., 0., 0.3]]],\n",
    "                                  charge=0, multiplicity=1,\n",
    "                                  degrees_of_freedom=[specific_molecular_variation])"
   ]
  },
  {
   "cell_type": "code",
   "execution_count": 200,
   "id": "01c7d720-e43b-4132-9d16-41af3c409d41",
   "metadata": {},
   "outputs": [],
   "source": [
    "# H2_fermionic_hamiltonian, H2_particle_number, H2_qubit_op, H2_qubit_converter, H2_ground_state = \\\n",
    "#                   solve_ground_state(hydrogen_molecule, mapper =\"Parity\",\n",
    "#                    two_qubit_reduction=True, z2symmetry_reduction=None, \n",
    "#                    name_solver = 'NumPy exact solver', solver = numpy_solver)"
   ]
  },
  {
   "cell_type": "code",
   "execution_count": 201,
   "id": "f584ef04-c566-4005-8dc5-fd76b2a0bbdb",
   "metadata": {},
   "outputs": [],
   "source": [
    "# H2_fermionic_hamiltonian, H2_particle_number, H2_qubit_op, H2_qubit_converter, H2_ground_state = \\\n",
    "#                   solve_ground_state(hydrogen_molecule, mapper =\"Parity\",\n",
    "#                    two_qubit_reduction=True, z2symmetry_reduction=None, \n",
    "#                    name_solver = 'Unitary Coupled Cluster (UCC) factory ansatz', solver = vqe_ucc_solver)"
   ]
  },
  {
   "cell_type": "code",
   "execution_count": 215,
   "id": "e4006b2f-caec-4ef0-a799-53cd1004e794",
   "metadata": {},
   "outputs": [
    {
     "name": "stdout",
     "output_type": "stream",
     "text": [
      "Number of alpha electrons: 1\n",
      "Number of beta electrons: 1\n",
      "Number of spin orbitals: 4\n",
      "Fermionic Hamiltonian operator\n",
      "Fermionic Operator\n",
      "register length=4, number terms=36\n",
      "  -0.7789220360818258 * ( +_0 -_0 )\n",
      "+ -0.670266671828837 * ( +_1 -_1 )\n",
      "+ -0.7789220360818258 * ( +_2 -_2 )\n",
      "+ -0.670266671828837 * ( +_3 -_3 )\n",
      "+ -0.2547314062131492 * ( +_0 +_0 -_0 -_0 )\n",
      "+ -0.12956923744052842 * ( +_0 +_1 -_1 -_0 )\n",
      "+ -0.1295692374405284 * ( +_0 +_0 -_1 -_1 )\n",
      "+ -0.2596006290647683 * ( +_0 +_1 -_0 -_1 )\n",
      "+ -0.2547314062131492 * ( +_0 +_2 -_0 -_2 )\n",
      "+ -0.12956923744052842 * ( +_0 +_3 -_1 -_2 )\n",
      "+ -0.1295692374405284 * ( +_0 +_2 -_1 -_3 )\n",
      "+ -0.2596006290647683 * ( +_0 +_3 -_0 -_3 )\n",
      "+ -0.25960062906476833 * ( +_1 +_0 -_1 -_0 )\n",
      "+ -0.12956923744052845 * ( +_1 +_1 -_0 -_0 )\n",
      "+ -0.1295692374405284 * ( +_1 +_0 -_0 -_1 )\n",
      "+ -0.2673320597646799 * ( +_1 +_1 -_1 -_1 )\n",
      "+ -0.25960062906476833 * ( +_1 +_2 -_1 -_2 )\n",
      "+ -0.12956923744052845 * ( +_1 +_3 -_0 -_2 )\n",
      "+ -0.1295692374405284 * ( +_1 +_2 -_0 -_3 )\n",
      "+ -0.2673320597646799 * ( +_1 +_3 -_1 -_3 )\n",
      "+ -0.2547314062131492 * ( +_2 +_0 -_2 -_0 )\n",
      "+ -0.12956923744052842 * ( +_2 +_1 -_3 -_0 )\n",
      "+ -0.1295692374405284 * ( +_2 +_0 -_3 -_1 )\n",
      "+ -0.259600 ...\n",
      " \n",
      "Qubit Hamiltonian operator\n",
      "Parity transformation \n",
      "Number of items in the Pauli list: 5\n",
      "-0.9285563458569799 * II\n",
      "+ 0.060628008902259715 * IZ\n",
      "- 0.060628008902259306 * ZI\n",
      "- 0.0014311039241448886 * ZZ\n",
      "+ 0.25913847488105674 * XX\n",
      " \n",
      "PySCF restricted HF (RHF) converged ground-state energy: -0.783792654277\n",
      "Iteration, Energy, Error\n",
      "0:         -0.8092 0.0184\n",
      "1:         -0.8384 0.0172\n",
      "2:         -0.8982 0.0127\n",
      "3:         -0.9305 0.0128\n",
      "PyQMC Monte Carlo converged ground-state energy: -0.930468407362, error: 0.0128\n",
      " \n",
      "Running the VQE using the Unitary Coupled Cluster (UCC) factory ansatz\n",
      "Elapsed time: 0:00:00.721379 \n",
      "\n",
      "=== GROUND STATE ENERGY ===\n",
      " \n",
      "* Electronic ground state energy (Hartree): -1.213229717505\n",
      "  - computed part:      -1.213229717505\n",
      "~ Nuclear repulsion energy (Hartree): 0.26458860546\n",
      "> Total ground state energy (Hartree): -0.948641112045\n",
      " \n",
      "=== MEASURED OBSERVABLES ===\n",
      " \n",
      "  0:  # Particles: 2.000 S: 0.000 S^2: 0.000 M: 0.000\n",
      " \n",
      "=== DIPOLE MOMENTS ===\n",
      " \n",
      "~ Nuclear dipole moment (a.u.): [0.0  0.0  3.77945225]\n",
      " \n",
      "  0: \n",
      "  * Electronic dipole moment (a.u.): [0.0  0.0  3.77945225]\n",
      "    - computed part:      [0.0  0.0  3.77945225]\n",
      "  > Dipole moment (a.u.): [0.0  0.0  0.0]  Total: 0.0\n",
      "                 (debye): [0.0  0.0  0.0]  Total: 0.0\n",
      " \n"
     ]
    },
    {
     "data": {
      "image/png": "[encoded data removed]",
      "text/plain": [
       "<Figure size 432x288 with 1 Axes>"
      ]
     },
     "metadata": {
      "needs_background": "light"
     },
     "output_type": "display_data"
    }
   ],
   "source": [
    "perturbation_steps = np.linspace(0.25, 2, 25) # 25 equally spaced points from 0.25 to 2, inclusive.\n",
    "H2_stretchable_fermionic_hamiltonian, H2_stretchable_particle_number, H2_stretchable_qubit_op, H2_stretchable_qubit_converter, H2_stretchable_ground_state, H2_points, H2_energies = \\\n",
    "                  solve_ground_state(hydrogen_molecule_stretchable, mapper =\"Parity\",\n",
    "                   two_qubit_reduction=True, z2symmetry_reduction=None, \n",
    "                   name_solver = 'Unitary Coupled Cluster (UCC) factory ansatz', solver = vqe_ucc_solver,\n",
    "                   plot_bopes = True, perturbation_steps=perturbation_steps)"
   ]
  },
  {
   "cell_type": "code",
   "execution_count": 213,
   "id": "a68c2b60-8453-4503-b228-26f6666736e7",
   "metadata": {},
   "outputs": [],
   "source": [
    "#print( H2_energies)"
   ]
  },
  {
   "cell_type": "markdown",
   "id": "55396a13-c2fb-442a-94d1-1c612ff0a302",
   "metadata": {},
   "source": [
    "# Final Results for LiH using UCC"
   ]
  },
  {
   "cell_type": "code",
   "execution_count": 216,
   "id": "399049ba-e44a-4f4b-9a6e-eaa3febb5117",
   "metadata": {},
   "outputs": [],
   "source": [
    "LiH_molecule = Molecule(geometry=[['Li', [0., 0., 0.]],\n",
    "                              ['H', [0., 0., 1.5474]]],\n",
    "                     charge=0, multiplicity=1)"
   ]
  },
  {
   "cell_type": "code",
   "execution_count": 217,
   "id": "0e12adf6-2753-418b-93e2-4e04d6f219ed",
   "metadata": {},
   "outputs": [],
   "source": [
    "LiH_molecule_stretchable = Molecule(geometry=[['Li', [0., 0., 0.]],\n",
    "                              ['H', [0., 0., 1.5474]]],\n",
    "                    charge=0, multiplicity=1,\n",
    "                    degrees_of_freedom=[specific_molecular_variation])"
   ]
  },
  {
   "cell_type": "code",
   "execution_count": 218,
   "id": "1f0a6fb2-a813-4505-8023-88c4c8ed0680",
   "metadata": {},
   "outputs": [
    {
     "name": "stdout",
     "output_type": "stream",
     "text": [
      "Number of alpha electrons: 1\n",
      "Number of beta electrons: 1\n",
      "Number of spin orbitals: 6\n",
      "Fermionic Hamiltonian operator\n",
      "Fermionic Operator\n",
      "register length=6, number terms=342\n",
      "  -0.7806641144801778 * ( +_0 -_0 )\n",
      "+ 0.0477021233845864 * ( +_0 -_1 )\n",
      "+ -0.1295811889750368 * ( +_0 -_2 )\n",
      "+ 0.04770212338458636 * ( +_1 -_0 )\n",
      "+ -0.3590972934808564 * ( +_1 -_1 )\n",
      "+ 0.06823802789333827 * ( +_1 -_2 )\n",
      "+ -0.1295811889750366 * ( +_2 -_0 )\n",
      "+ 0.06823802789333827 * ( +_2 -_1 )\n",
      "+ -0.2261711489984197 * ( +_2 -_2 )\n",
      "+ -0.7806641144801778 * ( +_3 -_3 )\n",
      "+ 0.0477021233845864 * ( +_3 -_4 )\n",
      "+ -0.1295811889750368 * ( +_3 -_5 )\n",
      "+ 0.04770212338458636 * ( +_4 -_3 )\n",
      "+ -0.3590972934808564 * ( +_4 -_4 )\n",
      "+ 0.06823802789333827 * ( +_4 -_5 )\n",
      "+ -0.1295811889750366 * ( +_5 -_3 )\n",
      "+ 0.06823802789333827 * ( +_5 -_4 )\n",
      "+ -0.2261711489984197 * ( +_5 -_5 )\n",
      "+ -0.24548488105091024 * ( +_0 +_0 -_0 -_0 )\n",
      "+ 0.02385105856894651 * ( +_0 +_0 -_1 -_0 )\n",
      "+ -0.06479059463973484 * ( +_0 +_0 -_2 -_0 )\n",
      "+ 0.023851058568946513 * ( +_0 +_1 -_0 -_0 )\n",
      "+ -0.006278964750987798 * ( +_0 +_1 -_1 -_0 )\n",
      "+ 0.016998316939603287 * ( +_0 +_1 -_2 -_0 )\n",
      "+ -0.06479059463973488 * ( +_0 +_2 -_0 -_0 )\n",
      "+ 0.016998316939603304 * ( +_0 +_2  ...\n",
      " \n",
      "Qubit Hamiltonian operator\n",
      "Parity transformation \n",
      "Number of items in the Pauli list: 100\n",
      "-0.20316606150559235 * IIII\n",
      "- 0.09275994933497159 * IIIZ\n",
      "- 0.0029411410872802763 * IIZX\n",
      "+ 0.0029411410872802763 * IIIX\n",
      "- 0.0007427996395062211 * IIXX\n",
      "+ 0.0007427996395062753 * IIYY\n",
      "- 0.21188984297009328 * IIZZ\n",
      "+ 0.01938940858370615 * IIXZ\n",
      "+ 0.019389408583706205 * IIXI\n",
      "+ 0.3652586902160326 * IIZI\n",
      "+ 0.09275994933497192 * IZII\n",
      "+ 0.002941141087280305 * ZXII\n",
      "+ 0.002941141087280292 * IXII\n",
      "- 0.0007427996395062432 * XXII\n",
      "+ 0.0007427996395062437 * YYII\n",
      "- 0.21188984297009364 * ZZII\n",
      "- 0.01938940858370628 * XZII\n",
      "+ 0.019389408583706226 * XIII\n",
      "- 0.3652586902160355 * ZIII\n",
      "- 0.12274244052545445 * IZIZ\n",
      " \n",
      "PySCF restricted HF (RHF) converged ground-state energy: -7.863113882796\n",
      "Iteration, Energy, Error\n",
      "0:         -7.9955 0.0926\n",
      "1:         -7.9606 0.0394\n",
      "2:         -7.9801 0.0364\n",
      "3:         -7.9312 0.0355\n",
      "PyQMC Monte Carlo converged ground-state energy: -7.931248581249, error: 0.0355\n",
      " \n",
      "Running the VQE using the Unitary Coupled Cluster (UCC) factory ansatz\n",
      "Elapsed time: 0:00:03.218655 \n",
      "\n",
      "=== GROUND STATE ENERGY ===\n",
      " \n",
      "* Electronic ground state energy (Hartree): -8.907396295727\n",
      "  - computed part:      -1.088706000146\n",
      "  - FreezeCoreTransformer extracted energy part: -7.818690295581\n",
      "~ Nuclear repulsion energy (Hartree): 1.025934879643\n",
      "> Total ground state energy (Hartree): -7.881461416083\n",
      " \n",
      "=== MEASURED OBSERVABLES ===\n",
      " \n",
      "  0:  # Particles: 2.000 S: 0.000 S^2: 0.000 M: 0.000\n",
      " \n",
      "=== DIPOLE MOMENTS ===\n",
      " \n",
      "~ Nuclear dipole moment (a.u.): [0.0  0.0  2.92416221]\n",
      " \n",
      "  0: \n",
      "  * Electronic dipole moment (a.u.): [0.0  0.0  4.7629489]\n",
      "    - computed part:      [0.0  0.0  4.76689576]\n",
      "    - FreezeCoreTransformer extracted energy part: [0.0  0.0  -0.00394686]\n",
      "  > Dipole moment (a.u.): [0.0  0.0  -1.83878669]  Total: 1.83878669\n",
      "                 (debye): [0.0  0.0  -4.67372913]  Total: 4.67372913\n",
      " \n"
     ]
    },
    {
     "data": {
      "image/png": "[encoded data removed]",
      "text/plain": [
       "<Figure size 432x288 with 1 Axes>"
      ]
     },
     "metadata": {
      "needs_background": "light"
     },
     "output_type": "display_data"
    }
   ],
   "source": [
    "perturbation_steps = np.linspace(0.5, 4.0, 25) # 10 equally spaced points from -0.8 to 0.8, inclusive.\n",
    "LiH_stretchable_fermionic_hamiltonian, LiH_stretchable_particle_number, LiH_stretchable_qubit_op, LiH_stretchable_qubit_converter, LiH_stretchable_ground_state, LiH_points, LiH_energies = \\\n",
    "                  solve_ground_state(LiH_molecule_stretchable, mapper =\"Parity\",\n",
    "                  transformers=[FreezeCoreTransformer(freeze_core=True, remove_orbitals=[4, 3])],\n",
    "                   two_qubit_reduction=True, z2symmetry_reduction=\"auto\", \n",
    "                   name_solver='Unitary Coupled Cluster (UCC) factory ansatz', solver=vqe_ucc_solver,\n",
    "                   plot_bopes=True, perturbation_steps=perturbation_steps)"
   ]
  },
  {
   "cell_type": "code",
   "execution_count": 219,
   "id": "52fc55a5-263a-476f-baad-3d5bbceb760d",
   "metadata": {},
   "outputs": [
    {
     "name": "stdout",
     "output_type": "stream",
     "text": [
      "[(-7.039732392739566+0j), (-7.407898915381772+0j), (-7.621870567965875+0j), (-7.746665607795318+0j), (-7.81782791625732+0j), (-7.856530741740714+0j), (-7.875217854696458+0j), (-7.8813127300018095+0j), (-7.8794644713929785+0j), (-7.8727282087827+0j), (-7.863182187519777+0j), (-7.852275500320786+0j), (-7.8410423496030806+0j), (-7.830233752120751+0j), (-7.8203832715683195+0j), (-7.811834265858669+0j), (-7.804735960646987+0j), (-7.79906481887369+0j), (-7.794668075956314+0j), (-7.791333082096125+0j), (-7.788839923373454+0j), (-7.786993872128903+0j), (-7.785636039316197+0j), (-7.784642334613119+0j), (-7.78391828949042+0j)]\n"
     ]
    }
   ],
   "source": [
    "print(LiH_energies)"
   ]
  },
  {
   "cell_type": "markdown",
   "id": "d003eb73-1676-4947-97d8-d915fc953db5",
   "metadata": {},
   "source": [
    "# Comparing VQE results with Exact Results for LiH "
   ]
  },
  {
   "cell_type": "code",
   "execution_count": 220,
   "id": "8d81a132-671f-4254-bfbc-a6be9abaa1f8",
   "metadata": {},
   "outputs": [],
   "source": [
    "#using the code given to us in the repo\n",
    "from utility import obtain_PES\n",
    "bond_lengths = np.linspace(0.5,4.0,25)\n",
    "basis = 'sto-3g'"
   ]
  },
  {
   "cell_type": "code",
   "execution_count": 221,
   "id": "b405986b-6ad1-40b6-998e-4afa57dcd9e3",
   "metadata": {},
   "outputs": [
    {
     "name": "stdout",
     "output_type": "stream",
     "text": [
      "E = -7.050225036066626 Eh\n",
      "E = -7.412849362554086 Eh\n",
      "E = -7.625120281681296 Eh\n",
      "E = -7.749112772045482 Eh\n",
      "E = -7.81980626891099 Eh\n",
      "E = -7.858213609128353 Eh\n",
      "E = -7.876698988646929 Eh\n",
      "E = -7.882638926393844 Eh\n",
      "E = -7.880658174777379 Eh\n",
      "E = -7.873802222219945 Eh\n",
      "E = -7.864146306869409 Eh\n",
      "E = -7.853139891767199 Eh\n",
      "E = -7.841817859376814 Eh\n",
      "E = -7.830930520026347 Eh\n",
      "E = -7.821012644471176 Eh\n",
      "E = -7.812405819796487 Eh\n",
      "E = -7.805260034839402 Eh\n",
      "E = -7.799549610251223 Eh\n",
      "E = -7.7951215468409485 Eh\n",
      "E = -7.791761252488713 Eh\n",
      "E = -7.789247873611299 Eh\n",
      "E = -7.787385676957605 Eh\n",
      "E = -7.786014838593346 Eh\n",
      "E = -7.785010648745602 Eh\n",
      "E = -7.784278178706959 Eh\n"
     ]
    }
   ],
   "source": [
    "#Run FCI\n",
    "FCI_PES = obtain_PES('lih', bond_lengths, basis, method='fci')"
   ]
  },
  {
   "cell_type": "code",
   "execution_count": 222,
   "id": "fd900e50-ef7b-4117-974b-06f75f72db8e",
   "metadata": {},
   "outputs": [
    {
     "data": {
      "image/png": "[encoded data removed]",
      "text/plain": [
       "<Figure size 432x288 with 1 Axes>"
      ]
     },
     "metadata": {
      "needs_background": "light"
     },
     "output_type": "display_data"
    }
   ],
   "source": [
    "#Plot LiH PESs\n",
    "\n",
    "plt.title('LiH dissociation, STO-3G')\n",
    "plt.xlabel(r'R ($A^\\circ$)',fontsize=20)\n",
    "plt.ylabel(r'Energy ($E_h$)',fontsize=14)\n",
    "plt.plot(LiH_points, LiH_energies, label='VQE')\n",
    "plt.plot(bond_lengths, FCI_PES, label='FCI')\n",
    "\n",
    "plt.legend()\n",
    "plt.show()"
   ]
  },
  {
   "cell_type": "markdown",
   "id": "5910da6a-c5a8-4f1a-beda-ee263873c769",
   "metadata": {},
   "source": [
    "### Note that the VQE results are very close to the exact results, and so the exact energy curve is hidden by the VQE curve.\n",
    "\n"
   ]
  },
  {
   "cell_type": "code",
   "execution_count": null,
   "id": "db9e9a34-bbdd-47c4-bc42-9ca812f9619f",
   "metadata": {},
   "outputs": [],
   "source": []
  }
 ],
 "metadata": {
  "kernelspec": {
   "display_name": "Python 3 (ipykernel)",
   "language": "python",
   "name": "python3"
  },
  "language_info": {
   "codemirror_mode": {
    "name": "ipython",
    "version": 3
   },
   "file_extension": ".py",
   "mimetype": "text/x-python",
   "name": "python",
   "nbconvert_exporter": "python",
   "pygments_lexer": "ipython3",
   "version": "3.7.1"
  }
 },
 "nbformat": 4,
 "nbformat_minor": 5
}
