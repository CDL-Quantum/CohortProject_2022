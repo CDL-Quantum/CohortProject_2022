{
 "cells": [
  {
   "cell_type": "markdown",
   "id": "c454dd24",
   "metadata": {},
   "source": [
    "# Measurement Grouping\n",
    "\n",
    "Since current quantum hardware is limited to single-qubit projective measurement, only terms commuting within individual qubit's subspace can be measured together. These terms are said to be qubit-wise commuting (QWC). \n",
    "\n",
    "Thus, one can not measure the entire electronic Hamiltonian $\\hat H$ at once, and instead needs to separate it into fragments. \n",
    "$$\\hat H = \\sum_n \\hat H_n$$\n",
    "where each $\\hat H_n$ is a QWC fragment. "
   ]
  },
  {
   "cell_type": "code",
   "execution_count": null,
   "id": "27c4e907",
   "metadata": {},
   "outputs": [],
   "source": [
    "from utility import * "
   ]
  },
  {
   "cell_type": "markdown",
   "id": "08e5adbe",
   "metadata": {},
   "source": [
    "Here we use $H_4$ as an example for finding QWC fragments. Notice below that each fragment has the same terms on all qubits.  \n",
    "\n",
    "To show differences between QWC and more advanced grouping, we didn't use the qubit-tappering techinique shown in step 2."
   ]
  },
  {
   "cell_type": "code",
   "execution_count": 9,
   "id": "61590f73",
   "metadata": {},
   "outputs": [
    {
     "name": "stdout",
     "output_type": "stream",
     "text": [
      "Fragments 1: \n",
      "0.2383993319488192 [Z0] +\n",
      "0.09518660668119278 [Z0 Z2] +\n",
      "0.09518660668118697 [Z0 Z4] +\n",
      "0.11120069420693832 [Z0 Z6] +\n",
      "0.014173745323078192 [Y1 Z2 Y3 Y5 Z6 Y7] +\n",
      "0.10669392951172978 [Z2 Z4] +\n",
      "-0.008917138825534097 [Z4] +\n",
      "0.09542973454772244 [Z4 Z6]\n",
      "\n",
      "Fragments 2:\n",
      "0.014173745323078192 [Y0 Z1 Y2 Y4 Z5 Y6]\n",
      "\n",
      "Number of fragments: 37\n"
     ]
    }
   ],
   "source": [
    "h4 = get_qubit_hamiltonian(mol='h4', geometry=1, basis='sto3g', qubit_transf='jw')\n",
    "\n",
    "qwc_list = get_qwc_group(h4)\n",
    "print('Fragments 1: \\n{}\\n'.format(qwc_list[4]))\n",
    "print('Fragments 2:\\n{}\\n'.format(qwc_list[1]))\n",
    "print('Number of fragments: {}'.format(len(qwc_list)))"
   ]
  },
  {
   "cell_type": "markdown",
   "id": "b2572d1e",
   "metadata": {},
   "source": [
    "By applying extra unitaries, one may rotate more terms of $\\hat H$ into a QWC fragment.  \n",
    "\n",
    "Recall that in digital quantum computing, the expectation value of $\\hat H_n$ given a trial wavefunction $|\\psi\\rangle$ is \n",
    "$$ E_n =\\ \\langle\\psi| \\hat H_n | \\psi\\rangle$$\n",
    "Inserting unitary transformation $\\hat U_n$ does not change the expectation value.\n",
    "$$ E_n =\\ \\langle\\psi| \\hat U_n^\\dagger \\hat U_n \\hat H_n \\hat U_n^\\dagger \\hat U_n  |\\psi\\rangle$$ \n",
    "This nonetheless changes the trial wavefunction and the terms to be measured. \n",
    "$$ |\\psi\\rangle \\rightarrow \\hat U_n |\\psi\\rangle = |\\phi\\rangle$$\n",
    "$$ \\hat H_n \\rightarrow \\hat U_n \\hat H_n \\hat U_n^\\dagger = \\hat A_n$$\n",
    "The transformation of $|\\psi \\rangle$ can be done on the quantum computer, and the transformation of $\\hat H_n$ is possible on the classical computer. \n",
    "\n",
    "Now, although $\\hat A_n$ needs to be a QWC fragment to be measurable on a quantum computer, $\\hat H_n$ does not. \n",
    "Instead, if we restrict $\\hat U_n$ to be a clifford operation, the terms in $\\hat H$ need only mutually commute. \n",
    "\n",
    "Here, we obtain measurable parts of $H_4$ by partitioning its terms into mutually commuting fragments. "
   ]
  },
  {
   "cell_type": "code",
   "execution_count": 10,
   "id": "5a40c521",
   "metadata": {},
   "outputs": [
    {
     "name": "stdout",
     "output_type": "stream",
     "text": [
      "Number of mutually commuting fragments: 6\n",
      "The first commuting group\n",
      "-0.24347573739328984 [] +\n",
      "-0.03422206211800904 [X0 X1 Y4 Y5] +\n",
      "0.03422206211800904 [X0 Y1 Y4 X5] +\n",
      "0.014173745323078192 [X0 Z1 Y2 Y4 Z5 X6] +\n",
      "-0.03361644838364563 [X0 Z1 Z2 X3 Y4 Z5 Z6 Y7] +\n",
      "0.03361644838364563 [X0 Z1 Z2 Y3 Y4 Z5 Z6 X7] +\n",
      "0.03422206211800904 [Y0 X1 X4 Y5] +\n",
      "-0.03422206211800904 [Y0 Y1 X4 X5] +\n",
      "0.014173745323078192 [Y0 Z1 X2 X4 Z5 Y6] +\n",
      "0.03361644838364563 [Y0 Z1 Z2 X3 X4 Z5 Z6 Y7] +\n",
      "-0.03361644838364563 [Y0 Z1 Z2 Y3 X4 Z5 Z6 X7] +\n",
      "0.09518660668118697 [Z0 Z4] +\n",
      "-0.03361644838364563 [X1 X2 Y5 Y6] +\n",
      "0.03361644838364563 [X1 Y2 Y5 X6] +\n",
      "0.014173745323078192 [X1 Z2 Y3 Y5 Z6 X7] +\n",
      "0.03361644838364563 [Y1 X2 X5 Y6] +\n",
      "-0.03361644838364563 [Y1 Y2 X5 X6] +\n",
      "0.014173745323078192 [Y1 Z2 X3 X5 Z6 Y7] +\n",
      "0.09518660668118697 [Z1 Z5] +\n",
      "-0.03691448415649887 [X2 X3 Y6 Y7] +\n",
      "0.03691448415649887 [X2 Y3 Y6 X7] +\n",
      "0.03691448415649887 [Y2 X3 X6 Y7] +\n",
      "-0.03691448415649887 [Y2 Y3 X6 X7] +\n",
      "0.09542973454771654 [Z2 Z6] +\n",
      "0.09542973454771654 [Z3 Z7]\n"
     ]
    }
   ],
   "source": [
    "comm_groups = get_commuting_group(h4)\n",
    "print('Number of mutually commuting fragments: {}'.format(len(comm_groups)))\n",
    "print('The first commuting group')\n",
    "print(comm_groups[1])"
   ]
  },
  {
   "cell_type": "markdown",
   "id": "8c47c326",
   "metadata": {},
   "source": [
    "To see this fragment is indeed measurable, one can construct the corresponding unitary operator $\\hat U_n$."
   ]
  },
  {
   "cell_type": "code",
   "execution_count": 11,
   "id": "58f37b32",
   "metadata": {},
   "outputs": [
    {
     "name": "stdout",
     "output_type": "stream",
     "text": [
      "This is unitary, U * U^+ = I \n",
      "(0.9999999999999999+0j) []\n"
     ]
    }
   ],
   "source": [
    "uqwc = get_qwc_unitary(comm_groups[1])\n",
    "print('This is unitary, U * U^+ = I ')\n",
    "print(uqwc * uqwc)"
   ]
  },
  {
   "cell_type": "markdown",
   "id": "082a01cd",
   "metadata": {},
   "source": [
    "Applying this unitary gives the qubit-wise commuting form of the first mutually commuting group"
   ]
  },
  {
   "cell_type": "code",
   "execution_count": 12,
   "id": "d674b78c",
   "metadata": {},
   "outputs": [
    {
     "name": "stdout",
     "output_type": "stream",
     "text": [
      "-0.24347573739328962 [] +\n",
      "0.03361644838364539 [X0 X1 X2 X3 Z7] +\n",
      "-0.03361644838364539 [X0 X1 X2 Z7] +\n",
      "0.03422206211800904 [X0 X1 Z5] +\n",
      "-0.014173745323078241 [X0 X1 Z6] +\n",
      "0.09518660668118643 [X0 X4] +\n",
      "-0.03422206211800904 [X0 Z5] +\n",
      "0.09518660668118643 [X1] +\n",
      "-0.03361644838364539 [X1 X2 X3 X4 Z7] +\n",
      "-0.014173745323078241 [X1 X2 X4 Z6] +\n",
      "0.03361644838364539 [X1 X2 X4 Z7] +\n",
      "-0.03361644838364539 [X1 X2 Z5 Z6] +\n",
      "0.014173745323078241 [X1 X2 Z5 Z7] +\n",
      "-0.03422206211800904 [X1 X4 Z5] +\n",
      "0.03361644838364539 [X1 Z5 Z6] +\n",
      "0.09542973454771683 [X2] +\n",
      "0.014173745323078241 [X2 X3 Z5 Z7] +\n",
      "-0.03691448415649904 [X2 X3 Z6 Z7] +\n",
      "0.03361644838364539 [X2 Z5 Z6] +\n",
      "0.03691448415649904 [X2 Z6 Z7] +\n",
      "0.09542973454771683 [X3] +\n",
      "0.03691448415649904 [X3 Z6 Z7] +\n",
      "0.03422206211800904 [X4 Z5] +\n",
      "-0.03361644838364539 [Z5 Z6] +\n",
      "-0.03691448415649904 [Z6 Z7]\n"
     ]
    }
   ],
   "source": [
    "qwc = remove_complex(uqwc * comm_groups[1] * uqwc)\n",
    "print(qwc)"
   ]
  },
  {
   "cell_type": "markdown",
   "id": "fea28e42",
   "metadata": {},
   "source": [
    "In addition, current quantum computer can measure only the $z$ operators. Thus, QWC fragments with $x$ or $y$ operators require extra single-qubit unitaries that rotate them into $z$.  "
   ]
  },
  {
   "cell_type": "code",
   "execution_count": 13,
   "id": "0a0d2b15",
   "metadata": {},
   "outputs": [
    {
     "name": "stdout",
     "output_type": "stream",
     "text": [
      "Checking whether U * U^+ is identity: 0.9999999999999998 []\n",
      "\n",
      "The all-z form of qwc fragment:\n",
      "-0.2434757373932896 [] +\n",
      "0.033616448383645386 [Z0 Z1 Z2 Z3 Z7] +\n",
      "-0.033616448383645386 [Z0 Z1 Z2 Z7] +\n",
      "0.03422206211800902 [Z0 Z1 Z5] +\n",
      "-0.014173745323078234 [Z0 Z1 Z6] +\n",
      "0.09518660668118631 [Z0 Z4] +\n",
      "-0.03422206211800902 [Z0 Z5] +\n",
      "0.09518660668118631 [Z1] +\n",
      "-0.033616448383645386 [Z1 Z2 Z3 Z4 Z7] +\n",
      "-0.014173745323078234 [Z1 Z2 Z4 Z6] +\n",
      "0.033616448383645386 [Z1 Z2 Z4 Z7] +\n",
      "-0.033616448383645386 [Z1 Z2 Z5 Z6] +\n",
      "0.014173745323078234 [Z1 Z2 Z5 Z7] +\n",
      "-0.03422206211800902 [Z1 Z4 Z5] +\n",
      "0.033616448383645386 [Z1 Z5 Z6] +\n",
      "0.09542973454771668 [Z2] +\n",
      "0.014173745323078234 [Z2 Z3 Z5 Z7] +\n",
      "-0.03691448415649901 [Z2 Z3 Z6 Z7] +\n",
      "0.033616448383645386 [Z2 Z5 Z6] +\n",
      "0.03691448415649901 [Z2 Z6 Z7] +\n",
      "0.09542973454771668 [Z3] +\n",
      "0.03691448415649901 [Z3 Z6 Z7] +\n",
      "0.03422206211800902 [Z4 Z5] +\n",
      "-0.033616448383645386 [Z5 Z6] +\n",
      "-0.03691448415649901 [Z6 Z7]\n"
     ]
    }
   ],
   "source": [
    "uz = get_zform_unitary(qwc)\n",
    "print(\"Checking whether U * U^+ is identity: {}\".format(uz * uz))\n",
    "\n",
    "allz = remove_complex(uz * qwc * uz)\n",
    "print(\"\\nThe all-z form of qwc fragment:\\n{}\".format(allz))"
   ]
  },
  {
   "cell_type": "code",
   "execution_count": null,
   "id": "8e374829",
   "metadata": {},
   "outputs": [],
   "source": []
  }
 ],
 "metadata": {
  "kernelspec": {
   "display_name": "Python 3 (ipykernel)",
   "language": "python",
   "name": "python3"
  },
  "language_info": {
   "codemirror_mode": {
    "name": "ipython",
    "version": 3
   },
   "file_extension": ".py",
   "mimetype": "text/x-python",
   "name": "python",
   "nbconvert_exporter": "python",
   "pygments_lexer": "ipython3",
   "version": "3.7.1"
  }
 },
 "nbformat": 4,
 "nbformat_minor": 5
}
