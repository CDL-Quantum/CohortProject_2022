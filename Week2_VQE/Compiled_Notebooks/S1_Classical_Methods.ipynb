{
 "cells": [
  {
   "cell_type": "markdown",
   "metadata": {},
   "source": [
    "# Review of classical electronic structure methods \n",
    "\n",
    "In order to assess the performance of quantum computing algorithms in addressing the electronic structure problem, we will briefly review a few commonly employed classical electronic structure methods of varying level of approximation. \n",
    "\n",
    "## Hartree-Fock\n",
    "\n",
    "The Hartree-Fock (HF) method employs a **mean-field approximation**, where Coulomb correlation of electrons is neglected. The HF wavefunction is hence restricted to the form of a single Slater determinant, for which the optimal form may be acquired by an optimization of the underlying single particle basis (orbitals). Once the optimal HF orbitals have been found, the HF state may be written as \n",
    "\n",
    "$$ | \\text{HF} \\rangle = \\prod_{p \\in \\text{occ}} \\hat a^\\dagger_p | \\text{vac} \\rangle $$\n",
    "\n",
    "where $\\hat a^\\dagger_p$ creates an electron in the $p^{\\rm{th}}$ optimized HF spin orbital, and  $| \\text{vac} \\rangle$ is the vacuum state (all spin-orbitals unoccupied). Due to the restriction to a single Slater determinant, the HF energy may be obtained very efficiently and can be applied to very large molecules, however it becomes qualitatively incorrect when **electronic correlations** become sufficiently strong. The HF wavefunction is often used as a starting point in more accurate treatments of electronic correlation. \n",
    "\n",
    "## Coupled cluster\n",
    "\n",
    "The Coupled cluster (CC) method introduces electronic correlation to the wavefunction ansatz by operating on the HF reference state with the exponential of excitation operators\n",
    "\n",
    "$$|\\text{CC} \\rangle = e^{\\hat T} | \\text{HF}\\rangle, \\quad \\hat T = \\hat T_1 + \\hat T_2 + ...$$\n",
    "\n",
    "where $\\hat T_1 = \\sum_{ia} t^{a}_i \\hat a^\\dagger_a \\hat a_i$ are referred to as 'singles', $\\hat T_2 = \\sum_{ijab} t^{ab}_{ij} \\hat a^\\dagger_a \\hat a^\\dagger_b \\hat a_i \\hat a_j$ as 'doubles', etc. When the excitation rank is truncated to only singles (S) and doubles (D), $\\hat T = \\hat T_1 + \\hat T_2$, the corresponding ansatz is referred to as CCSD. Since the number of possible single and double excitations for a system of $N$ electrons in $M$ orbitals is polynomial in $M$, one can efficiently solve a system of equations to obtain the optimized CCSD amplitudes. CCSD often gives accurate energies and can be applied to modestly sized chemical systems. However, due to its implementation, it can **violate the variational principle** and give energies lower than the ground state.\n",
    "\n",
    "## Full Configuration Interaction\n",
    "The full configuration interaction (FCI) method yields the **exact ground state energy** within a given basis set. The FCI wavefunction is written as a linear combination of all possible $N$-particle Slater determinants over the orbital basis\n",
    "$$|\\text{FCI} \\rangle =  \\left( \\sum_{ia} C^{a}_i \\hat a^\\dagger_a \\hat a_i + \\sum_{ijab} C^{ab}_{ij} \\hat a^\\dagger_a \\hat a^\\dagger_b \\hat a_i \\hat a_j + ...  \\right) | \\text{HF} \\rangle $$\n",
    "where the sum includes up to $N$-electron excitations, and hence there are an exponential number of coefficients to optimize in $| \\text{FCI} \\rangle$. Due to its **exponential complexity**, FCI is often reserved for only the smallest chemical systems. However, it serves as a useful result to compare to when assessing tractable electronic structure methods."
   ]
  },
  {
   "cell_type": "markdown",
   "metadata": {},
   "source": [
    "# Benchmarking for electronic PESs in minimal basis (STO-3G)\n",
    "\n",
    "We will apply HF, CCSD, and FCI to obtaining the PESs for a few molecular dissociation processes in minimal (STO-3G) basis."
   ]
  },
  {
   "cell_type": "code",
   "execution_count": null,
   "metadata": {},
   "outputs": [],
   "source": [
    "import numpy as np\n",
    "import matplotlib.pyplot as plt\n",
    "from utility import get_molecular_data, obtain_PES\n",
    "\n",
    "basis = 'sto-3g'"
   ]
  },
  {
   "cell_type": "code",
   "execution_count": null,
   "metadata": {
    "scrolled": false
   },
   "outputs": [],
   "source": [
    "# N2\n",
    "bond_lengths_n2 = np.linspace(0.6,2.7,15)\n",
    "FCI_PES_N2 = obtain_PES('n2', bond_lengths_n2, basis, method='fci');\n",
    "HF_PES_N2 = obtain_PES('n2', bond_lengths_n2, basis,  method='hf');\n",
    "CCSD_PES_N2 = obtain_PES('n2', bond_lengths_n2, basis,  method='ccsd');\n",
    "\n",
    "# H2\n",
    "bond_lengths_h2 = np.linspace(0.2,2.7,15)\n",
    "FCI_PES_H2 = obtain_PES('h2', bond_lengths_h2, basis, method='fci');\n",
    "HF_PES_H2 = obtain_PES('h2', bond_lengths_h2, basis,  method='hf');\n",
    "CCSD_PES_H2 = obtain_PES('h2', bond_lengths_h2, basis,  method='ccsd');\n",
    "\n",
    "# H2O\n",
    "bond_lengths_h2o = np.linspace(0.5,2.7,15)\n",
    "FCI_PES_H2O = obtain_PES('h2o', bond_lengths_h2o, basis, method='fci');\n",
    "HF_PES_H2O = obtain_PES('h2o', bond_lengths_h2o, basis,  method='hf');\n",
    "CCSD_PES_H2O = obtain_PES('h2o', bond_lengths_h2o, basis,  method='ccsd');\n",
    "\n",
    "# LiH\n",
    "bond_lengths_lih = np.linspace(0.7,2.7,15)\n",
    "FCI_PES_LiH = obtain_PES('lih', bond_lengths_lih, basis, method='fci');\n",
    "HF_PES_LiH = obtain_PES('lih', bond_lengths_lih, basis,  method='hf');\n",
    "CCSD_PES_LiH = obtain_PES('lih', bond_lengths_lih, basis,  method='ccsd');\n",
    "\n",
    "# h4\n",
    "bond_lengths_h4 = np.linspace(0.5,2.7,15)\n",
    "FCI_PES_H4 = obtain_PES('h4', bond_lengths_h4, basis, method='fci');\n",
    "HF_PES_H4 = obtain_PES('h4', bond_lengths_h4, basis,  method='hf');\n",
    "CCSD_PES_H4 = obtain_PES('h4', bond_lengths_h4, basis,  method='ccsd');"
   ]
  },
  {
   "cell_type": "code",
   "execution_count": null,
   "metadata": {},
   "outputs": [],
   "source": [
    "#fig, axes = plt.figure(figsize=(20, 8));\n",
    "fig, axes = plt.subplots(figsize=(15, 8), nrows=2, ncols=3)\n",
    "fig.tight_layout(pad=5.0)\n",
    "\n",
    "plt.subplot(2, 3, 1)\n",
    "plt.title('N2'); plt.xlabel('R, Angstrom'); plt.ylabel('E, Hartree')\n",
    "plt.plot(bond_lengths_n2, FCI_PES_N2, label='FCI')\n",
    "plt.scatter(bond_lengths_n2, HF_PES_N2, label='HF', color='orange')\n",
    "plt.scatter(bond_lengths_n2, CCSD_PES_N2, label='CCSD', color='purple')\n",
    "plt.legend()\n",
    "\n",
    "plt.subplot(2, 3, 2)\n",
    "plt.title('H2O'); plt.xlabel('R, Angstrom'); plt.ylabel('E, Hartree')\n",
    "plt.plot(bond_lengths_h2o, FCI_PES_H2O, label='FCI')\n",
    "plt.scatter(bond_lengths_h2o, HF_PES_H2O, label='HF', color='orange')\n",
    "plt.scatter(bond_lengths_h2o, CCSD_PES_H2O, label='CCSD', color='purple')\n",
    "plt.legend()\n",
    "\n",
    "plt.subplot(2, 3, 3)\n",
    "plt.title('H4'); plt.xlabel('R, Angstrom'); plt.ylabel('E, Hartree')\n",
    "plt.plot(bond_lengths_h4, FCI_PES_H4, label='FCI')\n",
    "plt.scatter(bond_lengths_h4, HF_PES_H4, label='HF', color='orange')\n",
    "plt.scatter(bond_lengths_h4, CCSD_PES_H4, label='CCSD', color='purple')\n",
    "plt.legend()\n",
    "\n",
    "plt.subplot(2, 3, 4)\n",
    "plt.title('H2'); plt.xlabel('R, Angstrom'); plt.ylabel('E, Hartree')\n",
    "plt.plot(bond_lengths_h2, FCI_PES_H2, label='FCI')\n",
    "plt.scatter(bond_lengths_h2, HF_PES_H2, label='HF', color='orange')\n",
    "plt.scatter(bond_lengths_h2, CCSD_PES_H2, label='CCSD', color='purple')\n",
    "plt.legend()\n",
    "\n",
    "plt.subplot(2, 3, 5)\n",
    "plt.title('LiH'); plt.xlabel('R, Angstrom'); plt.ylabel('E, Hartree')\n",
    "plt.plot(bond_lengths_lih, FCI_PES_LiH, label='FCI')\n",
    "plt.scatter(bond_lengths_lih, HF_PES_LiH, label='HF', color='orange')\n",
    "plt.scatter(bond_lengths_lih, CCSD_PES_LiH, label='CCSD', color='purple')\n",
    "plt.legend()\n",
    "\n",
    "plt.savefig(\"classical_methods.png\")\n",
    "plt.show()"
   ]
  },
  {
   "cell_type": "markdown",
   "metadata": {},
   "source": [
    "## Step 1: Generating PES using classical methods\n",
    "\n",
    "Our task is to investigate the ground-state problem which is to determine the ground-state wavefunction and energy associated with a system of interest. We start by discussing several classical computational methods of determining the electronic ground-state structure. \n",
    "\n",
    "#### Variational approaches:\n",
    "The variational approach in quantum mechanics is a method of approximating the ground-state wavefunction. An initial guess is made for the wavefunction which depends on several parameters. The expectation value of the energy is calculated using this trial wavefunction, and the parameters are varied such that the energy is minimized. The result corresponds to the ground-state wavefunction and the associated energy represents an upper bound to the ground state energy.\n",
    "\n",
    "Here, we consider the performance of two variational methods: The Hartree-Fock (HF) method and the Configuration interaction (CI) method. In the HF method, the wavefunction used is assumed to the product of single-electron wavefunctions and is subject to the antisymmetric requirement [1]. The many-body problem is simplified by considering each electron to move in an effective potential which represents the average density of all the other electrons. A strength of the HF method can be seen in the simplicity of the theory, however, the simplification also leads to low accuracy of the ground-state energy because electron correlation is not included. CI methods aim to overcome this issue by considering multiple orbital configurations of the electrons, whereas the HF method only considers a single configuration. In this way, spatial correlations of the electrons are included and the resulting energies are more accurate. While CI methods are generally more accurate than the HF method, a downside is that commonly used approximate CI methods do not necessarily scale correctly with the number of electrons in the system. To be specific, the energy should be linearly proptional to the number of electrons in the system, however, CI methods do not guarantee that this relationship will hold.\n",
    "\n",
    "An non-variational approach, known as the Coupled Cluster (CC) method, guarantees the correct scaling of the system with the number of electrons. The CC method considers multiple electron configurations and is developped using perturbation theory. A significant disadvantage associated with the CC method is that the calculated energy does not provide an upper-bound for the exact energy.\n",
    "\n",
    "To see these methods in practice, we analyzed the following set of molecules:\n",
    "- $H_2$\n",
    "- $LiH$\n",
    "- $H_4$\n",
    "- $H_2 O$\n",
    "- $N_2$\n",
    "\n",
    "We investigated the energy of each molecule as a function of the bond length using the HF method, the Coupled Cluster Singles and Doubles (CCSD), and the exact answer within the chosen basis Full Configuration Interaction (FCI). The results of our calculations are as follows.\n",
    "\n",
    "![classical_methods](./classical_methods.png)\n",
    "\n",
    "The above plots show that for every molecule, the exact energy is lower than the energy calculated using the HF method. This was expected since variational methods such as the HF method provide an upper bound for the exact energy. We also see that the CCSD energy can be lower than the exact energy, which is consistent with our understanding that the CCSD does not provide an upper-bound.\n",
    "\n",
    "Another observation is that for all molecules, there are significant discrepancies between the approximate and exact energies- particularly in the region where the bond is longer than the equilibrium length. We can see that the energy of the weakly correlated molecules on the bottom row ($H_2$ and $LiH$) are better behaved than the energies associated with the highly correlated molecules on the top row ($H_2 O$, $N_2$ and $H_4$). In particular, the relationship bettwen the CCSD energy and bond length exhibit some unexpected behaviour for the $N_2$ and $H_2 O$ molecules.\n",
    "\n",
    "Depending on what properties are to be calculated, the runtime and accuracy of the calculation are both factors which dictate the ideal method to be used. The exact solution scales exponentially with the size of the system, and approximate methods scale polynomially with the size. None of the methods are ideal solutions to the ground-state problem for every application. We now turn to the quantum world to see if we can overcome some of these limitations.\n",
    "\n",
    "## References\n",
    "\n",
    "[1] Hoggan, Philip E. Novel Electronic Structure Theory: General Innovations and Strongly Correlated Systems. Academic Press, 2018."
   ]
  },
  {
   "cell_type": "code",
   "execution_count": null,
   "metadata": {},
   "outputs": [],
   "source": []
  }
 ],
 "metadata": {
  "kernelspec": {
   "display_name": "Python 3 (ipykernel)",
   "language": "python",
   "name": "python3"
  },
  "language_info": {
   "codemirror_mode": {
    "name": "ipython",
    "version": 3
   },
   "file_extension": ".py",
   "mimetype": "text/x-python",
   "name": "python",
   "nbconvert_exporter": "python",
   "pygments_lexer": "ipython3",
   "version": "3.7.1"
  }
 },
 "nbformat": 4,
 "nbformat_minor": 2
}
