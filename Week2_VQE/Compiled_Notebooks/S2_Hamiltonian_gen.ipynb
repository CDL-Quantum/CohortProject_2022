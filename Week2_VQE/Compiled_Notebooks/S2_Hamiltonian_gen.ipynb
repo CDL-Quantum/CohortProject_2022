{
 "cells": [
  {
   "cell_type": "markdown",
   "metadata": {},
   "source": [
    "# Generating Qubit Hamiltonians"
   ]
  },
  {
   "cell_type": "code",
   "execution_count": null,
   "metadata": {},
   "outputs": [],
   "source": [
    "from utility import *\n",
    "import numpy as np "
   ]
  },
  {
   "cell_type": "markdown",
   "metadata": {},
   "source": [
    "Specify the Qubit Hamiltonian of a molecule by its name, internuclear distances, basis set, and fermion-to-qubit transformation.\n",
    "Here, we show the resulting Hamiltonian for $H_2$ in STO-3G with $0.74\\overset{\\circ}{A}$ between the $H$ atoms. "
   ]
  },
  {
   "cell_type": "code",
   "execution_count": 2,
   "metadata": {
    "tags": []
   },
   "outputs": [
    {
     "name": "stdout",
     "output_type": "stream",
     "text": [
      "H:\n",
      "-0.09706626816763109 [] +\n",
      "-0.045302615503799264 [X0 X1 Y2 Y3] +\n",
      "0.045302615503799264 [X0 Y1 Y2 X3] +\n",
      "0.045302615503799264 [Y0 X1 X2 Y3] +\n",
      "-0.045302615503799264 [Y0 Y1 X2 X3] +\n",
      "0.17141282644776923 [Z0] +\n",
      "0.16868898170361213 [Z0 Z1] +\n",
      "0.12062523483390411 [Z0 Z2] +\n",
      "0.1659278503377034 [Z0 Z3] +\n",
      "0.17141282644776926 [Z1] +\n",
      "0.1659278503377034 [Z1 Z2] +\n",
      "0.12062523483390411 [Z1 Z3] +\n",
      "-0.2234315369081348 [Z2] +\n",
      "0.17441287612261586 [Z2 Z3] +\n",
      "-0.22343153690813478 [Z3]\n"
     ]
    }
   ],
   "source": [
    "qubit_transf = 'jw' # Jordan-Wigner transformations\n",
    "h2 = get_qubit_hamiltonian(mol='h2', geometry=0.74, basis='sto3g', qubit_transf=qubit_transf)\n",
    "print(\"H:\\n{}\".format(h2))"
   ]
  },
  {
   "cell_type": "markdown",
   "metadata": {},
   "source": [
    "This Qubit Hamiltonian encodes all of the $2^N$ eigenstates and eigenenergies, where $N=4$ is the number of qubits. \n",
    "In principle, one can represent the Hamiltonian as a matrix with $2^N$ dimensions and find the eigenvalues classically through diagonalization, but the cost of this approach clearly grows exponentially with $N$. \n",
    "\n",
    "Still, we can check that this approach indeed recovers the ground state energy against method in S1. "
   ]
  },
  {
   "cell_type": "code",
   "execution_count": 4,
   "metadata": {},
   "outputs": [
    {
     "name": "stdout",
     "output_type": "stream",
     "text": [
      "The ground state energy from S1: \n",
      "converged SCF energy = -1.11675930739643\n",
      "\n",
      "The eigenvalues in the matrix representation of Hamiltonian: \n",
      "[-1.13728383 -0.53820545 -0.53820545 -0.53077336 -0.53077336 -0.53077336\n",
      " -0.44561582 -0.44561582 -0.16835243  0.24003549  0.24003549  0.3555207\n",
      "  0.3555207   0.48314267  0.71510434  0.92317918]\n"
     ]
    }
   ],
   "source": [
    "# Defining pauli matrices \n",
    "I, X, Y, Z = np.identity(2), np.array([[0, 1], [1, 0]]), np.array([[0, -1j], [1j, 0]]), np.array([[1, 0], [0, -1]])\n",
    "\n",
    "# Build matrix representiation of the Hamiltonian H\n",
    "n_qubits = openfermion.count_qubits(h2)\n",
    "h2_matrix = np.zeros((2**n_qubits, 2**n_qubits), dtype=np.complex)\n",
    "for term, term_coeff in h2.terms.items(): # Iterate over pauli-words of H\n",
    "    term = dict(term) # Dict[qubit_index, 'X'/'Y'/'Z']\n",
    "    \n",
    "    # Build matrix rep of current pauli-word using kronecker product to represent x_i y_j ...\n",
    "    pw_matrix = np.identity(1)\n",
    "    for i in range(n_qubits):\n",
    "        if i not in term:        pw_matrix = np.kron(pw_matrix, I)\n",
    "        else:\n",
    "            if term[i] == 'X':   pw_matrix = np.kron(pw_matrix, X)\n",
    "            elif term[i] == 'Y': pw_matrix = np.kron(pw_matrix, Y)\n",
    "            else:                pw_matrix = np.kron(pw_matrix, Z)\n",
    "    h2_matrix += pw_matrix * term_coeff\n",
    "\n",
    "eigvals, _ = np.linalg.eigh(h2_matrix)\n",
    "print(\"The ground state energy from S1: \")\n",
    "obtain_PES('h2', [0.74], 'sto-3g', 'fci')\n",
    "print(\"\\nThe eigenvalues in the matrix representation of Hamiltonian: \\n{}\".format(eigvals))"
   ]
  },
  {
   "cell_type": "markdown",
   "metadata": {},
   "source": [
    "Alternatively, the qubit-tapering technique can find a smaller effective Hamitlonian by subsitituting operators with $\\pm 1$. This technique is detailed in Bravyi's work ([Bravyi et al., \"Tapering off qubits to simulate fermionic Hamiltonians\", arXiv:1701.08213](https://arxiv.org/abs/1701.08213)). "
   ]
  },
  {
   "cell_type": "code",
   "execution_count": 5,
   "metadata": {
    "tags": []
   },
   "outputs": [
    {
     "name": "stdout",
     "output_type": "stream",
     "text": [
      "The effective Hamiltonian of h2:\n",
      " -0.3270705806846181 [] +\n",
      "0.18121046201519705 [X0] +\n",
      "-0.789688726711808 [Z0]\n"
     ]
    }
   ],
   "source": [
    "print(\"The effective Hamiltonian of h2:\\n {}\".format(taper_hamiltonian(h2, n_spin_orbitals=4, n_electrons=2, qubit_transf=qubit_transf))) "
   ]
  },
  {
   "cell_type": "markdown",
   "metadata": {},
   "source": [
    "We can verify that this new Hamiltonian still encodes the ground state energy. "
   ]
  },
  {
   "cell_type": "code",
   "execution_count": 6,
   "metadata": {
    "tags": []
   },
   "outputs": [
    {
     "name": "stdout",
     "output_type": "stream",
     "text": [
      "The eigenvalues in the effective Hamiltonian: \n",
      " [-1.10115031  0.03904763]\n"
     ]
    }
   ],
   "source": [
    "# Building the matrix representation of the effective Hamiltonian\n",
    "h2_matrix = -0.53105134 * I + 0.19679058 * X - 0.53505729 * Z\n",
    "\n",
    "# Obtain the eigenvalues\n",
    "eigvals, _ = np.linalg.eigh(h2_matrix)\n",
    "print(\"The eigenvalues in the effective Hamiltonian: \\n {}\".format(eigvals))"
   ]
  },
  {
   "cell_type": "markdown",
   "metadata": {},
   "source": [
    "## Step 2: Generating the qubit Hamiltonian\n",
    "To proceed to VQE one needs to generate the qubit Hamiltonian, the easiest path is via first generating the electronic Hamiltonian in the second quantized form and then transform it into the qubit form using one of the fermion-to-qubit transformation: Jordan-Wigner or Bravyi-Kitaev.  Next, some qubit operators can be substituted by number ($\\pm 1$) because their states are stationary for the specific electronic state (e.g., ground state). This reduction is very useful for fitting larger problem in a fewer qubit description and is based on Hamiltonian symmetries.\n",
    "\n",
    "#### 2.1 What are the requirements for a function of qubit operators to be a valid mapping for the fermionic operators?\n",
    "\n",
    "First, recall that fermionic creation/annihilation operators in the second quantization formalism are required to obey the anti-commutation relations:\n",
    "$$ \\{  \\hat{a}_p, \\hat{a}_q^\\dagger \\} = \\delta_{pq} \\qquad \\{  \\hat{a}_p^\\dagger, \\hat{a}_q^\\dagger \\} = \\{  \\hat{a}_p, \\hat{a}_q \\} = 0 $$\n",
    "\n",
    "To run our quantum algorithm, we first must transform the Hamiltonian, which is originally expressed in second quantization, as a linear combination of the Pauli operators. In order for the mapping transformation to be valid, we must ensure that it preserves the anti-commutation of the fermionic operators [1]. This is not a given, as Pauli operators do not naturally obey the anti-commutation relations.\n",
    "\n",
    "To illustrate the transformation, we consider the Jordan-Wigner transformation. Let $|0>_j$ ($|1>_j$) denote the unoccupied (occupied) state of the $j$-th spin orbital. For a single operator, the creation operators could be expressed as:\n",
    "$$ \\hat{a}^\\dagger \\rightarrow |1><0|_j = \\begin{pmatrix} 0 & 0\\\\ 1 & 0 \\end{pmatrix} = \\frac{X_j - i Y_j}{2} $$\n",
    "The problem with this transformation is that the Pauli operators do not satisfy the anti-commutation relation.\n",
    "\n",
    "There is an easy and intuitive way to change the transformation so that the anti-commutation relation is enforced. We apply Z gates to each qubit from $0$ to $j-1$.\n",
    "$$ \\hat{a}^\\dagger \\rightarrow \\frac{X_j - i Y_j}{2} \\otimes Z_0 \\otimes \\dots \\otimes Z_{j-1} $$\n",
    "One can easily verify that the anti-commutation relation is now enforced.\n",
    "\n",
    "#### 2.2 The electronic Hamiltonian is real (due to time-reversal symmetry), what consequences does that have on the terms in the qubit Hamiltonian after the Jordan-Wigner transformation?\n",
    "\n",
    "Time reversal ensures that the fermionic Hamiltonian is real and symmetric. By implication, the Jordan-Wigner transformed qubit Hamiltonian must also be real. If the mapping is performed such that the resulting operators are expressed as products of the Pauli matrices [2] then the assertion that the Hamiltonian be real implies that operators composed of an even number of Y gates are not included. This reduces the set of possible operators, reducing the depth of the circuit.\n",
    "\n",
    "#### References\n",
    "\n",
    "[1] Tilly, Jules, et al. \"The variational quantum eigensolver: a review of methods and best practices.\" arXiv preprint arXiv:2111.05176 (2021).\n",
    "\n",
    "[2] Tang, Ho Lun, et al. \"qubit-adapt-vqe: An adaptive algorithm for constructing hardware-efficient ansätze on a quantum processor.\" PRX Quantum 2.2 (2021): 020310."
   ]
  },
  {
   "cell_type": "raw",
   "metadata": {},
   "source": []
  }
 ],
 "metadata": {
  "kernelspec": {
   "display_name": "Python 3 (ipykernel)",
   "language": "python",
   "name": "python3"
  },
  "language_info": {
   "codemirror_mode": {
    "name": "ipython",
    "version": 3
   },
   "file_extension": ".py",
   "mimetype": "text/x-python",
   "name": "python",
   "nbconvert_exporter": "python",
   "pygments_lexer": "ipython3",
   "version": "3.7.1"
  }
 },
 "nbformat": 4,
 "nbformat_minor": 2
}
