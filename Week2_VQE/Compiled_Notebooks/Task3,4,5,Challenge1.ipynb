{
 "cells": [
  {
   "cell_type": "code",
   "execution_count": null,
   "id": "93961286",
   "metadata": {},
   "outputs": [],
   "source": [
    "# Task # 3\n",
    "import numpy as np\n",
    "import tequila as tq\n",
    "from utility import *\n",
    "threshold = 1e-6 #Cutoff for UCCSD MP2 amplitudes and QCC ranking gradients"
   ]
  },
  {
   "cell_type": "markdown",
   "id": "5645083a",
   "metadata": {},
   "source": [
    "#### Readme\n",
    "In VQE, the final energy will crucially depend on the ansatz/form of the parameterized unitary employed in state preparation. The goal here is to try two methods: Unitary Coupled Cluster including\n",
    "Single and Double excitations (UCCSD) and Qubit Coupled Cluster (QCC) methods\n",
    "and benchmark them for energy calculations of small molecules.\n",
    "\n",
    "#### UCCSD\n",
    "In the Coupled cluster method one introduces electronic correlation to the initial guess wavefunction (usually HF) \n",
    "by operating with the exponential of the sum of low order excitation operators. In UCCSD in particular we just include single and double excitations. Remember HF state is the antisymmetrization of the case where all electrons occupy the low-energy eigenstates of single particle system. The exponentiation of Single and Double excitation operators is $e^{T_{1} + T_{2})}$ where $T_{1}$ annihilates electron in an occupied state and creats one in an excited one (again, states here are all the eigenstates of single electron system i.e. non-interacting)\n",
    "$T_{2}$ does the same on two electrons.\n",
    "\n",
    "This ansatz is referred to as CCSD and can be efficiently solved a system of equations to obtain the optimized CCSD\n",
    "amplitudes. NOTE: CCSD can violate the variational principle and give energies lower than the ground state!\n",
    "\n",
    "Note that exponentiation of $T_{1} + T_{2}$ can not trivially be decomposed in terms of gates native to our hardware, So, we do Trotterization; In this example we take the number of steps to be 1.\n",
    "\n",
    "We want to do the following optimization\n",
    "\n",
    "$E_{min} = min_{\\theta} \\langle HF | U^{\\dagger} (\\theta) H U(\\theta) | HF \\rangle$ where H is fixed given by\n",
    "\n",
    "the atomic structure and $U(\\theta)$ is the ansatz parametrized by \\theta. "
   ]
  },
  {
   "cell_type": "code",
   "execution_count": 32,
   "id": "4a046c14",
   "metadata": {},
   "outputs": [
    {
     "name": "stdout",
     "output_type": "stream",
     "text": [
      "Number of spin-orbitals (qubits): 4 \n",
      "\n",
      "FCI energy: -0.9360549199436621\n"
     ]
    }
   ],
   "source": [
    "# H2 molecule UCCSD vs FCI\n",
    "# Result: The agreement with FCI is great!\n",
    "\n",
    "trotter_steps = 1\n",
    "\n",
    "# FCI (Full Configuration Interaction) solution (as a benchmark)\n",
    "\n",
    "xyz_data = get_molecular_data('h2', geometry=2.5, xyz_format=True) # R = 2.5 Ang is the distance between H atoms \n",
    "\n",
    "basis='sto-3g'\n",
    "\n",
    "h2 = tq.quantumchemistry.Molecule(geometry=xyz_data, basis_set=basis)\n",
    "\n",
    "print('Number of spin-orbitals (qubits): {} \\n'.format(2*h2.n_orbitals))\n",
    "\n",
    "E_FCI = h2.compute_energy(method='fci')\n",
    "\n",
    "print('FCI energy: {}'.format(E_FCI))"
   ]
  },
  {
   "cell_type": "code",
   "execution_count": 33,
   "id": "8bb55f31",
   "metadata": {},
   "outputs": [
    {
     "name": "stdout",
     "output_type": "stream",
     "text": [
      "\n",
      "Hamiltonian has 15 terms\n",
      "\n",
      "\n",
      "Number of UCCSD amplitudes: 2 \n",
      "\n",
      "\n",
      "Starting optimization:\n",
      "\n",
      "Optimizer: <class 'tequila.optimizers.optimizer_scipy.OptimizerSciPy'> \n",
      "backend         : qulacs\n",
      "device          : None\n",
      "samples         : None\n",
      "save_history    : True\n",
      "noise           : None\n",
      "\n",
      "Method          : BFGS\n",
      "Objective       : 1 expectationvalues\n",
      "gradient        : 6 expectationvalues\n",
      "\n",
      "active variables : 2\n",
      "\n",
      "E=-0.70294360  angles= {(1, 0, 1, 0): 0.0, ((0, 1), 'S', None): 0.0}  samples= None\n",
      "E=-0.92698007  angles= {(1, 0, 1, 0): -0.5644201040267944, ((0, 1), 'S', None): 0.0}  samples= None\n",
      "E=-0.93354954  angles= {(1, 0, 1, 0): -0.7564777228200539, ((0, 1), 'S', None): 0.0}  samples= None\n",
      "E=-0.93605486  angles= {(1, 0, 1, 0): -0.6900732728088522, ((0, 1), 'S', None): 0.0}  samples= None\n",
      "E=-0.93605492  angles= {(1, 0, 1, 0): -0.6904080103487397, ((0, 1), 'S', None): 0.0}  samples= None\n",
      "E=-0.93605492  angles= {(1, 0, 1, 0): -0.6904070252165746, ((0, 1), 'S', None): 0.0}  samples= None\n",
      "Optimization terminated successfully.\n",
      "         Current function value: -0.936055\n",
      "         Iterations: 5\n",
      "         Function evaluations: 6\n",
      "         Gradient evaluations: 6\n",
      "\n",
      "Obtained UCCSD energy: -0.9360549199436625\n"
     ]
    }
   ],
   "source": [
    "# UCCSD \n",
    "\n",
    "H = h2.make_hamiltonian()\n",
    "\n",
    "print(\"\\nHamiltonian has {} terms\\n\".format(len(H)))\n",
    "\n",
    "U_UCCSD = h2.make_uccsd_ansatz(initial_amplitudes='MP2',threshold=threshold, trotter_steps=trotter_steps)\n",
    "\n",
    "E = tq.ExpectationValue(H=H, U=U_UCCSD)\n",
    "\n",
    "print('\\nNumber of UCCSD amplitudes: {} \\n'.format(len(E.extract_variables())))\n",
    "\n",
    "print('\\nStarting optimization:\\n')\n",
    "\n",
    "result = tq.minimize(objective=E, method=\"BFGS\", initial_values={k:0.0 for k in E.extract_variables()}, tol=1e-6)\n",
    "\n",
    "print('\\nObtained UCCSD energy: {}'.format(result.energy))"
   ]
  },
  {
   "cell_type": "code",
   "execution_count": 35,
   "id": "ada59995",
   "metadata": {},
   "outputs": [
    {
     "name": "stdout",
     "output_type": "stream",
     "text": [
      "Number of spin-orbitals (qubits): 8 \n",
      "\n",
      "FCI energy: -75.98980141090716\n"
     ]
    }
   ],
   "source": [
    "# H2O molecule UCCSD vs FCI  \n",
    "\n",
    "# Result: The agreement with FCI is within chemical accuracy! (< 1.6 miliHartree from FCI energy) \n",
    "# As the bond distance approaches the dissociation limit, the energy deviation from FCI is typically expected to increase as \n",
    "# electronic correlations increase during covalent bond-breaking. Furthermore, as HF becomes energetically more distant from \n",
    "# the FCI wavefunction, the initial guess of all amplitudes being zero may lead to a local minimum; Instead, one can initialize \n",
    "# the amplitudes using random guesses and repeat for many samples to attempt to find the global minimum. \n",
    "\n",
    "# FCI (Full Configuration Interaction) solution (as a benchmark)\n",
    "\n",
    "xyz_data = get_molecular_data('h2o', geometry=1, xyz_format=True)\n",
    "\n",
    "basis = '6-31g'\n",
    "active = {'B1':[0,1], 'A1':[2,3]}\n",
    "h2o = tq.quantumchemistry.Molecule(geometry=xyz_data, basis_set = basis, active_orbitals = active)\n",
    "\n",
    "print('Number of spin-orbitals (qubits): {} \\n'.format(2*h2o.n_orbitals))\n",
    "\n",
    "E_FCI = h2o.compute_energy(method='fci')\n",
    "\n",
    "print('FCI energy: {}'.format(E_FCI))"
   ]
  },
  {
   "cell_type": "code",
   "execution_count": 36,
   "id": "dafc7420",
   "metadata": {},
   "outputs": [
    {
     "name": "stdout",
     "output_type": "stream",
     "text": [
      "\n",
      "Hamiltonian has 185 terms\n",
      "\n",
      "\n",
      "Number of UCCSD amplitudes: 12 \n",
      "\n",
      "\n",
      "Starting optimization:\n",
      "\n",
      "Optimizer: <class 'tequila.optimizers.optimizer_scipy.OptimizerSciPy'> \n",
      "backend         : qulacs\n",
      "device          : None\n",
      "samples         : None\n",
      "save_history    : True\n",
      "noise           : None\n",
      "\n",
      "Method          : BFGS\n",
      "Objective       : 1 expectationvalues\n",
      "gradient        : 64 expectationvalues\n",
      "\n",
      "active variables : 12\n",
      "\n",
      "E=-75.98071144  angles= {(3, 0, 3, 0): 0.0, (2, 0, 3, 1): 0.0, (3, 0, 2, 1): 0.0, (3, 1, 2, 0): 0.0, (2, 1, 3, 0): 0.0, (2, 1, 2, 1): 0.0, (2, 0, 2, 0): 0.0, (3, 1, 3, 1): 0.0, ((0, 2), 'S', None): 0.0, ((0, 3), 'S', None): 0.0, ((1, 2), 'S', None): 0.0, ((1, 3), 'S', None): 0.0}  samples= None\n",
      "E=-73.05732520  angles= {(3, 0, 3, 0): -0.1516876220703125, (2, 0, 3, 1): -0.12395477294921875, (3, 0, 2, 1): 0.23274993896484375, (3, 1, 2, 0): -0.12395477294921875, (2, 1, 3, 0): 0.23274993896484375, (2, 1, 2, 1): -0.06198883056640625, (2, 0, 2, 0): -0.06015777587890625, (3, 1, 3, 1): -0.0497894287109375, ((0, 2), 'S', None): 0.0, ((0, 3), 'S', None): 0.0, ((1, 2), 'S', None): 0.0, ((1, 3), 'S', None): 0.0}  samples= None\n",
      "E=-75.98199673  angles= {(3, 0, 3, 0): -0.0016740255922865436, (2, 0, 3, 1): -0.0013679656874499282, (3, 0, 2, 1): 0.00256862985332892, (3, 1, 2, 0): -0.0013679656874499282, (2, 1, 3, 0): 0.00256862985332892, (2, 1, 2, 1): -0.0006841091407971113, (2, 0, 2, 0): -0.0006639016092535658, (3, 1, 3, 1): -0.0005494764618882398, ((0, 2), 'S', None): 0.0, ((0, 3), 'S', None): 0.0, ((1, 2), 'S', None): 0.0, ((1, 3), 'S', None): 0.0}  samples= None\n",
      "E=-75.98435694  angles= {(3, 0, 3, 0): -0.010866825587761784, (2, 0, 3, 1): 0.0021007703996997196, (3, 0, 2, 1): 0.005744697377382918, (3, 1, 2, 0): 0.002099608727214254, (2, 1, 3, 0): 0.00574527821362565, (2, 1, 2, 1): -0.004353708188135455, (2, 0, 2, 0): -0.004488422827269619, (3, 1, 3, 1): -0.003733301555516393, ((0, 2), 'S', None): 0.0, ((0, 3), 'S', None): 8.654460016710719e-05, ((1, 2), 'S', None): -0.00022187944472372447, ((1, 3), 'S', None): 0.0}  samples= None\n",
      "E=-75.98798325  angles= {(3, 0, 3, 0): -0.026030459113456743, (2, 0, 3, 1): 0.011999034023642727, (3, 0, 2, 1): 0.015824252849102, (3, 1, 2, 0): 0.01202401808479903, (2, 1, 3, 0): 0.015811760818523847, (2, 1, 2, 1): -0.01591370896052607, (2, 0, 2, 0): -0.012073245183153787, (3, 1, 3, 1): -0.010464770686375833, ((0, 2), 'S', None): 0.0, ((0, 3), 'S', None): 0.006456634241569972, ((1, 2), 'S', None): -0.006068331465240795, ((1, 3), 'S', None): 0.0}  samples= None\n",
      "E=-75.98911532  angles= {(3, 0, 3, 0): -0.0617899081107312, (2, 0, 3, 1): 0.014849533056506848, (3, 0, 2, 1): 0.01892041501426253, (3, 1, 2, 0): 0.01479854269211211, (2, 1, 3, 0): 0.01895387329740068, (2, 1, 2, 1): -0.02146416204338339, (2, 0, 2, 0): -0.024487931364390324, (3, 1, 3, 1): -0.01899832528657741, ((0, 2), 'S', None): 0.0, ((0, 3), 'S', None): 0.015554186859512514, ((1, 2), 'S', None): -0.02168642943497446, ((1, 3), 'S', None): 0.0}  samples= None\n",
      "E=-75.98931573  angles= {(3, 0, 3, 0): -0.047493359459714335, (2, 0, 3, 1): 0.025736773482493078, (3, 0, 2, 1): 0.029784513968177568, (3, 1, 2, 0): 0.025731265153908358, (2, 1, 3, 0): 0.029794405962983817, (2, 1, 2, 1): -0.029371336374358414, (2, 0, 2, 0): -0.021930620170985737, (3, 1, 3, 1): -0.020462495820508103, ((0, 2), 'S', None): 0.0, ((0, 3), 'S', None): 0.016778182514941137, ((1, 2), 'S', None): -0.023608210291716166, ((1, 3), 'S', None): 0.0}  samples= None\n",
      "E=-75.98951339  angles= {(3, 0, 3, 0): -0.048734086112170845, (2, 0, 3, 1): 0.019693128822655986, (3, 0, 2, 1): 0.023738411626119355, (3, 1, 2, 0): 0.019704629043962717, (2, 1, 3, 0): 0.023731302555983255, (2, 1, 2, 1): -0.02671057497957023, (2, 0, 2, 0): -0.021910692541427534, (3, 1, 3, 1): -0.018293164089227605, ((0, 2), 'S', None): 0.0, ((0, 3), 'S', None): 0.014539719753432693, ((1, 2), 'S', None): -0.02312237124362154, ((1, 3), 'S', None): 0.0}  samples= None\n",
      "E=-75.98951358  angles= {(3, 0, 3, 0): -0.05002493323054936, (2, 0, 3, 1): 0.020209915685194105, (3, 0, 2, 1): 0.0242528930163053, (3, 1, 2, 0): 0.020192716749986298, (2, 1, 3, 0): 0.02425997046527433, (2, 1, 2, 1): -0.024211856196724734, (2, 0, 2, 0): -0.020972768856028112, (3, 1, 3, 1): -0.018452665829582274, ((0, 2), 'S', None): 0.0, ((0, 3), 'S', None): 0.014225405766892463, ((1, 2), 'S', None): -0.024703491568937475, ((1, 3), 'S', None): 0.0}  samples= None\n",
      "E=-75.98951678  angles= {(3, 0, 3, 0): -0.049388545290060766, (2, 0, 3, 1): 0.019955139637403637, (3, 0, 2, 1): 0.023999253566940132, (3, 1, 2, 0): 0.019952089393274745, (2, 1, 3, 0): 0.02399933705857101, (2, 1, 2, 1): -0.02544372515892427, (2, 0, 2, 0): -0.021435165458994213, (3, 1, 3, 1): -0.018374031433143322, ((0, 2), 'S', None): 0.0, ((0, 3), 'S', None): 0.014380362638014703, ((1, 2), 'S', None): -0.023923998867465286, ((1, 3), 'S', None): 0.0}  samples= None\n",
      "E=-75.98951793  angles= {(3, 0, 3, 0): -0.04954700512251941, (2, 0, 3, 1): 0.02005190442304009, (3, 0, 2, 1): 0.024095187753323533, (3, 1, 2, 0): 0.020037327694602394, (2, 1, 3, 0): 0.02411245480830983, (2, 1, 2, 1): -0.02572728758132071, (2, 0, 2, 0): -0.021736109475398592, (3, 1, 3, 1): -0.018777599778715914, ((0, 2), 'S', None): 0.0, ((0, 3), 'S', None): 0.014186262801474904, ((1, 2), 'S', None): -0.025260665509499625, ((1, 3), 'S', None): 0.0}  samples= None\n",
      "E=-75.98951823  angles= {(3, 0, 3, 0): -0.049563999140557376, (2, 0, 3, 1): 0.020114735137679394, (3, 0, 2, 1): 0.024147438709099626, (3, 1, 2, 0): 0.020085553055862203, (2, 1, 3, 0): 0.024171783601231834, (2, 1, 2, 1): -0.026026070167203687, (2, 0, 2, 0): -0.021611657524778498, (3, 1, 3, 1): -0.018411393971629123, ((0, 2), 'S', None): 0.0, ((0, 3), 'S', None): 0.013874336730473443, ((1, 2), 'S', None): -0.026359498059885005, ((1, 3), 'S', None): 0.0}  samples= None\n",
      "E=-75.98951833  angles= {(3, 0, 3, 0): -0.04936584264781839, (2, 0, 3, 1): 0.02005558145768367, (3, 0, 2, 1): 0.024115411677540673, (3, 1, 2, 0): 0.020047484225033302, (2, 1, 3, 0): 0.024110226395670436, (2, 1, 2, 1): -0.02589912130519257, (2, 0, 2, 0): -0.021580258562959084, (3, 1, 3, 1): -0.018658317322540818, ((0, 2), 'S', None): 0.0, ((0, 3), 'S', None): 0.01376573499597189, ((1, 2), 'S', None): -0.02650261684285532, ((1, 3), 'S', None): 0.0}  samples= None\n",
      "E=-75.98951833  angles= {(3, 0, 3, 0): -0.0493914877819054, (2, 0, 3, 1): 0.0200489317592658, (3, 0, 2, 1): 0.024113431038473875, (3, 1, 2, 0): 0.020061098487116902, (2, 1, 3, 0): 0.024118542628204905, (2, 1, 2, 1): -0.025875906918532227, (2, 0, 2, 0): -0.02164195057606126, (3, 1, 3, 1): -0.01857965187092041, ((0, 2), 'S', None): 0.0, ((0, 3), 'S', None): 0.013799852035258322, ((1, 2), 'S', None): -0.026389728456958184, ((1, 3), 'S', None): 0.0}  samples= None\n",
      "Optimization terminated successfully.\n",
      "         Current function value: -75.989518\n",
      "         Iterations: 11\n",
      "         Function evaluations: 14\n",
      "         Gradient evaluations: 14\n",
      "\n",
      "Obtained UCCSD energy: -75.98951833433108\n"
     ]
    }
   ],
   "source": [
    "# UCCSD\n",
    "\n",
    "H = h2o.make_hamiltonian()\n",
    "\n",
    "print(\"\\nHamiltonian has {} terms\\n\".format(len(H)))\n",
    "\n",
    "U_UCCSD = h2o.make_uccsd_ansatz(initial_amplitudes='MP2',threshold=threshold, trotter_steps=trotter_steps)\n",
    "\n",
    "E = tq.ExpectationValue(H=H, U=U_UCCSD)\n",
    "\n",
    "print('\\nNumber of UCCSD amplitudes: {} \\n'.format(len(E.extract_variables())))\n",
    "\n",
    "print('\\nStarting optimization:\\n')\n",
    "\n",
    "result = tq.minimize(objective=E, method=\"BFGS\", initial_values={k:0.0 for k in E.extract_variables()}, tol=1e-4)\n",
    "\n",
    "print('\\nObtained UCCSD energy: {}'.format(result.energy))"
   ]
  },
  {
   "cell_type": "code",
   "execution_count": null,
   "id": "b3af0fcc",
   "metadata": {},
   "outputs": [],
   "source": [
    "# N2 molecule UCCSD vs FCI (Supposed to be harder calculation than the other two case (H2 and H2O) )\n",
    "# Result: Takes a lot longer than the other two (of order of an hour)\n",
    "# One would think what is it good for if FCI is taking seconds and this one this long? The hope is to run this\n",
    "# on a quantum computer, soon where even running in million times and reading the results would take seconds, too\n",
    "#                              Hamiltonian for H2 has 15 terms\n",
    "#                              Hamiltonian for H2O has 185 terms\n",
    "#                              Hamiltonian for N2 has 1388 terms (why?)\n",
    "# FCI energy: -107.65265272549581   UCCSD: -107.64779700429177\n",
    "# FCI (Full Configuration Interaction) solution (as a benchmark)\n",
    "\n",
    "xyz_data = get_molecular_data('n2', geometry=1.0977, xyz_format=True) # R = 1.0977 Ang is the distance between the Nitrogen atoms (https://cccbdb.nist.gov/exp2x.asp?casno=7727379)  \n",
    "\n",
    "basis='sto-3g'\n",
    "\n",
    "n2 = tq.quantumchemistry.Molecule(geometry=xyz_data, basis_set=basis)\n",
    "\n",
    "print('Number of spin-orbitals (qubits): {} \\n'.format(2*n2.n_orbitals))\n",
    "\n",
    "E_FCI = n2.compute_energy(method='fci')\n",
    "\n",
    "print('FCI energy: {}'.format(E_FCI))"
   ]
  },
  {
   "cell_type": "code",
   "execution_count": null,
   "id": "091aa6cb",
   "metadata": {},
   "outputs": [],
   "source": [
    "# UCCSD: \n",
    "\n",
    "H = n2.make_hamiltonian()\n",
    "\n",
    "print(\"\\nHamiltonian has {} terms\\n\".format(len(H)))\n",
    "\n",
    "U_UCCSD = n2.make_uccsd_ansatz(initial_amplitudes='MP2',threshold=threshold, trotter_steps=trotter_steps)\n",
    "\n",
    "E = tq.ExpectationValue(H=H, U=U_UCCSD)\n",
    "\n",
    "print('\\nNumber of UCCSD amplitudes: {} \\n'.format(len(E.extract_variables())))\n",
    "\n",
    "print('\\nStarting optimization:\\n')\n",
    "\n",
    "result = tq.minimize(objective=E, method=\"BFGS\", initial_values={k:0.0 for k in E.extract_variables()}, tol=1e-4)\n",
    "\n",
    "print('\\nObtained UCCSD energy: {}'.format(result.energy))"
   ]
  },
  {
   "cell_type": "markdown",
   "id": "a8246b62",
   "metadata": {},
   "source": [
    "#### Readme\n",
    "QCC makes no direct reference to fermionic algebra and constructs an efficient ansatz directly in qubit-space by finding multi-qubit Pauli strings (entanglers) with lower energy. This is done through an energy-lowering heuristic employing the energy gradient (methods like BFGS) with respect to a Pauli strings variational amplitude. \n",
    "As opposed to UCCSD, the circuit depth and number of parameter is chosen to meet hardware limitations,\n",
    "i.e. one must choose how many exponentiated Pauli strings will be entering the QCC ansatz.\n",
    "\n",
    "The VQE optimization for the QCC ansatz is of the form \n",
    "\n",
    "$E_{min} = min_{\\Omega, t} \\langle \\Omega | U^{\\dagger} (t) H U(t) | \\Omega \\rangle$\n",
    "\n",
    "where \\Omega is the collective Euler angles parameterizing single-qubit rotations on all qubits, \n",
    "and t are entangler amplitudes. For H2, QCC energy converged to the FCI energy with only a single entangler!"
   ]
  },
  {
   "cell_type": "code",
   "execution_count": null,
   "id": "c7eb1d03",
   "metadata": {},
   "outputs": [],
   "source": [
    "# QCC fo H2 molecule \n",
    "# Result: The agreement is great for one entangler!\n"
   ]
  },
  {
   "cell_type": "code",
   "execution_count": 30,
   "id": "67e0900b",
   "metadata": {},
   "outputs": [
    {
     "name": "stdout",
     "output_type": "stream",
     "text": [
      "\n",
      "Hamiltonian has 15 terms\n",
      "\n",
      "Grouping gradient magnitudes (Grouping : Gradient magnitude):\n",
      "1 : 0.2822\n",
      "\n",
      "Selected entanglers:\n",
      "1.0 [X0 Y1 X2 X3]\n"
     ]
    }
   ],
   "source": [
    "xyz_data = get_molecular_data('h2', geometry=2.5, xyz_format=True)\n",
    "basis='sto-3g'\n",
    "\n",
    "h2 = tq.quantumchemistry.Molecule(geometry=xyz_data, basis_set='sto-3g')\n",
    "\n",
    "hf_reference = hf_occ(2*h2.n_orbitals, h2.n_electrons)\n",
    "\n",
    "H = h2.make_hamiltonian()\n",
    "\n",
    "print(\"\\nHamiltonian has {} terms\\n\".format(len(H)))\n",
    "\n",
    "# entangler screening protocol for H2 in minimal basis, to get one grouping of entanglers \n",
    "# with non-zero energy gradient. We then select one of them to be used in the QCC VQE simulation.\n",
    "# Define number of entanglers to enter ansatz\n",
    "n_ents = 1\n",
    "\n",
    "#Rank entanglers using energy gradient criterion\n",
    "ranked_entangler_groupings = generate_QCC_gradient_groupings(H.to_openfermion(), \n",
    "                                                             2*h2.n_orbitals, \n",
    "                                                             hf_reference, \n",
    "                                                             cutoff=threshold)\n",
    "\n",
    "print('Grouping gradient magnitudes (Grouping : Gradient magnitude):')\n",
    "for i in range(len(ranked_entangler_groupings)):\n",
    "    print('{} : {}'.format(i+1,ranked_entangler_groupings[i][1]))\n",
    "\n",
    "\n",
    "entanglers = get_QCC_entanglers(ranked_entangler_groupings, n_ents, 2*h2.n_orbitals)\n",
    "\n",
    "print('\\nSelected entanglers:')\n",
    "for ent in entanglers:\n",
    "    print(ent)"
   ]
  },
  {
   "cell_type": "code",
   "execution_count": 31,
   "id": "031b42ad",
   "metadata": {},
   "outputs": [
    {
     "name": "stdout",
     "output_type": "stream",
     "text": [
      "Optimizer: <class 'tequila.optimizers.optimizer_scipy.OptimizerSciPy'> \n",
      "backend         : qulacs\n",
      "device          : None\n",
      "samples         : None\n",
      "save_history    : True\n",
      "noise           : None\n",
      "\n",
      "Method          : BFGS\n",
      "Objective       : 1 expectationvalues\n",
      "gradient        : 18 expectationvalues\n",
      "\n",
      "active variables : 9\n",
      "\n",
      "E=-0.70294360  angles= {beta_0: 3.141592653589793, gamma_0: 0.0, beta_1: 3.141592653589793, gamma_1: 0.0, beta_2: 0.0, gamma_2: 0.0, beta_3: 0.0, gamma_3: 0.0, tau_0: 0.0}  samples= None\n",
      "E=-0.77938639  angles= {beta_0: 3.141592653589793, gamma_0: 0.0, beta_1: 3.141592653589793, gamma_1: 0.0, beta_2: 0.0, gamma_2: 0.0, beta_3: 0.0, gamma_3: 0.0, tau_0: 0.2822100520133972}  samples= None\n",
      "E=-0.93592356  angles= {beta_0: 3.141592653589793, gamma_0: 0.0, beta_1: 3.141592653589793, gamma_1: 0.0, beta_2: 0.0, gamma_2: 0.0, beta_3: 0.0, gamma_3: 0.0, tau_0: 1.411050260066986}  samples= None\n",
      "E=-0.93603455  angles= {beta_0: 3.141592653589793, gamma_0: 0.0, beta_1: 3.141592653589793, gamma_1: 0.0, beta_2: 0.0, gamma_2: 0.0, beta_3: 0.0, gamma_3: 0.0, tau_0: 1.3689076316049542}  samples= None\n",
      "E=-0.93605492  angles= {beta_0: 3.141592653589793, gamma_0: 0.0, beta_1: 3.141592653589793, gamma_1: 0.0, beta_2: 0.0, gamma_2: 0.0, beta_3: 0.0, gamma_3: 0.0, tau_0: 1.380815153240581}  samples= None\n",
      "Optimization terminated successfully.\n",
      "         Current function value: -0.936055\n",
      "         Iterations: 3\n",
      "         Function evaluations: 5\n",
      "         Gradient evaluations: 5\n",
      "\n",
      "Obtained QCC energy (1 entanglers): -0.9360549199434922\n"
     ]
    }
   ],
   "source": [
    "# Mean-field part of U (Omega):    \n",
    "U_MF = construct_QMF_ansatz(n_qubits = 2*h2.n_orbitals)\n",
    "# Entangling part of U:\n",
    "U_ENT = construct_QCC_ansatz(entanglers)\n",
    "\n",
    "U_QCC = U_MF + U_ENT\n",
    "\n",
    "E = tq.ExpectationValue(H=H, U=U_QCC)\n",
    "\n",
    "initial_vals = init_qcc_params(hf_reference, E.extract_variables())\n",
    "\n",
    "#Minimize wrt the entangler amplitude and MF angles:\n",
    "result = tq.minimize(objective=E, method=\"BFGS\", initial_values=initial_vals, tol=1.e-6)\n",
    "\n",
    "print('\\nObtained QCC energy ({} entanglers): {}'.format(len(entanglers), result.energy))"
   ]
  },
  {
   "cell_type": "code",
   "execution_count": 37,
   "id": "4af2d10c",
   "metadata": {},
   "outputs": [
    {
     "name": "stdout",
     "output_type": "stream",
     "text": [
      "\n",
      "Hamiltonian has 185 terms\n",
      "\n",
      "Grouping gradient magnitudes (Grouping : Gradient magnitude):\n",
      "1 : 0.0758\n",
      "2 : 0.0371\n",
      "3 : 0.0371\n",
      "4 : 0.031\n",
      "5 : 0.0301\n",
      "6 : 0.0249\n",
      "7 : 0.0198\n",
      "8 : 0.0198\n",
      "9 : 0.0173\n",
      "10 : 0.0173\n",
      "11 : 0.0\n",
      "12 : 0.0\n",
      "\n",
      "Selected entanglers:\n",
      "1.0 [X0 Y1 X6 X7]\n",
      "1.0 [X0 Y3 X5 X6]\n",
      "1.0 [X1 Y2 X4 X7]\n",
      "1.0 [X2 Y3 X4 X5]\n",
      "1.0 [X0 Y1 X4 X5]\n",
      "1.0 [X2 Y3 X6 X7]\n"
     ]
    }
   ],
   "source": [
    "# QCC for H2O\n",
    "# Result: we obtain chemical accuracy for water near equilibrium geometry with 6 entanglers. (UCCSD was better) \n",
    "# The obtained energy is not as accurate as that of UCCSD for this problem, however the QCC optimization \n",
    "# may be performed at a fraction of the UCCSD circuit depth. \n",
    "# One can also increase the number of entanglers entering the QCC ansatz to increase accuracy. \n",
    "# As a final check, one can always run n VQE trials with random initial guesses to test if the optimization \n",
    "# fell into a local minimum (which of course is time-expensive!)\n",
    "\n",
    "\n",
    "xyz_data = get_molecular_data('h2o', geometry=1, xyz_format=True)\n",
    "\n",
    "basis = '6-31g'\n",
    "active = {'B1':[0,1], 'A1':[2,3]}\n",
    "h2o = tq.quantumchemistry.Molecule(geometry=xyz_data, basis_set = basis, active_orbitals = active)\n",
    "hf_reference = hf_occ(2*h2o.n_orbitals, h2o.n_electrons)\n",
    "\n",
    "\n",
    "H = h2o.make_hamiltonian()\n",
    "\n",
    "print(\"\\nHamiltonian has {} terms\\n\".format(len(H)))\n",
    "\n",
    "#Define number of entanglers to enter ansatz\n",
    "n_ents = 6\n",
    "\n",
    "#Rank entanglers using energy gradient criterion\n",
    "ranked_entangler_groupings = generate_QCC_gradient_groupings(H.to_openfermion(), \n",
    "                                                             2*h2o.n_orbitals, \n",
    "                                                             hf_reference, \n",
    "                                                             cutoff=threshold)\n",
    "\n",
    "print('Grouping gradient magnitudes (Grouping : Gradient magnitude):')\n",
    "for i in range(len(ranked_entangler_groupings)):\n",
    "    print('{} : {}'.format(i+1,ranked_entangler_groupings[i][1]))\n",
    "\n",
    "entanglers = get_QCC_entanglers(ranked_entangler_groupings, n_ents, 2*h2o.n_orbitals)\n",
    "\n",
    "print('\\nSelected entanglers:')\n",
    "for ent in entanglers:\n",
    "    print(ent)"
   ]
  },
  {
   "cell_type": "code",
   "execution_count": 38,
   "id": "35e9609d",
   "metadata": {},
   "outputs": [
    {
     "name": "stdout",
     "output_type": "stream",
     "text": [
      "Optimizer: <class 'tequila.optimizers.optimizer_scipy.OptimizerSciPy'> \n",
      "backend         : qulacs\n",
      "device          : None\n",
      "samples         : None\n",
      "save_history    : True\n",
      "noise           : None\n",
      "\n",
      "Method          : BFGS\n",
      "Objective       : 1 expectationvalues\n",
      "gradient        : 44 expectationvalues\n",
      "\n",
      "active variables : 22\n",
      "\n",
      "E=-75.98071144  angles= {beta_0: 3.141592653589793, gamma_0: 0.0, beta_1: 3.141592653589793, gamma_1: 0.0, beta_2: 3.141592653589793, gamma_2: 0.0, beta_3: 3.141592653589793, gamma_3: 0.0, beta_4: 0.0, gamma_4: 0.0, beta_5: 0.0, gamma_5: 0.0, beta_6: 0.0, gamma_6: 0.0, beta_7: 0.0, gamma_7: 0.0, tau_0: 0.0, tau_1: 0.0, tau_2: 0.0, tau_3: 0.0, tau_4: 0.0, tau_5: 0.0}  samples= None\n",
      "E=-75.98783364  angles= {beta_0: 3.141592653589793, gamma_0: 0.0, beta_1: 3.141592653589793, gamma_1: 0.0, beta_2: 3.141592653589793, gamma_2: 0.0, beta_3: 3.141592653589793, gamma_3: 0.0, beta_4: 0.0, gamma_4: 0.0, beta_5: 0.0, gamma_5: 0.0, beta_6: 0.0, gamma_6: 0.0, beta_7: 0.0, gamma_7: 0.0, tau_0: 0.07584381103515625, tau_1: 0.037105560302734375, tau_2: 0.037105560302734375, tau_3: 0.030994415283203125, tau_4: 0.030078887939453125, tau_5: 0.02489471435546875}  samples= None\n",
      "E=-75.98857329  angles= {beta_0: 3.141592653589793, gamma_0: 0.0, beta_1: 3.141592653589793, gamma_1: 0.0, beta_2: 3.141592653589793, gamma_2: 0.0, beta_3: 3.141592653589793, gamma_3: 0.0, beta_4: 0.0, gamma_4: 0.0, beta_5: 0.0, gamma_5: 0.0, beta_6: 0.0, gamma_6: 0.0, beta_7: 0.0, gamma_7: 0.0, tau_0: 0.10182924911229851, tau_1: 0.05852392400836017, tau_2: 0.059290463750962315, tau_3: 0.04690411561128141, tau_4: 0.04177333199687153, tau_5: 0.0349288019865621}  samples= None\n",
      "E=-75.98858260  angles= {beta_0: 3.141592653589793, gamma_0: 0.0, beta_1: 3.141592653589793, gamma_1: 0.0, beta_2: 3.141592653589793, gamma_2: 0.0, beta_3: 3.141592653589793, gamma_3: 0.0, beta_4: 0.0, gamma_4: 0.0, beta_5: 0.0, gamma_5: 0.0, beta_6: 0.0, gamma_6: 0.0, beta_7: 0.0, gamma_7: 0.0, tau_0: 0.09969372766103793, tau_1: 0.060473123892992676, tau_2: 0.06154808363690652, tau_3: 0.04783285764604097, tau_4: 0.04149071210908681, tau_5: 0.034615428738700584}  samples= None\n",
      "E=-75.98858369  angles= {beta_0: 3.141592653589793, gamma_0: 0.0, beta_1: 3.141592653589793, gamma_1: 0.0, beta_2: 3.141592653589793, gamma_2: 0.0, beta_3: 3.141592653589793, gamma_3: 0.0, beta_4: 0.0, gamma_4: 0.0, beta_5: 0.0, gamma_5: 0.0, beta_6: 0.0, gamma_6: 0.0, beta_7: 0.0, gamma_7: 0.0, tau_0: 0.09850072062214467, tau_1: 0.06125613956121948, tau_2: 0.06252892067861264, tau_3: 0.048183794335591834, tau_4: 0.04135121252205053, tau_5: 0.034404300286443194}  samples= None\n",
      "Optimization terminated successfully.\n",
      "         Current function value: -75.988584\n",
      "         Iterations: 4\n",
      "         Function evaluations: 5\n",
      "         Gradient evaluations: 5\n",
      "\n",
      "Obtained QCC energy (6 entanglers): -75.98858368860306\n"
     ]
    }
   ],
   "source": [
    "# Mean-field part of U (Omega):    \n",
    "U_MF = construct_QMF_ansatz(n_qubits = 2*h2o.n_orbitals)\n",
    "# Entangling part of U:\n",
    "U_ENT = construct_QCC_ansatz(entanglers)\n",
    "\n",
    "U_QCC = U_MF + U_ENT\n",
    "\n",
    "E = tq.ExpectationValue(H=H, U=U_QCC)\n",
    "\n",
    "initial_vals = init_qcc_params(hf_reference, E.extract_variables())\n",
    "\n",
    "#Minimize wrt the entangler amplitude and MF angles:\n",
    "result = tq.minimize(objective=E, method=\"BFGS\", initial_values=initial_vals, tol=1.e-4)\n",
    "\n",
    "\n",
    "print('\\nObtained QCC energy ({} entanglers): {}'.format(len(entanglers), result.energy))"
   ]
  },
  {
   "cell_type": "code",
   "execution_count": null,
   "id": "afc7221f",
   "metadata": {},
   "outputs": [],
   "source": [
    "## QCC for N2 \n",
    "# not completed because of an error in the code\n",
    "\n",
    "xyz_data = get_molecular_data('n2', geometry=1.0977, xyz_format=True)\n",
    "\n",
    "basis = '6-31g'\n",
    "active = {'B1':[0,1], 'A1':[2,3]}\n",
    "n2 = tq.quantumchemistry.Molecule(geometry=xyz_data, basis_set = basis, active_orbitals = active)\n",
    "hf_reference = hf_occ(2*n2.n_orbitals, n2.n_electrons)\n",
    "\n",
    "\n",
    "H = n2.make_hamiltonian()\n",
    "\n",
    "print(\"\\nHamiltonian has {} terms\\n\".format(len(H)))\n",
    "\n",
    "#Define number of entanglers to enter ansatz\n",
    "n_ents = 12\n",
    "\n",
    "#Rank entanglers using energy gradient criterion\n",
    "ranked_entangler_groupings = generate_QCC_gradient_groupings(H.to_openfermion(), \n",
    "                                                             2*n2.n_orbitals, \n",
    "                                                             hf_reference, \n",
    "                                                             cutoff=threshold)\n",
    "\n",
    "print('Grouping gradient magnitudes (Grouping : Gradient magnitude):')\n",
    "for i in range(len(ranked_entangler_groupings)):\n",
    "    print('{} : {}'.format(i+1,ranked_entangler_groupings[i][1]))\n",
    "\n",
    "entanglers = get_QCC_entanglers(ranked_entangler_groupings, n_ents, 2*n2.n_orbitals)\n",
    "\n",
    "print('\\nSelected entanglers:')\n",
    "for ent in entanglers:\n",
    "    print(ent)"
   ]
  },
  {
   "cell_type": "code",
   "execution_count": null,
   "id": "8524eb29",
   "metadata": {},
   "outputs": [],
   "source": [
    "# Mean-field part of U (Omega):    \n",
    "U_MF = construct_QMF_ansatz(n_qubits = 2*h2o.n_orbitals)\n",
    "# Entangling part of U:\n",
    "U_ENT = construct_QCC_ansatz(entanglers)\n",
    "\n",
    "U_QCC = U_MF + U_ENT\n",
    "\n",
    "E = tq.ExpectationValue(H=H, U=U_QCC)\n",
    "\n",
    "initial_vals = init_qcc_params(hf_reference, E.extract_variables())\n",
    "\n",
    "#Minimize wrt the entangler amplitude and MF angles:\n",
    "result = tq.minimize(objective=E, method=\"BFGS\", initial_values=initial_vals, tol=1.e-4)\n",
    "\n",
    "\n",
    "print('\\nObtained QCC energy ({} entanglers): {}'.format(len(entanglers), result.energy))"
   ]
  },
  {
   "cell_type": "markdown",
   "id": "3c64e9da",
   "metadata": {},
   "source": [
    "### Task 4: Measurement Grouping on H2 molecule\n",
    "\n",
    "#### Readme\n",
    "In VQE, the task is to minimize $\\langle \\Psi(\\theta) | H | \\Psi(\\theta) \\rangle$ where $\\Psi(\\theta)$ is prepared by applying a parametrized Unitary $U(\\theta)$ on the fiducial state (easy to prepare in the lab, e.g. all $| 0  \\rangle$).\n",
    "To calculate the expectation value we have to \"measure\" in the basis of H for each $\\Psi(\\theta)$, many times. What does this entail, exactly? We have to know the eigenbasis of H to measure in that basis. For very small molecules one can obtain that basis, but very soon it becomes intractable. \n",
    "\n",
    "The way to get around this, is to group the terms in Hamiltonian (which now are all products of Pauli's on different qubits) into subgroups with commuting terms. Then, because all of these terms share the same eigenbasis, one can measure in that basis and evalute the outcome of all of those. \n",
    "\n",
    "REMEMBER: measurement is destructive, therefore, measuring in each basis ruins the state; So, the less bases we have to measure, the less preparation is needed.\n",
    "\n",
    "Finding the minimum number of subgroups with commuting elements is a problem in Graph Theory called \"Minimum Clique Cover Problem\" which itself is NP-hard but there are polynomial-time algorithms for finding its approximate solutions which are not guaranteed to find the optimum solution, and scale quadratically with the number of nodes in the graph/terms in the Hamiltonian. \n",
    "\n",
    "Having the subgroups, we need to rotate the state (in preparation step) to prepare the observable suitable for measurement. Then the expectation values can be evaluated knowing that the eigenvalues of Pauli products are easily obtained.\n",
    "\n",
    "So, the flowchart is:\n",
    "   (1) find the minimum subgroups of the Hamiltonian (sum of products of Pauli's) each contain commuting terms.\n",
    "   (2) find the eigenbasis per each subgroup and measure in that basis, meaning prepare the eigenbasis by the suitable unitary.  \n",
    "   (3) for each initial state in the ansatz (each U(\\theta)) measure many times after preparing each one of the shared eigenbasis obtained above.\n",
    "   (4) analyze data to estimate $\\langle \\Psi(\\theta) | H | \\Psi(\\theta) \\rangle$.\n",
    "   \n",
    "* Reading Material: Pennylane.ai   \n"
   ]
  },
  {
   "cell_type": "code",
   "execution_count": 39,
   "id": "b698852d",
   "metadata": {},
   "outputs": [],
   "source": [
    "from utility import *"
   ]
  },
  {
   "cell_type": "code",
   "execution_count": 56,
   "id": "6132b1a1",
   "metadata": {},
   "outputs": [
    {
     "name": "stdout",
     "output_type": "stream",
     "text": [
      "Fragments 1: \n",
      "0.1371657293709952 [Z0] +\n",
      "0.1566006248823794 [Z0 Z1] +\n",
      "0.10622904490856075 [Z0 Z2] +\n",
      "0.1554266907799283 [Z0 Z3] +\n",
      "0.13716572937099508 [Z1] +\n",
      "0.1554266907799283 [Z1 Z2] +\n",
      "0.10622904490856075 [Z1 Z3] +\n",
      "-0.13036292057109095 [Z2] +\n",
      "0.1632676867356434 [Z2 Z3] +\n",
      "-0.13036292057109095 [Z3]\n",
      "\n",
      "Fragments 2:\n",
      "-0.04919764587136755 [Y0 Y1 X2 X3]\n",
      "\n",
      "Number of fragments: 5\n"
     ]
    }
   ],
   "source": [
    "h2 = get_qubit_hamiltonian(mol='h2', geometry=1, basis='sto3g', qubit_transf='jw')\n",
    "\n",
    "qwc_list = get_qwc_group(h2)\n",
    "print('Fragments 1: \\n{}\\n'.format(qwc_list[4]))\n",
    "print('Fragments 2:\\n{}\\n'.format(qwc_list[2]))\n",
    "print('Number of fragments: {}'.format(len(qwc_list)))"
   ]
  },
  {
   "cell_type": "code",
   "execution_count": 57,
   "id": "0b6249b3",
   "metadata": {},
   "outputs": [
    {
     "name": "stdout",
     "output_type": "stream",
     "text": [
      "Number of mutually commuting fragments: 2\n",
      "The first commuting group\n",
      "-0.32760818967480965 [] +\n",
      "-0.04919764587136755 [X0 X1 Y2 Y3] +\n",
      "0.04919764587136755 [X0 Y1 Y2 X3] +\n",
      "0.04919764587136755 [Y0 X1 X2 Y3] +\n",
      "-0.04919764587136755 [Y0 Y1 X2 X3] +\n",
      "0.1566006248823794 [Z0 Z1] +\n",
      "0.10622904490856075 [Z0 Z2] +\n",
      "0.1554266907799283 [Z0 Z3] +\n",
      "0.1554266907799283 [Z1 Z2] +\n",
      "0.10622904490856075 [Z1 Z3] +\n",
      "0.1632676867356434 [Z2 Z3]\n",
      "The second commuting group\n",
      "0.1371657293709952 [Z0] +\n",
      "0.13716572937099508 [Z1] +\n",
      "-0.13036292057109095 [Z2] +\n",
      "-0.13036292057109095 [Z3]\n"
     ]
    }
   ],
   "source": [
    "# partitioning terms in the Hamiltonian into mutually commuting fragments. Notice they have all Pauli's.\n",
    "comm_groups = get_commuting_group(h2)\n",
    "print('Number of mutually commuting fragments: {}'.format(len(comm_groups)))\n",
    "print('The first commuting group')\n",
    "print(comm_groups[1])\n",
    "print('The second commuting group')\n",
    "print(comm_groups[2])"
   ]
  },
  {
   "cell_type": "code",
   "execution_count": 58,
   "id": "b8530cbd",
   "metadata": {},
   "outputs": [
    {
     "name": "stdout",
     "output_type": "stream",
     "text": [
      "This is unitary, U * U^+ = I \n",
      "0.9999999999999996 []\n",
      "This is unitary, U * U^+ = I \n",
      "0.9999999999999996 []\n"
     ]
    }
   ],
   "source": [
    "# To check the measurability of \n",
    "uqwc1 = get_qwc_unitary(comm_groups[1])\n",
    "print('This is unitary, U * U^+ = I ')\n",
    "print(uqwc * uqwc)\n",
    "uqwc2 = get_qwc_unitary(comm_groups[2])\n",
    "print('This is unitary, U * U^+ = I ')\n",
    "print(uqwc * uqwc)"
   ]
  },
  {
   "cell_type": "code",
   "execution_count": 59,
   "id": "a0c64ad4",
   "metadata": {},
   "outputs": [
    {
     "name": "stdout",
     "output_type": "stream",
     "text": [
      "-0.3276081896748094 [] +\n",
      "0.15542669077992818 [X0] +\n",
      "0.15660062488237927 [X0 X1] +\n",
      "0.04919764587136754 [X0 X1 Z3] +\n",
      "0.1062290449085607 [X0 X2] +\n",
      "-0.04919764587136754 [X0 Z3] +\n",
      "0.1062290449085607 [X1] +\n",
      "0.15542669077992818 [X1 X2] +\n",
      "-0.04919764587136754 [X1 X2 Z3] +\n",
      "0.1632676867356433 [X2] +\n",
      "0.04919764587136754 [X2 Z3]\n"
     ]
    }
   ],
   "source": [
    "# Apply the unitary above to get the qubit-wise commuting form of each mutually commuting group (here done for\n",
    "# the first group)\n",
    "qwc = remove_complex(uqwc1 * comm_groups[1] * uqwc1)\n",
    "print(qwc)"
   ]
  },
  {
   "cell_type": "code",
   "execution_count": 60,
   "id": "f7029b38",
   "metadata": {},
   "outputs": [
    {
     "name": "stdout",
     "output_type": "stream",
     "text": [
      "Checking whether U * U^+ is identity: 0.9999999999999998 []\n",
      "\n",
      "The all-z form of qwc fragment:\n",
      "-0.32760818967480926 [] +\n",
      "0.1554266907799281 [Z0] +\n",
      "0.15660062488237922 [Z0 Z1] +\n",
      "0.049197645871367504 [Z0 Z1 Z3] +\n",
      "0.10622904490856065 [Z0 Z2] +\n",
      "-0.049197645871367504 [Z0 Z3] +\n",
      "0.10622904490856065 [Z1] +\n",
      "0.1554266907799281 [Z1 Z2] +\n",
      "-0.049197645871367504 [Z1 Z2 Z3] +\n",
      "0.1632676867356432 [Z2] +\n",
      "0.049197645871367504 [Z2 Z3]\n"
     ]
    }
   ],
   "source": [
    "# Currently we can measure only measure in z-basisoperators. Thus, x and y operators need one more step to rotate to z.\n",
    "\n",
    "uz = get_zform_unitary(qwc)\n",
    "print(\"Checking whether U * U^+ is identity: {}\".format(uz * uz))\n",
    "\n",
    "allz = remove_complex(uz * qwc * uz)\n",
    "print(\"\\nThe all-z form of qwc fragment:\\n{}\".format(allz))"
   ]
  },
  {
   "cell_type": "markdown",
   "id": "c95c3a82",
   "metadata": {},
   "source": [
    "### Task 5: Quantum Circuits\n",
    "Quantum computers can use a specific set of gates known as universal gate set. Given the entanglers and their amplitudes found in Step 3, we can find corresponding representation of these operators in terms of elementary gates using the following procedure."
   ]
  },
  {
   "cell_type": "code",
   "execution_count": 61,
   "id": "41126632",
   "metadata": {},
   "outputs": [],
   "source": [
    "import os\n",
    "os.environ['KMP_DUPLICATE_LIB_OK']= 'True'\n",
    "\n",
    "import tequila as tq\n",
    "from utility import *"
   ]
  },
  {
   "cell_type": "code",
   "execution_count": 62,
   "id": "705cb2fe",
   "metadata": {},
   "outputs": [
    {
     "name": "stdout",
     "output_type": "stream",
     "text": [
      "circuit: \n",
      "Rx(target=(0,), parameter=beta_0)\n",
      "Rz(target=(0,), parameter=gamma_0)\n",
      "Rx(target=(1,), parameter=beta_1)\n",
      "Rz(target=(1,), parameter=gamma_1)\n",
      "Rx(target=(2,), parameter=beta_2)\n",
      "Rz(target=(2,), parameter=gamma_2)\n",
      "Rx(target=(3,), parameter=beta_3)\n",
      "Rz(target=(3,), parameter=gamma_3)\n",
      "Exp-Pauli(target=(0, 1, 2, 3), control=(), parameter=tau_0, paulistring=X(0)Y(1)X(2)X(3))\n",
      "\n"
     ]
    }
   ],
   "source": [
    "# set up Hamiltonian in Tequila code's format and the unitary gates \n",
    "H = tq.QubitHamiltonian.from_openfermion(get_qubit_hamiltonian('h2', 2, 'sto-3g', qubit_transf='jw'))\n",
    "\n",
    "a = tq.Variable(\"tau_0\")\n",
    "U = construct_QMF_ansatz(4)\n",
    "U += tq.gates.ExpPauli(paulistring=tq.PauliString.from_string(\"X(0)Y(1)X(2)X(3)\"), angle=a)\n",
    "print(U)"
   ]
  },
  {
   "cell_type": "code",
   "execution_count": 63,
   "id": "87eb2e23",
   "metadata": {},
   "outputs": [
    {
     "name": "stdout",
     "output_type": "stream",
     "text": [
      "-0.9486411121761622\n"
     ]
    }
   ],
   "source": [
    "# check whether expectation value is near the ground state energy\n",
    "E = tq.ExpectationValue(H=H, U=U)\n",
    "vars = {'beta_1': 3.141592624143881, 'beta_0': 3.141592624143881, 'tau_0': 1.1331410014096885, 'gamma_1': 0.0, 'beta_3': 0.0, 'gamma_3': 0.0, 'gamma_2': 0.0, 'gamma_0': 0.0, 'beta_2': 0.0} # values obtained from step 3\n",
    "print(tq.simulate(E, variables=vars))"
   ]
  },
  {
   "cell_type": "code",
   "execution_count": 64,
   "id": "282bf3c8",
   "metadata": {},
   "outputs": [],
   "source": [
    "# To run the experiment on a real quantum computer through IBM Quantum Experience we do some \n",
    "# preparation steps (https://quantum-computing.ibm.com/login)\n",
    "from qiskit import IBMQ\n",
    "IBMQ.save_account('MY_API_TOKEN')"
   ]
  },
  {
   "cell_type": "code",
   "execution_count": 65,
   "id": "d29c7afe",
   "metadata": {},
   "outputs": [
    {
     "data": {
      "text/plain": [
       "-0.7770541536231563"
      ]
     },
     "execution_count": 65,
     "metadata": {},
     "output_type": "execute_result"
    }
   ],
   "source": [
    "# simulated on the Manila machine at IBM\n",
    "tq.simulate(E, variables=vars, samples=100, backend=\"qiskit\", device='ibmq_manila')"
   ]
  },
  {
   "cell_type": "code",
   "execution_count": 66,
   "id": "a7c2a081",
   "metadata": {},
   "outputs": [
    {
     "data": {
      "text/html": [
       "<pre style=\"word-wrap: normal;white-space: pre;background: #fff0;line-height: 1.1;font-family: &quot;Courier New&quot;,Courier,monospace\">     ┌────────────────────┐┌─────────────────────┐┌──────────┐               »\n",
       "q_0: ┤ Rx(f((beta_0,))_0) ├┤ Rz(f((gamma_0,))_1) ├┤ Ry(-π/2) ├──■────────────»\n",
       "     ├────────────────────┤├─────────────────────┤├─────────┬┘┌─┴─┐          »\n",
       "q_1: ┤ Rx(f((beta_1,))_2) ├┤ Rz(f((gamma_1,))_3) ├┤ Rx(π/2) ├─┤ X ├──■───────»\n",
       "     ├────────────────────┤├─────────────────────┤├─────────┴┐└───┘┌─┴─┐     »\n",
       "q_2: ┤ Rx(f((beta_2,))_4) ├┤ Rz(f((gamma_2,))_5) ├┤ Ry(-π/2) ├─────┤ X ├──■──»\n",
       "     ├────────────────────┤├─────────────────────┤├──────────┤     └───┘┌─┴─┐»\n",
       "q_3: ┤ Rx(f((beta_3,))_6) ├┤ Rz(f((gamma_3,))_7) ├┤ Ry(-π/2) ├──────────┤ X ├»\n",
       "     └────────────────────┘└─────────────────────┘└──────────┘          └───┘»\n",
       "c: 4/════════════════════════════════════════════════════════════════════════»\n",
       "                                                                             »\n",
       "«                                                     ┌─────────┐ \n",
       "«q_0: ──────────────────────────────────────────■─────┤ Ry(π/2) ├─\n",
       "«                                             ┌─┴─┐   ├─────────┴┐\n",
       "«q_1: ───────────────────────────────■────────┤ X ├───┤ Rx(-π/2) ├\n",
       "«                                  ┌─┴─┐   ┌──┴───┴──┐└──────────┘\n",
       "«q_2: ───────────────────────■─────┤ X ├───┤ Ry(π/2) ├────────────\n",
       "«     ┌───────────────────┐┌─┴─┐┌──┴───┴──┐└─────────┘            \n",
       "«q_3: ┤ Rz(f((tau_0,))_8) ├┤ X ├┤ Ry(π/2) ├───────────────────────\n",
       "«     └───────────────────┘└───┘└─────────┘                       \n",
       "«c: 4/════════════════════════════════════════════════════════════\n",
       "«                                                                 </pre>"
      ],
      "text/plain": [
       "     ┌────────────────────┐┌─────────────────────┐┌──────────┐               »\n",
       "q_0: ┤ Rx(f((beta_0,))_0) ├┤ Rz(f((gamma_0,))_1) ├┤ Ry(-π/2) ├──■────────────»\n",
       "     ├────────────────────┤├─────────────────────┤├─────────┬┘┌─┴─┐          »\n",
       "q_1: ┤ Rx(f((beta_1,))_2) ├┤ Rz(f((gamma_1,))_3) ├┤ Rx(π/2) ├─┤ X ├──■───────»\n",
       "     ├────────────────────┤├─────────────────────┤├─────────┴┐└───┘┌─┴─┐     »\n",
       "q_2: ┤ Rx(f((beta_2,))_4) ├┤ Rz(f((gamma_2,))_5) ├┤ Ry(-π/2) ├─────┤ X ├──■──»\n",
       "     ├────────────────────┤├─────────────────────┤├──────────┤     └───┘┌─┴─┐»\n",
       "q_3: ┤ Rx(f((beta_3,))_6) ├┤ Rz(f((gamma_3,))_7) ├┤ Ry(-π/2) ├──────────┤ X ├»\n",
       "     └────────────────────┘└─────────────────────┘└──────────┘          └───┘»\n",
       "c: 4/════════════════════════════════════════════════════════════════════════»\n",
       "                                                                             »\n",
       "«                                                     ┌─────────┐ \n",
       "«q_0: ──────────────────────────────────────────■─────┤ Ry(π/2) ├─\n",
       "«                                             ┌─┴─┐   ├─────────┴┐\n",
       "«q_1: ───────────────────────────────■────────┤ X ├───┤ Rx(-π/2) ├\n",
       "«                                  ┌─┴─┐   ┌──┴───┴──┐└──────────┘\n",
       "«q_2: ───────────────────────■─────┤ X ├───┤ Ry(π/2) ├────────────\n",
       "«     ┌───────────────────┐┌─┴─┐┌──┴───┴──┐└─────────┘            \n",
       "«q_3: ┤ Rz(f((tau_0,))_8) ├┤ X ├┤ Ry(π/2) ├───────────────────────\n",
       "«     └───────────────────┘└───┘└─────────┘                       \n",
       "«c: 4/════════════════════════════════════════════════════════════\n",
       "«                                                                 "
      ]
     },
     "execution_count": 66,
     "metadata": {},
     "output_type": "execute_result"
    }
   ],
   "source": [
    "# print the circuit\n",
    "circ = tq.circuit.compiler.compile_exponential_pauli_gate(U)\n",
    "tq.draw(circ, backend=\"qiskit\")"
   ]
  },
  {
   "cell_type": "markdown",
   "id": "5c5e5aaf",
   "metadata": {},
   "source": [
    "#### Challenge 1 About evaluation of the excited states\n",
    "\n",
    "We're going to review the method called EOM (Equation of Motion)\n",
    "(Reference: \" Quantum equation of motion for computing molecular excitation energies on a noisy quantum processor\", PHYSICAL REVIEW RESEARCH 2, 043140 (2020)) \n",
    "\n",
    "\n",
    "1- Define excitation operator i.e. jump from ground state $| 0 \\rangle to | n \\rangle$ being the $n^{th}$ excited state\n",
    "$ O^{\\dagger}_{n} = |n><0| $\n",
    "\n",
    "2- Find the approximate solution of the following\n",
    "\n",
    "$ E_{0n} = E_{n} - E_{0} = \\frac{ \\langle 0 | \\[ O_{n}, H, O^{\\dagger}_{n} \\] | 0 \\rangle }{\\langle 0 | [ O_{n}, O^{\\dagger}_{n} ] | 0 \\rangle} $\n",
    "\n",
    "where $E_{n}$ and $E_{0}$ are the $n^{th}$ excited state and ground state energies, respectively, and $[ A,B,C ] = \\frac{1}{2} ([[A,B],C] + [A,[B,C]])$. Notice the knowledge of the ground state (evaluated by any method such as UCCSD or QCC discussed before is enough)\n",
    "\n",
    "To do such, one expresses $O^{\\dagger}_{n}$ as linear combination of basis excitation operators with variable expansion coefficients. The excitation energies are then obtained through the minimization of the above equation in the coefficient space. Usually one does this in the basis of Fermionic orbital creation and annihilation operators. Define single and double excitation operators (like the ones in UCCSD), expand $O_{n}^{\\dagger}$ in terms of them and put it in Equation in part (2) (of the Challenge 1, here) to derive a parametric equation for the excitation energies. Apply the variational principle to get a \"secular set of equations\". Quantum advantage is achieved by the efficient measurement of each single matrix element of this EOM generalized eigenvalue problem. Classically the scaling depends on the wave-function ansatz, but more importantly, the measurement of the expectation values in a quantum computer scales with the number of terms in the Hamiltonian as $\\mathcal{O}(N^{4})$!!\n",
    "\n",
    "The Quantum Algorithm goes as this:\n",
    "First, Jordan-Wigner transformation is used to map the operators originally expressed in terms of Fermionic creation/annihilatio operators onto the qubits space. Then evaluated using the ground-state wave function prepared in the quantum hardware from, before, e.g. through a VQE calculation, to compute the needed matrix elements of the secular set of equations mentioned above. From these measurements the secular equation is constructed and its 2n eigenvalues are classically solved to obtain the first n excitation energies."
   ]
  },
  {
   "cell_type": "code",
   "execution_count": null,
   "id": "5d15dbef",
   "metadata": {},
   "outputs": [],
   "source": []
  }
 ],
 "metadata": {
  "kernelspec": {
   "display_name": "Python 3 (ipykernel)",
   "language": "python",
   "name": "python3"
  },
  "language_info": {
   "codemirror_mode": {
    "name": "ipython",
    "version": 3
   },
   "file_extension": ".py",
   "mimetype": "text/x-python",
   "name": "python",
   "nbconvert_exporter": "python",
   "pygments_lexer": "ipython3",
   "version": "3.8.13"
  }
 },
 "nbformat": 4,
 "nbformat_minor": 5
}
