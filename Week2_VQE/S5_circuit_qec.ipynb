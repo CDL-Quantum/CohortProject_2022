{
 "cells": [
  {
   "cell_type": "markdown",
   "id": "6e02737b",
   "metadata": {},
   "source": [
    "# Import Libraries"
   ]
  },
  {
   "cell_type": "code",
   "execution_count": null,
   "id": "2a801fb8",
   "metadata": {},
   "outputs": [],
   "source": [
    "import os\n",
    "os.environ['KMP_DUPLICATE_LIB_OK']= 'True'\n",
    "\n",
    "import tequila as tq\n",
    "from utility import *\n",
    "import numpy as np\n",
    "import copy"
   ]
  },
  {
   "cell_type": "markdown",
   "id": "69960a6d",
   "metadata": {},
   "source": [
    "# Setup Hamiltonian"
   ]
  },
  {
   "cell_type": "code",
   "execution_count": 2,
   "id": "a1281168",
   "metadata": {},
   "outputs": [
    {
     "name": "stdout",
     "output_type": "stream",
     "text": [
      "circuit: \n",
      "Rx(target=(0,), parameter=beta_0)\n",
      "Rz(target=(0,), parameter=gamma_0)\n",
      "Rx(target=(1,), parameter=beta_1)\n",
      "Rz(target=(1,), parameter=gamma_1)\n",
      "Rx(target=(2,), parameter=beta_2)\n",
      "Rz(target=(2,), parameter=gamma_2)\n",
      "Rx(target=(3,), parameter=beta_3)\n",
      "Rz(target=(3,), parameter=gamma_3)\n",
      "Exp-Pauli(target=(0, 1, 2, 3), control=(), parameter=tau_0, paulistring=X(0)Y(1)X(2)X(3))\n",
      "\n"
     ]
    }
   ],
   "source": [
    "H = tq.QubitHamiltonian.from_openfermion(get_qubit_hamiltonian('h2', 2, 'sto-3g', qubit_transf='jw'))\n",
    "\n",
    "a = tq.Variable(\"tau_0\")\n",
    "U = construct_QMF_ansatz(4)\n",
    "U += tq.gates.ExpPauli(paulistring=tq.PauliString.from_string(\"X(0)Y(1)X(2)X(3)\"), angle=a)\n",
    "print(U)"
   ]
  },
  {
   "cell_type": "code",
   "execution_count": 3,
   "id": "1f4ab1de",
   "metadata": {},
   "outputs": [
    {
     "name": "stdout",
     "output_type": "stream",
     "text": [
      "-0.9486411121761621\n"
     ]
    }
   ],
   "source": [
    "E = tq.ExpectationValue(H=H, U=U)\n",
    "vars = {'beta_1': 3.141592624143881, 'beta_0': 3.141592624143881, 'tau_0': 1.1331410014096885, 'gamma_1': 0.0, 'beta_3': 0.0, 'gamma_3': 0.0, 'gamma_2': 0.0, 'gamma_0': 0.0, 'beta_2': 0.0} # values obtained from step 3\n",
    "print(tq.simulate(E, variables=vars))"
   ]
  },
  {
   "cell_type": "markdown",
   "id": "1dd059a4",
   "metadata": {},
   "source": [
    "# Setup Measurements"
   ]
  },
  {
   "cell_type": "code",
   "execution_count": 4,
   "id": "9da3f94c",
   "metadata": {},
   "outputs": [],
   "source": [
    "binary_H = BinaryHamiltonian.init_from_qubit_hamiltonian(H)\n",
    "commuting_parts = binary_H.commuting_groups()"
   ]
  },
  {
   "cell_type": "code",
   "execution_count": 5,
   "id": "970a0779",
   "metadata": {},
   "outputs": [
    {
     "data": {
      "text/plain": [
       "2"
      ]
     },
     "execution_count": 5,
     "metadata": {},
     "output_type": "execute_result"
    }
   ],
   "source": [
    "len(commuting_parts)"
   ]
  },
  {
   "cell_type": "code",
   "execution_count": 6,
   "id": "2532a94b",
   "metadata": {},
   "outputs": [
    {
     "data": {
      "text/plain": [
       "-0.5339+0.0673Z(0)+0.0673Z(1)+0.0067Z(2)+0.0067Z(3)+0.1274Z(0)Z(1)+0.0650Z(0)Z(2)+0.1298Z(0)Z(3)+0.1298Z(1)Z(2)+0.0650Z(1)Z(3)+0.1337Z(2)Z(3)"
      ]
     },
     "execution_count": 6,
     "metadata": {},
     "output_type": "execute_result"
    }
   ],
   "source": [
    "commuting_parts[0].to_qubit_hamiltonian()"
   ]
  },
  {
   "cell_type": "code",
   "execution_count": 7,
   "id": "0052fc59",
   "metadata": {},
   "outputs": [
    {
     "data": {
      "text/plain": [
       "-0.0648X(0)X(1)Y(2)Y(3)+0.0648X(0)Y(1)Y(2)X(3)+0.0648Y(0)X(1)X(2)Y(3)-0.0648Y(0)Y(1)X(2)X(3)"
      ]
     },
     "execution_count": 7,
     "metadata": {},
     "output_type": "execute_result"
    }
   ],
   "source": [
    "commuting_parts[1].to_qubit_hamiltonian()"
   ]
  },
  {
   "cell_type": "markdown",
   "id": "f22306f0",
   "metadata": {},
   "source": [
    "## Split Hamiltonians by Measurement Groups"
   ]
  },
  {
   "cell_type": "code",
   "execution_count": 8,
   "id": "58f42627",
   "metadata": {},
   "outputs": [],
   "source": [
    "def get_by_part(H, U, part):\n",
    "    binary_H = BinaryHamiltonian.init_from_qubit_hamiltonian(H)\n",
    "    commuting_parts = binary_H.commuting_groups()\n",
    "    result = tq.Objective()\n",
    "    \n",
    "    cH = commuting_parts[part]\n",
    "    \n",
    "    qwc, Um = cH.get_qubit_wise()\n",
    "    \n",
    "    return qwc, Um"
   ]
  },
  {
   "cell_type": "code",
   "execution_count": 9,
   "id": "a48d0a3b",
   "metadata": {},
   "outputs": [],
   "source": [
    "H_0, U_0 = get_by_part(H, U, 0)"
   ]
  },
  {
   "cell_type": "code",
   "execution_count": 10,
   "id": "eec5da70",
   "metadata": {},
   "outputs": [],
   "source": [
    "H_1, U_1 = get_by_part(H, U, 1)"
   ]
  },
  {
   "cell_type": "markdown",
   "id": "eecda71c",
   "metadata": {},
   "source": [
    "# Simulated Run "
   ]
  },
  {
   "cell_type": "code",
   "execution_count": 11,
   "id": "bf513528",
   "metadata": {},
   "outputs": [],
   "source": [
    "no_samples = 100000"
   ]
  },
  {
   "cell_type": "code",
   "execution_count": 12,
   "id": "a5da024f",
   "metadata": {},
   "outputs": [
    {
     "data": {
      "text/html": [
       "<pre style=\"word-wrap: normal;white-space: pre;background: #fff0;line-height: 1.1;font-family: &quot;Courier New&quot;,Courier,monospace\">     ┌────────────────────┐┌─────────────────────┐┌──────────┐               »\n",
       "q_0: ┤ Rx(f((beta_0,))_0) ├┤ Rz(f((gamma_0,))_1) ├┤ Ry(-π/2) ├──■────────────»\n",
       "     ├────────────────────┤├─────────────────────┤├─────────┬┘┌─┴─┐          »\n",
       "q_1: ┤ Rx(f((beta_1,))_2) ├┤ Rz(f((gamma_1,))_3) ├┤ Rx(π/2) ├─┤ X ├──■───────»\n",
       "     ├────────────────────┤├─────────────────────┤├─────────┴┐└───┘┌─┴─┐     »\n",
       "q_2: ┤ Rx(f((beta_2,))_4) ├┤ Rz(f((gamma_2,))_5) ├┤ Ry(-π/2) ├─────┤ X ├──■──»\n",
       "     ├────────────────────┤├─────────────────────┤├──────────┤     └───┘┌─┴─┐»\n",
       "q_3: ┤ Rx(f((beta_3,))_6) ├┤ Rz(f((gamma_3,))_7) ├┤ Ry(-π/2) ├──────────┤ X ├»\n",
       "     └────────────────────┘└─────────────────────┘└──────────┘          └───┘»\n",
       "c: 4/════════════════════════════════════════════════════════════════════════»\n",
       "                                                                             »\n",
       "«                                                     ┌─────────┐ \n",
       "«q_0: ──────────────────────────────────────────■─────┤ Ry(π/2) ├─\n",
       "«                                             ┌─┴─┐   ├─────────┴┐\n",
       "«q_1: ───────────────────────────────■────────┤ X ├───┤ Rx(-π/2) ├\n",
       "«                                  ┌─┴─┐   ┌──┴───┴──┐└──────────┘\n",
       "«q_2: ───────────────────────■─────┤ X ├───┤ Ry(π/2) ├────────────\n",
       "«     ┌───────────────────┐┌─┴─┐┌──┴───┴──┐└─────────┘            \n",
       "«q_3: ┤ Rz(f((tau_0,))_8) ├┤ X ├┤ Ry(π/2) ├───────────────────────\n",
       "«     └───────────────────┘└───┘└─────────┘                       \n",
       "«c: 4/════════════════════════════════════════════════════════════\n",
       "«                                                                 </pre>"
      ],
      "text/plain": [
       "     ┌────────────────────┐┌─────────────────────┐┌──────────┐               »\n",
       "q_0: ┤ Rx(f((beta_0,))_0) ├┤ Rz(f((gamma_0,))_1) ├┤ Ry(-π/2) ├──■────────────»\n",
       "     ├────────────────────┤├─────────────────────┤├─────────┬┘┌─┴─┐          »\n",
       "q_1: ┤ Rx(f((beta_1,))_2) ├┤ Rz(f((gamma_1,))_3) ├┤ Rx(π/2) ├─┤ X ├──■───────»\n",
       "     ├────────────────────┤├─────────────────────┤├─────────┴┐└───┘┌─┴─┐     »\n",
       "q_2: ┤ Rx(f((beta_2,))_4) ├┤ Rz(f((gamma_2,))_5) ├┤ Ry(-π/2) ├─────┤ X ├──■──»\n",
       "     ├────────────────────┤├─────────────────────┤├──────────┤     └───┘┌─┴─┐»\n",
       "q_3: ┤ Rx(f((beta_3,))_6) ├┤ Rz(f((gamma_3,))_7) ├┤ Ry(-π/2) ├──────────┤ X ├»\n",
       "     └────────────────────┘└─────────────────────┘└──────────┘          └───┘»\n",
       "c: 4/════════════════════════════════════════════════════════════════════════»\n",
       "                                                                             »\n",
       "«                                                     ┌─────────┐ \n",
       "«q_0: ──────────────────────────────────────────■─────┤ Ry(π/2) ├─\n",
       "«                                             ┌─┴─┐   ├─────────┴┐\n",
       "«q_1: ───────────────────────────────■────────┤ X ├───┤ Rx(-π/2) ├\n",
       "«                                  ┌─┴─┐   ┌──┴───┴──┐└──────────┘\n",
       "«q_2: ───────────────────────■─────┤ X ├───┤ Ry(π/2) ├────────────\n",
       "«     ┌───────────────────┐┌─┴─┐┌──┴───┴──┐└─────────┘            \n",
       "«q_3: ┤ Rz(f((tau_0,))_8) ├┤ X ├┤ Ry(π/2) ├───────────────────────\n",
       "«     └───────────────────┘└───┘└─────────┘                       \n",
       "«c: 4/════════════════════════════════════════════════════════════\n",
       "«                                                                 "
      ]
     },
     "execution_count": 12,
     "metadata": {},
     "output_type": "execute_result"
    }
   ],
   "source": [
    "circ_0 = tq.circuit.compiler.compile_exponential_pauli_gate(U + U_0)\n",
    "tq.draw(circ_0, backend=\"qiskit\")"
   ]
  },
  {
   "cell_type": "code",
   "execution_count": 13,
   "id": "74db51c3",
   "metadata": {},
   "outputs": [],
   "source": [
    "res_0 = tq.simulate(circ_0, variables=vars, samples = no_samples, backend=\"qiskit\")"
   ]
  },
  {
   "cell_type": "code",
   "execution_count": 14,
   "id": "585fa015",
   "metadata": {},
   "outputs": [
    {
     "data": {
      "text/plain": [
       "+28837.0000|0011> +71163.0000|1100> "
      ]
     },
     "execution_count": 14,
     "metadata": {},
     "output_type": "execute_result"
    }
   ],
   "source": [
    "res_0"
   ]
  },
  {
   "cell_type": "code",
   "execution_count": 15,
   "id": "ac5bde27",
   "metadata": {},
   "outputs": [
    {
     "data": {
      "text/plain": [
       "{3: 28837, 12: 71163}"
      ]
     },
     "execution_count": 15,
     "metadata": {},
     "output_type": "execute_result"
    }
   ],
   "source": [
    "res_0.state"
   ]
  },
  {
   "cell_type": "code",
   "execution_count": 16,
   "id": "825bc227",
   "metadata": {},
   "outputs": [
    {
     "data": {
      "text/plain": [
       "100000"
      ]
     },
     "execution_count": 16,
     "metadata": {},
     "output_type": "execute_result"
    }
   ],
   "source": [
    "total_samples = res_0.state[3] + res_0.state[12]\n",
    "total_samples "
   ]
  },
  {
   "cell_type": "code",
   "execution_count": 17,
   "id": "a00591f4",
   "metadata": {},
   "outputs": [],
   "source": [
    "res_0.state[3] = np.sqrt(res_0.state[3]/total_samples)\n",
    "res_0.state[12] = np.sqrt(res_0.state[12]/total_samples)"
   ]
  },
  {
   "cell_type": "code",
   "execution_count": 18,
   "id": "5983c8ac",
   "metadata": {},
   "outputs": [
    {
     "data": {
      "text/plain": [
       "+0.5370|0011> +0.8436|1100> "
      ]
     },
     "execution_count": 18,
     "metadata": {},
     "output_type": "execute_result"
    }
   ],
   "source": [
    "res_0"
   ]
  },
  {
   "cell_type": "code",
   "execution_count": 19,
   "id": "489cbe7b",
   "metadata": {},
   "outputs": [
    {
     "data": {
      "text/plain": [
       "-0.713859458568775"
      ]
     },
     "execution_count": 19,
     "metadata": {},
     "output_type": "execute_result"
    }
   ],
   "source": [
    "E_0 = res_0.compute_expectationvalue(H_0)\n",
    "E_0"
   ]
  },
  {
   "cell_type": "code",
   "execution_count": null,
   "id": "a3ae97df",
   "metadata": {},
   "outputs": [],
   "source": []
  },
  {
   "cell_type": "code",
   "execution_count": 20,
   "id": "0e7c59d2",
   "metadata": {},
   "outputs": [
    {
     "data": {
      "text/html": [
       "<pre style=\"word-wrap: normal;white-space: pre;background: #fff0;line-height: 1.1;font-family: &quot;Courier New&quot;,Courier,monospace\">     ┌────────────────────┐┌─────────────────────┐┌──────────┐               »\n",
       "q_0: ┤ Rx(f((beta_0,))_0) ├┤ Rz(f((gamma_0,))_1) ├┤ Ry(-π/2) ├──■────────────»\n",
       "     ├────────────────────┤├─────────────────────┤├─────────┬┘┌─┴─┐          »\n",
       "q_1: ┤ Rx(f((beta_1,))_2) ├┤ Rz(f((gamma_1,))_3) ├┤ Rx(π/2) ├─┤ X ├──■───────»\n",
       "     ├────────────────────┤├─────────────────────┤├─────────┴┐└───┘┌─┴─┐     »\n",
       "q_2: ┤ Rx(f((beta_2,))_4) ├┤ Rz(f((gamma_2,))_5) ├┤ Ry(-π/2) ├─────┤ X ├──■──»\n",
       "     ├────────────────────┤├─────────────────────┤├──────────┤     └───┘┌─┴─┐»\n",
       "q_3: ┤ Rx(f((beta_3,))_6) ├┤ Rz(f((gamma_3,))_7) ├┤ Ry(-π/2) ├──────────┤ X ├»\n",
       "     └────────────────────┘└─────────────────────┘└──────────┘          └───┘»\n",
       "c: 4/════════════════════════════════════════════════════════════════════════»\n",
       "                                                                             »\n",
       "«                                                     ┌─────────┐      »\n",
       "«q_0: ──────────────────────────────────────────■─────┤ Ry(π/2) ├───■──»\n",
       "«                                             ┌─┴─┐   ├─────────┴┐  │  »\n",
       "«q_1: ───────────────────────────────■────────┤ X ├───┤ Rx(-π/2) ├──┼──»\n",
       "«                                  ┌─┴─┐   ┌──┴───┴──┐└──────────┘  │  »\n",
       "«q_2: ───────────────────────■─────┤ X ├───┤ Ry(π/2) ├──────────────┼──»\n",
       "«     ┌───────────────────┐┌─┴─┐┌──┴───┴──┐└─────────┘            ┌─┴─┐»\n",
       "«q_3: ┤ Rz(f((tau_0,))_8) ├┤ X ├┤ Ry(π/2) ├───────────────────────┤ X ├»\n",
       "«     └───────────────────┘└───┘└─────────┘                       └───┘»\n",
       "«c: 4/═════════════════════════════════════════════════════════════════»\n",
       "«                                                                      »\n",
       "«                      ┌──────────┐                      ┌──────────┐»\n",
       "«q_0: ──────────────■──┤ Rx(-π/2) ├──■────────────────■──┤ Ry(-π/2) ├»\n",
       "«                   │  └──────────┘  │                │  └──────────┘»\n",
       "«q_1: ──────────────┼────────────────┼────────────────┼───────■──────»\n",
       "«                   │                │                │       │      »\n",
       "«q_2: ──────────────┼────────────────┼────────────────┼───────┼──────»\n",
       "«     ┌──────────┐┌─┴─┐            ┌─┴─┐┌──────────┐┌─┴─┐   ┌─┴─┐    »\n",
       "«q_3: ┤ Rz(-π/2) ├┤ X ├────────────┤ X ├┤ Rz(-π/2) ├┤ X ├───┤ X ├────»\n",
       "«     └──────────┘└───┘            └───┘└──────────┘└───┘   └───┘    »\n",
       "«c: 4/═══════════════════════════════════════════════════════════════»\n",
       "«                                                                    »\n",
       "«                                                                    »\n",
       "«q_0: ───────────────────────────────────────────────────────────────»\n",
       "«                      ┌──────────┐                      ┌──────────┐»\n",
       "«q_1: ──────────────■──┤ Rx(-π/2) ├──■────────────────■──┤ Ry(-π/2) ├»\n",
       "«                   │  └──────────┘  │                │  └──────────┘»\n",
       "«q_2: ──────────────┼────────────────┼────────────────┼───────■──────»\n",
       "«     ┌──────────┐┌─┴─┐            ┌─┴─┐┌──────────┐┌─┴─┐   ┌─┴─┐    »\n",
       "«q_3: ┤ Rz(-π/2) ├┤ X ├────────────┤ X ├┤ Rz(-π/2) ├┤ X ├───┤ X ├────»\n",
       "«     └──────────┘└───┘            └───┘└──────────┘└───┘   └───┘    »\n",
       "«c: 4/═══════════════════════════════════════════════════════════════»\n",
       "«                                                                    »\n",
       "«                                                                              »\n",
       "«q_0: ─────■───────────────────────────────────────────────────────────────────»\n",
       "«        ┌─┴─┐                                                                 »\n",
       "«q_1: ───┤ X ├─────────────────────────────────────────────────────────■───────»\n",
       "«        └───┘         ┌──────────┐                      ┌──────────┐┌─┴─┐     »\n",
       "«q_2: ──────────────■──┤ Rx(-π/2) ├──■────────────────■──┤ Ry(-π/2) ├┤ X ├──■──»\n",
       "«     ┌──────────┐┌─┴─┐└──────────┘┌─┴─┐┌──────────┐┌─┴─┐├──────────┤└───┘┌─┴─┐»\n",
       "«q_3: ┤ Rz(-π/2) ├┤ X ├────────────┤ X ├┤ Rz(-π/2) ├┤ X ├┤ Ry(-π/2) ├─────┤ X ├»\n",
       "«     └──────────┘└───┘            └───┘└──────────┘└───┘└──────────┘     └───┘»\n",
       "«c: 4/═════════════════════════════════════════════════════════════════════════»\n",
       "«                                                                              »\n",
       "«                                             ┌─────────┐ ┌──────────┐     »\n",
       "«q_0: ─────────────────────────────────■──────┤ Ry(π/2) ├─┤ Ry(-π/2) ├──■──»\n",
       "«                                    ┌─┴─┐    ├─────────┤ ├──────────┤┌─┴─┐»\n",
       "«q_1: ──────────────────────■────────┤ X ├────┤ Ry(π/2) ├─┤ Ry(-π/2) ├┤ X ├»\n",
       "«                         ┌─┴─┐   ┌──┴───┴──┐ ├─────────┴┐└──────────┘└───┘»\n",
       "«q_2: ──────────────■─────┤ X ├───┤ Ry(π/2) ├─┤ Ry(-π/2) ├─────────────────»\n",
       "«     ┌──────────┐┌─┴─┐┌──┴───┴──┐├─────────┴┐├──────────┤                 »\n",
       "«q_3: ┤ Rz(-π/2) ├┤ X ├┤ Ry(π/2) ├┤ Rz(-π/2) ├┤ Ry(-π/2) ├─────────────────»\n",
       "«     └──────────┘└───┘└─────────┘└──────────┘└──────────┘                 »\n",
       "«c: 4/═════════════════════════════════════════════════════════════════════»\n",
       "«                                                                          »\n",
       "«                                                      ┌─────────┐ ┌──────────┐»\n",
       "«q_0: ───────────────────────────────────────────■─────┤ Ry(π/2) ├─┤ Rz(-π/2) ├»\n",
       "«                                              ┌─┴─┐   ├─────────┤ ├──────────┤»\n",
       "«q_1: ──■─────────────────────────────■────────┤ X ├───┤ Ry(π/2) ├─┤ Rz(-π/2) ├»\n",
       "«     ┌─┴─┐                         ┌─┴─┐   ┌──┴───┴──┐├─────────┴┐├──────────┤»\n",
       "«q_2: ┤ X ├──■────────────────■─────┤ X ├───┤ Ry(π/2) ├┤ Rz(-π/2) ├┤ Rx(-π/2) ├»\n",
       "«     └───┘┌─┴─┐┌──────────┐┌─┴─┐┌──┴───┴──┐└─────────┘└──────────┘└──────────┘»\n",
       "«q_3: ─────┤ X ├┤ Rz(-π/2) ├┤ X ├┤ Ry(π/2) ├───────────────────────────────────»\n",
       "«          └───┘└──────────┘└───┘└─────────┘                                   »\n",
       "«c: 4/═════════════════════════════════════════════════════════════════════════»\n",
       "«                                                                              »\n",
       "«     ┌──────────┐┌──────────┐\n",
       "«q_0: ┤ Rx(-π/2) ├┤ Rz(-π/2) ├\n",
       "«     ├──────────┤├──────────┤\n",
       "«q_1: ┤ Rx(-π/2) ├┤ Rz(-π/2) ├\n",
       "«     ├──────────┤└──────────┘\n",
       "«q_2: ┤ Rz(-π/2) ├────────────\n",
       "«     └──────────┘            \n",
       "«q_3: ────────────────────────\n",
       "«                             \n",
       "«c: 4/════════════════════════\n",
       "«                             </pre>"
      ],
      "text/plain": [
       "     ┌────────────────────┐┌─────────────────────┐┌──────────┐               »\n",
       "q_0: ┤ Rx(f((beta_0,))_0) ├┤ Rz(f((gamma_0,))_1) ├┤ Ry(-π/2) ├──■────────────»\n",
       "     ├────────────────────┤├─────────────────────┤├─────────┬┘┌─┴─┐          »\n",
       "q_1: ┤ Rx(f((beta_1,))_2) ├┤ Rz(f((gamma_1,))_3) ├┤ Rx(π/2) ├─┤ X ├──■───────»\n",
       "     ├────────────────────┤├─────────────────────┤├─────────┴┐└───┘┌─┴─┐     »\n",
       "q_2: ┤ Rx(f((beta_2,))_4) ├┤ Rz(f((gamma_2,))_5) ├┤ Ry(-π/2) ├─────┤ X ├──■──»\n",
       "     ├────────────────────┤├─────────────────────┤├──────────┤     └───┘┌─┴─┐»\n",
       "q_3: ┤ Rx(f((beta_3,))_6) ├┤ Rz(f((gamma_3,))_7) ├┤ Ry(-π/2) ├──────────┤ X ├»\n",
       "     └────────────────────┘└─────────────────────┘└──────────┘          └───┘»\n",
       "c: 4/════════════════════════════════════════════════════════════════════════»\n",
       "                                                                             »\n",
       "«                                                     ┌─────────┐      »\n",
       "«q_0: ──────────────────────────────────────────■─────┤ Ry(π/2) ├───■──»\n",
       "«                                             ┌─┴─┐   ├─────────┴┐  │  »\n",
       "«q_1: ───────────────────────────────■────────┤ X ├───┤ Rx(-π/2) ├──┼──»\n",
       "«                                  ┌─┴─┐   ┌──┴───┴──┐└──────────┘  │  »\n",
       "«q_2: ───────────────────────■─────┤ X ├───┤ Ry(π/2) ├──────────────┼──»\n",
       "«     ┌───────────────────┐┌─┴─┐┌──┴───┴──┐└─────────┘            ┌─┴─┐»\n",
       "«q_3: ┤ Rz(f((tau_0,))_8) ├┤ X ├┤ Ry(π/2) ├───────────────────────┤ X ├»\n",
       "«     └───────────────────┘└───┘└─────────┘                       └───┘»\n",
       "«c: 4/═════════════════════════════════════════════════════════════════»\n",
       "«                                                                      »\n",
       "«                      ┌──────────┐                      ┌──────────┐»\n",
       "«q_0: ──────────────■──┤ Rx(-π/2) ├──■────────────────■──┤ Ry(-π/2) ├»\n",
       "«                   │  └──────────┘  │                │  └──────────┘»\n",
       "«q_1: ──────────────┼────────────────┼────────────────┼───────■──────»\n",
       "«                   │                │                │       │      »\n",
       "«q_2: ──────────────┼────────────────┼────────────────┼───────┼──────»\n",
       "«     ┌──────────┐┌─┴─┐            ┌─┴─┐┌──────────┐┌─┴─┐   ┌─┴─┐    »\n",
       "«q_3: ┤ Rz(-π/2) ├┤ X ├────────────┤ X ├┤ Rz(-π/2) ├┤ X ├───┤ X ├────»\n",
       "«     └──────────┘└───┘            └───┘└──────────┘└───┘   └───┘    »\n",
       "«c: 4/═══════════════════════════════════════════════════════════════»\n",
       "«                                                                    »\n",
       "«                                                                    »\n",
       "«q_0: ───────────────────────────────────────────────────────────────»\n",
       "«                      ┌──────────┐                      ┌──────────┐»\n",
       "«q_1: ──────────────■──┤ Rx(-π/2) ├──■────────────────■──┤ Ry(-π/2) ├»\n",
       "«                   │  └──────────┘  │                │  └──────────┘»\n",
       "«q_2: ──────────────┼────────────────┼────────────────┼───────■──────»\n",
       "«     ┌──────────┐┌─┴─┐            ┌─┴─┐┌──────────┐┌─┴─┐   ┌─┴─┐    »\n",
       "«q_3: ┤ Rz(-π/2) ├┤ X ├────────────┤ X ├┤ Rz(-π/2) ├┤ X ├───┤ X ├────»\n",
       "«     └──────────┘└───┘            └───┘└──────────┘└───┘   └───┘    »\n",
       "«c: 4/═══════════════════════════════════════════════════════════════»\n",
       "«                                                                    »\n",
       "«                                                                              »\n",
       "«q_0: ─────■───────────────────────────────────────────────────────────────────»\n",
       "«        ┌─┴─┐                                                                 »\n",
       "«q_1: ───┤ X ├─────────────────────────────────────────────────────────■───────»\n",
       "«        └───┘         ┌──────────┐                      ┌──────────┐┌─┴─┐     »\n",
       "«q_2: ──────────────■──┤ Rx(-π/2) ├──■────────────────■──┤ Ry(-π/2) ├┤ X ├──■──»\n",
       "«     ┌──────────┐┌─┴─┐└──────────┘┌─┴─┐┌──────────┐┌─┴─┐├──────────┤└───┘┌─┴─┐»\n",
       "«q_3: ┤ Rz(-π/2) ├┤ X ├────────────┤ X ├┤ Rz(-π/2) ├┤ X ├┤ Ry(-π/2) ├─────┤ X ├»\n",
       "«     └──────────┘└───┘            └───┘└──────────┘└───┘└──────────┘     └───┘»\n",
       "«c: 4/═════════════════════════════════════════════════════════════════════════»\n",
       "«                                                                              »\n",
       "«                                             ┌─────────┐ ┌──────────┐     »\n",
       "«q_0: ─────────────────────────────────■──────┤ Ry(π/2) ├─┤ Ry(-π/2) ├──■──»\n",
       "«                                    ┌─┴─┐    ├─────────┤ ├──────────┤┌─┴─┐»\n",
       "«q_1: ──────────────────────■────────┤ X ├────┤ Ry(π/2) ├─┤ Ry(-π/2) ├┤ X ├»\n",
       "«                         ┌─┴─┐   ┌──┴───┴──┐ ├─────────┴┐└──────────┘└───┘»\n",
       "«q_2: ──────────────■─────┤ X ├───┤ Ry(π/2) ├─┤ Ry(-π/2) ├─────────────────»\n",
       "«     ┌──────────┐┌─┴─┐┌──┴───┴──┐├─────────┴┐├──────────┤                 »\n",
       "«q_3: ┤ Rz(-π/2) ├┤ X ├┤ Ry(π/2) ├┤ Rz(-π/2) ├┤ Ry(-π/2) ├─────────────────»\n",
       "«     └──────────┘└───┘└─────────┘└──────────┘└──────────┘                 »\n",
       "«c: 4/═════════════════════════════════════════════════════════════════════»\n",
       "«                                                                          »\n",
       "«                                                      ┌─────────┐ ┌──────────┐»\n",
       "«q_0: ───────────────────────────────────────────■─────┤ Ry(π/2) ├─┤ Rz(-π/2) ├»\n",
       "«                                              ┌─┴─┐   ├─────────┤ ├──────────┤»\n",
       "«q_1: ──■─────────────────────────────■────────┤ X ├───┤ Ry(π/2) ├─┤ Rz(-π/2) ├»\n",
       "«     ┌─┴─┐                         ┌─┴─┐   ┌──┴───┴──┐├─────────┴┐├──────────┤»\n",
       "«q_2: ┤ X ├──■────────────────■─────┤ X ├───┤ Ry(π/2) ├┤ Rz(-π/2) ├┤ Rx(-π/2) ├»\n",
       "«     └───┘┌─┴─┐┌──────────┐┌─┴─┐┌──┴───┴──┐└─────────┘└──────────┘└──────────┘»\n",
       "«q_3: ─────┤ X ├┤ Rz(-π/2) ├┤ X ├┤ Ry(π/2) ├───────────────────────────────────»\n",
       "«          └───┘└──────────┘└───┘└─────────┘                                   »\n",
       "«c: 4/═════════════════════════════════════════════════════════════════════════»\n",
       "«                                                                              »\n",
       "«     ┌──────────┐┌──────────┐\n",
       "«q_0: ┤ Rx(-π/2) ├┤ Rz(-π/2) ├\n",
       "«     ├──────────┤├──────────┤\n",
       "«q_1: ┤ Rx(-π/2) ├┤ Rz(-π/2) ├\n",
       "«     ├──────────┤└──────────┘\n",
       "«q_2: ┤ Rz(-π/2) ├────────────\n",
       "«     └──────────┘            \n",
       "«q_3: ────────────────────────\n",
       "«                             \n",
       "«c: 4/════════════════════════\n",
       "«                             "
      ]
     },
     "execution_count": 20,
     "metadata": {},
     "output_type": "execute_result"
    }
   ],
   "source": [
    "circ_1 = tq.circuit.compiler.compile_exponential_pauli_gate(U + U_1)\n",
    "tq.draw(circ_1, backend=\"qiskit\")"
   ]
  },
  {
   "cell_type": "code",
   "execution_count": 21,
   "id": "6ec30405",
   "metadata": {},
   "outputs": [],
   "source": [
    "res_1 = tq.simulate(circ_1, variables=vars, samples = no_samples, backend=\"qiskit\")"
   ]
  },
  {
   "cell_type": "code",
   "execution_count": 22,
   "id": "fe8c0fb1",
   "metadata": {},
   "outputs": [
    {
     "data": {
      "text/plain": [
       "+4709.0000|1100> +95291.0000|1101> "
      ]
     },
     "execution_count": 22,
     "metadata": {},
     "output_type": "execute_result"
    }
   ],
   "source": [
    "res_1"
   ]
  },
  {
   "cell_type": "code",
   "execution_count": 23,
   "id": "a39bd0d7",
   "metadata": {},
   "outputs": [
    {
     "data": {
      "text/plain": [
       "{12: 4709, 13: 95291}"
      ]
     },
     "execution_count": 23,
     "metadata": {},
     "output_type": "execute_result"
    }
   ],
   "source": [
    "res_1.state"
   ]
  },
  {
   "cell_type": "code",
   "execution_count": 24,
   "id": "5eda937a",
   "metadata": {},
   "outputs": [
    {
     "data": {
      "text/plain": [
       "100000"
      ]
     },
     "execution_count": 24,
     "metadata": {},
     "output_type": "execute_result"
    }
   ],
   "source": [
    "total_samples = res_1.state[12] + res_1.state[13]\n",
    "total_samples "
   ]
  },
  {
   "cell_type": "code",
   "execution_count": 25,
   "id": "3bd83e6b",
   "metadata": {},
   "outputs": [],
   "source": [
    "res_1.state[12] = np.sqrt(res_1.state[12]/total_samples)\n",
    "res_1.state[13] = np.sqrt(res_1.state[13]/total_samples)"
   ]
  },
  {
   "cell_type": "code",
   "execution_count": 26,
   "id": "ade913ac",
   "metadata": {},
   "outputs": [
    {
     "data": {
      "text/plain": [
       "+0.2170|1100> +0.9762|1101> "
      ]
     },
     "execution_count": 26,
     "metadata": {},
     "output_type": "execute_result"
    }
   ],
   "source": [
    "res_1"
   ]
  },
  {
   "cell_type": "code",
   "execution_count": 27,
   "id": "cbbc4159",
   "metadata": {},
   "outputs": [
    {
     "data": {
      "text/plain": [
       "-0.2347328133167589"
      ]
     },
     "execution_count": 27,
     "metadata": {},
     "output_type": "execute_result"
    }
   ],
   "source": [
    "E_1 = res_1.compute_expectationvalue(H_1)\n",
    "E_1"
   ]
  },
  {
   "cell_type": "code",
   "execution_count": 28,
   "id": "a678f316",
   "metadata": {},
   "outputs": [
    {
     "data": {
      "text/plain": [
       "-0.9485922718855339"
      ]
     },
     "execution_count": 28,
     "metadata": {},
     "output_type": "execute_result"
    }
   ],
   "source": [
    "E_sim = E_0 + E_1\n",
    "E_sim"
   ]
  },
  {
   "cell_type": "markdown",
   "id": "37face95",
   "metadata": {},
   "source": [
    "# On Actual Quantum Device"
   ]
  },
  {
   "cell_type": "code",
   "execution_count": 29,
   "id": "c54e9c62",
   "metadata": {},
   "outputs": [
    {
     "name": "stderr",
     "output_type": "stream",
     "text": [
      "configrc.store_credentials:WARNING:2022-07-15 15:40:03,614: Credentials already present. Set overwrite=True to overwrite.\n"
     ]
    }
   ],
   "source": [
    "from qiskit import IBMQ\n",
    "IBMQ.save_account('22afb9f6e6768d6c7ea6e144cf330191e8bde8a364b592493ea0ce2815cf3f904b0b90e819a4d01164ca59d5480325c3e2a6ff72ef2d2f207619b9c21cb82c4f')"
   ]
  },
  {
   "cell_type": "code",
   "execution_count": 30,
   "id": "54dd8c70",
   "metadata": {},
   "outputs": [
    {
     "data": {
      "text/plain": [
       "<AccountProvider for IBMQ(hub='ibm-q', group='open', project='main')>"
      ]
     },
     "execution_count": 30,
     "metadata": {},
     "output_type": "execute_result"
    }
   ],
   "source": [
    "IBMQ.load_account()"
   ]
  },
  {
   "cell_type": "code",
   "execution_count": 31,
   "id": "52dd3e4a",
   "metadata": {},
   "outputs": [
    {
     "name": "stdout",
     "output_type": "stream",
     "text": [
      "[<IBMQSimulator('ibmq_qasm_simulator') from IBMQ(hub='ibm-q', group='open', project='main')>, <IBMQBackend('ibmq_lima') from IBMQ(hub='ibm-q', group='open', project='main')>, <IBMQBackend('ibmq_belem') from IBMQ(hub='ibm-q', group='open', project='main')>, <IBMQBackend('ibmq_quito') from IBMQ(hub='ibm-q', group='open', project='main')>, <IBMQSimulator('simulator_statevector') from IBMQ(hub='ibm-q', group='open', project='main')>, <IBMQSimulator('simulator_mps') from IBMQ(hub='ibm-q', group='open', project='main')>, <IBMQSimulator('simulator_extended_stabilizer') from IBMQ(hub='ibm-q', group='open', project='main')>, <IBMQSimulator('simulator_stabilizer') from IBMQ(hub='ibm-q', group='open', project='main')>, <IBMQBackend('ibmq_manila') from IBMQ(hub='ibm-q', group='open', project='main')>, <IBMQBackend('ibm_nairobi') from IBMQ(hub='ibm-q', group='open', project='main')>, <IBMQBackend('ibm_oslo') from IBMQ(hub='ibm-q', group='open', project='main')>]\n"
     ]
    }
   ],
   "source": [
    "provider=IBMQ.get_provider(hub='ibm-q', group='open', project='main')\n",
    "print(provider.backends())"
   ]
  },
  {
   "cell_type": "markdown",
   "id": "59277bfd",
   "metadata": {},
   "source": [
    "## Get the measurements needed"
   ]
  },
  {
   "cell_type": "code",
   "execution_count": 32,
   "id": "fcb48072",
   "metadata": {},
   "outputs": [],
   "source": [
    "no_samples = 2000"
   ]
  },
  {
   "cell_type": "code",
   "execution_count": 43,
   "id": "1f4345fb",
   "metadata": {},
   "outputs": [],
   "source": [
    "res_0_test = tq.simulate(circ_0, variables=vars, samples = no_samples, backend=\"qiskit\", device='ibmq_quito')"
   ]
  },
  {
   "cell_type": "code",
   "execution_count": 44,
   "id": "9f190199",
   "metadata": {},
   "outputs": [
    {
     "data": {
      "text/plain": [
       "+57.0000|0000> +123.0000|1000> +109.0000|0100> +1020.0000|1100> +48.0000|0010> +26.0000|1010> +23.0000|0110> +33.0000|1110> +27.0000|0001> +18.0000|1001> +16.0000|0101> +45.0000|1101> +400.0000|0011> +18.0000|1011> +26.0000|0111> +11.0000|1111> "
      ]
     },
     "execution_count": 44,
     "metadata": {},
     "output_type": "execute_result"
    }
   ],
   "source": [
    "res_0_test"
   ]
  },
  {
   "cell_type": "code",
   "execution_count": 36,
   "id": "df47a6e1",
   "metadata": {},
   "outputs": [],
   "source": [
    "res_1_test = tq.simulate(circ_1, variables=vars, samples = no_samples, backend=\"qiskit\", device='ibmq_quito')"
   ]
  },
  {
   "cell_type": "code",
   "execution_count": 37,
   "id": "3b9d42e0",
   "metadata": {},
   "outputs": [
    {
     "data": {
      "text/plain": [
       "+121.0000|0000> +102.0000|1000> +90.0000|0100> +233.0000|1100> +69.0000|0010> +51.0000|1010> +52.0000|0110> +82.0000|1110> +151.0000|0001> +97.0000|1001> +101.0000|0101> +560.0000|1101> +85.0000|0011> +68.0000|1011> +35.0000|0111> +103.0000|1111> "
      ]
     },
     "execution_count": 37,
     "metadata": {},
     "output_type": "execute_result"
    }
   ],
   "source": [
    "res_1_test"
   ]
  },
  {
   "cell_type": "markdown",
   "id": "17d5c4ac",
   "metadata": {},
   "source": [
    "## Find Expectation via without post-processing"
   ]
  },
  {
   "cell_type": "code",
   "execution_count": 49,
   "id": "8154d294",
   "metadata": {},
   "outputs": [],
   "source": [
    "base_res_0 = copy.deepcopy(res_0_test)"
   ]
  },
  {
   "cell_type": "code",
   "execution_count": 50,
   "id": "8b1b2cb1",
   "metadata": {},
   "outputs": [],
   "source": [
    "for i in range(16):\n",
    "    base_res_0.state[i] = np.sqrt(base_res_0.state[i]/no_samples)"
   ]
  },
  {
   "cell_type": "code",
   "execution_count": 52,
   "id": "d9ee27c9",
   "metadata": {},
   "outputs": [
    {
     "data": {
      "text/plain": [
       "+0.1688|0000> +0.2480|1000> +0.2335|0100> +0.7141|1100> +0.1549|0010> +0.1140|1010> +0.1072|0110> +0.1285|1110> +0.1162|0001> +0.0949|1001> +0.0894|0101> +0.1500|1101> +0.4472|0011> +0.0949|1011> +0.1140|0111> +0.0742|1111> "
      ]
     },
     "execution_count": 52,
     "metadata": {},
     "output_type": "execute_result"
    }
   ],
   "source": [
    "base_res_0"
   ]
  },
  {
   "cell_type": "code",
   "execution_count": 53,
   "id": "9f91e8dd",
   "metadata": {},
   "outputs": [
    {
     "data": {
      "text/plain": [
       "-0.6467700690869538"
      ]
     },
     "execution_count": 53,
     "metadata": {},
     "output_type": "execute_result"
    }
   ],
   "source": [
    "base_E_0 = base_res_0.compute_expectationvalue(H_0)\n",
    "base_E_0"
   ]
  },
  {
   "cell_type": "code",
   "execution_count": 54,
   "id": "352c2f28",
   "metadata": {},
   "outputs": [],
   "source": [
    "base_res_1 = copy.deepcopy(res_1_test)"
   ]
  },
  {
   "cell_type": "code",
   "execution_count": 55,
   "id": "683a3b46",
   "metadata": {},
   "outputs": [],
   "source": [
    "for i in range(16):\n",
    "    base_res_1.state[i] = np.sqrt(base_res_1.state[i]/no_samples)"
   ]
  },
  {
   "cell_type": "code",
   "execution_count": 56,
   "id": "e2baddef",
   "metadata": {},
   "outputs": [
    {
     "data": {
      "text/plain": [
       "+0.2460|0000> +0.2258|1000> +0.2121|0100> +0.3413|1100> +0.1857|0010> +0.1597|1010> +0.1612|0110> +0.2025|1110> +0.2748|0001> +0.2202|1001> +0.2247|0101> +0.5292|1101> +0.2062|0011> +0.1844|1011> +0.1323|0111> +0.2269|1111> "
      ]
     },
     "execution_count": 56,
     "metadata": {},
     "output_type": "execute_result"
    }
   ],
   "source": [
    "base_res_1"
   ]
  },
  {
   "cell_type": "code",
   "execution_count": 57,
   "id": "c26a8ab1",
   "metadata": {},
   "outputs": [
    {
     "data": {
      "text/plain": [
       "-0.04457181767954178"
      ]
     },
     "execution_count": 57,
     "metadata": {},
     "output_type": "execute_result"
    }
   ],
   "source": [
    "base_E_1 = base_res_1.compute_expectationvalue(H_1)\n",
    "base_E_1"
   ]
  },
  {
   "cell_type": "code",
   "execution_count": 58,
   "id": "2cbceea5",
   "metadata": {},
   "outputs": [
    {
     "data": {
      "text/plain": [
       "-0.6913418867664956"
      ]
     },
     "execution_count": 58,
     "metadata": {},
     "output_type": "execute_result"
    }
   ],
   "source": [
    "base_E = base_E_0 + base_E_1\n",
    "base_E"
   ]
  },
  {
   "cell_type": "markdown",
   "id": "dff80688",
   "metadata": {},
   "source": [
    "## Find Expectation via with post-processing"
   ]
  },
  {
   "cell_type": "code",
   "execution_count": 69,
   "id": "f22ad20c",
   "metadata": {},
   "outputs": [],
   "source": [
    "post_res_0 = copy.deepcopy(res_0_test)"
   ]
  },
  {
   "cell_type": "code",
   "execution_count": 70,
   "id": "1cfe4c2c",
   "metadata": {},
   "outputs": [
    {
     "data": {
      "text/plain": [
       "1420"
      ]
     },
     "execution_count": 70,
     "metadata": {},
     "output_type": "execute_result"
    }
   ],
   "source": [
    "total_samples_post_0 = post_res_0.state[3] + post_res_0.state[12]\n",
    "total_samples_post_0"
   ]
  },
  {
   "cell_type": "code",
   "execution_count": 71,
   "id": "f018c2ce",
   "metadata": {},
   "outputs": [
    {
     "data": {
      "text/plain": [
       "+0.0000i|0000> +0.0000i|1000> +0.0000i|0100> +0.8475|1100> +0.0000i|0010> +0.0000i|1010> +0.0000i|0110> +0.0000i|1110> +0.0000i|0001> +0.0000i|1001> +0.0000i|0101> +0.0000i|1101> +0.5307|0011> +0.0000i|1011> +0.0000i|0111> +0.0000i|1111> "
      ]
     },
     "execution_count": 71,
     "metadata": {},
     "output_type": "execute_result"
    }
   ],
   "source": [
    "for i in range(16):\n",
    "    if i == 3:\n",
    "        post_res_0.state[i] = np.sqrt(post_res_0.state[i]/total_samples_post_0)\n",
    "    elif i == 12:\n",
    "        post_res_0.state[i] = np.sqrt(post_res_0.state[i]/total_samples_post_0)\n",
    "    else: \n",
    "        post_res_0.state[i] = 0\n",
    "\n",
    "post_res_0"
   ]
  },
  {
   "cell_type": "code",
   "execution_count": 73,
   "id": "d8608eeb",
   "metadata": {},
   "outputs": [
    {
     "data": {
      "text/plain": [
       "-0.7154794048100186"
      ]
     },
     "execution_count": 73,
     "metadata": {},
     "output_type": "execute_result"
    }
   ],
   "source": [
    "post_E_0 = post_res_0.compute_expectationvalue(H_0)\n",
    "post_E_0"
   ]
  },
  {
   "cell_type": "code",
   "execution_count": null,
   "id": "c4e2cc83",
   "metadata": {},
   "outputs": [],
   "source": []
  },
  {
   "cell_type": "code",
   "execution_count": 77,
   "id": "dc66d75a",
   "metadata": {},
   "outputs": [],
   "source": [
    "post_res_1 = copy.deepcopy(res_1_test)"
   ]
  },
  {
   "cell_type": "code",
   "execution_count": 78,
   "id": "ea51b39f",
   "metadata": {},
   "outputs": [
    {
     "data": {
      "text/plain": [
       "793"
      ]
     },
     "execution_count": 78,
     "metadata": {},
     "output_type": "execute_result"
    }
   ],
   "source": [
    "total_samples_post_1 = post_res_1.state[12] + post_res_1.state[13]\n",
    "total_samples_post_1"
   ]
  },
  {
   "cell_type": "code",
   "execution_count": 79,
   "id": "5ef3ec6d",
   "metadata": {},
   "outputs": [
    {
     "data": {
      "text/plain": [
       "+0.0000i|0000> +0.0000i|1000> +0.0000i|0100> +0.5421|1100> +0.0000i|0010> +0.0000i|1010> +0.0000i|0110> +0.0000i|1110> +0.0000i|0001> +0.0000i|1001> +0.0000i|0101> +0.8403|1101> +0.0000i|0011> +0.0000i|1011> +0.0000i|0111> +0.0000i|1111> "
      ]
     },
     "execution_count": 79,
     "metadata": {},
     "output_type": "execute_result"
    }
   ],
   "source": [
    "for i in range(16):\n",
    "    if i == 12:\n",
    "        post_res_1.state[i] = np.sqrt(post_res_1.state[i]/total_samples_post_1)\n",
    "    elif i == 13:\n",
    "        post_res_1.state[i] = np.sqrt(post_res_1.state[i]/total_samples_post_1)\n",
    "    else: \n",
    "        post_res_1.state[i] = 0\n",
    "\n",
    "post_res_1"
   ]
  },
  {
   "cell_type": "code",
   "execution_count": 80,
   "id": "f143574e",
   "metadata": {},
   "outputs": [
    {
     "data": {
      "text/plain": [
       "{0: 0,\n",
       " 8: 0,\n",
       " 4: 0,\n",
       " 12: 0.5420525188256167,\n",
       " 2: 0,\n",
       " 10: 0,\n",
       " 6: 0,\n",
       " 14: 0,\n",
       " 1: 0,\n",
       " 9: 0,\n",
       " 5: 0,\n",
       " 13: 0.8403446119508381,\n",
       " 3: 0,\n",
       " 11: 0,\n",
       " 7: 0,\n",
       " 15: 0}"
      ]
     },
     "execution_count": 80,
     "metadata": {},
     "output_type": "execute_result"
    }
   ],
   "source": [
    "post_res_1.state"
   ]
  },
  {
   "cell_type": "code",
   "execution_count": 81,
   "id": "9b61eec8",
   "metadata": {},
   "outputs": [
    {
     "data": {
      "text/plain": [
       "-0.10685785786394145"
      ]
     },
     "execution_count": 81,
     "metadata": {},
     "output_type": "execute_result"
    }
   ],
   "source": [
    "post_E_1 = post_res_1.compute_expectationvalue(H_1)\n",
    "post_E_1"
   ]
  },
  {
   "cell_type": "code",
   "execution_count": 82,
   "id": "579033c4",
   "metadata": {},
   "outputs": [
    {
     "data": {
      "text/plain": [
       "-0.82233726267396"
      ]
     },
     "execution_count": 82,
     "metadata": {},
     "output_type": "execute_result"
    }
   ],
   "source": [
    "post_E = post_E_0 + post_E_1\n",
    "post_E"
   ]
  },
  {
   "cell_type": "code",
   "execution_count": null,
   "id": "47f742c6",
   "metadata": {},
   "outputs": [],
   "source": []
  }
 ],
 "metadata": {
  "kernelspec": {
   "display_name": "cdl2",
   "language": "python",
   "name": "cdl2"
  },
  "language_info": {
   "codemirror_mode": {
    "name": "ipython",
    "version": 3
   },
   "file_extension": ".py",
   "mimetype": "text/x-python",
   "name": "python",
   "nbconvert_exporter": "python",
   "pygments_lexer": "ipython3",
   "version": "3.7.1"
  }
 },
 "nbformat": 4,
 "nbformat_minor": 5
}
