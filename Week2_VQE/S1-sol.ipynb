{
 "cells": [
  {
   "cell_type": "markdown",
   "metadata": {},
   "source": [
    "# Review of classical electronic structure methods \n",
    "\n",
    "In order to assess the performance of quantum computing algorithms in addressing the electronic structure problem, we will briefly review a few commonly employed classical electronic structure methods of varying level of approximation. \n",
    "\n",
    "## Hartree-Fock\n",
    "\n",
    "The Hartree-Fock (HF) method employs a **mean-field approximation**, where Coulomb correlation of electrons is neglected. The HF wavefunction is hence restricted to the form of a single Slater determinant, for which the optimal form may be acquired by an optimization of the underlying single particle basis (orbitals). Once the optimal HF orbitals have been found, the HF state may be written as \n",
    "\n",
    "$$ | \\text{HF} \\rangle = \\prod_{p \\in \\text{occ}} \\hat a^\\dagger_p | \\text{vac} \\rangle $$\n",
    "\n",
    "where $\\hat a^\\dagger_p$ creates an electron in the $p^{\\rm{th}}$ optimized HF spin orbital, and  $| \\text{vac} \\rangle$ is the vacuum state (all spin-orbitals unoccupied). Due to the restriction to a single Slater determinant, the HF energy may be obtained very efficiently and can be applied to very large molecules, however it becomes qualitatively incorrect when **electronic correlations** become sufficiently strong. The HF wavefunction is often used as a starting point in more accurate treatments of electronic correlation. \n",
    "\n",
    "## Coupled cluster\n",
    "\n",
    "The Coupled cluster (CC) method introduces electronic correlation to the wavefunction ansatz by operating on the HF reference state with the exponential of excitation operators\n",
    "\n",
    "$$|\\text{CC} \\rangle = e^{\\hat T} | \\text{HF}\\rangle, \\quad \\hat T = \\hat T_1 + \\hat T_2 + ...$$\n",
    "\n",
    "where $\\hat T_1 = \\sum_{ia} t^{a}_i \\hat a^\\dagger_a \\hat a_i$ are referred to as 'singles', $\\hat T_2 = \\sum_{ijab} t^{ab}_{ij} \\hat a^\\dagger_a \\hat a^\\dagger_b \\hat a_i \\hat a_j$ as 'doubles', etc. When the excitation rank is truncated to only singles (S) and doubles (D), $\\hat T = \\hat T_1 + \\hat T_2$, the corresponding ansatz is referred to as CCSD. Since the number of possible single and double excitations for a system of $N$ electrons in $M$ orbitals is polynomial in $M$, one can efficiently solve a system of equations to obtain the optimized CCSD amplitudes. CCSD often gives accurate energies and can be applied to modestly sized chemical systems. However, due to its implementation, it can **violate the variational principle** and give energies lower than the ground state.\n",
    "\n",
    "## Full Configuration Interaction\n",
    "The full configuration interaction (FCI) method yields the **exact ground state energy** within a given basis set. The FCI wavefunction is written as a linear combination of all possible $N$-particle Slater determinants over the orbital basis\n",
    "$$|\\text{FCI} \\rangle =  \\left( \\sum_{ia} C^{a}_i \\hat a^\\dagger_a \\hat a_i + \\sum_{ijab} C^{ab}_{ij} \\hat a^\\dagger_a \\hat a^\\dagger_b \\hat a_i \\hat a_j + ...  \\right) | \\text{HF} \\rangle $$\n",
    "where the sum includes up to $N$-electron excitations, and hence there are an exponential number of coefficients to optimize in $| \\text{FCI} \\rangle$. Due to its **exponential complexity**, FCI is often reserved for only the smallest chemical systems. However, it serves as a useful result to compare to when assessing tractable electronic structure methods."
   ]
  },
  {
   "cell_type": "markdown",
   "metadata": {},
   "source": [
    "# Benchmarking for electronic PESs in minimal basis (STO-3G)\n",
    "\n",
    "We will apply HF, CCSD, and FCI to obtaining the PESs for a few molecular dissociation processes in minimal (STO-3G) basis."
   ]
  },
  {
   "cell_type": "code",
   "execution_count": 3,
   "metadata": {},
   "outputs": [],
   "source": [
    "import numpy as np\n",
    "import matplotlib.pyplot as plt\n",
    "from utility import get_molecular_data, obtain_PES\n",
    "\n",
    "#basis = 'sto-3g'"
   ]
  },
  {
   "cell_type": "code",
   "execution_count": 4,
   "metadata": {},
   "outputs": [],
   "source": [
    "import pyscf\n",
    "from pyscf import gto, cc\n",
    "\n",
    "def obtain_PES_cisd(molstr, bond_lengths, basis):\n",
    "    \n",
    "    PES = np.zeros(len(bond_lengths))\n",
    "    for i in range(len(bond_lengths)):\n",
    "        mol = gto.Mole()\n",
    "        mol.atom = get_molecular_data(molstr, bond_lengths[i], xyz_format=False)\n",
    "        mol.basis = basis\n",
    "        mol.build()\n",
    "\n",
    "        mf = mol.HF().run()\n",
    "        mycc = mf.CISD().run()\n",
    "\n",
    "        PES[i] = mycc.e_tot\n",
    "\n",
    "    return PES"
   ]
  },
  {
   "cell_type": "markdown",
   "metadata": {},
   "source": [
    "## H<sub>2</sub>"
   ]
  },
  {
   "cell_type": "code",
   "execution_count": 90,
   "metadata": {},
   "outputs": [],
   "source": [
    "bond_lengths = np.linspace(0.3,2.6,15)"
   ]
  },
  {
   "cell_type": "code",
   "execution_count": 91,
   "metadata": {},
   "outputs": [
    {
     "name": "stdout",
     "output_type": "stream",
     "text": [
      "converged SCF energy = -0.593827758535727\n",
      "E = -0.6018037107656871 Eh\n",
      "converged SCF energy = -1.0057603262198\n",
      "E = -1.0170077771306705 Eh\n",
      "converged SCF energy = -1.10896782983475\n",
      "E = -1.1251042150883166 Eh\n",
      "converged SCF energy = -1.11181510951713\n",
      "E = -1.1347660694646453 Eh\n",
      "converged SCF energy = -1.07777235059489\n",
      "E = -1.1099340348291356 Eh\n",
      "converged SCF energy = -1.02990908563048\n",
      "E = -1.0743680156814965 Eh\n",
      "converged SCF energy = -0.977677491701263\n",
      "E = -1.0381706056718054 Eh\n",
      "converged SCF energy = -0.926017175738151\n",
      "E = -1.0064869318291216 Eh\n",
      "converged SCF energy = -0.877707132773868\n",
      "E = -0.9815937077228167 Eh\n",
      "converged SCF energy = -0.834145169219331\n",
      "E = -0.963685252321653 Eh\n",
      "converged SCF energy = -0.795861398207394\n",
      "E = -0.9516997975992478 Eh\n",
      "converged SCF energy = -0.762848137620963\n",
      "E = -0.9441160890818658 Eh\n",
      "converged SCF energy = -0.734769171731397\n",
      "E = -0.9395068436631838 Eh\n",
      "converged SCF energy = -0.711116294209069\n",
      "E = -0.9367800530464581 Eh\n",
      "converged SCF energy = -0.691327561197378\n",
      "E = -0.935196030847474 Eh\n"
     ]
    }
   ],
   "source": [
    "#Run FCI\n",
    "FCI_PES = obtain_PES('h2', bond_lengths, basis, method='fci')"
   ]
  },
  {
   "cell_type": "code",
   "execution_count": 92,
   "metadata": {
    "scrolled": false
   },
   "outputs": [
    {
     "name": "stdout",
     "output_type": "stream",
     "text": [
      "converged SCF energy = -0.593827758535727\n",
      "E = -0.5938277585357277 Eh\n",
      "converged SCF energy = -1.0057603262198\n",
      "E = -1.0057603262198032 Eh\n",
      "converged SCF energy = -1.10896782983475\n",
      "E = -1.1089678298347458 Eh\n",
      "converged SCF energy = -1.11181510951713\n",
      "E = -1.1118151095171338 Eh\n",
      "converged SCF energy = -1.07777235059489\n",
      "E = -1.0777723505948869 Eh\n",
      "converged SCF energy = -1.02990908563048\n",
      "E = -1.0299090856304793 Eh\n",
      "converged SCF energy = -0.977677491701263\n",
      "E = -0.977677491701263 Eh\n",
      "converged SCF energy = -0.926017175738151\n",
      "E = -0.9260171757381511 Eh\n",
      "converged SCF energy = -0.877707132773868\n",
      "E = -0.8777071327738677 Eh\n",
      "converged SCF energy = -0.834145169219331\n",
      "E = -0.8341451692193307 Eh\n",
      "converged SCF energy = -0.795861398207394\n",
      "E = -0.7958613982073939 Eh\n",
      "converged SCF energy = -0.762848137620963\n",
      "E = -0.7628481376209626 Eh\n",
      "converged SCF energy = -0.734769171731397\n",
      "E = -0.7347691717313968 Eh\n",
      "converged SCF energy = -0.711116294209069\n",
      "E = -0.7111162942090686 Eh\n",
      "converged SCF energy = -0.691327561197378\n",
      "E = -0.6913275611973779 Eh\n"
     ]
    }
   ],
   "source": [
    "#Run HF\n",
    "HF_PES = obtain_PES('h2', bond_lengths, basis, method='hf')"
   ]
  },
  {
   "cell_type": "code",
   "execution_count": 93,
   "metadata": {},
   "outputs": [
    {
     "name": "stdout",
     "output_type": "stream",
     "text": [
      "converged SCF energy = -0.593827758535727\n",
      "E = -0.6018037177047955 Eh\n",
      "converged SCF energy = -1.0057603262198\n",
      "E = -1.0170078109864513 Eh\n",
      "converged SCF energy = -1.10896782983475\n",
      "E = -1.1251043063250517 Eh\n",
      "converged SCF energy = -1.11181510951713\n",
      "E = -1.1347662612214748 Eh\n",
      "converged SCF energy = -1.07777235059489\n",
      "E = -1.1099340348358913 Eh\n",
      "converged SCF energy = -1.02990908563048\n",
      "E = -1.0743680157481643 Eh\n",
      "converged SCF energy = -0.977677491701263\n",
      "E = -1.0381706056996811 Eh\n",
      "converged SCF energy = -0.926017175738151\n",
      "E = -1.006486931977208 Eh\n",
      "converged SCF energy = -0.877707132773868\n",
      "E = -0.9815937082504602 Eh\n",
      "converged SCF energy = -0.834145169219331\n",
      "E = -0.9636852535394416 Eh\n",
      "converged SCF energy = -0.795861398207394\n",
      "E = -0.9516997992595515 Eh\n",
      "converged SCF energy = -0.762848137620963\n",
      "E = -0.9441160900830426 Eh\n",
      "converged SCF energy = -0.734769171731397\n",
      "E = -0.9395068437898431 Eh\n",
      "converged SCF energy = -0.711116294209069\n",
      "E = -0.9367800530499719 Eh\n",
      "converged SCF energy = -0.691327561197378\n",
      "E = -0.9351959716501703 Eh\n"
     ]
    }
   ],
   "source": [
    "#Run CCSD\n",
    "CCSD_PES = obtain_PES('h2', bond_lengths, basis, method='ccsd')"
   ]
  },
  {
   "cell_type": "code",
   "execution_count": 94,
   "metadata": {},
   "outputs": [
    {
     "name": "stdout",
     "output_type": "stream",
     "text": [
      "converged SCF energy = -0.593827758535727\n",
      "E(RCISD) = -0.6018037107656865  E_corr = -0.007975952229959228\n",
      "converged SCF energy = -1.0057603262026\n",
      "E(RCISD) = -1.017007777113113  E_corr = -0.01124745091051656\n",
      "converged SCF energy = -1.10896782982838\n",
      "E(RCISD) = -1.125104215080939  E_corr = -0.01613638525256272\n",
      "converged SCF energy = -1.11181510952273\n",
      "E(RCISD) = -1.134766069468179  E_corr = -0.02295095994544645\n",
      "converged SCF energy = -1.07777235058363\n",
      "E(RCISD) = -1.109934034820646  E_corr = -0.032161684237021\n",
      "converged SCF energy = -1.02990908562159\n",
      "E(RCISD) = -1.074368015675057  E_corr = -0.04445893005346647\n",
      "converged SCF energy = -0.977677491696692\n",
      "E(RCISD) = -1.038170605668802  E_corr = -0.06049311397211003\n",
      "converged SCF energy = -0.926017175738151\n",
      "E(RCISD) = -1.006486931829122  E_corr = -0.08046975609097082\n",
      "converged SCF energy = -0.877707132777875\n",
      "E(RCISD) = -0.9815937077246695  E_corr = -0.1038865749467943\n",
      "converged SCF energy = -0.834145169226453\n",
      "E(RCISD) = -0.963685252324211  E_corr = -0.1295400830977576\n",
      "converged SCF energy = -0.795861398216684\n",
      "E(RCISD) = -0.9516997976017332  E_corr = -0.1558383993850488\n",
      "converged SCF energy = -0.762848137613014\n",
      "E(RCISD) = -0.9441160890803313  E_corr = -0.1812679514673172\n",
      "converged SCF energy = -0.734769171726914\n",
      "E(RCISD) = -0.9395068436625718  E_corr = -0.2047376719356577\n",
      "converged SCF energy = -0.711116294207188\n",
      "E(RCISD) = -0.9367800530462793  E_corr = -0.2256637588390913\n",
      "converged SCF energy = -0.691327561197378\n",
      "E(RCISD) = -0.9351960308474744  E_corr = -0.2438684696500965\n"
     ]
    }
   ],
   "source": [
    "#Run CISD\n",
    "CISD_PES = obtain_PES_cisd('h2', bond_lengths, basis)"
   ]
  },
  {
   "cell_type": "code",
   "execution_count": 95,
   "metadata": {
    "scrolled": true
   },
   "outputs": [
    {
     "data": {
      "image/png": "[encoded data removed]",
      "text/plain": [
       "<Figure size 432x288 with 1 Axes>"
      ]
     },
     "metadata": {
      "needs_background": "light"
     },
     "output_type": "display_data"
    }
   ],
   "source": [
    "#Plot H2 PESs\n",
    "plt.title('H2 dissociation, STO-3G')\n",
    "plt.xlabel(r'R ($\\AA$)',fontsize=14)\n",
    "plt.ylabel(r'Energy ($E_h$)',fontsize=14)\n",
    "\n",
    "plt.plot(bond_lengths, FCI_PES, label='FCI')\n",
    "plt.scatter(bond_lengths, HF_PES, label='HF', color='orange')\n",
    "plt.scatter(bond_lengths, CCSD_PES, label='CCSD', color='purple')\n",
    "plt.scatter(bond_lengths, CISD_PES, label='CISD', color='green', marker='x')\n",
    "plt.legend()\n",
    "plt.savefig('h2PES.png')"
   ]
  },
  {
   "cell_type": "markdown",
   "metadata": {},
   "source": [
    "## H<sub>2</sub>O symmetric O-H dissociation"
   ]
  },
  {
   "cell_type": "code",
   "execution_count": 77,
   "metadata": {},
   "outputs": [],
   "source": [
    "bond_lengths = np.linspace(0.5,2.7,16)"
   ]
  },
  {
   "cell_type": "code",
   "execution_count": 78,
   "metadata": {},
   "outputs": [
    {
     "name": "stdout",
     "output_type": "stream",
     "text": [
      "converged SCF energy = -73.1294523897688\n",
      "E = -73.14266064419186 Eh\n",
      "converged SCF energy = -74.4038072136675\n",
      "E = -74.42488806699633 Eh\n",
      "converged SCF energy = -74.8405107876161\n",
      "E = -74.87223207670559 Eh\n",
      "converged SCF energy = -74.9584269120699\n",
      "E = -75.00520769545702 Eh\n",
      "converged SCF energy = -74.9444239939003\n",
      "E = -75.01244511917604 Eh\n",
      "converged SCF energy = -74.874155488534\n",
      "E = -74.97090510207308 Eh\n",
      "converged SCF energy = -74.782178857091\n",
      "E = -74.91569532953456 Eh\n",
      "converged SCF energy = -74.6842889762284\n",
      "E = -74.86259644261854 Eh\n",
      "converged SCF energy = -74.5880507303321\n",
      "E = -74.81856626154436 Eh\n",
      "converged SCF energy = -74.4979658003573\n",
      "E = -74.78627575763318 Eh\n",
      "converged SCF energy = -74.4171208092393\n",
      "E = -74.76524339485054 Eh\n",
      "converged SCF energy = -74.3457863823244\n",
      "E = -74.75281932182382 Eh\n",
      "converged SCF energy = -74.2854768042807\n",
      "E = -74.74588327328468 Eh\n",
      "converged SCF energy = -74.2347492688521\n",
      "E = -74.74206972964346 Eh\n",
      "converged SCF energy = -74.276283280256\n",
      "E = -74.73995981164887 Eh\n",
      "SCF not converged.\n",
      "SCF energy = -72.9884799590571\n",
      "E = -74.73878052129359 Eh\n"
     ]
    }
   ],
   "source": [
    "#Run FCI\n",
    "FCI_PES = obtain_PES('h2o', bond_lengths, basis, method='fci')"
   ]
  },
  {
   "cell_type": "code",
   "execution_count": 79,
   "metadata": {},
   "outputs": [
    {
     "name": "stdout",
     "output_type": "stream",
     "text": [
      "converged SCF energy = -73.1294523897688\n",
      "E = -73.1294523897688 Eh\n",
      "converged SCF energy = -74.4038072136675\n",
      "E = -74.40380721366749 Eh\n",
      "converged SCF energy = -74.8405107876161\n",
      "E = -74.8405107876174 Eh\n",
      "converged SCF energy = -74.9584269120699\n",
      "E = -74.95842691206997 Eh\n",
      "converged SCF energy = -74.9444239939003\n",
      "E = -74.9444239939003 Eh\n",
      "converged SCF energy = -74.874155488534\n",
      "E = -74.87415548853399 Eh\n",
      "converged SCF energy = -74.782178857091\n",
      "E = -74.78217885709097 Eh\n",
      "converged SCF energy = -74.6842889762284\n",
      "E = -74.68428897622866 Eh\n",
      "converged SCF energy = -74.5880507303321\n",
      "E = -74.58805073033204 Eh\n",
      "converged SCF energy = -74.4979658003573\n",
      "E = -74.49796580033777 Eh\n",
      "converged SCF energy = -74.4171208092393\n",
      "E = -74.41712080925348 Eh\n",
      "converged SCF energy = -74.3457863823244\n",
      "E = -74.34578638338311 Eh\n",
      "converged SCF energy = -74.2854768042807\n",
      "E = -74.28547680421384 Eh\n",
      "converged SCF energy = -74.2347492688521\n",
      "E = -74.2347492669673 Eh\n",
      "converged SCF energy = -74.276283280256\n",
      "E = -74.27628328025602 Eh\n",
      "SCF not converged.\n",
      "SCF energy = -72.9889109350929\n",
      "E = -72.98475858937813 Eh\n"
     ]
    }
   ],
   "source": [
    "#Run HF\n",
    "HF_PES = obtain_PES('h2o', bond_lengths, basis, method='hf')"
   ]
  },
  {
   "cell_type": "code",
   "execution_count": 80,
   "metadata": {},
   "outputs": [
    {
     "name": "stdout",
     "output_type": "stream",
     "text": [
      "converged SCF energy = -73.1294523897688\n",
      "E = -73.14264199013866 Eh\n",
      "converged SCF energy = -74.4038072136675\n",
      "E = -74.42485390357585 Eh\n",
      "converged SCF energy = -74.8405107876161\n",
      "E = -74.87216882400047 Eh\n",
      "converged SCF energy = -74.9584269120699\n",
      "E = -75.00509279089931 Eh\n",
      "converged SCF energy = -74.9444239939003\n",
      "E = -75.01222646144976 Eh\n",
      "converged SCF energy = -74.874155488534\n",
      "E = -74.97046949951124 Eh\n",
      "converged SCF energy = -74.782178857091\n",
      "E = -74.91492028843297 Eh\n",
      "converged SCF energy = -74.6842889762284\n",
      "E = -74.8616461893924 Eh\n",
      "converged SCF energy = -74.5880507303321\n",
      "E = -74.81867046575337 Eh\n",
      "converged SCF energy = -74.4979658003573\n",
      "E = -74.79077060035095 Eh\n",
      "converged SCF energy = -74.4171208092393\n",
      "E = -74.77682469402923 Eh\n",
      "converged SCF energy = -74.3457863823244\n",
      "E = -74.77765102697164 Eh\n",
      "converged SCF energy = -74.2854768042807\n",
      "E = -74.78046726233683 Eh\n",
      "converged SCF energy = -74.2347492688521\n",
      "E = -74.78389510808155 Eh\n",
      "converged SCF energy = -74.276283280256\n",
      "E = -74.64196261998856 Eh\n",
      "SCF not converged.\n",
      "SCF energy = -72.9884799590571\n",
      "E = -72.9689202632399 Eh\n"
     ]
    }
   ],
   "source": [
    "#Run CCSD\n",
    "CCSD_PES = obtain_PES('h2o', bond_lengths, basis, method='ccsd')"
   ]
  },
  {
   "cell_type": "code",
   "execution_count": 81,
   "metadata": {},
   "outputs": [
    {
     "name": "stdout",
     "output_type": "stream",
     "text": [
      "converged SCF energy = -73.129452389525\n",
      "E(RCISD) = -73.14274671598841  E_corr = -0.01329432646338511\n",
      "converged SCF energy = -74.403807213596\n",
      "E(RCISD) = -74.42491885983789  E_corr = -0.02111164624184704\n",
      "converged SCF energy = -74.8405107875973\n",
      "E(RCISD) = -74.87209344623629  E_corr = -0.03158265863902172\n",
      "converged SCF energy = -74.9584269120653\n",
      "E(RCISD) = -75.00466605744535  E_corr = -0.04623914538002514\n",
      "converged SCF energy = -74.9444239938843\n",
      "E(RCISD) = -75.01090200260734  E_corr = -0.06647800872302265\n",
      "converged SCF energy = -74.8741554885028\n",
      "E(RCISD) = -74.96703013690804  E_corr = -0.09287464840526738\n",
      "converged SCF energy = -74.7821788571095\n",
      "E(RCISD) = -74.90710620691588  E_corr = -0.1249273498064016\n",
      "converged SCF energy = -74.6842889762441\n",
      "E(RCISD) = -74.84581559503829  E_corr = -0.1615266187942286\n",
      "converged SCF energy = -74.5880507303445\n",
      "E(RCISD) = -74.78952076700848  E_corr = -0.2014700366640193\n",
      "converged SCF energy = -74.4979658003666\n",
      "E(RCISD) = -74.74170774763557  E_corr = -0.2437419472689523\n",
      "converged SCF energy = -74.4171208092461\n",
      "E(RCISD) = -74.70235456300252  E_corr = -0.2852337537564231\n",
      "converged SCF energy = -74.3457863823014\n",
      "E(RCISD) = -74.68560139626867  E_corr = -0.3398150139673159\n",
      "converged SCF energy = -74.2854768042622\n",
      "E(RCISD) = -74.67890399617772  E_corr = -0.3934271919155076\n",
      "converged SCF energy = -74.2347492688617\n",
      "E(RCISD) = -74.67697367213904  E_corr = -0.4422244032773369\n",
      "converged SCF energy = -74.2762832802572\n",
      "E(RCISD) = -74.60518750317614  E_corr = -0.3289042229189458\n",
      "SCF not converged.\n",
      "SCF energy = -72.9812085690914\n",
      "E(RCISD) = -74.73817936754723  E_corr = -1.756970798455888\n"
     ]
    }
   ],
   "source": [
    "#Run CISD\n",
    "CISD_PES = obtain_PES_cisd('h2o', bond_lengths, basis)"
   ]
  },
  {
   "cell_type": "code",
   "execution_count": 83,
   "metadata": {},
   "outputs": [
    {
     "data": {
      "image/png": "[encoded data removed]",
      "text/plain": [
       "<Figure size 432x288 with 1 Axes>"
      ]
     },
     "metadata": {
      "needs_background": "light"
     },
     "output_type": "display_data"
    }
   ],
   "source": [
    "#Plot H2O PESs\n",
    "plt.title('H2O symmetric dissociation, STO-3G')\n",
    "plt.xlabel(r'R ($\\AA$)',fontsize=14)\n",
    "plt.ylabel(r'Energy ($E_h$)',fontsize=14)\n",
    "\n",
    "plt.plot(bond_lengths[:-1], FCI_PES[:-1], label='FCI')\n",
    "plt.scatter(bond_lengths[:-1], HF_PES[:-1], label='HF', color='orange')\n",
    "plt.scatter(bond_lengths[:-1], CCSD_PES[:-1], label='CCSD', color='purple')\n",
    "plt.scatter(bond_lengths[:-1], CISD_PES[:-1], label='CISD', color='green', marker='x')\n",
    "plt.legend()\n",
    "plt.savefig('h2oPES.png')"
   ]
  },
  {
   "cell_type": "markdown",
   "metadata": {},
   "source": [
    "<img src=\"figs/testimage.png\">"
   ]
  },
  {
   "cell_type": "code",
   "execution_count": 3,
   "metadata": {},
   "outputs": [],
   "source": [
    "def plotPES(molstr, gpi, gpf, gpstep, titlestr, geomstr):\n",
    "    bond_lengths = np.linspace(gpi,gpf,gpstep)\n",
    "    \n",
    "    FCI_PES = obtain_PES(molstr, bond_lengths, basis, method='fci')\n",
    "    HF_PES = obtain_PES(molstr, bond_lengths, basis, method='hf')\n",
    "    CCSD_PES = obtain_PES(molstr, bond_lengths, basis, method='ccsd')\n",
    "    CISD_PES = obtain_PES_cisd(molstr, bond_lengths, basis)\n",
    "    \n",
    "    plt.title(titlestr+', STO-3G')\n",
    "    plt.xlabel(r''+geomstr,fontsize=14)\n",
    "    plt.ylabel(r'Energy ($E_h$)',fontsize=14)\n",
    "    \n",
    "    plt.plot(bond_lengths, FCI_PES, label='FCI')\n",
    "    plt.scatter(bond_lengths, HF_PES, label='HF', color='orange')\n",
    "    plt.scatter(bond_lengths, CCSD_PES, label='CCSD', color='purple')\n",
    "    plt.scatter(bond_lengths, CISD_PES, label='CISD', color='green', marker='x')\n",
    "    plt.legend()\n",
    "    plt.savefig(molstr+'PES.png')\n",
    "    \n",
    "    return FCI_PES, HF_PES, CCSD_PES, CISD_PES"
   ]
  },
  {
   "cell_type": "code",
   "execution_count": 9,
   "metadata": {},
   "outputs": [
    {
     "name": "stdout",
     "output_type": "stream",
     "text": [
      "converged SCF energy = -7.48594487054729\n",
      "E = -7.503999888792947 Eh\n",
      "converged SCF energy = -7.65180096403893\n",
      "E = -7.669220425771165 Eh\n",
      "converged SCF energy = -7.7521280996913\n",
      "E = -7.768888987795291 Eh\n",
      "converged SCF energy = -7.81108824172071\n",
      "E = -7.827543959588625 Eh\n",
      "converged SCF energy = -7.84372347567863\n",
      "E = -7.860402054120986 Eh\n",
      "converged SCF energy = -7.85924266372177\n",
      "E = -7.87674671394065 Eh\n",
      "converged SCF energy = -7.8633796323259\n",
      "E = -7.882346792005599 Eh\n",
      "converged SCF energy = -7.85985170433424\n",
      "E = -7.880946728933687 Eh\n",
      "converged SCF energy = -7.85115857262827\n",
      "E = -7.875080003893763 Eh\n",
      "converged SCF energy = -7.8390202625196\n",
      "E = -7.866512594262566 Eh\n",
      "converged SCF energy = -7.82463616611775\n",
      "E = -7.856502899886746 Eh\n",
      "converged SCF energy = -7.80885162342906\n",
      "E = -7.845965459822449 Eh\n",
      "converged SCF energy = -7.79227187055305\n",
      "E = -7.835576250493461 Eh\n",
      "converged SCF energy = -7.77534235231831\n",
      "E = -7.825835227962582 Eh\n",
      "converged SCF energy = -7.75840439904961\n",
      "E = -7.817094209493674 Eh\n",
      "converged SCF energy = -7.48594487054729\n",
      "E = -7.485944870547595 Eh\n",
      "converged SCF energy = -7.65180096403893\n",
      "E = -7.651800964116385 Eh\n",
      "converged SCF energy = -7.7521280996913\n",
      "E = -7.75212809969132 Eh\n",
      "converged SCF energy = -7.81108824172071\n",
      "E = -7.811088241720724 Eh\n",
      "converged SCF energy = -7.84372347567863\n",
      "E = -7.843723475678637 Eh\n",
      "converged SCF energy = -7.85924266372177\n",
      "E = -7.859242663721842 Eh\n",
      "converged SCF energy = -7.8633796323259\n",
      "E = -7.863379632325895 Eh\n",
      "converged SCF energy = -7.85985170433424\n",
      "E = -7.859851704334236 Eh\n",
      "converged SCF energy = -7.85115857262827\n",
      "E = -7.8511585726282735 Eh\n",
      "converged SCF energy = -7.8390202625196\n",
      "E = -7.839020262519597 Eh\n",
      "converged SCF energy = -7.82463616611775\n",
      "E = -7.824636166117758 Eh\n",
      "converged SCF energy = -7.80885162342906\n",
      "E = -7.808851623429067 Eh\n",
      "converged SCF energy = -7.79227187055305\n",
      "E = -7.792271870553056 Eh\n",
      "converged SCF energy = -7.77534235231831\n",
      "E = -7.77534235231831 Eh\n",
      "converged SCF energy = -7.75840439904961\n",
      "E = -7.758404399049611 Eh\n",
      "converged SCF energy = -7.48594487054729\n",
      "E = -7.503999888738963 Eh\n",
      "converged SCF energy = -7.65180096403893\n",
      "E = -7.669220425790577 Eh\n",
      "converged SCF energy = -7.7521280996913\n",
      "E = -7.768888987849411 Eh\n",
      "converged SCF energy = -7.81108824172071\n",
      "E = -7.827543948725928 Eh\n",
      "converged SCF energy = -7.84372347567863\n",
      "E = -7.860402054386138 Eh\n",
      "converged SCF energy = -7.85924266372177\n",
      "E = -7.876746714343095 Eh\n",
      "converged SCF energy = -7.8633796323259\n",
      "E = -7.882346792638191 Eh\n",
      "converged SCF energy = -7.85985170433424\n",
      "E = -7.880946729832488 Eh\n",
      "converged SCF energy = -7.85115857262827\n",
      "E = -7.875080003864079 Eh\n",
      "converged SCF energy = -7.8390202625196\n",
      "E = -7.866512591496765 Eh\n",
      "converged SCF energy = -7.82463616611775\n",
      "E = -7.8565028787207645 Eh\n",
      "converged SCF energy = -7.80885162342906\n",
      "E = -7.845965459630103 Eh\n",
      "converged SCF energy = -7.79227187055305\n",
      "E = -7.835576250250076 Eh\n",
      "converged SCF energy = -7.77534235231831\n",
      "E = -7.82583522824278 Eh\n",
      "converged SCF energy = -7.75840439904961\n",
      "E = -7.817094210910351 Eh\n",
      "converged SCF energy = -7.48594487054728\n",
      "E(RCISD) = -7.50503493115029  E_corr = -0.01909006060300889\n",
      "converged SCF energy = -7.6518009640524\n",
      "E(RCISD) = -7.6699206472894  E_corr = -0.01811968323699675\n",
      "converged SCF energy = -7.75212809970741\n",
      "E(RCISD) = -7.769357572843597  E_corr = -0.0172294731361875\n",
      "converged SCF energy = -7.81108824173457\n",
      "E(RCISD) = -7.827863870993793  E_corr = -0.01677562925922538\n",
      "converged SCF energy = -7.8437234756714\n",
      "E(RCISD) = -7.860644795496991  E_corr = -0.01692131982558927\n",
      "converged SCF energy = -7.85924266371986\n",
      "E(RCISD) = -7.876960660635542  E_corr = -0.01771799691568586\n",
      "converged SCF energy = -7.86337963232592\n",
      "E(RCISD) = -7.882557456500856  E_corr = -0.01917782417493599\n",
      "converged SCF energy = -7.85985170433424\n",
      "E(RCISD) = -7.881164115419451  E_corr = -0.02131241108521531\n",
      "converged SCF energy = -7.85115857262715\n",
      "E(RCISD) = -7.875306141134091  E_corr = -0.02414756850693886\n",
      "converged SCF energy = -7.83902026251677\n",
      "E(RCISD) = -7.866746390684914  E_corr = -0.02772612816814885\n",
      "converged SCF energy = -7.82463616611295\n",
      "E(RCISD) = -7.85674253518014  E_corr = -0.03210636906719138\n",
      "converged SCF energy = -7.8088516234342\n",
      "E(RCISD) = -7.846209330896054  E_corr = -0.03735770746185267\n",
      "converged SCF energy = -7.79227187055659\n",
      "E(RCISD) = -7.835823216344183  E_corr = -0.04355134578758837\n",
      "converged SCF energy = -7.7753423523201\n",
      "E(RCISD) = -7.826084515912589  E_corr = -0.05074216359248854\n",
      "converged SCF energy = -7.75840439904961\n",
      "E(RCISD) = -7.817345142274384  E_corr = -0.05894074322477112\n"
     ]
    },
    {
     "data": {
      "text/plain": [
       "(array([-7.50399989, -7.66922043, -7.76888899, -7.82754396, -7.86040205,\n",
       "        -7.87674671, -7.88234679, -7.88094673, -7.87508   , -7.86651259,\n",
       "        -7.8565029 , -7.84596546, -7.83557625, -7.82583523, -7.81709421]),\n",
       " array([-7.48594487, -7.65180096, -7.7521281 , -7.81108824, -7.84372348,\n",
       "        -7.85924266, -7.86337963, -7.8598517 , -7.85115857, -7.83902026,\n",
       "        -7.82463617, -7.80885162, -7.79227187, -7.77534235, -7.7584044 ]),\n",
       " array([-7.50399989, -7.66922043, -7.76888899, -7.82754395, -7.86040205,\n",
       "        -7.87674671, -7.88234679, -7.88094673, -7.87508   , -7.86651259,\n",
       "        -7.85650288, -7.84596546, -7.83557625, -7.82583523, -7.81709421]),\n",
       " array([-7.50503493, -7.66992065, -7.76935757, -7.82786387, -7.8606448 ,\n",
       "        -7.87696066, -7.88255746, -7.88116412, -7.87530614, -7.86674639,\n",
       "        -7.85674254, -7.84620933, -7.83582322, -7.82608452, -7.81734514]))"
      ]
     },
     "execution_count": 9,
     "metadata": {},
     "output_type": "execute_result"
    },
    {
     "data": {
      "image/png": "[encoded data removed]",
      "text/plain": [
       "<Figure size 432x288 with 1 Axes>"
      ]
     },
     "metadata": {
      "needs_background": "light"
     },
     "output_type": "display_data"
    }
   ],
   "source": [
    "# LiH\n",
    "plotPES('lih',0.7,3.5,15,'LiH','R ($\\AA$)')"
   ]
  },
  {
   "cell_type": "code",
   "execution_count": 10,
   "metadata": {},
   "outputs": [
    {
     "name": "stdout",
     "output_type": "stream",
     "text": [
      "converged SCF energy = -105.697412212736\n",
      "E = -105.76477992786926 Eh\n",
      "converged SCF energy = -106.629498501663\n",
      "E = -106.71343613490927 Eh\n",
      "converged SCF energy = -107.13522911565\n",
      "E = -107.23778378366097 Eh\n",
      "converged SCF energy = -107.385949963195\n",
      "E = -107.51006873394269 Eh\n",
      "converged SCF energy = -107.485623465598\n",
      "E = -107.63468773306917 Eh\n",
      "converged SCF energy = -107.497723269674\n",
      "E = -107.67525059052711 Eh\n",
      "converged SCF energy = -107.46073362216\n",
      "E = -107.67021208078154 Eh\n",
      "converged SCF energy = -107.39763209969\n",
      "E = -107.64248667335121 Eh\n",
      "converged SCF energy = -107.321862235985\n",
      "E = -107.60543135286066 Eh\n",
      "converged SCF energy = -107.241164238016\n",
      "E = -107.56694555601618 Eh\n",
      "converged SCF energy = -107.160015475747\n",
      "E = -107.53174558968902 Eh\n",
      "converged SCF energy = -107.081098046621\n",
      "E = -107.50256719687252 Eh\n",
      "converged SCF energy = -107.006089304762\n",
      "E = -107.48048779771547 Eh\n",
      "converged SCF energy = -106.936033315463\n",
      "E = -107.46511799866917 Eh\n",
      "converged SCF energy = -106.871504045608\n",
      "E = -107.45513894838092 Eh\n",
      "converged SCF energy = -105.697412212736\n",
      "E = -105.6974122127362 Eh\n",
      "converged SCF energy = -106.629498501663\n",
      "E = -106.62949850166274 Eh\n",
      "converged SCF energy = -107.13522911565\n",
      "E = -107.13522911564966 Eh\n",
      "converged SCF energy = -107.385949963195\n",
      "E = -107.38594996319536 Eh\n",
      "converged SCF energy = -107.485623465598\n",
      "E = -107.4856234655984 Eh\n",
      "converged SCF energy = -107.497723269674\n",
      "E = -107.49772326967384 Eh\n",
      "converged SCF energy = -107.46073362216\n",
      "E = -107.46073362215992 Eh\n",
      "converged SCF energy = -107.39763209969\n",
      "E = -107.39763209969021 Eh\n",
      "converged SCF energy = -107.321862235985\n",
      "E = -107.32186223598539 Eh\n",
      "converged SCF energy = -107.241164238016\n",
      "E = -107.24116423801622 Eh\n",
      "converged SCF energy = -107.160015475747\n",
      "E = -107.1600154757474 Eh\n",
      "converged SCF energy = -107.081098046621\n",
      "E = -107.08109804662095 Eh\n",
      "converged SCF energy = -107.006089304762\n",
      "E = -107.00608930476179 Eh\n",
      "converged SCF energy = -106.936033315463\n",
      "E = -106.93603331546348 Eh\n",
      "converged SCF energy = -106.871504045608\n",
      "E = -106.87150404560842 Eh\n",
      "converged SCF energy = -105.697412212736\n",
      "E = -105.7640351823964 Eh\n",
      "converged SCF energy = -106.629498501663\n",
      "E = -106.7123374532653 Eh\n",
      "converged SCF energy = -107.13522911565\n",
      "E = -107.23618075848171 Eh\n",
      "converged SCF energy = -107.385949963195\n",
      "E = -107.50771397150467 Eh\n",
      "converged SCF energy = -107.485623465598\n",
      "E = -107.63120707632916 Eh\n",
      "converged SCF energy = -107.497723269674\n",
      "E = -107.67013526546997 Eh\n",
      "converged SCF energy = -107.46073362216\n",
      "E = -107.66287540503629 Eh\n",
      "converged SCF energy = -107.39763209969\n",
      "E = -107.63245330360164 Eh\n",
      "converged SCF energy = -107.321862235985\n",
      "E = -107.59274478363604 Eh\n",
      "converged SCF energy = -107.241164238016\n",
      "E = -107.552976932494 Eh\n",
      "converged SCF energy = -107.160015475747\n",
      "E = -107.52051436159617 Eh\n",
      "converged SCF energy = -107.081098046621\n",
      "E = -107.50237891564471 Eh\n",
      "converged SCF energy = -107.006089304762\n",
      "E = -107.50483272640513 Eh\n",
      "converged SCF energy = -106.936033315463\n",
      "E = -107.52737405228129 Eh\n",
      "converged SCF energy = -106.871504045608\n",
      "E = -107.55698714298578 Eh\n",
      "converged SCF energy = -105.697412212736\n",
      "E(RCISD) = -105.7632272478899  E_corr = -0.06581503515367704\n",
      "converged SCF energy = -106.629498501348\n",
      "E(RCISD) = -106.7107671347758  E_corr = -0.08126863342807589\n",
      "converged SCF energy = -107.135229115704\n",
      "E(RCISD) = -107.2334160560607  E_corr = -0.09818694035640974\n",
      "converged SCF energy = -107.385949963145\n",
      "E(RCISD) = -107.5031171541281  E_corr = -0.1171671909826633\n",
      "converged SCF energy = -107.485623465613\n",
      "E(RCISD) = -107.6239027229213  E_corr = -0.1382792573082368\n",
      "converged SCF energy = -107.497723269677\n",
      "E(RCISD) = -107.6589901168732  E_corr = -0.1612668471966079\n",
      "converged SCF energy = -107.460733622135\n",
      "E(RCISD) = -107.6464691011221  E_corr = -0.1857354789865819\n",
      "converged SCF energy = -107.39763209969\n",
      "E(RCISD) = -107.6089447095028  E_corr = -0.211312609812588\n",
      "converged SCF energy = -107.321862236022\n",
      "E(RCISD) = -107.5596412303009  E_corr = -0.2377789942790776\n",
      "converged SCF energy = -107.241164238004\n",
      "E(RCISD) = -107.5063047643615  E_corr = -0.265140526357775\n",
      "converged SCF energy = -107.160015475772\n",
      "E(RCISD) = -107.4536006800307  E_corr = -0.293585204258601\n",
      "converged SCF energy = -107.081098046597\n",
      "E(RCISD) = -107.4043520861391  E_corr = -0.3232540395420073\n",
      "converged SCF energy = -107.006089304773\n",
      "E(RCISD) = -107.359954777113  E_corr = -0.3538654723399154\n",
      "converged SCF energy = -106.936033315432\n",
      "E(RCISD) = -107.3205781012873  E_corr = -0.3845447858549178\n",
      "converged SCF energy = -106.871504045608\n",
      "E(RCISD) = -107.2856716712655  E_corr = -0.4141676256571158\n"
     ]
    },
    {
     "data": {
      "text/plain": [
       "(array([-105.76477993, -106.71343613, -107.23778378, -107.51006873,\n",
       "        -107.63468773, -107.67525059, -107.67021208, -107.64248667,\n",
       "        -107.60543135, -107.56694556, -107.53174559, -107.5025672 ,\n",
       "        -107.4804878 , -107.465118  , -107.45513895]),\n",
       " array([-105.69741221, -106.6294985 , -107.13522912, -107.38594996,\n",
       "        -107.48562347, -107.49772327, -107.46073362, -107.3976321 ,\n",
       "        -107.32186224, -107.24116424, -107.16001548, -107.08109805,\n",
       "        -107.0060893 , -106.93603332, -106.87150405]),\n",
       " array([-105.76403518, -106.71233745, -107.23618076, -107.50771397,\n",
       "        -107.63120708, -107.67013527, -107.66287541, -107.6324533 ,\n",
       "        -107.59274478, -107.55297693, -107.52051436, -107.50237892,\n",
       "        -107.50483273, -107.52737405, -107.55698714]),\n",
       " array([-105.76322725, -106.71076713, -107.23341606, -107.50311715,\n",
       "        -107.62390272, -107.65899012, -107.6464691 , -107.60894471,\n",
       "        -107.55964123, -107.50630476, -107.45360068, -107.40435209,\n",
       "        -107.35995478, -107.3205781 , -107.28567167]))"
      ]
     },
     "execution_count": 10,
     "metadata": {},
     "output_type": "execute_result"
    },
    {
     "data": {
      "image/png": "[encoded data removed]",
      "text/plain": [
       "<Figure size 432x288 with 1 Axes>"
      ]
     },
     "metadata": {
      "needs_background": "light"
     },
     "output_type": "display_data"
    }
   ],
   "source": [
    "# N_2\n",
    "plotPES('n2',0.7,2.0,15,'N2','R ($\\AA$)')"
   ]
  },
  {
   "cell_type": "code",
   "execution_count": 18,
   "metadata": {},
   "outputs": [
    {
     "name": "stdout",
     "output_type": "stream",
     "text": [
      "converged SCF energy = -1.21435082088611\n",
      "E = -1.2303992535610213 Eh\n",
      "converged SCF energy = -1.79485451842254\n",
      "E = -1.8142968742727001 Eh\n",
      "converged SCF energy = -2.06725921436191\n",
      "E = -2.0910653313247676 Eh\n",
      "converged SCF energy = -2.18979444991553\n",
      "E = -2.2190102615033895 Eh\n",
      "converged SCF energy = -2.23197126999915\n",
      "E = -2.2677340039997884 Eh\n",
      "converged SCF energy = -2.22927244227699\n",
      "E = -2.272824869535521 Eh\n",
      "converged SCF energy = -2.20130062179891\n",
      "E = -2.254024048633672 Eh\n",
      "converged SCF energy = -2.15907337077447\n",
      "E = -2.22253097538864 Eh\n",
      "converged SCF energy = -2.1088556966568\n",
      "E = -2.184817067654245 Eh\n",
      "converged SCF energy = -2.05441285326005\n",
      "E = -2.1448370265679806 Eh\n",
      "converged SCF energy = -1.99822019800551\n",
      "E = -2.1051935950268335 Eh\n",
      "converged SCF energy = -1.94201868667331\n",
      "E = -2.06765814243447 Eh\n",
      "converged SCF energy = -1.8870498878166\n",
      "E = -2.033385829696675 Eh\n",
      "converged SCF energy = -1.83417400833163\n",
      "E = -2.003029363453713 Eh\n",
      "converged SCF energy = -1.78395437767631\n",
      "E = -1.9768345027522003 Eh\n",
      "converged SCF energy = -1.73672842437634\n",
      "E = -1.9547363178081523 Eh\n",
      "converged SCF energy = -1.69266565589712\n",
      "E = -1.9364534030176828 Eh\n",
      "converged SCF energy = -1.65181216888827\n",
      "E = -1.9215734674912852 Eh\n",
      "converged SCF energy = -1.61412367295847\n",
      "E = -1.9096248867264585 Eh\n",
      "converged SCF energy = -1.57949009307728\n",
      "E = -1.9001311715537237 Eh\n",
      "converged SCF energy = -1.5477544159341\n",
      "E = -1.8926482052606945 Eh\n",
      "converged SCF energy = -1.51872747579018\n",
      "E = -1.8867870091769148 Eh\n",
      "converged SCF energy = -1.49219951367041\n",
      "E = -1.8822275047503005 Eh\n",
      "converged SCF energy = -1.46794882976842\n",
      "E = -1.8787321979469331 Eh\n",
      "converged SCF energy = -1.44574766000001\n",
      "E = -1.8761751073481954 Eh\n",
      "converged SCF energy = -1.42536540452625\n",
      "E = -1.8746014429180218 Eh\n",
      "converged SCF energy = -1.41474235066432\n",
      "E = -1.8742333946804302 Eh\n",
      "converged SCF energy = -1.43421446665925\n",
      "E = -1.8751676851414365 Eh\n",
      "converged SCF energy = -1.45537653672257\n",
      "E = -1.8771977099978179 Eh\n",
      "converged SCF energy = -1.4784602565937\n",
      "E = -1.8801654740966756 Eh\n",
      "converged SCF energy = -1.21435082088611\n",
      "E = -1.214350820886116 Eh\n",
      "converged SCF energy = -1.79485451842254\n",
      "E = -1.794854518422543 Eh\n",
      "converged SCF energy = -2.06725921436191\n",
      "E = -2.0672592143619126 Eh\n",
      "converged SCF energy = -2.18979444991553\n",
      "E = -2.189794449915537 Eh\n",
      "converged SCF energy = -2.23197126999915\n",
      "E = -2.2319712699991467 Eh\n",
      "converged SCF energy = -2.22927244227699\n",
      "E = -2.2292724422769936 Eh\n",
      "converged SCF energy = -2.20130062179891\n",
      "E = -2.201300621798905 Eh\n",
      "converged SCF energy = -2.15907337077447\n",
      "E = -2.1590733707744674 Eh\n",
      "converged SCF energy = -2.1088556966568\n",
      "E = -2.108855696656805 Eh\n",
      "converged SCF energy = -2.05441285326005\n",
      "E = -2.0544128532600467 Eh\n",
      "converged SCF energy = -1.99822019800551\n",
      "E = -1.9982201980055074 Eh\n",
      "converged SCF energy = -1.94201868667331\n",
      "E = -1.9420186866733096 Eh\n",
      "converged SCF energy = -1.8870498878166\n",
      "E = -1.8870498878166015 Eh\n",
      "converged SCF energy = -1.83417400833163\n",
      "E = -1.8341740083316307 Eh\n",
      "converged SCF energy = -1.78395437767631\n",
      "E = -1.78395437767631 Eh\n",
      "converged SCF energy = -1.73672842437634\n",
      "E = -1.736728424376338 Eh\n",
      "converged SCF energy = -1.69266565589712\n",
      "E = -1.6926656558971185 Eh\n",
      "converged SCF energy = -1.65181216888827\n",
      "E = -1.65181216888827 Eh\n",
      "converged SCF energy = -1.61412367295847\n",
      "E = -1.6141236729584714 Eh\n",
      "converged SCF energy = -1.57949009307728\n",
      "E = -1.5794900930772768 Eh\n",
      "converged SCF energy = -1.5477544159341\n",
      "E = -1.5477544159341012 Eh\n",
      "converged SCF energy = -1.51872747579018\n",
      "E = -1.518727475790179 Eh\n",
      "converged SCF energy = -1.49219951367041\n",
      "E = -1.4921995136704096 Eh\n",
      "converged SCF energy = -1.46794882976842\n",
      "E = -1.4679488297684171 Eh\n",
      "converged SCF energy = -1.44574766000001\n",
      "E = -1.4457476600000099 Eh\n",
      "converged SCF energy = -1.42536540452625\n",
      "E = -1.425365404526249 Eh\n",
      "converged SCF energy = -1.41474235066432\n",
      "E = -1.414742350664315 Eh\n",
      "converged SCF energy = -1.43421446665925\n",
      "E = -1.4342144666592505 Eh\n",
      "converged SCF energy = -1.45537653672257\n",
      "E = -1.4553765367225682 Eh\n",
      "converged SCF energy = -1.4784602565937\n",
      "E = -1.4784602565936997 Eh\n",
      "converged SCF energy = -1.21435082088611\n",
      "E = -1.2303992446701555 Eh\n",
      "converged SCF energy = -1.79485451842254\n",
      "E = -1.8142968650551632 Eh\n",
      "converged SCF energy = -2.06725921436191\n",
      "E = -2.0910653053601336 Eh\n",
      "converged SCF energy = -2.18979444991553\n",
      "E = -2.2190102191388528 Eh\n",
      "converged SCF energy = -2.23197126999915\n",
      "E = -2.267733936311277 Eh\n",
      "converged SCF energy = -2.22927244227699\n",
      "E = -2.2728247563985473 Eh\n",
      "converged SCF energy = -2.20130062179891\n",
      "E = -2.254024071492909 Eh\n",
      "converged SCF energy = -2.15907337077447\n",
      "E = -2.22253083347502 Eh\n",
      "converged SCF energy = -2.1088556966568\n",
      "E = -2.1848167470856144 Eh\n",
      "converged SCF energy = -2.05441285326005\n",
      "E = -2.1448366309560027 Eh\n",
      "converged SCF energy = -1.99822019800551\n",
      "E = -2.1051923232338563 Eh\n",
      "converged SCF energy = -1.94201868667331\n",
      "E = -2.0676559245893538 Eh\n",
      "converged SCF energy = -1.8870498878166\n",
      "E = -2.0333822989266737 Eh\n",
      "converged SCF energy = -1.83417400833163\n",
      "E = -2.0030242625550274 Eh\n",
      "converged SCF energy = -1.78395437767631\n",
      "E = -1.9768278962262018 Eh\n",
      "converged SCF energy = -1.73672842437634\n",
      "E = -1.954728878095869 Eh\n",
      "converged SCF energy = -1.69266565589712\n",
      "E = -1.9364468558940588 Eh\n",
      "converged SCF energy = -1.65181216888827\n",
      "E = -1.9215716173555424 Eh\n",
      "converged SCF energy = -1.61412367295847\n",
      "E = -1.9096367076761402 Eh\n",
      "converged SCF energy = -1.57949009307728\n",
      "E = -1.9001804528836987 Eh\n",
      "converged SCF energy = -1.5477544159341\n",
      "E = -1.8928035956182556 Eh\n",
      "converged SCF energy = -1.51872747579018\n",
      "E = -1.8872496927230231 Eh\n",
      "converged SCF energy = -1.49219951367041\n",
      "E = -1.8835401304611867 Eh\n",
      "converged SCF energy = -1.46794882976842\n",
      "E = -1.8819867440500393 Eh\n",
      "converged SCF energy = -1.44574766000001\n",
      "E = -1.8826136362567314 Eh\n",
      "converged SCF energy = -1.42536540452625\n",
      "E = -1.88487405987444 Eh\n",
      "converged SCF energy = -1.41474235066432\n",
      "E = -1.8866431740362501 Eh\n",
      "converged SCF energy = -1.43421446665925\n",
      "E = -1.883706412311879 Eh\n",
      "converged SCF energy = -1.45537653672257\n",
      "E = -1.8820945324163412 Eh\n",
      "converged SCF energy = -1.4784602565937\n",
      "E = -1.8823926560958075 Eh\n",
      "converged SCF energy = -1.21435082080451\n",
      "E(RCISD) = -1.230359659563578  E_corr = -0.01600883875906903\n",
      "converged SCF energy = -1.79485451808962\n",
      "E(RCISD) = -1.814229611946287  E_corr = -0.01937509385666195\n",
      "converged SCF energy = -2.06725921448744\n",
      "E(RCISD) = -2.090948217916293  E_corr = -0.02368900342885259\n",
      "converged SCF energy = -2.18979444985814\n",
      "E(RCISD) = -2.218806124917022  E_corr = -0.0290116750588796\n",
      "converged SCF energy = -2.23197126999622\n",
      "E(RCISD) = -2.267382639766878  E_corr = -0.0354113697706614\n",
      "converged SCF energy = -2.22927244225837\n",
      "E(RCISD) = -2.272232093186475  E_corr = -0.04295965092810299\n",
      "converged SCF energy = -2.20130062182319\n",
      "E(RCISD) = -2.253046343703939  E_corr = -0.05174572188075048\n",
      "converged SCF energy = -2.15907337081953\n",
      "E(RCISD) = -2.220953966555232  E_corr = -0.06188059573569723\n",
      "converged SCF energy = -2.10885569666503\n",
      "E(RCISD) = -2.18232789948352  E_corr = -0.07347220281849426\n",
      "converged SCF energy = -2.05441285327113\n",
      "E(RCISD) = -2.140994483471696  E_corr = -0.08658163020056928\n",
      "converged SCF energy = -1.99822019806873\n",
      "E(RCISD) = -2.099403892994129  E_corr = -0.101183694925398\n",
      "converged SCF energy = -1.94201868665752\n",
      "E(RCISD) = -2.059166817467998  E_corr = -0.1171481308104808\n",
      "converged SCF energy = -1.88704988783101\n",
      "E(RCISD) = -2.021295105935971  E_corr = -0.1342452181049583\n",
      "converged SCF energy = -1.83417400838813\n",
      "E(RCISD) = -1.986344812711484  E_corr = -0.1521708043233551\n",
      "converged SCF energy = -1.78395437770357\n",
      "E(RCISD) = -1.954536064940728  E_corr = -0.170581687237162\n",
      "converged SCF energy = -1.73672842439893\n",
      "E(RCISD) = -1.925860551767157  E_corr = -0.1891321273682305\n",
      "converged SCF energy = -1.69266565589251\n",
      "E(RCISD) = -1.90017024004929  E_corr = -0.2075045841567769\n",
      "converged SCF energy = -1.65181216891798\n",
      "E(RCISD) = -1.87724383216914  E_corr = -0.225431663251159\n",
      "converged SCF energy = -1.61412367295537\n",
      "E(RCISD) = -1.85684206976124  E_corr = -0.2427183968058663\n",
      "converged SCF energy = -1.57949009304476\n",
      "E(RCISD) = -1.848118091513506  E_corr = -0.2686279984687436\n",
      "converged SCF energy = -1.54775441589998\n",
      "E(RCISD) = -1.852631267352039  E_corr = -0.304876851452063\n"
     ]
    },
    {
     "name": "stdout",
     "output_type": "stream",
     "text": [
      "converged SCF energy = -1.51872747579745\n",
      "E(RCISD) = -1.85623499641387  E_corr = -0.3375075206164204\n",
      "converged SCF energy = -1.49219951365743\n",
      "E(RCISD) = -1.85915152549867  E_corr = -0.3669520118412435\n",
      "converged SCF energy = -1.46794882975373\n",
      "E(RCISD) = -1.861579027247588  E_corr = -0.3936301974938585\n",
      "converged SCF energy = -1.44574766000701\n",
      "E(RCISD) = -1.86368342949873  E_corr = -0.4179357694917212\n",
      "converged SCF energy = -1.42536540451532\n",
      "E(RCISD) = -1.865609219055703  E_corr = -0.4402438145403795\n",
      "converged SCF energy = -1.41474235068972\n",
      "E(RCISD) = -1.866651337820255  E_corr = -0.4519089871305392\n",
      "converged SCF energy = -1.43421446663892\n",
      "E(RCISD) = -1.864766672966206  E_corr = -0.430552206327282\n",
      "converged SCF energy = -1.45537653671489\n",
      "E(RCISD) = -1.862778413648977  E_corr = -0.4074018769340906\n",
      "converged SCF energy = -1.47846025657161\n",
      "E(RCISD) = -1.860549268543099  E_corr = -0.3820890119714928\n"
     ]
    },
    {
     "data": {
      "text/plain": [
       "(array([-1.23039925, -1.81429687, -2.09106533, -2.21901026, -2.267734  ,\n",
       "        -2.27282487, -2.25402405, -2.22253098, -2.18481707, -2.14483703,\n",
       "        -2.1051936 , -2.06765814, -2.03338583, -2.00302936, -1.9768345 ,\n",
       "        -1.95473632, -1.9364534 , -1.92157347, -1.90962489, -1.90013117,\n",
       "        -1.89264821, -1.88678701, -1.8822275 , -1.8787322 , -1.87617511,\n",
       "        -1.87460144, -1.87423339, -1.87516769, -1.87719771, -1.88016547]),\n",
       " array([-1.21435082, -1.79485452, -2.06725921, -2.18979445, -2.23197127,\n",
       "        -2.22927244, -2.20130062, -2.15907337, -2.1088557 , -2.05441285,\n",
       "        -1.9982202 , -1.94201869, -1.88704989, -1.83417401, -1.78395438,\n",
       "        -1.73672842, -1.69266566, -1.65181217, -1.61412367, -1.57949009,\n",
       "        -1.54775442, -1.51872748, -1.49219951, -1.46794883, -1.44574766,\n",
       "        -1.4253654 , -1.41474235, -1.43421447, -1.45537654, -1.47846026]),\n",
       " array([-1.23039924, -1.81429687, -2.09106531, -2.21901022, -2.26773394,\n",
       "        -2.27282476, -2.25402407, -2.22253083, -2.18481675, -2.14483663,\n",
       "        -2.10519232, -2.06765592, -2.0333823 , -2.00302426, -1.9768279 ,\n",
       "        -1.95472888, -1.93644686, -1.92157162, -1.90963671, -1.90018045,\n",
       "        -1.8928036 , -1.88724969, -1.88354013, -1.88198674, -1.88261364,\n",
       "        -1.88487406, -1.88664317, -1.88370641, -1.88209453, -1.88239266]),\n",
       " array([-1.23035966, -1.81422961, -2.09094822, -2.21880612, -2.26738264,\n",
       "        -2.27223209, -2.25304634, -2.22095397, -2.1823279 , -2.14099448,\n",
       "        -2.09940389, -2.05916682, -2.02129511, -1.98634481, -1.95453606,\n",
       "        -1.92586055, -1.90017024, -1.87724383, -1.85684207, -1.84811809,\n",
       "        -1.85263127, -1.856235  , -1.85915153, -1.86157903, -1.86368343,\n",
       "        -1.86560922, -1.86665134, -1.86476667, -1.86277841, -1.86054927]))"
      ]
     },
     "execution_count": 18,
     "metadata": {},
     "output_type": "execute_result"
    },
    {
     "data": {
      "image/png": "[encoded data removed]",
      "text/plain": [
       "<Figure size 432x288 with 1 Axes>"
      ]
     },
     "metadata": {
      "needs_background": "light"
     },
     "output_type": "display_data"
    }
   ],
   "source": [
    "# H_4\n",
    "plotPES('h4',10.0,100.0,30,'H4','Angle (degree)')"
   ]
  },
  {
   "cell_type": "markdown",
   "metadata": {},
   "source": [
    "# Check separability/size-consistency"
   ]
  },
  {
   "cell_type": "code",
   "execution_count": 17,
   "metadata": {
    "scrolled": true
   },
   "outputs": [
    {
     "name": "stdout",
     "output_type": "stream",
     "text": [
      "converged SCF energy = -1.1167061372361\n",
      "E = -1.1167061372361042 Eh\n",
      "converged SCF energy = -2.23341227446985\n",
      "E = -2.2334122744698566 Eh\n",
      "converged SCF energy = -1.1167061372361\n",
      "E = -1.1372745709766414 Eh\n",
      "converged SCF energy = -2.23341227446985\n",
      "E = -2.2745490661743397 Eh\n",
      "converged SCF energy = -1.1167061372361\n",
      "E(RCISD) = -1.137274405529439  E_corr = -0.02056826829333388\n",
      "converged SCF energy = -2.23341227446985\n",
      "E(RCISD) = -2.27403870233525  E_corr = -0.04062642786539514\n"
     ]
    }
   ],
   "source": [
    "r0 = 0.741 #H2 equilibrium bond length\n",
    "HF_PES = obtain_PES('h2', [r0], basis, method='hf')\n",
    "HF_PES2 = obtain_PES('h2x2', [100], basis, method='hf')\n",
    "CCSD_PES = obtain_PES('h2', [r0], basis, method='ccsd')\n",
    "CCSD_PES2 = obtain_PES('h2x2', [100], basis, method='ccsd')\n",
    "CISD_PES = obtain_PES_cisd('h2', [r0], basis)\n",
    "CISD_PES2 = obtain_PES_cisd('h2x2', [100], basis)\n",
    "\n",
    "pes = np.vstack((HF_PES, CCSD_PES, CISD_PES))\n",
    "pes2 = np.vstack((HF_PES2, CCSD_PES2, CISD_PES2))"
   ]
  },
  {
   "cell_type": "code",
   "execution_count": 25,
   "metadata": {
    "scrolled": true
   },
   "outputs": [
    {
     "name": "stdout",
     "output_type": "stream",
     "text": [
      "[[-1.11670614e+00 -2.23341227e+00 -2.23341227e+00  2.35189646e-12\n",
      "  -1.05305074e-12]\n",
      " [-1.13727457e+00 -2.27454914e+00 -2.27454907e+00  7.57789431e-08\n",
      "  -3.33160292e-08]\n",
      " [-1.13727441e+00 -2.27454881e+00 -2.27403870e+00  5.10108724e-04\n",
      "  -2.24318400e-04]]\n"
     ]
    }
   ],
   "source": [
    "print(np.hstack((pes, 2*pes, pes2, pes2-2*pes,(pes2-2*pes)/pes2)))"
   ]
  },
  {
   "cell_type": "code",
   "execution_count": 32,
   "metadata": {},
   "outputs": [
    {
     "name": "stdout",
     "output_type": "stream",
     "text": [
      "converged SCF energy = -1.88429358732682\n",
      "E(RCISD) = -1.928493961363955  E_corr = -0.04420037403713462\n",
      "converged SCF energy = -2.23341218726773\n",
      "E(RCISD) = -2.274038651018524  E_corr = -0.04062646375079299\n",
      "converged SCF energy = -2.23341227095383\n",
      "E(RCISD) = -2.274038699816938  E_corr = -0.04062642886310877\n",
      "converged SCF energy = -2.23341227396594\n",
      "E(RCISD) = -2.274038701951777  E_corr = -0.0406264279858338\n",
      "converged SCF energy = -2.23341227434653\n",
      "E(RCISD) = -2.274038702238614  E_corr = -0.04062642789207924\n",
      "converged SCF energy = -2.23341227442989\n",
      "E(RCISD) = -2.274038702303403  E_corr = -0.04062642787351065\n",
      "converged SCF energy = -2.23341227445488\n",
      "E(RCISD) = -2.274038702323189  E_corr = -0.04062642786830792\n",
      "converged SCF energy = -2.23341227446409\n",
      "E(RCISD) = -2.274038702330579  E_corr = -0.04062642786648493\n",
      "converged SCF energy = -2.23341227446801\n",
      "E(RCISD) = -2.274038702333748  E_corr = -0.04062642786573725\n",
      "converged SCF energy = -2.23341227446985\n",
      "E(RCISD) = -2.27403870233525  E_corr = -0.04062642786539514\n"
     ]
    },
    {
     "data": {
      "text/plain": [
       "array([-1.92849396, -2.27403865, -2.2740387 , -2.2740387 , -2.2740387 ,\n",
       "       -2.2740387 , -2.2740387 , -2.2740387 , -2.2740387 , -2.2740387 ])"
      ]
     },
     "execution_count": 32,
     "metadata": {},
     "output_type": "execute_result"
    }
   ],
   "source": [
    "obtain_PES_cisd('h2x2', np.linspace(0.5,100,10), basis)"
   ]
  },
  {
   "cell_type": "markdown",
   "metadata": {},
   "source": [
    "# Convergence to FCI"
   ]
  },
  {
   "cell_type": "code",
   "execution_count": 25,
   "metadata": {},
   "outputs": [
    {
     "name": "stdout",
     "output_type": "stream",
     "text": [
      "\n",
      "Basis:  sto3g\n",
      "converged SCF energy = -1.1167061372361\n",
      "E(RCISD) = -1.137274405529439  E_corr = -0.02056826829333388\n",
      "E(CCSD) = -1.137274570976642  E_corr = -0.02056843374053722\n",
      "CCSD(T) correction = 0\n",
      "\n",
      "Basis:  ccpvdz\n",
      "converged SCF energy = -1.12871101091532\n",
      "E(RCISD) = -1.163402961063555  E_corr = -0.03469195014823098\n",
      "E(CCSD) = -1.163402967174229  E_corr = -0.0346919562589045\n",
      "CCSD(T) correction = -1.39836819104428e-19\n",
      "\n",
      "Basis:  ccpvtz\n",
      "converged SCF energy = -1.13295913881568\n",
      "E(RCISD) = -1.172334937115365  E_corr = -0.03937579829968323\n",
      "E(CCSD) = -1.172334901959214  E_corr = -0.03937576314353177\n",
      "CCSD(T) correction = -1.08386733924227e-19\n",
      "\n",
      "Basis:  ccpvqz\n",
      "converged SCF energy = -1.1334575087222\n",
      "E(RCISD) = -1.173795980839239  E_corr = -0.04033847211703625\n",
      "E(CCSD) = -1.173795979406604  E_corr = -0.04033847068440132\n",
      "CCSD(T) correction = -4.56109503411649e-20\n",
      "\n",
      "Basis:  ccpv5z\n",
      "converged SCF energy = -1.13360662616691\n",
      "E(RCISD) = -1.174222792991579  E_corr = -0.04061616682466375\n",
      "E(CCSD) = -1.174222790853298  E_corr = -0.04061616468638342\n",
      "CCSD(T) correction = 1.69667915053805e-20\n"
     ]
    },
    {
     "data": {
      "text/plain": [
       "array([[-1.11670614, -1.12871101, -1.13295914, -1.13345751, -1.13360663],\n",
       "       [-1.13727441, -1.16340296, -1.17233494, -1.17379598, -1.17422279],\n",
       "       [-1.13727457, -1.16340297, -1.1723349 , -1.17379598, -1.17422279],\n",
       "       [-1.13727457, -1.16340297, -1.1723349 , -1.17379598, -1.17422279],\n",
       "       [-1.13727441, -1.16340296, -1.17233494, -1.17379598, -1.17422279]])"
      ]
     },
     "execution_count": 25,
     "metadata": {},
     "output_type": "execute_result"
    }
   ],
   "source": [
    "r0 = 0.741 #H_2 equilibrium bond length\n",
    "met = ['hf','cisd','ccsd','ccsd(t)','fci']\n",
    "bas = ['sto3g','ccpvdz','ccpvtz','ccpvqz','ccpv5z']\n",
    "ens = np.zeros([len(met),len(bas)])      \n",
    "\n",
    "for i in range(len(bas)):\n",
    "    mol = gto.Mole()\n",
    "    mol.atom = get_molecular_data('h2', r0, xyz_format=False)\n",
    "    mol.basis = bas[i]\n",
    "    mol.build()\n",
    "    \n",
    "    print('\\nBasis: ', bas[i])\n",
    "    \n",
    "    mf = mol.HF().run()\n",
    "    ens[0,i] = mf.e_tot\n",
    "    \n",
    "    mycc = mf.CISD().run()\n",
    "    ens[1,i] = mycc.e_tot\n",
    "    \n",
    "    ccsd_h2 = cc.CCSD(mf)\n",
    "    rv = ccsd_h2.kernel()    \n",
    "    ens[2,i] = rv[0] + ens[0,i]\n",
    "    ens[3,i] = ens[2,i] + ccsd_h2.ccsd_t()\n",
    "\n",
    "    cisol = pyscf.fci.FCI(mf)\n",
    "    ens[4,i] = cisol.kernel()[0]\n",
    "    \n",
    "ens"
   ]
  },
  {
   "cell_type": "code",
   "execution_count": 29,
   "metadata": {},
   "outputs": [
    {
     "name": "stdout",
     "output_type": "stream",
     "text": [
      "[[ 2.05682683e-02  3.46919501e-02  3.93757983e-02  4.03384721e-02\n",
      "   4.06161668e-02]\n",
      " [ 2.22044605e-16  1.03028697e-12 -1.08757447e-12  1.41264778e-12\n",
      "   3.32200933e-12]\n",
      " [-1.65447203e-07 -6.10964324e-09  3.51550637e-08  1.43404777e-09\n",
      "   2.14160245e-09]\n",
      " [-1.65447203e-07 -6.10964324e-09  3.51550637e-08  1.43404777e-09\n",
      "   2.14160245e-09]\n",
      " [ 0.00000000e+00  0.00000000e+00  0.00000000e+00  0.00000000e+00\n",
      "   0.00000000e+00]]\n"
     ]
    }
   ],
   "source": [
    "print(ens-ens[-1])"
   ]
  },
  {
   "cell_type": "code",
   "execution_count": 31,
   "metadata": {},
   "outputs": [
    {
     "data": {
      "text/plain": [
       "-1.1737733502904204"
      ]
     },
     "execution_count": 31,
     "metadata": {},
     "output_type": "execute_result"
    }
   ],
   "source": [
    "(-13.6*2 - 4.74)/27.211386245988"
   ]
  },
  {
   "cell_type": "code",
   "execution_count": null,
   "metadata": {},
   "outputs": [],
   "source": []
  }
 ],
 "metadata": {
  "kernelspec": {
   "display_name": "tql-kernel",
   "language": "python",
   "name": "tql-kernel"
  },
  "language_info": {
   "codemirror_mode": {
    "name": "ipython",
    "version": 3
   },
   "file_extension": ".py",
   "mimetype": "text/x-python",
   "name": "python",
   "nbconvert_exporter": "python",
   "pygments_lexer": "ipython3",
   "version": "3.7.1"
  }
 },
 "nbformat": 4,
 "nbformat_minor": 2
}
