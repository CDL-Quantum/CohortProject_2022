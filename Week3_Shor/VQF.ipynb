{
 "cells": [
  {
   "cell_type": "code",
   "execution_count": 1,
   "id": "4b5558a8-b67a-4f75-9a7f-cb142a59963f",
   "metadata": {},
   "outputs": [
    {
     "data": {
      "application/javascript": [
       "MathJax.Hub.Config({\n",
       "    TeX: { equationNumbers: { autoNumber: \"AMS\" } }\n",
       "});\n"
      ],
      "text/plain": [
       "<IPython.core.display.Javascript object>"
      ]
     },
     "metadata": {},
     "output_type": "display_data"
    }
   ],
   "source": [
    "%%javascript\n",
    "MathJax.Hub.Config({\n",
    "    TeX: { equationNumbers: { autoNumber: \"AMS\" } }\n",
    "});\n"
   ]
  },
  {
   "cell_type": "markdown",
   "id": "87bc4e9b-36fb-4307-85e2-e99fe486ed68",
   "metadata": {},
   "source": [
    "# The Variational Quantum Factoring Algorithm "
   ]
  },
  {
   "cell_type": "markdown",
   "id": "1c1af3bc-d744-4fd3-bab1-c2673dc43019",
   "metadata": {},
   "source": [
    "The aim ofthe algorithim is given a number $m$ find $p$, $q$ such that $m = p \\times q$. Both $p, q$ are primes. \n",
    "\n",
    "\n",
    "## Factoring as binary optimization:\n",
    "\n",
    "- We want to set this factoring problem up as a optimization problem. So what are we to  optimize ? In the paper [variational quantum\n",
    "factoring](https://arxiv.org/abs/1808.08927) the optimization is set up as the following "
   ]
  },
  {
   "cell_type": "markdown",
   "id": "8a3bd155-0aa2-49a6-9b57-91a1cedb8d3f",
   "metadata": {},
   "source": [
    "The binary representations of $m, p, q$ are\n",
    "\n",
    "\n",
    "$$\n",
    "m=\\sum_{k=0}^{n_m-1} 2^im_k\\\\\n",
    "p=\\sum_{k=0}^{n_p-1} 2^ip_k\\\\\n",
    "q=\\sum_{k=0}^{n_q-1} 2^iq_k\n",
    "$$\n",
    "\n",
    "where $m_k, q_k, p_k$ are the $k^{th}$ bits of $m,q,p$ respectively. $n_m$ is the number of bits of m and similarly for $p,q$. "
   ]
  },
  {
   "cell_type": "markdown",
   "id": "22c81049-89df-4870-b358-5cb88d1d0e05",
   "metadata": {},
   "source": [
    "\n",
    "From the binary multiplication $m=p\\times q$ we get the following equation [factoring as optimization](https://www.microsoft.com/en-us/research/publication/factoring-as-optimization/) ,\n",
    "\n",
    "\\begin{equation}\n",
    "0 = \\sum_{j=0}^{i} q_jp_{i-j} +  \\sum_{j=0}^{i}z_{j,i} - m_i - \\sum_{j=1}^{n_c} 2^j z_{i, i+j} \\label{eq1}\n",
    "\\end{equation}\n",
    "\n",
    "\n",
    "for all $0\\le i \\le n_c$. $z_{i,j}$ represents the carry  bit from position $i$ to position $j$ and $n_c = n_p + n_q -1$.\n",
    "\n",
    "We now assign a cumber $C_i$ to the l.h.s of the above equation \n",
    "\n",
    "\\begin{equation}\n",
    "C_i = \\sum_{j=0}^{i} q_jp_{i-j} +  \\sum_{j=0}^{i}z_{j,i} - m_i - \\sum_{j=1}^{n_c} 2^j z_{i, i+j} \n",
    "\\end{equation}\n",
    "\n",
    "and represent factoring problem as finding the set of binary variables $\\{p_i\\}, \\{q_i\\}, \\{z_{i,j}\\}$ which satisfy the following equation\n",
    "\\begin{equation}\n",
    "0= \\sum_{i=0}^{n_c} C_i^2 \n",
    "\\end{equation}\n",
    "\n",
    "Since this is a sum of positive terms the only way the sum can be identically zero is if each term is independently zero, which gurantees each  $C_i$ is equal to zero.\n",
    "\n",
    "\n"
   ]
  },
  {
   "cell_type": "markdown",
   "id": "8646c2e9-7358-45f2-8f62-323df4bbacf1",
   "metadata": {},
   "source": [
    "## Classical preprocessing:\n",
    "\n",
    "After this the the above equations  are simplified (i.e truncating the summation of of the final term in equation (2) above)  by applying some  classical preprocessing rules ( see [variational quantum\n",
    "factoring](https://arxiv.org/abs/1808.08927))"
   ]
  },
  {
   "cell_type": "markdown",
   "id": "66700850-e36c-47d3-bdd1-ce8e1de7b5b3",
   "metadata": {},
   "source": [
    "## Constructing the Ising Hamiltonian"
   ]
  },
  {
   "cell_type": "markdown",
   "id": "494c0060-6792-441c-acab-670f7358fbe7",
   "metadata": {},
   "source": [
    "Suppose we have obtained $C'_i$ for each $i$ after having done the classical preprocessing of equation (2) above. The solutions of the simplified equations $C'_i=0$ then correspond to the classical minimization of the energy/cost function \n",
    "\n",
    "\\begin{equation*}\n",
    "E= \\sum_{i=0}^{n_c} C_i^2 \n",
    "\\end{equation*}\n",
    "\n",
    "\n",
    "which can be represented as a quantum factorizing Hamiltonian as\n",
    " \n",
    "\\begin{equation*}\n",
    "H= \\sum_{i=0}^{n_c} \\hat{C}_i^2 \n",
    "\\end{equation*}\n",
    "\n",
    "\n",
    "where each $\\hat{C}_i$ term is obtained by the mapping  \n",
    "\n",
    "\\begin{equation*}\n",
    "b_k = \\frac{1}{2} (1- \\sigma^z_{b,k}) \n",
    "\\end{equation*}\n",
    "\n",
    "where $b \\in \\{p,q,z\\}$\n"
   ]
  },
  {
   "cell_type": "markdown",
   "id": "96e802c9-ebea-4afc-843a-02998b6b51dd",
   "metadata": {},
   "source": [
    "# VQF Algorithim\n",
    "\n",
    "- Step 1: Feed the mixing hamiltonian and the cost Hamiltonian to the QAOA circuit\n",
    "\n",
    "- Step 2: Obtain a set of good initial parameters (both for mixing and cost hamiltonians) from output of step 1. (quantum optimization)\n",
    "\n",
    "- Step 3: Feed the paprametrs of step 2 to the BFGS optimizer\n",
    "\n",
    "- Step 4:  Repeat step 2 with the optimized parameters from the output of step 3. (classical optimization)\n",
    "\n",
    "- Step 5: Repeat steps 2,3,4 until some convergence criteria is satisfied.\n",
    "\n",
    "- step 6: Measure quantum state to obtain results\n",
    "\n",
    "Therefore there are essentials four blocks  in the VQFT implementation.\n",
    "\n",
    "1. Preprocessing\n",
    "2. Hamiltonian creation\n",
    "3. Parameter initialization (this is where quantum optimization happens )\n",
    "4. Classical optimization\n",
    "\n"
   ]
  },
  {
   "cell_type": "markdown",
   "id": "7f724f68-e23d-4b5f-8451-f1041f9aa25f",
   "metadata": {},
   "source": [
    "## Results of Implementation\n",
    "\n",
    "\n",
    "Looking at the original paper [variational quantum factoring](https://arxiv.org/abs/1808.08927)) and the experiments performed by  [mstechly](https://github.com/mstechly/vqf) we find the following- \n",
    "\n",
    "\n",
    "1. As $m$ gets bigger the the number of qubits needed to factor $m = p \\times q$ icreases rapidly without classical preprocessing. With classical preprocessing however the number of qubits increases much more slowly.\n",
    "\n",
    "2. Further elaborating on the above if we don't know the length of $p, q$ the qubit scaling (with classical preprocessing)  in advance is worse that compared to the case when the  length of $p, q$ is known.\n",
    "\n",
    "3. The closeness of the VQF results tothe exact result crucially depends of the choice of $m$. For certain numbers the VQF results are very close to the exact one, whereas for others its very bad (see FIG. 2. in [variational quantum factoring](https://arxiv.org/abs/1808.08927)).   \n",
    "\n",
    "4. The number of BFGS function evaluations increases withthe number of circuit layers (see FIG. 3. in [variational quantum factoring](https://arxiv.org/abs/1808.08927)). (The scaling is approximately linear.) \n",
    "\n",
    "5. [mstechly](https://github.com/mstechly/vqf) also found that for certain numbers no matter how hard you try, you cannot find the exact solution with just one QAOA layer.\n",
    "\n"
   ]
  },
  {
   "cell_type": "code",
   "execution_count": null,
   "id": "bd5c2b82-0a89-4821-b282-b972564bf9d7",
   "metadata": {},
   "outputs": [],
   "source": []
  }
 ],
 "metadata": {
  "kernelspec": {
   "display_name": "Python 3 (ipykernel)",
   "language": "python",
   "name": "python3"
  },
  "language_info": {
   "codemirror_mode": {
    "name": "ipython",
    "version": 3
   },
   "file_extension": ".py",
   "mimetype": "text/x-python",
   "name": "python",
   "nbconvert_exporter": "python",
   "pygments_lexer": "ipython3",
   "version": "3.8.13"
  }
 },
 "nbformat": 4,
 "nbformat_minor": 5
}
