{
 "cells": [
  {
   "cell_type": "markdown",
   "metadata": {},
   "source": [
    "We will use RSA encryption-decryption algorithm to send-receive messages. \n",
    "\n",
    "For this task, messages are expressed as a list of integers. Each integer represents a separate character in the original message string. The mapping between characters and `decoded` (plaintext) integers is:\n",
    " - 0-9: numbers 0-9\n",
    " - 10-35: letters a-z (only lowercase is used)\n",
    " - 36: space\n",
    "\n",
    "Example: \"abc def\" would be converted to [10, 11, 12, 36, 13, 14, 15].\n",
    "\n",
    "Below is an *encoded* message from your friend; you will need to decode it character by character using your RSA private key, and then convert the resulting list of integers back to a string using the correspondence above."
   ]
  },
  {
   "cell_type": "markdown",
   "metadata": {},
   "source": [
    "Mapping characters to integers as directed above:"
   ]
  },
  {
   "cell_type": "code",
   "execution_count": 1,
   "metadata": {},
   "outputs": [],
   "source": [
    "def mapping_int_char():\n",
    "\n",
    "    from string import ascii_lowercase\n",
    "    int_to_char = {}\n",
    "    for i in range(0,10):\n",
    "        int_to_char[i] = str(i)\n",
    "    for ic,c in enumerate(ascii_lowercase):\n",
    "        int_to_char[10+ic] = c\n",
    "    int_to_char[36] = ' '\n",
    "\n",
    "    return int_to_char"
   ]
  },
  {
   "cell_type": "markdown",
   "metadata": {},
   "source": [
    "Decrypting a message $m$ as $m = c^d \\, \\textnormal{mod} \\, N$ where $(d,N)$ is my private key and $c$ is the message I received"
   ]
  },
  {
   "cell_type": "code",
   "execution_count": 2,
   "metadata": {},
   "outputs": [],
   "source": [
    "def decrypt(message, private_d, N):\n",
    "    \"\"\"Decrypt an encoded message. \n",
    " \n",
    "    Args:\n",
    "        message (list[int]): A list of integers representing the secret message.\n",
    "            Each integer in the list represents a different character in the message.\n",
    "        private_d (int): Your (private) portion of the RSA key.\n",
    "        N (int): The modulus of the RSA key.\n",
    " \n",
    "    Returns:\n",
    "        str: The decoded message.\n",
    "    \"\"\"\n",
    "    decoded_message = \"\"\n",
    "    int_to_char = mapping_int_char()\n",
    "\n",
    "    for item in message:\n",
    "        m = item**private_d % N\n",
    "        if m <= 36:\n",
    "            decoded_message += int_to_char[m] \n",
    "        else:\n",
    "            raise Exception('Character_to_integer m should be between 0 and 36 and m < N. Check numbers again.') \n",
    "\n",
    "    return decoded_message"
   ]
  },
  {
   "cell_type": "markdown",
   "metadata": {},
   "source": [
    "Encrypting a message $c$ as $c = m^e \\, \\textnormal{mod} \\, N$ where $(e,N)$ is the recievers public key and $m$ is the message I want to send"
   ]
  },
  {
   "cell_type": "code",
   "execution_count": 3,
   "metadata": {},
   "outputs": [],
   "source": [
    "def encrypt(message, public_e, N):\n",
    "    \"\"\"Encrypt a message \n",
    "\n",
    "    Args:\n",
    "        message (str): A string representation of the message to send. It should\n",
    "            contain only the characters a-z (lowercase), numbers 0-9, and spaces.\n",
    "        public_e (int): The public portion of the RSA key (e, N) used for encoding.\n",
    "        N (int): The modulus of the RSA key.\n",
    " \n",
    "    Returns:\n",
    "        list[int]: The message, encoded using the public key as a list of integers.\n",
    "    \"\"\"\n",
    "    encoded_message = []\n",
    "\n",
    "    message = message.lower()\n",
    "    int_to_char = mapping_int_char()\n",
    "    message_to_int = []\n",
    "    for item in message:\n",
    "        try:\n",
    "            message_to_int.append([key for key,value in int_to_char.items() if value == item])\n",
    "        except:\n",
    "            raise Exception('Only latin characters, numbers and spaces allowed in the message.')\n",
    "    flatList_message = []\n",
    "    for elem in message_to_int:\n",
    "        flatList_message.extend(elem)\n",
    "\n",
    "    for item in flatList_message:\n",
    "        c = item**public_e % N\n",
    "        encoded_message.append(c)\n",
    "\n",
    "    return encoded_message"
   ]
  },
  {
   "cell_type": "code",
   "execution_count": 4,
   "metadata": {},
   "outputs": [
    {
     "name": "stdout",
     "output_type": "stream",
     "text": [
      "message from friend: what is your favourite colour\n",
      "encrypted response from me:  [44, 22, 43, 44, 84, 43, 72, 21, 88, 14, 43, 82, 4, 13, 43, 44, 43, 82, 29, 43, 84, 33, 43, 75, 82, 51, 51, 34, 43, 22, 33, 43, 84, 22, 82, 27, 22, 43, 29, 34, 43, 14, 4, 38, 27, 34, 51, 22, 44, 33, 4, 43, 80, 33, 88, 27, 4, 14, 34, 43, 33, 4, 43, 80, 88, 21, 34, 43, 1, 81]\n"
     ]
    }
   ],
   "source": [
    "message_from_friend = [\n",
    "    292, 290, 218, 55, 127, 174, 171, 127, 112, 24,\n",
    "    251, 248, 127, 132, 218, 213, 24, 251, 248, 174, 55,\n",
    "    53, 127, 233, 24, 268, 24, 251, 248\n",
    "]\n",
    "my_private_d, my_public_e, my_N = 169, 25, 299\n",
    "\n",
    "my_message = 'It is blue and I am SO happy TO start MY encryption journey on July 19'\n",
    "friend_public_e, friend_N = 29, 91\n",
    "\n",
    "print('message from friend: ' + decrypt(message=message_from_friend, private_d=my_private_d, N=my_N))\n",
    "print('encrypted response from me: ', encrypt(message=my_message, public_e=friend_public_e, N=friend_N))"
   ]
  }
 ],
 "metadata": {
  "kernelspec": {
   "display_name": "Python 3.9.12 ('base')",
   "language": "python",
   "name": "python3"
  },
  "language_info": {
   "codemirror_mode": {
    "name": "ipython",
    "version": 3
   },
   "file_extension": ".py",
   "mimetype": "text/x-python",
   "name": "python",
   "nbconvert_exporter": "python",
   "pygments_lexer": "ipython3",
   "version": "3.9.12"
  },
  "orig_nbformat": 4,
  "vscode": {
   "interpreter": {
    "hash": "af1a89b1c0fb660fd8ec30678943773d04bd918b3c92dcb2abd98b6f6deed6f4"
   }
  }
 },
 "nbformat": 4,
 "nbformat_minor": 2
}
