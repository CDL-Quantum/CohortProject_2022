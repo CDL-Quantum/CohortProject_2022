{
 "cells": [
  {
   "cell_type": "code",
   "execution_count": 1,
   "id": "35f80100",
   "metadata": {},
   "outputs": [],
   "source": [
    "\"\"\"\n",
    "For this task, messages are expressed as a list of integers. Each integer represents\n",
    "a separate character in the original message string. The mapping between characters \n",
    "and `decoded` (plaintext) integers is:\n",
    " - 0-9: numbers 0-9\n",
    " - 10-35: letters a-z (only lowercase is used)\n",
    " - 36: space\n",
    "\n",
    "Example: \"abc def\" would be converted to [10, 11, 12, 36, 13, 14, 15].\n",
    "\n",
    "Below is an *encoded* message from your friend; you will need to decode it character\n",
    "by character using your RSA private key, and then convert the resulting list of\n",
    "integers back to a string using the correspondence above.\n",
    "\"\"\"\n",
    "message_from_friend = [\n",
    "    292, 290, 218, 55, 127, 174, 171, 127, 112, 24,\n",
    "    251, 248, 127, 132, 218, 213, 24, 251, 248, 174, 55,\n",
    "    53, 127, 233, 24, 268, 24, 251, 248\n",
    "]"
   ]
  },
  {
   "cell_type": "markdown",
   "id": "7c61eb59",
   "metadata": {},
   "source": [
    "# Encoding and Decoding Maps "
   ]
  },
  {
   "cell_type": "code",
   "execution_count": 2,
   "id": "32bdfbe8",
   "metadata": {},
   "outputs": [],
   "source": [
    "def decode_from_int(a):\n",
    "    encode_list = [\"0\", \"1\", \"2\", \"3\", \"4\", \"5\", \"6\", \"7\", \"8\", \"9\", \n",
    "                  \"a\", \"b\",\"c\",\"d\",\"e\",\"f\",\"g\",\"h\",\"i\",\"j\",\"k\",\"l\",\"m\",\"n\",\n",
    "                  \"o\",\"p\",\"q\",\"r\",\"s\",\"t\",\"u\",\"v\",\"w\",\"x\",\"y\",\"z\", \" \"]\n",
    "    return encode_list[a]"
   ]
  },
  {
   "cell_type": "code",
   "execution_count": 3,
   "id": "7dc3d354",
   "metadata": {},
   "outputs": [],
   "source": [
    "def encode_from_char(a):\n",
    "    encode_list = [\"0\", \"1\", \"2\", \"3\", \"4\", \"5\", \"6\", \"7\", \"8\", \"9\", \n",
    "                  \"a\", \"b\",\"c\",\"d\",\"e\",\"f\",\"g\",\"h\",\"i\",\"j\",\"k\",\"l\",\"m\",\"n\",\n",
    "                  \"o\",\"p\",\"q\",\"r\",\"s\",\"t\",\"u\",\"v\",\"w\",\"x\",\"y\",\"z\", \" \"]\n",
    "    for i in range(len(encode_list)):\n",
    "        if a == encode_list[i]:\n",
    "            return i"
   ]
  },
  {
   "cell_type": "markdown",
   "id": "7acf409d",
   "metadata": {},
   "source": [
    "# Decryption"
   ]
  },
  {
   "cell_type": "code",
   "execution_count": 4,
   "id": "167e5d6a",
   "metadata": {},
   "outputs": [],
   "source": [
    "def decrypt(message, private_d, N):\n",
    "    \"\"\"Decrypt an encoded message. \n",
    " \n",
    "    Args:\n",
    "        message (list[int]): A list of integers representing the secret message.\n",
    "            Each integer in the list represents a different character in the message.\n",
    "        private_d (int): Your (private) portion of the RSA key.\n",
    "        N (int): The modulus of the RSA key.\n",
    " \n",
    "    Returns:\n",
    "        str: The decoded message.\n",
    "    \"\"\"\n",
    "    \n",
    "    decoded_message = \"\"\n",
    "    \n",
    "    for i in range(len(message)):\n",
    "        c = message[i]\n",
    "        c_prime = c ** private_d\n",
    "        m = c_prime % N\n",
    "        \n",
    "        m_str = decode_from_int(m)\n",
    "        decoded_message += m_str\n",
    "\n",
    "    return decoded_message"
   ]
  },
  {
   "cell_type": "code",
   "execution_count": 5,
   "id": "9f2af63f",
   "metadata": {},
   "outputs": [],
   "source": [
    "d = 169\n",
    "e = 25\n",
    "N = 299"
   ]
  },
  {
   "cell_type": "code",
   "execution_count": 6,
   "id": "85bc78f9",
   "metadata": {},
   "outputs": [
    {
     "data": {
      "text/plain": [
       "'what is your favourite colour'"
      ]
     },
     "execution_count": 6,
     "metadata": {},
     "output_type": "execute_result"
    }
   ],
   "source": [
    "decrypt(message_from_friend, d, N)"
   ]
  },
  {
   "cell_type": "markdown",
   "id": "cc324423",
   "metadata": {},
   "source": [
    "# Encryption"
   ]
  },
  {
   "cell_type": "code",
   "execution_count": 7,
   "id": "bed95c3b",
   "metadata": {},
   "outputs": [],
   "source": [
    "def encrypt(message, public_e, N):\n",
    "    \"\"\"Encrypt a message \n",
    "\n",
    "    Args:\n",
    "        message (str): A string representation of the message to send. It should\n",
    "            contain only the characters a-z (lowercase), numbers 0-9, and spaces.\n",
    "        public_e (int): The public portion of the RSA key (e, N) used for encoding.\n",
    "        N (int): The modulus of the RSA key.\n",
    " \n",
    "    Returns:\n",
    "        list[int]: The message, encoded using the public key as a list of integers.\n",
    "    \"\"\"\n",
    "    encoded_message = []\n",
    "\n",
    "    for i in range(len(message)):\n",
    "        ch = message[i]\n",
    "        ch_int = encode_from_char(ch)\n",
    "        m_prime = ch_int ** public_e\n",
    "        c = m_prime % N\n",
    "        encoded_message.append(c)\n",
    "        \n",
    "\n",
    "    return encoded_message"
   ]
  },
  {
   "cell_type": "code",
   "execution_count": 8,
   "id": "d212dd1d",
   "metadata": {},
   "outputs": [],
   "source": [
    "e = 29\n",
    "N = 91"
   ]
  },
  {
   "cell_type": "code",
   "execution_count": 9,
   "id": "149f26cc",
   "metadata": {},
   "outputs": [],
   "source": [
    "answer = \"my favourite colour is green and my favourite number is 369 what is yours\""
   ]
  },
  {
   "cell_type": "code",
   "execution_count": 10,
   "id": "6d399a7e",
   "metadata": {},
   "outputs": [
    {
     "name": "stdout",
     "output_type": "stream",
     "text": [
      "[29, 34, 43, 71, 82, 5, 33, 88, 27, 44, 22, 14, 43, 38, 33, 21, 33, 88, 27, 43, 44, 84, 43, 74, 27, 14, 14, 4, 43, 82, 4, 13, 43, 29, 34, 43, 71, 82, 5, 33, 88, 27, 44, 22, 14, 43, 4, 88, 29, 72, 14, 27, 43, 44, 84, 43, 61, 41, 81, 43, 2, 75, 82, 22, 43, 44, 84, 43, 34, 33, 88, 27, 84]\n"
     ]
    }
   ],
   "source": [
    "encrypted = encrypt(answer, e, N)\n",
    "print(encrypted)"
   ]
  },
  {
   "cell_type": "markdown",
   "id": "263722f7",
   "metadata": {},
   "source": [
    "# Knowing the factorization, so we break the code:"
   ]
  },
  {
   "cell_type": "markdown",
   "id": "1bbb195b",
   "metadata": {},
   "source": [
    "Here, we break the small RSA. N is 91, which is 7 * 13, so p = 7, q = 13. theta is then 6 * 12 = 72."
   ]
  },
  {
   "cell_type": "code",
   "execution_count": 11,
   "id": "2a64f025",
   "metadata": {},
   "outputs": [],
   "source": [
    "theta = 72"
   ]
  },
  {
   "cell_type": "code",
   "execution_count": 12,
   "id": "11808c43",
   "metadata": {},
   "outputs": [
    {
     "name": "stdout",
     "output_type": "stream",
     "text": [
      "5\n",
      "77\n"
     ]
    }
   ],
   "source": [
    "for i in range(100):\n",
    "    res = (i*e) % theta\n",
    "    if res == 1:\n",
    "        print(i)"
   ]
  },
  {
   "cell_type": "code",
   "execution_count": 13,
   "id": "1bb525e8",
   "metadata": {},
   "outputs": [
    {
     "data": {
      "text/plain": [
       "'my favourite colour is green and my favourite number is 369 what is yours'"
      ]
     },
     "execution_count": 13,
     "metadata": {},
     "output_type": "execute_result"
    }
   ],
   "source": [
    "decrypt(encrypted, 77, N)"
   ]
  }
 ],
 "metadata": {
  "kernelspec": {
   "display_name": "Python 3 (ipykernel)",
   "language": "python",
   "name": "python3"
  },
  "language_info": {
   "codemirror_mode": {
    "name": "ipython",
    "version": 3
   },
   "file_extension": ".py",
   "mimetype": "text/x-python",
   "name": "python",
   "nbconvert_exporter": "python",
   "pygments_lexer": "ipython3",
   "version": "3.9.10"
  }
 },
 "nbformat": 4,
 "nbformat_minor": 5
}
