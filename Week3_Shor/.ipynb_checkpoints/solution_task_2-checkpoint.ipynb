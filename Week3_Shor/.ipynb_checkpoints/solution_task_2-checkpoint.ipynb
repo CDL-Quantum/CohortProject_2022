{
 "cells": [
  {
   "cell_type": "markdown",
   "id": "2919e2b4",
   "metadata": {},
   "source": [
    "# Solution for task 2: Everything is in order\n",
    "\n",
    "Shor's algorithm can be used to determine the prime factors $p$ and $q$ of a\n",
    "number $N$. While often described as a quantum algorithm, most of it is actually\n",
    "classical. Only one part of it uses a quantum computer! However, that part is\n",
    "very important, since it is the part that is classically hard.\n",
    "\n",
    "The specific subroutine is called *order finding*. In regular modular arithmetic,\n",
    "given a value $a$ and modulus $N$, the task is to find an $m$ such that \n",
    "$a^m = 1 \\hbox{ mod} N$. This involves repeated multiplication of $a$ by itself, or *modular\n",
    "exponentiation*. The quantum version looks similar. Suppose we have a unitary\n",
    "operation $U_{Na}$ that acts as follows:\n",
    "\n",
    "$$\n",
    "U_{Na} \\vert k \\rangle = |a k \\hbox{ mod} N \\rangle.\n",
    "$$\n",
    "\n",
    "For the order $m$ such that $a^m = 1 \\hbox{ mod} N$ it will also be the case that\n",
    "\n",
    "$$\n",
    "U_{Na}^m \\vert k  \\rangle = |a^m k \\hbox{ mod} N \\rangle = \\vert k \\rangle.\n",
    "$$\n",
    "\n",
    "For this task, research and implement the quantum algorithm for order finding. \n",
    "Then, apply it in the larger context of Shor's algorithm, starting\n",
    "from the pseudocode below. Use you algorithm to factor the value $N = 91$ from\n",
    "the previous task.\n",
    "\n",
    "\n",
    "```\n",
    "Shor's algorithm\n",
    "================\n",
    "Inputs: integer N with unique factorization N = pq\n",
    "Outputs: p, q\n",
    "\n",
    "p, q = 1, 1\n",
    "\n",
    "while p * q is not N:\n",
    "    choose value a in the range [2, ..., N - 2]\n",
    "\t\n",
    "    if a and N are coprime:\n",
    "        # we are lucky!\n",
    "        p = a\n",
    "        q = N / a\n",
    "\n",
    "    else:\n",
    "        use a quantum computer to find order m of U_Na\n",
    "\t    \n",
    "        if m is odd:\n",
    "            # invalid\n",
    "            continue\n",
    "\t\t\t\n",
    "        else:\n",
    "            compute x = a ** (m / 2) mod N\n",
    "\t\t\n",
    "            if x = 1 or -1 mod N:\n",
    "                # invalid\n",
    "                continue\n",
    "            else:\n",
    "                # valid!\n",
    "                p = GCD(x - 1, N)\n",
    "                q = GCD(x + 1, N)\n",
    "```\n"
   ]
  },
  {
   "cell_type": "markdown",
   "id": "8825b1d9",
   "metadata": {},
   "source": [
    "# Implementation\n",
    "\n",
    "Import for mathematical operators, variables o functions from math; and import a integer random generator  from random library."
   ]
  },
  {
   "cell_type": "code",
   "execution_count": 1,
   "id": "a868dfd4",
   "metadata": {},
   "outputs": [],
   "source": [
    "from math import gcd,ceil, pi, log2\n",
    "from random import randint"
   ]
  },
  {
   "cell_type": "markdown",
   "id": "c2209616",
   "metadata": {},
   "source": [
    "Using in the framework qiskit for the quantum computing algorithm for this we use the Quantum fourier Transform predefine method with other to run in a simulator backend."
   ]
  },
  {
   "cell_type": "code",
   "execution_count": 2,
   "id": "f35580d0",
   "metadata": {},
   "outputs": [],
   "source": [
    "# Importing standard Qiskit libraries\n",
    "from qiskit import QuantumCircuit, transpile, assemble, Aer, IBMQ\n",
    "from qiskit.circuit.library import QFT"
   ]
  },
  {
   "cell_type": "markdown",
   "id": "a321c632",
   "metadata": {},
   "source": [
    "Method to design any unitary gate using  the format $2^i mod(N)$, using the idea from Drapper Adder"
   ]
  },
  {
   "cell_type": "code",
   "execution_count": 3,
   "id": "10a0940a",
   "metadata": {},
   "outputs": [],
   "source": [
    "def unitary_gate(data_qubits,value,exp,N):\n",
    "    qc = QuantumCircuit(data_qubits)\n",
    "    \n",
    "    ## find the output for the modulo  \n",
    "    const = (value**exp)%N\n",
    "    \n",
    "    # obtain the binary number with the same lenght\n",
    "    a = bin(const)[2:]\n",
    "    while len(a) < data_qubits:\n",
    "        a = '0'+a\n",
    "        \n",
    "    a=a[::-1]\n",
    "    \n",
    "    # consider a list for all the rotation we can reduce\n",
    "    list_a = [0]*data_qubits  \n",
    "    for i in range(data_qubits): \n",
    "        if a[i] =='1':\n",
    "            k = 0\n",
    "            for j in range(i,data_qubits):\n",
    "                # save the values rotation in a\n",
    "                list_a[data_qubits-j-1] +=pi/float(2**(k))  \n",
    "                k+=1\n",
    "\n",
    "    # apply the result of the list in a quantum circuit\n",
    "    for i in range(data_qubits):\n",
    "        if list_a[i] != 0:\n",
    "            qc.p(list_a[i],i)\n",
    "            k+=1\n",
    "\n",
    "    # convert the quantum circuit into a quantum gate\n",
    "    return qc.to_gate(label=\" [ \"+ str(value)+\"^\"+str(exp)+\"% \"+str(N) + \"] \") "
   ]
  },
  {
   "cell_type": "markdown",
   "id": "c37732ef",
   "metadata": {},
   "source": [
    "Design the quantum part from the Shor algorithm using Quantum Phase Estimation method."
   ]
  },
  {
   "cell_type": "code",
   "execution_count": 4,
   "id": "f6efcb7b",
   "metadata": {},
   "outputs": [],
   "source": [
    "def qpe(a,N):\n",
    "    # select the qubits for the quantum circuit \n",
    "    n = len(bin(N)[2:])\n",
    "    m = int(ceil(log2(N)))\n",
    "    \n",
    "    qc = QuantumCircuit(n+m,n)\n",
    "    \n",
    "    # apply hadamard gates in the measurements qubits\n",
    "    qc.h(range(n)) \n",
    "    qc.barrier()\n",
    "\n",
    "    # apply the untiary gates \n",
    "    qc.h(range(n,m+n))\n",
    "    for i in range(n): \n",
    "        qc.append(unitary_gate(m, a,i,N).control(1) ,[i]+[i for i in range(n,m+n)])\n",
    "    \n",
    "    qc.barrier()\n",
    "    \n",
    "    # apply inverse of the Quantum Fourier Transform QFT \n",
    "    qc.append(QFT(n,do_swaps=False).inverse(),range(n))\n",
    "    \n",
    "    #measure only the qubits that are equals to the lenght of N\n",
    "    qc.measure(range(n), range(n))\n",
    "\n",
    "    # apply the simulation\n",
    "    aer_sim = Aer.get_backend('aer_simulator')\n",
    "    t_qc = transpile(qc, aer_sim)\n",
    "    qobj = assemble(t_qc, shots=1)\n",
    "    result = aer_sim.run(qobj, memory=True).result()\n",
    "    readings = result.get_memory()\n",
    "    \n",
    "    k = int(readings[0],2)\n",
    "    return k\n"
   ]
  },
  {
   "cell_type": "markdown",
   "id": "72937481",
   "metadata": {},
   "source": [
    "## Generate the shor algortihm\n",
    "\n",
    "connect our porposal of the Quantum Phase Estimation  to find the **m** value correct for the shor algorithm, and using the pseudo code provided for the task  "
   ]
  },
  {
   "cell_type": "code",
   "execution_count": 5,
   "id": "68dfd50e",
   "metadata": {},
   "outputs": [],
   "source": [
    "def shor(N):\n",
    "    \n",
    "    p, q = 1, 1\n",
    "    \n",
    "    while (p * q is not N) or p == 1 or q == 1:\n",
    "        \n",
    "        a = randint(2, N-2)\n",
    "        if gcd(a,N)!=1:\n",
    "            # we are lucky!\n",
    "            p = a\n",
    "            q = int(N / a)\n",
    "    \n",
    "        else:\n",
    "             #use a quantum computer to find order m of U_Na\n",
    "            m = qpe(a,N)\n",
    "            if m %2 == 1:\n",
    "                # invalid\n",
    "                continue\n",
    "\n",
    "            else:\n",
    "                x = int(a ** (m / 2) % N)\n",
    "\n",
    "                if (x == 1 or x == -1) % N:\n",
    "                    # invalid\n",
    "                    continue\n",
    "                else:\n",
    "                    # valid!\n",
    "                    p = gcd(x - 1, N)\n",
    "                    q = gcd(x + 1, N)\n",
    "    return p,q"
   ]
  },
  {
   "cell_type": "markdown",
   "id": "52e8a221",
   "metadata": {},
   "source": [
    "## Run algorithm\n",
    "\n",
    "Using our proposal solution with the previous exercies where N is equal to 91, and remeber the solution the output for  **p = 7** and **q =13**"
   ]
  },
  {
   "cell_type": "code",
   "execution_count": 6,
   "id": "d6a1d45d",
   "metadata": {
    "scrolled": false
   },
   "outputs": [
    {
     "data": {
      "text/plain": [
       "(7, 13)"
      ]
     },
     "execution_count": 6,
     "metadata": {},
     "output_type": "execute_result"
    }
   ],
   "source": [
    "N=91\n",
    "p,q = shor(N)\n",
    "p,q"
   ]
  },
  {
   "cell_type": "markdown",
   "id": "82fcfd46",
   "metadata": {},
   "source": [
    "we obtained the same output using our quantum proposal and using the methods for task 1 we can obtain the same result. for that we called the decoded message `green` that is equals to the list *[74, 27, 14, 14, 4]* , with the public key that is *29*"
   ]
  },
  {
   "cell_type": "code",
   "execution_count": 7,
   "id": "ce227ac8",
   "metadata": {},
   "outputs": [],
   "source": [
    "message = [74, 27, 14, 14, 4]\n",
    "public_e = 29"
   ]
  },
  {
   "cell_type": "markdown",
   "id": "84dc3eed",
   "metadata": {},
   "source": [
    "and using the following method to obtain the original message: \n",
    "\n",
    "- `find_private_d_task2`: Obtain the private_d key requeried in decrypt method\n",
    "- `decrypt`:  decrypting the message to find the origial format.\n",
    "\n",
    "for that using called the module task_1"
   ]
  },
  {
   "cell_type": "code",
   "execution_count": 8,
   "id": "b2d00327",
   "metadata": {},
   "outputs": [],
   "source": [
    "from task_1 import find_private_d_task2, decrypt"
   ]
  },
  {
   "cell_type": "markdown",
   "id": "66db37b7",
   "metadata": {},
   "source": [
    "is obtained the private_d key that is equal to task 1"
   ]
  },
  {
   "cell_type": "code",
   "execution_count": 9,
   "id": "9475ca66",
   "metadata": {},
   "outputs": [
    {
     "data": {
      "text/plain": [
       "5"
      ]
     },
     "execution_count": 9,
     "metadata": {},
     "output_type": "execute_result"
    }
   ],
   "source": [
    "private_d = find_private_d_task2(public_e, N, p, q)\n",
    "private_d"
   ]
  },
  {
   "cell_type": "markdown",
   "id": "a9c403b5",
   "metadata": {},
   "source": [
    "Using decrypt method to find the original message that is green the  same value that task 1 using the quantum proposal from shor's algorithm."
   ]
  },
  {
   "cell_type": "code",
   "execution_count": 10,
   "id": "5c09d782",
   "metadata": {},
   "outputs": [
    {
     "data": {
      "text/plain": [
       "'green'"
      ]
     },
     "execution_count": 10,
     "metadata": {},
     "output_type": "execute_result"
    }
   ],
   "source": [
    "decrypt(message, private_d, N)"
   ]
  },
  {
   "cell_type": "markdown",
   "id": "0716b8d0",
   "metadata": {},
   "source": [
    "If you read at this point that means that you got the correct answer.\n",
    "\n",
    "\n",
    "### References\n",
    "\n",
    "[Thomas G. Draper (2000). Addition on a Quantum Computer](https://arxiv.org/abs/quant-ph/0008033)\n",
    "\n"
   ]
  }
 ],
 "metadata": {
  "kernelspec": {
   "display_name": "Python 3 (ipykernel)",
   "language": "python",
   "name": "python3"
  },
  "language_info": {
   "codemirror_mode": {
    "name": "ipython",
    "version": 3
   },
   "file_extension": ".py",
   "mimetype": "text/x-python",
   "name": "python",
   "nbconvert_exporter": "python",
   "pygments_lexer": "ipython3",
   "version": "3.8.8"
  }
 },
 "nbformat": 4,
 "nbformat_minor": 5
}
