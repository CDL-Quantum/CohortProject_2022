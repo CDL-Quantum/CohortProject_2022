{
 "cells": [
  {
   "cell_type": "markdown",
   "id": "e9361900",
   "metadata": {},
   "source": [
    "# Soluton for task 1: Privacy is key\n",
    "\n",
    "RSA is an asymmetric, or public-key cryptography protocol. It is generally used for *key distribution*, i.e., to securely send  keys that are used for other (symmetric, and generally faster) cryptographic protocols that require two parties to have the same key. The RSA key (or *key pair*) consists of two parts:\n",
    "\n",
    " - a publicly available part that people can use to send you\n",
    " encrypted messages,\n",
    " - a secret part, known only to you, that is used to decrypt those messages.\n",
    " \n",
    "The key is designed in such a way that it is not tractable to determine the private part of the key from the public one.\n",
    "\n",
    "Suppose Alice would like to send a message to Bob. The RSA protocol looks something like this:\n",
    "\n",
    "![RSA flowchart](rsa.png)\n",
    "\n",
    "There is some underlying number theory behind *why* this works. The details are provided in [these slides](rsa_number_theory.pdf), if you are keen to explore them.  The critical thing to note is that everything relies on the choice of two prime numbers, $p$ and $q$, which are used to construct the value of the modulus $N$, *which is part of the public key*. If we can factor $N$ and learn $p$ and $q$, we can compute $\\theta$, which, since we know $e$, allows us to recover\n",
    "\n",
    "\n",
    "The module `task_1` provides a Python code where you can obtain the answerfor both situations\n",
    "\n",
    "## Recevie a message\n",
    "\n",
    "\n",
    "Suppose you would like to send and receive messages using RSA. To start, you generate the key $(d, e, N) = (169, 25, 299)$ and publish the public part, $(25, 299)$. Shortly after, you receive an encrypted message from a friend. Implement two functions, `decrypt` and `encrypt`, according to the RSA protocol described\n",
    "above, to decrypt your friend's message. \n",
    "\n",
    "\n",
    "Load the methods requeried for decrypt the message \n",
    "\n",
    "- `find_private_d`: Obtain the private_d key requeried in decrypt method\n",
    "- `decrypt`:  decrypting the message to find the origial format.\n"
   ]
  },
  {
   "cell_type": "code",
   "execution_count": 11,
   "id": "e597f47d",
   "metadata": {},
   "outputs": [],
   "source": [
    "from task_1 import find_private_d, decrypt"
   ]
  },
  {
   "cell_type": "markdown",
   "id": "97912f9a",
   "metadata": {},
   "source": [
    "The values we obtained are used, which are as follows public_e and N, $(25, 299)$"
   ]
  },
  {
   "cell_type": "code",
   "execution_count": 12,
   "id": "6ad4dd7b",
   "metadata": {},
   "outputs": [],
   "source": [
    "public_e = 25\n",
    "N = 299"
   ]
  },
  {
   "cell_type": "markdown",
   "id": "a123ca94",
   "metadata": {},
   "source": [
    "It is possible to obtain the key `private_d` from the method `find_private_d`"
   ]
  },
  {
   "cell_type": "code",
   "execution_count": 13,
   "id": "66713c44",
   "metadata": {},
   "outputs": [
    {
     "data": {
      "text/plain": [
       "169"
      ]
     },
     "execution_count": 13,
     "metadata": {},
     "output_type": "execute_result"
    }
   ],
   "source": [
    "private_d = find_private_d(public_e,N)\n",
    "private_d"
   ]
  },
  {
   "cell_type": "markdown",
   "id": "f2c10965",
   "metadata": {},
   "source": [
    "By obtaining the `private_d key` and knowing `N`, the `decrypt` method can be used to encrypt the original message from the friend."
   ]
  },
  {
   "cell_type": "code",
   "execution_count": 4,
   "id": "d2bfa190",
   "metadata": {},
   "outputs": [
    {
     "data": {
      "text/plain": [
       "'what is your favourite colour'"
      ]
     },
     "execution_count": 4,
     "metadata": {},
     "output_type": "execute_result"
    }
   ],
   "source": [
    "decrypt(message_from_friend, private_d, N)"
   ]
  },
  {
   "cell_type": "markdown",
   "id": "c4379781",
   "metadata": {},
   "source": [
    "## Send a response\n",
    "\n",
    "Then, you can send them a response! Their public key is $(e, N) = (29, 91)$. Note that since this is a small case, you can determine by hand what their private key is. In a real-world setting, $N$ is a very large number, e.g., 2048-bit or 4096-bit.\n",
    "\n",
    "- `encrypt`:  encrypting my message to send oi na safe way to the friend.\n"
   ]
  },
  {
   "cell_type": "code",
   "execution_count": null,
   "id": "2b7f78b7",
   "metadata": {},
   "outputs": [],
   "source": [
    "from task_1 import encrypt"
   ]
  },
  {
   "cell_type": "markdown",
   "id": "4424ad15",
   "metadata": {},
   "source": [
    "send my answer about the question from the friend"
   ]
  },
  {
   "cell_type": "code",
   "execution_count": 5,
   "id": "1ec8da44",
   "metadata": {},
   "outputs": [],
   "source": [
    "message = \"green\""
   ]
  },
  {
   "cell_type": "markdown",
   "id": "9240b196",
   "metadata": {},
   "source": [
    "Important to know the public_e and N  for encrypt the answer"
   ]
  },
  {
   "cell_type": "code",
   "execution_count": 6,
   "id": "6101561e",
   "metadata": {},
   "outputs": [],
   "source": [
    "public_e = 29\n",
    "N = 91"
   ]
  },
  {
   "cell_type": "markdown",
   "id": "6b9bd31c",
   "metadata": {},
   "source": [
    "Using the public_e and N  encrypt the message"
   ]
  },
  {
   "cell_type": "code",
   "execution_count": 7,
   "id": "81788db7",
   "metadata": {},
   "outputs": [
    {
     "data": {
      "text/plain": [
       "[74, 27, 14, 14, 4]"
      ]
     },
     "execution_count": 7,
     "metadata": {},
     "output_type": "execute_result"
    }
   ],
   "source": [
    "message_answer = encrypt(message, public_e, N)\n",
    "message_answer"
   ]
  },
  {
   "cell_type": "markdown",
   "id": "3f8091bc",
   "metadata": {},
   "source": [
    "The friend can find the original answer for the question  if he find the private_d"
   ]
  },
  {
   "cell_type": "code",
   "execution_count": 9,
   "id": "f629760e",
   "metadata": {},
   "outputs": [
    {
     "data": {
      "text/plain": [
       "5"
      ]
     },
     "execution_count": 9,
     "metadata": {},
     "output_type": "execute_result"
    }
   ],
   "source": [
    "private_d = find_private_d(public_e, N)\n",
    "private_d"
   ]
  },
  {
   "cell_type": "markdown",
   "id": "49439b80",
   "metadata": {},
   "source": [
    "The friend finds the original answer"
   ]
  },
  {
   "cell_type": "code",
   "execution_count": 10,
   "id": "975ed0fa",
   "metadata": {},
   "outputs": [
    {
     "data": {
      "text/plain": [
       "'green'"
      ]
     },
     "execution_count": 10,
     "metadata": {},
     "output_type": "execute_result"
    }
   ],
   "source": [
    "decrypt(message_answer, private_d, N)"
   ]
  }
 ],
 "metadata": {
  "kernelspec": {
   "display_name": "Python 3 (ipykernel)",
   "language": "python",
   "name": "python3"
  },
  "language_info": {
   "codemirror_mode": {
    "name": "ipython",
    "version": 3
   },
   "file_extension": ".py",
   "mimetype": "text/x-python",
   "name": "python",
   "nbconvert_exporter": "python",
   "pygments_lexer": "ipython3",
   "version": "3.8.8"
  }
 },
 "nbformat": 4,
 "nbformat_minor": 5
}
