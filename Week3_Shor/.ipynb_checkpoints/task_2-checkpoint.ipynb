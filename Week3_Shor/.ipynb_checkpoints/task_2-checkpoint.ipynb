{
 "cells": [
  {
   "cell_type": "code",
   "execution_count": 20,
   "id": "a71b3a1b",
   "metadata": {},
   "outputs": [
    {
     "name": "stderr",
     "output_type": "stream",
     "text": [
      "configrc.store_credentials:WARNING:2022-07-22 01:16:12,603: Credentials already present. Set overwrite=True to overwrite.\n"
     ]
    }
   ],
   "source": [
    "import numpy as np\n",
    "import math\n",
    "\n",
    "from qiskit import IBMQ\n",
    "IBMQ.save_account('22afb9f6e6768d6c7ea6e144cf330191e8bde8a364b592493ea0ce2815cf3f904b0b90e819a4d01164ca59d5480325c3e2a6ff72ef2d2f207619b9c21cb82c4f')"
   ]
  },
  {
   "cell_type": "code",
   "execution_count": 5,
   "id": "fccba871",
   "metadata": {},
   "outputs": [
    {
     "data": {
      "text/plain": [
       "<AccountProvider for IBMQ(hub='ibm-q', group='open', project='main')>"
      ]
     },
     "execution_count": 5,
     "metadata": {},
     "output_type": "execute_result"
    }
   ],
   "source": [
    "IBMQ.load_account()"
   ]
  },
  {
   "cell_type": "code",
   "execution_count": 9,
   "id": "1ccb4890",
   "metadata": {},
   "outputs": [],
   "source": [
    "def coprime(a,b):\n",
    "    \n",
    "    if a > b:\n",
    "        l = b\n",
    "    else:\n",
    "        l = a\n",
    "    \n",
    "    for i in range(1, l+1):\n",
    "        if a % i == 0 and b % i == 0:\n",
    "            hcf = i\n",
    "\n",
    "    return hcf == 1"
   ]
  },
  {
   "cell_type": "code",
   "execution_count": 12,
   "id": "0d2b681f",
   "metadata": {},
   "outputs": [],
   "source": [
    "random_value_list = range(2, 89, 2)"
   ]
  },
  {
   "cell_type": "code",
   "execution_count": 18,
   "id": "3116d6e3",
   "metadata": {},
   "outputs": [
    {
     "data": {
      "text/plain": [
       "9"
      ]
     },
     "execution_count": 18,
     "metadata": {},
     "output_type": "execute_result"
    }
   ],
   "source": [
    "np.random.randint(44)"
   ]
  },
  {
   "cell_type": "code",
   "execution_count": null,
   "id": "2e8336be",
   "metadata": {},
   "outputs": [],
   "source": [
    "def shors(N):\n",
    "    p = 1\n",
    "    q = 1\n",
    "    \n",
    "    random_value_list = range(2, N, 2)\n",
    "    random_value_list_len = len(random_value_list)\n",
    "    \n",
    "    while p * q != N:\n",
    "        \n",
    "        a_prime = np.random.randint(random_value_list_len)\n",
    "        a = random_value_list[a_prime]\n",
    "        \n",
    "        if coprime(a,N):\n",
    "            p = a\n",
    "            q = int(N / a)\n",
    "            \n",
    "        else:\n",
    "            #use QC to find m\n",
    "            \n",
    "            if (m % 2) == 1:\n",
    "                continue\n",
    "            else:\n",
    "                m_prime = int(m / 2)\n",
    "                x_prime = a ** m_prime\n",
    "                x = x_prime % N\n",
    "                \n",
    "                if x == 1 or x == -1:\n",
    "                    continue\n",
    "                else:\n",
    "                    p = math.gcd(x - 1, N)\n",
    "                    q = math.gcd(x + 1, N)\n",
    "            \n",
    "    \n",
    "    return p, q\n",
    "        "
   ]
  },
  {
   "cell_type": "code",
   "execution_count": null,
   "id": "a5230f6f",
   "metadata": {},
   "outputs": [],
   "source": []
  },
  {
   "cell_type": "code",
   "execution_count": null,
   "id": "c68ecf58",
   "metadata": {},
   "outputs": [],
   "source": []
  }
 ],
 "metadata": {
  "kernelspec": {
   "display_name": "Python 3 (ipykernel)",
   "language": "python",
   "name": "python3"
  },
  "language_info": {
   "codemirror_mode": {
    "name": "ipython",
    "version": 3
   },
   "file_extension": ".py",
   "mimetype": "text/x-python",
   "name": "python",
   "nbconvert_exporter": "python",
   "pygments_lexer": "ipython3",
   "version": "3.9.10"
  }
 },
 "nbformat": 4,
 "nbformat_minor": 5
}
