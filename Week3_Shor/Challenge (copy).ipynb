{
 "cells": [
  {
   "cell_type": "code",
   "execution_count": 1,
   "metadata": {},
   "outputs": [],
   "source": [
    "%load_ext autoreload\n",
    "%autoreload 2"
   ]
  },
  {
   "cell_type": "markdown",
   "metadata": {},
   "source": [
    "### Problem Statement\n",
    "\n",
    "    Identify products at risk of backorder before the event occurs so that business has time to react."
   ]
  },
  {
   "cell_type": "markdown",
   "metadata": {},
   "source": [
    "### What is a Backorder?\n",
    "    Backorders are products that are temporarily out of stock, but a customer is permitted to place an order against future inventory. A backorder generally indicates that customer demand for a product or service exceeds a company’s capacity to supply it. Back orders are both good and bad. Strong demand can drive back orders, but so can suboptimal planning."
   ]
  },
  {
   "cell_type": "markdown",
   "metadata": {},
   "source": [
    "### Data\n",
    "\n",
    "Data file contains the historical data for the 8 weeks prior to the week we are trying to predict. The data was taken as weekly snapshots at the start of each week. Columns are defined as follows:\n",
    "\n",
    "    sku - Random ID for the product\n",
    "\n",
    "    national_inv - Current inventory level for the part\n",
    "\n",
    "    lead_time - Transit time for product (if available)\n",
    "\n",
    "    in_transit_qty - Amount of product in transit from source\n",
    "\n",
    "    forecast_3_month - Forecast sales for the next 3 months\n",
    "\n",
    "    forecast_6_month - Forecast sales for the next 6 months\n",
    "\n",
    "    forecast_9_month - Forecast sales for the next 9 months\n",
    "\n",
    "    sales_1_month - Sales quantity for the prior 1 month time period\n",
    "\n",
    "    sales_3_month - Sales quantity for the prior 3 month time period\n",
    "\n",
    "    sales_6_month - Sales quantity for the prior 6 month time period\n",
    "\n",
    "    sales_9_month - Sales quantity for the prior 9 month time period\n",
    "\n",
    "    min_bank - Minimum recommend amount to stock\n",
    "\n",
    "    potential_issue - Source issue for part identified\n",
    "\n",
    "    pieces_past_due - Parts overdue from source\n",
    "\n",
    "    perf_6_month_avg - Source performance for prior 6 month period\n",
    "\n",
    "    perf_12_month_avg - Source performance for prior 12 month period\n",
    "\n",
    "    local_bo_qty - Amount of stock orders overdue\n",
    "\n",
    "    deck_risk - Part risk flag\n",
    "\n",
    "    oe_constraint - Part risk flag\n",
    "\n",
    "    ppap_risk - Part risk flag\n",
    "\n",
    "    stop_auto_buy - Part risk flag\n",
    "\n",
    "    rev_stop - Part risk flag\n",
    "\n",
    "    went_on_backorder - Product actually went on backorder. This is the target value."
   ]
  },
  {
   "cell_type": "markdown",
   "metadata": {},
   "source": [
    "#### Identify Right Error Metrics\n",
    "\n",
    "    Based on the businees, identify right error metrics."
   ]
  },
  {
   "cell_type": "raw",
   "metadata": {},
   "source": [
    "Recall/TPR"
   ]
  },
  {
   "cell_type": "markdown",
   "metadata": {},
   "source": [
    "### Data Pre-processing\n",
    "#### Loading the required libraries"
   ]
  },
  {
   "cell_type": "code",
   "execution_count": 2,
   "metadata": {},
   "outputs": [
    {
     "name": "stderr",
     "output_type": "stream",
     "text": [
      "Using TensorFlow backend.\n"
     ]
    }
   ],
   "source": [
    "import pandas as pd\n",
    "import numpy as np\n",
    "import os\n",
    "\n",
    "from sklearn.model_selection import train_test_split\n",
    "from sklearn.preprocessing import StandardScaler\n",
    "from sklearn.metrics import confusion_matrix, roc_curve, auc\n",
    "\n",
    "import tensorflow as tf\n",
    "\n",
    "from keras.regularizers import l2\n",
    "\n",
    "from keras.models import Sequential\n",
    "from keras.layers import Dense, Dropout, BatchNormalization\n",
    "\n",
    "from keras.utils import to_categorical\n",
    "from keras import optimizers\n",
    "from keras.callbacks import Callback\n",
    "from keras import backend as K\n",
    "\n",
    "import matplotlib.pyplot as plt\n",
    "%matplotlib inline  \n",
    "\n",
    "import warnings\n",
    "warnings.filterwarnings(\"ignore\", category=DeprecationWarning) "
   ]
  },
  {
   "cell_type": "markdown",
   "metadata": {},
   "source": [
    "###### fix random seed for reproducibility\n",
    "\n",
    "    Generally, Keras gets its source of randomness from the NumPy random number generator.\n",
    "    \n",
    "    In addition, TensorFlow has its own random number generator that must also be seeded by calling the set_random_seed() function immediately after the NumPy random number generator, as follows:"
   ]
  },
  {
   "cell_type": "code",
   "execution_count": 3,
   "metadata": {},
   "outputs": [],
   "source": [
    "np.random.seed(123)\n",
    "\n",
    "tf.set_random_seed(123)"
   ]
  },
  {
   "cell_type": "markdown",
   "metadata": {},
   "source": [
    "Get current working directory"
   ]
  },
  {
   "cell_type": "code",
   "execution_count": 4,
   "metadata": {},
   "outputs": [],
   "source": [
    "PATH = os.getcwd()"
   ]
  },
  {
   "cell_type": "markdown",
   "metadata": {},
   "source": [
    "Change directory"
   ]
  },
  {
   "cell_type": "code",
   "execution_count": 5,
   "metadata": {},
   "outputs": [],
   "source": [
    "os.chdir(PATH)"
   ]
  },
  {
   "cell_type": "markdown",
   "metadata": {},
   "source": [
    "#### Loading the data"
   ]
  },
  {
   "cell_type": "code",
   "execution_count": 6,
   "metadata": {
    "scrolled": true
   },
   "outputs": [],
   "source": [
    "data = pd.read_csv(\"BackOrders.csv\",header=0)"
   ]
  },
  {
   "cell_type": "markdown",
   "metadata": {},
   "source": [
    "#### Understand the Data"
   ]
  },
  {
   "cell_type": "markdown",
   "metadata": {},
   "source": [
    "See the number row and columns"
   ]
  },
  {
   "cell_type": "code",
   "execution_count": 7,
   "metadata": {},
   "outputs": [
    {
     "data": {
      "text/plain": [
       "(61589, 23)"
      ]
     },
     "execution_count": 7,
     "metadata": {},
     "output_type": "execute_result"
    }
   ],
   "source": [
    "data.shape"
   ]
  },
  {
   "cell_type": "markdown",
   "metadata": {},
   "source": [
    "Display the columns"
   ]
  },
  {
   "cell_type": "code",
   "execution_count": 8,
   "metadata": {},
   "outputs": [
    {
     "data": {
      "text/plain": [
       "Index(['sku', 'national_inv', 'lead_time', 'in_transit_qty',\n",
       "       'forecast_3_month', 'forecast_6_month', 'forecast_9_month',\n",
       "       'sales_1_month', 'sales_3_month', 'sales_6_month', 'sales_9_month',\n",
       "       'min_bank', 'potential_issue', 'pieces_past_due', 'perf_6_month_avg',\n",
       "       'perf_12_month_avg', 'local_bo_qty', 'deck_risk', 'oe_constraint',\n",
       "       'ppap_risk', 'stop_auto_buy', 'rev_stop', 'went_on_backorder'],\n",
       "      dtype='object')"
      ]
     },
     "execution_count": 8,
     "metadata": {},
     "output_type": "execute_result"
    }
   ],
   "source": [
    "data.columns"
   ]
  },
  {
   "cell_type": "markdown",
   "metadata": {},
   "source": [
    "Display the index"
   ]
  },
  {
   "cell_type": "code",
   "execution_count": 9,
   "metadata": {},
   "outputs": [
    {
     "data": {
      "text/plain": [
       "RangeIndex(start=0, stop=61589, step=1)"
      ]
     },
     "execution_count": 9,
     "metadata": {},
     "output_type": "execute_result"
    }
   ],
   "source": [
    "data.index"
   ]
  },
  {
   "cell_type": "markdown",
   "metadata": {},
   "source": [
    "See the top rows of the data"
   ]
  },
  {
   "cell_type": "code",
   "execution_count": 10,
   "metadata": {},
   "outputs": [
    {
     "data": {
      "text/html": [
       "<div>\n",
       "<style scoped>\n",
       "    .dataframe tbody tr th:only-of-type {\n",
       "        vertical-align: middle;\n",
       "    }\n",
       "\n",
       "    .dataframe tbody tr th {\n",
       "        vertical-align: top;\n",
       "    }\n",
       "\n",
       "    .dataframe thead th {\n",
       "        text-align: right;\n",
       "    }\n",
       "</style>\n",
       "<table border=\"1\" class=\"dataframe\">\n",
       "  <thead>\n",
       "    <tr style=\"text-align: right;\">\n",
       "      <th></th>\n",
       "      <th>sku</th>\n",
       "      <th>national_inv</th>\n",
       "      <th>lead_time</th>\n",
       "      <th>in_transit_qty</th>\n",
       "      <th>forecast_3_month</th>\n",
       "      <th>forecast_6_month</th>\n",
       "      <th>forecast_9_month</th>\n",
       "      <th>sales_1_month</th>\n",
       "      <th>sales_3_month</th>\n",
       "      <th>sales_6_month</th>\n",
       "      <th>...</th>\n",
       "      <th>pieces_past_due</th>\n",
       "      <th>perf_6_month_avg</th>\n",
       "      <th>perf_12_month_avg</th>\n",
       "      <th>local_bo_qty</th>\n",
       "      <th>deck_risk</th>\n",
       "      <th>oe_constraint</th>\n",
       "      <th>ppap_risk</th>\n",
       "      <th>stop_auto_buy</th>\n",
       "      <th>rev_stop</th>\n",
       "      <th>went_on_backorder</th>\n",
       "    </tr>\n",
       "  </thead>\n",
       "  <tbody>\n",
       "    <tr>\n",
       "      <th>0</th>\n",
       "      <td>1888279</td>\n",
       "      <td>117</td>\n",
       "      <td>NaN</td>\n",
       "      <td>0</td>\n",
       "      <td>0</td>\n",
       "      <td>0</td>\n",
       "      <td>0</td>\n",
       "      <td>0</td>\n",
       "      <td>0</td>\n",
       "      <td>15</td>\n",
       "      <td>...</td>\n",
       "      <td>0</td>\n",
       "      <td>-99.00</td>\n",
       "      <td>-99.00</td>\n",
       "      <td>0</td>\n",
       "      <td>No</td>\n",
       "      <td>No</td>\n",
       "      <td>Yes</td>\n",
       "      <td>Yes</td>\n",
       "      <td>No</td>\n",
       "      <td>No</td>\n",
       "    </tr>\n",
       "    <tr>\n",
       "      <th>1</th>\n",
       "      <td>1870557</td>\n",
       "      <td>7</td>\n",
       "      <td>2.0</td>\n",
       "      <td>0</td>\n",
       "      <td>0</td>\n",
       "      <td>0</td>\n",
       "      <td>0</td>\n",
       "      <td>0</td>\n",
       "      <td>0</td>\n",
       "      <td>0</td>\n",
       "      <td>...</td>\n",
       "      <td>0</td>\n",
       "      <td>0.50</td>\n",
       "      <td>0.28</td>\n",
       "      <td>0</td>\n",
       "      <td>Yes</td>\n",
       "      <td>No</td>\n",
       "      <td>No</td>\n",
       "      <td>Yes</td>\n",
       "      <td>No</td>\n",
       "      <td>No</td>\n",
       "    </tr>\n",
       "    <tr>\n",
       "      <th>2</th>\n",
       "      <td>1475481</td>\n",
       "      <td>258</td>\n",
       "      <td>15.0</td>\n",
       "      <td>10</td>\n",
       "      <td>10</td>\n",
       "      <td>77</td>\n",
       "      <td>184</td>\n",
       "      <td>46</td>\n",
       "      <td>132</td>\n",
       "      <td>256</td>\n",
       "      <td>...</td>\n",
       "      <td>0</td>\n",
       "      <td>0.54</td>\n",
       "      <td>0.70</td>\n",
       "      <td>0</td>\n",
       "      <td>No</td>\n",
       "      <td>No</td>\n",
       "      <td>No</td>\n",
       "      <td>Yes</td>\n",
       "      <td>No</td>\n",
       "      <td>No</td>\n",
       "    </tr>\n",
       "    <tr>\n",
       "      <th>3</th>\n",
       "      <td>1758220</td>\n",
       "      <td>46</td>\n",
       "      <td>2.0</td>\n",
       "      <td>0</td>\n",
       "      <td>0</td>\n",
       "      <td>0</td>\n",
       "      <td>0</td>\n",
       "      <td>1</td>\n",
       "      <td>2</td>\n",
       "      <td>6</td>\n",
       "      <td>...</td>\n",
       "      <td>0</td>\n",
       "      <td>0.75</td>\n",
       "      <td>0.90</td>\n",
       "      <td>0</td>\n",
       "      <td>Yes</td>\n",
       "      <td>No</td>\n",
       "      <td>No</td>\n",
       "      <td>Yes</td>\n",
       "      <td>No</td>\n",
       "      <td>No</td>\n",
       "    </tr>\n",
       "    <tr>\n",
       "      <th>4</th>\n",
       "      <td>1360312</td>\n",
       "      <td>2</td>\n",
       "      <td>2.0</td>\n",
       "      <td>0</td>\n",
       "      <td>4</td>\n",
       "      <td>6</td>\n",
       "      <td>10</td>\n",
       "      <td>2</td>\n",
       "      <td>2</td>\n",
       "      <td>5</td>\n",
       "      <td>...</td>\n",
       "      <td>0</td>\n",
       "      <td>0.97</td>\n",
       "      <td>0.92</td>\n",
       "      <td>0</td>\n",
       "      <td>No</td>\n",
       "      <td>No</td>\n",
       "      <td>No</td>\n",
       "      <td>Yes</td>\n",
       "      <td>No</td>\n",
       "      <td>No</td>\n",
       "    </tr>\n",
       "  </tbody>\n",
       "</table>\n",
       "<p>5 rows × 23 columns</p>\n",
       "</div>"
      ],
      "text/plain": [
       "       sku  national_inv  lead_time  in_transit_qty  forecast_3_month  \\\n",
       "0  1888279           117        NaN               0                 0   \n",
       "1  1870557             7        2.0               0                 0   \n",
       "2  1475481           258       15.0              10                10   \n",
       "3  1758220            46        2.0               0                 0   \n",
       "4  1360312             2        2.0               0                 4   \n",
       "\n",
       "   forecast_6_month  forecast_9_month  sales_1_month  sales_3_month  \\\n",
       "0                 0                 0              0              0   \n",
       "1                 0                 0              0              0   \n",
       "2                77               184             46            132   \n",
       "3                 0                 0              1              2   \n",
       "4                 6                10              2              2   \n",
       "\n",
       "   sales_6_month  ...  pieces_past_due  perf_6_month_avg perf_12_month_avg  \\\n",
       "0             15  ...                0            -99.00            -99.00   \n",
       "1              0  ...                0              0.50              0.28   \n",
       "2            256  ...                0              0.54              0.70   \n",
       "3              6  ...                0              0.75              0.90   \n",
       "4              5  ...                0              0.97              0.92   \n",
       "\n",
       "   local_bo_qty  deck_risk  oe_constraint  ppap_risk stop_auto_buy rev_stop  \\\n",
       "0             0         No             No        Yes           Yes       No   \n",
       "1             0        Yes             No         No           Yes       No   \n",
       "2             0         No             No         No           Yes       No   \n",
       "3             0        Yes             No         No           Yes       No   \n",
       "4             0         No             No         No           Yes       No   \n",
       "\n",
       "  went_on_backorder  \n",
       "0                No  \n",
       "1                No  \n",
       "2                No  \n",
       "3                No  \n",
       "4                No  \n",
       "\n",
       "[5 rows x 23 columns]"
      ]
     },
     "execution_count": 10,
     "metadata": {},
     "output_type": "execute_result"
    }
   ],
   "source": [
    "data.head()"
   ]
  },
  {
   "cell_type": "markdown",
   "metadata": {},
   "source": [
    "Shows a quick statistic summary of your data using describe.\n",
    "\n",
    "    For object data (e.g. strings or timestamps), the result’s index will include count, unique, top, and freq. \n",
    "\n",
    "        The top is the most common value.\n",
    "\n",
    "        The freq is the most common value’s frequency."
   ]
  },
  {
   "cell_type": "code",
   "execution_count": 11,
   "metadata": {
    "scrolled": true
   },
   "outputs": [
    {
     "data": {
      "text/html": [
       "<div>\n",
       "<style scoped>\n",
       "    .dataframe tbody tr th:only-of-type {\n",
       "        vertical-align: middle;\n",
       "    }\n",
       "\n",
       "    .dataframe tbody tr th {\n",
       "        vertical-align: top;\n",
       "    }\n",
       "\n",
       "    .dataframe thead th {\n",
       "        text-align: right;\n",
       "    }\n",
       "</style>\n",
       "<table border=\"1\" class=\"dataframe\">\n",
       "  <thead>\n",
       "    <tr style=\"text-align: right;\">\n",
       "      <th></th>\n",
       "      <th>sku</th>\n",
       "      <th>national_inv</th>\n",
       "      <th>lead_time</th>\n",
       "      <th>in_transit_qty</th>\n",
       "      <th>forecast_3_month</th>\n",
       "      <th>forecast_6_month</th>\n",
       "      <th>forecast_9_month</th>\n",
       "      <th>sales_1_month</th>\n",
       "      <th>sales_3_month</th>\n",
       "      <th>sales_6_month</th>\n",
       "      <th>...</th>\n",
       "      <th>pieces_past_due</th>\n",
       "      <th>perf_6_month_avg</th>\n",
       "      <th>perf_12_month_avg</th>\n",
       "      <th>local_bo_qty</th>\n",
       "      <th>deck_risk</th>\n",
       "      <th>oe_constraint</th>\n",
       "      <th>ppap_risk</th>\n",
       "      <th>stop_auto_buy</th>\n",
       "      <th>rev_stop</th>\n",
       "      <th>went_on_backorder</th>\n",
       "    </tr>\n",
       "  </thead>\n",
       "  <tbody>\n",
       "    <tr>\n",
       "      <th>count</th>\n",
       "      <td>6.158900e+04</td>\n",
       "      <td>61589.000000</td>\n",
       "      <td>58186.000000</td>\n",
       "      <td>61589.000000</td>\n",
       "      <td>6.158900e+04</td>\n",
       "      <td>6.158900e+04</td>\n",
       "      <td>6.158900e+04</td>\n",
       "      <td>61589.000000</td>\n",
       "      <td>61589.000000</td>\n",
       "      <td>6.158900e+04</td>\n",
       "      <td>...</td>\n",
       "      <td>61589.000000</td>\n",
       "      <td>61589.000000</td>\n",
       "      <td>61589.000000</td>\n",
       "      <td>61589.000000</td>\n",
       "      <td>61589</td>\n",
       "      <td>61589</td>\n",
       "      <td>61589</td>\n",
       "      <td>61589</td>\n",
       "      <td>61589</td>\n",
       "      <td>61589</td>\n",
       "    </tr>\n",
       "    <tr>\n",
       "      <th>unique</th>\n",
       "      <td>NaN</td>\n",
       "      <td>NaN</td>\n",
       "      <td>NaN</td>\n",
       "      <td>NaN</td>\n",
       "      <td>NaN</td>\n",
       "      <td>NaN</td>\n",
       "      <td>NaN</td>\n",
       "      <td>NaN</td>\n",
       "      <td>NaN</td>\n",
       "      <td>NaN</td>\n",
       "      <td>...</td>\n",
       "      <td>NaN</td>\n",
       "      <td>NaN</td>\n",
       "      <td>NaN</td>\n",
       "      <td>NaN</td>\n",
       "      <td>2</td>\n",
       "      <td>2</td>\n",
       "      <td>2</td>\n",
       "      <td>2</td>\n",
       "      <td>2</td>\n",
       "      <td>2</td>\n",
       "    </tr>\n",
       "    <tr>\n",
       "      <th>top</th>\n",
       "      <td>NaN</td>\n",
       "      <td>NaN</td>\n",
       "      <td>NaN</td>\n",
       "      <td>NaN</td>\n",
       "      <td>NaN</td>\n",
       "      <td>NaN</td>\n",
       "      <td>NaN</td>\n",
       "      <td>NaN</td>\n",
       "      <td>NaN</td>\n",
       "      <td>NaN</td>\n",
       "      <td>...</td>\n",
       "      <td>NaN</td>\n",
       "      <td>NaN</td>\n",
       "      <td>NaN</td>\n",
       "      <td>NaN</td>\n",
       "      <td>No</td>\n",
       "      <td>No</td>\n",
       "      <td>No</td>\n",
       "      <td>Yes</td>\n",
       "      <td>No</td>\n",
       "      <td>No</td>\n",
       "    </tr>\n",
       "    <tr>\n",
       "      <th>freq</th>\n",
       "      <td>NaN</td>\n",
       "      <td>NaN</td>\n",
       "      <td>NaN</td>\n",
       "      <td>NaN</td>\n",
       "      <td>NaN</td>\n",
       "      <td>NaN</td>\n",
       "      <td>NaN</td>\n",
       "      <td>NaN</td>\n",
       "      <td>NaN</td>\n",
       "      <td>NaN</td>\n",
       "      <td>...</td>\n",
       "      <td>NaN</td>\n",
       "      <td>NaN</td>\n",
       "      <td>NaN</td>\n",
       "      <td>NaN</td>\n",
       "      <td>48145</td>\n",
       "      <td>61577</td>\n",
       "      <td>53792</td>\n",
       "      <td>59303</td>\n",
       "      <td>61569</td>\n",
       "      <td>50296</td>\n",
       "    </tr>\n",
       "    <tr>\n",
       "      <th>mean</th>\n",
       "      <td>2.037188e+06</td>\n",
       "      <td>287.721882</td>\n",
       "      <td>7.559619</td>\n",
       "      <td>30.192843</td>\n",
       "      <td>1.692728e+02</td>\n",
       "      <td>3.150413e+02</td>\n",
       "      <td>4.535760e+02</td>\n",
       "      <td>44.742957</td>\n",
       "      <td>150.732631</td>\n",
       "      <td>2.835465e+02</td>\n",
       "      <td>...</td>\n",
       "      <td>1.605400</td>\n",
       "      <td>-6.264182</td>\n",
       "      <td>-5.863664</td>\n",
       "      <td>1.205361</td>\n",
       "      <td>NaN</td>\n",
       "      <td>NaN</td>\n",
       "      <td>NaN</td>\n",
       "      <td>NaN</td>\n",
       "      <td>NaN</td>\n",
       "      <td>NaN</td>\n",
       "    </tr>\n",
       "    <tr>\n",
       "      <th>std</th>\n",
       "      <td>6.564178e+05</td>\n",
       "      <td>4233.906931</td>\n",
       "      <td>6.498952</td>\n",
       "      <td>792.869253</td>\n",
       "      <td>5.286742e+03</td>\n",
       "      <td>9.774362e+03</td>\n",
       "      <td>1.420201e+04</td>\n",
       "      <td>1373.805831</td>\n",
       "      <td>5224.959649</td>\n",
       "      <td>8.872270e+03</td>\n",
       "      <td>...</td>\n",
       "      <td>42.309229</td>\n",
       "      <td>25.537906</td>\n",
       "      <td>24.844514</td>\n",
       "      <td>29.981155</td>\n",
       "      <td>NaN</td>\n",
       "      <td>NaN</td>\n",
       "      <td>NaN</td>\n",
       "      <td>NaN</td>\n",
       "      <td>NaN</td>\n",
       "      <td>NaN</td>\n",
       "    </tr>\n",
       "    <tr>\n",
       "      <th>min</th>\n",
       "      <td>1.068628e+06</td>\n",
       "      <td>-2999.000000</td>\n",
       "      <td>0.000000</td>\n",
       "      <td>0.000000</td>\n",
       "      <td>0.000000e+00</td>\n",
       "      <td>0.000000e+00</td>\n",
       "      <td>0.000000e+00</td>\n",
       "      <td>0.000000</td>\n",
       "      <td>0.000000</td>\n",
       "      <td>0.000000e+00</td>\n",
       "      <td>...</td>\n",
       "      <td>0.000000</td>\n",
       "      <td>-99.000000</td>\n",
       "      <td>-99.000000</td>\n",
       "      <td>0.000000</td>\n",
       "      <td>NaN</td>\n",
       "      <td>NaN</td>\n",
       "      <td>NaN</td>\n",
       "      <td>NaN</td>\n",
       "      <td>NaN</td>\n",
       "      <td>NaN</td>\n",
       "    </tr>\n",
       "    <tr>\n",
       "      <th>25%</th>\n",
       "      <td>1.498574e+06</td>\n",
       "      <td>3.000000</td>\n",
       "      <td>4.000000</td>\n",
       "      <td>0.000000</td>\n",
       "      <td>0.000000e+00</td>\n",
       "      <td>0.000000e+00</td>\n",
       "      <td>0.000000e+00</td>\n",
       "      <td>0.000000</td>\n",
       "      <td>0.000000</td>\n",
       "      <td>0.000000e+00</td>\n",
       "      <td>...</td>\n",
       "      <td>0.000000</td>\n",
       "      <td>0.620000</td>\n",
       "      <td>0.640000</td>\n",
       "      <td>0.000000</td>\n",
       "      <td>NaN</td>\n",
       "      <td>NaN</td>\n",
       "      <td>NaN</td>\n",
       "      <td>NaN</td>\n",
       "      <td>NaN</td>\n",
       "      <td>NaN</td>\n",
       "    </tr>\n",
       "    <tr>\n",
       "      <th>50%</th>\n",
       "      <td>1.898033e+06</td>\n",
       "      <td>10.000000</td>\n",
       "      <td>8.000000</td>\n",
       "      <td>0.000000</td>\n",
       "      <td>0.000000e+00</td>\n",
       "      <td>0.000000e+00</td>\n",
       "      <td>0.000000e+00</td>\n",
       "      <td>0.000000</td>\n",
       "      <td>2.000000</td>\n",
       "      <td>4.000000e+00</td>\n",
       "      <td>...</td>\n",
       "      <td>0.000000</td>\n",
       "      <td>0.820000</td>\n",
       "      <td>0.800000</td>\n",
       "      <td>0.000000</td>\n",
       "      <td>NaN</td>\n",
       "      <td>NaN</td>\n",
       "      <td>NaN</td>\n",
       "      <td>NaN</td>\n",
       "      <td>NaN</td>\n",
       "      <td>NaN</td>\n",
       "    </tr>\n",
       "    <tr>\n",
       "      <th>75%</th>\n",
       "      <td>2.314826e+06</td>\n",
       "      <td>57.000000</td>\n",
       "      <td>8.000000</td>\n",
       "      <td>0.000000</td>\n",
       "      <td>1.200000e+01</td>\n",
       "      <td>2.500000e+01</td>\n",
       "      <td>3.600000e+01</td>\n",
       "      <td>6.000000</td>\n",
       "      <td>17.000000</td>\n",
       "      <td>3.400000e+01</td>\n",
       "      <td>...</td>\n",
       "      <td>0.000000</td>\n",
       "      <td>0.960000</td>\n",
       "      <td>0.950000</td>\n",
       "      <td>0.000000</td>\n",
       "      <td>NaN</td>\n",
       "      <td>NaN</td>\n",
       "      <td>NaN</td>\n",
       "      <td>NaN</td>\n",
       "      <td>NaN</td>\n",
       "      <td>NaN</td>\n",
       "    </tr>\n",
       "    <tr>\n",
       "      <th>max</th>\n",
       "      <td>3.284895e+06</td>\n",
       "      <td>673445.000000</td>\n",
       "      <td>52.000000</td>\n",
       "      <td>170976.000000</td>\n",
       "      <td>1.126656e+06</td>\n",
       "      <td>2.094336e+06</td>\n",
       "      <td>3.062016e+06</td>\n",
       "      <td>295197.000000</td>\n",
       "      <td>934593.000000</td>\n",
       "      <td>1.799099e+06</td>\n",
       "      <td>...</td>\n",
       "      <td>7392.000000</td>\n",
       "      <td>1.000000</td>\n",
       "      <td>1.000000</td>\n",
       "      <td>2999.000000</td>\n",
       "      <td>NaN</td>\n",
       "      <td>NaN</td>\n",
       "      <td>NaN</td>\n",
       "      <td>NaN</td>\n",
       "      <td>NaN</td>\n",
       "      <td>NaN</td>\n",
       "    </tr>\n",
       "  </tbody>\n",
       "</table>\n",
       "<p>11 rows × 23 columns</p>\n",
       "</div>"
      ],
      "text/plain": [
       "                 sku   national_inv     lead_time  in_transit_qty  \\\n",
       "count   6.158900e+04   61589.000000  58186.000000    61589.000000   \n",
       "unique           NaN            NaN           NaN             NaN   \n",
       "top              NaN            NaN           NaN             NaN   \n",
       "freq             NaN            NaN           NaN             NaN   \n",
       "mean    2.037188e+06     287.721882      7.559619       30.192843   \n",
       "std     6.564178e+05    4233.906931      6.498952      792.869253   \n",
       "min     1.068628e+06   -2999.000000      0.000000        0.000000   \n",
       "25%     1.498574e+06       3.000000      4.000000        0.000000   \n",
       "50%     1.898033e+06      10.000000      8.000000        0.000000   \n",
       "75%     2.314826e+06      57.000000      8.000000        0.000000   \n",
       "max     3.284895e+06  673445.000000     52.000000   170976.000000   \n",
       "\n",
       "        forecast_3_month  forecast_6_month  forecast_9_month  sales_1_month  \\\n",
       "count       6.158900e+04      6.158900e+04      6.158900e+04   61589.000000   \n",
       "unique               NaN               NaN               NaN            NaN   \n",
       "top                  NaN               NaN               NaN            NaN   \n",
       "freq                 NaN               NaN               NaN            NaN   \n",
       "mean        1.692728e+02      3.150413e+02      4.535760e+02      44.742957   \n",
       "std         5.286742e+03      9.774362e+03      1.420201e+04    1373.805831   \n",
       "min         0.000000e+00      0.000000e+00      0.000000e+00       0.000000   \n",
       "25%         0.000000e+00      0.000000e+00      0.000000e+00       0.000000   \n",
       "50%         0.000000e+00      0.000000e+00      0.000000e+00       0.000000   \n",
       "75%         1.200000e+01      2.500000e+01      3.600000e+01       6.000000   \n",
       "max         1.126656e+06      2.094336e+06      3.062016e+06  295197.000000   \n",
       "\n",
       "        sales_3_month  sales_6_month  ...  pieces_past_due  perf_6_month_avg  \\\n",
       "count    61589.000000   6.158900e+04  ...     61589.000000      61589.000000   \n",
       "unique            NaN            NaN  ...              NaN               NaN   \n",
       "top               NaN            NaN  ...              NaN               NaN   \n",
       "freq              NaN            NaN  ...              NaN               NaN   \n",
       "mean       150.732631   2.835465e+02  ...         1.605400         -6.264182   \n",
       "std       5224.959649   8.872270e+03  ...        42.309229         25.537906   \n",
       "min          0.000000   0.000000e+00  ...         0.000000        -99.000000   \n",
       "25%          0.000000   0.000000e+00  ...         0.000000          0.620000   \n",
       "50%          2.000000   4.000000e+00  ...         0.000000          0.820000   \n",
       "75%         17.000000   3.400000e+01  ...         0.000000          0.960000   \n",
       "max     934593.000000   1.799099e+06  ...      7392.000000          1.000000   \n",
       "\n",
       "       perf_12_month_avg  local_bo_qty  deck_risk  oe_constraint  ppap_risk  \\\n",
       "count       61589.000000  61589.000000      61589          61589      61589   \n",
       "unique               NaN           NaN          2              2          2   \n",
       "top                  NaN           NaN         No             No         No   \n",
       "freq                 NaN           NaN      48145          61577      53792   \n",
       "mean           -5.863664      1.205361        NaN            NaN        NaN   \n",
       "std            24.844514     29.981155        NaN            NaN        NaN   \n",
       "min           -99.000000      0.000000        NaN            NaN        NaN   \n",
       "25%             0.640000      0.000000        NaN            NaN        NaN   \n",
       "50%             0.800000      0.000000        NaN            NaN        NaN   \n",
       "75%             0.950000      0.000000        NaN            NaN        NaN   \n",
       "max             1.000000   2999.000000        NaN            NaN        NaN   \n",
       "\n",
       "       stop_auto_buy rev_stop went_on_backorder  \n",
       "count          61589    61589             61589  \n",
       "unique             2        2                 2  \n",
       "top              Yes       No                No  \n",
       "freq           59303    61569             50296  \n",
       "mean             NaN      NaN               NaN  \n",
       "std              NaN      NaN               NaN  \n",
       "min              NaN      NaN               NaN  \n",
       "25%              NaN      NaN               NaN  \n",
       "50%              NaN      NaN               NaN  \n",
       "75%              NaN      NaN               NaN  \n",
       "max              NaN      NaN               NaN  \n",
       "\n",
       "[11 rows x 23 columns]"
      ]
     },
     "execution_count": 11,
     "metadata": {},
     "output_type": "execute_result"
    }
   ],
   "source": [
    "data.describe(include='all')"
   ]
  },
  {
   "cell_type": "markdown",
   "metadata": {},
   "source": [
    "Display data type of each variable"
   ]
  },
  {
   "cell_type": "code",
   "execution_count": 12,
   "metadata": {},
   "outputs": [
    {
     "data": {
      "text/plain": [
       "sku                    int64\n",
       "national_inv           int64\n",
       "lead_time            float64\n",
       "in_transit_qty         int64\n",
       "forecast_3_month       int64\n",
       "forecast_6_month       int64\n",
       "forecast_9_month       int64\n",
       "sales_1_month          int64\n",
       "sales_3_month          int64\n",
       "sales_6_month          int64\n",
       "sales_9_month          int64\n",
       "min_bank               int64\n",
       "potential_issue       object\n",
       "pieces_past_due        int64\n",
       "perf_6_month_avg     float64\n",
       "perf_12_month_avg    float64\n",
       "local_bo_qty           int64\n",
       "deck_risk             object\n",
       "oe_constraint         object\n",
       "ppap_risk             object\n",
       "stop_auto_buy         object\n",
       "rev_stop              object\n",
       "went_on_backorder     object\n",
       "dtype: object"
      ]
     },
     "execution_count": 12,
     "metadata": {},
     "output_type": "execute_result"
    }
   ],
   "source": [
    "data.dtypes"
   ]
  },
  {
   "cell_type": "markdown",
   "metadata": {},
   "source": [
    "#### Observations\n",
    "\n",
    "    sku is Categorical but is interpreted as int64 \n",
    "\n",
    "    potential_issue, deck_risk, oe_constraint, ppap_risk, stop_auto_buy, rev_stop, and went_on_backorder are categorical but is interpreted as object. "
   ]
  },
  {
   "cell_type": "markdown",
   "metadata": {},
   "source": [
    "#### Convert all the attributes to appropriate type"
   ]
  },
  {
   "cell_type": "markdown",
   "metadata": {},
   "source": [
    "Data type conversion\n",
    "\n",
    "    Using astype('category') to convert potential_issue, deck_risk, oe_constraint, ppap_risk, stop_auto_buy, rev_stop, and went_on_backorder attributes to categorical attributes.\n"
   ]
  },
  {
   "cell_type": "code",
   "execution_count": 13,
   "metadata": {},
   "outputs": [],
   "source": [
    "for col in ['sku', 'potential_issue', 'deck_risk', 'oe_constraint', 'ppap_risk', 'stop_auto_buy', 'rev_stop', 'went_on_backorder']:\n",
    "    data[col] = data[col].astype('category')"
   ]
  },
  {
   "cell_type": "markdown",
   "metadata": {},
   "source": [
    "Display data type of each variable"
   ]
  },
  {
   "cell_type": "code",
   "execution_count": 14,
   "metadata": {},
   "outputs": [
    {
     "data": {
      "text/plain": [
       "sku                  category\n",
       "national_inv            int64\n",
       "lead_time             float64\n",
       "in_transit_qty          int64\n",
       "forecast_3_month        int64\n",
       "forecast_6_month        int64\n",
       "forecast_9_month        int64\n",
       "sales_1_month           int64\n",
       "sales_3_month           int64\n",
       "sales_6_month           int64\n",
       "sales_9_month           int64\n",
       "min_bank                int64\n",
       "potential_issue      category\n",
       "pieces_past_due         int64\n",
       "perf_6_month_avg      float64\n",
       "perf_12_month_avg     float64\n",
       "local_bo_qty            int64\n",
       "deck_risk            category\n",
       "oe_constraint        category\n",
       "ppap_risk            category\n",
       "stop_auto_buy        category\n",
       "rev_stop             category\n",
       "went_on_backorder    category\n",
       "dtype: object"
      ]
     },
     "execution_count": 14,
     "metadata": {},
     "output_type": "execute_result"
    }
   ],
   "source": [
    "data.dtypes"
   ]
  },
  {
   "cell_type": "markdown",
   "metadata": {},
   "source": [
    "##### Delete sku attribute"
   ]
  },
  {
   "cell_type": "code",
   "execution_count": 15,
   "metadata": {},
   "outputs": [
    {
     "data": {
      "text/plain": [
       "61589"
      ]
     },
     "execution_count": 15,
     "metadata": {},
     "output_type": "execute_result"
    }
   ],
   "source": [
    "np.size(np.unique(data.sku))"
   ]
  },
  {
   "cell_type": "code",
   "execution_count": 16,
   "metadata": {},
   "outputs": [],
   "source": [
    "data.drop('sku', axis=1, inplace=True)"
   ]
  },
  {
   "cell_type": "markdown",
   "metadata": {},
   "source": [
    "#### Missing Data\n",
    "\n",
    "    Missing value analysis and dropping the records with missing values"
   ]
  },
  {
   "cell_type": "code",
   "execution_count": 17,
   "metadata": {},
   "outputs": [
    {
     "data": {
      "text/plain": [
       "national_inv            0\n",
       "lead_time            3403\n",
       "in_transit_qty          0\n",
       "forecast_3_month        0\n",
       "forecast_6_month        0\n",
       "forecast_9_month        0\n",
       "sales_1_month           0\n",
       "sales_3_month           0\n",
       "sales_6_month           0\n",
       "sales_9_month           0\n",
       "min_bank                0\n",
       "potential_issue         0\n",
       "pieces_past_due         0\n",
       "perf_6_month_avg        0\n",
       "perf_12_month_avg       0\n",
       "local_bo_qty            0\n",
       "deck_risk               0\n",
       "oe_constraint           0\n",
       "ppap_risk               0\n",
       "stop_auto_buy           0\n",
       "rev_stop                0\n",
       "went_on_backorder       0\n",
       "dtype: int64"
      ]
     },
     "execution_count": 17,
     "metadata": {},
     "output_type": "execute_result"
    }
   ],
   "source": [
    "data.isnull().sum()"
   ]
  },
  {
   "cell_type": "markdown",
   "metadata": {},
   "source": [
    "Observing the number of records before and after missing value records removal"
   ]
  },
  {
   "cell_type": "code",
   "execution_count": 18,
   "metadata": {},
   "outputs": [
    {
     "name": "stdout",
     "output_type": "stream",
     "text": [
      "(61589, 22)\n"
     ]
    }
   ],
   "source": [
    "print (data.shape)"
   ]
  },
  {
   "cell_type": "markdown",
   "metadata": {},
   "source": [
    "Since the number of missing values is about 5%. For initial analysis we ignore all these records"
   ]
  },
  {
   "cell_type": "code",
   "execution_count": 19,
   "metadata": {},
   "outputs": [],
   "source": [
    "data = data.dropna(axis=0)"
   ]
  },
  {
   "cell_type": "code",
   "execution_count": 20,
   "metadata": {},
   "outputs": [
    {
     "name": "stdout",
     "output_type": "stream",
     "text": [
      "national_inv         0\n",
      "lead_time            0\n",
      "in_transit_qty       0\n",
      "forecast_3_month     0\n",
      "forecast_6_month     0\n",
      "forecast_9_month     0\n",
      "sales_1_month        0\n",
      "sales_3_month        0\n",
      "sales_6_month        0\n",
      "sales_9_month        0\n",
      "min_bank             0\n",
      "potential_issue      0\n",
      "pieces_past_due      0\n",
      "perf_6_month_avg     0\n",
      "perf_12_month_avg    0\n",
      "local_bo_qty         0\n",
      "deck_risk            0\n",
      "oe_constraint        0\n",
      "ppap_risk            0\n",
      "stop_auto_buy        0\n",
      "rev_stop             0\n",
      "went_on_backorder    0\n",
      "dtype: int64\n",
      "----------------------------------\n",
      "(58186, 22)\n"
     ]
    }
   ],
   "source": [
    "print(data.isnull().sum())\n",
    "print(\"----------------------------------\")\n",
    "print(data.shape)"
   ]
  },
  {
   "cell_type": "markdown",
   "metadata": {},
   "source": [
    "#### Converting Categorical to Numeric\n",
    "\n",
    "For some of the models all the independent attribute should be of type numeric and ANN model is one among them.\n",
    "But this data set has some categorial attributes.\n",
    "\n",
    "'pandas.get_dummies' To convert convert categorical variable into dummy/indicator variables\n"
   ]
  },
  {
   "cell_type": "code",
   "execution_count": 21,
   "metadata": {},
   "outputs": [
    {
     "name": "stdout",
     "output_type": "stream",
     "text": [
      "Index(['national_inv', 'lead_time', 'in_transit_qty', 'forecast_3_month',\n",
      "       'forecast_6_month', 'forecast_9_month', 'sales_1_month',\n",
      "       'sales_3_month', 'sales_6_month', 'sales_9_month', 'min_bank',\n",
      "       'potential_issue', 'pieces_past_due', 'perf_6_month_avg',\n",
      "       'perf_12_month_avg', 'local_bo_qty', 'deck_risk', 'oe_constraint',\n",
      "       'ppap_risk', 'stop_auto_buy', 'rev_stop', 'went_on_backorder'],\n",
      "      dtype='object')\n"
     ]
    }
   ],
   "source": [
    "print (data.columns)"
   ]
  },
  {
   "cell_type": "markdown",
   "metadata": {},
   "source": [
    "##### Creating dummy variables.\n",
    "\n",
    "If we have k levels in a category, then we create k-1 dummy variables as the last one would be redundant. So we use the parameter drop_first in pd.get_dummies function that drops the first level in each of the category\n"
   ]
  },
  {
   "cell_type": "code",
   "execution_count": 22,
   "metadata": {},
   "outputs": [],
   "source": [
    "categorical_Attributes = data.select_dtypes(include=['category']).columns"
   ]
  },
  {
   "cell_type": "code",
   "execution_count": 23,
   "metadata": {},
   "outputs": [],
   "source": [
    "data = pd.get_dummies(columns=categorical_Attributes, \n",
    "                      data=data, prefix=categorical_Attributes, \n",
    "                      prefix_sep=\"_\",drop_first=True)"
   ]
  },
  {
   "cell_type": "code",
   "execution_count": 24,
   "metadata": {},
   "outputs": [
    {
     "name": "stdout",
     "output_type": "stream",
     "text": [
      "Index(['national_inv', 'lead_time', 'in_transit_qty', 'forecast_3_month',\n",
      "       'forecast_6_month', 'forecast_9_month', 'sales_1_month',\n",
      "       'sales_3_month', 'sales_6_month', 'sales_9_month', 'min_bank',\n",
      "       'pieces_past_due', 'perf_6_month_avg', 'perf_12_month_avg',\n",
      "       'local_bo_qty', 'potential_issue_Yes', 'deck_risk_Yes',\n",
      "       'oe_constraint_Yes', 'ppap_risk_Yes', 'stop_auto_buy_Yes',\n",
      "       'rev_stop_Yes', 'went_on_backorder_Yes'],\n",
      "      dtype='object') (58186, 22)\n"
     ]
    }
   ],
   "source": [
    "print (data.columns, data.shape)"
   ]
  },
  {
   "cell_type": "markdown",
   "metadata": {},
   "source": [
    "#### Train-Test Split\n",
    "\n",
    "Using sklearn.model_selection.train_test_split\n",
    "\n",
    "    Split arrays or matrices into train and test subsets"
   ]
  },
  {
   "cell_type": "code",
   "execution_count": 25,
   "metadata": {},
   "outputs": [],
   "source": [
    "X, y = data.loc[:,data.columns!='went_on_backorder_Yes'].values, data.loc[:,'went_on_backorder_Yes'].values\n",
    "\n",
    "X_train, X_test, y_train, y_test = train_test_split(X, y, test_size=0.3, random_state=123, stratify = data['went_on_backorder_Yes'])"
   ]
  },
  {
   "cell_type": "code",
   "execution_count": 26,
   "metadata": {},
   "outputs": [
    {
     "name": "stdout",
     "output_type": "stream",
     "text": [
      "(40730, 21)\n",
      "(17456, 21)\n"
     ]
    }
   ],
   "source": [
    "print(X_train.shape)\n",
    "print(X_test.shape)"
   ]
  },
  {
   "cell_type": "code",
   "execution_count": 27,
   "metadata": {},
   "outputs": [
    {
     "name": "stdout",
     "output_type": "stream",
     "text": [
      "0    33052\n",
      "1     7678\n",
      "dtype: int64\n",
      "0    14165\n",
      "1     3291\n",
      "dtype: int64\n"
     ]
    }
   ],
   "source": [
    "print(pd.value_counts(y_train))\n",
    "print(pd.value_counts(y_test))"
   ]
  },
  {
   "cell_type": "code",
   "execution_count": 28,
   "metadata": {},
   "outputs": [
    {
     "name": "stdout",
     "output_type": "stream",
     "text": [
      "0    81.14903\n",
      "1    18.85097\n",
      "dtype: float64\n",
      "0    81.146884\n",
      "1    18.853116\n",
      "dtype: float64\n"
     ]
    }
   ],
   "source": [
    "print(pd.value_counts(y_train)/y_train.size * 100)\n",
    "print(pd.value_counts(y_test)/y_test.size * 100)"
   ]
  },
  {
   "cell_type": "markdown",
   "metadata": {},
   "source": [
    "### Standardization of the data"
   ]
  },
  {
   "cell_type": "markdown",
   "metadata": {},
   "source": [
    "- In data it is not very uncommon to has variables each with different scales. For eg: Age ranges from 0 to 100 and salary may be in thousands. \n",
    "    - Scaling by Normalization or min-max scaling\n",
    "    - Scaling by mean and standard deviation or standardization"
   ]
  },
  {
   "cell_type": "markdown",
   "metadata": {},
   "source": [
    "1. StandardScaler is a function used to standardize the data .\n",
    "2. Standardized value for x is computed as (x-mean(column))/standard deviation(column). "
   ]
  },
  {
   "cell_type": "code",
   "execution_count": 29,
   "metadata": {},
   "outputs": [],
   "source": [
    "scale = StandardScaler()"
   ]
  },
  {
   "cell_type": "code",
   "execution_count": 30,
   "metadata": {},
   "outputs": [
    {
     "data": {
      "text/plain": [
       "StandardScaler(copy=True, with_mean=True, with_std=True)"
      ]
     },
     "execution_count": 30,
     "metadata": {},
     "output_type": "execute_result"
    }
   ],
   "source": [
    "scale.fit(X_train)"
   ]
  },
  {
   "cell_type": "code",
   "execution_count": 31,
   "metadata": {},
   "outputs": [],
   "source": [
    "X_train_std = scale.transform(X_train)\n",
    "X_test_std = scale.transform(X_test)"
   ]
  },
  {
   "cell_type": "markdown",
   "metadata": {},
   "source": [
    "**Anatomy of a neural network**\n",
    "\n",
    "training a neural network revolves around the following objects:\n",
    "\n",
    "    - Layers, which are combined into a network (or model)\n",
    "    - The input data and corresponding targets\n",
    "    - The loss function, which defines the feedback signal used for learning\n",
    "      (A loss function — How the network will be able to measure its performance on the training data, and thus how it will be able to steer itself in the right direction.)\n",
    "    - The optimizer, which determines how learning proceeds\n",
    "      (The mechanism through which the network will update itself based on the data it sees and its loss function.)\n",
    "\n",
    "We can visualize their interaction as illustrated in below figure, the network, composed of layers that are chained together, maps the input data to predictions. The loss function then compares these predictions to the targets, producing a loss value: a measure of how well the network’s predictions match what was expected. The optimizer uses this loss value to update the network’s weights."
   ]
  },
  {
   "cell_type": "markdown",
   "metadata": {},
   "source": [
    "![Relationship between the network, layers, loss function, and optimizer](nnarchitecture.png)\n",
    "**<center>Relationship between the network, layers, loss function, and optimizer</center>**"
   ]
  },
  {
   "cell_type": "markdown",
   "metadata": {},
   "source": [
    "**Layers: the building blocks of deep learning**\n",
    "    \n",
    "The fundamental data structure in neural networks is the layer. A layer is a data-processing module that takes as input one or more tensors and that outputs one or more tensors. Some layers are stateless, but more frequently layers have a state: the layer’s weights, one or several tensors learned with stochastic gradient descent, which together contain the network’s knowledge."
   ]
  },
  {
   "cell_type": "markdown",
   "metadata": {},
   "source": [
    "We can think of layers as the LEGO bricks of deep learning, a metaphor that is\n",
    "made explicit by frameworks like Keras. Building deep-learning models in Keras is\n",
    "done by clipping together compatible layers to form useful data-transformation pipelines.\n",
    "The notion of layer compatibility here refers specifically to the fact that every layer\n",
    "will only accept input tensors of a certain shape and will return output tensors of a certain\n",
    "shape. Consider the following example:"
   ]
  },
  {
   "cell_type": "code",
   "execution_count": 148,
   "metadata": {},
   "outputs": [],
   "source": [
    "from keras import layers\n",
    "model = layers.Dense(32, input_shape=(X_train_std.shape[1],))"
   ]
  },
  {
   "cell_type": "markdown",
   "metadata": {},
   "source": [
    "\n",
    "\n",
    "We’re creating a layer that will only accept as input 2D tensors where the first dimension is 21 (axis 0, the batch dimension, is unspecified, and thus any value would be accepted). This layer will return a tensor where the first dimension has been transformed to be 32.\n",
    "\n",
    "Thus this layer can only be connected to a downstream layer that expects 32- dimensional vectors as its input. When using Keras, we don’t have to worry about compatibility, because the layers we add to our models are dynamically built to match the shape of the incoming layer.\n",
    "\n",
    "For instance, suppose we write the following:\n"
   ]
  },
  {
   "cell_type": "code",
   "execution_count": 149,
   "metadata": {},
   "outputs": [],
   "source": [
    "from keras import models\n",
    "from keras import layers\n",
    "\n",
    "model = models.Sequential()\n",
    "model.add(layers.Dense(32, input_shape=(X_train_std.shape[1],)))\n",
    "model.add(layers.Dense(1))"
   ]
  },
  {
   "cell_type": "code",
   "execution_count": 150,
   "metadata": {},
   "outputs": [
    {
     "name": "stdout",
     "output_type": "stream",
     "text": [
      "Model: \"sequential_35\"\n",
      "_________________________________________________________________\n",
      "Layer (type)                 Output Shape              Param #   \n",
      "=================================================================\n",
      "dense_100 (Dense)            (None, 32)                704       \n",
      "_________________________________________________________________\n",
      "dense_101 (Dense)            (None, 1)                 33        \n",
      "=================================================================\n",
      "Total params: 737\n",
      "Trainable params: 737\n",
      "Non-trainable params: 0\n",
      "_________________________________________________________________\n"
     ]
    }
   ],
   "source": [
    "model.summary()"
   ]
  },
  {
   "cell_type": "markdown",
   "metadata": {},
   "source": [
    "The second layer didn’t receive an input shape argument — instead, it automatically inferred its input shape as being the output shape of the layer that came before."
   ]
  },
  {
   "cell_type": "markdown",
   "metadata": {},
   "source": [
    "**Models: Network of layers**\n",
    "    \n",
    "A deep-learning model is a directed, acyclic graph of layers. The most common\n",
    "instance is a linear stack of layers, mapping a single input to a single output."
   ]
  },
  {
   "cell_type": "markdown",
   "metadata": {},
   "source": [
    "**Loss functions and optimizers: keys to configuring the learning process**\n",
    "    \n",
    "    Once the network architecture is defined, we still have to choose two more things:\n",
    "\n",
    "    - Loss function (objective function) — The quantity that will be minimized during training. It represents a measure of success for the task at hand.\n",
    "    - Optimizer — Determines how the network will be updated based on the loss function. It implements a specific variant of stochastic gradient descent (SGD)."
   ]
  },
  {
   "cell_type": "markdown",
   "metadata": {},
   "source": [
    "**Introduction to Keras**\n",
    "\n",
    "\n",
    "\n",
    "Throughout this activity, the code examples use Keras (https://keras.io). Keras is a deep-learning framework for Python that provides a convenient way to define and train almost any kind of deep-learning model. Keras was initially developed for researchers, with the aim of enabling fast experimentation. Keras has the following key features:\n",
    "\n",
    "    - It allows the same code to run seamlessly on CPU or GPU.\n",
    "    - It has a user-friendly API that makes it easy to quickly prototype deep-learning models.\n",
    "    - It has built-in support for convolutional networks (for computer vision), recurrent networks (for sequence processing), and any combination of both.\n",
    "    - It supports arbitrary network architectures: multi-input or multi-output models, layer sharing, model sharing, and so on. This means Keras is appropriate for building essentially any deep-learning model, from a generative adversarial network to a neural Turing machine.\n",
    "\n",
    "Keras is distributed under the permissive MIT license, which means it can be freely used in commercial projects. It’s compatible with any version of Python from 2.7 to 3.7\n",
    "\n",
    "Keras has well over 200,000 users, ranging from academic researchers and engineers at both startups and large companies to graduate students and hobbyists. Keras is used at Google, Netflix, Uber, CERN, Yelp, Square, and hundreds of startups working on a wide range of problems. Keras is also a popular framework on Kaggle, the machine-learning competition website, where almost every recent deep-learning competition has been won using Keras models.\n",
    "\n",
    "**Keras, TensorFlow, Theano, and CNTK**\n",
    "\n",
    "Keras is a model-level library, providing high-level building blocks for developing deep-learning models. It doesn’t handle low-level operations such as tensor manipulation and differentiation. Instead, it relies on a specialized, well-optimized tensor library to do so, serving as the backend engine of Keras. Rather than choosing a single tensor library and tying the implementation of Keras to that library, Keras handles the problem in a modular way as shown in the below image; thus several different backend engines can be plugged seamlessly into Keras. Currently, the three existing backend implementations are the TensorFlow backend, the Theano backend, and the Microsoft Cognitive Toolkit (CNTK) backend. In the future, it’s likely that Keras will be extended to work with even more deep-learning execution engines.\n",
    "\n",
    "TensorFlow, CNTK, and Theano are some of the primary platforms for deep learning today. Theano (http://deeplearning.net/software/theano) is developed by the MILA lab at Université de Montréal, TensorFlow (www.tensorflow.org) is developed by Google, and CNTK (https://github.com/Microsoft/CNTK) is developed by Microsoft. Any piece of code that we write with Keras can be run with any of these backends without having to change anything in the code: we can seamlessly switch between the two during development, which often proves useful—for instance, if one of these backends proves to be faster for a specific task. It is recommended using the TensorFlow backend as the default for most of our deep-learning needs, because it’s the most widely adopted, scalable, and production ready.\n",
    "\n",
    "Via TensorFlow (or Theano, or CNTK), Keras is able to run seamlessly on both CPUs and GPUs. When running on CPU, TensorFlow is itself wrapping a low-level library for tensor operations called Eigen (http://eigen.tuxfamily.org). On GPU, TensorFlow wraps a library of well-optimized deep-learning operations called the NVIDIA CUDA Deep Neural Network library (cuDNN).\n",
    "\n",
    "**Developing with Keras: a quick overview**\n",
    "\n",
    "The typical Keras workflow:\n",
    "\n",
    "    1. Define our training data: input tensors and target tensors.\n",
    "    2. Define a network of layers (or model ) that maps our inputs to our targets.\n",
    "    3. Configure the learning process by choosing a loss function, an optimizer, and some metrics to monitor.\n",
    "    4. Iterate on our training data by calling the fit() method of our model.\n",
    "\n",
    "There are two ways to define a model: using the Sequential class (only for linear stacks of layers, which is the most common network architecture by far) or the functional API (for directed acyclic graphs of layers, which lets us build completely arbitrary architectures).\n",
    "\n",
    "here’s a two-layer model defined using the Sequential class (note that we’re passing the expected shape of the input data to the first layer):\n"
   ]
  },
  {
   "cell_type": "code",
   "execution_count": 151,
   "metadata": {},
   "outputs": [],
   "source": [
    "from keras import models\n",
    "from keras import layers\n",
    "\n",
    "model = models.Sequential()\n",
    "model.add(layers.Dense(32, activation='relu', input_shape=(X_train.shape[1],)))\n",
    "model.add(layers.Dense(1, activation='sigmoid'))"
   ]
  },
  {
   "cell_type": "markdown",
   "metadata": {},
   "source": [
    "\n",
    "Once our model architecture is defined,\n",
    "\n",
    "The learning process is configured in the compilation step, where we specify the optimizer and loss function(s) that the model should use, as well as the metrics we want to monitor during training.\n",
    "\n",
    "Here’s an example with a single loss function, which is by far the most common case:\n"
   ]
  },
  {
   "cell_type": "code",
   "execution_count": 152,
   "metadata": {},
   "outputs": [],
   "source": [
    "from keras import optimizers\n",
    "\n",
    "model.compile(loss='binary_crossentropy', \n",
    "              optimizer='sgd', \n",
    "              metrics=['accuracy'])"
   ]
  },
  {
   "cell_type": "markdown",
   "metadata": {},
   "source": [
    "Finally, the learning process consists of passing Numpy arrays of input data (and the corresponding target data) to the model via the fit() method, similar to what we would do in Scikit-Learn and several other machine-learning libraries:"
   ]
  },
  {
   "cell_type": "code",
   "execution_count": 153,
   "metadata": {},
   "outputs": [],
   "source": [
    "# model.fit(input_tensor, target_tensor, batch_size=128, epochs=10)"
   ]
  },
  {
   "cell_type": "markdown",
   "metadata": {},
   "source": [
    "Now we understand what happens when we call fit: the network will start to iterate on the training data in mini-batches of 128 samples, 10 times over (each iteration over all the training data is called an epoch). At each iteration, the network will compute the gradients of the weights with regard to the loss on the batch, and update the weights accordingly. "
   ]
  },
  {
   "cell_type": "markdown",
   "metadata": {},
   "source": [
    "### Perceptron Model"
   ]
  },
  {
   "cell_type": "code",
   "execution_count": 154,
   "metadata": {},
   "outputs": [],
   "source": [
    "np.random.seed(123)\n",
    "\n",
    "tf.set_random_seed(123)"
   ]
  },
  {
   "cell_type": "code",
   "execution_count": 155,
   "metadata": {},
   "outputs": [],
   "source": [
    "from keras import models\n",
    "from keras import layers\n",
    "\n",
    "perceptron_model = models.Sequential()\n",
    "\n",
    "perceptron_model.add(layers.Dense(1, \n",
    "                           input_shape=(X_train_std.shape[1],), \n",
    "                           activation='sigmoid', \n",
    "                           kernel_initializer='normal'))"
   ]
  },
  {
   "cell_type": "code",
   "execution_count": 156,
   "metadata": {},
   "outputs": [],
   "source": [
    "perceptron_model.compile(loss='binary_crossentropy', \n",
    "                         optimizer='sgd', \n",
    "                         metrics=['accuracy'])"
   ]
  },
  {
   "cell_type": "code",
   "execution_count": 157,
   "metadata": {},
   "outputs": [
    {
     "name": "stdout",
     "output_type": "stream",
     "text": [
      "Train on 32584 samples, validate on 8146 samples\n",
      "Epoch 1/100\n",
      "32584/32584 [==============================] - 4s 108us/step - loss: 0.5647 - accuracy: 0.7998 - val_loss: 0.5095 - val_accuracy: 0.8053\n",
      "Epoch 2/100\n",
      "32584/32584 [==============================] - 2s 59us/step - loss: 0.4855 - accuracy: 0.8137 - val_loss: 0.4889 - val_accuracy: 0.8052\n",
      "Epoch 3/100\n",
      "32584/32584 [==============================] - 1s 41us/step - loss: 0.4735 - accuracy: 0.8137 - val_loss: 0.4858 - val_accuracy: 0.8051\n",
      "Epoch 4/100\n",
      "32584/32584 [==============================] - 1s 45us/step - loss: 0.4704 - accuracy: 0.8137 - val_loss: 0.4851 - val_accuracy: 0.8049\n",
      "Epoch 5/100\n",
      "32584/32584 [==============================] - 2s 59us/step - loss: 0.4692 - accuracy: 0.8137 - val_loss: 0.4850 - val_accuracy: 0.8048\n",
      "Epoch 6/100\n",
      "32584/32584 [==============================] - 2s 51us/step - loss: 0.4685 - accuracy: 0.8137 - val_loss: 0.4849 - val_accuracy: 0.8049\n",
      "Epoch 7/100\n",
      "32584/32584 [==============================] - 2s 70us/step - loss: 0.4681 - accuracy: 0.8137 - val_loss: 0.4848 - val_accuracy: 0.8051\n",
      "Epoch 8/100\n",
      "32584/32584 [==============================] - 2s 70us/step - loss: 0.4677 - accuracy: 0.8137 - val_loss: 0.4847 - val_accuracy: 0.8052\n",
      "Epoch 9/100\n",
      "32584/32584 [==============================] - 1s 41us/step - loss: 0.4674 - accuracy: 0.8136 - val_loss: 0.4847 - val_accuracy: 0.8052\n",
      "Epoch 10/100\n",
      "32584/32584 [==============================] - 1s 41us/step - loss: 0.4672 - accuracy: 0.8138 - val_loss: 0.4847 - val_accuracy: 0.8053\n",
      "Epoch 11/100\n",
      "32584/32584 [==============================] - 1s 45us/step - loss: 0.4670 - accuracy: 0.8137 - val_loss: 0.4845 - val_accuracy: 0.8054\n",
      "Epoch 12/100\n",
      "32584/32584 [==============================] - 1s 46us/step - loss: 0.4668 - accuracy: 0.8139 - val_loss: 0.4845 - val_accuracy: 0.8053\n",
      "Epoch 13/100\n",
      "32584/32584 [==============================] - 2s 47us/step - loss: 0.4666 - accuracy: 0.8137 - val_loss: 0.4844 - val_accuracy: 0.8053\n",
      "Epoch 14/100\n",
      "32584/32584 [==============================] - 1s 44us/step - loss: 0.4664 - accuracy: 0.8139 - val_loss: 0.4843 - val_accuracy: 0.8054\n",
      "Epoch 15/100\n",
      "32584/32584 [==============================] - 1s 44us/step - loss: 0.4663 - accuracy: 0.8139 - val_loss: 0.4842 - val_accuracy: 0.8055\n",
      "Epoch 16/100\n",
      "32584/32584 [==============================] - 1s 44us/step - loss: 0.4662 - accuracy: 0.8140 - val_loss: 0.4841 - val_accuracy: 0.8055\n",
      "Epoch 17/100\n",
      "32584/32584 [==============================] - 1s 38us/step - loss: 0.4660 - accuracy: 0.8139 - val_loss: 0.4840 - val_accuracy: 0.8057\n",
      "Epoch 18/100\n",
      "32584/32584 [==============================] - 1s 38us/step - loss: 0.4659 - accuracy: 0.8140 - val_loss: 0.4839 - val_accuracy: 0.8057\n",
      "Epoch 19/100\n",
      "32584/32584 [==============================] - 1s 39us/step - loss: 0.4658 - accuracy: 0.8140 - val_loss: 0.4838 - val_accuracy: 0.8057\n",
      "Epoch 20/100\n",
      "32584/32584 [==============================] - 1s 38us/step - loss: 0.4657 - accuracy: 0.8139 - val_loss: 0.4837 - val_accuracy: 0.8057\n",
      "Epoch 21/100\n",
      "32584/32584 [==============================] - 1s 38us/step - loss: 0.4656 - accuracy: 0.8139 - val_loss: 0.4836 - val_accuracy: 0.8057\n",
      "Epoch 22/100\n",
      "32584/32584 [==============================] - 1s 41us/step - loss: 0.4655 - accuracy: 0.8140 - val_loss: 0.4835 - val_accuracy: 0.8057\n",
      "Epoch 23/100\n",
      "32584/32584 [==============================] - 1s 38us/step - loss: 0.4653 - accuracy: 0.8140 - val_loss: 0.4833 - val_accuracy: 0.8057\n",
      "Epoch 24/100\n",
      "32584/32584 [==============================] - 1s 38us/step - loss: 0.4653 - accuracy: 0.8141 - val_loss: 0.4832 - val_accuracy: 0.8058\n",
      "Epoch 25/100\n",
      "32584/32584 [==============================] - 2s 51us/step - loss: 0.4651 - accuracy: 0.8140 - val_loss: 0.4831 - val_accuracy: 0.8060\n",
      "Epoch 26/100\n",
      "32584/32584 [==============================] - 2s 52us/step - loss: 0.4651 - accuracy: 0.8140 - val_loss: 0.4830 - val_accuracy: 0.8060\n",
      "Epoch 27/100\n",
      "32584/32584 [==============================] - 2s 65us/step - loss: 0.4650 - accuracy: 0.8140 - val_loss: 0.4829 - val_accuracy: 0.8059\n",
      "Epoch 28/100\n",
      "32584/32584 [==============================] - 2s 55us/step - loss: 0.4649 - accuracy: 0.8140 - val_loss: 0.4828 - val_accuracy: 0.8059\n",
      "Epoch 29/100\n",
      "32584/32584 [==============================] - 2s 63us/step - loss: 0.4648 - accuracy: 0.8141 - val_loss: 0.4827 - val_accuracy: 0.8059\n",
      "Epoch 30/100\n",
      "32584/32584 [==============================] - 2s 52us/step - loss: 0.4647 - accuracy: 0.8140 - val_loss: 0.4826 - val_accuracy: 0.8058\n",
      "Epoch 31/100\n",
      "32584/32584 [==============================] - 2s 46us/step - loss: 0.4646 - accuracy: 0.8140 - val_loss: 0.4826 - val_accuracy: 0.8058\n",
      "Epoch 32/100\n",
      "32584/32584 [==============================] - 2s 54us/step - loss: 0.4645 - accuracy: 0.8140 - val_loss: 0.4824 - val_accuracy: 0.8058\n",
      "Epoch 33/100\n",
      "32584/32584 [==============================] - 2s 61us/step - loss: 0.4644 - accuracy: 0.8140 - val_loss: 0.4824 - val_accuracy: 0.8058\n",
      "Epoch 34/100\n",
      "32584/32584 [==============================] - 2s 65us/step - loss: 0.4644 - accuracy: 0.8140 - val_loss: 0.4823 - val_accuracy: 0.8058\n",
      "Epoch 35/100\n",
      "32584/32584 [==============================] - 2s 70us/step - loss: 0.4643 - accuracy: 0.8140 - val_loss: 0.4822 - val_accuracy: 0.8059\n",
      "Epoch 36/100\n",
      "32584/32584 [==============================] - 1s 45us/step - loss: 0.4642 - accuracy: 0.8141 - val_loss: 0.4822 - val_accuracy: 0.8059\n",
      "Epoch 37/100\n",
      "32584/32584 [==============================] - 1s 42us/step - loss: 0.4642 - accuracy: 0.8140 - val_loss: 0.4820 - val_accuracy: 0.8059\n",
      "Epoch 38/100\n",
      "32584/32584 [==============================] - 1s 42us/step - loss: 0.4641 - accuracy: 0.8141 - val_loss: 0.4820 - val_accuracy: 0.8059\n",
      "Epoch 39/100\n",
      "32584/32584 [==============================] - 1s 44us/step - loss: 0.4640 - accuracy: 0.8140 - val_loss: 0.4819 - val_accuracy: 0.8059\n",
      "Epoch 40/100\n",
      "32584/32584 [==============================] - 1s 42us/step - loss: 0.4639 - accuracy: 0.8140 - val_loss: 0.4818 - val_accuracy: 0.8062\n",
      "Epoch 41/100\n",
      "32584/32584 [==============================] - 1s 39us/step - loss: 0.4639 - accuracy: 0.8142 - val_loss: 0.4817 - val_accuracy: 0.8062\n",
      "Epoch 42/100\n",
      "32584/32584 [==============================] - 1s 39us/step - loss: 0.4638 - accuracy: 0.8141 - val_loss: 0.4816 - val_accuracy: 0.8058\n",
      "Epoch 43/100\n",
      "32584/32584 [==============================] - 1s 39us/step - loss: 0.4637 - accuracy: 0.8141 - val_loss: 0.4815 - val_accuracy: 0.8059\n",
      "Epoch 44/100\n",
      "32584/32584 [==============================] - 1s 40us/step - loss: 0.4637 - accuracy: 0.8141 - val_loss: 0.4814 - val_accuracy: 0.8060\n",
      "Epoch 45/100\n",
      "32584/32584 [==============================] - 1s 41us/step - loss: 0.4636 - accuracy: 0.8140 - val_loss: 0.4814 - val_accuracy: 0.8058\n",
      "Epoch 46/100\n",
      "32584/32584 [==============================] - 1s 40us/step - loss: 0.4635 - accuracy: 0.8141 - val_loss: 0.4813 - val_accuracy: 0.8058\n",
      "Epoch 47/100\n",
      "32584/32584 [==============================] - 1s 43us/step - loss: 0.4635 - accuracy: 0.8141 - val_loss: 0.4812 - val_accuracy: 0.8059\n",
      "Epoch 48/100\n",
      "32584/32584 [==============================] - 1s 40us/step - loss: 0.4634 - accuracy: 0.8141 - val_loss: 0.4811 - val_accuracy: 0.8059\n",
      "Epoch 49/100\n",
      "32584/32584 [==============================] - 1s 40us/step - loss: 0.4634 - accuracy: 0.8142 - val_loss: 0.4811 - val_accuracy: 0.8060\n",
      "Epoch 50/100\n",
      "32584/32584 [==============================] - 1s 44us/step - loss: 0.4633 - accuracy: 0.8143 - val_loss: 0.4811 - val_accuracy: 0.8059\n",
      "Epoch 51/100\n",
      "32584/32584 [==============================] - 1s 46us/step - loss: 0.4632 - accuracy: 0.8142 - val_loss: 0.4810 - val_accuracy: 0.8059\n",
      "Epoch 52/100\n",
      "32584/32584 [==============================] - 2s 50us/step - loss: 0.4632 - accuracy: 0.8141 - val_loss: 0.4809 - val_accuracy: 0.8059\n",
      "Epoch 53/100\n",
      "32584/32584 [==============================] - 1s 40us/step - loss: 0.4631 - accuracy: 0.8142 - val_loss: 0.4809 - val_accuracy: 0.8059\n",
      "Epoch 54/100\n",
      "32584/32584 [==============================] - 2s 48us/step - loss: 0.4631 - accuracy: 0.8142 - val_loss: 0.4808 - val_accuracy: 0.8059\n",
      "Epoch 55/100\n",
      "32584/32584 [==============================] - 2s 49us/step - loss: 0.4630 - accuracy: 0.8142 - val_loss: 0.4808 - val_accuracy: 0.8059\n"
     ]
    },
    {
     "name": "stdout",
     "output_type": "stream",
     "text": [
      "Epoch 56/100\n",
      "32584/32584 [==============================] - 2s 52us/step - loss: 0.4630 - accuracy: 0.8143 - val_loss: 0.4807 - val_accuracy: 0.8059\n",
      "Epoch 57/100\n",
      "32584/32584 [==============================] - 2s 51us/step - loss: 0.4629 - accuracy: 0.8143 - val_loss: 0.4806 - val_accuracy: 0.8059\n",
      "Epoch 58/100\n",
      "32584/32584 [==============================] - 2s 47us/step - loss: 0.4629 - accuracy: 0.8142 - val_loss: 0.4806 - val_accuracy: 0.8059\n",
      "Epoch 59/100\n",
      "32584/32584 [==============================] - 2s 46us/step - loss: 0.4628 - accuracy: 0.8142 - val_loss: 0.4805 - val_accuracy: 0.8059\n",
      "Epoch 60/100\n",
      "32584/32584 [==============================] - 1s 41us/step - loss: 0.4628 - accuracy: 0.8143 - val_loss: 0.4804 - val_accuracy: 0.8059\n",
      "Epoch 61/100\n",
      "32584/32584 [==============================] - 1s 42us/step - loss: 0.4627 - accuracy: 0.8143 - val_loss: 0.4803 - val_accuracy: 0.8059\n",
      "Epoch 62/100\n",
      "32584/32584 [==============================] - 1s 44us/step - loss: 0.4627 - accuracy: 0.8143 - val_loss: 0.4803 - val_accuracy: 0.8059\n",
      "Epoch 63/100\n",
      "32584/32584 [==============================] - 2s 48us/step - loss: 0.4626 - accuracy: 0.8143 - val_loss: 0.4803 - val_accuracy: 0.8059\n",
      "Epoch 64/100\n",
      "32584/32584 [==============================] - 1s 44us/step - loss: 0.4626 - accuracy: 0.8142 - val_loss: 0.4802 - val_accuracy: 0.8059\n",
      "Epoch 65/100\n",
      "32584/32584 [==============================] - 1s 41us/step - loss: 0.4625 - accuracy: 0.8143 - val_loss: 0.4801 - val_accuracy: 0.8059\n",
      "Epoch 66/100\n",
      "32584/32584 [==============================] - 1s 40us/step - loss: 0.4625 - accuracy: 0.8143 - val_loss: 0.4800 - val_accuracy: 0.8059\n",
      "Epoch 67/100\n",
      "32584/32584 [==============================] - 1s 41us/step - loss: 0.4624 - accuracy: 0.8142 - val_loss: 0.4800 - val_accuracy: 0.8059\n",
      "Epoch 68/100\n",
      "32584/32584 [==============================] - 1s 42us/step - loss: 0.4624 - accuracy: 0.8142 - val_loss: 0.4799 - val_accuracy: 0.8059\n",
      "Epoch 69/100\n",
      "32584/32584 [==============================] - 1s 43us/step - loss: 0.4623 - accuracy: 0.8143 - val_loss: 0.4799 - val_accuracy: 0.8059\n",
      "Epoch 70/100\n",
      "32584/32584 [==============================] - 1s 44us/step - loss: 0.4623 - accuracy: 0.8143 - val_loss: 0.4798 - val_accuracy: 0.8059\n",
      "Epoch 71/100\n",
      "32584/32584 [==============================] - 1s 41us/step - loss: 0.4622 - accuracy: 0.8143 - val_loss: 0.4798 - val_accuracy: 0.8059\n",
      "Epoch 72/100\n",
      "32584/32584 [==============================] - 1s 40us/step - loss: 0.4622 - accuracy: 0.8143 - val_loss: 0.4797 - val_accuracy: 0.8060\n",
      "Epoch 73/100\n",
      "32584/32584 [==============================] - 1s 41us/step - loss: 0.4621 - accuracy: 0.8143 - val_loss: 0.4797 - val_accuracy: 0.8060\n",
      "Epoch 74/100\n",
      "32584/32584 [==============================] - 1s 39us/step - loss: 0.4621 - accuracy: 0.8143 - val_loss: 0.4796 - val_accuracy: 0.8060\n",
      "Epoch 75/100\n",
      "32584/32584 [==============================] - 1s 39us/step - loss: 0.4621 - accuracy: 0.8143 - val_loss: 0.4796 - val_accuracy: 0.8060\n",
      "Epoch 76/100\n",
      "32584/32584 [==============================] - 1s 43us/step - loss: 0.4620 - accuracy: 0.8142 - val_loss: 0.4796 - val_accuracy: 0.8060\n",
      "Epoch 77/100\n",
      "32584/32584 [==============================] - 1s 39us/step - loss: 0.4620 - accuracy: 0.8144 - val_loss: 0.4796 - val_accuracy: 0.8060\n",
      "Epoch 78/100\n",
      "32584/32584 [==============================] - 1s 43us/step - loss: 0.4619 - accuracy: 0.8143 - val_loss: 0.4795 - val_accuracy: 0.8060\n",
      "Epoch 79/100\n",
      "32584/32584 [==============================] - 2s 46us/step - loss: 0.4619 - accuracy: 0.8144 - val_loss: 0.4795 - val_accuracy: 0.8060\n",
      "Epoch 80/100\n",
      "32584/32584 [==============================] - 1s 40us/step - loss: 0.4619 - accuracy: 0.8142 - val_loss: 0.4794 - val_accuracy: 0.8060\n",
      "Epoch 81/100\n",
      "32584/32584 [==============================] - 1s 43us/step - loss: 0.4618 - accuracy: 0.8142 - val_loss: 0.4793 - val_accuracy: 0.8060\n",
      "Epoch 82/100\n",
      "32584/32584 [==============================] - 3s 91us/step - loss: 0.4618 - accuracy: 0.8143 - val_loss: 0.4793 - val_accuracy: 0.8060\n",
      "Epoch 83/100\n",
      "32584/32584 [==============================] - 2s 48us/step - loss: 0.4617 - accuracy: 0.8143 - val_loss: 0.4794 - val_accuracy: 0.8060\n",
      "Epoch 84/100\n",
      "32584/32584 [==============================] - 2s 55us/step - loss: 0.4617 - accuracy: 0.8144 - val_loss: 0.4793 - val_accuracy: 0.8060\n",
      "Epoch 85/100\n",
      "32584/32584 [==============================] - 1s 41us/step - loss: 0.4617 - accuracy: 0.8143 - val_loss: 0.4792 - val_accuracy: 0.8060\n",
      "Epoch 86/100\n",
      "32584/32584 [==============================] - 1s 42us/step - loss: 0.4616 - accuracy: 0.8143 - val_loss: 0.4792 - val_accuracy: 0.8060\n",
      "Epoch 87/100\n",
      "32584/32584 [==============================] - 3s 87us/step - loss: 0.4616 - accuracy: 0.8142 - val_loss: 0.4791 - val_accuracy: 0.8060\n",
      "Epoch 88/100\n",
      "32584/32584 [==============================] - 1s 45us/step - loss: 0.4615 - accuracy: 0.8143 - val_loss: 0.4791 - val_accuracy: 0.8060\n",
      "Epoch 89/100\n",
      "32584/32584 [==============================] - 1s 40us/step - loss: 0.4615 - accuracy: 0.8144 - val_loss: 0.4790 - val_accuracy: 0.8062\n",
      "Epoch 90/100\n",
      "32584/32584 [==============================] - 1s 41us/step - loss: 0.4615 - accuracy: 0.8144 - val_loss: 0.4790 - val_accuracy: 0.8060\n",
      "Epoch 91/100\n",
      "32584/32584 [==============================] - 1s 44us/step - loss: 0.4614 - accuracy: 0.8142 - val_loss: 0.4789 - val_accuracy: 0.8060\n",
      "Epoch 92/100\n",
      "32584/32584 [==============================] - 2s 66us/step - loss: 0.4614 - accuracy: 0.8143 - val_loss: 0.4789 - val_accuracy: 0.8060\n",
      "Epoch 93/100\n",
      "32584/32584 [==============================] - 1s 39us/step - loss: 0.4613 - accuracy: 0.8143 - val_loss: 0.4789 - val_accuracy: 0.8060\n",
      "Epoch 94/100\n",
      "32584/32584 [==============================] - 1s 40us/step - loss: 0.4613 - accuracy: 0.8143 - val_loss: 0.4788 - val_accuracy: 0.8060\n",
      "Epoch 95/100\n",
      "32584/32584 [==============================] - 1s 40us/step - loss: 0.4613 - accuracy: 0.8143 - val_loss: 0.4788 - val_accuracy: 0.8060\n",
      "Epoch 96/100\n",
      "32584/32584 [==============================] - 2s 49us/step - loss: 0.4612 - accuracy: 0.8143 - val_loss: 0.4787 - val_accuracy: 0.8060\n",
      "Epoch 97/100\n",
      "32584/32584 [==============================] - 1s 41us/step - loss: 0.4612 - accuracy: 0.8144 - val_loss: 0.4786 - val_accuracy: 0.8060\n",
      "Epoch 98/100\n",
      "32584/32584 [==============================] - 2s 52us/step - loss: 0.4612 - accuracy: 0.8144 - val_loss: 0.4787 - val_accuracy: 0.8060\n",
      "Epoch 99/100\n",
      "32584/32584 [==============================] - 2s 50us/step - loss: 0.4611 - accuracy: 0.8143 - val_loss: 0.4787 - val_accuracy: 0.8060\n",
      "Epoch 100/100\n",
      "32584/32584 [==============================] - 1s 43us/step - loss: 0.4611 - accuracy: 0.8142 - val_loss: 0.4787 - val_accuracy: 0.8060\n"
     ]
    }
   ],
   "source": [
    "perceptron_model_history = perceptron_model.fit(X_train_std, \n",
    "                                                y_train, \n",
    "                                                epochs=100, \n",
    "                                                batch_size=64, \n",
    "                                                validation_split=0.2)"
   ]
  },
  {
   "cell_type": "markdown",
   "metadata": {},
   "source": [
    "##### Plot"
   ]
  },
  {
   "cell_type": "code",
   "execution_count": 42,
   "metadata": {},
   "outputs": [
    {
     "name": "stdout",
     "output_type": "stream",
     "text": [
      "dict_keys(['val_loss', 'val_accuracy', 'loss', 'accuracy'])\n"
     ]
    }
   ],
   "source": [
    "print(perceptron_model_history.history.keys())"
   ]
  },
  {
   "cell_type": "code",
   "execution_count": 43,
   "metadata": {},
   "outputs": [],
   "source": [
    "from helper import accuracy_plot, loss_plot, compute_metrics"
   ]
  },
  {
   "cell_type": "code",
   "execution_count": 44,
   "metadata": {},
   "outputs": [
    {
     "data": {
      "image/png": "[encoded data removed]",
      "text/plain": [
       "<Figure size 432x288 with 1 Axes>"
      ]
     },
     "metadata": {
      "needs_background": "light"
     },
     "output_type": "display_data"
    }
   ],
   "source": [
    "accuracy_plot(perceptron_model_history)"
   ]
  },
  {
   "cell_type": "code",
   "execution_count": 45,
   "metadata": {},
   "outputs": [
    {
     "data": {
      "image/png": "[encoded data removed]",
      "text/plain": [
       "<Figure size 432x288 with 1 Axes>"
      ]
     },
     "metadata": {
      "needs_background": "light"
     },
     "output_type": "display_data"
    }
   ],
   "source": [
    "loss_plot(perceptron_model_history)"
   ]
  },
  {
   "cell_type": "markdown",
   "metadata": {},
   "source": [
    "##### Predictions"
   ]
  },
  {
   "cell_type": "code",
   "execution_count": 46,
   "metadata": {},
   "outputs": [],
   "source": [
    "train_pred = perceptron_model.predict_classes(X_train_std)\n",
    "test_pred = perceptron_model.predict_classes(X_test_std)"
   ]
  },
  {
   "cell_type": "markdown",
   "metadata": {},
   "source": [
    "##### Train Test Accuracy, True Negative Rate and True Positive Rate"
   ]
  },
  {
   "cell_type": "code",
   "execution_count": 47,
   "metadata": {
    "scrolled": true
   },
   "outputs": [
    {
     "name": "stdout",
     "output_type": "stream",
     "text": [
      "Train metrics\n",
      "Confusion matrix\n",
      "[[33000    52]\n",
      " [ 7577   101]]\n",
      "----------------------------------------------\n",
      "Accuracy:  0.8126933464276945\n",
      "Precission:  0.8132686004386721\n",
      "Recall:  0.9984267215297108\n",
      "F1 Score:  0.8963859348897852\n",
      "\n",
      "==============================================\n",
      "\n",
      "Test metrics\n",
      "Confusion matrix\n",
      "[[14142    23]\n",
      " [ 3243    48]]\n",
      "----------------------------------------------\n",
      "Accuracy:  0.8129010082493126\n",
      "Precission:  0.8134598792062122\n",
      "Recall:  0.9983762795623015\n",
      "F1 Score:  0.8964817749603803\n"
     ]
    }
   ],
   "source": [
    "compute_metrics(train_pred, y_train, test_pred, y_test)"
   ]
  },
  {
   "cell_type": "markdown",
   "metadata": {},
   "source": [
    "### MLP with 2 layers\n",
    "\n",
    "    1 hidden layer with 15 neurons"
   ]
  },
  {
   "cell_type": "code",
   "execution_count": 48,
   "metadata": {},
   "outputs": [],
   "source": [
    "np.random.seed(123)\n",
    "\n",
    "tf.set_random_seed(123)"
   ]
  },
  {
   "cell_type": "code",
   "execution_count": 49,
   "metadata": {},
   "outputs": [],
   "source": [
    "mlp_model1 = models.Sequential()\n",
    "\n",
    "mlp_model1.add(layers.Dense(64, \n",
    "                            input_shape=(X_train_std.shape[1], ), \n",
    "                            activation='sigmoid', \n",
    "                            kernel_initializer='normal'))\n",
    "\n",
    "mlp_model1.add(layers.Dense(16, \n",
    "                            activation='sigmoid', \n",
    "                            kernel_initializer='normal'))\n",
    "\n",
    "mlp_model1.add(layers.Dense(1, \n",
    "                            activation='sigmoid', \n",
    "                            kernel_initializer='normal'))"
   ]
  },
  {
   "cell_type": "code",
   "execution_count": 50,
   "metadata": {},
   "outputs": [],
   "source": [
    "mlp_model1.compile(loss='binary_crossentropy', \n",
    "                   optimizer='sgd', \n",
    "                   metrics=['accuracy'])"
   ]
  },
  {
   "cell_type": "code",
   "execution_count": 51,
   "metadata": {
    "scrolled": true
   },
   "outputs": [
    {
     "name": "stdout",
     "output_type": "stream",
     "text": [
      "Train on 32584 samples, validate on 8146 samples\n",
      "Epoch 1/20\n",
      "32584/32584 [==============================] - 4s 129us/step - loss: 0.4865 - accuracy: 0.8132 - val_loss: 0.4941 - val_accuracy: 0.8048\n",
      "Epoch 2/20\n",
      "32584/32584 [==============================] - 4s 131us/step - loss: 0.4817 - accuracy: 0.8132 - val_loss: 0.4942 - val_accuracy: 0.8048\n",
      "Epoch 3/20\n",
      "32584/32584 [==============================] - 4s 124us/step - loss: 0.4817 - accuracy: 0.8132 - val_loss: 0.4937 - val_accuracy: 0.8048\n",
      "Epoch 4/20\n",
      "32584/32584 [==============================] - 4s 124us/step - loss: 0.4816 - accuracy: 0.8132 - val_loss: 0.4936 - val_accuracy: 0.8048\n",
      "Epoch 5/20\n",
      "32584/32584 [==============================] - 4s 129us/step - loss: 0.4817 - accuracy: 0.8132 - val_loss: 0.4936 - val_accuracy: 0.8048\n",
      "Epoch 6/20\n",
      "32584/32584 [==============================] - 4s 128us/step - loss: 0.4816 - accuracy: 0.8132 - val_loss: 0.4935 - val_accuracy: 0.8048\n",
      "Epoch 7/20\n",
      "32584/32584 [==============================] - 4s 124us/step - loss: 0.4816 - accuracy: 0.8132 - val_loss: 0.4937 - val_accuracy: 0.8048\n",
      "Epoch 8/20\n",
      "32584/32584 [==============================] - 4s 130us/step - loss: 0.4816 - accuracy: 0.8132 - val_loss: 0.4938 - val_accuracy: 0.8048\n",
      "Epoch 9/20\n",
      "32584/32584 [==============================] - 4s 130us/step - loss: 0.4816 - accuracy: 0.8132 - val_loss: 0.4938 - val_accuracy: 0.8048\n",
      "Epoch 10/20\n",
      "32584/32584 [==============================] - 5s 140us/step - loss: 0.4815 - accuracy: 0.8132 - val_loss: 0.4934 - val_accuracy: 0.8048\n",
      "Epoch 11/20\n",
      "32584/32584 [==============================] - 4s 136us/step - loss: 0.4815 - accuracy: 0.8132 - val_loss: 0.4937 - val_accuracy: 0.8048\n",
      "Epoch 12/20\n",
      "32584/32584 [==============================] - 4s 135us/step - loss: 0.4815 - accuracy: 0.8132 - val_loss: 0.4937 - val_accuracy: 0.8048\n",
      "Epoch 13/20\n",
      "32584/32584 [==============================] - 4s 134us/step - loss: 0.4815 - accuracy: 0.8132 - val_loss: 0.4939 - val_accuracy: 0.8048\n",
      "Epoch 14/20\n",
      "32584/32584 [==============================] - 4s 136us/step - loss: 0.4814 - accuracy: 0.8132 - val_loss: 0.4940 - val_accuracy: 0.8048\n",
      "Epoch 15/20\n",
      "32584/32584 [==============================] - 5s 143us/step - loss: 0.4813 - accuracy: 0.8132 - val_loss: 0.4942 - val_accuracy: 0.8048\n",
      "Epoch 16/20\n",
      "32584/32584 [==============================] - 5s 140us/step - loss: 0.4813 - accuracy: 0.8132 - val_loss: 0.4937 - val_accuracy: 0.8048\n",
      "Epoch 17/20\n",
      "32584/32584 [==============================] - 4s 132us/step - loss: 0.4812 - accuracy: 0.8132 - val_loss: 0.4932 - val_accuracy: 0.8048\n",
      "Epoch 18/20\n",
      "32584/32584 [==============================] - 4s 132us/step - loss: 0.4811 - accuracy: 0.8132 - val_loss: 0.4934 - val_accuracy: 0.8048\n",
      "Epoch 19/20\n",
      "32584/32584 [==============================] - 4s 133us/step - loss: 0.4811 - accuracy: 0.8132 - val_loss: 0.4941 - val_accuracy: 0.8048\n",
      "Epoch 20/20\n",
      "32584/32584 [==============================] - 5s 140us/step - loss: 0.4810 - accuracy: 0.8132 - val_loss: 0.4932 - val_accuracy: 0.8048\n"
     ]
    }
   ],
   "source": [
    "model1_history = mlp_model1.fit(X_train_std, \n",
    "                                y_train, \n",
    "                                epochs=20, \n",
    "                                batch_size=16, \n",
    "                                validation_split=0.2)"
   ]
  },
  {
   "cell_type": "code",
   "execution_count": 52,
   "metadata": {},
   "outputs": [
    {
     "name": "stdout",
     "output_type": "stream",
     "text": [
      "Model: \"sequential_4\"\n",
      "_________________________________________________________________\n",
      "Layer (type)                 Output Shape              Param #   \n",
      "=================================================================\n",
      "dense_7 (Dense)              (None, 64)                1408      \n",
      "_________________________________________________________________\n",
      "dense_8 (Dense)              (None, 16)                1040      \n",
      "_________________________________________________________________\n",
      "dense_9 (Dense)              (None, 1)                 17        \n",
      "=================================================================\n",
      "Total params: 2,465\n",
      "Trainable params: 2,465\n",
      "Non-trainable params: 0\n",
      "_________________________________________________________________\n"
     ]
    }
   ],
   "source": [
    "mlp_model1.summary()"
   ]
  },
  {
   "cell_type": "markdown",
   "metadata": {},
   "source": [
    "##### Plot"
   ]
  },
  {
   "cell_type": "code",
   "execution_count": 53,
   "metadata": {},
   "outputs": [
    {
     "data": {
      "image/png": "[encoded data removed]",
      "text/plain": [
       "<Figure size 432x288 with 1 Axes>"
      ]
     },
     "metadata": {
      "needs_background": "light"
     },
     "output_type": "display_data"
    }
   ],
   "source": [
    "accuracy_plot(model1_history)"
   ]
  },
  {
   "cell_type": "code",
   "execution_count": 54,
   "metadata": {},
   "outputs": [
    {
     "data": {
      "image/png": "[encoded data removed]",
      "text/plain": [
       "<Figure size 432x288 with 1 Axes>"
      ]
     },
     "metadata": {
      "needs_background": "light"
     },
     "output_type": "display_data"
    }
   ],
   "source": [
    "loss_plot(model1_history)"
   ]
  },
  {
   "cell_type": "markdown",
   "metadata": {},
   "source": [
    "#### Predictions"
   ]
  },
  {
   "cell_type": "code",
   "execution_count": 55,
   "metadata": {},
   "outputs": [],
   "source": [
    "train_model1_pred = mlp_model1.predict_classes(X_train_std)\n",
    "test_model1_pred = mlp_model1.predict_classes(X_test_std)"
   ]
  },
  {
   "cell_type": "markdown",
   "metadata": {},
   "source": [
    "#### Getting evaluation metrics and evaluating model performance"
   ]
  },
  {
   "cell_type": "code",
   "execution_count": 56,
   "metadata": {},
   "outputs": [
    {
     "name": "stdout",
     "output_type": "stream",
     "text": [
      "Train metrics\n",
      "Confusion matrix\n",
      "[[33052     0]\n",
      " [ 7678     0]]\n",
      "----------------------------------------------\n",
      "Accuracy:  0.8114903019887061\n",
      "Precission:  0.8114903019887061\n",
      "Recall:  1.0\n",
      "F1 Score:  0.8959366783226261\n",
      "\n",
      "==============================================\n",
      "\n",
      "Test metrics\n",
      "Confusion matrix\n",
      "[[14165     0]\n",
      " [ 3291     0]]\n",
      "----------------------------------------------\n",
      "Accuracy:  0.8114688359303391\n",
      "Precission:  0.8114688359303391\n",
      "Recall:  1.0\n",
      "F1 Score:  0.8959235950792195\n"
     ]
    }
   ],
   "source": [
    "compute_metrics(train_model1_pred, y_train, test_model1_pred, y_test)"
   ]
  },
  {
   "cell_type": "markdown",
   "metadata": {},
   "source": [
    "### MLP with 2 layers\n",
    "\n",
    "    1 hidden layer with 20 neurons"
   ]
  },
  {
   "cell_type": "code",
   "execution_count": 57,
   "metadata": {},
   "outputs": [],
   "source": [
    "np.random.seed(123)\n",
    "\n",
    "tf.set_random_seed(123)"
   ]
  },
  {
   "cell_type": "code",
   "execution_count": 58,
   "metadata": {},
   "outputs": [],
   "source": [
    "mlp_model2 = models.Sequential()\n",
    "\n",
    "mlp_model2.add(layers.Dense(20, \n",
    "                            input_shape=(X_train_std.shape[1], ), \n",
    "                            activation='sigmoid', \n",
    "                            kernel_initializer='normal'))\n",
    "\n",
    "mlp_model2.add(layers.Dense(1, \n",
    "                            activation='sigmoid', \n",
    "                            kernel_initializer='normal'))"
   ]
  },
  {
   "cell_type": "code",
   "execution_count": 59,
   "metadata": {},
   "outputs": [
    {
     "name": "stdout",
     "output_type": "stream",
     "text": [
      "Model: \"sequential_5\"\n",
      "_________________________________________________________________\n",
      "Layer (type)                 Output Shape              Param #   \n",
      "=================================================================\n",
      "dense_10 (Dense)             (None, 20)                440       \n",
      "_________________________________________________________________\n",
      "dense_11 (Dense)             (None, 1)                 21        \n",
      "=================================================================\n",
      "Total params: 461\n",
      "Trainable params: 461\n",
      "Non-trainable params: 0\n",
      "_________________________________________________________________\n"
     ]
    }
   ],
   "source": [
    "mlp_model2.summary()"
   ]
  },
  {
   "cell_type": "code",
   "execution_count": 60,
   "metadata": {},
   "outputs": [],
   "source": [
    "mlp_model2.compile(loss='binary_crossentropy', optimizer='sgd', metrics=['accuracy'])"
   ]
  },
  {
   "cell_type": "code",
   "execution_count": 61,
   "metadata": {},
   "outputs": [
    {
     "name": "stdout",
     "output_type": "stream",
     "text": [
      "Train on 32584 samples, validate on 8146 samples\n",
      "Epoch 1/100\n",
      "32584/32584 [==============================] - 1s 40us/step - loss: 0.4972 - accuracy: 0.8132 - val_loss: 0.4940 - val_accuracy: 0.8048\n",
      "Epoch 2/100\n",
      "32584/32584 [==============================] - 1s 37us/step - loss: 0.4816 - accuracy: 0.8132 - val_loss: 0.4939 - val_accuracy: 0.8048\n",
      "Epoch 3/100\n",
      "32584/32584 [==============================] - 1s 34us/step - loss: 0.4813 - accuracy: 0.8132 - val_loss: 0.4933 - val_accuracy: 0.8048\n",
      "Epoch 4/100\n",
      "32584/32584 [==============================] - 1s 33us/step - loss: 0.4810 - accuracy: 0.8132 - val_loss: 0.4933 - val_accuracy: 0.8048\n",
      "Epoch 5/100\n",
      "32584/32584 [==============================] - 1s 35us/step - loss: 0.4807 - accuracy: 0.8132 - val_loss: 0.4929 - val_accuracy: 0.8048\n",
      "Epoch 6/100\n",
      "32584/32584 [==============================] - 1s 37us/step - loss: 0.4804 - accuracy: 0.8132 - val_loss: 0.4928 - val_accuracy: 0.8048\n",
      "Epoch 7/100\n",
      "32584/32584 [==============================] - 1s 31us/step - loss: 0.4801 - accuracy: 0.8132 - val_loss: 0.4923 - val_accuracy: 0.8048\n",
      "Epoch 8/100\n",
      "32584/32584 [==============================] - 1s 34us/step - loss: 0.4798 - accuracy: 0.8132 - val_loss: 0.4921 - val_accuracy: 0.8048\n",
      "Epoch 9/100\n",
      "32584/32584 [==============================] - 1s 35us/step - loss: 0.4795 - accuracy: 0.8132 - val_loss: 0.4924 - val_accuracy: 0.8048\n",
      "Epoch 10/100\n",
      "32584/32584 [==============================] - 1s 30us/step - loss: 0.4793 - accuracy: 0.8132 - val_loss: 0.4919 - val_accuracy: 0.8048\n",
      "Epoch 11/100\n",
      "32584/32584 [==============================] - 1s 33us/step - loss: 0.4789 - accuracy: 0.8132 - val_loss: 0.4914 - val_accuracy: 0.8048\n",
      "Epoch 12/100\n",
      "32584/32584 [==============================] - 1s 33us/step - loss: 0.4787 - accuracy: 0.8132 - val_loss: 0.4918 - val_accuracy: 0.8048\n",
      "Epoch 13/100\n",
      "32584/32584 [==============================] - 1s 31us/step - loss: 0.4785 - accuracy: 0.8132 - val_loss: 0.4912 - val_accuracy: 0.8048\n",
      "Epoch 14/100\n",
      "32584/32584 [==============================] - 1s 31us/step - loss: 0.4782 - accuracy: 0.8132 - val_loss: 0.4910 - val_accuracy: 0.8048\n",
      "Epoch 15/100\n",
      "32584/32584 [==============================] - 1s 31us/step - loss: 0.4779 - accuracy: 0.8132 - val_loss: 0.4907 - val_accuracy: 0.8048\n",
      "Epoch 16/100\n",
      "32584/32584 [==============================] - 1s 33us/step - loss: 0.4776 - accuracy: 0.8132 - val_loss: 0.4904 - val_accuracy: 0.8048\n",
      "Epoch 17/100\n",
      "32584/32584 [==============================] - 1s 35us/step - loss: 0.4774 - accuracy: 0.8132 - val_loss: 0.4905 - val_accuracy: 0.8048\n",
      "Epoch 18/100\n",
      "32584/32584 [==============================] - 1s 32us/step - loss: 0.4771 - accuracy: 0.8132 - val_loss: 0.4900 - val_accuracy: 0.8048\n",
      "Epoch 19/100\n",
      "32584/32584 [==============================] - 1s 32us/step - loss: 0.4768 - accuracy: 0.8132 - val_loss: 0.4897 - val_accuracy: 0.8048\n",
      "Epoch 20/100\n",
      "32584/32584 [==============================] - 1s 32us/step - loss: 0.4766 - accuracy: 0.8132 - val_loss: 0.4895 - val_accuracy: 0.8048\n",
      "Epoch 21/100\n",
      "32584/32584 [==============================] - 1s 35us/step - loss: 0.4763 - accuracy: 0.8132 - val_loss: 0.4893 - val_accuracy: 0.8048\n",
      "Epoch 22/100\n",
      "32584/32584 [==============================] - 1s 31us/step - loss: 0.4760 - accuracy: 0.8132 - val_loss: 0.4891 - val_accuracy: 0.8048\n",
      "Epoch 23/100\n",
      "32584/32584 [==============================] - 1s 32us/step - loss: 0.4758 - accuracy: 0.8132 - val_loss: 0.4888 - val_accuracy: 0.8048\n",
      "Epoch 24/100\n",
      "32584/32584 [==============================] - 1s 32us/step - loss: 0.4755 - accuracy: 0.8132 - val_loss: 0.4886 - val_accuracy: 0.8048\n",
      "Epoch 25/100\n",
      "32584/32584 [==============================] - 1s 32us/step - loss: 0.4753 - accuracy: 0.8132 - val_loss: 0.4884 - val_accuracy: 0.8048\n",
      "Epoch 26/100\n",
      "32584/32584 [==============================] - 1s 33us/step - loss: 0.4750 - accuracy: 0.8132 - val_loss: 0.4881 - val_accuracy: 0.8048\n",
      "Epoch 27/100\n",
      "32584/32584 [==============================] - 1s 34us/step - loss: 0.4747 - accuracy: 0.8132 - val_loss: 0.4880 - val_accuracy: 0.8048\n",
      "Epoch 28/100\n",
      "32584/32584 [==============================] - 1s 35us/step - loss: 0.4744 - accuracy: 0.8132 - val_loss: 0.4881 - val_accuracy: 0.8048\n",
      "Epoch 29/100\n",
      "32584/32584 [==============================] - 1s 38us/step - loss: 0.4742 - accuracy: 0.8132 - val_loss: 0.4875 - val_accuracy: 0.8048\n",
      "Epoch 30/100\n",
      "32584/32584 [==============================] - 1s 35us/step - loss: 0.4740 - accuracy: 0.8132 - val_loss: 0.4873 - val_accuracy: 0.8048\n",
      "Epoch 31/100\n",
      "32584/32584 [==============================] - 1s 32us/step - loss: 0.4737 - accuracy: 0.8132 - val_loss: 0.4870 - val_accuracy: 0.8048\n",
      "Epoch 32/100\n",
      "32584/32584 [==============================] - 1s 33us/step - loss: 0.4734 - accuracy: 0.8132 - val_loss: 0.4868 - val_accuracy: 0.8048\n",
      "Epoch 33/100\n",
      "32584/32584 [==============================] - 1s 33us/step - loss: 0.4732 - accuracy: 0.8132 - val_loss: 0.4867 - val_accuracy: 0.8048\n",
      "Epoch 34/100\n",
      "32584/32584 [==============================] - 1s 37us/step - loss: 0.4730 - accuracy: 0.8132 - val_loss: 0.4865 - val_accuracy: 0.8048\n",
      "Epoch 35/100\n",
      "32584/32584 [==============================] - 1s 34us/step - loss: 0.4727 - accuracy: 0.8132 - val_loss: 0.4862 - val_accuracy: 0.8047\n",
      "Epoch 36/100\n",
      "32584/32584 [==============================] - 1s 34us/step - loss: 0.4724 - accuracy: 0.8133 - val_loss: 0.4864 - val_accuracy: 0.8047\n",
      "Epoch 37/100\n",
      "32584/32584 [==============================] - 1s 35us/step - loss: 0.4722 - accuracy: 0.8133 - val_loss: 0.4860 - val_accuracy: 0.8048\n",
      "Epoch 38/100\n",
      "32584/32584 [==============================] - 1s 34us/step - loss: 0.4720 - accuracy: 0.8133 - val_loss: 0.4857 - val_accuracy: 0.8048\n",
      "Epoch 39/100\n",
      "32584/32584 [==============================] - 1s 34us/step - loss: 0.4717 - accuracy: 0.8133 - val_loss: 0.4854 - val_accuracy: 0.8048\n",
      "Epoch 40/100\n",
      "32584/32584 [==============================] - 1s 37us/step - loss: 0.4716 - accuracy: 0.8133 - val_loss: 0.4854 - val_accuracy: 0.8048\n",
      "Epoch 41/100\n",
      "32584/32584 [==============================] - 1s 37us/step - loss: 0.4713 - accuracy: 0.8133 - val_loss: 0.4856 - val_accuracy: 0.8048\n",
      "Epoch 42/100\n",
      "32584/32584 [==============================] - 1s 34us/step - loss: 0.4711 - accuracy: 0.8133 - val_loss: 0.4852 - val_accuracy: 0.8048\n",
      "Epoch 43/100\n",
      "32584/32584 [==============================] - 1s 36us/step - loss: 0.4709 - accuracy: 0.8133 - val_loss: 0.4848 - val_accuracy: 0.8048\n",
      "Epoch 44/100\n",
      "32584/32584 [==============================] - 1s 33us/step - loss: 0.4707 - accuracy: 0.8133 - val_loss: 0.4849 - val_accuracy: 0.8048\n",
      "Epoch 45/100\n",
      "32584/32584 [==============================] - 1s 36us/step - loss: 0.4705 - accuracy: 0.8133 - val_loss: 0.4844 - val_accuracy: 0.8048\n",
      "Epoch 46/100\n",
      "32584/32584 [==============================] - 1s 35us/step - loss: 0.4703 - accuracy: 0.8134 - val_loss: 0.4846 - val_accuracy: 0.8048\n",
      "Epoch 47/100\n",
      "32584/32584 [==============================] - 1s 36us/step - loss: 0.4701 - accuracy: 0.8133 - val_loss: 0.4842 - val_accuracy: 0.8048\n",
      "Epoch 48/100\n",
      "32584/32584 [==============================] - 1s 36us/step - loss: 0.4699 - accuracy: 0.8134 - val_loss: 0.4840 - val_accuracy: 0.8047\n",
      "Epoch 49/100\n",
      "32584/32584 [==============================] - 1s 35us/step - loss: 0.4697 - accuracy: 0.8134 - val_loss: 0.4840 - val_accuracy: 0.8048\n",
      "Epoch 50/100\n",
      "32584/32584 [==============================] - 1s 32us/step - loss: 0.4695 - accuracy: 0.8135 - val_loss: 0.4837 - val_accuracy: 0.8049\n",
      "Epoch 51/100\n",
      "32584/32584 [==============================] - 1s 34us/step - loss: 0.4693 - accuracy: 0.8135 - val_loss: 0.4834 - val_accuracy: 0.8048\n",
      "Epoch 52/100\n",
      "32584/32584 [==============================] - 1s 35us/step - loss: 0.4692 - accuracy: 0.8136 - val_loss: 0.4834 - val_accuracy: 0.8048\n",
      "Epoch 53/100\n",
      "32584/32584 [==============================] - 1s 36us/step - loss: 0.4690 - accuracy: 0.8136 - val_loss: 0.4836 - val_accuracy: 0.8048\n",
      "Epoch 54/100\n",
      "32584/32584 [==============================] - 1s 37us/step - loss: 0.4688 - accuracy: 0.8136 - val_loss: 0.4834 - val_accuracy: 0.8048\n",
      "Epoch 55/100\n",
      "32584/32584 [==============================] - 1s 34us/step - loss: 0.4687 - accuracy: 0.8135 - val_loss: 0.4831 - val_accuracy: 0.8048\n"
     ]
    },
    {
     "name": "stdout",
     "output_type": "stream",
     "text": [
      "Epoch 56/100\n",
      "32584/32584 [==============================] - 1s 35us/step - loss: 0.4685 - accuracy: 0.8135 - val_loss: 0.4831 - val_accuracy: 0.8048\n",
      "Epoch 57/100\n",
      "32584/32584 [==============================] - 1s 36us/step - loss: 0.4684 - accuracy: 0.8134 - val_loss: 0.4830 - val_accuracy: 0.8048\n",
      "Epoch 58/100\n",
      "32584/32584 [==============================] - 1s 35us/step - loss: 0.4682 - accuracy: 0.8135 - val_loss: 0.4829 - val_accuracy: 0.8048\n",
      "Epoch 59/100\n",
      "32584/32584 [==============================] - 1s 33us/step - loss: 0.4681 - accuracy: 0.8135 - val_loss: 0.4827 - val_accuracy: 0.8048\n",
      "Epoch 60/100\n",
      "32584/32584 [==============================] - 1s 36us/step - loss: 0.4679 - accuracy: 0.8135 - val_loss: 0.4823 - val_accuracy: 0.8049\n",
      "Epoch 61/100\n",
      "32584/32584 [==============================] - 1s 32us/step - loss: 0.4678 - accuracy: 0.8137 - val_loss: 0.4824 - val_accuracy: 0.8049\n",
      "Epoch 62/100\n",
      "32584/32584 [==============================] - 1s 34us/step - loss: 0.4676 - accuracy: 0.8137 - val_loss: 0.4822 - val_accuracy: 0.8051\n",
      "Epoch 63/100\n",
      "32584/32584 [==============================] - 1s 32us/step - loss: 0.4675 - accuracy: 0.8137 - val_loss: 0.4823 - val_accuracy: 0.8051\n",
      "Epoch 64/100\n",
      "32584/32584 [==============================] - 1s 33us/step - loss: 0.4674 - accuracy: 0.8137 - val_loss: 0.4821 - val_accuracy: 0.8049\n",
      "Epoch 65/100\n",
      "32584/32584 [==============================] - 1s 34us/step - loss: 0.4673 - accuracy: 0.8137 - val_loss: 0.4818 - val_accuracy: 0.8049\n",
      "Epoch 66/100\n",
      "32584/32584 [==============================] - 1s 33us/step - loss: 0.4672 - accuracy: 0.8136 - val_loss: 0.4817 - val_accuracy: 0.8049\n",
      "Epoch 67/100\n",
      "32584/32584 [==============================] - 1s 33us/step - loss: 0.4670 - accuracy: 0.8136 - val_loss: 0.4817 - val_accuracy: 0.8049\n",
      "Epoch 68/100\n",
      "32584/32584 [==============================] - 1s 32us/step - loss: 0.4669 - accuracy: 0.8137 - val_loss: 0.4814 - val_accuracy: 0.8052\n",
      "Epoch 69/100\n",
      "32584/32584 [==============================] - 1s 33us/step - loss: 0.4668 - accuracy: 0.8137 - val_loss: 0.4815 - val_accuracy: 0.8052\n",
      "Epoch 70/100\n",
      "32584/32584 [==============================] - 1s 36us/step - loss: 0.4667 - accuracy: 0.8137 - val_loss: 0.4814 - val_accuracy: 0.8052\n",
      "Epoch 71/100\n",
      "32584/32584 [==============================] - 1s 34us/step - loss: 0.4666 - accuracy: 0.8138 - val_loss: 0.4815 - val_accuracy: 0.8052\n",
      "Epoch 72/100\n",
      "32584/32584 [==============================] - 1s 38us/step - loss: 0.4665 - accuracy: 0.8138 - val_loss: 0.4812 - val_accuracy: 0.8052\n",
      "Epoch 73/100\n",
      "32584/32584 [==============================] - 1s 23us/step - loss: 0.4664 - accuracy: 0.8137 - val_loss: 0.4811 - val_accuracy: 0.8052\n",
      "Epoch 74/100\n",
      "32584/32584 [==============================] - 1s 29us/step - loss: 0.4663 - accuracy: 0.8138 - val_loss: 0.4810 - val_accuracy: 0.8053\n",
      "Epoch 75/100\n",
      "32584/32584 [==============================] - 1s 28us/step - loss: 0.4662 - accuracy: 0.8138 - val_loss: 0.4811 - val_accuracy: 0.8053\n",
      "Epoch 76/100\n",
      "32584/32584 [==============================] - 1s 27us/step - loss: 0.4660 - accuracy: 0.8137 - val_loss: 0.4810 - val_accuracy: 0.8053\n",
      "Epoch 77/100\n",
      "32584/32584 [==============================] - 1s 26us/step - loss: 0.4660 - accuracy: 0.8138 - val_loss: 0.4811 - val_accuracy: 0.8053\n",
      "Epoch 78/100\n",
      "32584/32584 [==============================] - 1s 26us/step - loss: 0.4659 - accuracy: 0.8139 - val_loss: 0.4809 - val_accuracy: 0.8053\n",
      "Epoch 79/100\n",
      "32584/32584 [==============================] - 1s 24us/step - loss: 0.4658 - accuracy: 0.8139 - val_loss: 0.4809 - val_accuracy: 0.8054\n",
      "Epoch 80/100\n",
      "32584/32584 [==============================] - 1s 23us/step - loss: 0.4656 - accuracy: 0.8138 - val_loss: 0.4803 - val_accuracy: 0.8055\n",
      "Epoch 81/100\n",
      "32584/32584 [==============================] - 1s 23us/step - loss: 0.4656 - accuracy: 0.8139 - val_loss: 0.4805 - val_accuracy: 0.8055\n",
      "Epoch 82/100\n",
      "32584/32584 [==============================] - 1s 22us/step - loss: 0.4655 - accuracy: 0.8139 - val_loss: 0.4804 - val_accuracy: 0.8055\n",
      "Epoch 83/100\n",
      "32584/32584 [==============================] - 1s 22us/step - loss: 0.4654 - accuracy: 0.8139 - val_loss: 0.4802 - val_accuracy: 0.8057\n",
      "Epoch 84/100\n",
      "32584/32584 [==============================] - 1s 23us/step - loss: 0.4653 - accuracy: 0.8139 - val_loss: 0.4803 - val_accuracy: 0.8057\n",
      "Epoch 85/100\n",
      "32584/32584 [==============================] - 1s 23us/step - loss: 0.4652 - accuracy: 0.8139 - val_loss: 0.4802 - val_accuracy: 0.8057\n",
      "Epoch 86/100\n",
      "32584/32584 [==============================] - 1s 23us/step - loss: 0.4651 - accuracy: 0.8140 - val_loss: 0.4800 - val_accuracy: 0.8057\n",
      "Epoch 87/100\n",
      "32584/32584 [==============================] - 1s 23us/step - loss: 0.4651 - accuracy: 0.8139 - val_loss: 0.4800 - val_accuracy: 0.8057\n",
      "Epoch 88/100\n",
      "32584/32584 [==============================] - 1s 24us/step - loss: 0.4650 - accuracy: 0.8140 - val_loss: 0.4799 - val_accuracy: 0.8055\n",
      "Epoch 89/100\n",
      "32584/32584 [==============================] - 1s 25us/step - loss: 0.4649 - accuracy: 0.8140 - val_loss: 0.4799 - val_accuracy: 0.8057\n",
      "Epoch 90/100\n",
      "32584/32584 [==============================] - 1s 23us/step - loss: 0.4648 - accuracy: 0.8140 - val_loss: 0.4796 - val_accuracy: 0.8057\n",
      "Epoch 91/100\n",
      "32584/32584 [==============================] - 1s 23us/step - loss: 0.4647 - accuracy: 0.8140 - val_loss: 0.4797 - val_accuracy: 0.8057\n",
      "Epoch 92/100\n",
      "32584/32584 [==============================] - 1s 25us/step - loss: 0.4646 - accuracy: 0.8140 - val_loss: 0.4797 - val_accuracy: 0.8057\n",
      "Epoch 93/100\n",
      "32584/32584 [==============================] - 1s 25us/step - loss: 0.4645 - accuracy: 0.8140 - val_loss: 0.4793 - val_accuracy: 0.8055\n",
      "Epoch 94/100\n",
      "32584/32584 [==============================] - 1s 24us/step - loss: 0.4645 - accuracy: 0.8140 - val_loss: 0.4792 - val_accuracy: 0.8057\n",
      "Epoch 95/100\n",
      "32584/32584 [==============================] - 1s 25us/step - loss: 0.4644 - accuracy: 0.8141 - val_loss: 0.4797 - val_accuracy: 0.8057\n",
      "Epoch 96/100\n",
      "32584/32584 [==============================] - 1s 24us/step - loss: 0.4643 - accuracy: 0.8142 - val_loss: 0.4790 - val_accuracy: 0.8057\n",
      "Epoch 97/100\n",
      "32584/32584 [==============================] - 1s 24us/step - loss: 0.4642 - accuracy: 0.8141 - val_loss: 0.4790 - val_accuracy: 0.8055\n",
      "Epoch 98/100\n",
      "32584/32584 [==============================] - 1s 25us/step - loss: 0.4641 - accuracy: 0.8142 - val_loss: 0.4793 - val_accuracy: 0.8057\n",
      "Epoch 99/100\n",
      "32584/32584 [==============================] - 1s 25us/step - loss: 0.4641 - accuracy: 0.8141 - val_loss: 0.4789 - val_accuracy: 0.8057\n",
      "Epoch 100/100\n",
      "32584/32584 [==============================] - 1s 25us/step - loss: 0.4640 - accuracy: 0.8142 - val_loss: 0.4788 - val_accuracy: 0.8059\n"
     ]
    }
   ],
   "source": [
    "model2_history = mlp_model2.fit(X_train_std, y_train, epochs=100, batch_size=64, validation_split=0.2)"
   ]
  },
  {
   "cell_type": "markdown",
   "metadata": {},
   "source": [
    "##### Plot"
   ]
  },
  {
   "cell_type": "code",
   "execution_count": 62,
   "metadata": {},
   "outputs": [
    {
     "data": {
      "image/png": "[encoded data removed]",
      "text/plain": [
       "<Figure size 432x288 with 1 Axes>"
      ]
     },
     "metadata": {
      "needs_background": "light"
     },
     "output_type": "display_data"
    }
   ],
   "source": [
    "accuracy_plot(model2_history)"
   ]
  },
  {
   "cell_type": "code",
   "execution_count": 63,
   "metadata": {},
   "outputs": [
    {
     "data": {
      "image/png": "[encoded data removed]",
      "text/plain": [
       "<Figure size 432x288 with 1 Axes>"
      ]
     },
     "metadata": {
      "needs_background": "light"
     },
     "output_type": "display_data"
    }
   ],
   "source": [
    "loss_plot(model2_history)"
   ]
  },
  {
   "cell_type": "markdown",
   "metadata": {},
   "source": [
    "#### Predictions"
   ]
  },
  {
   "cell_type": "code",
   "execution_count": 64,
   "metadata": {},
   "outputs": [],
   "source": [
    "train_model2_pred = mlp_model2.predict_classes(X_train_std)\n",
    "test_model2_pred = mlp_model2.predict_classes(X_test_std)"
   ]
  },
  {
   "cell_type": "markdown",
   "metadata": {},
   "source": [
    "#### Getting evaluation metrics and evaluating model performance"
   ]
  },
  {
   "cell_type": "code",
   "execution_count": 65,
   "metadata": {},
   "outputs": [
    {
     "name": "stdout",
     "output_type": "stream",
     "text": [
      "Train metrics\n",
      "Confusion matrix\n",
      "[[32979    73]\n",
      " [ 7560   118]]\n",
      "----------------------------------------------\n",
      "Accuracy:  0.8125951387183894\n",
      "Precission:  0.8135129134907126\n",
      "Recall:  0.9977913590705555\n",
      "F1 Score:  0.8962780774823009\n",
      "\n",
      "==============================================\n",
      "\n",
      "Test metrics\n",
      "Confusion matrix\n",
      "[[14130    35]\n",
      " [ 3239    52]]\n",
      "----------------------------------------------\n",
      "Accuracy:  0.812442713107241\n",
      "Precission:  0.8135183372675456\n",
      "Recall:  0.9975291210730675\n",
      "F1 Score:  0.896175556542145\n"
     ]
    }
   ],
   "source": [
    "compute_metrics(train_model2_pred, y_train, test_model2_pred, y_test)"
   ]
  },
  {
   "cell_type": "markdown",
   "metadata": {},
   "source": [
    "### MLP with 2 layers\n",
    "\n",
    "    1 hidden layer with 25 neurons"
   ]
  },
  {
   "cell_type": "code",
   "execution_count": 66,
   "metadata": {},
   "outputs": [],
   "source": [
    "np.random.seed(123)\n",
    "\n",
    "tf.set_random_seed(123)"
   ]
  },
  {
   "cell_type": "code",
   "execution_count": 67,
   "metadata": {},
   "outputs": [],
   "source": [
    "mlp_model3 = models.Sequential()\n",
    "\n",
    "mlp_model3.add(layers.Dense(25, \n",
    "                            input_shape=(X_train_std.shape[1], ), \n",
    "                            activation='tanh', \n",
    "                            kernel_initializer='normal'))\n",
    "\n",
    "mlp_model3.add(layers.Dense(1, \n",
    "                            activation='sigmoid', \n",
    "                            kernel_initializer='normal'))"
   ]
  },
  {
   "cell_type": "code",
   "execution_count": 68,
   "metadata": {},
   "outputs": [
    {
     "name": "stdout",
     "output_type": "stream",
     "text": [
      "Model: \"sequential_6\"\n",
      "_________________________________________________________________\n",
      "Layer (type)                 Output Shape              Param #   \n",
      "=================================================================\n",
      "dense_12 (Dense)             (None, 25)                550       \n",
      "_________________________________________________________________\n",
      "dense_13 (Dense)             (None, 1)                 26        \n",
      "=================================================================\n",
      "Total params: 576\n",
      "Trainable params: 576\n",
      "Non-trainable params: 0\n",
      "_________________________________________________________________\n"
     ]
    }
   ],
   "source": [
    "mlp_model3.summary()"
   ]
  },
  {
   "cell_type": "code",
   "execution_count": 69,
   "metadata": {},
   "outputs": [],
   "source": [
    "mlp_model3.compile(loss='binary_crossentropy', \n",
    "                   optimizer='sgd', \n",
    "                   metrics=['accuracy'])"
   ]
  },
  {
   "cell_type": "code",
   "execution_count": 70,
   "metadata": {},
   "outputs": [
    {
     "name": "stdout",
     "output_type": "stream",
     "text": [
      "Train on 32584 samples, validate on 8146 samples\n",
      "Epoch 1/100\n",
      "32584/32584 [==============================] - 1s 30us/step - loss: 0.5629 - accuracy: 0.8094 - val_loss: 0.5107 - val_accuracy: 0.8048\n",
      "Epoch 2/100\n",
      "32584/32584 [==============================] - 1s 25us/step - loss: 0.4888 - accuracy: 0.8132 - val_loss: 0.4926 - val_accuracy: 0.8048\n",
      "Epoch 3/100\n",
      "32584/32584 [==============================] - 1s 24us/step - loss: 0.4790 - accuracy: 0.8132 - val_loss: 0.4896 - val_accuracy: 0.8048\n",
      "Epoch 4/100\n",
      "32584/32584 [==============================] - 1s 25us/step - loss: 0.4761 - accuracy: 0.8132 - val_loss: 0.4881 - val_accuracy: 0.8048\n",
      "Epoch 5/100\n",
      "32584/32584 [==============================] - 1s 24us/step - loss: 0.4742 - accuracy: 0.8132 - val_loss: 0.4867 - val_accuracy: 0.8048\n",
      "Epoch 6/100\n",
      "32584/32584 [==============================] - 1s 24us/step - loss: 0.4726 - accuracy: 0.8131 - val_loss: 0.4856 - val_accuracy: 0.8046\n",
      "Epoch 7/100\n",
      "32584/32584 [==============================] - 1s 24us/step - loss: 0.4712 - accuracy: 0.8133 - val_loss: 0.4846 - val_accuracy: 0.8047\n",
      "Epoch 8/100\n",
      "32584/32584 [==============================] - 1s 24us/step - loss: 0.4701 - accuracy: 0.8136 - val_loss: 0.4838 - val_accuracy: 0.8049\n",
      "Epoch 9/100\n",
      "32584/32584 [==============================] - 1s 25us/step - loss: 0.4692 - accuracy: 0.8135 - val_loss: 0.4832 - val_accuracy: 0.8049\n",
      "Epoch 10/100\n",
      "32584/32584 [==============================] - 1s 25us/step - loss: 0.4684 - accuracy: 0.8136 - val_loss: 0.4828 - val_accuracy: 0.8051\n",
      "Epoch 11/100\n",
      "32584/32584 [==============================] - 1s 26us/step - loss: 0.4677 - accuracy: 0.8139 - val_loss: 0.4822 - val_accuracy: 0.8052\n",
      "Epoch 12/100\n",
      "32584/32584 [==============================] - 1s 25us/step - loss: 0.4672 - accuracy: 0.8137 - val_loss: 0.4819 - val_accuracy: 0.8053\n",
      "Epoch 13/100\n",
      "32584/32584 [==============================] - 1s 25us/step - loss: 0.4667 - accuracy: 0.8138 - val_loss: 0.4815 - val_accuracy: 0.8055\n",
      "Epoch 14/100\n",
      "32584/32584 [==============================] - 1s 25us/step - loss: 0.4662 - accuracy: 0.8138 - val_loss: 0.4811 - val_accuracy: 0.8055\n",
      "Epoch 15/100\n",
      "32584/32584 [==============================] - 1s 26us/step - loss: 0.4658 - accuracy: 0.8140 - val_loss: 0.4806 - val_accuracy: 0.8057\n",
      "Epoch 16/100\n",
      "32584/32584 [==============================] - 1s 25us/step - loss: 0.4654 - accuracy: 0.8140 - val_loss: 0.4803 - val_accuracy: 0.8055\n",
      "Epoch 17/100\n",
      "32584/32584 [==============================] - 1s 25us/step - loss: 0.4650 - accuracy: 0.8142 - val_loss: 0.4800 - val_accuracy: 0.8057\n",
      "Epoch 18/100\n",
      "32584/32584 [==============================] - 1s 26us/step - loss: 0.4647 - accuracy: 0.8143 - val_loss: 0.4796 - val_accuracy: 0.8062\n",
      "Epoch 19/100\n",
      "32584/32584 [==============================] - 1s 25us/step - loss: 0.4643 - accuracy: 0.8143 - val_loss: 0.4793 - val_accuracy: 0.8063\n",
      "Epoch 20/100\n",
      "32584/32584 [==============================] - 1s 24us/step - loss: 0.4640 - accuracy: 0.8144 - val_loss: 0.4789 - val_accuracy: 0.8063\n",
      "Epoch 21/100\n",
      "32584/32584 [==============================] - 1s 24us/step - loss: 0.4637 - accuracy: 0.8143 - val_loss: 0.4786 - val_accuracy: 0.8063\n",
      "Epoch 22/100\n",
      "32584/32584 [==============================] - 1s 27us/step - loss: 0.4634 - accuracy: 0.8144 - val_loss: 0.4783 - val_accuracy: 0.8064\n",
      "Epoch 23/100\n",
      "32584/32584 [==============================] - 1s 25us/step - loss: 0.4631 - accuracy: 0.8144 - val_loss: 0.4779 - val_accuracy: 0.8067\n",
      "Epoch 24/100\n",
      "32584/32584 [==============================] - 1s 24us/step - loss: 0.4627 - accuracy: 0.8145 - val_loss: 0.4775 - val_accuracy: 0.8067\n",
      "Epoch 25/100\n",
      "32584/32584 [==============================] - 1s 24us/step - loss: 0.4624 - accuracy: 0.8145 - val_loss: 0.4772 - val_accuracy: 0.8070\n",
      "Epoch 26/100\n",
      "32584/32584 [==============================] - 1s 24us/step - loss: 0.4621 - accuracy: 0.8144 - val_loss: 0.4768 - val_accuracy: 0.8070\n",
      "Epoch 27/100\n",
      "32584/32584 [==============================] - 1s 25us/step - loss: 0.4618 - accuracy: 0.8145 - val_loss: 0.4765 - val_accuracy: 0.8073\n",
      "Epoch 28/100\n",
      "32584/32584 [==============================] - 1s 24us/step - loss: 0.4615 - accuracy: 0.8146 - val_loss: 0.4763 - val_accuracy: 0.8075\n",
      "Epoch 29/100\n",
      "32584/32584 [==============================] - 1s 24us/step - loss: 0.4612 - accuracy: 0.8147 - val_loss: 0.4759 - val_accuracy: 0.8076\n",
      "Epoch 30/100\n",
      "32584/32584 [==============================] - 1s 25us/step - loss: 0.4610 - accuracy: 0.8147 - val_loss: 0.4755 - val_accuracy: 0.8075\n",
      "Epoch 31/100\n",
      "32584/32584 [==============================] - 1s 24us/step - loss: 0.4606 - accuracy: 0.8148 - val_loss: 0.4751 - val_accuracy: 0.8078\n",
      "Epoch 32/100\n",
      "32584/32584 [==============================] - 1s 24us/step - loss: 0.4603 - accuracy: 0.8148 - val_loss: 0.4747 - val_accuracy: 0.8079\n",
      "Epoch 33/100\n",
      "32584/32584 [==============================] - 1s 24us/step - loss: 0.4601 - accuracy: 0.8149 - val_loss: 0.4745 - val_accuracy: 0.8079\n",
      "Epoch 34/100\n",
      "32584/32584 [==============================] - 1s 24us/step - loss: 0.4598 - accuracy: 0.8149 - val_loss: 0.4740 - val_accuracy: 0.8080\n",
      "Epoch 35/100\n",
      "32584/32584 [==============================] - 1s 23us/step - loss: 0.4595 - accuracy: 0.8150 - val_loss: 0.4737 - val_accuracy: 0.8078\n",
      "Epoch 36/100\n",
      "32584/32584 [==============================] - 1s 23us/step - loss: 0.4592 - accuracy: 0.8150 - val_loss: 0.4735 - val_accuracy: 0.8078\n",
      "Epoch 37/100\n",
      "32584/32584 [==============================] - 1s 23us/step - loss: 0.4589 - accuracy: 0.8151 - val_loss: 0.4732 - val_accuracy: 0.8080\n",
      "Epoch 38/100\n",
      "32584/32584 [==============================] - 1s 23us/step - loss: 0.4586 - accuracy: 0.8150 - val_loss: 0.4729 - val_accuracy: 0.8082\n",
      "Epoch 39/100\n",
      "32584/32584 [==============================] - 1s 24us/step - loss: 0.4583 - accuracy: 0.8152 - val_loss: 0.4724 - val_accuracy: 0.8084\n",
      "Epoch 40/100\n",
      "32584/32584 [==============================] - 1s 24us/step - loss: 0.4580 - accuracy: 0.8152 - val_loss: 0.4721 - val_accuracy: 0.8084\n",
      "Epoch 41/100\n",
      "32584/32584 [==============================] - 1s 24us/step - loss: 0.4577 - accuracy: 0.8153 - val_loss: 0.4718 - val_accuracy: 0.8084\n",
      "Epoch 42/100\n",
      "32584/32584 [==============================] - 1s 24us/step - loss: 0.4575 - accuracy: 0.8153 - val_loss: 0.4714 - val_accuracy: 0.8087\n",
      "Epoch 43/100\n",
      "32584/32584 [==============================] - 1s 24us/step - loss: 0.4572 - accuracy: 0.8152 - val_loss: 0.4711 - val_accuracy: 0.8089\n",
      "Epoch 44/100\n",
      "32584/32584 [==============================] - 1s 24us/step - loss: 0.4569 - accuracy: 0.8153 - val_loss: 0.4709 - val_accuracy: 0.8090\n",
      "Epoch 45/100\n",
      "32584/32584 [==============================] - 1s 24us/step - loss: 0.4566 - accuracy: 0.8154 - val_loss: 0.4705 - val_accuracy: 0.8091\n",
      "Epoch 46/100\n",
      "32584/32584 [==============================] - 1s 24us/step - loss: 0.4564 - accuracy: 0.8155 - val_loss: 0.4704 - val_accuracy: 0.8090\n",
      "Epoch 47/100\n",
      "32584/32584 [==============================] - 1s 25us/step - loss: 0.4561 - accuracy: 0.8155 - val_loss: 0.4699 - val_accuracy: 0.8090\n",
      "Epoch 48/100\n",
      "32584/32584 [==============================] - 1s 24us/step - loss: 0.4558 - accuracy: 0.8155 - val_loss: 0.4697 - val_accuracy: 0.8094\n",
      "Epoch 49/100\n",
      "32584/32584 [==============================] - 1s 24us/step - loss: 0.4555 - accuracy: 0.8155 - val_loss: 0.4694 - val_accuracy: 0.8095\n",
      "Epoch 50/100\n",
      "32584/32584 [==============================] - 1s 24us/step - loss: 0.4552 - accuracy: 0.8156 - val_loss: 0.4691 - val_accuracy: 0.8094\n",
      "Epoch 51/100\n",
      "32584/32584 [==============================] - 1s 24us/step - loss: 0.4549 - accuracy: 0.8157 - val_loss: 0.4687 - val_accuracy: 0.8097\n",
      "Epoch 52/100\n",
      "32584/32584 [==============================] - 1s 24us/step - loss: 0.4547 - accuracy: 0.8159 - val_loss: 0.4683 - val_accuracy: 0.8096\n",
      "Epoch 53/100\n",
      "32584/32584 [==============================] - 1s 24us/step - loss: 0.4544 - accuracy: 0.8160 - val_loss: 0.4681 - val_accuracy: 0.8097\n",
      "Epoch 54/100\n",
      "32584/32584 [==============================] - 1s 24us/step - loss: 0.4540 - accuracy: 0.8160 - val_loss: 0.4678 - val_accuracy: 0.8097\n",
      "Epoch 55/100\n",
      "32584/32584 [==============================] - 1s 24us/step - loss: 0.4537 - accuracy: 0.8161 - val_loss: 0.4674 - val_accuracy: 0.8100\n"
     ]
    },
    {
     "name": "stdout",
     "output_type": "stream",
     "text": [
      "Epoch 56/100\n",
      "32584/32584 [==============================] - 1s 24us/step - loss: 0.4535 - accuracy: 0.8163 - val_loss: 0.4669 - val_accuracy: 0.8097\n",
      "Epoch 57/100\n",
      "32584/32584 [==============================] - 1s 24us/step - loss: 0.4532 - accuracy: 0.8164 - val_loss: 0.4668 - val_accuracy: 0.8100\n",
      "Epoch 58/100\n",
      "32584/32584 [==============================] - 1s 24us/step - loss: 0.4529 - accuracy: 0.8166 - val_loss: 0.4664 - val_accuracy: 0.8102\n",
      "Epoch 59/100\n",
      "32584/32584 [==============================] - 1s 24us/step - loss: 0.4526 - accuracy: 0.8164 - val_loss: 0.4661 - val_accuracy: 0.8100\n",
      "Epoch 60/100\n",
      "32584/32584 [==============================] - 1s 24us/step - loss: 0.4523 - accuracy: 0.8166 - val_loss: 0.4656 - val_accuracy: 0.8103\n",
      "Epoch 61/100\n",
      "32584/32584 [==============================] - 1s 24us/step - loss: 0.4521 - accuracy: 0.8165 - val_loss: 0.4653 - val_accuracy: 0.8107\n",
      "Epoch 62/100\n",
      "32584/32584 [==============================] - 1s 25us/step - loss: 0.4518 - accuracy: 0.8166 - val_loss: 0.4651 - val_accuracy: 0.8105\n",
      "Epoch 63/100\n",
      "32584/32584 [==============================] - 1s 24us/step - loss: 0.4515 - accuracy: 0.8165 - val_loss: 0.4652 - val_accuracy: 0.8106\n",
      "Epoch 64/100\n",
      "32584/32584 [==============================] - 1s 24us/step - loss: 0.4513 - accuracy: 0.8166 - val_loss: 0.4648 - val_accuracy: 0.8108\n",
      "Epoch 65/100\n",
      "32584/32584 [==============================] - 1s 24us/step - loss: 0.4510 - accuracy: 0.8166 - val_loss: 0.4641 - val_accuracy: 0.8106\n",
      "Epoch 66/100\n",
      "32584/32584 [==============================] - 1s 24us/step - loss: 0.4507 - accuracy: 0.8166 - val_loss: 0.4642 - val_accuracy: 0.8108\n",
      "Epoch 67/100\n",
      "32584/32584 [==============================] - 1s 24us/step - loss: 0.4504 - accuracy: 0.8168 - val_loss: 0.4638 - val_accuracy: 0.8108\n",
      "Epoch 68/100\n",
      "32584/32584 [==============================] - 1s 24us/step - loss: 0.4501 - accuracy: 0.8168 - val_loss: 0.4635 - val_accuracy: 0.8108\n",
      "Epoch 69/100\n",
      "32584/32584 [==============================] - 1s 25us/step - loss: 0.4498 - accuracy: 0.8171 - val_loss: 0.4631 - val_accuracy: 0.8110\n",
      "Epoch 70/100\n",
      "32584/32584 [==============================] - 1s 23us/step - loss: 0.4495 - accuracy: 0.8170 - val_loss: 0.4628 - val_accuracy: 0.8108\n",
      "Epoch 71/100\n",
      "32584/32584 [==============================] - 1s 23us/step - loss: 0.4493 - accuracy: 0.8171 - val_loss: 0.4626 - val_accuracy: 0.8110\n",
      "Epoch 72/100\n",
      "32584/32584 [==============================] - 1s 24us/step - loss: 0.4490 - accuracy: 0.8171 - val_loss: 0.4620 - val_accuracy: 0.8112\n",
      "Epoch 73/100\n",
      "32584/32584 [==============================] - 1s 25us/step - loss: 0.4487 - accuracy: 0.8172 - val_loss: 0.4619 - val_accuracy: 0.8110\n",
      "Epoch 74/100\n",
      "32584/32584 [==============================] - 1s 25us/step - loss: 0.4484 - accuracy: 0.8173 - val_loss: 0.4613 - val_accuracy: 0.8114\n",
      "Epoch 75/100\n",
      "32584/32584 [==============================] - 1s 24us/step - loss: 0.4481 - accuracy: 0.8174 - val_loss: 0.4617 - val_accuracy: 0.8114\n",
      "Epoch 76/100\n",
      "32584/32584 [==============================] - 1s 25us/step - loss: 0.4478 - accuracy: 0.8173 - val_loss: 0.4613 - val_accuracy: 0.8112\n",
      "Epoch 77/100\n",
      "32584/32584 [==============================] - 1s 25us/step - loss: 0.4476 - accuracy: 0.8174 - val_loss: 0.4610 - val_accuracy: 0.8113\n",
      "Epoch 78/100\n",
      "32584/32584 [==============================] - 1s 24us/step - loss: 0.4473 - accuracy: 0.8173 - val_loss: 0.4606 - val_accuracy: 0.8114\n",
      "Epoch 79/100\n",
      "32584/32584 [==============================] - 1s 24us/step - loss: 0.4470 - accuracy: 0.8174 - val_loss: 0.4603 - val_accuracy: 0.8117\n",
      "Epoch 80/100\n",
      "32584/32584 [==============================] - 1s 24us/step - loss: 0.4467 - accuracy: 0.8174 - val_loss: 0.4599 - val_accuracy: 0.8117\n",
      "Epoch 81/100\n",
      "32584/32584 [==============================] - 1s 24us/step - loss: 0.4465 - accuracy: 0.8175 - val_loss: 0.4594 - val_accuracy: 0.8118\n",
      "Epoch 82/100\n",
      "32584/32584 [==============================] - 1s 24us/step - loss: 0.4462 - accuracy: 0.8176 - val_loss: 0.4594 - val_accuracy: 0.8116\n",
      "Epoch 83/100\n",
      "32584/32584 [==============================] - 1s 24us/step - loss: 0.4458 - accuracy: 0.8176 - val_loss: 0.4600 - val_accuracy: 0.8113\n",
      "Epoch 84/100\n",
      "32584/32584 [==============================] - 1s 25us/step - loss: 0.4456 - accuracy: 0.8179 - val_loss: 0.4588 - val_accuracy: 0.8118\n",
      "Epoch 85/100\n",
      "32584/32584 [==============================] - 1s 24us/step - loss: 0.4454 - accuracy: 0.8177 - val_loss: 0.4586 - val_accuracy: 0.8117\n",
      "Epoch 86/100\n",
      "32584/32584 [==============================] - 1s 26us/step - loss: 0.4451 - accuracy: 0.8179 - val_loss: 0.4581 - val_accuracy: 0.8117\n",
      "Epoch 87/100\n",
      "32584/32584 [==============================] - 1s 24us/step - loss: 0.4448 - accuracy: 0.8179 - val_loss: 0.4578 - val_accuracy: 0.8118\n",
      "Epoch 88/100\n",
      "32584/32584 [==============================] - 1s 25us/step - loss: 0.4445 - accuracy: 0.8182 - val_loss: 0.4579 - val_accuracy: 0.8118\n",
      "Epoch 89/100\n",
      "32584/32584 [==============================] - 1s 24us/step - loss: 0.4443 - accuracy: 0.8181 - val_loss: 0.4571 - val_accuracy: 0.8119\n",
      "Epoch 90/100\n",
      "32584/32584 [==============================] - 1s 24us/step - loss: 0.4440 - accuracy: 0.8183 - val_loss: 0.4571 - val_accuracy: 0.8119\n",
      "Epoch 91/100\n",
      "32584/32584 [==============================] - 1s 24us/step - loss: 0.4438 - accuracy: 0.8183 - val_loss: 0.4567 - val_accuracy: 0.8125\n",
      "Epoch 92/100\n",
      "32584/32584 [==============================] - 1s 24us/step - loss: 0.4434 - accuracy: 0.8183 - val_loss: 0.4566 - val_accuracy: 0.8122\n",
      "Epoch 93/100\n",
      "32584/32584 [==============================] - 1s 24us/step - loss: 0.4432 - accuracy: 0.8184 - val_loss: 0.4562 - val_accuracy: 0.8127\n",
      "Epoch 94/100\n",
      "32584/32584 [==============================] - 1s 25us/step - loss: 0.4430 - accuracy: 0.8183 - val_loss: 0.4558 - val_accuracy: 0.8125\n",
      "Epoch 95/100\n",
      "32584/32584 [==============================] - 1s 25us/step - loss: 0.4427 - accuracy: 0.8183 - val_loss: 0.4560 - val_accuracy: 0.8124\n",
      "Epoch 96/100\n",
      "32584/32584 [==============================] - 1s 25us/step - loss: 0.4424 - accuracy: 0.8183 - val_loss: 0.4555 - val_accuracy: 0.8130\n",
      "Epoch 97/100\n",
      "32584/32584 [==============================] - 1s 25us/step - loss: 0.4422 - accuracy: 0.8184 - val_loss: 0.4550 - val_accuracy: 0.8133\n",
      "Epoch 98/100\n",
      "32584/32584 [==============================] - 1s 24us/step - loss: 0.4418 - accuracy: 0.8184 - val_loss: 0.4552 - val_accuracy: 0.8132\n",
      "Epoch 99/100\n",
      "32584/32584 [==============================] - 1s 24us/step - loss: 0.4417 - accuracy: 0.8187 - val_loss: 0.4545 - val_accuracy: 0.8132\n",
      "Epoch 100/100\n",
      "32584/32584 [==============================] - 1s 24us/step - loss: 0.4414 - accuracy: 0.8186 - val_loss: 0.4546 - val_accuracy: 0.8132\n"
     ]
    }
   ],
   "source": [
    "model3_history = mlp_model3.fit(X_train_std, \n",
    "                                y_train, \n",
    "                                epochs=100, \n",
    "                                batch_size=64, \n",
    "                                validation_split=0.2)"
   ]
  },
  {
   "cell_type": "markdown",
   "metadata": {},
   "source": [
    "##### Plot"
   ]
  },
  {
   "cell_type": "code",
   "execution_count": 71,
   "metadata": {},
   "outputs": [
    {
     "data": {
      "image/png": "[encoded data removed]",
      "text/plain": [
       "<Figure size 432x288 with 1 Axes>"
      ]
     },
     "metadata": {
      "needs_background": "light"
     },
     "output_type": "display_data"
    }
   ],
   "source": [
    "accuracy_plot(model3_history)"
   ]
  },
  {
   "cell_type": "code",
   "execution_count": 72,
   "metadata": {},
   "outputs": [
    {
     "data": {
      "image/png": "[encoded data removed]",
      "text/plain": [
       "<Figure size 432x288 with 1 Axes>"
      ]
     },
     "metadata": {
      "needs_background": "light"
     },
     "output_type": "display_data"
    }
   ],
   "source": [
    "loss_plot(model3_history)"
   ]
  },
  {
   "cell_type": "markdown",
   "metadata": {},
   "source": [
    "#### Predictions"
   ]
  },
  {
   "cell_type": "code",
   "execution_count": 73,
   "metadata": {},
   "outputs": [],
   "source": [
    "train_model3_pred = mlp_model3.predict_classes(X_train_std)\n",
    "test_model3_pred = mlp_model3.predict_classes(X_test_std)"
   ]
  },
  {
   "cell_type": "markdown",
   "metadata": {},
   "source": [
    "#### Getting evaluation metrics and evaluating model performance"
   ]
  },
  {
   "cell_type": "code",
   "execution_count": 74,
   "metadata": {},
   "outputs": [
    {
     "name": "stdout",
     "output_type": "stream",
     "text": [
      "Train metrics\n",
      "Confusion matrix\n",
      "[[32883   169]\n",
      " [ 7251   427]]\n",
      "----------------------------------------------\n",
      "Accuracy:  0.8178246992388902\n",
      "Precission:  0.8193302436836597\n",
      "Recall:  0.99488684497156\n",
      "F1 Score:  0.8986144891099389\n",
      "\n",
      "==============================================\n",
      "\n",
      "Test metrics\n",
      "Confusion matrix\n",
      "[[14087    78]\n",
      " [ 3094   197]]\n",
      "----------------------------------------------\n",
      "Accuracy:  0.8182859761686526\n",
      "Precission:  0.8199173505616669\n",
      "Recall:  0.9944934698199788\n",
      "F1 Score:  0.8988068653097683\n"
     ]
    }
   ],
   "source": [
    "compute_metrics(train_model3_pred, y_train, test_model3_pred, y_test)"
   ]
  },
  {
   "cell_type": "markdown",
   "metadata": {},
   "source": [
    "### MLP with 3 layers\n",
    "\n",
    "    1st hidden layer with 25 neurons\n",
    "    2nd hidden layer with 15 neurons"
   ]
  },
  {
   "cell_type": "code",
   "execution_count": 75,
   "metadata": {},
   "outputs": [],
   "source": [
    "np.random.seed(123)\n",
    "\n",
    "tf.set_random_seed(123)"
   ]
  },
  {
   "cell_type": "code",
   "execution_count": 76,
   "metadata": {},
   "outputs": [],
   "source": [
    "mlp_model4 = models.Sequential()\n",
    "\n",
    "mlp_model4.add(layers.Dense(25, \n",
    "                            input_shape=(X_train_std.shape[1], ), \n",
    "                            activation='tanh', \n",
    "                            kernel_initializer='normal'))\n",
    "\n",
    "mlp_model4.add(layers.Dense(15, \n",
    "                            activation='tanh', \n",
    "                            kernel_initializer='normal'))\n",
    "\n",
    "mlp_model4.add(layers.Dense(1, \n",
    "                            activation='sigmoid', \n",
    "                            kernel_initializer='normal'))"
   ]
  },
  {
   "cell_type": "code",
   "execution_count": 77,
   "metadata": {},
   "outputs": [
    {
     "name": "stdout",
     "output_type": "stream",
     "text": [
      "Model: \"sequential_7\"\n",
      "_________________________________________________________________\n",
      "Layer (type)                 Output Shape              Param #   \n",
      "=================================================================\n",
      "dense_14 (Dense)             (None, 25)                550       \n",
      "_________________________________________________________________\n",
      "dense_15 (Dense)             (None, 15)                390       \n",
      "_________________________________________________________________\n",
      "dense_16 (Dense)             (None, 1)                 16        \n",
      "=================================================================\n",
      "Total params: 956\n",
      "Trainable params: 956\n",
      "Non-trainable params: 0\n",
      "_________________________________________________________________\n"
     ]
    }
   ],
   "source": [
    "mlp_model4.summary()"
   ]
  },
  {
   "cell_type": "code",
   "execution_count": 78,
   "metadata": {},
   "outputs": [],
   "source": [
    "mlp_model4.compile(loss='binary_crossentropy', \n",
    "                   optimizer='sgd', \n",
    "                   metrics=['accuracy'])"
   ]
  },
  {
   "cell_type": "code",
   "execution_count": 79,
   "metadata": {},
   "outputs": [
    {
     "name": "stdout",
     "output_type": "stream",
     "text": [
      "Train on 32584 samples, validate on 8146 samples\n",
      "Epoch 1/100\n",
      "32584/32584 [==============================] - 1s 31us/step - loss: 0.5635 - accuracy: 0.8119 - val_loss: 0.5116 - val_accuracy: 0.8048\n",
      "Epoch 2/100\n",
      "32584/32584 [==============================] - 1s 25us/step - loss: 0.4906 - accuracy: 0.8132 - val_loss: 0.4948 - val_accuracy: 0.8048\n",
      "Epoch 3/100\n",
      "32584/32584 [==============================] - 1s 25us/step - loss: 0.4823 - accuracy: 0.8132 - val_loss: 0.4931 - val_accuracy: 0.8048\n",
      "Epoch 4/100\n",
      "32584/32584 [==============================] - 1s 25us/step - loss: 0.4809 - accuracy: 0.8132 - val_loss: 0.4928 - val_accuracy: 0.8048\n",
      "Epoch 5/100\n",
      "32584/32584 [==============================] - 1s 25us/step - loss: 0.4804 - accuracy: 0.8132 - val_loss: 0.4925 - val_accuracy: 0.8048\n",
      "Epoch 6/100\n",
      "32584/32584 [==============================] - 1s 24us/step - loss: 0.4799 - accuracy: 0.8132 - val_loss: 0.4921 - val_accuracy: 0.8048\n",
      "Epoch 7/100\n",
      "32584/32584 [==============================] - 1s 28us/step - loss: 0.4794 - accuracy: 0.8132 - val_loss: 0.4916 - val_accuracy: 0.8048\n",
      "Epoch 8/100\n",
      "32584/32584 [==============================] - 1s 25us/step - loss: 0.4788 - accuracy: 0.8132 - val_loss: 0.4910 - val_accuracy: 0.8048\n",
      "Epoch 9/100\n",
      "32584/32584 [==============================] - 1s 25us/step - loss: 0.4781 - accuracy: 0.8132 - val_loss: 0.4903 - val_accuracy: 0.8048\n",
      "Epoch 10/100\n",
      "32584/32584 [==============================] - 1s 24us/step - loss: 0.4772 - accuracy: 0.8132 - val_loss: 0.4894 - val_accuracy: 0.8048\n",
      "Epoch 11/100\n",
      "32584/32584 [==============================] - 1s 25us/step - loss: 0.4762 - accuracy: 0.8132 - val_loss: 0.4885 - val_accuracy: 0.8048\n",
      "Epoch 12/100\n",
      "32584/32584 [==============================] - 1s 25us/step - loss: 0.4750 - accuracy: 0.8132 - val_loss: 0.4875 - val_accuracy: 0.8048\n",
      "Epoch 13/100\n",
      "32584/32584 [==============================] - 1s 25us/step - loss: 0.4737 - accuracy: 0.8132 - val_loss: 0.4864 - val_accuracy: 0.8048\n",
      "Epoch 14/100\n",
      "32584/32584 [==============================] - 1s 25us/step - loss: 0.4725 - accuracy: 0.8133 - val_loss: 0.4854 - val_accuracy: 0.8048\n",
      "Epoch 15/100\n",
      "32584/32584 [==============================] - 1s 26us/step - loss: 0.4713 - accuracy: 0.8134 - val_loss: 0.4845 - val_accuracy: 0.8048\n",
      "Epoch 16/100\n",
      "32584/32584 [==============================] - 1s 26us/step - loss: 0.4702 - accuracy: 0.8134 - val_loss: 0.4837 - val_accuracy: 0.8048\n",
      "Epoch 17/100\n",
      "32584/32584 [==============================] - 1s 26us/step - loss: 0.4693 - accuracy: 0.8134 - val_loss: 0.4831 - val_accuracy: 0.8048\n",
      "Epoch 18/100\n",
      "32584/32584 [==============================] - 1s 25us/step - loss: 0.4685 - accuracy: 0.8135 - val_loss: 0.4825 - val_accuracy: 0.8052\n",
      "Epoch 19/100\n",
      "32584/32584 [==============================] - 1s 26us/step - loss: 0.4678 - accuracy: 0.8136 - val_loss: 0.4821 - val_accuracy: 0.8052\n",
      "Epoch 20/100\n",
      "32584/32584 [==============================] - 1s 26us/step - loss: 0.4672 - accuracy: 0.8137 - val_loss: 0.4816 - val_accuracy: 0.8054\n",
      "Epoch 21/100\n",
      "32584/32584 [==============================] - 1s 26us/step - loss: 0.4667 - accuracy: 0.8139 - val_loss: 0.4812 - val_accuracy: 0.8057\n",
      "Epoch 22/100\n",
      "32584/32584 [==============================] - 1s 26us/step - loss: 0.4662 - accuracy: 0.8140 - val_loss: 0.4807 - val_accuracy: 0.8057\n",
      "Epoch 23/100\n",
      "32584/32584 [==============================] - 1s 26us/step - loss: 0.4657 - accuracy: 0.8140 - val_loss: 0.4802 - val_accuracy: 0.8058\n",
      "Epoch 24/100\n",
      "32584/32584 [==============================] - 1s 27us/step - loss: 0.4652 - accuracy: 0.8141 - val_loss: 0.4799 - val_accuracy: 0.8062\n",
      "Epoch 25/100\n",
      "32584/32584 [==============================] - 1s 27us/step - loss: 0.4648 - accuracy: 0.8142 - val_loss: 0.4794 - val_accuracy: 0.8063\n",
      "Epoch 26/100\n",
      "32584/32584 [==============================] - 1s 26us/step - loss: 0.4643 - accuracy: 0.8142 - val_loss: 0.4790 - val_accuracy: 0.8062\n",
      "Epoch 27/100\n",
      "32584/32584 [==============================] - 1s 26us/step - loss: 0.4639 - accuracy: 0.8142 - val_loss: 0.4785 - val_accuracy: 0.8065\n",
      "Epoch 28/100\n",
      "32584/32584 [==============================] - 1s 26us/step - loss: 0.4634 - accuracy: 0.8142 - val_loss: 0.4781 - val_accuracy: 0.8064\n",
      "Epoch 29/100\n",
      "32584/32584 [==============================] - 1s 26us/step - loss: 0.4630 - accuracy: 0.8141 - val_loss: 0.4774 - val_accuracy: 0.8069\n",
      "Epoch 30/100\n",
      "32584/32584 [==============================] - 1s 27us/step - loss: 0.4625 - accuracy: 0.8142 - val_loss: 0.4769 - val_accuracy: 0.8074\n",
      "Epoch 31/100\n",
      "32584/32584 [==============================] - 1s 26us/step - loss: 0.4621 - accuracy: 0.8145 - val_loss: 0.4765 - val_accuracy: 0.8074\n",
      "Epoch 32/100\n",
      "32584/32584 [==============================] - 1s 26us/step - loss: 0.4616 - accuracy: 0.8145 - val_loss: 0.4759 - val_accuracy: 0.8075\n",
      "Epoch 33/100\n",
      "32584/32584 [==============================] - 1s 27us/step - loss: 0.4611 - accuracy: 0.8148 - val_loss: 0.4755 - val_accuracy: 0.8079\n",
      "Epoch 34/100\n",
      "32584/32584 [==============================] - 1s 26us/step - loss: 0.4607 - accuracy: 0.8148 - val_loss: 0.4748 - val_accuracy: 0.8080\n",
      "Epoch 35/100\n",
      "32584/32584 [==============================] - 1s 27us/step - loss: 0.4602 - accuracy: 0.8148 - val_loss: 0.4743 - val_accuracy: 0.8079\n",
      "Epoch 36/100\n",
      "32584/32584 [==============================] - 1s 26us/step - loss: 0.4597 - accuracy: 0.8148 - val_loss: 0.4739 - val_accuracy: 0.8080\n",
      "Epoch 37/100\n",
      "32584/32584 [==============================] - 1s 27us/step - loss: 0.4592 - accuracy: 0.8149 - val_loss: 0.4731 - val_accuracy: 0.8081\n",
      "Epoch 38/100\n",
      "32584/32584 [==============================] - 1s 26us/step - loss: 0.4587 - accuracy: 0.8149 - val_loss: 0.4727 - val_accuracy: 0.8081\n",
      "Epoch 39/100\n",
      "32584/32584 [==============================] - 1s 26us/step - loss: 0.4582 - accuracy: 0.8150 - val_loss: 0.4720 - val_accuracy: 0.8085\n",
      "Epoch 40/100\n",
      "32584/32584 [==============================] - 1s 26us/step - loss: 0.4577 - accuracy: 0.8153 - val_loss: 0.4715 - val_accuracy: 0.8089\n",
      "Epoch 41/100\n",
      "32584/32584 [==============================] - 1s 26us/step - loss: 0.4572 - accuracy: 0.8153 - val_loss: 0.4709 - val_accuracy: 0.8089\n",
      "Epoch 42/100\n",
      "32584/32584 [==============================] - 1s 26us/step - loss: 0.4567 - accuracy: 0.8155 - val_loss: 0.4704 - val_accuracy: 0.8094\n",
      "Epoch 43/100\n",
      "32584/32584 [==============================] - 1s 26us/step - loss: 0.4562 - accuracy: 0.8156 - val_loss: 0.4697 - val_accuracy: 0.8096\n",
      "Epoch 44/100\n",
      "32584/32584 [==============================] - 1s 26us/step - loss: 0.4557 - accuracy: 0.8159 - val_loss: 0.4692 - val_accuracy: 0.8097\n",
      "Epoch 45/100\n",
      "32584/32584 [==============================] - 1s 26us/step - loss: 0.4551 - accuracy: 0.8160 - val_loss: 0.4690 - val_accuracy: 0.8097\n",
      "Epoch 46/100\n",
      "32584/32584 [==============================] - 1s 26us/step - loss: 0.4547 - accuracy: 0.8161 - val_loss: 0.4687 - val_accuracy: 0.8098\n",
      "Epoch 47/100\n",
      "32584/32584 [==============================] - 1s 27us/step - loss: 0.4542 - accuracy: 0.8163 - val_loss: 0.4673 - val_accuracy: 0.8103\n",
      "Epoch 48/100\n",
      "32584/32584 [==============================] - 1s 26us/step - loss: 0.4536 - accuracy: 0.8164 - val_loss: 0.4670 - val_accuracy: 0.8105\n",
      "Epoch 49/100\n",
      "32584/32584 [==============================] - 1s 26us/step - loss: 0.4532 - accuracy: 0.8167 - val_loss: 0.4665 - val_accuracy: 0.8103\n",
      "Epoch 50/100\n",
      "32584/32584 [==============================] - 1s 26us/step - loss: 0.4526 - accuracy: 0.8167 - val_loss: 0.4659 - val_accuracy: 0.8106\n",
      "Epoch 51/100\n",
      "32584/32584 [==============================] - 1s 26us/step - loss: 0.4520 - accuracy: 0.8168 - val_loss: 0.4652 - val_accuracy: 0.8110\n",
      "Epoch 52/100\n",
      "32584/32584 [==============================] - 1s 29us/step - loss: 0.4516 - accuracy: 0.8167 - val_loss: 0.4649 - val_accuracy: 0.8108\n",
      "Epoch 53/100\n",
      "32584/32584 [==============================] - 1s 28us/step - loss: 0.4511 - accuracy: 0.8168 - val_loss: 0.4647 - val_accuracy: 0.8108\n",
      "Epoch 54/100\n",
      "32584/32584 [==============================] - 1s 27us/step - loss: 0.4506 - accuracy: 0.8169 - val_loss: 0.4638 - val_accuracy: 0.8110\n",
      "Epoch 55/100\n",
      "32584/32584 [==============================] - 1s 27us/step - loss: 0.4500 - accuracy: 0.8170 - val_loss: 0.4629 - val_accuracy: 0.8111\n"
     ]
    },
    {
     "name": "stdout",
     "output_type": "stream",
     "text": [
      "Epoch 56/100\n",
      "32584/32584 [==============================] - 1s 26us/step - loss: 0.4496 - accuracy: 0.8171 - val_loss: 0.4627 - val_accuracy: 0.8111\n",
      "Epoch 57/100\n",
      "32584/32584 [==============================] - 1s 27us/step - loss: 0.4491 - accuracy: 0.8174 - val_loss: 0.4621 - val_accuracy: 0.8110\n",
      "Epoch 58/100\n",
      "32584/32584 [==============================] - 1s 26us/step - loss: 0.4485 - accuracy: 0.8173 - val_loss: 0.4610 - val_accuracy: 0.8114\n",
      "Epoch 59/100\n",
      "32584/32584 [==============================] - 1s 26us/step - loss: 0.4481 - accuracy: 0.8175 - val_loss: 0.4607 - val_accuracy: 0.8118\n",
      "Epoch 60/100\n",
      "32584/32584 [==============================] - 1s 27us/step - loss: 0.4475 - accuracy: 0.8177 - val_loss: 0.4607 - val_accuracy: 0.8116\n",
      "Epoch 61/100\n",
      "32584/32584 [==============================] - 1s 26us/step - loss: 0.4471 - accuracy: 0.8176 - val_loss: 0.4596 - val_accuracy: 0.8124\n",
      "Epoch 62/100\n",
      "32584/32584 [==============================] - 1s 27us/step - loss: 0.4464 - accuracy: 0.8175 - val_loss: 0.4597 - val_accuracy: 0.8124\n",
      "Epoch 63/100\n",
      "32584/32584 [==============================] - 1s 27us/step - loss: 0.4460 - accuracy: 0.8178 - val_loss: 0.4585 - val_accuracy: 0.8129\n",
      "Epoch 64/100\n",
      "32584/32584 [==============================] - 1s 28us/step - loss: 0.4456 - accuracy: 0.8180 - val_loss: 0.4583 - val_accuracy: 0.8127\n",
      "Epoch 65/100\n",
      "32584/32584 [==============================] - 1s 26us/step - loss: 0.4450 - accuracy: 0.8179 - val_loss: 0.4574 - val_accuracy: 0.8127\n",
      "Epoch 66/100\n",
      "32584/32584 [==============================] - 1s 26us/step - loss: 0.4446 - accuracy: 0.8180 - val_loss: 0.4572 - val_accuracy: 0.8129\n",
      "Epoch 67/100\n",
      "32584/32584 [==============================] - 1s 27us/step - loss: 0.4440 - accuracy: 0.8185 - val_loss: 0.4567 - val_accuracy: 0.8130\n",
      "Epoch 68/100\n",
      "32584/32584 [==============================] - 1s 26us/step - loss: 0.4435 - accuracy: 0.8183 - val_loss: 0.4562 - val_accuracy: 0.8130\n",
      "Epoch 69/100\n",
      "32584/32584 [==============================] - 1s 27us/step - loss: 0.4430 - accuracy: 0.8184 - val_loss: 0.4550 - val_accuracy: 0.8134\n",
      "Epoch 70/100\n",
      "32584/32584 [==============================] - 1s 28us/step - loss: 0.4424 - accuracy: 0.8185 - val_loss: 0.4555 - val_accuracy: 0.8133\n",
      "Epoch 71/100\n",
      "32584/32584 [==============================] - 1s 27us/step - loss: 0.4419 - accuracy: 0.8187 - val_loss: 0.4546 - val_accuracy: 0.8133\n",
      "Epoch 72/100\n",
      "32584/32584 [==============================] - 1s 27us/step - loss: 0.4414 - accuracy: 0.8188 - val_loss: 0.4540 - val_accuracy: 0.8141\n",
      "Epoch 73/100\n",
      "32584/32584 [==============================] - 1s 26us/step - loss: 0.4409 - accuracy: 0.8192 - val_loss: 0.4534 - val_accuracy: 0.8140\n",
      "Epoch 74/100\n",
      "32584/32584 [==============================] - 1s 26us/step - loss: 0.4405 - accuracy: 0.8192 - val_loss: 0.4520 - val_accuracy: 0.8148\n",
      "Epoch 75/100\n",
      "32584/32584 [==============================] - 1s 27us/step - loss: 0.4398 - accuracy: 0.8195 - val_loss: 0.4525 - val_accuracy: 0.8149\n",
      "Epoch 76/100\n",
      "32584/32584 [==============================] - 1s 26us/step - loss: 0.4394 - accuracy: 0.8196 - val_loss: 0.4513 - val_accuracy: 0.8146\n",
      "Epoch 77/100\n",
      "32584/32584 [==============================] - 1s 26us/step - loss: 0.4386 - accuracy: 0.8198 - val_loss: 0.4512 - val_accuracy: 0.8146\n",
      "Epoch 78/100\n",
      "32584/32584 [==============================] - 1s 25us/step - loss: 0.4384 - accuracy: 0.8199 - val_loss: 0.4500 - val_accuracy: 0.8156\n",
      "Epoch 79/100\n",
      "32584/32584 [==============================] - 1s 26us/step - loss: 0.4378 - accuracy: 0.8201 - val_loss: 0.4493 - val_accuracy: 0.8154\n",
      "Epoch 80/100\n",
      "32584/32584 [==============================] - 1s 27us/step - loss: 0.4371 - accuracy: 0.8202 - val_loss: 0.4490 - val_accuracy: 0.8156\n",
      "Epoch 81/100\n",
      "32584/32584 [==============================] - 1s 30us/step - loss: 0.4368 - accuracy: 0.8202 - val_loss: 0.4490 - val_accuracy: 0.8159\n",
      "Epoch 82/100\n",
      "32584/32584 [==============================] - 1s 26us/step - loss: 0.4363 - accuracy: 0.8206 - val_loss: 0.4490 - val_accuracy: 0.8168\n",
      "Epoch 83/100\n",
      "32584/32584 [==============================] - 1s 26us/step - loss: 0.4358 - accuracy: 0.8206 - val_loss: 0.4484 - val_accuracy: 0.8165\n",
      "Epoch 84/100\n",
      "32584/32584 [==============================] - 1s 26us/step - loss: 0.4354 - accuracy: 0.8212 - val_loss: 0.4480 - val_accuracy: 0.8162\n",
      "Epoch 85/100\n",
      "32584/32584 [==============================] - 1s 26us/step - loss: 0.4348 - accuracy: 0.8209 - val_loss: 0.4497 - val_accuracy: 0.8165\n",
      "Epoch 86/100\n",
      "32584/32584 [==============================] - 1s 26us/step - loss: 0.4345 - accuracy: 0.8210 - val_loss: 0.4496 - val_accuracy: 0.8155\n",
      "Epoch 87/100\n",
      "32584/32584 [==============================] - 1s 25us/step - loss: 0.4341 - accuracy: 0.8211 - val_loss: 0.4459 - val_accuracy: 0.8171\n",
      "Epoch 88/100\n",
      "32584/32584 [==============================] - 1s 26us/step - loss: 0.4335 - accuracy: 0.8216 - val_loss: 0.4457 - val_accuracy: 0.8171\n",
      "Epoch 89/100\n",
      "32584/32584 [==============================] - 1s 27us/step - loss: 0.4330 - accuracy: 0.8216 - val_loss: 0.4470 - val_accuracy: 0.8168\n",
      "Epoch 90/100\n",
      "32584/32584 [==============================] - 1s 27us/step - loss: 0.4327 - accuracy: 0.8222 - val_loss: 0.4435 - val_accuracy: 0.8175\n",
      "Epoch 91/100\n",
      "32584/32584 [==============================] - 1s 26us/step - loss: 0.4321 - accuracy: 0.8218 - val_loss: 0.4438 - val_accuracy: 0.8175\n",
      "Epoch 92/100\n",
      "32584/32584 [==============================] - 1s 26us/step - loss: 0.4317 - accuracy: 0.8220 - val_loss: 0.4440 - val_accuracy: 0.8176\n",
      "Epoch 93/100\n",
      "32584/32584 [==============================] - 1s 26us/step - loss: 0.4311 - accuracy: 0.8219 - val_loss: 0.4416 - val_accuracy: 0.8178\n",
      "Epoch 94/100\n",
      "32584/32584 [==============================] - 1s 25us/step - loss: 0.4306 - accuracy: 0.8223 - val_loss: 0.4420 - val_accuracy: 0.8173\n",
      "Epoch 95/100\n",
      "32584/32584 [==============================] - 1s 25us/step - loss: 0.4303 - accuracy: 0.8222 - val_loss: 0.4411 - val_accuracy: 0.8181\n",
      "Epoch 96/100\n",
      "32584/32584 [==============================] - 1s 25us/step - loss: 0.4298 - accuracy: 0.8226 - val_loss: 0.4411 - val_accuracy: 0.8173\n",
      "Epoch 97/100\n",
      "32584/32584 [==============================] - 1s 25us/step - loss: 0.4295 - accuracy: 0.8226 - val_loss: 0.4394 - val_accuracy: 0.8184\n",
      "Epoch 98/100\n",
      "32584/32584 [==============================] - 1s 26us/step - loss: 0.4289 - accuracy: 0.8226 - val_loss: 0.4423 - val_accuracy: 0.8175\n",
      "Epoch 99/100\n",
      "32584/32584 [==============================] - 1s 27us/step - loss: 0.4284 - accuracy: 0.8225 - val_loss: 0.4405 - val_accuracy: 0.8173\n",
      "Epoch 100/100\n",
      "32584/32584 [==============================] - 1s 26us/step - loss: 0.4282 - accuracy: 0.8228 - val_loss: 0.4387 - val_accuracy: 0.8183\n"
     ]
    }
   ],
   "source": [
    "model4_history = mlp_model4.fit(X_train_std, \n",
    "                                y_train, \n",
    "                                epochs=100, \n",
    "                                batch_size=64, \n",
    "                                validation_split=0.2)"
   ]
  },
  {
   "cell_type": "markdown",
   "metadata": {},
   "source": [
    "##### Plot"
   ]
  },
  {
   "cell_type": "code",
   "execution_count": 80,
   "metadata": {},
   "outputs": [
    {
     "data": {
      "image/png": "[encoded data removed]",
      "text/plain": [
       "<Figure size 432x288 with 1 Axes>"
      ]
     },
     "metadata": {
      "needs_background": "light"
     },
     "output_type": "display_data"
    },
    {
     "data": {
      "image/png": "[encoded data removed]",
      "text/plain": [
       "<Figure size 432x288 with 1 Axes>"
      ]
     },
     "metadata": {
      "needs_background": "light"
     },
     "output_type": "display_data"
    }
   ],
   "source": [
    "accuracy_plot(model4_history)\n",
    "loss_plot(model4_history)"
   ]
  },
  {
   "cell_type": "markdown",
   "metadata": {},
   "source": [
    "#### Predictions"
   ]
  },
  {
   "cell_type": "code",
   "execution_count": 81,
   "metadata": {},
   "outputs": [],
   "source": [
    "train_model4_pred = mlp_model4.predict_classes(X_train_std)\n",
    "test_model4_pred = mlp_model4.predict_classes(X_test_std)"
   ]
  },
  {
   "cell_type": "markdown",
   "metadata": {},
   "source": [
    "#### Getting evaluation metrics and evaluating model performance"
   ]
  },
  {
   "cell_type": "code",
   "execution_count": 82,
   "metadata": {},
   "outputs": [
    {
     "name": "stdout",
     "output_type": "stream",
     "text": [
      "Train metrics\n",
      "Confusion matrix\n",
      "[[32802   250]\n",
      " [ 6990   688]]\n",
      "----------------------------------------------\n",
      "Accuracy:  0.8222440461576234\n",
      "Precission:  0.8243365500603136\n",
      "Recall:  0.9924361612005325\n",
      "F1 Score:  0.9006095217176432\n",
      "\n",
      "==============================================\n",
      "\n",
      "Test metrics\n",
      "Confusion matrix\n",
      "[[14049   116]\n",
      " [ 2990   301]]\n",
      "----------------------------------------------\n",
      "Accuracy:  0.8220669110907425\n",
      "Precission:  0.8245202183226715\n",
      "Recall:  0.9918108012707377\n",
      "F1 Score:  0.9004614792975261\n"
     ]
    }
   ],
   "source": [
    "compute_metrics(train_model4_pred, y_train, test_model4_pred, y_test)"
   ]
  },
  {
   "cell_type": "markdown",
   "metadata": {},
   "source": [
    "### MLP with 3 layers\n",
    "\n",
    "    1st hidden layer with 25 neurons\n",
    "    2nd hidden layer with 20 neurons"
   ]
  },
  {
   "cell_type": "code",
   "execution_count": 83,
   "metadata": {},
   "outputs": [],
   "source": [
    "np.random.seed(123)\n",
    "\n",
    "tf.set_random_seed(123)"
   ]
  },
  {
   "cell_type": "code",
   "execution_count": 84,
   "metadata": {},
   "outputs": [],
   "source": [
    "mlp_model5 = models.Sequential()\n",
    "\n",
    "mlp_model5.add(layers.Dense(25, \n",
    "                            input_shape=(X_train_std.shape[1], ), \n",
    "                            activation='tanh', \n",
    "                            kernel_initializer='normal'))\n",
    "\n",
    "mlp_model5.add(layers.Dense(20, \n",
    "                            activation='tanh', \n",
    "                            kernel_initializer='normal'))\n",
    "\n",
    "mlp_model5.add(layers.Dense(1, \n",
    "                            activation='sigmoid', \n",
    "                            kernel_initializer='normal'))"
   ]
  },
  {
   "cell_type": "code",
   "execution_count": 85,
   "metadata": {},
   "outputs": [
    {
     "name": "stdout",
     "output_type": "stream",
     "text": [
      "Model: \"sequential_8\"\n",
      "_________________________________________________________________\n",
      "Layer (type)                 Output Shape              Param #   \n",
      "=================================================================\n",
      "dense_17 (Dense)             (None, 25)                550       \n",
      "_________________________________________________________________\n",
      "dense_18 (Dense)             (None, 20)                520       \n",
      "_________________________________________________________________\n",
      "dense_19 (Dense)             (None, 1)                 21        \n",
      "=================================================================\n",
      "Total params: 1,091\n",
      "Trainable params: 1,091\n",
      "Non-trainable params: 0\n",
      "_________________________________________________________________\n"
     ]
    }
   ],
   "source": [
    "mlp_model5.summary()"
   ]
  },
  {
   "cell_type": "code",
   "execution_count": 86,
   "metadata": {},
   "outputs": [],
   "source": [
    "mlp_model5.compile(loss='binary_crossentropy', \n",
    "                   optimizer='sgd', \n",
    "                   metrics=['accuracy'])"
   ]
  },
  {
   "cell_type": "code",
   "execution_count": 87,
   "metadata": {},
   "outputs": [
    {
     "name": "stdout",
     "output_type": "stream",
     "text": [
      "Train on 32584 samples, validate on 8146 samples\n",
      "Epoch 1/100\n",
      "32584/32584 [==============================] - 1s 33us/step - loss: 0.5614 - accuracy: 0.8120 - val_loss: 0.5096 - val_accuracy: 0.8048\n",
      "Epoch 2/100\n",
      "32584/32584 [==============================] - 1s 26us/step - loss: 0.4891 - accuracy: 0.8132 - val_loss: 0.4940 - val_accuracy: 0.8048\n",
      "Epoch 3/100\n",
      "32584/32584 [==============================] - 1s 26us/step - loss: 0.4816 - accuracy: 0.8132 - val_loss: 0.4927 - val_accuracy: 0.8048\n",
      "Epoch 4/100\n",
      "32584/32584 [==============================] - 1s 25us/step - loss: 0.4805 - accuracy: 0.8132 - val_loss: 0.4924 - val_accuracy: 0.8048\n",
      "Epoch 5/100\n",
      "32584/32584 [==============================] - 1s 26us/step - loss: 0.4799 - accuracy: 0.8132 - val_loss: 0.4920 - val_accuracy: 0.8048\n",
      "Epoch 6/100\n",
      "32584/32584 [==============================] - 1s 26us/step - loss: 0.4794 - accuracy: 0.8132 - val_loss: 0.4915 - val_accuracy: 0.8048\n",
      "Epoch 7/100\n",
      "32584/32584 [==============================] - 1s 26us/step - loss: 0.4787 - accuracy: 0.8132 - val_loss: 0.4909 - val_accuracy: 0.8048\n",
      "Epoch 8/100\n",
      "32584/32584 [==============================] - 1s 25us/step - loss: 0.4780 - accuracy: 0.8132 - val_loss: 0.4902 - val_accuracy: 0.8048\n",
      "Epoch 9/100\n",
      "32584/32584 [==============================] - 1s 25us/step - loss: 0.4770 - accuracy: 0.8132 - val_loss: 0.4893 - val_accuracy: 0.8048\n",
      "Epoch 10/100\n",
      "32584/32584 [==============================] - 1s 25us/step - loss: 0.4760 - accuracy: 0.8132 - val_loss: 0.4883 - val_accuracy: 0.8048\n",
      "Epoch 11/100\n",
      "32584/32584 [==============================] - 1s 25us/step - loss: 0.4749 - accuracy: 0.8132 - val_loss: 0.4874 - val_accuracy: 0.8048\n",
      "Epoch 12/100\n",
      "32584/32584 [==============================] - 1s 25us/step - loss: 0.4737 - accuracy: 0.8132 - val_loss: 0.4864 - val_accuracy: 0.8048\n",
      "Epoch 13/100\n",
      "32584/32584 [==============================] - 1s 25us/step - loss: 0.4725 - accuracy: 0.8132 - val_loss: 0.4855 - val_accuracy: 0.8048\n",
      "Epoch 14/100\n",
      "32584/32584 [==============================] - 1s 24us/step - loss: 0.4714 - accuracy: 0.8132 - val_loss: 0.4847 - val_accuracy: 0.8048\n",
      "Epoch 15/100\n",
      "32584/32584 [==============================] - 1s 24us/step - loss: 0.4704 - accuracy: 0.8133 - val_loss: 0.4840 - val_accuracy: 0.8049\n",
      "Epoch 16/100\n",
      "32584/32584 [==============================] - 1s 24us/step - loss: 0.4695 - accuracy: 0.8135 - val_loss: 0.4833 - val_accuracy: 0.8052\n",
      "Epoch 17/100\n",
      "32584/32584 [==============================] - 1s 25us/step - loss: 0.4687 - accuracy: 0.8135 - val_loss: 0.4827 - val_accuracy: 0.8053\n",
      "Epoch 18/100\n",
      "32584/32584 [==============================] - 1s 25us/step - loss: 0.4680 - accuracy: 0.8137 - val_loss: 0.4822 - val_accuracy: 0.8054\n",
      "Epoch 19/100\n",
      "32584/32584 [==============================] - 1s 29us/step - loss: 0.4674 - accuracy: 0.8137 - val_loss: 0.4818 - val_accuracy: 0.8055\n",
      "Epoch 20/100\n",
      "32584/32584 [==============================] - 1s 29us/step - loss: 0.4668 - accuracy: 0.8137 - val_loss: 0.4813 - val_accuracy: 0.8055\n",
      "Epoch 21/100\n",
      "32584/32584 [==============================] - 1s 27us/step - loss: 0.4663 - accuracy: 0.8139 - val_loss: 0.4809 - val_accuracy: 0.8055\n",
      "Epoch 22/100\n",
      "32584/32584 [==============================] - 1s 27us/step - loss: 0.4658 - accuracy: 0.8139 - val_loss: 0.4804 - val_accuracy: 0.8058\n",
      "Epoch 23/100\n",
      "32584/32584 [==============================] - 1s 26us/step - loss: 0.4653 - accuracy: 0.8140 - val_loss: 0.4798 - val_accuracy: 0.8059\n",
      "Epoch 24/100\n",
      "32584/32584 [==============================] - 1s 26us/step - loss: 0.4648 - accuracy: 0.8141 - val_loss: 0.4795 - val_accuracy: 0.8062\n",
      "Epoch 25/100\n",
      "32584/32584 [==============================] - 1s 26us/step - loss: 0.4644 - accuracy: 0.8142 - val_loss: 0.4790 - val_accuracy: 0.8062\n",
      "Epoch 26/100\n",
      "32584/32584 [==============================] - 1s 26us/step - loss: 0.4639 - accuracy: 0.8144 - val_loss: 0.4786 - val_accuracy: 0.8064\n",
      "Epoch 27/100\n",
      "32584/32584 [==============================] - 1s 26us/step - loss: 0.4635 - accuracy: 0.8144 - val_loss: 0.4781 - val_accuracy: 0.8065\n",
      "Epoch 28/100\n",
      "32584/32584 [==============================] - 1s 26us/step - loss: 0.4630 - accuracy: 0.8144 - val_loss: 0.4776 - val_accuracy: 0.8065\n",
      "Epoch 29/100\n",
      "32584/32584 [==============================] - 1s 28us/step - loss: 0.4625 - accuracy: 0.8143 - val_loss: 0.4769 - val_accuracy: 0.8069\n",
      "Epoch 30/100\n",
      "32584/32584 [==============================] - 1s 26us/step - loss: 0.4620 - accuracy: 0.8144 - val_loss: 0.4764 - val_accuracy: 0.8071\n",
      "Epoch 31/100\n",
      "32584/32584 [==============================] - 1s 27us/step - loss: 0.4616 - accuracy: 0.8145 - val_loss: 0.4759 - val_accuracy: 0.8073\n",
      "Epoch 32/100\n",
      "32584/32584 [==============================] - 1s 25us/step - loss: 0.4611 - accuracy: 0.8145 - val_loss: 0.4754 - val_accuracy: 0.8075\n",
      "Epoch 33/100\n",
      "32584/32584 [==============================] - 1s 24us/step - loss: 0.4606 - accuracy: 0.8148 - val_loss: 0.4750 - val_accuracy: 0.8079\n",
      "Epoch 34/100\n",
      "32584/32584 [==============================] - 1s 25us/step - loss: 0.4601 - accuracy: 0.8148 - val_loss: 0.4742 - val_accuracy: 0.8080\n",
      "Epoch 35/100\n",
      "32584/32584 [==============================] - 1s 26us/step - loss: 0.4596 - accuracy: 0.8148 - val_loss: 0.4737 - val_accuracy: 0.8078\n",
      "Epoch 36/100\n",
      "32584/32584 [==============================] - 1s 26us/step - loss: 0.4591 - accuracy: 0.8149 - val_loss: 0.4733 - val_accuracy: 0.8080\n",
      "Epoch 37/100\n",
      "32584/32584 [==============================] - 1s 26us/step - loss: 0.4586 - accuracy: 0.8152 - val_loss: 0.4725 - val_accuracy: 0.8081\n",
      "Epoch 38/100\n",
      "32584/32584 [==============================] - 1s 27us/step - loss: 0.4581 - accuracy: 0.8151 - val_loss: 0.4720 - val_accuracy: 0.8082\n",
      "Epoch 39/100\n",
      "32584/32584 [==============================] - 1s 26us/step - loss: 0.4576 - accuracy: 0.8151 - val_loss: 0.4714 - val_accuracy: 0.8085\n",
      "Epoch 40/100\n",
      "32584/32584 [==============================] - 1s 24us/step - loss: 0.4571 - accuracy: 0.8152 - val_loss: 0.4709 - val_accuracy: 0.8089\n",
      "Epoch 41/100\n",
      "32584/32584 [==============================] - 1s 24us/step - loss: 0.4566 - accuracy: 0.8154 - val_loss: 0.4703 - val_accuracy: 0.8091\n",
      "Epoch 42/100\n",
      "32584/32584 [==============================] - 1s 24us/step - loss: 0.4561 - accuracy: 0.8154 - val_loss: 0.4697 - val_accuracy: 0.8095\n",
      "Epoch 43/100\n",
      "32584/32584 [==============================] - 1s 24us/step - loss: 0.4556 - accuracy: 0.8157 - val_loss: 0.4691 - val_accuracy: 0.8097\n",
      "Epoch 44/100\n",
      "32584/32584 [==============================] - 1s 24us/step - loss: 0.4551 - accuracy: 0.8159 - val_loss: 0.4686 - val_accuracy: 0.8097\n",
      "Epoch 45/100\n",
      "32584/32584 [==============================] - 1s 24us/step - loss: 0.4545 - accuracy: 0.8160 - val_loss: 0.4685 - val_accuracy: 0.8097\n",
      "Epoch 46/100\n",
      "32584/32584 [==============================] - 1s 24us/step - loss: 0.4541 - accuracy: 0.8163 - val_loss: 0.4682 - val_accuracy: 0.8096\n",
      "Epoch 47/100\n",
      "32584/32584 [==============================] - 1s 24us/step - loss: 0.4536 - accuracy: 0.8163 - val_loss: 0.4668 - val_accuracy: 0.8102\n",
      "Epoch 48/100\n",
      "32584/32584 [==============================] - 1s 24us/step - loss: 0.4530 - accuracy: 0.8165 - val_loss: 0.4665 - val_accuracy: 0.8100\n",
      "Epoch 49/100\n",
      "32584/32584 [==============================] - 1s 24us/step - loss: 0.4526 - accuracy: 0.8168 - val_loss: 0.4660 - val_accuracy: 0.8101\n",
      "Epoch 50/100\n",
      "32584/32584 [==============================] - 1s 24us/step - loss: 0.4520 - accuracy: 0.8166 - val_loss: 0.4655 - val_accuracy: 0.8107\n",
      "Epoch 51/100\n",
      "32584/32584 [==============================] - 1s 24us/step - loss: 0.4515 - accuracy: 0.8166 - val_loss: 0.4648 - val_accuracy: 0.8108\n",
      "Epoch 52/100\n",
      "32584/32584 [==============================] - 1s 24us/step - loss: 0.4510 - accuracy: 0.8166 - val_loss: 0.4644 - val_accuracy: 0.8111\n",
      "Epoch 53/100\n",
      "32584/32584 [==============================] - 1s 25us/step - loss: 0.4505 - accuracy: 0.8168 - val_loss: 0.4642 - val_accuracy: 0.8110\n",
      "Epoch 54/100\n",
      "32584/32584 [==============================] - 1s 26us/step - loss: 0.4500 - accuracy: 0.8171 - val_loss: 0.4633 - val_accuracy: 0.8108\n",
      "Epoch 55/100\n",
      "32584/32584 [==============================] - 1s 25us/step - loss: 0.4493 - accuracy: 0.8170 - val_loss: 0.4624 - val_accuracy: 0.8110\n"
     ]
    },
    {
     "name": "stdout",
     "output_type": "stream",
     "text": [
      "Epoch 56/100\n",
      "32584/32584 [==============================] - 1s 26us/step - loss: 0.4489 - accuracy: 0.8172 - val_loss: 0.4621 - val_accuracy: 0.8110\n",
      "Epoch 57/100\n",
      "32584/32584 [==============================] - 1s 25us/step - loss: 0.4483 - accuracy: 0.8174 - val_loss: 0.4615 - val_accuracy: 0.8112\n",
      "Epoch 58/100\n",
      "32584/32584 [==============================] - 1s 26us/step - loss: 0.4478 - accuracy: 0.8174 - val_loss: 0.4603 - val_accuracy: 0.8117\n",
      "Epoch 59/100\n",
      "32584/32584 [==============================] - 1s 26us/step - loss: 0.4473 - accuracy: 0.8175 - val_loss: 0.4599 - val_accuracy: 0.8121\n",
      "Epoch 60/100\n",
      "32584/32584 [==============================] - 1s 28us/step - loss: 0.4467 - accuracy: 0.8178 - val_loss: 0.4599 - val_accuracy: 0.8117\n",
      "Epoch 61/100\n",
      "32584/32584 [==============================] - 1s 27us/step - loss: 0.4462 - accuracy: 0.8178 - val_loss: 0.4588 - val_accuracy: 0.8123\n",
      "Epoch 62/100\n",
      "32584/32584 [==============================] - 1s 29us/step - loss: 0.4454 - accuracy: 0.8177 - val_loss: 0.4587 - val_accuracy: 0.8130\n",
      "Epoch 63/100\n",
      "32584/32584 [==============================] - 1s 26us/step - loss: 0.4451 - accuracy: 0.8179 - val_loss: 0.4575 - val_accuracy: 0.8130\n",
      "Epoch 64/100\n",
      "32584/32584 [==============================] - 1s 29us/step - loss: 0.4447 - accuracy: 0.8182 - val_loss: 0.4574 - val_accuracy: 0.8133\n",
      "Epoch 65/100\n",
      "32584/32584 [==============================] - 1s 28us/step - loss: 0.4440 - accuracy: 0.8181 - val_loss: 0.4564 - val_accuracy: 0.8132\n",
      "Epoch 66/100\n",
      "32584/32584 [==============================] - 1s 29us/step - loss: 0.4436 - accuracy: 0.8182 - val_loss: 0.4561 - val_accuracy: 0.8137\n",
      "Epoch 67/100\n",
      "32584/32584 [==============================] - 1s 24us/step - loss: 0.4429 - accuracy: 0.8188 - val_loss: 0.4557 - val_accuracy: 0.8139\n",
      "Epoch 68/100\n",
      "32584/32584 [==============================] - 1s 25us/step - loss: 0.4424 - accuracy: 0.8186 - val_loss: 0.4551 - val_accuracy: 0.8139\n",
      "Epoch 69/100\n",
      "32584/32584 [==============================] - 1s 25us/step - loss: 0.4420 - accuracy: 0.8187 - val_loss: 0.4539 - val_accuracy: 0.8143\n",
      "Epoch 70/100\n",
      "32584/32584 [==============================] - 1s 24us/step - loss: 0.4414 - accuracy: 0.8190 - val_loss: 0.4545 - val_accuracy: 0.8140\n",
      "Epoch 71/100\n",
      "32584/32584 [==============================] - 1s 25us/step - loss: 0.4408 - accuracy: 0.8190 - val_loss: 0.4536 - val_accuracy: 0.8134\n",
      "Epoch 72/100\n",
      "32584/32584 [==============================] - 1s 25us/step - loss: 0.4403 - accuracy: 0.8192 - val_loss: 0.4528 - val_accuracy: 0.8143\n",
      "Epoch 73/100\n",
      "32584/32584 [==============================] - 1s 24us/step - loss: 0.4398 - accuracy: 0.8193 - val_loss: 0.4525 - val_accuracy: 0.8144\n",
      "Epoch 74/100\n",
      "32584/32584 [==============================] - 1s 25us/step - loss: 0.4393 - accuracy: 0.8194 - val_loss: 0.4509 - val_accuracy: 0.8146\n",
      "Epoch 75/100\n",
      "32584/32584 [==============================] - 1s 24us/step - loss: 0.4386 - accuracy: 0.8194 - val_loss: 0.4516 - val_accuracy: 0.8146\n",
      "Epoch 76/100\n",
      "32584/32584 [==============================] - 1s 24us/step - loss: 0.4382 - accuracy: 0.8198 - val_loss: 0.4503 - val_accuracy: 0.8149\n",
      "Epoch 77/100\n",
      "32584/32584 [==============================] - 1s 24us/step - loss: 0.4373 - accuracy: 0.8197 - val_loss: 0.4503 - val_accuracy: 0.8145\n",
      "Epoch 78/100\n",
      "32584/32584 [==============================] - 1s 24us/step - loss: 0.4371 - accuracy: 0.8200 - val_loss: 0.4490 - val_accuracy: 0.8154\n",
      "Epoch 79/100\n",
      "32584/32584 [==============================] - 1s 24us/step - loss: 0.4365 - accuracy: 0.8200 - val_loss: 0.4483 - val_accuracy: 0.8155\n",
      "Epoch 80/100\n",
      "32584/32584 [==============================] - 1s 25us/step - loss: 0.4358 - accuracy: 0.8204 - val_loss: 0.4480 - val_accuracy: 0.8155\n",
      "Epoch 81/100\n",
      "32584/32584 [==============================] - 1s 25us/step - loss: 0.4355 - accuracy: 0.8205 - val_loss: 0.4478 - val_accuracy: 0.8160\n",
      "Epoch 82/100\n",
      "32584/32584 [==============================] - 1s 25us/step - loss: 0.4349 - accuracy: 0.8205 - val_loss: 0.4478 - val_accuracy: 0.8161\n",
      "Epoch 83/100\n",
      "32584/32584 [==============================] - 1s 25us/step - loss: 0.4343 - accuracy: 0.8209 - val_loss: 0.4471 - val_accuracy: 0.8166\n",
      "Epoch 84/100\n",
      "32584/32584 [==============================] - 1s 24us/step - loss: 0.4339 - accuracy: 0.8211 - val_loss: 0.4466 - val_accuracy: 0.8166\n",
      "Epoch 85/100\n",
      "32584/32584 [==============================] - 1s 24us/step - loss: 0.4333 - accuracy: 0.8207 - val_loss: 0.4485 - val_accuracy: 0.8164\n",
      "Epoch 86/100\n",
      "32584/32584 [==============================] - 1s 24us/step - loss: 0.4330 - accuracy: 0.8211 - val_loss: 0.4487 - val_accuracy: 0.8151\n",
      "Epoch 87/100\n",
      "32584/32584 [==============================] - 1s 24us/step - loss: 0.4325 - accuracy: 0.8212 - val_loss: 0.4445 - val_accuracy: 0.8166\n",
      "Epoch 88/100\n",
      "32584/32584 [==============================] - 1s 28us/step - loss: 0.4318 - accuracy: 0.8214 - val_loss: 0.4444 - val_accuracy: 0.8167\n",
      "Epoch 89/100\n",
      "32584/32584 [==============================] - 1s 27us/step - loss: 0.4313 - accuracy: 0.8215 - val_loss: 0.4452 - val_accuracy: 0.8166\n",
      "Epoch 90/100\n",
      "32584/32584 [==============================] - 1s 26us/step - loss: 0.4310 - accuracy: 0.8216 - val_loss: 0.4420 - val_accuracy: 0.8172\n",
      "Epoch 91/100\n",
      "32584/32584 [==============================] - 1s 25us/step - loss: 0.4303 - accuracy: 0.8216 - val_loss: 0.4425 - val_accuracy: 0.8168\n",
      "Epoch 92/100\n",
      "32584/32584 [==============================] - 1s 25us/step - loss: 0.4299 - accuracy: 0.8218 - val_loss: 0.4425 - val_accuracy: 0.8172\n",
      "Epoch 93/100\n",
      "32584/32584 [==============================] - 1s 25us/step - loss: 0.4292 - accuracy: 0.8218 - val_loss: 0.4398 - val_accuracy: 0.8181\n",
      "Epoch 94/100\n",
      "32584/32584 [==============================] - 1s 25us/step - loss: 0.4286 - accuracy: 0.8219 - val_loss: 0.4404 - val_accuracy: 0.8170\n",
      "Epoch 95/100\n",
      "32584/32584 [==============================] - 1s 25us/step - loss: 0.4283 - accuracy: 0.8219 - val_loss: 0.4392 - val_accuracy: 0.8176\n",
      "Epoch 96/100\n",
      "32584/32584 [==============================] - 1s 25us/step - loss: 0.4276 - accuracy: 0.8222 - val_loss: 0.4392 - val_accuracy: 0.8165\n",
      "Epoch 97/100\n",
      "32584/32584 [==============================] - 1s 25us/step - loss: 0.4272 - accuracy: 0.8222 - val_loss: 0.4375 - val_accuracy: 0.8179\n",
      "Epoch 98/100\n",
      "32584/32584 [==============================] - 1s 25us/step - loss: 0.4266 - accuracy: 0.8221 - val_loss: 0.4404 - val_accuracy: 0.8168\n",
      "Epoch 99/100\n",
      "32584/32584 [==============================] - 1s 25us/step - loss: 0.4260 - accuracy: 0.8225 - val_loss: 0.4386 - val_accuracy: 0.8171\n",
      "Epoch 100/100\n",
      "32584/32584 [==============================] - 1s 25us/step - loss: 0.4257 - accuracy: 0.8226 - val_loss: 0.4364 - val_accuracy: 0.8177\n"
     ]
    }
   ],
   "source": [
    "model5_history = mlp_model5.fit(X_train_std, \n",
    "                                y_train, \n",
    "                                epochs=100, \n",
    "                                batch_size=64, \n",
    "                                validation_split=0.2)"
   ]
  },
  {
   "cell_type": "markdown",
   "metadata": {},
   "source": [
    "##### Plot"
   ]
  },
  {
   "cell_type": "code",
   "execution_count": 88,
   "metadata": {},
   "outputs": [
    {
     "data": {
      "image/png": "[encoded data removed]",
      "text/plain": [
       "<Figure size 432x288 with 1 Axes>"
      ]
     },
     "metadata": {
      "needs_background": "light"
     },
     "output_type": "display_data"
    },
    {
     "data": {
      "image/png": "[encoded data removed]",
      "text/plain": [
       "<Figure size 432x288 with 1 Axes>"
      ]
     },
     "metadata": {
      "needs_background": "light"
     },
     "output_type": "display_data"
    }
   ],
   "source": [
    "accuracy_plot(model5_history)\n",
    "loss_plot(model5_history)"
   ]
  },
  {
   "cell_type": "markdown",
   "metadata": {},
   "source": [
    "#### Predictions"
   ]
  },
  {
   "cell_type": "code",
   "execution_count": 89,
   "metadata": {},
   "outputs": [],
   "source": [
    "train_model5_pred = mlp_model5.predict_classes(X_train_std)\n",
    "test_model5_pred = mlp_model5.predict_classes(X_test_std)"
   ]
  },
  {
   "cell_type": "markdown",
   "metadata": {},
   "source": [
    "#### Getting evaluation metrics and evaluating model performance"
   ]
  },
  {
   "cell_type": "code",
   "execution_count": 90,
   "metadata": {},
   "outputs": [
    {
     "name": "stdout",
     "output_type": "stream",
     "text": [
      "Train metrics\n",
      "Confusion matrix\n",
      "[[32797   255]\n",
      " [ 7000   678]]\n",
      "----------------------------------------------\n",
      "Accuracy:  0.8218757672477289\n",
      "Precission:  0.8241073447747318\n",
      "Recall:  0.9922848844245431\n",
      "F1 Score:  0.9004104380293484\n",
      "\n",
      "==============================================\n",
      "\n",
      "Test metrics\n",
      "Confusion matrix\n",
      "[[14050   115]\n",
      " [ 2994   297]]\n",
      "----------------------------------------------\n",
      "Accuracy:  0.8218950504124656\n",
      "Precission:  0.8243370100915278\n",
      "Recall:  0.9918813978115072\n",
      "F1 Score:  0.900381300265949\n"
     ]
    }
   ],
   "source": [
    "compute_metrics(train_model5_pred, y_train, test_model5_pred, y_test)"
   ]
  },
  {
   "cell_type": "markdown",
   "metadata": {},
   "source": [
    "### MLP with 4 layers\n",
    "\n",
    "    1st hidden layer with 25 neurons\n",
    "    2nd hidden layer with 20 neurons\n",
    "    3nd hidden layer with 15 neurons"
   ]
  },
  {
   "cell_type": "code",
   "execution_count": 91,
   "metadata": {},
   "outputs": [],
   "source": [
    "np.random.seed(123)\n",
    "\n",
    "tf.set_random_seed(123)"
   ]
  },
  {
   "cell_type": "code",
   "execution_count": 92,
   "metadata": {},
   "outputs": [],
   "source": [
    "mlp_model6 = models.Sequential()\n",
    "\n",
    "mlp_model6.add(layers.Dense(25, \n",
    "                     input_shape=(X_train_std.shape[1], ), \n",
    "                     activation='tanh', \n",
    "                     kernel_initializer='normal'))\n",
    "\n",
    "mlp_model6.add(layers.Dense(20, \n",
    "                     activation='tanh', \n",
    "                     kernel_initializer='normal'))\n",
    "\n",
    "mlp_model6.add(layers.Dense(15, \n",
    "                     activation='tanh', \n",
    "                     kernel_initializer='normal'))\n",
    "\n",
    "mlp_model6.add(layers.Dense(1, \n",
    "                     activation='sigmoid', \n",
    "                     kernel_initializer='normal'))"
   ]
  },
  {
   "cell_type": "code",
   "execution_count": 93,
   "metadata": {},
   "outputs": [
    {
     "name": "stdout",
     "output_type": "stream",
     "text": [
      "Model: \"sequential_9\"\n",
      "_________________________________________________________________\n",
      "Layer (type)                 Output Shape              Param #   \n",
      "=================================================================\n",
      "dense_20 (Dense)             (None, 25)                550       \n",
      "_________________________________________________________________\n",
      "dense_21 (Dense)             (None, 20)                520       \n",
      "_________________________________________________________________\n",
      "dense_22 (Dense)             (None, 15)                315       \n",
      "_________________________________________________________________\n",
      "dense_23 (Dense)             (None, 1)                 16        \n",
      "=================================================================\n",
      "Total params: 1,401\n",
      "Trainable params: 1,401\n",
      "Non-trainable params: 0\n",
      "_________________________________________________________________\n"
     ]
    }
   ],
   "source": [
    "mlp_model6.summary()"
   ]
  },
  {
   "cell_type": "code",
   "execution_count": 94,
   "metadata": {},
   "outputs": [],
   "source": [
    "mlp_model6.compile(loss='binary_crossentropy', \n",
    "                   optimizer='sgd', \n",
    "                   metrics=['accuracy'])"
   ]
  },
  {
   "cell_type": "code",
   "execution_count": 95,
   "metadata": {},
   "outputs": [
    {
     "name": "stdout",
     "output_type": "stream",
     "text": [
      "Train on 32584 samples, validate on 8146 samples\n",
      "Epoch 1/100\n",
      "32584/32584 [==============================] - 1s 38us/step - loss: 0.5629 - accuracy: 0.8126 - val_loss: 0.5111 - val_accuracy: 0.8048\n",
      "Epoch 2/100\n",
      "32584/32584 [==============================] - 1s 28us/step - loss: 0.4906 - accuracy: 0.8132 - val_loss: 0.4951 - val_accuracy: 0.8048\n",
      "Epoch 3/100\n",
      "32584/32584 [==============================] - 1s 27us/step - loss: 0.4828 - accuracy: 0.8132 - val_loss: 0.4937 - val_accuracy: 0.8048\n",
      "Epoch 4/100\n",
      "32584/32584 [==============================] - 1s 26us/step - loss: 0.4818 - accuracy: 0.8132 - val_loss: 0.4938 - val_accuracy: 0.8048\n",
      "Epoch 5/100\n",
      "32584/32584 [==============================] - 1s 27us/step - loss: 0.4817 - accuracy: 0.8132 - val_loss: 0.4939 - val_accuracy: 0.8048\n",
      "Epoch 6/100\n",
      "32584/32584 [==============================] - 1s 28us/step - loss: 0.4816 - accuracy: 0.8132 - val_loss: 0.4939 - val_accuracy: 0.8048\n",
      "Epoch 7/100\n",
      "32584/32584 [==============================] - 1s 28us/step - loss: 0.4816 - accuracy: 0.8132 - val_loss: 0.4938 - val_accuracy: 0.8048\n",
      "Epoch 8/100\n",
      "32584/32584 [==============================] - 1s 28us/step - loss: 0.4816 - accuracy: 0.8132 - val_loss: 0.4938 - val_accuracy: 0.8048\n",
      "Epoch 9/100\n",
      "32584/32584 [==============================] - 1s 27us/step - loss: 0.4816 - accuracy: 0.8132 - val_loss: 0.4939 - val_accuracy: 0.8048\n",
      "Epoch 10/100\n",
      "32584/32584 [==============================] - 1s 28us/step - loss: 0.4816 - accuracy: 0.8132 - val_loss: 0.4938 - val_accuracy: 0.8048\n",
      "Epoch 11/100\n",
      "32584/32584 [==============================] - 1s 27us/step - loss: 0.4815 - accuracy: 0.8132 - val_loss: 0.4938 - val_accuracy: 0.8048\n",
      "Epoch 12/100\n",
      "32584/32584 [==============================] - 1s 28us/step - loss: 0.4815 - accuracy: 0.8132 - val_loss: 0.4938 - val_accuracy: 0.8048\n",
      "Epoch 13/100\n",
      "32584/32584 [==============================] - 1s 28us/step - loss: 0.4815 - accuracy: 0.8132 - val_loss: 0.4938 - val_accuracy: 0.8048\n",
      "Epoch 14/100\n",
      "32584/32584 [==============================] - 1s 28us/step - loss: 0.4815 - accuracy: 0.8132 - val_loss: 0.4938 - val_accuracy: 0.8048\n",
      "Epoch 15/100\n",
      "32584/32584 [==============================] - 1s 28us/step - loss: 0.4815 - accuracy: 0.8132 - val_loss: 0.4938 - val_accuracy: 0.8048\n",
      "Epoch 16/100\n",
      "32584/32584 [==============================] - 1s 27us/step - loss: 0.4814 - accuracy: 0.8132 - val_loss: 0.4937 - val_accuracy: 0.8048\n",
      "Epoch 17/100\n",
      "32584/32584 [==============================] - 1s 27us/step - loss: 0.4814 - accuracy: 0.8132 - val_loss: 0.4937 - val_accuracy: 0.8048\n",
      "Epoch 18/100\n",
      "32584/32584 [==============================] - 1s 28us/step - loss: 0.4814 - accuracy: 0.8132 - val_loss: 0.4937 - val_accuracy: 0.8048\n",
      "Epoch 19/100\n",
      "32584/32584 [==============================] - 1s 28us/step - loss: 0.4814 - accuracy: 0.8132 - val_loss: 0.4937 - val_accuracy: 0.8048\n",
      "Epoch 20/100\n",
      "32584/32584 [==============================] - 1s 27us/step - loss: 0.4813 - accuracy: 0.8132 - val_loss: 0.4936 - val_accuracy: 0.8048\n",
      "Epoch 21/100\n",
      "32584/32584 [==============================] - 1s 27us/step - loss: 0.4813 - accuracy: 0.8132 - val_loss: 0.4936 - val_accuracy: 0.8048\n",
      "Epoch 22/100\n",
      "32584/32584 [==============================] - 1s 27us/step - loss: 0.4813 - accuracy: 0.8132 - val_loss: 0.4936 - val_accuracy: 0.8048\n",
      "Epoch 23/100\n",
      "32584/32584 [==============================] - 1s 28us/step - loss: 0.4812 - accuracy: 0.8132 - val_loss: 0.4935 - val_accuracy: 0.8048\n",
      "Epoch 24/100\n",
      "32584/32584 [==============================] - 1s 28us/step - loss: 0.4812 - accuracy: 0.8132 - val_loss: 0.4935 - val_accuracy: 0.8048\n",
      "Epoch 25/100\n",
      "32584/32584 [==============================] - 1s 27us/step - loss: 0.4811 - accuracy: 0.8132 - val_loss: 0.4934 - val_accuracy: 0.8048\n",
      "Epoch 26/100\n",
      "32584/32584 [==============================] - 1s 27us/step - loss: 0.4810 - accuracy: 0.8132 - val_loss: 0.4933 - val_accuracy: 0.8048\n",
      "Epoch 27/100\n",
      "32584/32584 [==============================] - 1s 28us/step - loss: 0.4810 - accuracy: 0.8132 - val_loss: 0.4933 - val_accuracy: 0.8048\n",
      "Epoch 28/100\n",
      "32584/32584 [==============================] - 1s 27us/step - loss: 0.4809 - accuracy: 0.8132 - val_loss: 0.4932 - val_accuracy: 0.8048\n",
      "Epoch 29/100\n",
      "32584/32584 [==============================] - 1s 28us/step - loss: 0.4808 - accuracy: 0.8132 - val_loss: 0.4931 - val_accuracy: 0.8048\n",
      "Epoch 30/100\n",
      "32584/32584 [==============================] - 1s 28us/step - loss: 0.4806 - accuracy: 0.8132 - val_loss: 0.4930 - val_accuracy: 0.8048\n",
      "Epoch 31/100\n",
      "32584/32584 [==============================] - 1s 28us/step - loss: 0.4805 - accuracy: 0.8132 - val_loss: 0.4928 - val_accuracy: 0.8048\n",
      "Epoch 32/100\n",
      "32584/32584 [==============================] - 1s 28us/step - loss: 0.4803 - accuracy: 0.8132 - val_loss: 0.4926 - val_accuracy: 0.8048\n",
      "Epoch 33/100\n",
      "32584/32584 [==============================] - 1s 28us/step - loss: 0.4801 - accuracy: 0.8132 - val_loss: 0.4924 - val_accuracy: 0.8048\n",
      "Epoch 34/100\n",
      "32584/32584 [==============================] - 1s 28us/step - loss: 0.4799 - accuracy: 0.8132 - val_loss: 0.4922 - val_accuracy: 0.8048\n",
      "Epoch 35/100\n",
      "32584/32584 [==============================] - 1s 28us/step - loss: 0.4796 - accuracy: 0.8132 - val_loss: 0.4920 - val_accuracy: 0.8048\n",
      "Epoch 36/100\n",
      "32584/32584 [==============================] - 1s 28us/step - loss: 0.4792 - accuracy: 0.8132 - val_loss: 0.4916 - val_accuracy: 0.8048\n",
      "Epoch 37/100\n",
      "32584/32584 [==============================] - 1s 28us/step - loss: 0.4788 - accuracy: 0.8132 - val_loss: 0.4911 - val_accuracy: 0.8048\n",
      "Epoch 38/100\n",
      "32584/32584 [==============================] - 1s 28us/step - loss: 0.4782 - accuracy: 0.8132 - val_loss: 0.4906 - val_accuracy: 0.8048\n",
      "Epoch 39/100\n",
      "32584/32584 [==============================] - 1s 28us/step - loss: 0.4776 - accuracy: 0.8132 - val_loss: 0.4901 - val_accuracy: 0.8048\n",
      "Epoch 40/100\n",
      "32584/32584 [==============================] - 1s 27us/step - loss: 0.4768 - accuracy: 0.8132 - val_loss: 0.4893 - val_accuracy: 0.8048\n",
      "Epoch 41/100\n",
      "32584/32584 [==============================] - 1s 28us/step - loss: 0.4759 - accuracy: 0.8132 - val_loss: 0.4885 - val_accuracy: 0.8048\n",
      "Epoch 42/100\n",
      "32584/32584 [==============================] - 1s 27us/step - loss: 0.4749 - accuracy: 0.8132 - val_loss: 0.4876 - val_accuracy: 0.8048\n",
      "Epoch 43/100\n",
      "32584/32584 [==============================] - 1s 28us/step - loss: 0.4738 - accuracy: 0.8132 - val_loss: 0.4867 - val_accuracy: 0.8048\n",
      "Epoch 44/100\n",
      "32584/32584 [==============================] - 1s 27us/step - loss: 0.4728 - accuracy: 0.8132 - val_loss: 0.4857 - val_accuracy: 0.8048\n",
      "Epoch 45/100\n",
      "32584/32584 [==============================] - 1s 27us/step - loss: 0.4717 - accuracy: 0.8132 - val_loss: 0.4849 - val_accuracy: 0.8048\n",
      "Epoch 46/100\n",
      "32584/32584 [==============================] - 1s 28us/step - loss: 0.4707 - accuracy: 0.8132 - val_loss: 0.4842 - val_accuracy: 0.8048\n",
      "Epoch 47/100\n",
      "32584/32584 [==============================] - 1s 28us/step - loss: 0.4698 - accuracy: 0.8132 - val_loss: 0.4836 - val_accuracy: 0.8048\n",
      "Epoch 48/100\n",
      "32584/32584 [==============================] - 1s 27us/step - loss: 0.4690 - accuracy: 0.8132 - val_loss: 0.4831 - val_accuracy: 0.8048\n",
      "Epoch 49/100\n",
      "32584/32584 [==============================] - 1s 28us/step - loss: 0.4683 - accuracy: 0.8133 - val_loss: 0.4824 - val_accuracy: 0.8048\n",
      "Epoch 50/100\n",
      "32584/32584 [==============================] - 1s 27us/step - loss: 0.4676 - accuracy: 0.8135 - val_loss: 0.4820 - val_accuracy: 0.8048\n",
      "Epoch 51/100\n",
      "32584/32584 [==============================] - 1s 28us/step - loss: 0.4670 - accuracy: 0.8134 - val_loss: 0.4814 - val_accuracy: 0.8049\n",
      "Epoch 52/100\n",
      "32584/32584 [==============================] - 1s 28us/step - loss: 0.4664 - accuracy: 0.8137 - val_loss: 0.4811 - val_accuracy: 0.8051\n",
      "Epoch 53/100\n",
      "32584/32584 [==============================] - 1s 27us/step - loss: 0.4659 - accuracy: 0.8136 - val_loss: 0.4805 - val_accuracy: 0.8055\n",
      "Epoch 54/100\n",
      "32584/32584 [==============================] - 1s 28us/step - loss: 0.4653 - accuracy: 0.8139 - val_loss: 0.4798 - val_accuracy: 0.8059\n",
      "Epoch 55/100\n",
      "32584/32584 [==============================] - 1s 28us/step - loss: 0.4647 - accuracy: 0.8139 - val_loss: 0.4792 - val_accuracy: 0.8057\n"
     ]
    },
    {
     "name": "stdout",
     "output_type": "stream",
     "text": [
      "Epoch 56/100\n",
      "32584/32584 [==============================] - 1s 28us/step - loss: 0.4642 - accuracy: 0.8141 - val_loss: 0.4786 - val_accuracy: 0.8062\n",
      "Epoch 57/100\n",
      "32584/32584 [==============================] - 1s 29us/step - loss: 0.4635 - accuracy: 0.8142 - val_loss: 0.4779 - val_accuracy: 0.8062\n",
      "Epoch 58/100\n",
      "32584/32584 [==============================] - 1s 28us/step - loss: 0.4629 - accuracy: 0.8141 - val_loss: 0.4773 - val_accuracy: 0.8067\n",
      "Epoch 59/100\n",
      "32584/32584 [==============================] - 1s 27us/step - loss: 0.4622 - accuracy: 0.8142 - val_loss: 0.4766 - val_accuracy: 0.8068\n",
      "Epoch 60/100\n",
      "32584/32584 [==============================] - 1s 28us/step - loss: 0.4616 - accuracy: 0.8142 - val_loss: 0.4759 - val_accuracy: 0.8071\n",
      "Epoch 61/100\n",
      "32584/32584 [==============================] - 1s 27us/step - loss: 0.4608 - accuracy: 0.8143 - val_loss: 0.4752 - val_accuracy: 0.8076\n",
      "Epoch 62/100\n",
      "32584/32584 [==============================] - 1s 27us/step - loss: 0.4600 - accuracy: 0.8146 - val_loss: 0.4739 - val_accuracy: 0.8081\n",
      "Epoch 63/100\n",
      "32584/32584 [==============================] - 1s 27us/step - loss: 0.4592 - accuracy: 0.8147 - val_loss: 0.4731 - val_accuracy: 0.8078\n",
      "Epoch 64/100\n",
      "32584/32584 [==============================] - 1s 27us/step - loss: 0.4584 - accuracy: 0.8150 - val_loss: 0.4721 - val_accuracy: 0.8080\n",
      "Epoch 65/100\n",
      "32584/32584 [==============================] - 1s 27us/step - loss: 0.4575 - accuracy: 0.8149 - val_loss: 0.4711 - val_accuracy: 0.8081\n",
      "Epoch 66/100\n",
      "32584/32584 [==============================] - 1s 27us/step - loss: 0.4567 - accuracy: 0.8153 - val_loss: 0.4703 - val_accuracy: 0.8090\n",
      "Epoch 67/100\n",
      "32584/32584 [==============================] - 1s 27us/step - loss: 0.4558 - accuracy: 0.8155 - val_loss: 0.4693 - val_accuracy: 0.8091\n",
      "Epoch 68/100\n",
      "32584/32584 [==============================] - 1s 28us/step - loss: 0.4548 - accuracy: 0.8159 - val_loss: 0.4680 - val_accuracy: 0.8097\n",
      "Epoch 69/100\n",
      "32584/32584 [==============================] - 1s 27us/step - loss: 0.4539 - accuracy: 0.8163 - val_loss: 0.4668 - val_accuracy: 0.8106\n",
      "Epoch 70/100\n",
      "32584/32584 [==============================] - 1s 27us/step - loss: 0.4529 - accuracy: 0.8166 - val_loss: 0.4658 - val_accuracy: 0.8105\n",
      "Epoch 71/100\n",
      "32584/32584 [==============================] - 1s 27us/step - loss: 0.4520 - accuracy: 0.8166 - val_loss: 0.4657 - val_accuracy: 0.8106\n",
      "Epoch 72/100\n",
      "32584/32584 [==============================] - 1s 27us/step - loss: 0.4511 - accuracy: 0.8171 - val_loss: 0.4637 - val_accuracy: 0.8107\n",
      "Epoch 73/100\n",
      "32584/32584 [==============================] - 1s 27us/step - loss: 0.4500 - accuracy: 0.8172 - val_loss: 0.4635 - val_accuracy: 0.8108\n",
      "Epoch 74/100\n",
      "32584/32584 [==============================] - 1s 26us/step - loss: 0.4492 - accuracy: 0.8173 - val_loss: 0.4613 - val_accuracy: 0.8113\n",
      "Epoch 75/100\n",
      "32584/32584 [==============================] - 1s 26us/step - loss: 0.4483 - accuracy: 0.8175 - val_loss: 0.4610 - val_accuracy: 0.8114\n",
      "Epoch 76/100\n",
      "32584/32584 [==============================] - 1s 32us/step - loss: 0.4473 - accuracy: 0.8174 - val_loss: 0.4595 - val_accuracy: 0.8123\n",
      "Epoch 77/100\n",
      "32584/32584 [==============================] - 1s 26us/step - loss: 0.4461 - accuracy: 0.8176 - val_loss: 0.4589 - val_accuracy: 0.8125\n",
      "Epoch 78/100\n",
      "32584/32584 [==============================] - 1s 27us/step - loss: 0.4453 - accuracy: 0.8177 - val_loss: 0.4586 - val_accuracy: 0.8129\n",
      "Epoch 79/100\n",
      "32584/32584 [==============================] - 1s 27us/step - loss: 0.4444 - accuracy: 0.8181 - val_loss: 0.4584 - val_accuracy: 0.8121\n",
      "Epoch 80/100\n",
      "32584/32584 [==============================] - 1s 26us/step - loss: 0.4435 - accuracy: 0.8183 - val_loss: 0.4564 - val_accuracy: 0.8137\n",
      "Epoch 81/100\n",
      "32584/32584 [==============================] - 1s 26us/step - loss: 0.4427 - accuracy: 0.8185 - val_loss: 0.4556 - val_accuracy: 0.8139\n",
      "Epoch 82/100\n",
      "32584/32584 [==============================] - 1s 26us/step - loss: 0.4416 - accuracy: 0.8186 - val_loss: 0.4549 - val_accuracy: 0.8137\n",
      "Epoch 83/100\n",
      "32584/32584 [==============================] - 1s 28us/step - loss: 0.4406 - accuracy: 0.8188 - val_loss: 0.4523 - val_accuracy: 0.8148\n",
      "Epoch 84/100\n",
      "32584/32584 [==============================] - 1s 29us/step - loss: 0.4397 - accuracy: 0.8191 - val_loss: 0.4509 - val_accuracy: 0.8154\n",
      "Epoch 85/100\n",
      "32584/32584 [==============================] - 1s 28us/step - loss: 0.4385 - accuracy: 0.8193 - val_loss: 0.4508 - val_accuracy: 0.8155\n",
      "Epoch 86/100\n",
      "32584/32584 [==============================] - 1s 31us/step - loss: 0.4377 - accuracy: 0.8195 - val_loss: 0.4498 - val_accuracy: 0.8157\n",
      "Epoch 87/100\n",
      "32584/32584 [==============================] - 1s 31us/step - loss: 0.4367 - accuracy: 0.8196 - val_loss: 0.4486 - val_accuracy: 0.8160\n",
      "Epoch 88/100\n",
      "32584/32584 [==============================] - 1s 35us/step - loss: 0.4356 - accuracy: 0.8199 - val_loss: 0.4478 - val_accuracy: 0.8160\n",
      "Epoch 89/100\n",
      "32584/32584 [==============================] - 1s 34us/step - loss: 0.4348 - accuracy: 0.8202 - val_loss: 0.4516 - val_accuracy: 0.8170\n",
      "Epoch 90/100\n",
      "32584/32584 [==============================] - 1s 30us/step - loss: 0.4335 - accuracy: 0.8206 - val_loss: 0.4444 - val_accuracy: 0.8168\n",
      "Epoch 91/100\n",
      "32584/32584 [==============================] - 1s 24us/step - loss: 0.4326 - accuracy: 0.8207 - val_loss: 0.4451 - val_accuracy: 0.8164\n",
      "Epoch 92/100\n",
      "32584/32584 [==============================] - 1s 24us/step - loss: 0.4314 - accuracy: 0.8211 - val_loss: 0.4426 - val_accuracy: 0.8170\n",
      "Epoch 93/100\n",
      "32584/32584 [==============================] - 1s 24us/step - loss: 0.4310 - accuracy: 0.8213 - val_loss: 0.4474 - val_accuracy: 0.8181\n",
      "Epoch 94/100\n",
      "32584/32584 [==============================] - 1s 24us/step - loss: 0.4299 - accuracy: 0.8217 - val_loss: 0.4420 - val_accuracy: 0.8166\n",
      "Epoch 95/100\n",
      "32584/32584 [==============================] - 1s 24us/step - loss: 0.4289 - accuracy: 0.8219 - val_loss: 0.4414 - val_accuracy: 0.8176\n",
      "Epoch 96/100\n",
      "32584/32584 [==============================] - 1s 24us/step - loss: 0.4282 - accuracy: 0.8220 - val_loss: 0.4380 - val_accuracy: 0.8173\n",
      "Epoch 97/100\n",
      "32584/32584 [==============================] - 1s 24us/step - loss: 0.4268 - accuracy: 0.8221 - val_loss: 0.4393 - val_accuracy: 0.8182\n",
      "Epoch 98/100\n",
      "32584/32584 [==============================] - 1s 24us/step - loss: 0.4258 - accuracy: 0.8225 - val_loss: 0.4375 - val_accuracy: 0.8177\n",
      "Epoch 99/100\n",
      "32584/32584 [==============================] - 1s 24us/step - loss: 0.4249 - accuracy: 0.8224 - val_loss: 0.4540 - val_accuracy: 0.8111\n",
      "Epoch 100/100\n",
      "32584/32584 [==============================] - 1s 24us/step - loss: 0.4239 - accuracy: 0.8226 - val_loss: 0.4370 - val_accuracy: 0.8182\n"
     ]
    }
   ],
   "source": [
    "model6_history = mlp_model6.fit(X_train_std, \n",
    "                                y_train, \n",
    "                                epochs=100, \n",
    "                                batch_size=64, \n",
    "                                validation_split=0.2)"
   ]
  },
  {
   "cell_type": "markdown",
   "metadata": {},
   "source": [
    "#### Predictions"
   ]
  },
  {
   "cell_type": "code",
   "execution_count": 96,
   "metadata": {},
   "outputs": [],
   "source": [
    "train_model6_pred = mlp_model6.predict_classes(X_train_std)\n",
    "test_model6_pred = mlp_model6.predict_classes(X_test_std)"
   ]
  },
  {
   "cell_type": "markdown",
   "metadata": {},
   "source": [
    "#### Getting evaluation metrics and evaluating model performance"
   ]
  },
  {
   "cell_type": "code",
   "execution_count": 97,
   "metadata": {},
   "outputs": [
    {
     "name": "stdout",
     "output_type": "stream",
     "text": [
      "Train metrics\n",
      "Confusion matrix\n",
      "[[32728   324]\n",
      " [ 6943   735]]\n",
      "----------------------------------------------\n",
      "Accuracy:  0.8215811441198134\n",
      "Precission:  0.8249855057850823\n",
      "Recall:  0.9901972649158901\n",
      "F1 Score:  0.9000728792816578\n",
      "\n",
      "==============================================\n",
      "\n",
      "Test metrics\n",
      "Confusion matrix\n",
      "[[14022   143]\n",
      " [ 2971   320]]\n",
      "----------------------------------------------\n",
      "Accuracy:  0.821608615948671\n",
      "Precission:  0.8251633025363385\n",
      "Recall:  0.9899046946699612\n",
      "F1 Score:  0.9000577700751011\n"
     ]
    }
   ],
   "source": [
    "compute_metrics(train_model6_pred, y_train, test_model6_pred, y_test)"
   ]
  },
  {
   "cell_type": "markdown",
   "metadata": {},
   "source": [
    "## Find best parameter"
   ]
  },
  {
   "cell_type": "markdown",
   "metadata": {},
   "source": [
    "#### Function for creation of model"
   ]
  },
  {
   "cell_type": "code",
   "execution_count": 98,
   "metadata": {},
   "outputs": [],
   "source": [
    "def model_def(h_activation, o_activation, kernel_init):\n",
    "    \n",
    "    model= models.Sequential()\n",
    "    \n",
    "    model.add(layers.Dense(25, \n",
    "                           input_shape=(X_train_std.shape[1], ),  \n",
    "                           activation=h_activation, \n",
    "                           kernel_initializer=kernel_init))\n",
    "    \n",
    "    model.add(layers.Dense(15, \n",
    "                           activation=h_activation, \n",
    "                           kernel_initializer=kernel_init))\n",
    "    \n",
    "    model.add(layers.Dense(1, \n",
    "                           activation=o_activation, \n",
    "                           kernel_initializer=kernel_init))\n",
    "    \n",
    "    return model "
   ]
  },
  {
   "cell_type": "markdown",
   "metadata": {},
   "source": [
    "#### Store the best parameters"
   ]
  },
  {
   "cell_type": "code",
   "execution_count": 99,
   "metadata": {},
   "outputs": [],
   "source": [
    "best_params={}"
   ]
  },
  {
   "cell_type": "markdown",
   "metadata": {},
   "source": [
    "### Find the best Learning rate"
   ]
  },
  {
   "cell_type": "markdown",
   "metadata": {},
   "source": [
    "    Using logarithmic scale randomly generate values between 0.0001 to 1 "
   ]
  },
  {
   "cell_type": "code",
   "execution_count": 100,
   "metadata": {},
   "outputs": [
    {
     "data": {
      "text/plain": [
       "[0.2703, 0.0144, 0.0214, 0.0003, 0.0002, 0.0008, 0.1425, 0.0049, 0.022, 0.1388]"
      ]
     },
     "execution_count": 100,
     "metadata": {},
     "output_type": "execute_result"
    }
   ],
   "source": [
    "NUM_LR = 10 \n",
    "\n",
    "lrs = [round(i, 4) for i in list(10 ** (-4 * np.random.rand(NUM_LR)))]\n",
    "\n",
    "lrs"
   ]
  },
  {
   "cell_type": "code",
   "execution_count": 101,
   "metadata": {},
   "outputs": [
    {
     "name": "stdout",
     "output_type": "stream",
     "text": [
      "Train on 32584 samples, validate on 8146 samples\n",
      "Epoch 1/1\n",
      "50/50 [==============================] - 1s 24ms/step - loss: 0.5173 - accuracy: 0.8026 - val_loss: 0.0099 - val_accuracy: 40.2406\n",
      "Train on 32584 samples, validate on 8146 samples\n",
      "Epoch 1/1\n",
      "50/50 [==============================] - 1s 23ms/step - loss: 0.6613 - accuracy: 0.7991 - val_loss: 0.0127 - val_accuracy: 40.2406\n",
      "Train on 32584 samples, validate on 8146 samples\n",
      "Epoch 1/1\n",
      "50/50 [==============================] - 1s 24ms/step - loss: 0.6483 - accuracy: 0.8003 - val_loss: 0.0122 - val_accuracy: 40.2406\n",
      "Train on 32584 samples, validate on 8146 samples\n",
      "Epoch 1/1\n",
      "50/50 [==============================] - 1s 26ms/step - loss: 0.6925 - accuracy: 0.5854 - val_loss: 0.0138 - val_accuracy: 34.7103\n",
      "Train on 32584 samples, validate on 8146 samples\n",
      "Epoch 1/1\n",
      "50/50 [==============================] - 1s 23ms/step - loss: 0.6927 - accuracy: 0.5324 - val_loss: 0.0138 - val_accuracy: 34.4341\n",
      "Train on 32584 samples, validate on 8146 samples\n",
      "Epoch 1/1\n",
      "50/50 [==============================] - 1s 25ms/step - loss: 0.6913 - accuracy: 0.6872 - val_loss: 0.0138 - val_accuracy: 40.2713\n",
      "Train on 32584 samples, validate on 8146 samples\n",
      "Epoch 1/1\n",
      "50/50 [==============================] - 1s 26ms/step - loss: 0.5455 - accuracy: 0.8026 - val_loss: 0.0100 - val_accuracy: 40.2406\n",
      "Train on 32584 samples, validate on 8146 samples\n",
      "Epoch 1/1\n",
      "50/50 [==============================] - 1s 29ms/step - loss: 0.6815 - accuracy: 0.7880 - val_loss: 0.0134 - val_accuracy: 40.2345\n",
      "Train on 32584 samples, validate on 8146 samples\n",
      "Epoch 1/1\n",
      "50/50 [==============================] - 1s 28ms/step - loss: 0.6472 - accuracy: 0.8003 - val_loss: 0.0122 - val_accuracy: 40.2406\n",
      "Train on 32584 samples, validate on 8146 samples\n",
      "Epoch 1/1\n",
      "50/50 [==============================] - 1s 28ms/step - loss: 0.5469 - accuracy: 0.8026 - val_loss: 0.0100 - val_accuracy: 40.2406\n"
     ]
    }
   ],
   "source": [
    "hist_loss = []\n",
    "\n",
    "for lr in lrs:\n",
    "    \n",
    "    np.random.seed(123)\n",
    "    tf.set_random_seed(123)\n",
    "    \n",
    "    lr_model = model_def(h_activation='tanh', \n",
    "                         o_activation='sigmoid', \n",
    "                         kernel_init='normal')\n",
    "    \n",
    "    # Compile model\n",
    "    sgd = optimizers.SGD(lr=lr)\n",
    "    \n",
    "    lr_model.compile(loss='binary_crossentropy', \n",
    "                     optimizer=sgd, \n",
    "                     metrics=['accuracy'])\n",
    "    \n",
    "    # Fit the model\n",
    "    lr_model_history = lr_model.fit(X_train_std, \n",
    "                                    y_train, \n",
    "                                    validation_split=0.2, \n",
    "                                    epochs=1, \n",
    "                                    steps_per_epoch=50, \n",
    "                                    validation_steps=50)\n",
    "    \n",
    "    hist_loss.append(lr_model_history.history['loss'])"
   ]
  },
  {
   "cell_type": "code",
   "execution_count": 102,
   "metadata": {},
   "outputs": [
    {
     "data": {
      "text/html": [
       "<div>\n",
       "<style scoped>\n",
       "    .dataframe tbody tr th:only-of-type {\n",
       "        vertical-align: middle;\n",
       "    }\n",
       "\n",
       "    .dataframe tbody tr th {\n",
       "        vertical-align: top;\n",
       "    }\n",
       "\n",
       "    .dataframe thead th {\n",
       "        text-align: right;\n",
       "    }\n",
       "</style>\n",
       "<table border=\"1\" class=\"dataframe\">\n",
       "  <thead>\n",
       "    <tr style=\"text-align: right;\">\n",
       "      <th></th>\n",
       "      <th>lr</th>\n",
       "      <th>loss</th>\n",
       "    </tr>\n",
       "  </thead>\n",
       "  <tbody>\n",
       "    <tr>\n",
       "      <th>0</th>\n",
       "      <td>0.2703</td>\n",
       "      <td>[0.5172672504186631]</td>\n",
       "    </tr>\n",
       "    <tr>\n",
       "      <th>1</th>\n",
       "      <td>0.1425</td>\n",
       "      <td>[0.5455174481868744]</td>\n",
       "    </tr>\n",
       "    <tr>\n",
       "      <th>2</th>\n",
       "      <td>0.1388</td>\n",
       "      <td>[0.5469303399324417]</td>\n",
       "    </tr>\n",
       "    <tr>\n",
       "      <th>3</th>\n",
       "      <td>0.022</td>\n",
       "      <td>[0.6472453677654266]</td>\n",
       "    </tr>\n",
       "    <tr>\n",
       "      <th>4</th>\n",
       "      <td>0.0214</td>\n",
       "      <td>[0.6482957184314728]</td>\n",
       "    </tr>\n",
       "    <tr>\n",
       "      <th>5</th>\n",
       "      <td>0.0144</td>\n",
       "      <td>[0.6613145887851715]</td>\n",
       "    </tr>\n",
       "    <tr>\n",
       "      <th>6</th>\n",
       "      <td>0.0049</td>\n",
       "      <td>[0.6815103983879089]</td>\n",
       "    </tr>\n",
       "    <tr>\n",
       "      <th>7</th>\n",
       "      <td>0.0008</td>\n",
       "      <td>[0.6912540888786316]</td>\n",
       "    </tr>\n",
       "    <tr>\n",
       "      <th>8</th>\n",
       "      <td>0.0003</td>\n",
       "      <td>[0.6924888026714325]</td>\n",
       "    </tr>\n",
       "    <tr>\n",
       "      <th>9</th>\n",
       "      <td>0.0002</td>\n",
       "      <td>[0.6927370011806488]</td>\n",
       "    </tr>\n",
       "  </tbody>\n",
       "</table>\n",
       "</div>"
      ],
      "text/plain": [
       "       lr                  loss\n",
       "0  0.2703  [0.5172672504186631]\n",
       "1  0.1425  [0.5455174481868744]\n",
       "2  0.1388  [0.5469303399324417]\n",
       "3   0.022  [0.6472453677654266]\n",
       "4  0.0214  [0.6482957184314728]\n",
       "5  0.0144  [0.6613145887851715]\n",
       "6  0.0049  [0.6815103983879089]\n",
       "7  0.0008  [0.6912540888786316]\n",
       "8  0.0003  [0.6924888026714325]\n",
       "9  0.0002  [0.6927370011806488]"
      ]
     },
     "execution_count": 102,
     "metadata": {},
     "output_type": "execute_result"
    }
   ],
   "source": [
    "# Get the lr and loss Dataframe\n",
    "loss_lr = pd.DataFrame([lrs,hist_loss]).T  \n",
    "\n",
    "#Give the coloumn names\n",
    "loss_lr.columns=['lr', 'loss']\n",
    "\n",
    "#Sort the values and reset the index\n",
    "loss_lr=loss_lr.sort_values('loss').reset_index().drop('index',axis=1)\n",
    "loss_lr"
   ]
  },
  {
   "cell_type": "code",
   "execution_count": 103,
   "metadata": {},
   "outputs": [],
   "source": [
    "#pick the top lr\n",
    "best_params['best_learning_rate'] = loss_lr.loc[:,'lr'][0]"
   ]
  },
  {
   "cell_type": "markdown",
   "metadata": {},
   "source": [
    "#### Build model with the best learning rate"
   ]
  },
  {
   "cell_type": "code",
   "execution_count": 104,
   "metadata": {},
   "outputs": [],
   "source": [
    "np.random.seed(123)\n",
    "tf.set_random_seed(123)"
   ]
  },
  {
   "cell_type": "code",
   "execution_count": 105,
   "metadata": {},
   "outputs": [],
   "source": [
    "bst_lr_model = model_def(h_activation='tanh', \n",
    "                         o_activation='sigmoid', \n",
    "                         kernel_init='normal')"
   ]
  },
  {
   "cell_type": "code",
   "execution_count": 106,
   "metadata": {},
   "outputs": [
    {
     "name": "stdout",
     "output_type": "stream",
     "text": [
      "Model: \"sequential_20\"\n",
      "_________________________________________________________________\n",
      "Layer (type)                 Output Shape              Param #   \n",
      "=================================================================\n",
      "dense_54 (Dense)             (None, 25)                550       \n",
      "_________________________________________________________________\n",
      "dense_55 (Dense)             (None, 15)                390       \n",
      "_________________________________________________________________\n",
      "dense_56 (Dense)             (None, 1)                 16        \n",
      "=================================================================\n",
      "Total params: 956\n",
      "Trainable params: 956\n",
      "Non-trainable params: 0\n",
      "_________________________________________________________________\n"
     ]
    }
   ],
   "source": [
    "bst_lr_model.summary()"
   ]
  },
  {
   "cell_type": "code",
   "execution_count": 107,
   "metadata": {},
   "outputs": [],
   "source": [
    "sgd = optimizers.SGD(lr=best_params['best_learning_rate'])\n",
    "\n",
    "bst_lr_model.compile(loss='binary_crossentropy', \n",
    "                     optimizer=sgd, \n",
    "                     metrics=['accuracy'])"
   ]
  },
  {
   "cell_type": "code",
   "execution_count": 108,
   "metadata": {},
   "outputs": [
    {
     "name": "stdout",
     "output_type": "stream",
     "text": [
      "Train on 32584 samples, validate on 8146 samples\n",
      "Epoch 1/100\n",
      "32584/32584 [==============================] - 2s 59us/step - loss: 0.4770 - accuracy: 0.8122 - val_loss: 0.4798 - val_accuracy: 0.8064\n",
      "Epoch 2/100\n",
      "32584/32584 [==============================] - 1s 42us/step - loss: 0.4613 - accuracy: 0.8149 - val_loss: 0.4760 - val_accuracy: 0.8100\n",
      "Epoch 3/100\n",
      "32584/32584 [==============================] - 1s 41us/step - loss: 0.4545 - accuracy: 0.8164 - val_loss: 0.4705 - val_accuracy: 0.8110\n",
      "Epoch 4/100\n",
      "32584/32584 [==============================] - 1s 40us/step - loss: 0.4487 - accuracy: 0.8175 - val_loss: 0.4690 - val_accuracy: 0.8046\n",
      "Epoch 5/100\n",
      "32584/32584 [==============================] - 1s 41us/step - loss: 0.4430 - accuracy: 0.8183 - val_loss: 0.5288 - val_accuracy: 0.7755\n",
      "Epoch 6/100\n",
      "32584/32584 [==============================] - 1s 42us/step - loss: 0.4378 - accuracy: 0.8193 - val_loss: 0.4463 - val_accuracy: 0.8178\n",
      "Epoch 7/100\n",
      "32584/32584 [==============================] - 1s 41us/step - loss: 0.4337 - accuracy: 0.8212 - val_loss: 0.4927 - val_accuracy: 0.7879\n",
      "Epoch 8/100\n",
      "32584/32584 [==============================] - 1s 38us/step - loss: 0.4306 - accuracy: 0.8213 - val_loss: 0.4830 - val_accuracy: 0.7699\n",
      "Epoch 9/100\n",
      "32584/32584 [==============================] - 1s 42us/step - loss: 0.4280 - accuracy: 0.8223 - val_loss: 0.4635 - val_accuracy: 0.8186\n",
      "Epoch 10/100\n",
      "32584/32584 [==============================] - 1s 42us/step - loss: 0.4259 - accuracy: 0.8226 - val_loss: 0.4568 - val_accuracy: 0.8186\n",
      "Epoch 11/100\n",
      "32584/32584 [==============================] - 1s 44us/step - loss: 0.4231 - accuracy: 0.8229 - val_loss: 0.7098 - val_accuracy: 0.4713\n",
      "Epoch 12/100\n",
      "32584/32584 [==============================] - 1s 39us/step - loss: 0.4209 - accuracy: 0.8233 - val_loss: 0.4899 - val_accuracy: 0.8236\n",
      "Epoch 13/100\n",
      "32584/32584 [==============================] - 1s 42us/step - loss: 0.4207 - accuracy: 0.8254 - val_loss: 0.4618 - val_accuracy: 0.8192\n",
      "Epoch 14/100\n",
      "32584/32584 [==============================] - 1s 41us/step - loss: 0.4167 - accuracy: 0.8246 - val_loss: 0.5244 - val_accuracy: 0.8192\n",
      "Epoch 15/100\n",
      "32584/32584 [==============================] - 1s 41us/step - loss: 0.4158 - accuracy: 0.8254 - val_loss: 0.4243 - val_accuracy: 0.8215\n",
      "Epoch 16/100\n",
      "32584/32584 [==============================] - 1s 43us/step - loss: 0.4152 - accuracy: 0.8254 - val_loss: 0.4160 - val_accuracy: 0.8224\n",
      "Epoch 17/100\n",
      "32584/32584 [==============================] - 1s 39us/step - loss: 0.4140 - accuracy: 0.8268 - val_loss: 0.4488 - val_accuracy: 0.7795\n",
      "Epoch 18/100\n",
      "32584/32584 [==============================] - 1s 42us/step - loss: 0.4118 - accuracy: 0.8255 - val_loss: 0.4666 - val_accuracy: 0.8198\n",
      "Epoch 19/100\n",
      "32584/32584 [==============================] - 1s 39us/step - loss: 0.4110 - accuracy: 0.8263 - val_loss: 0.4127 - val_accuracy: 0.8232\n",
      "Epoch 20/100\n",
      "32584/32584 [==============================] - 1s 36us/step - loss: 0.4112 - accuracy: 0.8279 - val_loss: 0.5107 - val_accuracy: 0.8200\n",
      "Epoch 21/100\n",
      "32584/32584 [==============================] - 1s 37us/step - loss: 0.4080 - accuracy: 0.8284 - val_loss: 0.4295 - val_accuracy: 0.8241\n",
      "Epoch 22/100\n",
      "32584/32584 [==============================] - 1s 37us/step - loss: 0.4065 - accuracy: 0.8278 - val_loss: 0.6010 - val_accuracy: 0.8198\n",
      "Epoch 23/100\n",
      "32584/32584 [==============================] - 1s 37us/step - loss: 0.4075 - accuracy: 0.8276 - val_loss: 0.4123 - val_accuracy: 0.8256\n",
      "Epoch 24/100\n",
      "32584/32584 [==============================] - 1s 36us/step - loss: 0.4057 - accuracy: 0.8287 - val_loss: 0.4216 - val_accuracy: 0.8262\n",
      "Epoch 25/100\n",
      "32584/32584 [==============================] - 2s 52us/step - loss: 0.4060 - accuracy: 0.8293 - val_loss: 0.4381 - val_accuracy: 0.7965\n",
      "Epoch 26/100\n",
      "32584/32584 [==============================] - 1s 39us/step - loss: 0.4049 - accuracy: 0.8291 - val_loss: 0.4489 - val_accuracy: 0.8318\n",
      "Epoch 27/100\n",
      "32584/32584 [==============================] - 1s 45us/step - loss: 0.4031 - accuracy: 0.8280 - val_loss: 0.5086 - val_accuracy: 0.8195\n",
      "Epoch 28/100\n",
      "32584/32584 [==============================] - 1s 44us/step - loss: 0.4025 - accuracy: 0.8303 - val_loss: 0.4110 - val_accuracy: 0.8275\n",
      "Epoch 29/100\n",
      "32584/32584 [==============================] - 1s 38us/step - loss: 0.4013 - accuracy: 0.8300 - val_loss: 0.4220 - val_accuracy: 0.8291\n",
      "Epoch 30/100\n",
      "32584/32584 [==============================] - 1s 43us/step - loss: 0.4003 - accuracy: 0.8285 - val_loss: 0.4259 - val_accuracy: 0.8253\n",
      "Epoch 31/100\n",
      "32584/32584 [==============================] - 1s 39us/step - loss: 0.4007 - accuracy: 0.8299 - val_loss: 0.4095 - val_accuracy: 0.8238\n",
      "Epoch 32/100\n",
      "32584/32584 [==============================] - 1s 38us/step - loss: 0.3999 - accuracy: 0.8299 - val_loss: 0.4126 - val_accuracy: 0.8305\n",
      "Epoch 33/100\n",
      "32584/32584 [==============================] - 1s 45us/step - loss: 0.3997 - accuracy: 0.8297 - val_loss: 0.4831 - val_accuracy: 0.7801\n",
      "Epoch 34/100\n",
      "32584/32584 [==============================] - 1s 40us/step - loss: 0.3972 - accuracy: 0.8318 - val_loss: 0.4175 - val_accuracy: 0.8306\n",
      "Epoch 35/100\n",
      "32584/32584 [==============================] - 1s 45us/step - loss: 0.3971 - accuracy: 0.8301 - val_loss: 0.4772 - val_accuracy: 0.8233\n",
      "Epoch 36/100\n",
      "32584/32584 [==============================] - 1s 45us/step - loss: 0.3966 - accuracy: 0.8310 - val_loss: 0.4079 - val_accuracy: 0.8305\n",
      "Epoch 37/100\n",
      "32584/32584 [==============================] - 1s 43us/step - loss: 0.3953 - accuracy: 0.8306 - val_loss: 0.4361 - val_accuracy: 0.8078\n",
      "Epoch 38/100\n",
      "32584/32584 [==============================] - 1s 44us/step - loss: 0.3948 - accuracy: 0.8321 - val_loss: 0.4114 - val_accuracy: 0.8308\n",
      "Epoch 39/100\n",
      "32584/32584 [==============================] - 1s 38us/step - loss: 0.3941 - accuracy: 0.8318 - val_loss: 0.5098 - val_accuracy: 0.8202\n",
      "Epoch 40/100\n",
      "32584/32584 [==============================] - 1s 38us/step - loss: 0.3922 - accuracy: 0.8319 - val_loss: 0.5808 - val_accuracy: 0.5956\n",
      "Epoch 41/100\n",
      "32584/32584 [==============================] - 1s 38us/step - loss: 0.3934 - accuracy: 0.8327 - val_loss: 0.4105 - val_accuracy: 0.8262\n",
      "Epoch 42/100\n",
      "32584/32584 [==============================] - 2s 53us/step - loss: 0.3934 - accuracy: 0.8302 - val_loss: 0.6046 - val_accuracy: 0.5405\n",
      "Epoch 43/100\n",
      "32584/32584 [==============================] - 1s 45us/step - loss: 0.3913 - accuracy: 0.8324 - val_loss: 0.8358 - val_accuracy: 0.4656\n",
      "Epoch 44/100\n",
      "32584/32584 [==============================] - 1s 45us/step - loss: 0.3925 - accuracy: 0.8308 - val_loss: 0.6110 - val_accuracy: 0.5313\n",
      "Epoch 45/100\n",
      "32584/32584 [==============================] - 1s 43us/step - loss: 0.3913 - accuracy: 0.8324 - val_loss: 0.4736 - val_accuracy: 0.8236\n",
      "Epoch 46/100\n",
      "32584/32584 [==============================] - 1s 38us/step - loss: 0.3912 - accuracy: 0.8326 - val_loss: 0.5682 - val_accuracy: 0.8231\n",
      "Epoch 47/100\n",
      "32584/32584 [==============================] - 1s 38us/step - loss: 0.3883 - accuracy: 0.8335 - val_loss: 0.4993 - val_accuracy: 0.8237\n",
      "Epoch 48/100\n",
      "32584/32584 [==============================] - 1s 38us/step - loss: 0.3865 - accuracy: 0.8331 - val_loss: 0.4967 - val_accuracy: 0.7674\n",
      "Epoch 49/100\n",
      "32584/32584 [==============================] - 1s 38us/step - loss: 0.3873 - accuracy: 0.8333 - val_loss: 0.5630 - val_accuracy: 0.8218\n",
      "Epoch 50/100\n",
      "32584/32584 [==============================] - 1s 38us/step - loss: 0.3880 - accuracy: 0.8326 - val_loss: 0.4417 - val_accuracy: 0.8264\n",
      "Epoch 51/100\n",
      "32584/32584 [==============================] - 1s 38us/step - loss: 0.3875 - accuracy: 0.8317 - val_loss: 0.6425 - val_accuracy: 0.8192\n",
      "Epoch 52/100\n",
      "32584/32584 [==============================] - 1s 38us/step - loss: 0.3878 - accuracy: 0.8329 - val_loss: 0.5373 - val_accuracy: 0.8241\n",
      "Epoch 53/100\n",
      "32584/32584 [==============================] - 1s 39us/step - loss: 0.3855 - accuracy: 0.8357 - val_loss: 0.5303 - val_accuracy: 0.7150\n",
      "Epoch 54/100\n",
      "32584/32584 [==============================] - 1s 40us/step - loss: 0.3842 - accuracy: 0.8358 - val_loss: 0.3995 - val_accuracy: 0.8306\n",
      "Epoch 55/100\n",
      "32584/32584 [==============================] - 1s 39us/step - loss: 0.3836 - accuracy: 0.8352 - val_loss: 0.5092 - val_accuracy: 0.8119\n"
     ]
    },
    {
     "name": "stdout",
     "output_type": "stream",
     "text": [
      "Epoch 56/100\n",
      "32584/32584 [==============================] - 1s 38us/step - loss: 0.3844 - accuracy: 0.8352 - val_loss: 0.3871 - val_accuracy: 0.8297\n",
      "Epoch 57/100\n",
      "32584/32584 [==============================] - 1s 39us/step - loss: 0.3851 - accuracy: 0.8331 - val_loss: 0.4538 - val_accuracy: 0.8243\n",
      "Epoch 58/100\n",
      "32584/32584 [==============================] - 1s 37us/step - loss: 0.3824 - accuracy: 0.8336 - val_loss: 0.5493 - val_accuracy: 0.6406\n",
      "Epoch 59/100\n",
      "32584/32584 [==============================] - 1s 38us/step - loss: 0.3835 - accuracy: 0.8341 - val_loss: 0.3915 - val_accuracy: 0.8339\n",
      "Epoch 60/100\n",
      "32584/32584 [==============================] - 1s 37us/step - loss: 0.3819 - accuracy: 0.8343 - val_loss: 0.4622 - val_accuracy: 0.8270\n",
      "Epoch 61/100\n",
      "32584/32584 [==============================] - 1s 39us/step - loss: 0.3830 - accuracy: 0.8346 - val_loss: 0.4840 - val_accuracy: 0.8260\n",
      "Epoch 62/100\n",
      "32584/32584 [==============================] - 1s 39us/step - loss: 0.3798 - accuracy: 0.8350 - val_loss: 0.4090 - val_accuracy: 0.8317\n",
      "Epoch 63/100\n",
      "32584/32584 [==============================] - 1s 38us/step - loss: 0.3805 - accuracy: 0.8348 - val_loss: 0.4748 - val_accuracy: 0.8264\n",
      "Epoch 64/100\n",
      "32584/32584 [==============================] - 1s 38us/step - loss: 0.3824 - accuracy: 0.8353 - val_loss: 0.4373 - val_accuracy: 0.8168\n",
      "Epoch 65/100\n",
      "32584/32584 [==============================] - 1s 38us/step - loss: 0.3794 - accuracy: 0.8355 - val_loss: 0.3873 - val_accuracy: 0.8299\n",
      "Epoch 66/100\n",
      "32584/32584 [==============================] - 1s 38us/step - loss: 0.3800 - accuracy: 0.8352 - val_loss: 0.3964 - val_accuracy: 0.8343\n",
      "Epoch 67/100\n",
      "32584/32584 [==============================] - 1s 37us/step - loss: 0.3794 - accuracy: 0.8351 - val_loss: 0.5311 - val_accuracy: 0.6650\n",
      "Epoch 68/100\n",
      "32584/32584 [==============================] - 1s 38us/step - loss: 0.3775 - accuracy: 0.8348 - val_loss: 0.8073 - val_accuracy: 0.8225\n",
      "Epoch 69/100\n",
      "32584/32584 [==============================] - 1s 38us/step - loss: 0.3778 - accuracy: 0.8377 - val_loss: 0.4061 - val_accuracy: 0.8389\n",
      "Epoch 70/100\n",
      "32584/32584 [==============================] - 1s 38us/step - loss: 0.3795 - accuracy: 0.8362 - val_loss: 0.4094 - val_accuracy: 0.8198\n",
      "Epoch 71/100\n",
      "32584/32584 [==============================] - 1s 42us/step - loss: 0.3771 - accuracy: 0.8363 - val_loss: 0.3819 - val_accuracy: 0.8327\n",
      "Epoch 72/100\n",
      "32584/32584 [==============================] - 1s 39us/step - loss: 0.3766 - accuracy: 0.8380 - val_loss: 0.4082 - val_accuracy: 0.8297\n",
      "Epoch 73/100\n",
      "32584/32584 [==============================] - 1s 44us/step - loss: 0.3741 - accuracy: 0.8377 - val_loss: 0.3991 - val_accuracy: 0.8289\n",
      "Epoch 74/100\n",
      "32584/32584 [==============================] - 2s 50us/step - loss: 0.3767 - accuracy: 0.8361 - val_loss: 0.3841 - val_accuracy: 0.8372\n",
      "Epoch 75/100\n",
      "32584/32584 [==============================] - 2s 53us/step - loss: 0.3742 - accuracy: 0.8370 - val_loss: 0.4143 - val_accuracy: 0.8434\n",
      "Epoch 76/100\n",
      "32584/32584 [==============================] - 2s 63us/step - loss: 0.3747 - accuracy: 0.8373 - val_loss: 0.4392 - val_accuracy: 0.8370\n",
      "Epoch 77/100\n",
      "32584/32584 [==============================] - 2s 50us/step - loss: 0.3746 - accuracy: 0.8372 - val_loss: 0.4260 - val_accuracy: 0.8291\n",
      "Epoch 78/100\n",
      "32584/32584 [==============================] - 1s 41us/step - loss: 0.3752 - accuracy: 0.8370 - val_loss: 0.3736 - val_accuracy: 0.8332\n",
      "Epoch 79/100\n",
      "32584/32584 [==============================] - 1s 40us/step - loss: 0.3711 - accuracy: 0.8377 - val_loss: 0.4324 - val_accuracy: 0.8273\n",
      "Epoch 80/100\n",
      "32584/32584 [==============================] - 2s 55us/step - loss: 0.3740 - accuracy: 0.8379 - val_loss: 0.4883 - val_accuracy: 0.8273\n",
      "Epoch 81/100\n",
      "32584/32584 [==============================] - 2s 49us/step - loss: 0.3731 - accuracy: 0.8376 - val_loss: 0.4000 - val_accuracy: 0.8397\n",
      "Epoch 82/100\n",
      "32584/32584 [==============================] - 2s 50us/step - loss: 0.3720 - accuracy: 0.8388 - val_loss: 0.4523 - val_accuracy: 0.8148\n",
      "Epoch 83/100\n",
      "32584/32584 [==============================] - 1s 42us/step - loss: 0.3728 - accuracy: 0.8380 - val_loss: 0.4716 - val_accuracy: 0.8324\n",
      "Epoch 84/100\n",
      "32584/32584 [==============================] - 2s 66us/step - loss: 0.3715 - accuracy: 0.8392 - val_loss: 0.3983 - val_accuracy: 0.8238\n",
      "Epoch 85/100\n",
      "32584/32584 [==============================] - 2s 54us/step - loss: 0.3709 - accuracy: 0.8383 - val_loss: 0.3915 - val_accuracy: 0.8305\n",
      "Epoch 86/100\n",
      "32584/32584 [==============================] - 2s 48us/step - loss: 0.3717 - accuracy: 0.8377 - val_loss: 0.5144 - val_accuracy: 0.8260\n",
      "Epoch 87/100\n",
      "32584/32584 [==============================] - 2s 72us/step - loss: 0.3711 - accuracy: 0.8376 - val_loss: 0.4314 - val_accuracy: 0.7652\n",
      "Epoch 88/100\n",
      "32584/32584 [==============================] - 2s 62us/step - loss: 0.3699 - accuracy: 0.8389 - val_loss: 0.6939 - val_accuracy: 0.4651\n",
      "Epoch 89/100\n",
      "32584/32584 [==============================] - 2s 51us/step - loss: 0.3699 - accuracy: 0.8381 - val_loss: 0.5847 - val_accuracy: 0.7213\n",
      "Epoch 90/100\n",
      "32584/32584 [==============================] - 1s 40us/step - loss: 0.3795 - accuracy: 0.8324 - val_loss: 0.3735 - val_accuracy: 0.8360\n",
      "Epoch 91/100\n",
      "32584/32584 [==============================] - 1s 42us/step - loss: 0.3722 - accuracy: 0.8388 - val_loss: 0.4015 - val_accuracy: 0.8330\n",
      "Epoch 92/100\n",
      "32584/32584 [==============================] - 2s 49us/step - loss: 0.3703 - accuracy: 0.8387 - val_loss: 0.4708 - val_accuracy: 0.7470\n",
      "Epoch 93/100\n",
      "32584/32584 [==============================] - 2s 46us/step - loss: 0.3685 - accuracy: 0.8378 - val_loss: 0.6691 - val_accuracy: 0.5506\n",
      "Epoch 94/100\n",
      "32584/32584 [==============================] - 2s 60us/step - loss: 0.3714 - accuracy: 0.8380 - val_loss: 0.7325 - val_accuracy: 0.8232\n",
      "Epoch 95/100\n",
      "32584/32584 [==============================] - 2s 57us/step - loss: 0.3702 - accuracy: 0.8380 - val_loss: 0.4012 - val_accuracy: 0.8319\n",
      "Epoch 96/100\n",
      "32584/32584 [==============================] - 2s 47us/step - loss: 0.3681 - accuracy: 0.8394 - val_loss: 0.3703 - val_accuracy: 0.8400\n",
      "Epoch 97/100\n",
      "32584/32584 [==============================] - 2s 48us/step - loss: 0.3683 - accuracy: 0.8395 - val_loss: 0.3872 - val_accuracy: 0.8472\n",
      "Epoch 98/100\n",
      "32584/32584 [==============================] - 1s 40us/step - loss: 0.3671 - accuracy: 0.8387 - val_loss: 0.5564 - val_accuracy: 0.8267\n",
      "Epoch 99/100\n",
      "32584/32584 [==============================] - 1s 40us/step - loss: 0.3675 - accuracy: 0.8406 - val_loss: 0.4675 - val_accuracy: 0.8316\n",
      "Epoch 100/100\n",
      "32584/32584 [==============================] - 1s 41us/step - loss: 0.3654 - accuracy: 0.8411 - val_loss: 0.4871 - val_accuracy: 0.8305\n"
     ]
    }
   ],
   "source": [
    "bst_lr_model_history = bst_lr_model.fit(X_train_std, \n",
    "                                        y_train, \n",
    "                                        epochs=100, \n",
    "                                        batch_size=64, \n",
    "                                        validation_split=0.2, \n",
    "                                        shuffle=True)"
   ]
  },
  {
   "cell_type": "markdown",
   "metadata": {},
   "source": [
    "#### Predictions"
   ]
  },
  {
   "cell_type": "code",
   "execution_count": 109,
   "metadata": {},
   "outputs": [],
   "source": [
    "train_bst_lr_model_pred = bst_lr_model.predict_classes(X_train_std)\n",
    "test_bst_lr_model_pred = bst_lr_model.predict_classes(X_test_std)"
   ]
  },
  {
   "cell_type": "markdown",
   "metadata": {},
   "source": [
    "#### Getting evaluation metrics and evaluating model performance"
   ]
  },
  {
   "cell_type": "code",
   "execution_count": 110,
   "metadata": {},
   "outputs": [
    {
     "name": "stdout",
     "output_type": "stream",
     "text": [
      "Train metrics\n",
      "Confusion matrix\n",
      "[[32542   510]\n",
      " [ 6205  1473]]\n",
      "----------------------------------------------\n",
      "Accuracy:  0.8351338080039283\n",
      "Precission:  0.8398585696957184\n",
      "Recall:  0.9845697688490863\n",
      "F1 Score:  0.9064750205434615\n",
      "\n",
      "==============================================\n",
      "\n",
      "Test metrics\n",
      "Confusion matrix\n",
      "[[13926   239]\n",
      " [ 2652   639]]\n",
      "----------------------------------------------\n",
      "Accuracy:  0.8343835930339139\n",
      "Precission:  0.8400289540354687\n",
      "Recall:  0.983127426756089\n",
      "F1 Score:  0.9059623328887877\n"
     ]
    }
   ],
   "source": [
    "compute_metrics(train_bst_lr_model_pred, y_train, test_bst_lr_model_pred, y_test)"
   ]
  },
  {
   "cell_type": "markdown",
   "metadata": {},
   "source": [
    "#### Find the best Batch size "
   ]
  },
  {
   "cell_type": "code",
   "execution_count": 111,
   "metadata": {},
   "outputs": [],
   "source": [
    "batch_sizes = [32, 64, 128, 256]"
   ]
  },
  {
   "cell_type": "code",
   "execution_count": 112,
   "metadata": {},
   "outputs": [
    {
     "name": "stdout",
     "output_type": "stream",
     "text": [
      "Train on 32584 samples, validate on 8146 samples\n",
      "Epoch 1/10\n",
      "32584/32584 [==============================] - 3s 98us/step - loss: 0.4707 - accuracy: 0.8135 - val_loss: 0.4746 - val_accuracy: 0.8091\n",
      "Epoch 2/10\n",
      "32584/32584 [==============================] - 3s 88us/step - loss: 0.4559 - accuracy: 0.8165 - val_loss: 0.4668 - val_accuracy: 0.8124\n",
      "Epoch 3/10\n",
      "32584/32584 [==============================] - 3s 86us/step - loss: 0.4478 - accuracy: 0.8171 - val_loss: 0.4573 - val_accuracy: 0.8129\n",
      "Epoch 4/10\n",
      "32584/32584 [==============================] - 2s 73us/step - loss: 0.4414 - accuracy: 0.8183 - val_loss: 0.4487 - val_accuracy: 0.8086\n",
      "Epoch 5/10\n",
      "32584/32584 [==============================] - 4s 126us/step - loss: 0.4358 - accuracy: 0.8196 - val_loss: 0.4806 - val_accuracy: 0.8048\n",
      "Epoch 6/10\n",
      "32584/32584 [==============================] - 4s 118us/step - loss: 0.4301 - accuracy: 0.8208 - val_loss: 0.4305 - val_accuracy: 0.8187\n",
      "Epoch 7/10\n",
      "32584/32584 [==============================] - 3s 90us/step - loss: 0.4280 - accuracy: 0.8227 - val_loss: 0.4688 - val_accuracy: 0.8189\n",
      "Epoch 8/10\n",
      "32584/32584 [==============================] - 3s 94us/step - loss: 0.4246 - accuracy: 0.8233 - val_loss: 0.4641 - val_accuracy: 0.8046\n",
      "Epoch 9/10\n",
      "32584/32584 [==============================] - 3s 81us/step - loss: 0.4228 - accuracy: 0.8233 - val_loss: 0.4459 - val_accuracy: 0.8213\n",
      "Epoch 10/10\n",
      "32584/32584 [==============================] - 3s 106us/step - loss: 0.4199 - accuracy: 0.8241 - val_loss: 0.4267 - val_accuracy: 0.8209\n",
      "Train on 32584 samples, validate on 8146 samples\n",
      "Epoch 1/10\n",
      "32584/32584 [==============================] - 2s 51us/step - loss: 0.4770 - accuracy: 0.8122 - val_loss: 0.4798 - val_accuracy: 0.8064\n",
      "Epoch 2/10\n",
      "32584/32584 [==============================] - 1s 45us/step - loss: 0.4613 - accuracy: 0.8149 - val_loss: 0.4760 - val_accuracy: 0.8100\n",
      "Epoch 3/10\n",
      "32584/32584 [==============================] - 1s 30us/step - loss: 0.4545 - accuracy: 0.8164 - val_loss: 0.4705 - val_accuracy: 0.8110\n",
      "Epoch 4/10\n",
      "32584/32584 [==============================] - 1s 29us/step - loss: 0.4487 - accuracy: 0.8175 - val_loss: 0.4690 - val_accuracy: 0.8046\n",
      "Epoch 5/10\n",
      "32584/32584 [==============================] - 2s 61us/step - loss: 0.4430 - accuracy: 0.8183 - val_loss: 0.5288 - val_accuracy: 0.7755\n",
      "Epoch 6/10\n",
      "32584/32584 [==============================] - 2s 56us/step - loss: 0.4378 - accuracy: 0.8193 - val_loss: 0.4463 - val_accuracy: 0.8178\n",
      "Epoch 7/10\n",
      "32584/32584 [==============================] - 1s 46us/step - loss: 0.4337 - accuracy: 0.8212 - val_loss: 0.4927 - val_accuracy: 0.7879\n",
      "Epoch 8/10\n",
      "32584/32584 [==============================] - 2s 53us/step - loss: 0.4306 - accuracy: 0.8213 - val_loss: 0.4830 - val_accuracy: 0.7699\n",
      "Epoch 9/10\n",
      "32584/32584 [==============================] - 1s 42us/step - loss: 0.4280 - accuracy: 0.8223 - val_loss: 0.4635 - val_accuracy: 0.8186\n",
      "Epoch 10/10\n",
      "32584/32584 [==============================] - 1s 30us/step - loss: 0.4259 - accuracy: 0.8226 - val_loss: 0.4568 - val_accuracy: 0.8186\n",
      "Train on 32584 samples, validate on 8146 samples\n",
      "Epoch 1/10\n",
      "32584/32584 [==============================] - 1s 32us/step - loss: 0.4857 - accuracy: 0.8117 - val_loss: 0.4861 - val_accuracy: 0.8047\n",
      "Epoch 2/10\n",
      "32584/32584 [==============================] - 1s 18us/step - loss: 0.4681 - accuracy: 0.8138 - val_loss: 0.4793 - val_accuracy: 0.8063\n",
      "Epoch 3/10\n",
      "32584/32584 [==============================] - 1s 18us/step - loss: 0.4623 - accuracy: 0.8145 - val_loss: 0.4730 - val_accuracy: 0.8082\n",
      "Epoch 4/10\n",
      "32584/32584 [==============================] - 1s 16us/step - loss: 0.4573 - accuracy: 0.8157 - val_loss: 0.4676 - val_accuracy: 0.8106\n",
      "Epoch 5/10\n",
      "32584/32584 [==============================] - 1s 16us/step - loss: 0.4528 - accuracy: 0.8166 - val_loss: 0.4644 - val_accuracy: 0.8110\n",
      "Epoch 6/10\n",
      "32584/32584 [==============================] - 1s 16us/step - loss: 0.4489 - accuracy: 0.8172 - val_loss: 0.4572 - val_accuracy: 0.8108\n",
      "Epoch 7/10\n",
      "32584/32584 [==============================] - 1s 16us/step - loss: 0.4440 - accuracy: 0.8179 - val_loss: 0.4610 - val_accuracy: 0.8058\n",
      "Epoch 8/10\n",
      "32584/32584 [==============================] - 1s 16us/step - loss: 0.4415 - accuracy: 0.8191 - val_loss: 0.4835 - val_accuracy: 0.8006\n",
      "Epoch 9/10\n",
      "32584/32584 [==============================] - 1s 16us/step - loss: 0.4381 - accuracy: 0.8201 - val_loss: 0.4499 - val_accuracy: 0.8160\n",
      "Epoch 10/10\n",
      "32584/32584 [==============================] - 1s 18us/step - loss: 0.4348 - accuracy: 0.8209 - val_loss: 0.4459 - val_accuracy: 0.8175\n",
      "Train on 32584 samples, validate on 8146 samples\n",
      "Epoch 1/10\n",
      "32584/32584 [==============================] - 1s 26us/step - loss: 0.4948 - accuracy: 0.8096 - val_loss: 0.4918 - val_accuracy: 0.8048\n",
      "Epoch 2/10\n",
      "32584/32584 [==============================] - 0s 10us/step - loss: 0.4766 - accuracy: 0.8132 - val_loss: 0.4862 - val_accuracy: 0.8047\n",
      "Epoch 3/10\n",
      "32584/32584 [==============================] - 0s 10us/step - loss: 0.4696 - accuracy: 0.8135 - val_loss: 0.4818 - val_accuracy: 0.8054\n",
      "Epoch 4/10\n",
      "32584/32584 [==============================] - 0s 11us/step - loss: 0.4656 - accuracy: 0.8142 - val_loss: 0.4789 - val_accuracy: 0.8064\n",
      "Epoch 5/10\n",
      "32584/32584 [==============================] - 1s 16us/step - loss: 0.4628 - accuracy: 0.8143 - val_loss: 0.4759 - val_accuracy: 0.8078\n",
      "Epoch 6/10\n",
      "32584/32584 [==============================] - 0s 11us/step - loss: 0.4600 - accuracy: 0.8148 - val_loss: 0.4729 - val_accuracy: 0.8079\n",
      "Epoch 7/10\n",
      "32584/32584 [==============================] - 0s 9us/step - loss: 0.4569 - accuracy: 0.8155 - val_loss: 0.4708 - val_accuracy: 0.8074\n",
      "Epoch 8/10\n",
      "32584/32584 [==============================] - 0s 10us/step - loss: 0.4542 - accuracy: 0.8161 - val_loss: 0.4777 - val_accuracy: 0.8019\n",
      "Epoch 9/10\n",
      "32584/32584 [==============================] - 0s 10us/step - loss: 0.4518 - accuracy: 0.8168 - val_loss: 0.4639 - val_accuracy: 0.8107\n",
      "Epoch 10/10\n",
      "32584/32584 [==============================] - 0s 11us/step - loss: 0.4487 - accuracy: 0.8171 - val_loss: 0.4632 - val_accuracy: 0.8096\n"
     ]
    }
   ],
   "source": [
    "history=[]\n",
    "\n",
    "for batch_size in batch_sizes:\n",
    "    \n",
    "    np.random.seed(123)\n",
    "    tf.set_random_seed(123)\n",
    "    \n",
    "    bs_model = model_def(h_activation='tanh', \n",
    "                         o_activation='sigmoid', \n",
    "                         kernel_init='normal')\n",
    "    \n",
    "     # Compile model\n",
    "    sgd = optimizers.SGD(lr=best_params['best_learning_rate'])\n",
    "    \n",
    "    bs_model.compile(loss='binary_crossentropy', \n",
    "                     optimizer=sgd, \n",
    "                     metrics=['accuracy'])\n",
    "    \n",
    "    #Fit the model\n",
    "    bs_model_history = bs_model.fit(X_train_std, \n",
    "                                    y_train, \n",
    "                                    batch_size=batch_size, \n",
    "                                    epochs=10,\n",
    "                                    validation_split=0.2, shuffle=True)\n",
    "    \n",
    "    history.append(bs_model_history)"
   ]
  },
  {
   "cell_type": "markdown",
   "metadata": {},
   "source": [
    "###### Summarize history for train loss"
   ]
  },
  {
   "cell_type": "code",
   "execution_count": 113,
   "metadata": {},
   "outputs": [
    {
     "data": {
      "image/png": "[encoded data removed]",
      "text/plain": [
       "<Figure size 432x288 with 1 Axes>"
      ]
     },
     "metadata": {
      "needs_background": "light"
     },
     "output_type": "display_data"
    }
   ],
   "source": [
    "for i in range(0, len(history)):\n",
    "    plt.plot(history[i].history['loss'])\n",
    "plt.title('Model Train Loss')\n",
    "plt.ylabel('loss')\n",
    "plt.xlabel('epochs')  \n",
    "plt.legend(batch_sizes, loc='upper left')\n",
    "plt.show()"
   ]
  },
  {
   "cell_type": "markdown",
   "metadata": {},
   "source": [
    "###### Summarize history for test loss"
   ]
  },
  {
   "cell_type": "code",
   "execution_count": 114,
   "metadata": {},
   "outputs": [
    {
     "data": {
      "image/png": "[encoded data removed]",
      "text/plain": [
       "<Figure size 432x288 with 1 Axes>"
      ]
     },
     "metadata": {
      "needs_background": "light"
     },
     "output_type": "display_data"
    }
   ],
   "source": [
    "for i in range(0, len(history)):\n",
    "    plt.plot(history[i].history['val_loss'])\n",
    "plt.title('Model Test Loss')\n",
    "plt.ylabel('loss')\n",
    "plt.xlabel('epoch')  \n",
    "plt.legend(batch_sizes, loc='upper left')\n",
    "plt.show()"
   ]
  },
  {
   "cell_type": "markdown",
   "metadata": {},
   "source": [
    "#### Build model with the best batch size"
   ]
  },
  {
   "cell_type": "code",
   "execution_count": 115,
   "metadata": {},
   "outputs": [],
   "source": [
    "best_params['best_batch_size'] = 32"
   ]
  },
  {
   "cell_type": "code",
   "execution_count": 116,
   "metadata": {},
   "outputs": [],
   "source": [
    "np.random.seed(123)\n",
    "tf.set_random_seed(123)\n",
    "    \n",
    "bst_bs_model = model_def(h_activation='tanh', \n",
    "                         o_activation='sigmoid', \n",
    "                         kernel_init='normal')"
   ]
  },
  {
   "cell_type": "code",
   "execution_count": 117,
   "metadata": {},
   "outputs": [],
   "source": [
    "sgd = optimizers.SGD(lr=best_params['best_learning_rate'])\n",
    "\n",
    "bst_bs_model.compile(loss='binary_crossentropy', \n",
    "                     optimizer=sgd, \n",
    "                     metrics=['accuracy'])"
   ]
  },
  {
   "cell_type": "code",
   "execution_count": 118,
   "metadata": {},
   "outputs": [
    {
     "name": "stdout",
     "output_type": "stream",
     "text": [
      "Train on 32584 samples, validate on 8146 samples\n",
      "Epoch 1/100\n",
      "32584/32584 [==============================] - 3s 103us/step - loss: 0.4707 - accuracy: 0.8135 - val_loss: 0.4746 - val_accuracy: 0.8091\n",
      "Epoch 2/100\n",
      "32584/32584 [==============================] - 2s 75us/step - loss: 0.4559 - accuracy: 0.8165 - val_loss: 0.4668 - val_accuracy: 0.8124\n",
      "Epoch 3/100\n",
      "32584/32584 [==============================] - 2s 75us/step - loss: 0.4478 - accuracy: 0.8171 - val_loss: 0.4573 - val_accuracy: 0.8129\n",
      "Epoch 4/100\n",
      "32584/32584 [==============================] - 3s 89us/step - loss: 0.4414 - accuracy: 0.8183 - val_loss: 0.4487 - val_accuracy: 0.8086\n",
      "Epoch 5/100\n",
      "32584/32584 [==============================] - 2s 73us/step - loss: 0.4358 - accuracy: 0.8196 - val_loss: 0.4806 - val_accuracy: 0.8048\n",
      "Epoch 6/100\n",
      "32584/32584 [==============================] - 2s 67us/step - loss: 0.4301 - accuracy: 0.8208 - val_loss: 0.4305 - val_accuracy: 0.8187\n",
      "Epoch 7/100\n",
      "32584/32584 [==============================] - 3s 79us/step - loss: 0.4280 - accuracy: 0.8227 - val_loss: 0.4688 - val_accuracy: 0.8189\n",
      "Epoch 8/100\n",
      "32584/32584 [==============================] - 2s 69us/step - loss: 0.4246 - accuracy: 0.8233 - val_loss: 0.4641 - val_accuracy: 0.8046\n",
      "Epoch 9/100\n",
      "32584/32584 [==============================] - 3s 81us/step - loss: 0.4228 - accuracy: 0.8233 - val_loss: 0.4459 - val_accuracy: 0.8213\n",
      "Epoch 10/100\n",
      "32584/32584 [==============================] - 2s 63us/step - loss: 0.4199 - accuracy: 0.8241 - val_loss: 0.4267 - val_accuracy: 0.8209\n",
      "Epoch 11/100\n",
      "32584/32584 [==============================] - 2s 61us/step - loss: 0.4180 - accuracy: 0.8240 - val_loss: 0.5594 - val_accuracy: 0.7084\n",
      "Epoch 12/100\n",
      "32584/32584 [==============================] - 2s 66us/step - loss: 0.4155 - accuracy: 0.8257 - val_loss: 0.4493 - val_accuracy: 0.8269\n",
      "Epoch 13/100\n",
      "32584/32584 [==============================] - 2s 60us/step - loss: 0.4153 - accuracy: 0.8253 - val_loss: 0.4500 - val_accuracy: 0.8198\n",
      "Epoch 14/100\n",
      "32584/32584 [==============================] - 2s 61us/step - loss: 0.4101 - accuracy: 0.8261 - val_loss: 0.4922 - val_accuracy: 0.8208\n",
      "Epoch 15/100\n",
      "32584/32584 [==============================] - 2s 61us/step - loss: 0.4114 - accuracy: 0.8271 - val_loss: 0.4157 - val_accuracy: 0.8219\n",
      "Epoch 16/100\n",
      "32584/32584 [==============================] - 2s 63us/step - loss: 0.4085 - accuracy: 0.8263 - val_loss: 0.4096 - val_accuracy: 0.8249\n",
      "Epoch 17/100\n",
      "32584/32584 [==============================] - 2s 63us/step - loss: 0.4091 - accuracy: 0.8273 - val_loss: 0.4324 - val_accuracy: 0.8152\n",
      "Epoch 18/100\n",
      "32584/32584 [==============================] - 2s 61us/step - loss: 0.4086 - accuracy: 0.8268 - val_loss: 0.4583 - val_accuracy: 0.8229\n",
      "Epoch 19/100\n",
      "32584/32584 [==============================] - 2s 60us/step - loss: 0.4065 - accuracy: 0.8275 - val_loss: 0.4077 - val_accuracy: 0.8251\n",
      "Epoch 20/100\n",
      "32584/32584 [==============================] - 2s 61us/step - loss: 0.4060 - accuracy: 0.8289 - val_loss: 0.4593 - val_accuracy: 0.8218\n",
      "Epoch 21/100\n",
      "32584/32584 [==============================] - 2s 62us/step - loss: 0.4043 - accuracy: 0.8283 - val_loss: 0.4096 - val_accuracy: 0.8252\n",
      "Epoch 22/100\n",
      "32584/32584 [==============================] - 2s 76us/step - loss: 0.4024 - accuracy: 0.8288 - val_loss: 0.4952 - val_accuracy: 0.8213\n",
      "Epoch 23/100\n",
      "32584/32584 [==============================] - 3s 88us/step - loss: 0.4036 - accuracy: 0.8291 - val_loss: 0.4068 - val_accuracy: 0.8241\n",
      "Epoch 24/100\n",
      "32584/32584 [==============================] - 3s 94us/step - loss: 0.4007 - accuracy: 0.8300 - val_loss: 0.4120 - val_accuracy: 0.8257\n",
      "Epoch 25/100\n",
      "32584/32584 [==============================] - 3s 85us/step - loss: 0.4002 - accuracy: 0.8303 - val_loss: 0.4149 - val_accuracy: 0.8311\n",
      "Epoch 26/100\n",
      "32584/32584 [==============================] - 2s 74us/step - loss: 0.4000 - accuracy: 0.8295 - val_loss: 0.4238 - val_accuracy: 0.8310\n",
      "Epoch 27/100\n",
      "32584/32584 [==============================] - 2s 64us/step - loss: 0.3974 - accuracy: 0.8291 - val_loss: 0.4627 - val_accuracy: 0.8218\n",
      "Epoch 28/100\n",
      "32584/32584 [==============================] - 2s 64us/step - loss: 0.3981 - accuracy: 0.8292 - val_loss: 0.4080 - val_accuracy: 0.8288\n",
      "Epoch 29/100\n",
      "32584/32584 [==============================] - 2s 64us/step - loss: 0.3975 - accuracy: 0.8304 - val_loss: 0.4010 - val_accuracy: 0.8281\n",
      "Epoch 30/100\n",
      "32584/32584 [==============================] - 2s 65us/step - loss: 0.3975 - accuracy: 0.8296 - val_loss: 0.3990 - val_accuracy: 0.8256\n",
      "Epoch 31/100\n",
      "32584/32584 [==============================] - 2s 66us/step - loss: 0.3951 - accuracy: 0.8306 - val_loss: 0.3932 - val_accuracy: 0.8302\n",
      "Epoch 32/100\n",
      "32584/32584 [==============================] - 2s 63us/step - loss: 0.3949 - accuracy: 0.8316 - val_loss: 0.3965 - val_accuracy: 0.8324\n",
      "Epoch 33/100\n",
      "32584/32584 [==============================] - 2s 65us/step - loss: 0.3940 - accuracy: 0.8305 - val_loss: 0.4312 - val_accuracy: 0.8265\n",
      "Epoch 34/100\n",
      "32584/32584 [==============================] - 2s 62us/step - loss: 0.3931 - accuracy: 0.8307 - val_loss: 0.3936 - val_accuracy: 0.8300\n",
      "Epoch 35/100\n",
      "32584/32584 [==============================] - 2s 67us/step - loss: 0.3920 - accuracy: 0.8323 - val_loss: 0.4537 - val_accuracy: 0.8248\n",
      "Epoch 36/100\n",
      "32584/32584 [==============================] - 2s 64us/step - loss: 0.3920 - accuracy: 0.8315 - val_loss: 0.4034 - val_accuracy: 0.8303\n",
      "Epoch 37/100\n",
      "32584/32584 [==============================] - 2s 65us/step - loss: 0.3909 - accuracy: 0.8317 - val_loss: 0.3998 - val_accuracy: 0.8321\n",
      "Epoch 38/100\n",
      "32584/32584 [==============================] - 2s 69us/step - loss: 0.3906 - accuracy: 0.8314 - val_loss: 0.3926 - val_accuracy: 0.8265\n",
      "Epoch 39/100\n",
      "32584/32584 [==============================] - 2s 65us/step - loss: 0.3893 - accuracy: 0.8331 - val_loss: 0.4556 - val_accuracy: 0.8254\n",
      "Epoch 40/100\n",
      "32584/32584 [==============================] - 2s 70us/step - loss: 0.3889 - accuracy: 0.8333 - val_loss: 0.4593 - val_accuracy: 0.8019\n",
      "Epoch 41/100\n",
      "32584/32584 [==============================] - 2s 69us/step - loss: 0.3879 - accuracy: 0.8334 - val_loss: 0.3924 - val_accuracy: 0.8303\n",
      "Epoch 42/100\n",
      "32584/32584 [==============================] - 2s 77us/step - loss: 0.3875 - accuracy: 0.8324 - val_loss: 0.5154 - val_accuracy: 0.7177\n",
      "Epoch 43/100\n",
      "32584/32584 [==============================] - 2s 66us/step - loss: 0.3881 - accuracy: 0.8313 - val_loss: 0.6497 - val_accuracy: 0.5551\n",
      "Epoch 44/100\n",
      "32584/32584 [==============================] - 2s 66us/step - loss: 0.3855 - accuracy: 0.8329 - val_loss: 0.5205 - val_accuracy: 0.6477\n",
      "Epoch 45/100\n",
      "32584/32584 [==============================] - 2s 68us/step - loss: 0.3841 - accuracy: 0.8332 - val_loss: 0.4471 - val_accuracy: 0.8265\n",
      "Epoch 46/100\n",
      "32584/32584 [==============================] - 2s 71us/step - loss: 0.3844 - accuracy: 0.8333 - val_loss: 0.4751 - val_accuracy: 0.8260\n",
      "Epoch 47/100\n",
      "32584/32584 [==============================] - 3s 102us/step - loss: 0.3830 - accuracy: 0.8335 - val_loss: 0.4236 - val_accuracy: 0.8274\n",
      "Epoch 48/100\n",
      "32584/32584 [==============================] - 2s 64us/step - loss: 0.3826 - accuracy: 0.8349 - val_loss: 0.4587 - val_accuracy: 0.7746\n",
      "Epoch 49/100\n",
      "32584/32584 [==============================] - 2s 62us/step - loss: 0.3815 - accuracy: 0.8346 - val_loss: 0.5270 - val_accuracy: 0.8227\n",
      "Epoch 50/100\n",
      "32584/32584 [==============================] - 2s 68us/step - loss: 0.3811 - accuracy: 0.8342 - val_loss: 0.4142 - val_accuracy: 0.8273\n",
      "Epoch 51/100\n",
      "32584/32584 [==============================] - 2s 64us/step - loss: 0.3819 - accuracy: 0.8334 - val_loss: 0.4460 - val_accuracy: 0.8245\n",
      "Epoch 52/100\n",
      "32584/32584 [==============================] - 2s 63us/step - loss: 0.3810 - accuracy: 0.8350 - val_loss: 0.4535 - val_accuracy: 0.8291\n",
      "Epoch 53/100\n",
      "32584/32584 [==============================] - 2s 64us/step - loss: 0.3794 - accuracy: 0.8356 - val_loss: 0.4517 - val_accuracy: 0.8139\n",
      "Epoch 54/100\n",
      "32584/32584 [==============================] - 2s 63us/step - loss: 0.3797 - accuracy: 0.8355 - val_loss: 0.3887 - val_accuracy: 0.8332\n",
      "Epoch 55/100\n",
      "32584/32584 [==============================] - 2s 63us/step - loss: 0.3771 - accuracy: 0.8356 - val_loss: 0.4840 - val_accuracy: 0.8188\n"
     ]
    },
    {
     "name": "stdout",
     "output_type": "stream",
     "text": [
      "Epoch 56/100\n",
      "32584/32584 [==============================] - 2s 63us/step - loss: 0.3788 - accuracy: 0.8352 - val_loss: 0.3734 - val_accuracy: 0.8339\n",
      "Epoch 57/100\n",
      "32584/32584 [==============================] - 2s 64us/step - loss: 0.3757 - accuracy: 0.8373 - val_loss: 0.4030 - val_accuracy: 0.8300\n",
      "Epoch 58/100\n",
      "32584/32584 [==============================] - 2s 64us/step - loss: 0.3782 - accuracy: 0.8358 - val_loss: 0.4605 - val_accuracy: 0.7965\n",
      "Epoch 59/100\n",
      "32584/32584 [==============================] - 2s 69us/step - loss: 0.3759 - accuracy: 0.8346 - val_loss: 0.3758 - val_accuracy: 0.8367\n",
      "Epoch 60/100\n",
      "32584/32584 [==============================] - 3s 89us/step - loss: 0.3767 - accuracy: 0.8375 - val_loss: 0.4179 - val_accuracy: 0.8292\n",
      "Epoch 61/100\n",
      "32584/32584 [==============================] - 4s 115us/step - loss: 0.3764 - accuracy: 0.8356 - val_loss: 0.4640 - val_accuracy: 0.8295\n",
      "Epoch 62/100\n",
      "32584/32584 [==============================] - 3s 85us/step - loss: 0.3760 - accuracy: 0.8352 - val_loss: 0.3919 - val_accuracy: 0.8332\n",
      "Epoch 63/100\n",
      "32584/32584 [==============================] - 2s 68us/step - loss: 0.3749 - accuracy: 0.8363 - val_loss: 0.4072 - val_accuracy: 0.8305\n",
      "Epoch 64/100\n",
      "32584/32584 [==============================] - 2s 71us/step - loss: 0.3751 - accuracy: 0.8378 - val_loss: 0.3958 - val_accuracy: 0.8311\n",
      "Epoch 65/100\n",
      "32584/32584 [==============================] - 2s 67us/step - loss: 0.3728 - accuracy: 0.8369 - val_loss: 0.3768 - val_accuracy: 0.8351\n",
      "Epoch 66/100\n",
      "32584/32584 [==============================] - 3s 82us/step - loss: 0.3728 - accuracy: 0.8369 - val_loss: 0.3745 - val_accuracy: 0.8338\n",
      "Epoch 67/100\n",
      "32584/32584 [==============================] - 2s 72us/step - loss: 0.3722 - accuracy: 0.8373 - val_loss: 0.4644 - val_accuracy: 0.7212\n",
      "Epoch 68/100\n",
      "32584/32584 [==============================] - 2s 65us/step - loss: 0.3718 - accuracy: 0.8384 - val_loss: 0.6358 - val_accuracy: 0.8246\n",
      "Epoch 69/100\n",
      "32584/32584 [==============================] - 2s 61us/step - loss: 0.3722 - accuracy: 0.8369 - val_loss: 0.3686 - val_accuracy: 0.8361\n",
      "Epoch 70/100\n",
      "32584/32584 [==============================] - 2s 63us/step - loss: 0.3721 - accuracy: 0.8355 - val_loss: 0.3999 - val_accuracy: 0.8168\n",
      "Epoch 71/100\n",
      "32584/32584 [==============================] - 2s 63us/step - loss: 0.3695 - accuracy: 0.8370 - val_loss: 0.3704 - val_accuracy: 0.8330\n",
      "Epoch 72/100\n",
      "32584/32584 [==============================] - 2s 66us/step - loss: 0.3700 - accuracy: 0.8374 - val_loss: 0.3867 - val_accuracy: 0.8335\n",
      "Epoch 73/100\n",
      "32584/32584 [==============================] - 3s 79us/step - loss: 0.3676 - accuracy: 0.8392 - val_loss: 0.4111 - val_accuracy: 0.8219\n",
      "Epoch 74/100\n",
      "32584/32584 [==============================] - 2s 63us/step - loss: 0.3683 - accuracy: 0.8370 - val_loss: 0.3644 - val_accuracy: 0.8366\n",
      "Epoch 75/100\n",
      "32584/32584 [==============================] - 2s 63us/step - loss: 0.3672 - accuracy: 0.8398 - val_loss: 0.3709 - val_accuracy: 0.8538\n",
      "Epoch 76/100\n",
      "32584/32584 [==============================] - 2s 64us/step - loss: 0.3675 - accuracy: 0.8393 - val_loss: 0.3646 - val_accuracy: 0.8389\n",
      "Epoch 77/100\n",
      "32584/32584 [==============================] - 2s 63us/step - loss: 0.3670 - accuracy: 0.8406 - val_loss: 0.4125 - val_accuracy: 0.8328\n",
      "Epoch 78/100\n",
      "32584/32584 [==============================] - 2s 73us/step - loss: 0.3686 - accuracy: 0.8385 - val_loss: 0.3624 - val_accuracy: 0.8372\n",
      "Epoch 79/100\n",
      "32584/32584 [==============================] - 3s 100us/step - loss: 0.3646 - accuracy: 0.8391 - val_loss: 0.4290 - val_accuracy: 0.8191\n",
      "Epoch 80/100\n",
      "32584/32584 [==============================] - 4s 109us/step - loss: 0.3669 - accuracy: 0.8394 - val_loss: 0.4884 - val_accuracy: 0.8296\n",
      "Epoch 81/100\n",
      "32584/32584 [==============================] - 2s 63us/step - loss: 0.3655 - accuracy: 0.8399 - val_loss: 0.3910 - val_accuracy: 0.8517\n",
      "Epoch 82/100\n",
      "32584/32584 [==============================] - 2s 68us/step - loss: 0.3669 - accuracy: 0.8383 - val_loss: 0.3870 - val_accuracy: 0.8315\n",
      "Epoch 83/100\n",
      "32584/32584 [==============================] - 2s 62us/step - loss: 0.3641 - accuracy: 0.8423 - val_loss: 0.4306 - val_accuracy: 0.8339\n",
      "Epoch 84/100\n",
      "32584/32584 [==============================] - 2s 62us/step - loss: 0.3653 - accuracy: 0.8408 - val_loss: 0.3782 - val_accuracy: 0.8386\n",
      "Epoch 85/100\n",
      "32584/32584 [==============================] - 2s 64us/step - loss: 0.3631 - accuracy: 0.8415 - val_loss: 0.3709 - val_accuracy: 0.8382\n",
      "Epoch 86/100\n",
      "32584/32584 [==============================] - 2s 68us/step - loss: 0.3647 - accuracy: 0.8389 - val_loss: 0.4696 - val_accuracy: 0.8321\n",
      "Epoch 87/100\n",
      "32584/32584 [==============================] - 2s 63us/step - loss: 0.3639 - accuracy: 0.8406 - val_loss: 0.3947 - val_accuracy: 0.8049\n",
      "Epoch 88/100\n",
      "32584/32584 [==============================] - 2s 62us/step - loss: 0.3629 - accuracy: 0.8415 - val_loss: 0.5447 - val_accuracy: 0.6201\n",
      "Epoch 89/100\n",
      "32584/32584 [==============================] - 2s 71us/step - loss: 0.3605 - accuracy: 0.8427 - val_loss: 0.4942 - val_accuracy: 0.7730\n",
      "Epoch 90/100\n",
      "32584/32584 [==============================] - 2s 73us/step - loss: 0.3628 - accuracy: 0.8404 - val_loss: 0.3481 - val_accuracy: 0.8469\n",
      "Epoch 91/100\n",
      "32584/32584 [==============================] - 2s 71us/step - loss: 0.3638 - accuracy: 0.8398 - val_loss: 0.3539 - val_accuracy: 0.8416\n",
      "Epoch 92/100\n",
      "32584/32584 [==============================] - 3s 79us/step - loss: 0.3606 - accuracy: 0.8417 - val_loss: 0.4301 - val_accuracy: 0.8073\n",
      "Epoch 93/100\n",
      "32584/32584 [==============================] - 3s 78us/step - loss: 0.3587 - accuracy: 0.8419 - val_loss: 0.4410 - val_accuracy: 0.7420\n",
      "Epoch 94/100\n",
      "32584/32584 [==============================] - 2s 68us/step - loss: 0.3598 - accuracy: 0.8410 - val_loss: 0.5438 - val_accuracy: 0.8273\n",
      "Epoch 95/100\n",
      "32584/32584 [==============================] - 2s 69us/step - loss: 0.3606 - accuracy: 0.8435 - val_loss: 0.3679 - val_accuracy: 0.8400\n",
      "Epoch 96/100\n",
      "32584/32584 [==============================] - 2s 76us/step - loss: 0.3601 - accuracy: 0.8422 - val_loss: 0.3522 - val_accuracy: 0.8545\n",
      "Epoch 97/100\n",
      "32584/32584 [==============================] - 2s 73us/step - loss: 0.3601 - accuracy: 0.8408 - val_loss: 0.3469 - val_accuracy: 0.8434\n",
      "Epoch 98/100\n",
      "32584/32584 [==============================] - 2s 69us/step - loss: 0.3577 - accuracy: 0.8446 - val_loss: 0.4272 - val_accuracy: 0.8326\n",
      "Epoch 99/100\n",
      "32584/32584 [==============================] - 2s 66us/step - loss: 0.3572 - accuracy: 0.8436 - val_loss: 0.4141 - val_accuracy: 0.8377\n",
      "Epoch 100/100\n",
      "32584/32584 [==============================] - 2s 66us/step - loss: 0.3579 - accuracy: 0.8454 - val_loss: 0.4214 - val_accuracy: 0.8265\n"
     ]
    }
   ],
   "source": [
    "bst_bs_model_history = bst_bs_model.fit(X_train_std, \n",
    "                                        y_train, \n",
    "                                        epochs=100, \n",
    "                                        batch_size=best_params['best_batch_size'],\n",
    "                                        validation_split=0.2, \n",
    "                                        shuffle=True)"
   ]
  },
  {
   "cell_type": "markdown",
   "metadata": {},
   "source": [
    "#### Predictions"
   ]
  },
  {
   "cell_type": "code",
   "execution_count": 119,
   "metadata": {},
   "outputs": [],
   "source": [
    "train_bst_bs_model_pred = bst_bs_model.predict_classes(X_train_std)\n",
    "test_bst_bs_model_pred = bst_bs_model.predict_classes(X_test_std)"
   ]
  },
  {
   "cell_type": "markdown",
   "metadata": {},
   "source": [
    "#### Getting evaluation metrics and evaluating model performance"
   ]
  },
  {
   "cell_type": "code",
   "execution_count": 120,
   "metadata": {},
   "outputs": [
    {
     "name": "stdout",
     "output_type": "stream",
     "text": [
      "Train metrics\n",
      "Confusion matrix\n",
      "[[31417  1635]\n",
      " [ 5367  2311]]\n",
      "----------------------------------------------\n",
      "Accuracy:  0.8280874048612816\n",
      "Precission:  0.8540941713788603\n",
      "Recall:  0.9505324942514826\n",
      "F1 Score:  0.8997365255742025\n",
      "\n",
      "==============================================\n",
      "\n",
      "Test metrics\n",
      "Confusion matrix\n",
      "[[13456   709]\n",
      " [ 2307   984]]\n",
      "----------------------------------------------\n",
      "Accuracy:  0.8272227314390468\n",
      "Precission:  0.853644610797437\n",
      "Recall:  0.9499470525944229\n",
      "F1 Score:  0.8992248062015504\n"
     ]
    }
   ],
   "source": [
    "compute_metrics(train_bst_bs_model_pred, y_train, test_bst_bs_model_pred, y_test)"
   ]
  },
  {
   "cell_type": "markdown",
   "metadata": {},
   "source": [
    "#### Model with Relu as activation in hidden layer,Adam optimizer,Modified Xavier"
   ]
  },
  {
   "cell_type": "code",
   "execution_count": 121,
   "metadata": {},
   "outputs": [],
   "source": [
    "np.random.seed(123)\n",
    "tf.set_random_seed(123)"
   ]
  },
  {
   "cell_type": "code",
   "execution_count": 122,
   "metadata": {},
   "outputs": [],
   "source": [
    "relu_model= model_def(h_activation='relu',\n",
    "                      o_activation='sigmoid',\n",
    "                      kernel_init='glorot_normal')"
   ]
  },
  {
   "cell_type": "code",
   "execution_count": 123,
   "metadata": {},
   "outputs": [],
   "source": [
    "relu_model.compile(loss='binary_crossentropy', \n",
    "                   optimizer='adam', \n",
    "                   metrics=['accuracy'])"
   ]
  },
  {
   "cell_type": "code",
   "execution_count": 124,
   "metadata": {},
   "outputs": [
    {
     "name": "stdout",
     "output_type": "stream",
     "text": [
      "Train on 32584 samples, validate on 8146 samples\n",
      "Epoch 1/100\n",
      "32584/32584 [==============================] - 3s 89us/step - loss: 0.4678 - accuracy: 0.8135 - val_loss: 0.4630 - val_accuracy: 0.8059\n",
      "Epoch 2/100\n",
      "32584/32584 [==============================] - 2s 69us/step - loss: 0.4381 - accuracy: 0.8170 - val_loss: 0.4444 - val_accuracy: 0.8146\n",
      "Epoch 3/100\n",
      "32584/32584 [==============================] - 2s 69us/step - loss: 0.4241 - accuracy: 0.8214 - val_loss: 0.4328 - val_accuracy: 0.8195\n",
      "Epoch 4/100\n",
      "32584/32584 [==============================] - 2s 76us/step - loss: 0.4135 - accuracy: 0.8245 - val_loss: 0.4307 - val_accuracy: 0.8220\n",
      "Epoch 5/100\n",
      "32584/32584 [==============================] - 2s 75us/step - loss: 0.4051 - accuracy: 0.8266 - val_loss: 0.4116 - val_accuracy: 0.8249\n",
      "Epoch 6/100\n",
      "32584/32584 [==============================] - 3s 77us/step - loss: 0.3979 - accuracy: 0.8291 - val_loss: 0.4082 - val_accuracy: 0.8268\n",
      "Epoch 7/100\n",
      "32584/32584 [==============================] - 2s 75us/step - loss: 0.3914 - accuracy: 0.8311 - val_loss: 0.4002 - val_accuracy: 0.8280\n",
      "Epoch 8/100\n",
      "32584/32584 [==============================] - 2s 74us/step - loss: 0.3857 - accuracy: 0.8334 - val_loss: 0.4017 - val_accuracy: 0.8278\n",
      "Epoch 9/100\n",
      "32584/32584 [==============================] - 2s 70us/step - loss: 0.3806 - accuracy: 0.8346 - val_loss: 0.3849 - val_accuracy: 0.8288\n",
      "Epoch 10/100\n",
      "32584/32584 [==============================] - 2s 70us/step - loss: 0.3744 - accuracy: 0.8364 - val_loss: 0.3773 - val_accuracy: 0.8321\n",
      "Epoch 11/100\n",
      "32584/32584 [==============================] - 2s 70us/step - loss: 0.3691 - accuracy: 0.8379 - val_loss: 0.3786 - val_accuracy: 0.8340\n",
      "Epoch 12/100\n",
      "32584/32584 [==============================] - 2s 74us/step - loss: 0.3641 - accuracy: 0.8392 - val_loss: 0.3685 - val_accuracy: 0.8345\n",
      "Epoch 13/100\n",
      "32584/32584 [==============================] - 3s 80us/step - loss: 0.3584 - accuracy: 0.8402 - val_loss: 0.3650 - val_accuracy: 0.8357\n",
      "Epoch 14/100\n",
      "32584/32584 [==============================] - 2s 75us/step - loss: 0.3559 - accuracy: 0.8419 - val_loss: 0.3620 - val_accuracy: 0.8351\n",
      "Epoch 15/100\n",
      "32584/32584 [==============================] - 2s 74us/step - loss: 0.3498 - accuracy: 0.8451 - val_loss: 0.3563 - val_accuracy: 0.8377\n",
      "Epoch 16/100\n",
      "32584/32584 [==============================] - 2s 77us/step - loss: 0.3466 - accuracy: 0.8462 - val_loss: 0.3527 - val_accuracy: 0.8376\n",
      "Epoch 17/100\n",
      "32584/32584 [==============================] - 2s 72us/step - loss: 0.3425 - accuracy: 0.8481 - val_loss: 0.3564 - val_accuracy: 0.8427\n",
      "Epoch 18/100\n",
      "32584/32584 [==============================] - 2s 74us/step - loss: 0.3384 - accuracy: 0.8494 - val_loss: 0.3491 - val_accuracy: 0.8442\n",
      "Epoch 19/100\n",
      "32584/32584 [==============================] - 2s 72us/step - loss: 0.3355 - accuracy: 0.8518 - val_loss: 0.3623 - val_accuracy: 0.8376\n",
      "Epoch 20/100\n",
      "32584/32584 [==============================] - 2s 72us/step - loss: 0.3317 - accuracy: 0.8540 - val_loss: 0.3400 - val_accuracy: 0.8446\n",
      "Epoch 21/100\n",
      "32584/32584 [==============================] - 2s 73us/step - loss: 0.3300 - accuracy: 0.8551 - val_loss: 0.3333 - val_accuracy: 0.8496\n",
      "Epoch 22/100\n",
      "32584/32584 [==============================] - 2s 74us/step - loss: 0.3254 - accuracy: 0.8571 - val_loss: 0.3404 - val_accuracy: 0.8462\n",
      "Epoch 23/100\n",
      "32584/32584 [==============================] - 2s 74us/step - loss: 0.3242 - accuracy: 0.8584 - val_loss: 0.3328 - val_accuracy: 0.8603\n",
      "Epoch 24/100\n",
      "32584/32584 [==============================] - 2s 73us/step - loss: 0.3198 - accuracy: 0.8593 - val_loss: 0.3366 - val_accuracy: 0.8531\n",
      "Epoch 25/100\n",
      "32584/32584 [==============================] - 2s 72us/step - loss: 0.3195 - accuracy: 0.8593 - val_loss: 0.3355 - val_accuracy: 0.8551\n",
      "Epoch 26/100\n",
      "32584/32584 [==============================] - 2s 76us/step - loss: 0.3166 - accuracy: 0.8627 - val_loss: 0.3332 - val_accuracy: 0.8524\n",
      "Epoch 27/100\n",
      "32584/32584 [==============================] - 2s 72us/step - loss: 0.3157 - accuracy: 0.8626 - val_loss: 0.3581 - val_accuracy: 0.8435\n",
      "Epoch 28/100\n",
      "32584/32584 [==============================] - 2s 73us/step - loss: 0.3141 - accuracy: 0.8628 - val_loss: 0.3241 - val_accuracy: 0.8578\n",
      "Epoch 29/100\n",
      "32584/32584 [==============================] - 3s 77us/step - loss: 0.3099 - accuracy: 0.8654 - val_loss: 0.3185 - val_accuracy: 0.8558\n",
      "Epoch 30/100\n",
      "32584/32584 [==============================] - 3s 89us/step - loss: 0.3113 - accuracy: 0.8639 - val_loss: 0.3132 - val_accuracy: 0.8636\n",
      "Epoch 31/100\n",
      "32584/32584 [==============================] - 3s 82us/step - loss: 0.3085 - accuracy: 0.8666 - val_loss: 0.3111 - val_accuracy: 0.8675\n",
      "Epoch 32/100\n",
      "32584/32584 [==============================] - 3s 77us/step - loss: 0.3056 - accuracy: 0.8680 - val_loss: 0.3098 - val_accuracy: 0.8657\n",
      "Epoch 33/100\n",
      "32584/32584 [==============================] - 2s 74us/step - loss: 0.3040 - accuracy: 0.8690 - val_loss: 0.3158 - val_accuracy: 0.8631\n",
      "Epoch 34/100\n",
      "32584/32584 [==============================] - 2s 72us/step - loss: 0.3037 - accuracy: 0.8688 - val_loss: 0.3141 - val_accuracy: 0.8701\n",
      "Epoch 35/100\n",
      "32584/32584 [==============================] - 2s 73us/step - loss: 0.3025 - accuracy: 0.8698 - val_loss: 0.3121 - val_accuracy: 0.8634\n",
      "Epoch 36/100\n",
      "32584/32584 [==============================] - 2s 71us/step - loss: 0.3018 - accuracy: 0.8696 - val_loss: 0.3080 - val_accuracy: 0.8647\n",
      "Epoch 37/100\n",
      "32584/32584 [==============================] - 3s 84us/step - loss: 0.2989 - accuracy: 0.8706 - val_loss: 0.3146 - val_accuracy: 0.8599\n",
      "Epoch 38/100\n",
      "32584/32584 [==============================] - 3s 83us/step - loss: 0.3001 - accuracy: 0.8704 - val_loss: 0.3109 - val_accuracy: 0.8658\n",
      "Epoch 39/100\n",
      "32584/32584 [==============================] - 3s 81us/step - loss: 0.3010 - accuracy: 0.8700 - val_loss: 0.3229 - val_accuracy: 0.8575\n",
      "Epoch 40/100\n",
      "32584/32584 [==============================] - 3s 80us/step - loss: 0.2962 - accuracy: 0.8725 - val_loss: 0.3291 - val_accuracy: 0.8576\n",
      "Epoch 41/100\n",
      "32584/32584 [==============================] - 2s 72us/step - loss: 0.2959 - accuracy: 0.8731 - val_loss: 0.3089 - val_accuracy: 0.8688\n",
      "Epoch 42/100\n",
      "32584/32584 [==============================] - 2s 74us/step - loss: 0.2968 - accuracy: 0.8731 - val_loss: 0.3352 - val_accuracy: 0.8591\n",
      "Epoch 43/100\n",
      "32584/32584 [==============================] - 2s 73us/step - loss: 0.2953 - accuracy: 0.8726 - val_loss: 0.3172 - val_accuracy: 0.8688\n",
      "Epoch 44/100\n",
      "32584/32584 [==============================] - 3s 77us/step - loss: 0.2937 - accuracy: 0.8739 - val_loss: 0.3026 - val_accuracy: 0.8772\n",
      "Epoch 45/100\n",
      "32584/32584 [==============================] - 2s 73us/step - loss: 0.2933 - accuracy: 0.8736 - val_loss: 0.3076 - val_accuracy: 0.8639\n",
      "Epoch 46/100\n",
      "32584/32584 [==============================] - 2s 75us/step - loss: 0.2931 - accuracy: 0.8743 - val_loss: 0.3086 - val_accuracy: 0.8672\n",
      "Epoch 47/100\n",
      "32584/32584 [==============================] - 2s 75us/step - loss: 0.2908 - accuracy: 0.8751 - val_loss: 0.2965 - val_accuracy: 0.8685\n",
      "Epoch 48/100\n",
      "32584/32584 [==============================] - 3s 82us/step - loss: 0.2915 - accuracy: 0.8744 - val_loss: 0.3318 - val_accuracy: 0.8685\n",
      "Epoch 49/100\n",
      "32584/32584 [==============================] - 3s 78us/step - loss: 0.2902 - accuracy: 0.8755 - val_loss: 0.3021 - val_accuracy: 0.8755\n",
      "Epoch 50/100\n",
      "32584/32584 [==============================] - 2s 74us/step - loss: 0.2903 - accuracy: 0.8760 - val_loss: 0.3142 - val_accuracy: 0.8664\n",
      "Epoch 51/100\n",
      "32584/32584 [==============================] - 3s 80us/step - loss: 0.2875 - accuracy: 0.8759 - val_loss: 0.3218 - val_accuracy: 0.8599\n",
      "Epoch 52/100\n",
      "32584/32584 [==============================] - 2s 72us/step - loss: 0.2868 - accuracy: 0.8766 - val_loss: 0.3192 - val_accuracy: 0.8659\n",
      "Epoch 53/100\n",
      "32584/32584 [==============================] - 2s 71us/step - loss: 0.2883 - accuracy: 0.8775 - val_loss: 0.3428 - val_accuracy: 0.8603\n",
      "Epoch 54/100\n",
      "32584/32584 [==============================] - 3s 81us/step - loss: 0.2871 - accuracy: 0.8790 - val_loss: 0.3009 - val_accuracy: 0.8696\n",
      "Epoch 55/100\n",
      "32584/32584 [==============================] - 3s 78us/step - loss: 0.2870 - accuracy: 0.8773 - val_loss: 0.3132 - val_accuracy: 0.8715\n"
     ]
    },
    {
     "name": "stdout",
     "output_type": "stream",
     "text": [
      "Epoch 56/100\n",
      "32584/32584 [==============================] - 2s 72us/step - loss: 0.2872 - accuracy: 0.8779 - val_loss: 0.2971 - val_accuracy: 0.8737\n",
      "Epoch 57/100\n",
      "32584/32584 [==============================] - 2s 75us/step - loss: 0.2846 - accuracy: 0.8770 - val_loss: 0.2918 - val_accuracy: 0.8756\n",
      "Epoch 58/100\n",
      "32584/32584 [==============================] - 2s 75us/step - loss: 0.2836 - accuracy: 0.8794 - val_loss: 0.3197 - val_accuracy: 0.8632\n",
      "Epoch 59/100\n",
      "32584/32584 [==============================] - 2s 73us/step - loss: 0.2851 - accuracy: 0.8785 - val_loss: 0.2937 - val_accuracy: 0.8743\n",
      "Epoch 60/100\n",
      "32584/32584 [==============================] - 2s 72us/step - loss: 0.2830 - accuracy: 0.8802 - val_loss: 0.3264 - val_accuracy: 0.8646\n",
      "Epoch 61/100\n",
      "32584/32584 [==============================] - 2s 74us/step - loss: 0.2827 - accuracy: 0.8798 - val_loss: 0.3017 - val_accuracy: 0.8788\n",
      "Epoch 62/100\n",
      "32584/32584 [==============================] - 3s 80us/step - loss: 0.2820 - accuracy: 0.8796 - val_loss: 0.2937 - val_accuracy: 0.8761\n",
      "Epoch 63/100\n",
      "32584/32584 [==============================] - 3s 87us/step - loss: 0.2816 - accuracy: 0.8787 - val_loss: 0.3016 - val_accuracy: 0.8839\n",
      "Epoch 64/100\n",
      "32584/32584 [==============================] - 3s 86us/step - loss: 0.2808 - accuracy: 0.8787 - val_loss: 0.2906 - val_accuracy: 0.8776\n",
      "Epoch 65/100\n",
      "32584/32584 [==============================] - 3s 83us/step - loss: 0.2830 - accuracy: 0.8785 - val_loss: 0.3045 - val_accuracy: 0.8841\n",
      "Epoch 66/100\n",
      "32584/32584 [==============================] - 3s 86us/step - loss: 0.2805 - accuracy: 0.8788 - val_loss: 0.2982 - val_accuracy: 0.8774\n",
      "Epoch 67/100\n",
      "32584/32584 [==============================] - 3s 84us/step - loss: 0.2792 - accuracy: 0.8812 - val_loss: 0.2994 - val_accuracy: 0.8696\n",
      "Epoch 68/100\n",
      "32584/32584 [==============================] - 3s 82us/step - loss: 0.2829 - accuracy: 0.8803 - val_loss: 0.2940 - val_accuracy: 0.8797\n",
      "Epoch 69/100\n",
      "32584/32584 [==============================] - 3s 78us/step - loss: 0.2804 - accuracy: 0.8810 - val_loss: 0.2948 - val_accuracy: 0.8722\n",
      "Epoch 70/100\n",
      "32584/32584 [==============================] - 2s 73us/step - loss: 0.2798 - accuracy: 0.8807 - val_loss: 0.2983 - val_accuracy: 0.8782\n",
      "Epoch 71/100\n",
      "32584/32584 [==============================] - 3s 77us/step - loss: 0.2794 - accuracy: 0.8811 - val_loss: 0.3049 - val_accuracy: 0.8648\n",
      "Epoch 72/100\n",
      "32584/32584 [==============================] - 2s 74us/step - loss: 0.2791 - accuracy: 0.8821 - val_loss: 0.2940 - val_accuracy: 0.8791\n",
      "Epoch 73/100\n",
      "32584/32584 [==============================] - 2s 74us/step - loss: 0.2785 - accuracy: 0.8807 - val_loss: 0.3103 - val_accuracy: 0.8683\n",
      "Epoch 74/100\n",
      "32584/32584 [==============================] - 3s 79us/step - loss: 0.2766 - accuracy: 0.8822 - val_loss: 0.2894 - val_accuracy: 0.8810\n",
      "Epoch 75/100\n",
      "32584/32584 [==============================] - 3s 81us/step - loss: 0.2775 - accuracy: 0.8816 - val_loss: 0.2926 - val_accuracy: 0.8737\n",
      "Epoch 76/100\n",
      "32584/32584 [==============================] - 2s 75us/step - loss: 0.2778 - accuracy: 0.8819 - val_loss: 0.2988 - val_accuracy: 0.8718\n",
      "Epoch 77/100\n",
      "32584/32584 [==============================] - 2s 74us/step - loss: 0.2745 - accuracy: 0.8827 - val_loss: 0.2982 - val_accuracy: 0.8855\n",
      "Epoch 78/100\n",
      "32584/32584 [==============================] - 2s 74us/step - loss: 0.2772 - accuracy: 0.8818 - val_loss: 0.2874 - val_accuracy: 0.8782\n",
      "Epoch 79/100\n",
      "32584/32584 [==============================] - 3s 79us/step - loss: 0.2766 - accuracy: 0.8832 - val_loss: 0.3376 - val_accuracy: 0.8731\n",
      "Epoch 80/100\n",
      "32584/32584 [==============================] - 2s 72us/step - loss: 0.2754 - accuracy: 0.8833 - val_loss: 0.3075 - val_accuracy: 0.8732\n",
      "Epoch 81/100\n",
      "32584/32584 [==============================] - 2s 75us/step - loss: 0.2775 - accuracy: 0.8822 - val_loss: 0.2898 - val_accuracy: 0.8779\n",
      "Epoch 82/100\n",
      "32584/32584 [==============================] - 3s 81us/step - loss: 0.2759 - accuracy: 0.8841 - val_loss: 0.2901 - val_accuracy: 0.8835\n",
      "Epoch 83/100\n",
      "32584/32584 [==============================] - 2s 74us/step - loss: 0.2761 - accuracy: 0.8814 - val_loss: 0.2959 - val_accuracy: 0.8732\n",
      "Epoch 84/100\n",
      "32584/32584 [==============================] - 2s 71us/step - loss: 0.2737 - accuracy: 0.8816 - val_loss: 0.3149 - val_accuracy: 0.8769\n",
      "Epoch 85/100\n",
      "32584/32584 [==============================] - 2s 71us/step - loss: 0.2747 - accuracy: 0.8834 - val_loss: 0.2961 - val_accuracy: 0.8799\n",
      "Epoch 86/100\n",
      "32584/32584 [==============================] - 3s 77us/step - loss: 0.2747 - accuracy: 0.8832 - val_loss: 0.3053 - val_accuracy: 0.8855\n",
      "Epoch 87/100\n",
      "32584/32584 [==============================] - 2s 76us/step - loss: 0.2774 - accuracy: 0.8813 - val_loss: 0.3081 - val_accuracy: 0.8826\n",
      "Epoch 88/100\n",
      "32584/32584 [==============================] - 2s 76us/step - loss: 0.2736 - accuracy: 0.8837 - val_loss: 0.2870 - val_accuracy: 0.8820\n",
      "Epoch 89/100\n",
      "32584/32584 [==============================] - 2s 70us/step - loss: 0.2761 - accuracy: 0.8826 - val_loss: 0.2897 - val_accuracy: 0.8781\n",
      "Epoch 90/100\n",
      "32584/32584 [==============================] - 2s 71us/step - loss: 0.2732 - accuracy: 0.8851 - val_loss: 0.2887 - val_accuracy: 0.8812\n",
      "Epoch 91/100\n",
      "32584/32584 [==============================] - 2s 71us/step - loss: 0.2750 - accuracy: 0.8821 - val_loss: 0.2953 - val_accuracy: 0.8743\n",
      "Epoch 92/100\n",
      "32584/32584 [==============================] - 2s 71us/step - loss: 0.2757 - accuracy: 0.8819 - val_loss: 0.3180 - val_accuracy: 0.8720\n",
      "Epoch 93/100\n",
      "32584/32584 [==============================] - 2s 73us/step - loss: 0.2734 - accuracy: 0.8828 - val_loss: 0.2890 - val_accuracy: 0.8842\n",
      "Epoch 94/100\n",
      "32584/32584 [==============================] - 2s 77us/step - loss: 0.2718 - accuracy: 0.8835 - val_loss: 0.2892 - val_accuracy: 0.8830\n",
      "Epoch 95/100\n",
      "32584/32584 [==============================] - 2s 75us/step - loss: 0.2724 - accuracy: 0.8830 - val_loss: 0.2877 - val_accuracy: 0.8820\n",
      "Epoch 96/100\n",
      "32584/32584 [==============================] - 3s 83us/step - loss: 0.2703 - accuracy: 0.8853 - val_loss: 0.2833 - val_accuracy: 0.8894\n",
      "Epoch 97/100\n",
      "32584/32584 [==============================] - 2s 70us/step - loss: 0.2698 - accuracy: 0.8853 - val_loss: 0.2896 - val_accuracy: 0.8739\n",
      "Epoch 98/100\n",
      "32584/32584 [==============================] - 2s 71us/step - loss: 0.2713 - accuracy: 0.8866 - val_loss: 0.2886 - val_accuracy: 0.8883\n",
      "Epoch 99/100\n",
      "32584/32584 [==============================] - 2s 75us/step - loss: 0.2712 - accuracy: 0.8865 - val_loss: 0.2892 - val_accuracy: 0.8755\n",
      "Epoch 100/100\n",
      "32584/32584 [==============================] - 3s 79us/step - loss: 0.2714 - accuracy: 0.8836 - val_loss: 0.2921 - val_accuracy: 0.8813\n"
     ]
    }
   ],
   "source": [
    "relu_model_history = relu_model.fit(X_train_std, \n",
    "                                    y_train, \n",
    "                                    epochs=100,\n",
    "                                    batch_size=best_params['best_batch_size'],\n",
    "                                    validation_split=0.2, shuffle=True)"
   ]
  },
  {
   "cell_type": "markdown",
   "metadata": {},
   "source": [
    "#### Predictions"
   ]
  },
  {
   "cell_type": "code",
   "execution_count": 125,
   "metadata": {},
   "outputs": [],
   "source": [
    "train_relu_model_pred = relu_model.predict_classes(X_train_std)\n",
    "test_relu_model_pred = relu_model.predict_classes(X_test_std)"
   ]
  },
  {
   "cell_type": "markdown",
   "metadata": {},
   "source": [
    "#### Getting evaluation metrics and evaluating model performance"
   ]
  },
  {
   "cell_type": "code",
   "execution_count": 126,
   "metadata": {},
   "outputs": [
    {
     "name": "stdout",
     "output_type": "stream",
     "text": [
      "Train metrics\n",
      "Confusion matrix\n",
      "[[31569  1483]\n",
      " [ 3155  4523]]\n",
      "----------------------------------------------\n",
      "Accuracy:  0.8861281610606433\n",
      "Precission:  0.9091406519986177\n",
      "Recall:  0.9551313082415588\n",
      "F1 Score:  0.9315686968838527\n",
      "\n",
      "==============================================\n",
      "\n",
      "Test metrics\n",
      "Confusion matrix\n",
      "[[13504   661]\n",
      " [ 1409  1882]]\n",
      "----------------------------------------------\n",
      "Accuracy:  0.8814161319890009\n",
      "Precission:  0.9055186749815597\n",
      "Recall:  0.953335686551359\n",
      "F1 Score:  0.9288121603961759\n"
     ]
    }
   ],
   "source": [
    "compute_metrics(train_relu_model_pred, y_train, test_relu_model_pred, y_test)"
   ]
  },
  {
   "cell_type": "code",
   "execution_count": 127,
   "metadata": {},
   "outputs": [],
   "source": [
    "best_params['best_h_activation']='relu'\n",
    "best_params['best_kernel_init']='glorot_normal'\n",
    "best_params['best_optimizer']='adam'"
   ]
  },
  {
   "cell_type": "markdown",
   "metadata": {},
   "source": [
    "#### Model with Dropout"
   ]
  },
  {
   "cell_type": "code",
   "execution_count": 128,
   "metadata": {},
   "outputs": [],
   "source": [
    "np.random.seed(123)\n",
    "tf.set_random_seed(123)"
   ]
  },
  {
   "cell_type": "code",
   "execution_count": 129,
   "metadata": {},
   "outputs": [],
   "source": [
    "dropout_model = models.Sequential()\n",
    "dropout_model.add(layers.Dense(25, input_dim=21, activation='relu', kernel_initializer=\"glorot_normal\"))\n",
    "dropout_model.add(Dropout(0.5))\n",
    "dropout_model.add(Dense(15, activation='relu', kernel_initializer=\"glorot_normal\"))\n",
    "dropout_model.add(Dropout(0.5))\n",
    "dropout_model.add(Dense(1, activation='sigmoid',kernel_initializer=\"glorot_normal\"))"
   ]
  },
  {
   "cell_type": "code",
   "execution_count": 130,
   "metadata": {},
   "outputs": [
    {
     "name": "stdout",
     "output_type": "stream",
     "text": [
      "Model: \"sequential_27\"\n",
      "_________________________________________________________________\n",
      "Layer (type)                 Output Shape              Param #   \n",
      "=================================================================\n",
      "dense_75 (Dense)             (None, 25)                550       \n",
      "_________________________________________________________________\n",
      "dropout_1 (Dropout)          (None, 25)                0         \n",
      "_________________________________________________________________\n",
      "dense_76 (Dense)             (None, 15)                390       \n",
      "_________________________________________________________________\n",
      "dropout_2 (Dropout)          (None, 15)                0         \n",
      "_________________________________________________________________\n",
      "dense_77 (Dense)             (None, 1)                 16        \n",
      "=================================================================\n",
      "Total params: 956\n",
      "Trainable params: 956\n",
      "Non-trainable params: 0\n",
      "_________________________________________________________________\n"
     ]
    }
   ],
   "source": [
    "dropout_model.summary()"
   ]
  },
  {
   "cell_type": "code",
   "execution_count": 131,
   "metadata": {},
   "outputs": [],
   "source": [
    "dropout_model.compile(loss='binary_crossentropy', optimizer='adam', metrics=['accuracy'])"
   ]
  },
  {
   "cell_type": "code",
   "execution_count": 132,
   "metadata": {
    "scrolled": true
   },
   "outputs": [
    {
     "name": "stdout",
     "output_type": "stream",
     "text": [
      "Train on 32584 samples, validate on 8146 samples\n",
      "Epoch 1/100\n",
      "32584/32584 [==============================] - 4s 108us/step - loss: 0.5185 - accuracy: 0.8073 - val_loss: 0.4798 - val_accuracy: 0.8046\n",
      "Epoch 2/100\n",
      "32584/32584 [==============================] - 3s 85us/step - loss: 0.4782 - accuracy: 0.8129 - val_loss: 0.4751 - val_accuracy: 0.8052\n",
      "Epoch 3/100\n",
      "32584/32584 [==============================] - 3s 86us/step - loss: 0.4681 - accuracy: 0.8136 - val_loss: 0.4704 - val_accuracy: 0.8051\n",
      "Epoch 4/100\n",
      "32584/32584 [==============================] - 3s 86us/step - loss: 0.4611 - accuracy: 0.8131 - val_loss: 0.4638 - val_accuracy: 0.8047\n",
      "Epoch 5/100\n",
      "32584/32584 [==============================] - 3s 81us/step - loss: 0.4585 - accuracy: 0.8133 - val_loss: 0.4593 - val_accuracy: 0.8046\n",
      "Epoch 6/100\n",
      "32584/32584 [==============================] - 3s 81us/step - loss: 0.4509 - accuracy: 0.8133 - val_loss: 0.4518 - val_accuracy: 0.8047\n",
      "Epoch 7/100\n",
      "32584/32584 [==============================] - 3s 80us/step - loss: 0.4482 - accuracy: 0.8137 - val_loss: 0.4489 - val_accuracy: 0.8054\n",
      "Epoch 8/100\n",
      "32584/32584 [==============================] - 2s 74us/step - loss: 0.4463 - accuracy: 0.8136 - val_loss: 0.4430 - val_accuracy: 0.8046\n",
      "Epoch 9/100\n",
      "32584/32584 [==============================] - 2s 75us/step - loss: 0.4397 - accuracy: 0.8147 - val_loss: 0.4374 - val_accuracy: 0.8052\n",
      "Epoch 10/100\n",
      "32584/32584 [==============================] - 2s 74us/step - loss: 0.4380 - accuracy: 0.8148 - val_loss: 0.4376 - val_accuracy: 0.8059\n",
      "Epoch 11/100\n",
      "32584/32584 [==============================] - 2s 76us/step - loss: 0.4334 - accuracy: 0.8143 - val_loss: 0.4286 - val_accuracy: 0.8063\n",
      "Epoch 12/100\n",
      "32584/32584 [==============================] - 2s 75us/step - loss: 0.4294 - accuracy: 0.8158 - val_loss: 0.4261 - val_accuracy: 0.8070\n",
      "Epoch 13/100\n",
      "32584/32584 [==============================] - 2s 74us/step - loss: 0.4281 - accuracy: 0.8168 - val_loss: 0.4235 - val_accuracy: 0.8067\n",
      "Epoch 14/100\n",
      "32584/32584 [==============================] - 3s 77us/step - loss: 0.4249 - accuracy: 0.8177 - val_loss: 0.4151 - val_accuracy: 0.8071\n",
      "Epoch 15/100\n",
      "32584/32584 [==============================] - 2s 75us/step - loss: 0.4207 - accuracy: 0.8179 - val_loss: 0.4135 - val_accuracy: 0.8062\n",
      "Epoch 16/100\n",
      "32584/32584 [==============================] - 3s 77us/step - loss: 0.4192 - accuracy: 0.8183 - val_loss: 0.4091 - val_accuracy: 0.8091\n",
      "Epoch 17/100\n",
      "32584/32584 [==============================] - 3s 77us/step - loss: 0.4180 - accuracy: 0.8196 - val_loss: 0.4043 - val_accuracy: 0.8082\n",
      "Epoch 18/100\n",
      "32584/32584 [==============================] - 2s 76us/step - loss: 0.4139 - accuracy: 0.8203 - val_loss: 0.3998 - val_accuracy: 0.8133\n",
      "Epoch 19/100\n",
      "32584/32584 [==============================] - 3s 82us/step - loss: 0.4068 - accuracy: 0.8221 - val_loss: 0.3963 - val_accuracy: 0.8116\n",
      "Epoch 20/100\n",
      "32584/32584 [==============================] - 3s 81us/step - loss: 0.4040 - accuracy: 0.8229 - val_loss: 0.4020 - val_accuracy: 0.8263\n",
      "Epoch 21/100\n",
      "32584/32584 [==============================] - 3s 80us/step - loss: 0.3998 - accuracy: 0.8232 - val_loss: 0.3793 - val_accuracy: 0.8269\n",
      "Epoch 22/100\n",
      "32584/32584 [==============================] - 3s 83us/step - loss: 0.3991 - accuracy: 0.8247 - val_loss: 0.3829 - val_accuracy: 0.8265\n",
      "Epoch 23/100\n",
      "32584/32584 [==============================] - 3s 78us/step - loss: 0.3997 - accuracy: 0.8265 - val_loss: 0.3732 - val_accuracy: 0.8268\n",
      "Epoch 24/100\n",
      "32584/32584 [==============================] - 3s 80us/step - loss: 0.3988 - accuracy: 0.8270 - val_loss: 0.3818 - val_accuracy: 0.8270\n",
      "Epoch 25/100\n",
      "32584/32584 [==============================] - 3s 81us/step - loss: 0.3898 - accuracy: 0.8260 - val_loss: 0.3841 - val_accuracy: 0.8274\n",
      "Epoch 26/100\n",
      "32584/32584 [==============================] - 2s 77us/step - loss: 0.3917 - accuracy: 0.8277 - val_loss: 0.3663 - val_accuracy: 0.8337\n",
      "Epoch 27/100\n",
      "32584/32584 [==============================] - 2s 76us/step - loss: 0.3870 - accuracy: 0.8303 - val_loss: 0.3893 - val_accuracy: 0.8267\n",
      "Epoch 28/100\n",
      "32584/32584 [==============================] - 2s 76us/step - loss: 0.3834 - accuracy: 0.8304 - val_loss: 0.3600 - val_accuracy: 0.8407\n",
      "Epoch 29/100\n",
      "32584/32584 [==============================] - 2s 74us/step - loss: 0.3860 - accuracy: 0.8315 - val_loss: 0.3576 - val_accuracy: 0.8378\n",
      "Epoch 30/100\n",
      "32584/32584 [==============================] - 2s 75us/step - loss: 0.3836 - accuracy: 0.8306 - val_loss: 0.3696 - val_accuracy: 0.8330\n",
      "Epoch 31/100\n",
      "32584/32584 [==============================] - 2s 74us/step - loss: 0.3780 - accuracy: 0.8331 - val_loss: 0.3785 - val_accuracy: 0.8585\n",
      "Epoch 32/100\n",
      "32584/32584 [==============================] - 3s 82us/step - loss: 0.3793 - accuracy: 0.8332 - val_loss: 0.3495 - val_accuracy: 0.8380\n",
      "Epoch 33/100\n",
      "32584/32584 [==============================] - 3s 85us/step - loss: 0.3751 - accuracy: 0.8336 - val_loss: 0.3504 - val_accuracy: 0.8446\n",
      "Epoch 34/100\n",
      "32584/32584 [==============================] - 3s 81us/step - loss: 0.3764 - accuracy: 0.8317 - val_loss: 0.3461 - val_accuracy: 0.8438\n",
      "Epoch 35/100\n",
      "32584/32584 [==============================] - 3s 81us/step - loss: 0.3730 - accuracy: 0.8333 - val_loss: 0.3640 - val_accuracy: 0.8371\n",
      "Epoch 36/100\n",
      "32584/32584 [==============================] - 3s 82us/step - loss: 0.3712 - accuracy: 0.8353 - val_loss: 0.3704 - val_accuracy: 0.8360\n",
      "Epoch 37/100\n",
      "32584/32584 [==============================] - 3s 78us/step - loss: 0.3734 - accuracy: 0.8360 - val_loss: 0.3428 - val_accuracy: 0.8488\n",
      "Epoch 38/100\n",
      "32584/32584 [==============================] - 3s 81us/step - loss: 0.3731 - accuracy: 0.8346 - val_loss: 0.3466 - val_accuracy: 0.8466\n",
      "Epoch 39/100\n",
      "32584/32584 [==============================] - 2s 75us/step - loss: 0.3690 - accuracy: 0.8363 - val_loss: 0.3420 - val_accuracy: 0.8392\n",
      "Epoch 40/100\n",
      "32584/32584 [==============================] - 2s 76us/step - loss: 0.3760 - accuracy: 0.8365 - val_loss: 0.3334 - val_accuracy: 0.8554\n",
      "Epoch 41/100\n",
      "32584/32584 [==============================] - 2s 75us/step - loss: 0.3716 - accuracy: 0.8335 - val_loss: 0.3629 - val_accuracy: 0.8354\n",
      "Epoch 42/100\n",
      "32584/32584 [==============================] - 2s 74us/step - loss: 0.3694 - accuracy: 0.8368 - val_loss: 0.3376 - val_accuracy: 0.8581\n",
      "Epoch 43/100\n",
      "32584/32584 [==============================] - 2s 74us/step - loss: 0.3687 - accuracy: 0.8371 - val_loss: 0.3345 - val_accuracy: 0.8554\n",
      "Epoch 44/100\n",
      "32584/32584 [==============================] - 2s 76us/step - loss: 0.3691 - accuracy: 0.8360 - val_loss: 0.3342 - val_accuracy: 0.8507\n",
      "Epoch 45/100\n",
      "32584/32584 [==============================] - 2s 75us/step - loss: 0.3696 - accuracy: 0.8382 - val_loss: 0.3377 - val_accuracy: 0.8639\n",
      "Epoch 46/100\n",
      "32584/32584 [==============================] - 3s 84us/step - loss: 0.3753 - accuracy: 0.8359 - val_loss: 0.3538 - val_accuracy: 0.8418\n",
      "Epoch 47/100\n",
      "32584/32584 [==============================] - 3s 82us/step - loss: 0.3656 - accuracy: 0.8391 - val_loss: 0.3361 - val_accuracy: 0.8620\n",
      "Epoch 48/100\n",
      "32584/32584 [==============================] - 3s 85us/step - loss: 0.3723 - accuracy: 0.8372 - val_loss: 0.3369 - val_accuracy: 0.8438\n",
      "Epoch 49/100\n",
      "32584/32584 [==============================] - 3s 88us/step - loss: 0.3662 - accuracy: 0.8379 - val_loss: 0.3290 - val_accuracy: 0.8575\n",
      "Epoch 50/100\n",
      "32584/32584 [==============================] - 3s 77us/step - loss: 0.3711 - accuracy: 0.8358 - val_loss: 0.3331 - val_accuracy: 0.8538\n",
      "Epoch 51/100\n",
      "32584/32584 [==============================] - 3s 83us/step - loss: 0.3654 - accuracy: 0.8398 - val_loss: 0.3320 - val_accuracy: 0.8555\n",
      "Epoch 52/100\n",
      "32584/32584 [==============================] - 3s 90us/step - loss: 0.3643 - accuracy: 0.8398 - val_loss: 0.3445 - val_accuracy: 0.8441\n",
      "Epoch 53/100\n",
      "32584/32584 [==============================] - 3s 82us/step - loss: 0.3644 - accuracy: 0.8388 - val_loss: 0.3277 - val_accuracy: 0.8524\n",
      "Epoch 54/100\n",
      "32584/32584 [==============================] - 3s 83us/step - loss: 0.3581 - accuracy: 0.8409 - val_loss: 0.3309 - val_accuracy: 0.8488\n",
      "Epoch 55/100\n",
      "32584/32584 [==============================] - 3s 82us/step - loss: 0.3631 - accuracy: 0.8400 - val_loss: 0.3414 - val_accuracy: 0.8419\n"
     ]
    },
    {
     "name": "stdout",
     "output_type": "stream",
     "text": [
      "Epoch 56/100\n",
      "32584/32584 [==============================] - 3s 83us/step - loss: 0.3607 - accuracy: 0.8385 - val_loss: 0.3335 - val_accuracy: 0.8497\n",
      "Epoch 57/100\n",
      "32584/32584 [==============================] - 3s 82us/step - loss: 0.3596 - accuracy: 0.8416 - val_loss: 0.3233 - val_accuracy: 0.8620\n",
      "Epoch 58/100\n",
      "32584/32584 [==============================] - 3s 78us/step - loss: 0.3626 - accuracy: 0.8408 - val_loss: 0.3300 - val_accuracy: 0.8610\n",
      "Epoch 59/100\n",
      "32584/32584 [==============================] - 3s 83us/step - loss: 0.3575 - accuracy: 0.8409 - val_loss: 0.3230 - val_accuracy: 0.8587\n",
      "Epoch 60/100\n",
      "32584/32584 [==============================] - 2s 75us/step - loss: 0.3624 - accuracy: 0.8406 - val_loss: 0.3266 - val_accuracy: 0.8566\n",
      "Epoch 61/100\n",
      "32584/32584 [==============================] - 2s 75us/step - loss: 0.3621 - accuracy: 0.8401 - val_loss: 0.3314 - val_accuracy: 0.8526\n",
      "Epoch 62/100\n",
      "32584/32584 [==============================] - 3s 79us/step - loss: 0.3606 - accuracy: 0.8427 - val_loss: 0.3397 - val_accuracy: 0.8357\n",
      "Epoch 63/100\n",
      "32584/32584 [==============================] - 3s 83us/step - loss: 0.3598 - accuracy: 0.8430 - val_loss: 0.3263 - val_accuracy: 0.8558\n",
      "Epoch 64/100\n",
      "32584/32584 [==============================] - 2s 77us/step - loss: 0.3613 - accuracy: 0.8446 - val_loss: 0.3154 - val_accuracy: 0.8644\n",
      "Epoch 65/100\n",
      "32584/32584 [==============================] - 2s 74us/step - loss: 0.3581 - accuracy: 0.8405 - val_loss: 0.3346 - val_accuracy: 0.8470\n",
      "Epoch 66/100\n",
      "32584/32584 [==============================] - 2s 75us/step - loss: 0.3679 - accuracy: 0.8429 - val_loss: 0.3297 - val_accuracy: 0.8701\n",
      "Epoch 67/100\n",
      "32584/32584 [==============================] - 2s 75us/step - loss: 0.3614 - accuracy: 0.8390 - val_loss: 0.3385 - val_accuracy: 0.8411\n",
      "Epoch 68/100\n",
      "32584/32584 [==============================] - 2s 76us/step - loss: 0.3586 - accuracy: 0.8399 - val_loss: 0.3315 - val_accuracy: 0.8531\n",
      "Epoch 69/100\n",
      "32584/32584 [==============================] - 2s 75us/step - loss: 0.3656 - accuracy: 0.8422 - val_loss: 0.3229 - val_accuracy: 0.8702\n",
      "Epoch 70/100\n",
      "32584/32584 [==============================] - 3s 84us/step - loss: 0.3595 - accuracy: 0.8425 - val_loss: 0.3232 - val_accuracy: 0.8542\n",
      "Epoch 71/100\n",
      "32584/32584 [==============================] - 3s 84us/step - loss: 0.3601 - accuracy: 0.8428 - val_loss: 0.3257 - val_accuracy: 0.8470\n",
      "Epoch 72/100\n",
      "32584/32584 [==============================] - 3s 86us/step - loss: 0.3592 - accuracy: 0.8405 - val_loss: 0.3211 - val_accuracy: 0.8533\n",
      "Epoch 73/100\n",
      "32584/32584 [==============================] - 3s 79us/step - loss: 0.3628 - accuracy: 0.8411 - val_loss: 0.3277 - val_accuracy: 0.8646\n",
      "Epoch 74/100\n",
      "32584/32584 [==============================] - 3s 77us/step - loss: 0.3595 - accuracy: 0.8408 - val_loss: 0.3258 - val_accuracy: 0.8555\n",
      "Epoch 75/100\n",
      "32584/32584 [==============================] - 3s 78us/step - loss: 0.3562 - accuracy: 0.8408 - val_loss: 0.3282 - val_accuracy: 0.8567\n",
      "Epoch 76/100\n",
      "32584/32584 [==============================] - 3s 93us/step - loss: 0.3599 - accuracy: 0.8441 - val_loss: 0.3210 - val_accuracy: 0.8671\n",
      "Epoch 77/100\n",
      "32584/32584 [==============================] - 3s 79us/step - loss: 0.3673 - accuracy: 0.8402 - val_loss: 0.3443 - val_accuracy: 0.8360\n",
      "Epoch 78/100\n",
      "32584/32584 [==============================] - 3s 89us/step - loss: 0.3665 - accuracy: 0.8395 - val_loss: 0.3250 - val_accuracy: 0.8545\n",
      "Epoch 79/100\n",
      "32584/32584 [==============================] - 3s 81us/step - loss: 0.3531 - accuracy: 0.8435 - val_loss: 0.3250 - val_accuracy: 0.8419\n",
      "Epoch 80/100\n",
      "32584/32584 [==============================] - 3s 78us/step - loss: 0.3555 - accuracy: 0.8429 - val_loss: 0.3161 - val_accuracy: 0.8575\n",
      "Epoch 81/100\n",
      "32584/32584 [==============================] - 3s 85us/step - loss: 0.3547 - accuracy: 0.8462 - val_loss: 0.3181 - val_accuracy: 0.8646\n",
      "Epoch 82/100\n",
      "32584/32584 [==============================] - 3s 81us/step - loss: 0.3610 - accuracy: 0.8409 - val_loss: 0.3286 - val_accuracy: 0.8518\n",
      "Epoch 83/100\n",
      "32584/32584 [==============================] - 3s 85us/step - loss: 0.3535 - accuracy: 0.8437 - val_loss: 0.3247 - val_accuracy: 0.8620\n",
      "Epoch 84/100\n",
      "32584/32584 [==============================] - 3s 89us/step - loss: 0.3580 - accuracy: 0.8431 - val_loss: 0.3034 - val_accuracy: 0.8795\n",
      "Epoch 85/100\n",
      "32584/32584 [==============================] - 3s 97us/step - loss: 0.3569 - accuracy: 0.8454 - val_loss: 0.3334 - val_accuracy: 0.8427\n",
      "Epoch 86/100\n",
      "32584/32584 [==============================] - 3s 92us/step - loss: 0.3533 - accuracy: 0.8449 - val_loss: 0.3149 - val_accuracy: 0.8680\n",
      "Epoch 87/100\n",
      "32584/32584 [==============================] - 3s 87us/step - loss: 0.3577 - accuracy: 0.8446 - val_loss: 0.3263 - val_accuracy: 0.8645\n",
      "Epoch 88/100\n",
      "32584/32584 [==============================] - 3s 84us/step - loss: 0.3538 - accuracy: 0.8456 - val_loss: 0.3389 - val_accuracy: 0.8457\n",
      "Epoch 89/100\n",
      "32584/32584 [==============================] - 3s 79us/step - loss: 0.3577 - accuracy: 0.8424 - val_loss: 0.3317 - val_accuracy: 0.8545\n",
      "Epoch 90/100\n",
      "32584/32584 [==============================] - 2s 76us/step - loss: 0.3563 - accuracy: 0.8423 - val_loss: 0.3202 - val_accuracy: 0.8576\n",
      "Epoch 91/100\n",
      "32584/32584 [==============================] - 3s 77us/step - loss: 0.3558 - accuracy: 0.8436 - val_loss: 0.3093 - val_accuracy: 0.8640\n",
      "Epoch 92/100\n",
      "32584/32584 [==============================] - 2s 76us/step - loss: 0.3537 - accuracy: 0.8451 - val_loss: 0.3231 - val_accuracy: 0.8675\n",
      "Epoch 93/100\n",
      "32584/32584 [==============================] - 3s 77us/step - loss: 0.3512 - accuracy: 0.8448 - val_loss: 0.3486 - val_accuracy: 0.8629\n",
      "Epoch 94/100\n",
      "32584/32584 [==============================] - 3s 88us/step - loss: 0.3508 - accuracy: 0.8453 - val_loss: 0.3116 - val_accuracy: 0.8648\n",
      "Epoch 95/100\n",
      "32584/32584 [==============================] - 3s 86us/step - loss: 0.3582 - accuracy: 0.8444 - val_loss: 0.3159 - val_accuracy: 0.8669\n",
      "Epoch 96/100\n",
      "32584/32584 [==============================] - 3s 79us/step - loss: 0.3575 - accuracy: 0.8433 - val_loss: 0.3225 - val_accuracy: 0.8680\n",
      "Epoch 97/100\n",
      "32584/32584 [==============================] - 3s 82us/step - loss: 0.3603 - accuracy: 0.8451 - val_loss: 0.3163 - val_accuracy: 0.8607\n",
      "Epoch 98/100\n",
      "32584/32584 [==============================] - 2s 77us/step - loss: 0.3511 - accuracy: 0.8464 - val_loss: 0.3180 - val_accuracy: 0.8599\n",
      "Epoch 99/100\n",
      "32584/32584 [==============================] - 3s 77us/step - loss: 0.3478 - accuracy: 0.8467 - val_loss: 0.3145 - val_accuracy: 0.8715\n",
      "Epoch 100/100\n",
      "32584/32584 [==============================] - 3s 78us/step - loss: 0.3608 - accuracy: 0.8446 - val_loss: 0.3161 - val_accuracy: 0.8646\n"
     ]
    }
   ],
   "source": [
    "dropout_model_history = dropout_model.fit(X_train_std, y_train, epochs=100,\n",
    "                                          batch_size=best_params['best_batch_size'], \n",
    "                                          validation_split=0.2, shuffle=True)"
   ]
  },
  {
   "cell_type": "markdown",
   "metadata": {},
   "source": [
    "##### Plot"
   ]
  },
  {
   "cell_type": "code",
   "execution_count": 133,
   "metadata": {},
   "outputs": [
    {
     "name": "stdout",
     "output_type": "stream",
     "text": [
      "dict_keys(['val_loss', 'val_accuracy', 'loss', 'accuracy'])\n"
     ]
    }
   ],
   "source": [
    "print(dropout_model.history.history.keys())"
   ]
  },
  {
   "cell_type": "code",
   "execution_count": 134,
   "metadata": {},
   "outputs": [
    {
     "data": {
      "image/png": "[encoded data removed]",
      "text/plain": [
       "<Figure size 432x288 with 1 Axes>"
      ]
     },
     "metadata": {
      "needs_background": "light"
     },
     "output_type": "display_data"
    }
   ],
   "source": [
    "accuracy_plot(dropout_model.history)"
   ]
  },
  {
   "cell_type": "code",
   "execution_count": 135,
   "metadata": {},
   "outputs": [
    {
     "data": {
      "image/png": "[encoded data removed]",
      "text/plain": [
       "<Figure size 432x288 with 1 Axes>"
      ]
     },
     "metadata": {
      "needs_background": "light"
     },
     "output_type": "display_data"
    }
   ],
   "source": [
    "loss_plot(dropout_model.history)"
   ]
  },
  {
   "cell_type": "markdown",
   "metadata": {},
   "source": [
    "#### Predictions"
   ]
  },
  {
   "cell_type": "code",
   "execution_count": 136,
   "metadata": {},
   "outputs": [],
   "source": [
    "train_dropout_model_pred = dropout_model.predict_classes(X_train_std)\n",
    "test_dropout_model_pred = dropout_model.predict_classes(X_test_std)"
   ]
  },
  {
   "cell_type": "markdown",
   "metadata": {},
   "source": [
    "#### Getting evaluation metrics and evaluating model performance"
   ]
  },
  {
   "cell_type": "code",
   "execution_count": 137,
   "metadata": {},
   "outputs": [
    {
     "name": "stdout",
     "output_type": "stream",
     "text": [
      "Train metrics\n",
      "Confusion matrix\n",
      "[[32122   930]\n",
      " [ 4417  3261]]\n",
      "----------------------------------------------\n",
      "Accuracy:  0.8687208445863001\n",
      "Precission:  0.8791154656668217\n",
      "Recall:  0.9718625196659809\n",
      "F1 Score:  0.9231653518414737\n",
      "\n",
      "==============================================\n",
      "\n",
      "Test metrics\n",
      "Confusion matrix\n",
      "[[13768   397]\n",
      " [ 1898  1393]]\n",
      "----------------------------------------------\n",
      "Accuracy:  0.8685265811182401\n",
      "Precission:  0.878845908336525\n",
      "Recall:  0.9719731733145076\n",
      "F1 Score:  0.9230666085615635\n"
     ]
    }
   ],
   "source": [
    "compute_metrics(train_dropout_model_pred, y_train, test_dropout_model_pred, y_test)"
   ]
  },
  {
   "cell_type": "markdown",
   "metadata": {},
   "source": [
    "#### Model with Batch Normalization"
   ]
  },
  {
   "cell_type": "code",
   "execution_count": 138,
   "metadata": {},
   "outputs": [],
   "source": [
    "np.random.seed(123)\n",
    "tf.set_random_seed(123)"
   ]
  },
  {
   "cell_type": "code",
   "execution_count": 139,
   "metadata": {},
   "outputs": [],
   "source": [
    "bn_model = Sequential()\n",
    "bn_model.add(Dense(25, input_dim=21, activation='relu', kernel_initializer=\"glorot_normal\"))\n",
    "bn_model.add(BatchNormalization())\n",
    "bn_model.add(Dense(15, activation='relu', kernel_initializer=\"glorot_normal\"))\n",
    "bn_model.add(BatchNormalization())\n",
    "bn_model.add(Dense(1, activation='sigmoid',kernel_initializer=\"glorot_normal\"))"
   ]
  },
  {
   "cell_type": "code",
   "execution_count": 140,
   "metadata": {},
   "outputs": [
    {
     "name": "stdout",
     "output_type": "stream",
     "text": [
      "Model: \"sequential_28\"\n",
      "_________________________________________________________________\n",
      "Layer (type)                 Output Shape              Param #   \n",
      "=================================================================\n",
      "dense_78 (Dense)             (None, 25)                550       \n",
      "_________________________________________________________________\n",
      "batch_normalization_1 (Batch (None, 25)                100       \n",
      "_________________________________________________________________\n",
      "dense_79 (Dense)             (None, 15)                390       \n",
      "_________________________________________________________________\n",
      "batch_normalization_2 (Batch (None, 15)                60        \n",
      "_________________________________________________________________\n",
      "dense_80 (Dense)             (None, 1)                 16        \n",
      "=================================================================\n",
      "Total params: 1,116\n",
      "Trainable params: 1,036\n",
      "Non-trainable params: 80\n",
      "_________________________________________________________________\n"
     ]
    }
   ],
   "source": [
    "bn_model.summary()"
   ]
  },
  {
   "cell_type": "code",
   "execution_count": 141,
   "metadata": {},
   "outputs": [],
   "source": [
    "bn_model.compile(loss='binary_crossentropy', optimizer='adam', metrics=['accuracy'])"
   ]
  },
  {
   "cell_type": "code",
   "execution_count": 142,
   "metadata": {},
   "outputs": [
    {
     "name": "stdout",
     "output_type": "stream",
     "text": [
      "Train on 32584 samples, validate on 8146 samples\n",
      "Epoch 1/100\n",
      "32584/32584 [==============================] - 5s 140us/step - loss: 0.4830 - accuracy: 0.7951 - val_loss: 0.4794 - val_accuracy: 0.8103\n",
      "Epoch 2/100\n",
      "32584/32584 [==============================] - 4s 108us/step - loss: 0.4231 - accuracy: 0.8228 - val_loss: 0.4822 - val_accuracy: 0.8086\n",
      "Epoch 3/100\n",
      "32584/32584 [==============================] - 3s 107us/step - loss: 0.4020 - accuracy: 0.8295 - val_loss: 0.4514 - val_accuracy: 0.8154\n",
      "Epoch 4/100\n",
      "32584/32584 [==============================] - 4s 108us/step - loss: 0.3847 - accuracy: 0.8363 - val_loss: 0.4540 - val_accuracy: 0.8141\n",
      "Epoch 5/100\n",
      "32584/32584 [==============================] - 4s 117us/step - loss: 0.3674 - accuracy: 0.8427 - val_loss: 0.4427 - val_accuracy: 0.8157\n",
      "Epoch 6/100\n",
      "32584/32584 [==============================] - 4s 112us/step - loss: 0.3543 - accuracy: 0.8497 - val_loss: 0.4378 - val_accuracy: 0.8233\n",
      "Epoch 7/100\n",
      "32584/32584 [==============================] - 4s 112us/step - loss: 0.3525 - accuracy: 0.8488 - val_loss: 0.4262 - val_accuracy: 0.8184\n",
      "Epoch 8/100\n",
      "32584/32584 [==============================] - 3s 107us/step - loss: 0.3450 - accuracy: 0.8527 - val_loss: 0.4808 - val_accuracy: 0.8182\n",
      "Epoch 9/100\n",
      "32584/32584 [==============================] - 4s 116us/step - loss: 0.3349 - accuracy: 0.8561 - val_loss: 0.4567 - val_accuracy: 0.8101\n",
      "Epoch 10/100\n",
      "32584/32584 [==============================] - 4s 118us/step - loss: 0.3323 - accuracy: 0.8578 - val_loss: 0.4442 - val_accuracy: 0.8108\n",
      "Epoch 11/100\n",
      "32584/32584 [==============================] - 3s 106us/step - loss: 0.3230 - accuracy: 0.8625 - val_loss: 0.4572 - val_accuracy: 0.8151\n",
      "Epoch 12/100\n",
      "32584/32584 [==============================] - 3s 100us/step - loss: 0.3347 - accuracy: 0.8562 - val_loss: 0.4996 - val_accuracy: 0.8117\n",
      "Epoch 13/100\n",
      "32584/32584 [==============================] - 3s 101us/step - loss: 0.3388 - accuracy: 0.8528 - val_loss: 0.4118 - val_accuracy: 0.8224\n",
      "Epoch 14/100\n",
      "32584/32584 [==============================] - 3s 101us/step - loss: 0.3358 - accuracy: 0.8543 - val_loss: 0.4537 - val_accuracy: 0.8184\n",
      "Epoch 15/100\n",
      "32584/32584 [==============================] - 3s 101us/step - loss: 0.3313 - accuracy: 0.8575 - val_loss: 0.4134 - val_accuracy: 0.8251\n",
      "Epoch 16/100\n",
      "32584/32584 [==============================] - 3s 101us/step - loss: 0.3264 - accuracy: 0.8594 - val_loss: 0.4645 - val_accuracy: 0.8111\n",
      "Epoch 17/100\n",
      "32584/32584 [==============================] - 3s 101us/step - loss: 0.3246 - accuracy: 0.8606 - val_loss: 0.4477 - val_accuracy: 0.8125\n",
      "Epoch 18/100\n",
      "32584/32584 [==============================] - 3s 102us/step - loss: 0.3172 - accuracy: 0.8630 - val_loss: 0.4736 - val_accuracy: 0.8110\n",
      "Epoch 19/100\n",
      "32584/32584 [==============================] - 3s 102us/step - loss: 0.3103 - accuracy: 0.8667 - val_loss: 0.4239 - val_accuracy: 0.8095\n",
      "Epoch 20/100\n",
      "32584/32584 [==============================] - 4s 121us/step - loss: 0.3088 - accuracy: 0.8676 - val_loss: 0.3983 - val_accuracy: 0.8268\n",
      "Epoch 21/100\n",
      "32584/32584 [==============================] - 4s 122us/step - loss: 0.2997 - accuracy: 0.8717 - val_loss: 0.4174 - val_accuracy: 0.8425\n",
      "Epoch 22/100\n",
      "32584/32584 [==============================] - 3s 106us/step - loss: 0.3010 - accuracy: 0.8709 - val_loss: 0.4185 - val_accuracy: 0.8113\n",
      "Epoch 23/100\n",
      "32584/32584 [==============================] - 3s 102us/step - loss: 0.2984 - accuracy: 0.8709 - val_loss: 0.3898 - val_accuracy: 0.8458\n",
      "Epoch 24/100\n",
      "32584/32584 [==============================] - 3s 102us/step - loss: 0.2943 - accuracy: 0.8718 - val_loss: 0.4767 - val_accuracy: 0.8387\n",
      "Epoch 25/100\n",
      "32584/32584 [==============================] - 3s 106us/step - loss: 0.2945 - accuracy: 0.8742 - val_loss: 0.4173 - val_accuracy: 0.8130\n",
      "Epoch 26/100\n",
      "32584/32584 [==============================] - 3s 103us/step - loss: 0.2924 - accuracy: 0.8758 - val_loss: 0.5180 - val_accuracy: 0.7395\n",
      "Epoch 27/100\n",
      "32584/32584 [==============================] - 3s 101us/step - loss: 0.2910 - accuracy: 0.8756 - val_loss: 0.4976 - val_accuracy: 0.8370\n",
      "Epoch 28/100\n",
      "32584/32584 [==============================] - 4s 111us/step - loss: 0.2891 - accuracy: 0.8769 - val_loss: 0.4035 - val_accuracy: 0.8402\n",
      "Epoch 29/100\n",
      "32584/32584 [==============================] - 3s 105us/step - loss: 0.2903 - accuracy: 0.8740 - val_loss: 0.4301 - val_accuracy: 0.8529\n",
      "Epoch 30/100\n",
      "32584/32584 [==============================] - 3s 100us/step - loss: 0.2879 - accuracy: 0.8767 - val_loss: 0.5826 - val_accuracy: 0.6970\n",
      "Epoch 31/100\n",
      "32584/32584 [==============================] - 3s 100us/step - loss: 0.2865 - accuracy: 0.8768 - val_loss: 0.4263 - val_accuracy: 0.8468\n",
      "Epoch 32/100\n",
      "32584/32584 [==============================] - 4s 110us/step - loss: 0.2872 - accuracy: 0.8755 - val_loss: 0.4660 - val_accuracy: 0.8473\n",
      "Epoch 33/100\n",
      "32584/32584 [==============================] - 3s 107us/step - loss: 0.2861 - accuracy: 0.8756 - val_loss: 0.4403 - val_accuracy: 0.8173\n",
      "Epoch 34/100\n",
      "32584/32584 [==============================] - 3s 101us/step - loss: 0.2832 - accuracy: 0.8776 - val_loss: 0.4495 - val_accuracy: 0.8451\n",
      "Epoch 35/100\n",
      "32584/32584 [==============================] - 3s 99us/step - loss: 0.2835 - accuracy: 0.8785 - val_loss: 0.4347 - val_accuracy: 0.8604\n",
      "Epoch 36/100\n",
      "32584/32584 [==============================] - 3s 105us/step - loss: 0.2844 - accuracy: 0.8763 - val_loss: 0.5144 - val_accuracy: 0.7467\n",
      "Epoch 37/100\n",
      "32584/32584 [==============================] - 3s 103us/step - loss: 0.2856 - accuracy: 0.8783 - val_loss: 0.3761 - val_accuracy: 0.8596\n",
      "Epoch 38/100\n",
      "32584/32584 [==============================] - 3s 102us/step - loss: 0.2834 - accuracy: 0.8784 - val_loss: 0.3615 - val_accuracy: 0.8463\n",
      "Epoch 39/100\n",
      "32584/32584 [==============================] - 3s 104us/step - loss: 0.2833 - accuracy: 0.8784 - val_loss: 0.3399 - val_accuracy: 0.8575\n",
      "Epoch 40/100\n",
      "32584/32584 [==============================] - 3s 103us/step - loss: 0.2829 - accuracy: 0.8779 - val_loss: 0.3703 - val_accuracy: 0.8766\n",
      "Epoch 41/100\n",
      "32584/32584 [==============================] - 3s 101us/step - loss: 0.2838 - accuracy: 0.8788 - val_loss: 0.3944 - val_accuracy: 0.8549\n",
      "Epoch 42/100\n",
      "32584/32584 [==============================] - 3s 101us/step - loss: 0.2842 - accuracy: 0.8796 - val_loss: 0.3600 - val_accuracy: 0.8474\n",
      "Epoch 43/100\n",
      "32584/32584 [==============================] - 3s 99us/step - loss: 0.2816 - accuracy: 0.8778 - val_loss: 0.3615 - val_accuracy: 0.8306\n",
      "Epoch 44/100\n",
      "32584/32584 [==============================] - 3s 97us/step - loss: 0.2824 - accuracy: 0.8790 - val_loss: 0.3718 - val_accuracy: 0.8291\n",
      "Epoch 45/100\n",
      "32584/32584 [==============================] - 3s 102us/step - loss: 0.2786 - accuracy: 0.8822 - val_loss: 0.3965 - val_accuracy: 0.8160\n",
      "Epoch 46/100\n",
      "32584/32584 [==============================] - 3s 106us/step - loss: 0.2795 - accuracy: 0.8789 - val_loss: 0.4065 - val_accuracy: 0.8259\n",
      "Epoch 47/100\n",
      "32584/32584 [==============================] - 4s 113us/step - loss: 0.2782 - accuracy: 0.8805 - val_loss: 0.4387 - val_accuracy: 0.8540\n",
      "Epoch 48/100\n",
      "32584/32584 [==============================] - 4s 110us/step - loss: 0.2780 - accuracy: 0.8818 - val_loss: 0.3641 - val_accuracy: 0.8176\n",
      "Epoch 49/100\n",
      "32584/32584 [==============================] - 3s 103us/step - loss: 0.2785 - accuracy: 0.8812 - val_loss: 0.3487 - val_accuracy: 0.8378\n",
      "Epoch 50/100\n",
      "32584/32584 [==============================] - 3s 104us/step - loss: 0.2782 - accuracy: 0.8790 - val_loss: 0.3771 - val_accuracy: 0.8208\n",
      "Epoch 51/100\n",
      "32584/32584 [==============================] - 3s 104us/step - loss: 0.2781 - accuracy: 0.8815 - val_loss: 0.3462 - val_accuracy: 0.8312\n",
      "Epoch 52/100\n",
      "32584/32584 [==============================] - 4s 119us/step - loss: 0.2775 - accuracy: 0.8816 - val_loss: 0.4294 - val_accuracy: 0.8134\n",
      "Epoch 53/100\n",
      "32584/32584 [==============================] - 4s 118us/step - loss: 0.2882 - accuracy: 0.8744 - val_loss: 0.3904 - val_accuracy: 0.8231\n",
      "Epoch 54/100\n",
      "32584/32584 [==============================] - 3s 107us/step - loss: 0.2836 - accuracy: 0.8785 - val_loss: 0.3889 - val_accuracy: 0.8191\n",
      "Epoch 55/100\n"
     ]
    },
    {
     "name": "stdout",
     "output_type": "stream",
     "text": [
      "32584/32584 [==============================] - 3s 105us/step - loss: 0.2806 - accuracy: 0.8797 - val_loss: 0.4208 - val_accuracy: 0.8183\n",
      "Epoch 56/100\n",
      "32584/32584 [==============================] - 3s 106us/step - loss: 0.2806 - accuracy: 0.8808 - val_loss: 0.4325 - val_accuracy: 0.8269\n",
      "Epoch 57/100\n",
      "32584/32584 [==============================] - 3s 103us/step - loss: 0.2798 - accuracy: 0.8783 - val_loss: 0.3455 - val_accuracy: 0.8416\n",
      "Epoch 58/100\n",
      "32584/32584 [==============================] - 3s 103us/step - loss: 0.2831 - accuracy: 0.8790 - val_loss: 0.3597 - val_accuracy: 0.8354\n",
      "Epoch 59/100\n",
      "32584/32584 [==============================] - 3s 103us/step - loss: 0.2864 - accuracy: 0.8791 - val_loss: 0.3988 - val_accuracy: 0.8246\n",
      "Epoch 60/100\n",
      "32584/32584 [==============================] - 3s 104us/step - loss: 0.2788 - accuracy: 0.8806 - val_loss: 0.3352 - val_accuracy: 0.8566\n",
      "Epoch 61/100\n",
      "32584/32584 [==============================] - 3s 104us/step - loss: 0.2803 - accuracy: 0.8796 - val_loss: 0.3506 - val_accuracy: 0.8332\n",
      "Epoch 62/100\n",
      "32584/32584 [==============================] - 4s 115us/step - loss: 0.2809 - accuracy: 0.8797 - val_loss: 0.4496 - val_accuracy: 0.8274\n",
      "Epoch 63/100\n",
      "32584/32584 [==============================] - 4s 111us/step - loss: 0.2747 - accuracy: 0.8813 - val_loss: 0.3727 - val_accuracy: 0.8247\n",
      "Epoch 64/100\n",
      "32584/32584 [==============================] - 4s 108us/step - loss: 0.2783 - accuracy: 0.8795 - val_loss: 0.3785 - val_accuracy: 0.8241\n",
      "Epoch 65/100\n",
      "32584/32584 [==============================] - 4s 109us/step - loss: 0.2790 - accuracy: 0.8786 - val_loss: 0.3727 - val_accuracy: 0.8257\n",
      "Epoch 66/100\n",
      "32584/32584 [==============================] - 4s 110us/step - loss: 0.2758 - accuracy: 0.8806 - val_loss: 0.3674 - val_accuracy: 0.8473\n",
      "Epoch 67/100\n",
      "32584/32584 [==============================] - 3s 105us/step - loss: 0.2731 - accuracy: 0.8855 - val_loss: 0.3887 - val_accuracy: 0.8258\n",
      "Epoch 68/100\n",
      "32584/32584 [==============================] - 3s 104us/step - loss: 0.2767 - accuracy: 0.8806 - val_loss: 0.3389 - val_accuracy: 0.8354\n",
      "Epoch 69/100\n",
      "32584/32584 [==============================] - 3s 104us/step - loss: 0.2743 - accuracy: 0.8828 - val_loss: 0.4016 - val_accuracy: 0.8270\n",
      "Epoch 70/100\n",
      "32584/32584 [==============================] - 3s 103us/step - loss: 0.2760 - accuracy: 0.8812 - val_loss: 0.3886 - val_accuracy: 0.8484\n",
      "Epoch 71/100\n",
      "32584/32584 [==============================] - 3s 102us/step - loss: 0.2863 - accuracy: 0.8771 - val_loss: 0.5498 - val_accuracy: 0.8319\n",
      "Epoch 72/100\n",
      "32584/32584 [==============================] - 3s 103us/step - loss: 0.2718 - accuracy: 0.8836 - val_loss: 0.3463 - val_accuracy: 0.8339\n",
      "Epoch 73/100\n",
      "32584/32584 [==============================] - 3s 103us/step - loss: 0.2748 - accuracy: 0.8828 - val_loss: 0.5482 - val_accuracy: 0.8434\n",
      "Epoch 74/100\n",
      "32584/32584 [==============================] - 3s 104us/step - loss: 0.2738 - accuracy: 0.8816 - val_loss: 0.3614 - val_accuracy: 0.8227\n",
      "Epoch 75/100\n",
      "32584/32584 [==============================] - 3s 103us/step - loss: 0.2704 - accuracy: 0.8857 - val_loss: 0.3280 - val_accuracy: 0.8470\n",
      "Epoch 76/100\n",
      "32584/32584 [==============================] - 3s 103us/step - loss: 0.2717 - accuracy: 0.8837 - val_loss: 0.3333 - val_accuracy: 0.8429\n",
      "Epoch 77/100\n",
      "32584/32584 [==============================] - 4s 108us/step - loss: 0.2724 - accuracy: 0.8837 - val_loss: 0.3533 - val_accuracy: 0.8367\n",
      "Epoch 78/100\n",
      "32584/32584 [==============================] - 3s 107us/step - loss: 0.2712 - accuracy: 0.8841 - val_loss: 0.3394 - val_accuracy: 0.8334\n",
      "Epoch 79/100\n",
      "32584/32584 [==============================] - 4s 116us/step - loss: 0.2685 - accuracy: 0.8863 - val_loss: 0.3718 - val_accuracy: 0.8326\n",
      "Epoch 80/100\n",
      "32584/32584 [==============================] - 3s 106us/step - loss: 0.2720 - accuracy: 0.8843 - val_loss: 0.3321 - val_accuracy: 0.8550\n",
      "Epoch 81/100\n",
      "32584/32584 [==============================] - 4s 110us/step - loss: 0.2694 - accuracy: 0.8865 - val_loss: 0.4907 - val_accuracy: 0.8289\n",
      "Epoch 82/100\n",
      "32584/32584 [==============================] - 3s 106us/step - loss: 0.2716 - accuracy: 0.8846 - val_loss: 0.3589 - val_accuracy: 0.8292\n",
      "Epoch 83/100\n",
      "32584/32584 [==============================] - 4s 108us/step - loss: 0.2698 - accuracy: 0.8835 - val_loss: 0.3345 - val_accuracy: 0.8531\n",
      "Epoch 84/100\n",
      "32584/32584 [==============================] - 4s 110us/step - loss: 0.2670 - accuracy: 0.8853 - val_loss: 0.3424 - val_accuracy: 0.8457\n",
      "Epoch 85/100\n",
      "32584/32584 [==============================] - 4s 111us/step - loss: 0.2684 - accuracy: 0.8848 - val_loss: 0.3530 - val_accuracy: 0.8391\n",
      "Epoch 86/100\n",
      "32584/32584 [==============================] - 3s 106us/step - loss: 0.2691 - accuracy: 0.8848 - val_loss: 0.4766 - val_accuracy: 0.8337\n",
      "Epoch 87/100\n",
      "32584/32584 [==============================] - 4s 107us/step - loss: 0.2680 - accuracy: 0.8852 - val_loss: 0.3790 - val_accuracy: 0.8359\n",
      "Epoch 88/100\n",
      "32584/32584 [==============================] - 3s 104us/step - loss: 0.2690 - accuracy: 0.8856 - val_loss: 0.3205 - val_accuracy: 0.8666\n",
      "Epoch 89/100\n",
      "32584/32584 [==============================] - 3s 103us/step - loss: 0.2700 - accuracy: 0.8819 - val_loss: 0.3503 - val_accuracy: 0.8305\n",
      "Epoch 90/100\n",
      "32584/32584 [==============================] - 3s 99us/step - loss: 0.2681 - accuracy: 0.8863 - val_loss: 0.3199 - val_accuracy: 0.8532\n",
      "Epoch 91/100\n",
      "32584/32584 [==============================] - 4s 108us/step - loss: 0.2686 - accuracy: 0.8864 - val_loss: 0.3702 - val_accuracy: 0.8297\n",
      "Epoch 92/100\n",
      "32584/32584 [==============================] - 3s 100us/step - loss: 0.2659 - accuracy: 0.8864 - val_loss: 0.3301 - val_accuracy: 0.8732\n",
      "Epoch 93/100\n",
      "32584/32584 [==============================] - 3s 100us/step - loss: 0.2670 - accuracy: 0.8868 - val_loss: 0.4025 - val_accuracy: 0.8229\n",
      "Epoch 94/100\n",
      "32584/32584 [==============================] - 3s 100us/step - loss: 0.2682 - accuracy: 0.8855 - val_loss: 0.3769 - val_accuracy: 0.8316\n",
      "Epoch 95/100\n",
      "32584/32584 [==============================] - 4s 109us/step - loss: 0.2717 - accuracy: 0.8841 - val_loss: 0.4558 - val_accuracy: 0.8241\n",
      "Epoch 96/100\n",
      "32584/32584 [==============================] - 3s 101us/step - loss: 0.2718 - accuracy: 0.8843 - val_loss: 0.2913 - val_accuracy: 0.8763\n",
      "Epoch 97/100\n",
      "32584/32584 [==============================] - 3s 99us/step - loss: 0.2687 - accuracy: 0.8850 - val_loss: 0.3147 - val_accuracy: 0.8425\n",
      "Epoch 98/100\n",
      "32584/32584 [==============================] - 3s 98us/step - loss: 0.2666 - accuracy: 0.8857 - val_loss: 0.3749 - val_accuracy: 0.8396\n",
      "Epoch 99/100\n",
      "32584/32584 [==============================] - 3s 106us/step - loss: 0.2658 - accuracy: 0.8873 - val_loss: 0.4023 - val_accuracy: 0.8176\n",
      "Epoch 100/100\n",
      "32584/32584 [==============================] - 3s 100us/step - loss: 0.2642 - accuracy: 0.8885 - val_loss: 0.3665 - val_accuracy: 0.8318\n"
     ]
    }
   ],
   "source": [
    "bn_model_history = bn_model.fit(X_train_std, y_train, epochs=100,\n",
    "                                batch_size=best_params['best_batch_size'], \n",
    "                                validation_split=0.2)"
   ]
  },
  {
   "cell_type": "markdown",
   "metadata": {},
   "source": [
    "#### Predictions"
   ]
  },
  {
   "cell_type": "code",
   "execution_count": 143,
   "metadata": {},
   "outputs": [],
   "source": [
    "train_bn_model_pred = bn_model.predict_classes(X_train_std)\n",
    "test_bn_model_pred = bn_model.predict_classes(X_test_std)"
   ]
  },
  {
   "cell_type": "markdown",
   "metadata": {},
   "source": [
    "#### Getting evaluation metrics and evaluating model performance"
   ]
  },
  {
   "cell_type": "code",
   "execution_count": 144,
   "metadata": {},
   "outputs": [
    {
     "name": "stdout",
     "output_type": "stream",
     "text": [
      "Train metrics\n",
      "Confusion matrix\n",
      "[[32645   407]\n",
      " [ 6214  1464]]\n",
      "----------------------------------------------\n",
      "Accuracy:  0.8374416891726001\n",
      "Precission:  0.8400885251807818\n",
      "Recall:  0.9876860704344669\n",
      "F1 Score:  0.9079278552655365\n",
      "\n",
      "==============================================\n",
      "\n",
      "Test metrics\n",
      "Confusion matrix\n",
      "[[13959   206]\n",
      " [ 2677   614]]\n",
      "----------------------------------------------\n",
      "Accuracy:  0.8348418881759854\n",
      "Precission:  0.8390839144025006\n",
      "Recall:  0.9854571126014825\n",
      "F1 Score:  0.9063991428849714\n"
     ]
    }
   ],
   "source": [
    "compute_metrics(train_bn_model_pred, y_train, test_bn_model_pred, y_test)"
   ]
  },
  {
   "cell_type": "markdown",
   "metadata": {},
   "source": [
    "#### model with weight decay"
   ]
  },
  {
   "cell_type": "markdown",
   "metadata": {},
   "source": [
    "#### Find the best Weight Decay value"
   ]
  },
  {
   "cell_type": "code",
   "execution_count": 145,
   "metadata": {},
   "outputs": [],
   "source": [
    "weight_decay_list = [1e-1, 1e-2, 1e-3, 1e-4, 1e-5, 1e-6]"
   ]
  },
  {
   "cell_type": "code",
   "execution_count": 146,
   "metadata": {},
   "outputs": [],
   "source": [
    "def l2_model_func(l2_value):\n",
    "    # create model\n",
    "    l2_model = Sequential()\n",
    "    \n",
    "    l2_model.add(Dense(25, input_dim=21, activation='relu', kernel_regularizer=l2(l2_value),kernel_initializer=\"glorot_normal\"))\n",
    "    l2_model.add(Dropout(0.5))\n",
    "    l2_model.add(Dense(15, activation='relu',kernel_regularizer=l2(l2_value), kernel_initializer=\"glorot_normal\"))\n",
    "    l2_model.add(Dropout(0.5))\n",
    "    l2_model.add(Dense(1, activation='sigmoid',kernel_regularizer=l2(l2_value),kernel_initializer=\"glorot_normal\"))\n",
    "    \n",
    "    # Compile model\n",
    "    l2_model.compile(loss='binary_crossentropy', optimizer='adam', metrics=['accuracy'])\n",
    "    \n",
    "    return l2_model   "
   ]
  },
  {
   "cell_type": "code",
   "execution_count": 147,
   "metadata": {},
   "outputs": [
    {
     "name": "stdout",
     "output_type": "stream",
     "text": [
      "Train on 32584 samples, validate on 8146 samples\n",
      "Epoch 1/1\n",
      "50/50 [==============================] - 2s 41ms/step - loss: 4.2370 - accuracy: 0.7381 - val_loss: 0.0710 - val_accuracy: 40.0994\n",
      "Train on 32584 samples, validate on 8146 samples\n",
      "Epoch 1/1\n",
      "50/50 [==============================] - 2s 42ms/step - loss: 0.9977 - accuracy: 0.7556 - val_loss: 0.0174 - val_accuracy: 40.2345\n",
      "Train on 32584 samples, validate on 8146 samples\n",
      "Epoch 1/1\n",
      "50/50 [==============================] - 2s 42ms/step - loss: 0.6607 - accuracy: 0.7585 - val_loss: 0.0115 - val_accuracy: 40.2222\n",
      "Train on 32584 samples, validate on 8146 samples\n",
      "Epoch 1/1\n",
      "50/50 [==============================] - 2s 43ms/step - loss: 0.6224 - accuracy: 0.7606 - val_loss: 0.0108 - val_accuracy: 40.2161\n",
      "Train on 32584 samples, validate on 8146 samples\n",
      "Epoch 1/1\n",
      "50/50 [==============================] - 2s 43ms/step - loss: 0.6200 - accuracy: 0.7587 - val_loss: 0.0107 - val_accuracy: 40.2222\n",
      "Train on 32584 samples, validate on 8146 samples\n",
      "Epoch 1/1\n",
      "50/50 [==============================] - 2s 44ms/step - loss: 0.6181 - accuracy: 0.7606 - val_loss: 0.0107 - val_accuracy: 40.2161\n"
     ]
    }
   ],
   "source": [
    "hist_loss=[]\n",
    "\n",
    "for weight_decay in weight_decay_list:\n",
    "    \n",
    "    np.random.seed(123)\n",
    "    tf.set_random_seed(123)\n",
    "    \n",
    "    l2_model = l2_model_func(weight_decay)\n",
    "    \n",
    "    #Fit the model\n",
    "    l2_model_history = l2_model.fit(X_train_std, y_train, epochs=1,\n",
    "                                    validation_split=0.2,steps_per_epoch=50,\n",
    "                                    validation_steps=50)\n",
    "    \n",
    "    hist_loss.append(l2_model_history.history['loss'])"
   ]
  },
  {
   "cell_type": "code",
   "execution_count": 151,
   "metadata": {},
   "outputs": [
    {
     "data": {
      "text/html": [
       "<div>\n",
       "<style scoped>\n",
       "    .dataframe tbody tr th:only-of-type {\n",
       "        vertical-align: middle;\n",
       "    }\n",
       "\n",
       "    .dataframe tbody tr th {\n",
       "        vertical-align: top;\n",
       "    }\n",
       "\n",
       "    .dataframe thead th {\n",
       "        text-align: right;\n",
       "    }\n",
       "</style>\n",
       "<table border=\"1\" class=\"dataframe\">\n",
       "  <thead>\n",
       "    <tr style=\"text-align: right;\">\n",
       "      <th></th>\n",
       "      <th>weight_decay</th>\n",
       "      <th>loss</th>\n",
       "    </tr>\n",
       "  </thead>\n",
       "  <tbody>\n",
       "    <tr>\n",
       "      <th>0</th>\n",
       "      <td>1e-06</td>\n",
       "      <td>[0.6181777894496918]</td>\n",
       "    </tr>\n",
       "    <tr>\n",
       "      <th>1</th>\n",
       "      <td>1e-05</td>\n",
       "      <td>[0.6194446575641632]</td>\n",
       "    </tr>\n",
       "    <tr>\n",
       "      <th>2</th>\n",
       "      <td>0.0001</td>\n",
       "      <td>[0.6223677611351013]</td>\n",
       "    </tr>\n",
       "    <tr>\n",
       "      <th>3</th>\n",
       "      <td>0.001</td>\n",
       "      <td>[0.6603421354293824]</td>\n",
       "    </tr>\n",
       "    <tr>\n",
       "      <th>4</th>\n",
       "      <td>0.01</td>\n",
       "      <td>[0.9976737642288208]</td>\n",
       "    </tr>\n",
       "    <tr>\n",
       "      <th>5</th>\n",
       "      <td>0.1</td>\n",
       "      <td>[4.244275660514831]</td>\n",
       "    </tr>\n",
       "  </tbody>\n",
       "</table>\n",
       "</div>"
      ],
      "text/plain": [
       "  weight_decay                  loss\n",
       "0        1e-06  [0.6181777894496918]\n",
       "1        1e-05  [0.6194446575641632]\n",
       "2       0.0001  [0.6223677611351013]\n",
       "3        0.001  [0.6603421354293824]\n",
       "4         0.01  [0.9976737642288208]\n",
       "5          0.1   [4.244275660514831]"
      ]
     },
     "execution_count": 151,
     "metadata": {},
     "output_type": "execute_result"
    }
   ],
   "source": [
    "# Get the weight decay and loss Dataframe\n",
    "loss_weight_decay = pd.DataFrame([weight_decay_list, hist_loss]).T  \n",
    "\n",
    "#Give the coloumn names\n",
    "loss_weight_decay.columns=['weight_decay', 'loss']\n",
    "\n",
    "#Sort the values and reset the index\n",
    "loss_weight_decay=loss_weight_decay.sort_values('loss').reset_index().drop('index',axis=1)\n",
    "loss_weight_decay"
   ]
  },
  {
   "cell_type": "code",
   "execution_count": 152,
   "metadata": {},
   "outputs": [],
   "source": [
    "#pick the top weight decay\n",
    "best_params['best_l2_value'] = loss_weight_decay.loc[:,'weight_decay'][0]"
   ]
  },
  {
   "cell_type": "code",
   "execution_count": 153,
   "metadata": {},
   "outputs": [
    {
     "data": {
      "text/plain": [
       "1e-06"
      ]
     },
     "execution_count": 153,
     "metadata": {},
     "output_type": "execute_result"
    }
   ],
   "source": [
    "best_params['best_l2_value']"
   ]
  },
  {
   "cell_type": "markdown",
   "metadata": {},
   "source": [
    "#### Build model with the best l2 value"
   ]
  },
  {
   "cell_type": "code",
   "execution_count": 154,
   "metadata": {},
   "outputs": [],
   "source": [
    "np.random.seed(123)\n",
    "tf.set_random_seed(123)"
   ]
  },
  {
   "cell_type": "code",
   "execution_count": 155,
   "metadata": {},
   "outputs": [],
   "source": [
    "bst_l2_model = Sequential()\n",
    "\n",
    "bst_l2_model.add(Dense(25, input_dim=21, activation='relu', kernel_regularizer=l2(best_params['best_l2_value']),kernel_initializer=\"glorot_normal\"))\n",
    "bst_l2_model.add(Dropout(0.5))\n",
    "bst_l2_model.add(Dense(15, activation='relu',kernel_regularizer=l2(best_params['best_l2_value']), kernel_initializer=\"glorot_normal\"))\n",
    "bst_l2_model.add(Dropout(0.5))\n",
    "bst_l2_model.add(Dense(1, activation='sigmoid',kernel_regularizer=l2(best_params['best_l2_value']), kernel_initializer=\"glorot_normal\"))\n",
    "\n",
    "# Compile model\n",
    "bst_l2_model.compile(loss='binary_crossentropy', optimizer='adam', metrics=['accuracy'])"
   ]
  },
  {
   "cell_type": "code",
   "execution_count": 156,
   "metadata": {},
   "outputs": [
    {
     "name": "stdout",
     "output_type": "stream",
     "text": [
      "Model: \"sequential_35\"\n",
      "_________________________________________________________________\n",
      "Layer (type)                 Output Shape              Param #   \n",
      "=================================================================\n",
      "dense_99 (Dense)             (None, 25)                550       \n",
      "_________________________________________________________________\n",
      "dropout_15 (Dropout)         (None, 25)                0         \n",
      "_________________________________________________________________\n",
      "dense_100 (Dense)            (None, 15)                390       \n",
      "_________________________________________________________________\n",
      "dropout_16 (Dropout)         (None, 15)                0         \n",
      "_________________________________________________________________\n",
      "dense_101 (Dense)            (None, 1)                 16        \n",
      "=================================================================\n",
      "Total params: 956\n",
      "Trainable params: 956\n",
      "Non-trainable params: 0\n",
      "_________________________________________________________________\n"
     ]
    }
   ],
   "source": [
    "bst_l2_model.summary()"
   ]
  },
  {
   "cell_type": "code",
   "execution_count": 157,
   "metadata": {},
   "outputs": [],
   "source": [
    "bst_l2_model.compile(loss='binary_crossentropy', optimizer='adam', metrics=['accuracy'])"
   ]
  },
  {
   "cell_type": "code",
   "execution_count": 158,
   "metadata": {},
   "outputs": [
    {
     "name": "stdout",
     "output_type": "stream",
     "text": [
      "Train on 32584 samples, validate on 8146 samples\n",
      "Epoch 1/100\n",
      "32584/32584 [==============================] - 5s 153us/step - loss: 0.5186 - accuracy: 0.8073 - val_loss: 0.4798 - val_accuracy: 0.8046\n",
      "Epoch 2/100\n",
      "32584/32584 [==============================] - 3s 104us/step - loss: 0.4782 - accuracy: 0.8129 - val_loss: 0.4752 - val_accuracy: 0.8052\n",
      "Epoch 3/100\n",
      "32584/32584 [==============================] - 4s 111us/step - loss: 0.4682 - accuracy: 0.8136 - val_loss: 0.4704 - val_accuracy: 0.8051\n",
      "Epoch 4/100\n",
      "32584/32584 [==============================] - 4s 110us/step - loss: 0.4613 - accuracy: 0.8132 - val_loss: 0.4639 - val_accuracy: 0.8047\n",
      "Epoch 5/100\n",
      "32584/32584 [==============================] - 3s 103us/step - loss: 0.4583 - accuracy: 0.8134 - val_loss: 0.4590 - val_accuracy: 0.8046\n",
      "Epoch 6/100\n",
      "32584/32584 [==============================] - 4s 111us/step - loss: 0.4509 - accuracy: 0.8135 - val_loss: 0.4517 - val_accuracy: 0.8046\n",
      "Epoch 7/100\n",
      "32584/32584 [==============================] - 3s 107us/step - loss: 0.4485 - accuracy: 0.8138 - val_loss: 0.4489 - val_accuracy: 0.8053\n",
      "Epoch 8/100\n",
      "32584/32584 [==============================] - 4s 121us/step - loss: 0.4466 - accuracy: 0.8134 - val_loss: 0.4427 - val_accuracy: 0.8046\n",
      "Epoch 9/100\n",
      "32584/32584 [==============================] - 3s 102us/step - loss: 0.4395 - accuracy: 0.8144 - val_loss: 0.4375 - val_accuracy: 0.8053\n",
      "Epoch 10/100\n",
      "32584/32584 [==============================] - 3s 104us/step - loss: 0.4374 - accuracy: 0.8146 - val_loss: 0.4375 - val_accuracy: 0.8057\n",
      "Epoch 11/100\n",
      "32584/32584 [==============================] - 4s 108us/step - loss: 0.4334 - accuracy: 0.8141 - val_loss: 0.4291 - val_accuracy: 0.8058\n",
      "Epoch 12/100\n",
      "32584/32584 [==============================] - 3s 105us/step - loss: 0.4287 - accuracy: 0.8155 - val_loss: 0.4258 - val_accuracy: 0.8062\n",
      "Epoch 13/100\n",
      "32584/32584 [==============================] - 3s 104us/step - loss: 0.4280 - accuracy: 0.8167 - val_loss: 0.4227 - val_accuracy: 0.8060\n",
      "Epoch 14/100\n",
      "32584/32584 [==============================] - 3s 106us/step - loss: 0.4233 - accuracy: 0.8179 - val_loss: 0.4137 - val_accuracy: 0.8078\n",
      "Epoch 15/100\n",
      "32584/32584 [==============================] - 3s 99us/step - loss: 0.4199 - accuracy: 0.8182 - val_loss: 0.4117 - val_accuracy: 0.8068\n",
      "Epoch 16/100\n",
      "32584/32584 [==============================] - 3s 97us/step - loss: 0.4187 - accuracy: 0.8178 - val_loss: 0.4068 - val_accuracy: 0.8096\n",
      "Epoch 17/100\n",
      "32584/32584 [==============================] - 4s 114us/step - loss: 0.4168 - accuracy: 0.8194 - val_loss: 0.4013 - val_accuracy: 0.8090\n",
      "Epoch 18/100\n",
      "32584/32584 [==============================] - 4s 125us/step - loss: 0.4132 - accuracy: 0.8214 - val_loss: 0.3968 - val_accuracy: 0.8135\n",
      "Epoch 19/100\n",
      "32584/32584 [==============================] - 3s 106us/step - loss: 0.4060 - accuracy: 0.8222 - val_loss: 0.3954 - val_accuracy: 0.8138\n",
      "Epoch 20/100\n",
      "32584/32584 [==============================] - 3s 87us/step - loss: 0.4027 - accuracy: 0.8237 - val_loss: 0.3991 - val_accuracy: 0.8251\n",
      "Epoch 21/100\n",
      "32584/32584 [==============================] - 3s 96us/step - loss: 0.3994 - accuracy: 0.8232 - val_loss: 0.3766 - val_accuracy: 0.8249\n",
      "Epoch 22/100\n",
      "32584/32584 [==============================] - 3s 97us/step - loss: 0.3978 - accuracy: 0.8257 - val_loss: 0.3769 - val_accuracy: 0.8256\n",
      "Epoch 23/100\n",
      "32584/32584 [==============================] - 3s 104us/step - loss: 0.3977 - accuracy: 0.8259 - val_loss: 0.3710 - val_accuracy: 0.8262\n",
      "Epoch 24/100\n",
      "32584/32584 [==============================] - 3s 97us/step - loss: 0.3988 - accuracy: 0.8268 - val_loss: 0.3833 - val_accuracy: 0.8272\n",
      "Epoch 25/100\n",
      "32584/32584 [==============================] - 3s 102us/step - loss: 0.3881 - accuracy: 0.8268 - val_loss: 0.3801 - val_accuracy: 0.8274\n",
      "Epoch 26/100\n",
      "32584/32584 [==============================] - 3s 103us/step - loss: 0.3892 - accuracy: 0.8274 - val_loss: 0.3613 - val_accuracy: 0.8378\n",
      "Epoch 27/100\n",
      "32584/32584 [==============================] - 5s 145us/step - loss: 0.3881 - accuracy: 0.8297 - val_loss: 0.3886 - val_accuracy: 0.8259\n",
      "Epoch 28/100\n",
      "32584/32584 [==============================] - 4s 115us/step - loss: 0.3838 - accuracy: 0.8299 - val_loss: 0.3678 - val_accuracy: 0.8396\n",
      "Epoch 29/100\n",
      "32584/32584 [==============================] - 4s 114us/step - loss: 0.3841 - accuracy: 0.8308 - val_loss: 0.3650 - val_accuracy: 0.8366\n",
      "Epoch 30/100\n",
      "32584/32584 [==============================] - 3s 94us/step - loss: 0.3840 - accuracy: 0.8306 - val_loss: 0.3676 - val_accuracy: 0.8364\n",
      "Epoch 31/100\n",
      "32584/32584 [==============================] - 3s 93us/step - loss: 0.3757 - accuracy: 0.8337 - val_loss: 0.3807 - val_accuracy: 0.8591\n",
      "Epoch 32/100\n",
      "32584/32584 [==============================] - 3s 104us/step - loss: 0.3789 - accuracy: 0.8338 - val_loss: 0.3517 - val_accuracy: 0.8399\n",
      "Epoch 33/100\n",
      "32584/32584 [==============================] - 3s 106us/step - loss: 0.3758 - accuracy: 0.8337 - val_loss: 0.3461 - val_accuracy: 0.8467\n",
      "Epoch 34/100\n",
      "32584/32584 [==============================] - 4s 109us/step - loss: 0.3761 - accuracy: 0.8337 - val_loss: 0.3466 - val_accuracy: 0.8416\n",
      "Epoch 35/100\n",
      "32584/32584 [==============================] - 4s 124us/step - loss: 0.3725 - accuracy: 0.8338 - val_loss: 0.3673 - val_accuracy: 0.8349\n",
      "Epoch 36/100\n",
      "32584/32584 [==============================] - 4s 134us/step - loss: 0.3717 - accuracy: 0.8347 - val_loss: 0.3569 - val_accuracy: 0.8418\n",
      "Epoch 37/100\n",
      "32584/32584 [==============================] - 4s 121us/step - loss: 0.3765 - accuracy: 0.8357 - val_loss: 0.3427 - val_accuracy: 0.8430\n",
      "Epoch 38/100\n",
      "32584/32584 [==============================] - 3s 86us/step - loss: 0.3739 - accuracy: 0.8345 - val_loss: 0.3468 - val_accuracy: 0.8461\n",
      "Epoch 39/100\n",
      "32584/32584 [==============================] - 3s 99us/step - loss: 0.3677 - accuracy: 0.8357 - val_loss: 0.3388 - val_accuracy: 0.8440\n",
      "Epoch 40/100\n",
      "32584/32584 [==============================] - 3s 98us/step - loss: 0.3769 - accuracy: 0.8360 - val_loss: 0.3371 - val_accuracy: 0.8533\n",
      "Epoch 41/100\n",
      "32584/32584 [==============================] - 4s 116us/step - loss: 0.3720 - accuracy: 0.8343 - val_loss: 0.3585 - val_accuracy: 0.8394\n",
      "Epoch 42/100\n",
      "32584/32584 [==============================] - 3s 99us/step - loss: 0.3715 - accuracy: 0.8384 - val_loss: 0.3372 - val_accuracy: 0.8598\n",
      "Epoch 43/100\n",
      "32584/32584 [==============================] - 3s 85us/step - loss: 0.3690 - accuracy: 0.8377 - val_loss: 0.3340 - val_accuracy: 0.8540\n",
      "Epoch 44/100\n",
      "32584/32584 [==============================] - 3s 97us/step - loss: 0.3660 - accuracy: 0.8388 - val_loss: 0.3381 - val_accuracy: 0.8577\n",
      "Epoch 45/100\n",
      "32584/32584 [==============================] - 3s 88us/step - loss: 0.3735 - accuracy: 0.8380 - val_loss: 0.3528 - val_accuracy: 0.8630\n",
      "Epoch 46/100\n",
      "32584/32584 [==============================] - 3s 88us/step - loss: 0.3756 - accuracy: 0.8373 - val_loss: 0.3521 - val_accuracy: 0.8402\n",
      "Epoch 47/100\n",
      "32584/32584 [==============================] - 3s 88us/step - loss: 0.3673 - accuracy: 0.8374 - val_loss: 0.3424 - val_accuracy: 0.8484\n",
      "Epoch 48/100\n",
      "32584/32584 [==============================] - 3s 91us/step - loss: 0.3769 - accuracy: 0.8369 - val_loss: 0.3357 - val_accuracy: 0.8501\n",
      "Epoch 49/100\n",
      "32584/32584 [==============================] - 4s 123us/step - loss: 0.3711 - accuracy: 0.8389 - val_loss: 0.3339 - val_accuracy: 0.8582\n",
      "Epoch 50/100\n",
      "32584/32584 [==============================] - 4s 124us/step - loss: 0.3684 - accuracy: 0.8382 - val_loss: 0.3424 - val_accuracy: 0.8500\n",
      "Epoch 51/100\n",
      "32584/32584 [==============================] - 4s 133us/step - loss: 0.3700 - accuracy: 0.8371 - val_loss: 0.3318 - val_accuracy: 0.8506\n",
      "Epoch 52/100\n",
      "32584/32584 [==============================] - 4s 119us/step - loss: 0.3643 - accuracy: 0.8403 - val_loss: 0.3489 - val_accuracy: 0.8399\n",
      "Epoch 53/100\n",
      "32584/32584 [==============================] - 3s 99us/step - loss: 0.3665 - accuracy: 0.8362 - val_loss: 0.3434 - val_accuracy: 0.8346\n",
      "Epoch 54/100\n",
      "32584/32584 [==============================] - 4s 110us/step - loss: 0.3588 - accuracy: 0.8392 - val_loss: 0.3320 - val_accuracy: 0.8464\n",
      "Epoch 55/100\n",
      "32584/32584 [==============================] - 3s 96us/step - loss: 0.3668 - accuracy: 0.8369 - val_loss: 0.3384 - val_accuracy: 0.8440\n",
      "Epoch 56/100\n",
      "32584/32584 [==============================] - 3s 94us/step - loss: 0.3640 - accuracy: 0.8376 - val_loss: 0.3303 - val_accuracy: 0.8528\n",
      "Epoch 57/100\n",
      "32584/32584 [==============================] - 3s 94us/step - loss: 0.3619 - accuracy: 0.8407 - val_loss: 0.3328 - val_accuracy: 0.8478\n",
      "Epoch 58/100\n",
      "32584/32584 [==============================] - 3s 95us/step - loss: 0.3666 - accuracy: 0.8405 - val_loss: 0.3346 - val_accuracy: 0.8558\n",
      "Epoch 59/100\n",
      "32584/32584 [==============================] - 3s 95us/step - loss: 0.3598 - accuracy: 0.8406 - val_loss: 0.3166 - val_accuracy: 0.8636\n",
      "Epoch 60/100\n",
      "32584/32584 [==============================] - 3s 94us/step - loss: 0.3628 - accuracy: 0.8409 - val_loss: 0.3249 - val_accuracy: 0.8564\n",
      "Epoch 61/100\n",
      "32584/32584 [==============================] - 3s 95us/step - loss: 0.3620 - accuracy: 0.8408 - val_loss: 0.3292 - val_accuracy: 0.8564\n",
      "Epoch 62/100\n",
      "32584/32584 [==============================] - 3s 94us/step - loss: 0.3668 - accuracy: 0.8401 - val_loss: 0.3347 - val_accuracy: 0.8481\n",
      "Epoch 63/100\n",
      "32584/32584 [==============================] - 3s 94us/step - loss: 0.3657 - accuracy: 0.8416 - val_loss: 0.3274 - val_accuracy: 0.8517\n",
      "Epoch 64/100\n",
      "32584/32584 [==============================] - 3s 94us/step - loss: 0.3688 - accuracy: 0.8396 - val_loss: 0.3275 - val_accuracy: 0.8613\n",
      "Epoch 65/100\n",
      "32584/32584 [==============================] - 3s 94us/step - loss: 0.3595 - accuracy: 0.8400 - val_loss: 0.3370 - val_accuracy: 0.8538\n",
      "Epoch 66/100\n",
      "32584/32584 [==============================] - 3s 95us/step - loss: 0.3755 - accuracy: 0.8414 - val_loss: 0.3261 - val_accuracy: 0.8620\n",
      "Epoch 67/100\n",
      "32584/32584 [==============================] - 3s 95us/step - loss: 0.3658 - accuracy: 0.8388 - val_loss: 0.3414 - val_accuracy: 0.8384\n",
      "Epoch 68/100\n",
      "32584/32584 [==============================] - 3s 95us/step - loss: 0.3604 - accuracy: 0.8416 - val_loss: 0.3205 - val_accuracy: 0.8614\n",
      "Epoch 69/100\n",
      "32584/32584 [==============================] - 3s 95us/step - loss: 0.3647 - accuracy: 0.8420 - val_loss: 0.3169 - val_accuracy: 0.8725\n",
      "Epoch 70/100\n",
      "32584/32584 [==============================] - 3s 95us/step - loss: 0.3588 - accuracy: 0.8416 - val_loss: 0.3302 - val_accuracy: 0.8454\n",
      "Epoch 71/100\n",
      "32584/32584 [==============================] - 3s 94us/step - loss: 0.3563 - accuracy: 0.8415 - val_loss: 0.3233 - val_accuracy: 0.8586\n",
      "Epoch 72/100\n",
      "32584/32584 [==============================] - 3s 95us/step - loss: 0.3575 - accuracy: 0.8428 - val_loss: 0.3176 - val_accuracy: 0.8634\n",
      "Epoch 73/100\n",
      "32584/32584 [==============================] - 3s 94us/step - loss: 0.3621 - accuracy: 0.8427 - val_loss: 0.3190 - val_accuracy: 0.8693\n",
      "Epoch 74/100\n",
      "32584/32584 [==============================] - 3s 95us/step - loss: 0.3559 - accuracy: 0.8414 - val_loss: 0.3369 - val_accuracy: 0.8481\n",
      "Epoch 75/100\n",
      "32584/32584 [==============================] - 3s 94us/step - loss: 0.3570 - accuracy: 0.8413 - val_loss: 0.3264 - val_accuracy: 0.8532\n",
      "Epoch 76/100\n",
      "32584/32584 [==============================] - 4s 125us/step - loss: 0.3613 - accuracy: 0.8425 - val_loss: 0.3255 - val_accuracy: 0.8674\n",
      "Epoch 77/100\n",
      "32584/32584 [==============================] - 4s 119us/step - loss: 0.3594 - accuracy: 0.8446 - val_loss: 0.3379 - val_accuracy: 0.8440\n",
      "Epoch 78/100\n",
      "32584/32584 [==============================] - 3s 96us/step - loss: 0.3686 - accuracy: 0.8416 - val_loss: 0.3306 - val_accuracy: 0.8634\n",
      "Epoch 79/100\n",
      "32584/32584 [==============================] - 3s 96us/step - loss: 0.3562 - accuracy: 0.8419 - val_loss: 0.3230 - val_accuracy: 0.8559\n",
      "Epoch 80/100\n",
      "32584/32584 [==============================] - 3s 97us/step - loss: 0.3571 - accuracy: 0.8415 - val_loss: 0.3176 - val_accuracy: 0.8591\n",
      "Epoch 81/100\n",
      "32584/32584 [==============================] - 3s 96us/step - loss: 0.3574 - accuracy: 0.8456 - val_loss: 0.3285 - val_accuracy: 0.8604\n",
      "Epoch 82/100\n",
      "32584/32584 [==============================] - 3s 97us/step - loss: 0.3627 - accuracy: 0.8418 - val_loss: 0.3253 - val_accuracy: 0.8597\n",
      "Epoch 83/100\n",
      "32584/32584 [==============================] - 3s 99us/step - loss: 0.3553 - accuracy: 0.8436 - val_loss: 0.3242 - val_accuracy: 0.8663\n",
      "Epoch 84/100\n",
      "32584/32584 [==============================] - 5s 162us/step - loss: 0.3610 - accuracy: 0.8423 - val_loss: 0.3246 - val_accuracy: 0.8613\n",
      "Epoch 85/100\n",
      "32584/32584 [==============================] - 5s 146us/step - loss: 0.3625 - accuracy: 0.8454 - val_loss: 0.3349 - val_accuracy: 0.8448\n",
      "Epoch 86/100\n",
      "32584/32584 [==============================] - 3s 101us/step - loss: 0.3580 - accuracy: 0.8440 - val_loss: 0.3245 - val_accuracy: 0.8628\n",
      "Epoch 87/100\n",
      "32584/32584 [==============================] - 3s 95us/step - loss: 0.3604 - accuracy: 0.8428 - val_loss: 0.3221 - val_accuracy: 0.8675\n",
      "Epoch 88/100\n",
      "32584/32584 [==============================] - 3s 94us/step - loss: 0.3561 - accuracy: 0.8423 - val_loss: 0.3381 - val_accuracy: 0.8462\n",
      "Epoch 89/100\n",
      "32584/32584 [==============================] - 3s 100us/step - loss: 0.3587 - accuracy: 0.8411 - val_loss: 0.3265 - val_accuracy: 0.8609\n",
      "Epoch 90/100\n",
      "32584/32584 [==============================] - 4s 118us/step - loss: 0.3550 - accuracy: 0.8424 - val_loss: 0.3117 - val_accuracy: 0.8667\n",
      "Epoch 91/100\n",
      "32584/32584 [==============================] - 4s 111us/step - loss: 0.3565 - accuracy: 0.8454 - val_loss: 0.3183 - val_accuracy: 0.8626\n",
      "Epoch 92/100\n",
      "32584/32584 [==============================] - 4s 120us/step - loss: 0.3553 - accuracy: 0.8454 - val_loss: 0.3242 - val_accuracy: 0.8602\n",
      "Epoch 93/100\n",
      "32584/32584 [==============================] - 3s 103us/step - loss: 0.3556 - accuracy: 0.8434 - val_loss: 0.3337 - val_accuracy: 0.8743\n",
      "Epoch 94/100\n",
      "32584/32584 [==============================] - 3s 107us/step - loss: 0.3557 - accuracy: 0.8435 - val_loss: 0.3257 - val_accuracy: 0.8549\n",
      "Epoch 95/100\n",
      "32584/32584 [==============================] - 7s 210us/step - loss: 0.3600 - accuracy: 0.8443 - val_loss: 0.3320 - val_accuracy: 0.8580\n",
      "Epoch 96/100\n",
      "32584/32584 [==============================] - 4s 132us/step - loss: 0.3532 - accuracy: 0.8424 - val_loss: 0.3317 - val_accuracy: 0.8647\n",
      "Epoch 97/100\n",
      "32584/32584 [==============================] - 4s 133us/step - loss: 0.3621 - accuracy: 0.8443 - val_loss: 0.3143 - val_accuracy: 0.8688\n",
      "Epoch 98/100\n",
      "32584/32584 [==============================] - 4s 118us/step - loss: 0.3552 - accuracy: 0.8446 - val_loss: 0.3189 - val_accuracy: 0.8607\n",
      "Epoch 99/100\n",
      "32584/32584 [==============================] - 3s 102us/step - loss: 0.3555 - accuracy: 0.8423 - val_loss: 0.3244 - val_accuracy: 0.8626\n",
      "Epoch 100/100\n",
      "32584/32584 [==============================] - 3s 107us/step - loss: 0.3612 - accuracy: 0.8425 - val_loss: 0.3262 - val_accuracy: 0.8565\n"
     ]
    }
   ],
   "source": [
    "bst_l2_model_history = bst_l2_model.fit(X_train_std, y_train, epochs=100,\n",
    "                                        batch_size=best_params['best_batch_size'], \n",
    "                                        validation_split=0.2, shuffle=True)"
   ]
  },
  {
   "cell_type": "markdown",
   "metadata": {},
   "source": [
    "#### Predictions"
   ]
  },
  {
   "cell_type": "code",
   "execution_count": 159,
   "metadata": {},
   "outputs": [],
   "source": [
    "train_bst_l2_model_pred = bst_l2_model.predict_classes(X_train_std)\n",
    "test_bst_l2_model_pred = bst_l2_model.predict_classes(X_test_std)"
   ]
  },
  {
   "cell_type": "markdown",
   "metadata": {},
   "source": [
    "#### Getting evaluation metrics and evaluating model performance"
   ]
  },
  {
   "cell_type": "code",
   "execution_count": 160,
   "metadata": {},
   "outputs": [
    {
     "name": "stdout",
     "output_type": "stream",
     "text": [
      "Train metrics\n",
      "Confusion matrix\n",
      "[[32193   859]\n",
      " [ 4710  2968]]\n",
      "----------------------------------------------\n",
      "Accuracy:  0.8632703167198625\n",
      "Precission:  0.872368100154459\n",
      "Recall:  0.9740106498850296\n",
      "F1 Score:  0.9203916803659495\n",
      "\n",
      "==============================================\n",
      "\n",
      "Test metrics\n",
      "Confusion matrix\n",
      "[[13788   377]\n",
      " [ 2061  1230]]\n",
      "----------------------------------------------\n",
      "Accuracy:  0.8603345554537122\n",
      "Precission:  0.8699602498580352\n",
      "Recall:  0.9733851041298976\n",
      "F1 Score:  0.9187712400879589\n"
     ]
    }
   ],
   "source": [
    "compute_metrics(train_bst_l2_model_pred, y_train, test_bst_l2_model_pred, y_test)"
   ]
  },
  {
   "cell_type": "markdown",
   "metadata": {},
   "source": [
    "**Best Parameters**"
   ]
  },
  {
   "cell_type": "code",
   "execution_count": 161,
   "metadata": {},
   "outputs": [
    {
     "data": {
      "text/plain": [
       "{'best_learning_rate': 0.2703,\n",
       " 'best_batch_size': 32,\n",
       " 'best_h_activation': 'relu',\n",
       " 'best_kernel_init': 'glorot_normal',\n",
       " 'best_optimizer': 'adam',\n",
       " 'best_l2_value': 1e-06}"
      ]
     },
     "execution_count": 161,
     "metadata": {},
     "output_type": "execute_result"
    }
   ],
   "source": [
    "best_params"
   ]
  },
  {
   "cell_type": "markdown",
   "metadata": {
    "collapsed": true
   },
   "source": [
    "### Reference Links:\n",
    "\n",
    "https://machinelearningmastery.com/adam-optimization-algorithm-for-deep-learning/\n",
    "\n",
    "https://keras.io/"
   ]
  },
  {
   "cell_type": "code",
   "execution_count": null,
   "metadata": {},
   "outputs": [],
   "source": []
  }
 ],
 "metadata": {
  "kernelspec": {
   "display_name": "Python 3",
   "language": "python",
   "name": "python3"
  },
  "language_info": {
   "codemirror_mode": {
    "name": "ipython",
    "version": 3
   },
   "file_extension": ".py",
   "mimetype": "text/x-python",
   "name": "python",
   "nbconvert_exporter": "python",
   "pygments_lexer": "ipython3",
   "version": "3.7.3"
  },
  "toc": {
   "base_numbering": 1,
   "nav_menu": {},
   "number_sections": true,
   "sideBar": true,
   "skip_h1_title": false,
   "title_cell": "Table of Contents",
   "title_sidebar": "Contents",
   "toc_cell": false,
   "toc_position": {},
   "toc_section_display": true,
   "toc_window_display": false
  },
  "varInspector": {
   "cols": {
    "lenName": 16,
    "lenType": 16,
    "lenVar": 40
   },
   "kernels_config": {
    "python": {
     "delete_cmd_postfix": "",
     "delete_cmd_prefix": "del ",
     "library": "var_list.py",
     "varRefreshCmd": "print(var_dic_list())"
    },
    "r": {
     "delete_cmd_postfix": ") ",
     "delete_cmd_prefix": "rm(",
     "library": "var_list.r",
     "varRefreshCmd": "cat(var_dic_list()) "
    }
   },
   "types_to_exclude": [
    "module",
    "function",
    "builtin_function_or_method",
    "instance",
    "_Feature"
   ],
   "window_display": false
  }
 },
 "nbformat": 4,
 "nbformat_minor": 2
}