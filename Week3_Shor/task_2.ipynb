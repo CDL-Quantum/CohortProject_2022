{
 "cells": [
  {
   "cell_type": "code",
   "execution_count": 20,
   "id": "4b9c5170",
   "metadata": {},
   "outputs": [
    {
     "name": "stderr",
     "output_type": "stream",
     "text": [
      "configrc.store_credentials:WARNING:2022-07-22 01:16:12,603: Credentials already present. Set overwrite=True to overwrite.\n"
     ]
    }
   ],
   "source": [
    "import numpy as np\n",
    "import math\n",
    "\n",
    "from qiskit import IBMQ\n",
    "IBMQ.save_account('22afb9f6e6768d6c7ea6e144cf330191e8bde8a364b592493ea0ce2815cf3f904b0b90e819a4d01164ca59d5480325c3e2a6ff72ef2d2f207619b9c21cb82c4f')"
   ]
  },
  {
   "cell_type": "code",
   "execution_count": 5,
   "id": "a183f697",
   "metadata": {},
   "outputs": [
    {
     "data": {
      "text/plain": [
       "<AccountProvider for IBMQ(hub='ibm-q', group='open', project='main')>"
      ]
     },
     "execution_count": 5,
     "metadata": {},
     "output_type": "execute_result"
    }
   ],
   "source": [
    "IBMQ.load_account()"
   ]
  },
  {
   "cell_type": "code",
   "execution_count": 21,
   "id": "ec6a8e75",
   "metadata": {},
   "outputs": [],
   "source": [
    "def coprime(a,b):\n",
    "    \n",
    "    hcf = math.gcd(a,b)\n",
    "    \n",
    "    return hcf == 1"
   ]
  },
  {
   "cell_type": "code",
   "execution_count": 23,
   "id": "b6c4bfca",
   "metadata": {},
   "outputs": [
    {
     "data": {
      "text/plain": [
       "True"
      ]
     },
     "execution_count": 23,
     "metadata": {},
     "output_type": "execute_result"
    }
   ],
   "source": [
    "coprime(7, 15)"
   ]
  },
  {
   "cell_type": "code",
   "execution_count": 12,
   "id": "280a565b",
   "metadata": {},
   "outputs": [],
   "source": [
    "random_value_list = range(2, 89, 2)"
   ]
  },
  {
   "cell_type": "code",
   "execution_count": 18,
   "id": "bdee410c",
   "metadata": {},
   "outputs": [
    {
     "data": {
      "text/plain": [
       "9"
      ]
     },
     "execution_count": 18,
     "metadata": {},
     "output_type": "execute_result"
    }
   ],
   "source": [
    "np.random.randint(44)"
   ]
  },
  {
   "cell_type": "code",
   "execution_count": null,
   "id": "82fbd587",
   "metadata": {},
   "outputs": [],
   "source": [
    "def c_amod91(a, power):\n",
    "    \"\"\"Controlled multiplication by a mod 15\"\"\"\n",
    "    U = QuantumCircuit(4)        \n",
    "    for iteration in range(power):\n",
    "        if a in [2,13]:\n",
    "            U.swap(0,1)\n",
    "            U.swap(1,2)\n",
    "            U.swap(2,3)\n",
    "        if a in [7,8]:\n",
    "            U.swap(2,3)\n",
    "            U.swap(1,2)\n",
    "            U.swap(0,1)\n",
    "        if a in [4, 11]:\n",
    "            U.swap(1,3)\n",
    "            U.swap(0,2)\n",
    "        if a in [7,11,13]:\n",
    "            for q in range(4):\n",
    "                U.x(q)\n",
    "    U = U.to_gate()\n",
    "    U.name = \"%i^%i mod 15\" % (a, power)\n",
    "    c_U = U.control()\n",
    "    return c_U"
   ]
  },
  {
   "cell_type": "code",
   "execution_count": null,
   "id": "4a9b06ca",
   "metadata": {},
   "outputs": [],
   "source": []
  },
  {
   "cell_type": "code",
   "execution_count": null,
   "id": "a2897145",
   "metadata": {},
   "outputs": [],
   "source": []
  },
  {
   "cell_type": "code",
   "execution_count": null,
   "id": "ef6d705f",
   "metadata": {},
   "outputs": [],
   "source": [
    "def shors(N):\n",
    "    p = 1\n",
    "    q = 1\n",
    "    \n",
    "    random_value_list = range(2, N, 2)\n",
    "    random_value_list_len = len(random_value_list)\n",
    "    \n",
    "    while p * q != N:\n",
    "        \n",
    "        a_prime = np.random.randint(random_value_list_len)\n",
    "        a = random_value_list[a_prime]\n",
    "        \n",
    "        if coprime(a,N):\n",
    "            p = a\n",
    "            q = int(N / a)\n",
    "            \n",
    "        else:\n",
    "            #use QC to find m\n",
    "            \n",
    "            if (m % 2) == 1:\n",
    "                continue\n",
    "            else:\n",
    "                m_prime = int(m / 2)\n",
    "                x_prime = a ** m_prime\n",
    "                x = x_prime % N\n",
    "                \n",
    "                if x == 1 or x == -1:\n",
    "                    continue\n",
    "                else:\n",
    "                    p = math.gcd(x - 1, N)\n",
    "                    q = math.gcd(x + 1, N)\n",
    "            \n",
    "    \n",
    "    return p, q\n",
    "        "
   ]
  },
  {
   "cell_type": "code",
   "execution_count": null,
   "id": "7ae4bb6e",
   "metadata": {},
   "outputs": [],
   "source": []
  },
  {
   "cell_type": "code",
   "execution_count": null,
   "id": "f8f9994f",
   "metadata": {},
   "outputs": [],
   "source": []
  }
 ],
 "metadata": {
  "kernelspec": {
   "display_name": "Python 3 (ipykernel)",
   "language": "python",
   "name": "python3"
  },
  "language_info": {
   "codemirror_mode": {
    "name": "ipython",
    "version": 3
   },
   "file_extension": ".py",
   "mimetype": "text/x-python",
   "name": "python",
   "nbconvert_exporter": "python",
   "pygments_lexer": "ipython3",
   "version": "3.9.10"
  }
 },
 "nbformat": 4,
 "nbformat_minor": 5
}
