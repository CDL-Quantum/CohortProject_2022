{
 "cells": [
  {
   "cell_type": "markdown",
   "id": "2919e2b4",
   "metadata": {},
   "source": [
    "# Challenge 1:\n",
    "\n",
    "Try running your implementation of Shor's algorithm on real quantum\n",
    "hardware. How large of a number can you successfully (and reliably) factor?"
   ]
  },
  {
   "cell_type": "markdown",
   "id": "cbe98859",
   "metadata": {},
   "source": [
    "# Implementation\n",
    "\n",
    "Import for mathematical operators, variables o functions from math; and import a integer random generator  from random library. And using time library for check timeexecution for methods in our proposal solution."
   ]
  },
  {
   "cell_type": "code",
   "execution_count": 1,
   "id": "a868dfd4",
   "metadata": {},
   "outputs": [],
   "source": [
    "from math import gcd,ceil, pi, log2\n",
    "from random import randint\n",
    "import time"
   ]
  },
  {
   "cell_type": "markdown",
   "id": "d20db9cb",
   "metadata": {},
   "source": [
    "Using in the framework qiskit for the quantum computing algorithm for this we use the Quantum fourier Transform predefine method with other to run in a simulator backend."
   ]
  },
  {
   "cell_type": "code",
   "execution_count": 2,
   "id": "ebb45626",
   "metadata": {},
   "outputs": [],
   "source": [
    "# Importing standard Qiskit libraries\n",
    "from qiskit import QuantumCircuit, transpile, assemble, Aer, IBMQ\n",
    "from qiskit.circuit.library import QFT"
   ]
  },
  {
   "cell_type": "markdown",
   "id": "75180c85",
   "metadata": {},
   "source": [
    "Method to design any unitary gate using  the format $2^i mod(N)$"
   ]
  },
  {
   "cell_type": "code",
   "execution_count": 3,
   "id": "10a0940a",
   "metadata": {},
   "outputs": [],
   "source": [
    "def unitary_gate(data_qubits,value,exp,N):\n",
    "    qc = QuantumCircuit(data_qubits)\n",
    "    \n",
    "    ## find the output for the modulo  \n",
    "    const = (value**exp)%N\n",
    "    \n",
    "    # obtain the binary number with the same lenght\n",
    "    a = bin(const)[2:]\n",
    "    while len(a) < data_qubits:\n",
    "        a = '0'+a\n",
    "        \n",
    "    a=a[::-1]\n",
    "    \n",
    "    # consider a list for all the rotation we can reduce\n",
    "    list_a = [0]*data_qubits  \n",
    "    for i in range(data_qubits): \n",
    "        if a[i] =='1':\n",
    "            k = 0\n",
    "            for j in range(i,data_qubits):\n",
    "                # save the values rotation in a\n",
    "                list_a[data_qubits-j-1] +=pi/float(2**(k))  \n",
    "                k+=1\n",
    "\n",
    "    # apply the result of the list in a quantum circuit\n",
    "    for i in range(data_qubits):\n",
    "        if list_a[i] != 0:\n",
    "            qc.p(list_a[i],i)\n",
    "            k+=1\n",
    "\n",
    "    # convert the quantum circuit into a quantum gate\n",
    "    return qc.to_gate(label=\" [ \"+ str(value)+\"^\"+str(exp)+\"% \"+str(N) + \"] \") "
   ]
  },
  {
   "cell_type": "markdown",
   "id": "d67db7d9",
   "metadata": {},
   "source": [
    "Design the quantum part from the Shor algorithm using Quantum Phase Estimation method and add a return value the qc.\n",
    "\n",
    "\n",
    "## Adder the quantum hardware\n",
    "\n",
    "Usin a quantum computer form IBM with 16 qubits."
   ]
  },
  {
   "cell_type": "code",
   "execution_count": 4,
   "id": "70617141",
   "metadata": {},
   "outputs": [],
   "source": [
    "# load the token\n",
    "IBMQ.load_account()\n",
    "# select the provider\n",
    "provider = IBMQ.providers()[2]\n",
    "# select the backend \n",
    "backend =provider.get_backend('ibmq_guadalupe')"
   ]
  },
  {
   "cell_type": "markdown",
   "id": "5c51ac90",
   "metadata": {},
   "source": [
    "Replace the **aer_sim** variable that is the `qasm_simulator` for the variable **backend** that works using `ibm_guadalupe`, \n",
    "the next code replace the indication:\n",
    "\n",
    "`result = backend.run(qobj).result()\n",
    "    readings = result.get_counts()`"
   ]
  },
  {
   "cell_type": "code",
   "execution_count": 5,
   "id": "f6efcb7b",
   "metadata": {},
   "outputs": [],
   "source": [
    "def qpe(a,N):\n",
    "    # select the qubits for the quantum circuit \n",
    "    n = len(bin(N)[2:])\n",
    "    m = int(ceil(log2(N)))\n",
    "    \n",
    "    qc = QuantumCircuit(n+m,n)\n",
    "    \n",
    "    # apply hadamard gates in the measurements qubits\n",
    "    qc.h(range(n)) \n",
    "    qc.barrier()\n",
    "\n",
    "    # apply the untiary gates \n",
    "    qc.h(range(n,m+n))\n",
    "    for i in range(n): \n",
    "        qc.append(unitary_gate(m, a,i,N).control(1) ,[i]+[i for i in range(n,m+n)])\n",
    "    \n",
    "    qc.barrier()\n",
    "    \n",
    "    # apply inverse of the Quantum Fourier Transform QFT \n",
    "    qc.append(QFT(n,do_swaps=False).inverse(),range(n))\n",
    "    \n",
    "    #measure only the qubits that are equals to the lenght of N\n",
    "    qc.measure(range(n), range(n))\n",
    "    \n",
    "    #not consider this backend\n",
    "    aer_sim = Aer.get_backend('aer_simulator')\n",
    "    \n",
    "    # apply the real hardware calling the variable backend\n",
    "    t_qc = transpile(qc, backend)\n",
    "    qobj = assemble(t_qc, shots=1)\n",
    "    result = backend.run(qobj).result()\n",
    "    readings = result.get_counts()\n",
    "    k = int(list(readings.keys())[0],2)/2**n\n",
    "    return k,qc\n"
   ]
  },
  {
   "cell_type": "markdown",
   "id": "1b8706dc",
   "metadata": {},
   "source": [
    "## Generate the shor algortihm\n",
    "\n",
    "connect our porposal of the Quantum Phase Estimation  to find the **m** value correct for the shor algorithm, and using the pseudo code provided for the task . for check the potential of the quantu malgorithm we don't consider the case when are not coprime value in the a variable."
   ]
  },
  {
   "cell_type": "code",
   "execution_count": 6,
   "id": "36bf1487",
   "metadata": {},
   "outputs": [],
   "source": [
    "list_only_quantum = []\n",
    "list_quantum = []\n",
    "list_shor = []\n",
    "list_num_qubits = []\n",
    "list_num_gates = []\n",
    "list_num_nolocal_gates = []\n",
    "list_depth = []"
   ]
  },
  {
   "cell_type": "code",
   "execution_count": 7,
   "id": "68dfd50e",
   "metadata": {},
   "outputs": [],
   "source": [
    "def shor(N):\n",
    "    \n",
    "    p, q = 13, 23\n",
    "    \n",
    "    while p * q is not N:\n",
    "        \n",
    "        a = randint(2, N-2)\n",
    "        if gcd(a,N)!=1:\n",
    "            # we are lucky!\n",
    "            p = a\n",
    "            q = int(N / a)\n",
    "    \n",
    "        else:\n",
    "            #use a quantum computer to find order m of U_Na\n",
    "            start_time = time.time()\n",
    "            m,qc  = qpe(a,N)\n",
    "            list_only_quantum.append(time.time() - start_time)\n",
    "            if m %2 == 1:\n",
    "                # invalid\n",
    "                continue\n",
    "\n",
    "            else:\n",
    "                x = int((a ** m) % N)\n",
    "\n",
    "                if (x == 1 or x == -1) % N:\n",
    "                    # invalid\n",
    "                    continue\n",
    "                else:\n",
    "                    # valid!\n",
    "                    p = gcd(x - 1, N)\n",
    "                    q = gcd(x + 1, N)\n",
    "        #print(p,q,len(qc.qubits))\n",
    "    return p,q,qc"
   ]
  },
  {
   "cell_type": "markdown",
   "id": "d99dbcce",
   "metadata": {},
   "source": [
    "### Run algorithm\n",
    "\n",
    "Using our proposal solution with different values, and we using an extra library numpy for manipulate  list values"
   ]
  },
  {
   "cell_type": "code",
   "execution_count": 8,
   "id": "f61c828e",
   "metadata": {},
   "outputs": [],
   "source": [
    "import numpy as np"
   ]
  },
  {
   "cell_type": "markdown",
   "id": "e6186226",
   "metadata": {},
   "source": [
    "For the real quantum computer is of 16 qubits, the limit is  in that number, for that reason was used the input 91 that works with 14 qubits in the proposal of the Shor's algorithms of the task 2 and 3."
   ]
  },
  {
   "cell_type": "code",
   "execution_count": 9,
   "id": "0c72d984",
   "metadata": {},
   "outputs": [],
   "source": [
    "inputs = [91]"
   ]
  },
  {
   "cell_type": "markdown",
   "id": "b8f603b6",
   "metadata": {},
   "source": [
    "Using the same idea of the Task , was compared the number of the qubits, the number of gates, the time and depth 2 times, because the real hardware is used from a cloud platform and we need ti wait to use the hardware with the quantum circuit."
   ]
  },
  {
   "cell_type": "code",
   "execution_count": 11,
   "id": "d6a1d45d",
   "metadata": {},
   "outputs": [
    {
     "name": "stdout",
     "output_type": "stream",
     "text": [
      "91 14\n"
     ]
    }
   ],
   "source": [
    "for i in inputs:\n",
    "     for j in range(2):\n",
    "        start_time_v2 = time.time()\n",
    "        p,q,qc1 = shor(i)\n",
    "        list_only_quantum.append(time.time() - start_time_v2)\n",
    "\n",
    "        list_num_qubits.append(len(qc1.qubits))\n",
    "        qc2 = qc1.decompose().decompose()\n",
    "        list_num_gates.append(qc2.size())\n",
    "        list_num_nolocal_gates.append(qc2.num_nonlocal_gates())\n",
    "        list_depth.append(qc2.depth())\n",
    "        list_quantum.append([np.average(list_only_quantum),np.std(list_only_quantum)])\n",
    "        list_only_quantum = []\n",
    "        print(i, len(qc1.qubits))"
   ]
  },
  {
   "cell_type": "markdown",
   "id": "d6cbcca8",
   "metadata": {},
   "source": [
    "### Results\n",
    "\n",
    "The algorithm was used 2 times and their results for the algorithm is depends of p & q, where those are 13 and 7, in other words the quantum computer could find  the correct values."
   ]
  },
  {
   "cell_type": "code",
   "execution_count": 12,
   "id": "c8952bba",
   "metadata": {},
   "outputs": [
    {
     "data": {
      "text/plain": [
       "(13, 7)"
      ]
     },
     "execution_count": 12,
     "metadata": {},
     "output_type": "execute_result"
    }
   ],
   "source": [
    "p,q"
   ]
  },
  {
   "cell_type": "markdown",
   "id": "6364dfb6",
   "metadata": {},
   "source": [
    "The time for each iteratios is between, 22 and 32 seconds, that depends of the position in when the job was selected to use in the quantum platform. This porject can confirn  in secnds can find the value using a quantum computer"
   ]
  },
  {
   "cell_type": "code",
   "execution_count": 18,
   "id": "cca1a8c6",
   "metadata": {},
   "outputs": [
    {
     "data": {
      "text/plain": [
       "[[22.335453351338703, 8.487457141398883],\n",
       " [32.86271196603775, 37.35823521336561]]"
      ]
     },
     "execution_count": 18,
     "metadata": {},
     "output_type": "execute_result"
    }
   ],
   "source": [
    "list_quantum"
   ]
  }
 ],
 "metadata": {
  "kernelspec": {
   "display_name": "Python 3 (ipykernel)",
   "language": "python",
   "name": "python3"
  },
  "language_info": {
   "codemirror_mode": {
    "name": "ipython",
    "version": 3
   },
   "file_extension": ".py",
   "mimetype": "text/x-python",
   "name": "python",
   "nbconvert_exporter": "python",
   "pygments_lexer": "ipython3",
   "version": "3.8.8"
  }
 },
 "nbformat": 4,
 "nbformat_minor": 5
}
