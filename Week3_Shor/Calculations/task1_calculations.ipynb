{
 "cells": [
  {
   "cell_type": "code",
   "execution_count": 1,
   "id": "7d982b1e",
   "metadata": {},
   "outputs": [
    {
     "name": "stdout",
     "output_type": "stream",
     "text": [
      "Pretty printing has been turned OFF\n"
     ]
    }
   ],
   "source": [
    "import numpy as np\n",
    "import pandas as pd\n",
    "%pprint"
   ]
  },
  {
   "cell_type": "markdown",
   "id": "e4429aa8",
   "metadata": {},
   "source": [
    "## Information Security using RSA\n",
    "\n",
    "In our digital age, the information that we send across networks is largely secured using an asymmetric cryptographic protocol called RSA. RSA depends on the mathematical difficulty of prime factorization of large numbers that are on the order of 2048+ bits long. Using classical computers, prime factorization of such numbers is intractable (requiring sub-exponential time), but a quantum computer running some derivative of Shor's algorithm could complete such a calculation in a super-polynomial time. Given a number to be prime factorized, $N=pq$, we calculate a parameter $\\theta = (p-1)(q-1)$, choose a value of $e$ such that $\\mbox{gcd}(e, \\theta) = 1$, and then find $d$ such that $de = 1\\ (\\mbox{mod}\\ \\theta)$. Finally, the key is given as $(d, e, N)$. Now, to encrypt the plaintext message ($m$) into ciphertext ($c$), we use the equality:\n",
    "\n",
    "$c = m^{e}\\ \\mbox{mod}\\ N$\n",
    "\n",
    "And to decrypt a ciphertext message into plaintext we use:\n",
    "\n",
    "$m = c^{d}\\ \\mbox{mod}\\ N$.\n",
    "\n",
    "To explore how RSA works and why it can be defeated by Shor's algorithm, we will use the RSA protocol to decrypt an encrypted message, which has the following two layers of mapping: characters $\\rightarrow$ plaintext $\\rightarrow$ ciphertext.\n",
    "\n",
    "After defining the 'decrypt' and 'encrypt' functions, we take a desired ciphertext message (sent from our friend, message= [292, 290, 218, 55, 127, 174, 171, 127, 112, 24, 251, 248, 127, 132, 218, 213, 24, 251, 248, 174, 55, 53, 127, 233, 24, 268, 24, 251, 248]) and decode it using the known key $(d, e, N) = (169, 25, 299)$ and our dictionary which maps character $\\leftrightarrow$ plaintext, dic ={0:0, 1:1, 2:2, 3:3, 4:4, 5:5, 6:6, 7:7, 8:8, 9:9, 10:a, 11:b, 12:c, 13:d, 14:e, 15:f, 16:g, 17:h, 18:i, 19:j, 20:k, 21:l, 22:m, 23:n, 24:o, 25:p, 26:q, 27:r, 28:s, 29:t, 30:u, 31:v, 32:w, 33:x, 34:y, 35:z, 36: }.\n",
    "\n",
    "Using our 'decrypt' function, 'dic', and our known key, we decrypt the message and find it to be: \n",
    "\n",
    "plaintext=[32, 17, 10, 29, 36, 18, 28, 36, 34, 24, 30, 27, 36, 15, 10, 31, 24, 30, 27, 18, 29, 14, 36, 12, 24, 21, 24, 30, 27]. \n",
    "\n",
    "Now we must map the message from plaintext (integers) to characters using our 'map_plaintext_to_char' function and find that the message says: 'what is your favourite colour'. The good news is that this is not jibberish, so it seems that we decrypted and mapped the message correctly.\n",
    "\n",
    "Now let's use our dictionary and our friend's public key, $(e, N) = (29, 91)$ to map and encode a response: \n",
    "\n",
    "'my favourite colour is blue' $\\rightarrow$ plaintext=[22, 34, 36, 15, 10, 31, 24, 30, 27, 18, 29, 14, 36, 12, 24, 21, 24, 30, 27, 36, 18, 28, 36, 11, 21, 30, 14] $\\rightarrow$ ciphertext=[29, 34, 43, 71, 82, 5, 33, 88, 27, 44, 22, 14, 43, 38, 33, 21, 33, 88, 27, 43, 44, 84, 43, 72, 21, 88, 14].\n",
    "\n",
    "Okay, so we have what appears to be a mapped and encrypted message consisting of ciphertext. Now to confirm that we encoded the message correctly, let's find the prime factors of $N = 91$ using an online calculator, calculate $\\theta$, and solve for the value of the private key parameter $d$. We use this value of $d$ to decrypt our message using our 'decrypt' function to ensure that the plaintext reads correctly:\n",
    "\n",
    "$(e, N) = (29, 91)$\n",
    "\n",
    "$p = 7$\n",
    "\n",
    "$q = 13$\n",
    "\n",
    "$\\theta = 72$\n",
    "\n",
    "$d = 5$\n",
    "\n",
    "So our friend's entire key is $(d, e, N) = (5, 29, 91)$. Now decrypting using this key, our message in plaintext is:\n",
    "\n",
    "plaintext=[22, 34, 36, 15, 10, 31, 24, 30, 27, 18, 29, 14, 36, 12, 24, 21, 24, 30, 27, 36, 18, 28, 36, 11, 21, 30, 14]\n",
    "\n",
    "And mapping from plaintext to characters, we recover 'my favourite colour is blue'.\n",
    "\n",
    "Mission complete!"
   ]
  },
  {
   "cell_type": "code",
   "execution_count": 57,
   "id": "4e6f9652",
   "metadata": {},
   "outputs": [],
   "source": [
    "\"\"\"\n",
    "For this task, messages are expressed as a list of integers. Each integer represents\n",
    "a separate character in the original message string. The mapping between characters \n",
    "and `decoded` (plaintext) integers is:\n",
    " - 0-9: numbers 0-9\n",
    " - 10-35: letters a-z (only lowercase is used)\n",
    " - 36: space\n",
    "Example: \"abc def\" would be converted to [10, 11, 12, 36, 13, 14, 15].\n",
    "Below is an *encoded* message from your friend; you will need to decode it character\n",
    "by character using your RSA private key, and then convert the resulting list of\n",
    "integers back to a string using the correspondence above.\n",
    "\"\"\"\n",
    "\n",
    "def decrypt(ciphertext, private_d, N):\n",
    "    \"\"\"Decrypt an encoded message. \n",
    " \n",
    "    Args:\n",
    "        ciphertext (list[int]): A list of integers representing the secret message.\n",
    "            Each integer in the list represents a different character in the message.\n",
    "        private_d (int): Your (private) portion of the RSA key.\n",
    "        N (int): The modulus of the RSA key.\n",
    " \n",
    "    Returns:\n",
    "        plaintext (list[int]): The message in plaintext.\n",
    "    \"\"\"\n",
    "    \n",
    "    plaintext = []\n",
    "    for i,j in enumerate(ciphertext):\n",
    "        value = (j ** private_d) % N\n",
    "        plaintext.append(value)\n",
    "    \n",
    "    return plaintext\n",
    "\n",
    "\n",
    "def encrypt(plaintext, public_e, N):\n",
    "    \"\"\"Encrypt a message \n",
    "    Args:\n",
    "        plaintext (list[int]): A list of integers representing the message after mapping from char to integers.\n",
    "        public_e (int): The public portion of the RSA key (e, N) used for encoding.\n",
    "        N (int): The modulus of the RSA key.\n",
    " \n",
    "    Returns:\n",
    "        ciphertext (list[int]): The message, encoded using the public key as a list of integers.\n",
    "    \"\"\"\n",
    "    \n",
    "    ciphertext = []\n",
    "    for i,j in enumerate(plaintext):\n",
    "        value = (j ** public_e) % N\n",
    "        ciphertext.append(value)\n",
    "\n",
    "    return ciphertext\n",
    "\n",
    "def map_char_to_plaintext(char, dic):\n",
    "    '''Map message from characters to plaintext (integers)\n",
    "    Args:\n",
    "        char (list[int]): list of message encoded into characters\n",
    "        dic (dictionrary): dictionary mapping characters <> integers\n",
    "    \n",
    "    Returns:\n",
    "        plaintext (list[int]): The message encoded in plaintext\n",
    "    '''\n",
    "\n",
    "    plaintext = []\n",
    "    for i in char:\n",
    "        for key, value in dic.items():\n",
    "            if str(i) == value:\n",
    "                plaintext.append(int(key))\n",
    "    \n",
    "    return plaintext\n",
    "\n",
    "def map_plaintext_to_char(plaintext, dic):\n",
    "    '''Map message from characters to plaintext (integers)\n",
    "    Args:\n",
    "        char (list[int]): list of message encoded into characters\n",
    "        dic (dictionrary): dictionary mapping characters <> integers\n",
    "    \n",
    "    Returns:\n",
    "        plaintext (list[int]): The message encoded in plaintext\n",
    "    '''\n",
    "\n",
    "    string = ''\n",
    "    for i,j in enumerate(plaintext):\n",
    "        for key, value in dic.items():\n",
    "            if str(j) == key:\n",
    "                string += value\n",
    "                \n",
    "    return string"
   ]
  },
  {
   "cell_type": "markdown",
   "id": "a98ccdfd",
   "metadata": {},
   "source": [
    "Now, having defined the 'decrypt' and 'encrypt' functions, we take a desired ciphertext message (sent from our friend) and decode it using the known key $(d, e, N) = (169, 25, 299)$ and our dictionary which maps character $\\leftrightarrow$ plaintext, 'dic'."
   ]
  },
  {
   "cell_type": "code",
   "execution_count": 58,
   "id": "e80e1a08",
   "metadata": {},
   "outputs": [],
   "source": [
    "message_from_friend = [292, 290, 218, 55, 127, 174, 171, 127, 112, 24, 251, 248, \\\n",
    "                       127, 132, 218, 213, 24, 251, 248, 174, 55, \\\n",
    "                       53, 127, 233, 24, 268, 24, 251, 248]\n",
    "\n",
    "# Create key\n",
    "d = 169\n",
    "e = 25\n",
    "N = 299\n",
    "\n",
    "# Create mapping dictionary\n",
    "dic = {'0':'0', '1':'1', '2':'2', '3':'3', '4':'4', '5':'5', '6':'6', '7':'7', '8':'8', '9':'9', \\\n",
    "        '10':'a', '11':'b', '12':'c', '13':'d', '14':'e', '15':'f', '16':'g', '17':'h', '18':'i', '19':'j', '20':'k', \\\n",
    "        '21':'l', '22':'m', '23':'n', '24':'o', '25':'p', '26':'q', '27':'r', '28':'s', '29':'t', '30':'u', '31':'v', \\\n",
    "        '32':'w', '33':'x', '34':'y', '35':'z', '36':' '}"
   ]
  },
  {
   "cell_type": "markdown",
   "id": "0caad692",
   "metadata": {},
   "source": [
    "Let's determine the decrypted message in plaintext:"
   ]
  },
  {
   "cell_type": "code",
   "execution_count": 59,
   "id": "ef52a445",
   "metadata": {},
   "outputs": [
    {
     "data": {
      "text/plain": [
       "[32, 17, 10, 29, 36, 18, 28, 36, 34, 24, 30, 27, 36, 15, 10, 31, 24, 30, 27, 18, 29, 14, 36, 12, 24, 21, 24, 30, 27]"
      ]
     },
     "execution_count": 59,
     "metadata": {},
     "output_type": "execute_result"
    }
   ],
   "source": [
    "# Decrypt friend's message into plaintext\n",
    "plaintext = decrypt(message_from_friend, d, N)\n",
    "decrypt(message_from_friend, d, N)"
   ]
  },
  {
   "cell_type": "markdown",
   "id": "a660cb1f",
   "metadata": {},
   "source": [
    "Now let's see if our 'map_plaintext_to_char' function outputs something semi-coherent:"
   ]
  },
  {
   "cell_type": "code",
   "execution_count": 60,
   "id": "3347f2fe",
   "metadata": {},
   "outputs": [
    {
     "data": {
      "text/plain": [
       "'what is your favourite colour'"
      ]
     },
     "execution_count": 60,
     "metadata": {},
     "output_type": "execute_result"
    }
   ],
   "source": [
    "# Map friend's plaintext to characters\n",
    "map_plaintext_to_char(plaintext, dic)"
   ]
  },
  {
   "cell_type": "markdown",
   "id": "1059cabd",
   "metadata": {},
   "source": [
    "Well, it's not jibberish, so it seems that we decoded and mapped the message correctly. Now let's use our dictionary and our friend's public key, $(e, N) = (29, 91)$ to map and encode a response: "
   ]
  },
  {
   "cell_type": "code",
   "execution_count": 61,
   "id": "4f521e7a",
   "metadata": {},
   "outputs": [],
   "source": [
    "# Friend's public key\n",
    "e = 29\n",
    "N = 91"
   ]
  },
  {
   "cell_type": "code",
   "execution_count": 62,
   "id": "99eb0d68",
   "metadata": {},
   "outputs": [
    {
     "data": {
      "text/plain": [
       "[22, 34, 36, 15, 10, 31, 24, 30, 27, 18, 29, 14, 36, 12, 24, 21, 24, 30, 27, 36, 18, 28, 36, 11, 21, 30, 14]"
      ]
     },
     "execution_count": 62,
     "metadata": {},
     "output_type": "execute_result"
    }
   ],
   "source": [
    "# Map my response from characters to plaintext\n",
    "my_message = 'my favourite colour is blue'\n",
    "plaintext = map_char_to_plaintext(my_message, dic)\n",
    "map_char_to_plaintext(my_message, dic)"
   ]
  },
  {
   "cell_type": "code",
   "execution_count": 63,
   "id": "69bae850",
   "metadata": {},
   "outputs": [
    {
     "name": "stdout",
     "output_type": "stream",
     "text": [
      "[29, 34, 43, 71, 82, 5, 33, 88, 27, 44, 22, 14, 43, 38, 33, 21, 33, 88, 27, 43, 44, 84, 43, 72, 21, 88, 14]\n"
     ]
    }
   ],
   "source": [
    "# Encrypt my plaintext as ciphertext\n",
    "ciphertext = encrypt(plaintext, e, N)\n",
    "print (ciphertext)"
   ]
  },
  {
   "cell_type": "markdown",
   "id": "4d86961c",
   "metadata": {},
   "source": [
    "Okay, so we have what appears to be a mapped and encrypted message consisting of ciphertext. Now to confirm that we encoded the message correctly, let's find the prime factors of $N = 91$, calculate $\\theta$, and solve for the value of the private key parameter $d$. We will use this value of $d$ to decrypt our message using our 'decrypt' function to ensure that the plaintext reads correctly.  "
   ]
  },
  {
   "cell_type": "code",
   "execution_count": 64,
   "id": "37059fd2",
   "metadata": {},
   "outputs": [
    {
     "name": "stdout",
     "output_type": "stream",
     "text": [
      "theta is: 72\n",
      "d is: 5\n"
     ]
    }
   ],
   "source": [
    "# Use online calculators to find prime numbers, then find d s.t. d*e = 1 (mod(theta))\n",
    "p = 7\n",
    "q = 13\n",
    "theta = (p-1)*(q-1)\n",
    "d = 1\n",
    "while (d * e) % theta != 1:\n",
    "    d += 1\n",
    "print ('theta is:', theta)\n",
    "print ('d is:', d)"
   ]
  },
  {
   "cell_type": "code",
   "execution_count": 65,
   "id": "07643da9",
   "metadata": {},
   "outputs": [
    {
     "data": {
      "text/plain": [
       "[22, 34, 36, 15, 10, 31, 24, 30, 27, 18, 29, 14, 36, 12, 24, 21, 24, 30, 27, 36, 18, 28, 36, 11, 21, 30, 14]"
      ]
     },
     "execution_count": 65,
     "metadata": {},
     "output_type": "execute_result"
    }
   ],
   "source": [
    "# Using calculated value of d, decrypt my ciphertext message\n",
    "plaintext = decrypt(ciphertext, d, N)\n",
    "decrypt(ciphertext, d, N)"
   ]
  },
  {
   "cell_type": "code",
   "execution_count": 66,
   "id": "6a162c78",
   "metadata": {},
   "outputs": [
    {
     "data": {
      "text/plain": [
       "'my favourite colour is blue'"
      ]
     },
     "execution_count": 66,
     "metadata": {},
     "output_type": "execute_result"
    }
   ],
   "source": [
    "# Confirm correct mapping to characters\n",
    "map_plaintext_to_char(plaintext, dic)"
   ]
  },
  {
   "cell_type": "markdown",
   "id": "c12652c7",
   "metadata": {},
   "source": [
    "Success! After decrypting our ciphertext we recover our original plaintext and see that the encoding and decoding functions worked correctly and produced the desired results."
   ]
  },
  {
   "cell_type": "code",
   "execution_count": null,
   "id": "aa619a28",
   "metadata": {},
   "outputs": [],
   "source": []
  }
 ],
 "metadata": {
  "kernelspec": {
   "display_name": "Python 3 (ipykernel)",
   "language": "python",
   "name": "python3"
  },
  "language_info": {
   "codemirror_mode": {
    "name": "ipython",
    "version": 3
   },
   "file_extension": ".py",
   "mimetype": "text/x-python",
   "name": "python",
   "nbconvert_exporter": "python",
   "pygments_lexer": "ipython3",
   "version": "3.9.12"
  }
 },
 "nbformat": 4,
 "nbformat_minor": 5
}
