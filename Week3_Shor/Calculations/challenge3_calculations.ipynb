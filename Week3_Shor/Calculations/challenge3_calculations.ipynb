{
 "cells": [
  {
   "cell_type": "code",
   "execution_count": 1,
   "id": "2ef7aa44",
   "metadata": {},
   "outputs": [],
   "source": [
    "# Use Braket SDK Cost Tracking to estimate the cost to run this example\n",
    "from braket.tracking import Tracker\n",
    "t = Tracker().start()"
   ]
  },
  {
   "cell_type": "code",
   "execution_count": 2,
   "id": "bed3081e",
   "metadata": {},
   "outputs": [
    {
     "name": "stdout",
     "output_type": "stream",
     "text": [
      "Looking in indexes: https://pypi.org/simple, https://pip.repos.neuron.amazonaws.com\n",
      "Requirement already satisfied: autopep8 in /home/ec2-user/anaconda3/envs/Braket/lib/python3.7/site-packages (1.6.0)\n",
      "Requirement already satisfied: pycodestyle>=2.8.0 in /home/ec2-user/anaconda3/envs/Braket/lib/python3.7/site-packages (from autopep8) (2.8.0)\n",
      "Requirement already satisfied: toml in /home/ec2-user/anaconda3/envs/Braket/lib/python3.7/site-packages (from autopep8) (0.10.2)\n",
      "Looking in indexes: https://pypi.org/simple, https://pip.repos.neuron.amazonaws.com\n",
      "Requirement already satisfied: jupyter_contrib_nbextensions==0.5.1 in /home/ec2-user/anaconda3/envs/Braket/lib/python3.7/site-packages (0.5.1)\n",
      "Requirement already satisfied: jupyter-latex-envs>=1.3.8 in /home/ec2-user/anaconda3/envs/Braket/lib/python3.7/site-packages (from jupyter_contrib_nbextensions==0.5.1) (1.4.6)\n",
      "Requirement already satisfied: traitlets>=4.1 in /home/ec2-user/anaconda3/envs/Braket/lib/python3.7/site-packages (from jupyter_contrib_nbextensions==0.5.1) (5.1.1)\n",
      "Requirement already satisfied: notebook>=4.0 in /home/ec2-user/anaconda3/envs/Braket/lib/python3.7/site-packages (from jupyter_contrib_nbextensions==0.5.1) (6.4.12)\n",
      "Requirement already satisfied: jupyter-contrib-core>=0.3.3 in /home/ec2-user/anaconda3/envs/Braket/lib/python3.7/site-packages (from jupyter_contrib_nbextensions==0.5.1) (0.4.0)\n",
      "Requirement already satisfied: ipython-genutils in /home/ec2-user/anaconda3/envs/Braket/lib/python3.7/site-packages (from jupyter_contrib_nbextensions==0.5.1) (0.2.0)\n",
      "Requirement already satisfied: jupyter-nbextensions-configurator>=0.4.0 in /home/ec2-user/anaconda3/envs/Braket/lib/python3.7/site-packages (from jupyter_contrib_nbextensions==0.5.1) (0.5.0)\n",
      "Requirement already satisfied: pyyaml in /home/ec2-user/anaconda3/envs/Braket/lib/python3.7/site-packages (from jupyter_contrib_nbextensions==0.5.1) (5.4.1)\n",
      "Requirement already satisfied: tornado in /home/ec2-user/anaconda3/envs/Braket/lib/python3.7/site-packages (from jupyter_contrib_nbextensions==0.5.1) (6.1)\n",
      "Requirement already satisfied: jupyter-highlight-selected-word>=0.1.1 in /home/ec2-user/anaconda3/envs/Braket/lib/python3.7/site-packages (from jupyter_contrib_nbextensions==0.5.1) (0.2.0)\n",
      "Requirement already satisfied: nbconvert>=4.2 in /home/ec2-user/anaconda3/envs/Braket/lib/python3.7/site-packages (from jupyter_contrib_nbextensions==0.5.1) (6.0.7)\n",
      "Requirement already satisfied: jupyter-core in /home/ec2-user/anaconda3/envs/Braket/lib/python3.7/site-packages (from jupyter_contrib_nbextensions==0.5.1) (4.10.0)\n",
      "Requirement already satisfied: lxml in /home/ec2-user/anaconda3/envs/Braket/lib/python3.7/site-packages (from jupyter_contrib_nbextensions==0.5.1) (4.9.1)\n",
      "Requirement already satisfied: setuptools in /home/ec2-user/anaconda3/envs/Braket/lib/python3.7/site-packages (from jupyter-contrib-core>=0.3.3->jupyter_contrib_nbextensions==0.5.1) (58.0.4)\n",
      "Requirement already satisfied: ipython in /home/ec2-user/anaconda3/envs/Braket/lib/python3.7/site-packages (from jupyter-latex-envs>=1.3.8->jupyter_contrib_nbextensions==0.5.1) (7.31.1)\n",
      "Requirement already satisfied: mistune<2,>=0.8.1 in /home/ec2-user/anaconda3/envs/Braket/lib/python3.7/site-packages (from nbconvert>=4.2->jupyter_contrib_nbextensions==0.5.1) (0.8.4)\n",
      "Requirement already satisfied: entrypoints>=0.2.2 in /home/ec2-user/anaconda3/envs/Braket/lib/python3.7/site-packages (from nbconvert>=4.2->jupyter_contrib_nbextensions==0.5.1) (0.4)\n",
      "Requirement already satisfied: defusedxml in /home/ec2-user/anaconda3/envs/Braket/lib/python3.7/site-packages (from nbconvert>=4.2->jupyter_contrib_nbextensions==0.5.1) (0.7.1)\n",
      "Requirement already satisfied: nbclient<0.6.0,>=0.5.0 in /home/ec2-user/anaconda3/envs/Braket/lib/python3.7/site-packages (from nbconvert>=4.2->jupyter_contrib_nbextensions==0.5.1) (0.5.13)\n",
      "Requirement already satisfied: bleach in /home/ec2-user/anaconda3/envs/Braket/lib/python3.7/site-packages (from nbconvert>=4.2->jupyter_contrib_nbextensions==0.5.1) (4.1.0)\n",
      "Requirement already satisfied: jupyterlab-pygments in /home/ec2-user/anaconda3/envs/Braket/lib/python3.7/site-packages (from nbconvert>=4.2->jupyter_contrib_nbextensions==0.5.1) (0.1.2)\n",
      "Requirement already satisfied: pandocfilters>=1.4.1 in /home/ec2-user/anaconda3/envs/Braket/lib/python3.7/site-packages (from nbconvert>=4.2->jupyter_contrib_nbextensions==0.5.1) (1.5.0)\n",
      "Requirement already satisfied: testpath in /home/ec2-user/anaconda3/envs/Braket/lib/python3.7/site-packages (from nbconvert>=4.2->jupyter_contrib_nbextensions==0.5.1) (0.6.0)\n",
      "Requirement already satisfied: nbformat>=4.4 in /home/ec2-user/anaconda3/envs/Braket/lib/python3.7/site-packages (from nbconvert>=4.2->jupyter_contrib_nbextensions==0.5.1) (5.3.0)\n",
      "Requirement already satisfied: jinja2>=2.4 in /home/ec2-user/anaconda3/envs/Braket/lib/python3.7/site-packages (from nbconvert>=4.2->jupyter_contrib_nbextensions==0.5.1) (2.11.3)\n",
      "Requirement already satisfied: pygments>=2.4.1 in /home/ec2-user/anaconda3/envs/Braket/lib/python3.7/site-packages (from nbconvert>=4.2->jupyter_contrib_nbextensions==0.5.1) (2.11.2)\n",
      "Requirement already satisfied: jupyter-client>=5.3.4 in /home/ec2-user/anaconda3/envs/Braket/lib/python3.7/site-packages (from notebook>=4.0->jupyter_contrib_nbextensions==0.5.1) (7.2.2)\n",
      "Requirement already satisfied: nest-asyncio>=1.5 in /home/ec2-user/anaconda3/envs/Braket/lib/python3.7/site-packages (from notebook>=4.0->jupyter_contrib_nbextensions==0.5.1) (1.5.5)\n",
      "Requirement already satisfied: pyzmq>=17 in /home/ec2-user/anaconda3/envs/Braket/lib/python3.7/site-packages (from notebook>=4.0->jupyter_contrib_nbextensions==0.5.1) (23.2.0)\n",
      "Requirement already satisfied: prometheus-client in /home/ec2-user/anaconda3/envs/Braket/lib/python3.7/site-packages (from notebook>=4.0->jupyter_contrib_nbextensions==0.5.1) (0.14.1)\n",
      "Requirement already satisfied: terminado>=0.8.3 in /home/ec2-user/anaconda3/envs/Braket/lib/python3.7/site-packages (from notebook>=4.0->jupyter_contrib_nbextensions==0.5.1) (0.15.0)\n",
      "Requirement already satisfied: ipykernel in /home/ec2-user/anaconda3/envs/Braket/lib/python3.7/site-packages (from notebook>=4.0->jupyter_contrib_nbextensions==0.5.1) (5.3.4)\n",
      "Requirement already satisfied: argon2-cffi in /home/ec2-user/anaconda3/envs/Braket/lib/python3.7/site-packages (from notebook>=4.0->jupyter_contrib_nbextensions==0.5.1) (21.3.0)\n",
      "Requirement already satisfied: Send2Trash>=1.8.0 in /home/ec2-user/anaconda3/envs/Braket/lib/python3.7/site-packages (from notebook>=4.0->jupyter_contrib_nbextensions==0.5.1) (1.8.0)\n",
      "Requirement already satisfied: MarkupSafe>=0.23 in /home/ec2-user/anaconda3/envs/Braket/lib/python3.7/site-packages (from jinja2>=2.4->nbconvert>=4.2->jupyter_contrib_nbextensions==0.5.1) (1.1.1)\n",
      "Requirement already satisfied: python-dateutil>=2.8.2 in /home/ec2-user/anaconda3/envs/Braket/lib/python3.7/site-packages (from jupyter-client>=5.3.4->notebook>=4.0->jupyter_contrib_nbextensions==0.5.1) (2.8.2)\n",
      "Requirement already satisfied: jsonschema>=2.6 in /home/ec2-user/anaconda3/envs/Braket/lib/python3.7/site-packages (from nbformat>=4.4->nbconvert>=4.2->jupyter_contrib_nbextensions==0.5.1) (4.4.0)\n",
      "Requirement already satisfied: fastjsonschema in /home/ec2-user/anaconda3/envs/Braket/lib/python3.7/site-packages (from nbformat>=4.4->nbconvert>=4.2->jupyter_contrib_nbextensions==0.5.1) (2.15.1)\n",
      "Requirement already satisfied: ptyprocess in /home/ec2-user/anaconda3/envs/Braket/lib/python3.7/site-packages (from terminado>=0.8.3->notebook>=4.0->jupyter_contrib_nbextensions==0.5.1) (0.7.0)\n",
      "Requirement already satisfied: argon2-cffi-bindings in /home/ec2-user/anaconda3/envs/Braket/lib/python3.7/site-packages (from argon2-cffi->notebook>=4.0->jupyter_contrib_nbextensions==0.5.1) (21.2.0)\n",
      "Requirement already satisfied: typing-extensions in /home/ec2-user/anaconda3/envs/Braket/lib/python3.7/site-packages (from argon2-cffi->notebook>=4.0->jupyter_contrib_nbextensions==0.5.1) (3.7.4.3)\n",
      "Requirement already satisfied: webencodings in /home/ec2-user/anaconda3/envs/Braket/lib/python3.7/site-packages (from bleach->nbconvert>=4.2->jupyter_contrib_nbextensions==0.5.1) (0.5.1)\n",
      "Requirement already satisfied: packaging in /home/ec2-user/anaconda3/envs/Braket/lib/python3.7/site-packages (from bleach->nbconvert>=4.2->jupyter_contrib_nbextensions==0.5.1) (21.3)\n",
      "Requirement already satisfied: six>=1.9.0 in /home/ec2-user/anaconda3/envs/Braket/lib/python3.7/site-packages (from bleach->nbconvert>=4.2->jupyter_contrib_nbextensions==0.5.1) (1.15.0)\n",
      "Requirement already satisfied: pexpect>4.3 in /home/ec2-user/anaconda3/envs/Braket/lib/python3.7/site-packages (from ipython->jupyter-latex-envs>=1.3.8->jupyter_contrib_nbextensions==0.5.1) (4.8.0)\n",
      "Requirement already satisfied: backcall in /home/ec2-user/anaconda3/envs/Braket/lib/python3.7/site-packages (from ipython->jupyter-latex-envs>=1.3.8->jupyter_contrib_nbextensions==0.5.1) (0.2.0)\n",
      "Requirement already satisfied: matplotlib-inline in /home/ec2-user/anaconda3/envs/Braket/lib/python3.7/site-packages (from ipython->jupyter-latex-envs>=1.3.8->jupyter_contrib_nbextensions==0.5.1) (0.1.2)\n",
      "Requirement already satisfied: jedi>=0.16 in /home/ec2-user/anaconda3/envs/Braket/lib/python3.7/site-packages (from ipython->jupyter-latex-envs>=1.3.8->jupyter_contrib_nbextensions==0.5.1) (0.18.1)\n",
      "Requirement already satisfied: pickleshare in /home/ec2-user/anaconda3/envs/Braket/lib/python3.7/site-packages (from ipython->jupyter-latex-envs>=1.3.8->jupyter_contrib_nbextensions==0.5.1) (0.7.5)\n",
      "Requirement already satisfied: decorator in /home/ec2-user/anaconda3/envs/Braket/lib/python3.7/site-packages (from ipython->jupyter-latex-envs>=1.3.8->jupyter_contrib_nbextensions==0.5.1) (4.4.0)\n",
      "Requirement already satisfied: prompt-toolkit!=3.0.0,!=3.0.1,<3.1.0,>=2.0.0 in /home/ec2-user/anaconda3/envs/Braket/lib/python3.7/site-packages (from ipython->jupyter-latex-envs>=1.3.8->jupyter_contrib_nbextensions==0.5.1) (3.0.20)\n",
      "Requirement already satisfied: parso<0.9.0,>=0.8.0 in /home/ec2-user/anaconda3/envs/Braket/lib/python3.7/site-packages (from jedi>=0.16->ipython->jupyter-latex-envs>=1.3.8->jupyter_contrib_nbextensions==0.5.1) (0.8.3)\n",
      "Requirement already satisfied: importlib-metadata in /home/ec2-user/anaconda3/envs/Braket/lib/python3.7/site-packages (from jsonschema>=2.6->nbformat>=4.4->nbconvert>=4.2->jupyter_contrib_nbextensions==0.5.1) (4.11.3)\n",
      "Requirement already satisfied: attrs>=17.4.0 in /home/ec2-user/anaconda3/envs/Braket/lib/python3.7/site-packages (from jsonschema>=2.6->nbformat>=4.4->nbconvert>=4.2->jupyter_contrib_nbextensions==0.5.1) (21.4.0)\n",
      "Requirement already satisfied: importlib-resources>=1.4.0 in /home/ec2-user/anaconda3/envs/Braket/lib/python3.7/site-packages (from jsonschema>=2.6->nbformat>=4.4->nbconvert>=4.2->jupyter_contrib_nbextensions==0.5.1) (5.2.0)\n",
      "Requirement already satisfied: pyrsistent!=0.17.0,!=0.17.1,!=0.17.2,>=0.14.0 in /home/ec2-user/anaconda3/envs/Braket/lib/python3.7/site-packages (from jsonschema>=2.6->nbformat>=4.4->nbconvert>=4.2->jupyter_contrib_nbextensions==0.5.1) (0.18.0)\n",
      "Requirement already satisfied: wcwidth in /home/ec2-user/anaconda3/envs/Braket/lib/python3.7/site-packages (from prompt-toolkit!=3.0.0,!=3.0.1,<3.1.0,>=2.0.0->ipython->jupyter-latex-envs>=1.3.8->jupyter_contrib_nbextensions==0.5.1) (0.2.5)\n",
      "Requirement already satisfied: cffi>=1.0.1 in /home/ec2-user/anaconda3/envs/Braket/lib/python3.7/site-packages (from argon2-cffi-bindings->argon2-cffi->notebook>=4.0->jupyter_contrib_nbextensions==0.5.1) (1.15.1)\n",
      "Requirement already satisfied: pyparsing!=3.0.5,>=2.0.2 in /home/ec2-user/anaconda3/envs/Braket/lib/python3.7/site-packages (from packaging->bleach->nbconvert>=4.2->jupyter_contrib_nbextensions==0.5.1) (3.0.4)\n",
      "Requirement already satisfied: pycparser in /home/ec2-user/anaconda3/envs/Braket/lib/python3.7/site-packages (from cffi>=1.0.1->argon2-cffi-bindings->argon2-cffi->notebook>=4.0->jupyter_contrib_nbextensions==0.5.1) (2.21)\n",
      "Requirement already satisfied: zipp>=3.1.0 in /home/ec2-user/anaconda3/envs/Braket/lib/python3.7/site-packages (from importlib-resources>=1.4.0->jsonschema>=2.6->nbformat>=4.4->nbconvert>=4.2->jupyter_contrib_nbextensions==0.5.1) (3.8.0)\n",
      "Looking in indexes: https://pypi.org/simple, https://pip.repos.neuron.amazonaws.com\n",
      "Requirement already satisfied: bokeh==0.12.15 in /home/ec2-user/anaconda3/envs/Braket/lib/python3.7/site-packages (0.12.15)\n",
      "Requirement already satisfied: python-dateutil>=2.1 in /home/ec2-user/anaconda3/envs/Braket/lib/python3.7/site-packages (from bokeh==0.12.15) (2.8.2)\n",
      "Requirement already satisfied: tornado>=4.3 in /home/ec2-user/anaconda3/envs/Braket/lib/python3.7/site-packages (from bokeh==0.12.15) (6.1)\n",
      "Requirement already satisfied: packaging>=16.8 in /home/ec2-user/anaconda3/envs/Braket/lib/python3.7/site-packages (from bokeh==0.12.15) (21.3)\n",
      "Requirement already satisfied: PyYAML>=3.10 in /home/ec2-user/anaconda3/envs/Braket/lib/python3.7/site-packages (from bokeh==0.12.15) (5.4.1)\n",
      "Requirement already satisfied: Jinja2>=2.7 in /home/ec2-user/anaconda3/envs/Braket/lib/python3.7/site-packages (from bokeh==0.12.15) (2.11.3)\n",
      "Requirement already satisfied: six>=1.5.2 in /home/ec2-user/anaconda3/envs/Braket/lib/python3.7/site-packages (from bokeh==0.12.15) (1.15.0)\n",
      "Requirement already satisfied: numpy>=1.7.1 in /home/ec2-user/anaconda3/envs/Braket/lib/python3.7/site-packages (from bokeh==0.12.15) (1.19.2)\n",
      "Requirement already satisfied: MarkupSafe>=0.23 in /home/ec2-user/anaconda3/envs/Braket/lib/python3.7/site-packages (from Jinja2>=2.7->bokeh==0.12.15) (1.1.1)\n",
      "Requirement already satisfied: pyparsing!=3.0.5,>=2.0.2 in /home/ec2-user/anaconda3/envs/Braket/lib/python3.7/site-packages (from packaging>=16.8->bokeh==0.12.15) (3.0.4)\n"
     ]
    }
   ],
   "source": [
    "!pip install autopep8\n",
    "!pip install jupyter_contrib_nbextensions==0.5.1\n",
    "!pip install bokeh==0.12.15"
   ]
  },
  {
   "cell_type": "code",
   "execution_count": 3,
   "id": "0531725a",
   "metadata": {},
   "outputs": [],
   "source": [
    "import json\n",
    "from braket.aws import AwsDevice\n",
    "from braket.ocean_plugin import BraketSampler, BraketDWaveSampler\n",
    "\n",
    "from dwave.system.composites import EmbeddingComposite\n",
    "import dwavebinarycsp as dbc"
   ]
  },
  {
   "cell_type": "code",
   "execution_count": 4,
   "id": "c2cd66fe",
   "metadata": {},
   "outputs": [
    {
     "name": "stdout",
     "output_type": "stream",
     "text": [
      "0001001101\n"
     ]
    }
   ],
   "source": [
    "P = 77  \n",
    "\n",
    "bP = \"{:010b}\".format(P)    # \"{:010b}\" formats for 10-bit binary\n",
    "print(bP)"
   ]
  },
  {
   "cell_type": "code",
   "execution_count": 5,
   "id": "43d47ec5",
   "metadata": {},
   "outputs": [
    {
     "name": "stdout",
     "output_type": "stream",
     "text": [
      "Constraint.from_configurations(frozenset({(1, 0, 0), (1, 1, 1), (0, 1, 0), (0, 0, 0)}), ('a0', 'b0', 'p0'), Vartype.BINARY, name='AND(a0, b0) = p0')\n"
     ]
    }
   ],
   "source": [
    "csp = dbc.factories.multiplication_circuit(5)\n",
    "\n",
    "print(next(iter(csp.constraints)))"
   ]
  },
  {
   "cell_type": "code",
   "execution_count": 6,
   "id": "76cf4349",
   "metadata": {},
   "outputs": [
    {
     "name": "stdout",
     "output_type": "stream",
     "text": [
      "BQM has 75 variables: \n",
      "\t['a0', 'b0', 'p0', 'b1', 'and0,1', 'b2', 'and0,2', 'b3', 'and0,3', 'b4', 'and0,4', 'a1', 'and1,0', 'p1', 'carry1,0', 'and1,1', 'sum1,1', 'carry1,1', 'and1,2', 'sum1,2', 'carry1,2', 'and1,3', 'sum1,3', 'carry1,3', 'and1,4', 'a2', 'and2,0', 'p2', 'carry2,0', 'and2,1', 'sum2,1', 'carry2,1', 'and2,2', 'sum2,2', 'carry2,2', 'and2,3', 'sum2,3', 'carry2,3', 'and2,4', 'a3', 'and3,0', 'p3', 'carry3,0', 'and3,1', 'sum3,1', 'carry3,1', 'and3,2', 'sum3,2', 'carry3,2', 'and3,3', 'sum3,3', 'carry3,3', 'and3,4', 'a4', 'and4,0', 'p4', 'carry4,0', 'and4,1', 'sum4,1', 'carry4,1', 'and4,2', 'sum4,2', 'carry4,2', 'and4,3', 'sum4,3', 'carry4,3', 'and4,4', 'p5', 'carry5,0', 'p6', 'carry5,1', 'p7', 'carry5,2', 'p8', 'p9']\n"
     ]
    }
   ],
   "source": [
    "# Convert CSP to BQM \n",
    "\n",
    "bqm = dbc.stitch(csp, min_classical_gap=.1)\n",
    "\n",
    "print(\"BQM has {} variables: \\n\\t{}\".format(len(bqm.variables), list(bqm.variables)))"
   ]
  },
  {
   "cell_type": "code",
   "execution_count": 7,
   "id": "d0425080",
   "metadata": {},
   "outputs": [
    {
     "name": "stdout",
     "output_type": "stream",
     "text": [
      "BQM has 65 non-fixed variables: \n",
      "\t['a0', 'b0', 'b1', 'and0,1', 'b2', 'and0,2', 'b3', 'and0,3', 'b4', 'and0,4', 'a1', 'and1,0', 'carry1,0', 'and1,1', 'sum1,1', 'carry1,1', 'and1,2', 'sum1,2', 'carry1,2', 'and1,3', 'sum1,3', 'carry1,3', 'and1,4', 'a2', 'and2,0', 'carry2,0', 'and2,1', 'sum2,1', 'carry2,1', 'and2,2', 'sum2,2', 'carry2,2', 'and2,3', 'sum2,3', 'carry2,3', 'and2,4', 'a3', 'and3,0', 'carry3,0', 'and3,1', 'sum3,1', 'carry3,1', 'and3,2', 'sum3,2', 'carry3,2', 'and3,3', 'sum3,3', 'carry3,3', 'and3,4', 'a4', 'and4,0', 'carry4,0', 'and4,1', 'sum4,1', 'carry4,1', 'and4,2', 'sum4,2', 'carry4,2', 'and4,3', 'sum4,3', 'carry4,3', 'and4,4', 'carry5,0', 'carry5,1', 'carry5,2']\n"
     ]
    }
   ],
   "source": [
    "p_vars = ['p0', 'p1', 'p2', 'p3','p4','p5', 'p6', 'p7','p8', 'p9']\n",
    "#p_vars = ['p0', 'p1', 'p2', 'p3','p4','p5', 'p6', 'p7']\n",
    "\n",
    "# Convert P from decimal to binary\n",
    "fixed_variables = dict(zip(reversed(p_vars), \"{:010b}\".format(P)))\n",
    "fixed_variables = {var: int(x) for(var, x) in fixed_variables.items()}\n",
    "\n",
    "# Fix product variables\n",
    "for var, value in fixed_variables.items():\n",
    "    bqm.fix_variable(var, value)\n",
    "    \n",
    "print(\"BQM has {} non-fixed variables: \\n\\t{}\".format(len(bqm.variables), list(bqm.variables)))"
   ]
  },
  {
   "cell_type": "markdown",
   "id": "090d1a5d",
   "metadata": {},
   "source": [
    "# Solving on D-Wave"
   ]
  },
  {
   "cell_type": "code",
   "execution_count": 9,
   "id": "22a503cf",
   "metadata": {},
   "outputs": [
    {
     "name": "stdout",
     "output_type": "stream",
     "text": [
      "Mapping from BQM variables to qubits for the Dwave system:\n",
      "\n",
      "\t{} <dwave.system.composites.embedding.EmbeddingComposite object at 0x7f8b97e9b9d0>\n"
     ]
    }
   ],
   "source": [
    "sampler = BraketDWaveSampler(device_arn='arn:aws:braket:us-west-2::device/qpu/d-wave/Advantage_system6')\n",
    "\n",
    "from helpers.embedding import embeddings\n",
    "from dwave.system import FixedEmbeddingComposite\n",
    "\n",
    "#sampler_fixed_embedding = FixedEmbeddingComposite(sampler)\n",
    "sampler = EmbeddingComposite(sampler)\n",
    "\n",
    "print(\"Mapping from BQM variables to qubits for the Dwave system:\\n\\n\\t{}\", sampler)\n"
   ]
  },
  {
   "cell_type": "code",
   "execution_count": 10,
   "id": "78e5145c",
   "metadata": {},
   "outputs": [
    {
     "name": "stdout",
     "output_type": "stream",
     "text": [
      "--- 11.283055305480957 seconds ---\n",
      "Best solution found: \n",
      " {'a0': 1, 'a1': 0, 'a2': 0, 'a3': 1, 'a4': 1, 'and0,1': 0, 'and0,2': 1, 'and0,3': 1, 'and0,4': 0, 'and1,0': 0, 'and1,1': 0, 'and1,2': 0, 'and1,3': 0, 'and1,4': 0, 'and2,0': 0, 'and2,1': 0, 'and2,2': 0, 'and2,3': 0, 'and2,4': 0, 'and3,0': 1, 'and3,1': 0, 'and3,2': 1, 'and3,3': 1, 'and3,4': 0, 'and4,0': 1, 'and4,1': 0, 'and4,2': 1, 'and4,3': 1, 'and4,4': 0, 'b0': 1, 'b1': 0, 'b2': 1, 'b3': 1, 'b4': 0, 'carry1,0': 0, 'carry1,1': 0, 'carry1,2': 0, 'carry1,3': 0, 'carry2,0': 0, 'carry2,1': 1, 'carry2,2': 0, 'carry2,3': 0, 'carry3,0': 0, 'carry3,1': 0, 'carry3,2': 0, 'carry3,3': 0, 'carry4,0': 1, 'carry4,1': 0, 'carry4,2': 1, 'carry4,3': 0, 'carry5,0': 1, 'carry5,1': 0, 'carry5,2': 1, 'sum1,1': 1, 'sum1,2': 1, 'sum1,3': 0, 'sum2,1': 0, 'sum2,2': 0, 'sum2,3': 0, 'sum3,1': 1, 'sum3,2': 1, 'sum3,3': 1, 'sum4,1': 1, 'sum4,2': 0, 'sum4,3': 1}\n"
     ]
    }
   ],
   "source": [
    "import time\n",
    "start_time = time.time()\n",
    "#sampleset = sampler_fixed_embedding.sample(bqm, num_reads=100)\n",
    "sampleset = sampler.sample(bqm, num_reads=100)\n",
    "\n",
    "print(\"--- %s seconds ---\" % (time.time() - start_time))\n",
    "\n",
    "print(\"Best solution found: \\n\",sampleset.first.sample)"
   ]
  },
  {
   "cell_type": "code",
   "execution_count": 11,
   "id": "49561e66",
   "metadata": {},
   "outputs": [
    {
     "name": "stdout",
     "output_type": "stream",
     "text": [
      "Given integer P=77, found factors a=25 and b=13\n"
     ]
    }
   ],
   "source": [
    "from helpers.convert import to_base_ten\n",
    "a, b = to_base_ten(sampleset.first.sample, 5)\n",
    "\n",
    "print(\"Given integer P={}, found factors a={} and b={}\".format(P, a, b))"
   ]
  },
  {
   "cell_type": "code",
   "execution_count": 12,
   "id": "a1c5d599",
   "metadata": {},
   "outputs": [
    {
     "data": {
      "text/html": [
       "\n",
       "    <div class=\"bk-root\">\n",
       "        <a href=\"https://bokeh.pydata.org\" target=\"_blank\" class=\"bk-logo bk-logo-small bk-logo-notebook\"></a>\n",
       "        <span id=\"9a3f014a-283a-4cad-b662-14aa0b05fa3d\">Loading BokehJS ...</span>\n",
       "    </div>"
      ]
     },
     "metadata": {},
     "output_type": "display_data"
    },
    {
     "data": {
      "application/javascript": [
       "\n",
       "(function(root) {\n",
       "  function now() {\n",
       "    return new Date();\n",
       "  }\n",
       "\n",
       "  var force = true;\n",
       "\n",
       "  if (typeof (root._bokeh_onload_callbacks) === \"undefined\" || force === true) {\n",
       "    root._bokeh_onload_callbacks = [];\n",
       "    root._bokeh_is_loading = undefined;\n",
       "  }\n",
       "\n",
       "  var JS_MIME_TYPE = 'application/javascript';\n",
       "  var HTML_MIME_TYPE = 'text/html';\n",
       "  var EXEC_MIME_TYPE = 'application/vnd.bokehjs_exec.v0+json';\n",
       "  var CLASS_NAME = 'output_bokeh rendered_html';\n",
       "\n",
       "  /**\n",
       "   * Render data to the DOM node\n",
       "   */\n",
       "  function render(props, node) {\n",
       "    var script = document.createElement(\"script\");\n",
       "    node.appendChild(script);\n",
       "  }\n",
       "\n",
       "  /**\n",
       "   * Handle when an output is cleared or removed\n",
       "   */\n",
       "  function handleClearOutput(event, handle) {\n",
       "    var cell = handle.cell;\n",
       "\n",
       "    var id = cell.output_area._bokeh_element_id;\n",
       "    var server_id = cell.output_area._bokeh_server_id;\n",
       "    // Clean up Bokeh references\n",
       "    if (id !== undefined) {\n",
       "      Bokeh.index[id].model.document.clear();\n",
       "      delete Bokeh.index[id];\n",
       "    }\n",
       "\n",
       "    if (server_id !== undefined) {\n",
       "      // Clean up Bokeh references\n",
       "      var cmd = \"from bokeh.io.state import curstate; print(curstate().uuid_to_server['\" + server_id + \"'].get_sessions()[0].document.roots[0]._id)\";\n",
       "      cell.notebook.kernel.execute(cmd, {\n",
       "        iopub: {\n",
       "          output: function(msg) {\n",
       "            var element_id = msg.content.text.trim();\n",
       "            Bokeh.index[element_id].model.document.clear();\n",
       "            delete Bokeh.index[element_id];\n",
       "          }\n",
       "        }\n",
       "      });\n",
       "      // Destroy server and session\n",
       "      var cmd = \"import bokeh.io.notebook as ion; ion.destroy_server('\" + server_id + \"')\";\n",
       "      cell.notebook.kernel.execute(cmd);\n",
       "    }\n",
       "  }\n",
       "\n",
       "  /**\n",
       "   * Handle when a new output is added\n",
       "   */\n",
       "  function handleAddOutput(event, handle) {\n",
       "    var output_area = handle.output_area;\n",
       "    var output = handle.output;\n",
       "\n",
       "    // limit handleAddOutput to display_data with EXEC_MIME_TYPE content only\n",
       "    if ((output.output_type != \"display_data\") || (!output.data.hasOwnProperty(EXEC_MIME_TYPE))) {\n",
       "      return\n",
       "    }\n",
       "\n",
       "    var toinsert = output_area.element.find(\".\" + CLASS_NAME.split(' ')[0]);\n",
       "\n",
       "    if (output.metadata[EXEC_MIME_TYPE][\"id\"] !== undefined) {\n",
       "      toinsert[toinsert.length - 1].firstChild.textContent = output.data[JS_MIME_TYPE];\n",
       "      // store reference to embed id on output_area\n",
       "      output_area._bokeh_element_id = output.metadata[EXEC_MIME_TYPE][\"id\"];\n",
       "    }\n",
       "    if (output.metadata[EXEC_MIME_TYPE][\"server_id\"] !== undefined) {\n",
       "      var bk_div = document.createElement(\"div\");\n",
       "      bk_div.innerHTML = output.data[HTML_MIME_TYPE];\n",
       "      var script_attrs = bk_div.children[0].attributes;\n",
       "      for (var i = 0; i < script_attrs.length; i++) {\n",
       "        toinsert[toinsert.length - 1].firstChild.setAttribute(script_attrs[i].name, script_attrs[i].value);\n",
       "      }\n",
       "      // store reference to server id on output_area\n",
       "      output_area._bokeh_server_id = output.metadata[EXEC_MIME_TYPE][\"server_id\"];\n",
       "    }\n",
       "  }\n",
       "\n",
       "  function register_renderer(events, OutputArea) {\n",
       "\n",
       "    function append_mime(data, metadata, element) {\n",
       "      // create a DOM node to render to\n",
       "      var toinsert = this.create_output_subarea(\n",
       "        metadata,\n",
       "        CLASS_NAME,\n",
       "        EXEC_MIME_TYPE\n",
       "      );\n",
       "      this.keyboard_manager.register_events(toinsert);\n",
       "      // Render to node\n",
       "      var props = {data: data, metadata: metadata[EXEC_MIME_TYPE]};\n",
       "      render(props, toinsert[toinsert.length - 1]);\n",
       "      element.append(toinsert);\n",
       "      return toinsert\n",
       "    }\n",
       "\n",
       "    /* Handle when an output is cleared or removed */\n",
       "    events.on('clear_output.CodeCell', handleClearOutput);\n",
       "    events.on('delete.Cell', handleClearOutput);\n",
       "\n",
       "    /* Handle when a new output is added */\n",
       "    events.on('output_added.OutputArea', handleAddOutput);\n",
       "\n",
       "    /**\n",
       "     * Register the mime type and append_mime function with output_area\n",
       "     */\n",
       "    OutputArea.prototype.register_mime_type(EXEC_MIME_TYPE, append_mime, {\n",
       "      /* Is output safe? */\n",
       "      safe: true,\n",
       "      /* Index of renderer in `output_area.display_order` */\n",
       "      index: 0\n",
       "    });\n",
       "  }\n",
       "\n",
       "  // register the mime type if in Jupyter Notebook environment and previously unregistered\n",
       "  if (root.Jupyter !== undefined) {\n",
       "    var events = require('base/js/events');\n",
       "    var OutputArea = require('notebook/js/outputarea').OutputArea;\n",
       "\n",
       "    if (OutputArea.prototype.mime_types().indexOf(EXEC_MIME_TYPE) == -1) {\n",
       "      register_renderer(events, OutputArea);\n",
       "    }\n",
       "  }\n",
       "\n",
       "  \n",
       "  if (typeof (root._bokeh_timeout) === \"undefined\" || force === true) {\n",
       "    root._bokeh_timeout = Date.now() + 5000;\n",
       "    root._bokeh_failed_load = false;\n",
       "  }\n",
       "\n",
       "  var NB_LOAD_WARNING = {'data': {'text/html':\n",
       "     \"<div style='background-color: #fdd'>\\n\"+\n",
       "     \"<p>\\n\"+\n",
       "     \"BokehJS does not appear to have successfully loaded. If loading BokehJS from CDN, this \\n\"+\n",
       "     \"may be due to a slow or bad network connection. Possible fixes:\\n\"+\n",
       "     \"</p>\\n\"+\n",
       "     \"<ul>\\n\"+\n",
       "     \"<li>re-rerun `output_notebook()` to attempt to load from CDN again, or</li>\\n\"+\n",
       "     \"<li>use INLINE resources instead, as so:</li>\\n\"+\n",
       "     \"</ul>\\n\"+\n",
       "     \"<code>\\n\"+\n",
       "     \"from bokeh.resources import INLINE\\n\"+\n",
       "     \"output_notebook(resources=INLINE)\\n\"+\n",
       "     \"</code>\\n\"+\n",
       "     \"</div>\"}};\n",
       "\n",
       "  function display_loaded() {\n",
       "    var el = document.getElementById(\"9a3f014a-283a-4cad-b662-14aa0b05fa3d\");\n",
       "    if (el != null) {\n",
       "      el.textContent = \"BokehJS is loading...\";\n",
       "    }\n",
       "    if (root.Bokeh !== undefined) {\n",
       "      if (el != null) {\n",
       "        el.textContent = \"BokehJS \" + root.Bokeh.version + \" successfully loaded.\";\n",
       "      }\n",
       "    } else if (Date.now() < root._bokeh_timeout) {\n",
       "      setTimeout(display_loaded, 100)\n",
       "    }\n",
       "  }\n",
       "\n",
       "\n",
       "  function run_callbacks() {\n",
       "    try {\n",
       "      root._bokeh_onload_callbacks.forEach(function(callback) { callback() });\n",
       "    }\n",
       "    finally {\n",
       "      delete root._bokeh_onload_callbacks\n",
       "    }\n",
       "    console.info(\"Bokeh: all callbacks have finished\");\n",
       "  }\n",
       "\n",
       "  function load_libs(js_urls, callback) {\n",
       "    root._bokeh_onload_callbacks.push(callback);\n",
       "    if (root._bokeh_is_loading > 0) {\n",
       "      console.log(\"Bokeh: BokehJS is being loaded, scheduling callback at\", now());\n",
       "      return null;\n",
       "    }\n",
       "    if (js_urls == null || js_urls.length === 0) {\n",
       "      run_callbacks();\n",
       "      return null;\n",
       "    }\n",
       "    console.log(\"Bokeh: BokehJS not loaded, scheduling load and callback at\", now());\n",
       "    root._bokeh_is_loading = js_urls.length;\n",
       "    for (var i = 0; i < js_urls.length; i++) {\n",
       "      var url = js_urls[i];\n",
       "      var s = document.createElement('script');\n",
       "      s.src = url;\n",
       "      s.async = false;\n",
       "      s.onreadystatechange = s.onload = function() {\n",
       "        root._bokeh_is_loading--;\n",
       "        if (root._bokeh_is_loading === 0) {\n",
       "          console.log(\"Bokeh: all BokehJS libraries loaded\");\n",
       "          run_callbacks()\n",
       "        }\n",
       "      };\n",
       "      s.onerror = function() {\n",
       "        console.warn(\"failed to load library \" + url);\n",
       "      };\n",
       "      console.log(\"Bokeh: injecting script tag for BokehJS library: \", url);\n",
       "      document.getElementsByTagName(\"head\")[0].appendChild(s);\n",
       "    }\n",
       "  };var element = document.getElementById(\"9a3f014a-283a-4cad-b662-14aa0b05fa3d\");\n",
       "  if (element == null) {\n",
       "    console.log(\"Bokeh: ERROR: autoload.js configured with elementid '9a3f014a-283a-4cad-b662-14aa0b05fa3d' but no matching script tag was found. \")\n",
       "    return false;\n",
       "  }\n",
       "\n",
       "  var js_urls = [\"https://cdn.pydata.org/bokeh/release/bokeh-0.12.15.min.js\", \"https://cdn.pydata.org/bokeh/release/bokeh-widgets-0.12.15.min.js\", \"https://cdn.pydata.org/bokeh/release/bokeh-tables-0.12.15.min.js\", \"https://cdn.pydata.org/bokeh/release/bokeh-gl-0.12.15.min.js\"];\n",
       "\n",
       "  var inline_js = [\n",
       "    function(Bokeh) {\n",
       "      Bokeh.set_log_level(\"info\");\n",
       "    },\n",
       "    \n",
       "    function(Bokeh) {\n",
       "      \n",
       "    },\n",
       "    function(Bokeh) {\n",
       "      console.log(\"Bokeh: injecting CSS: https://cdn.pydata.org/bokeh/release/bokeh-0.12.15.min.css\");\n",
       "      Bokeh.embed.inject_css(\"https://cdn.pydata.org/bokeh/release/bokeh-0.12.15.min.css\");\n",
       "      console.log(\"Bokeh: injecting CSS: https://cdn.pydata.org/bokeh/release/bokeh-widgets-0.12.15.min.css\");\n",
       "      Bokeh.embed.inject_css(\"https://cdn.pydata.org/bokeh/release/bokeh-widgets-0.12.15.min.css\");\n",
       "      console.log(\"Bokeh: injecting CSS: https://cdn.pydata.org/bokeh/release/bokeh-tables-0.12.15.min.css\");\n",
       "      Bokeh.embed.inject_css(\"https://cdn.pydata.org/bokeh/release/bokeh-tables-0.12.15.min.css\");\n",
       "    }\n",
       "  ];\n",
       "\n",
       "  function run_inline_js() {\n",
       "    \n",
       "    if ((root.Bokeh !== undefined) || (force === true)) {\n",
       "      for (var i = 0; i < inline_js.length; i++) {\n",
       "        inline_js[i].call(root, root.Bokeh);\n",
       "      }if (force === true) {\n",
       "        display_loaded();\n",
       "      }} else if (Date.now() < root._bokeh_timeout) {\n",
       "      setTimeout(run_inline_js, 100);\n",
       "    } else if (!root._bokeh_failed_load) {\n",
       "      console.log(\"Bokeh: BokehJS failed to load within specified timeout.\");\n",
       "      root._bokeh_failed_load = true;\n",
       "    } else if (force !== true) {\n",
       "      var cell = $(document.getElementById(\"9a3f014a-283a-4cad-b662-14aa0b05fa3d\")).parents('.cell').data().cell;\n",
       "      cell.output_area.append_execute_result(NB_LOAD_WARNING)\n",
       "    }\n",
       "\n",
       "  }\n",
       "\n",
       "  if (root._bokeh_is_loading === 0) {\n",
       "    console.log(\"Bokeh: BokehJS loaded, going straight to plotting\");\n",
       "    run_inline_js();\n",
       "  } else {\n",
       "    load_libs(js_urls, function() {\n",
       "      console.log(\"Bokeh: BokehJS plotting callback run at\", now());\n",
       "      run_inline_js();\n",
       "    });\n",
       "  }\n",
       "}(window));"
      ],
      "application/vnd.bokehjs_load.v0+json": "\n(function(root) {\n  function now() {\n    return new Date();\n  }\n\n  var force = true;\n\n  if (typeof (root._bokeh_onload_callbacks) === \"undefined\" || force === true) {\n    root._bokeh_onload_callbacks = [];\n    root._bokeh_is_loading = undefined;\n  }\n\n  \n\n  \n  if (typeof (root._bokeh_timeout) === \"undefined\" || force === true) {\n    root._bokeh_timeout = Date.now() + 5000;\n    root._bokeh_failed_load = false;\n  }\n\n  var NB_LOAD_WARNING = {'data': {'text/html':\n     \"<div style='background-color: #fdd'>\\n\"+\n     \"<p>\\n\"+\n     \"BokehJS does not appear to have successfully loaded. If loading BokehJS from CDN, this \\n\"+\n     \"may be due to a slow or bad network connection. Possible fixes:\\n\"+\n     \"</p>\\n\"+\n     \"<ul>\\n\"+\n     \"<li>re-rerun `output_notebook()` to attempt to load from CDN again, or</li>\\n\"+\n     \"<li>use INLINE resources instead, as so:</li>\\n\"+\n     \"</ul>\\n\"+\n     \"<code>\\n\"+\n     \"from bokeh.resources import INLINE\\n\"+\n     \"output_notebook(resources=INLINE)\\n\"+\n     \"</code>\\n\"+\n     \"</div>\"}};\n\n  function display_loaded() {\n    var el = document.getElementById(\"9a3f014a-283a-4cad-b662-14aa0b05fa3d\");\n    if (el != null) {\n      el.textContent = \"BokehJS is loading...\";\n    }\n    if (root.Bokeh !== undefined) {\n      if (el != null) {\n        el.textContent = \"BokehJS \" + root.Bokeh.version + \" successfully loaded.\";\n      }\n    } else if (Date.now() < root._bokeh_timeout) {\n      setTimeout(display_loaded, 100)\n    }\n  }\n\n\n  function run_callbacks() {\n    try {\n      root._bokeh_onload_callbacks.forEach(function(callback) { callback() });\n    }\n    finally {\n      delete root._bokeh_onload_callbacks\n    }\n    console.info(\"Bokeh: all callbacks have finished\");\n  }\n\n  function load_libs(js_urls, callback) {\n    root._bokeh_onload_callbacks.push(callback);\n    if (root._bokeh_is_loading > 0) {\n      console.log(\"Bokeh: BokehJS is being loaded, scheduling callback at\", now());\n      return null;\n    }\n    if (js_urls == null || js_urls.length === 0) {\n      run_callbacks();\n      return null;\n    }\n    console.log(\"Bokeh: BokehJS not loaded, scheduling load and callback at\", now());\n    root._bokeh_is_loading = js_urls.length;\n    for (var i = 0; i < js_urls.length; i++) {\n      var url = js_urls[i];\n      var s = document.createElement('script');\n      s.src = url;\n      s.async = false;\n      s.onreadystatechange = s.onload = function() {\n        root._bokeh_is_loading--;\n        if (root._bokeh_is_loading === 0) {\n          console.log(\"Bokeh: all BokehJS libraries loaded\");\n          run_callbacks()\n        }\n      };\n      s.onerror = function() {\n        console.warn(\"failed to load library \" + url);\n      };\n      console.log(\"Bokeh: injecting script tag for BokehJS library: \", url);\n      document.getElementsByTagName(\"head\")[0].appendChild(s);\n    }\n  };var element = document.getElementById(\"9a3f014a-283a-4cad-b662-14aa0b05fa3d\");\n  if (element == null) {\n    console.log(\"Bokeh: ERROR: autoload.js configured with elementid '9a3f014a-283a-4cad-b662-14aa0b05fa3d' but no matching script tag was found. \")\n    return false;\n  }\n\n  var js_urls = [\"https://cdn.pydata.org/bokeh/release/bokeh-0.12.15.min.js\", \"https://cdn.pydata.org/bokeh/release/bokeh-widgets-0.12.15.min.js\", \"https://cdn.pydata.org/bokeh/release/bokeh-tables-0.12.15.min.js\", \"https://cdn.pydata.org/bokeh/release/bokeh-gl-0.12.15.min.js\"];\n\n  var inline_js = [\n    function(Bokeh) {\n      Bokeh.set_log_level(\"info\");\n    },\n    \n    function(Bokeh) {\n      \n    },\n    function(Bokeh) {\n      console.log(\"Bokeh: injecting CSS: https://cdn.pydata.org/bokeh/release/bokeh-0.12.15.min.css\");\n      Bokeh.embed.inject_css(\"https://cdn.pydata.org/bokeh/release/bokeh-0.12.15.min.css\");\n      console.log(\"Bokeh: injecting CSS: https://cdn.pydata.org/bokeh/release/bokeh-widgets-0.12.15.min.css\");\n      Bokeh.embed.inject_css(\"https://cdn.pydata.org/bokeh/release/bokeh-widgets-0.12.15.min.css\");\n      console.log(\"Bokeh: injecting CSS: https://cdn.pydata.org/bokeh/release/bokeh-tables-0.12.15.min.css\");\n      Bokeh.embed.inject_css(\"https://cdn.pydata.org/bokeh/release/bokeh-tables-0.12.15.min.css\");\n    }\n  ];\n\n  function run_inline_js() {\n    \n    if ((root.Bokeh !== undefined) || (force === true)) {\n      for (var i = 0; i < inline_js.length; i++) {\n        inline_js[i].call(root, root.Bokeh);\n      }if (force === true) {\n        display_loaded();\n      }} else if (Date.now() < root._bokeh_timeout) {\n      setTimeout(run_inline_js, 100);\n    } else if (!root._bokeh_failed_load) {\n      console.log(\"Bokeh: BokehJS failed to load within specified timeout.\");\n      root._bokeh_failed_load = true;\n    } else if (force !== true) {\n      var cell = $(document.getElementById(\"9a3f014a-283a-4cad-b662-14aa0b05fa3d\")).parents('.cell').data().cell;\n      cell.output_area.append_execute_result(NB_LOAD_WARNING)\n    }\n\n  }\n\n  if (root._bokeh_is_loading === 0) {\n    console.log(\"Bokeh: BokehJS loaded, going straight to plotting\");\n    run_inline_js();\n  } else {\n    load_libs(js_urls, function() {\n      console.log(\"Bokeh: BokehJS plotting callback run at\", now());\n      run_inline_js();\n    });\n  }\n}(window));"
     },
     "metadata": {},
     "output_type": "display_data"
    },
    {
     "data": {
      "text/html": [
       "\n",
       "<div class=\"bk-root\">\n",
       "    <div class=\"bk-plotdiv\" id=\"81c66cbd-4daf-4218-ba64-08c08e09dadc\"></div>\n",
       "</div>"
      ]
     },
     "metadata": {},
     "output_type": "display_data"
    },
    {
     "data": {
      "application/javascript": [
       "(function(root) {\n",
       "  function embed_document(root) {\n",
       "    \n",
       "  var docs_json = {\"2f881688-722f-476e-a55e-62fd70c0e389\":{\"roots\":{\"references\":[{\"attributes\":{},\"id\":\"31756f2a-a58b-4b00-9d29-0bc4f475fd00\",\"type\":\"BasicTickFormatter\"},{\"attributes\":{\"formatter\":{\"id\":\"31756f2a-a58b-4b00-9d29-0bc4f475fd00\",\"type\":\"BasicTickFormatter\"},\"plot\":{\"id\":\"cc5a6fd5-07d7-4ced-9480-94bf3975c727\",\"subtype\":\"Figure\",\"type\":\"Plot\"},\"ticker\":{\"id\":\"a4c798b7-0198-4225-9dbc-2c766d78a921\",\"type\":\"BasicTicker\"}},\"id\":\"6120de4a-8f8d-42f0-aef4-c3d1bc283bbc\",\"type\":\"LinearAxis\"},{\"attributes\":{\"grid_line_color\":{\"value\":null},\"plot\":{\"id\":\"cc5a6fd5-07d7-4ced-9480-94bf3975c727\",\"subtype\":\"Figure\",\"type\":\"Plot\"},\"ticker\":{\"id\":\"6bf4a883-2677-497c-b2a1-de5f79cd3db8\",\"type\":\"CategoricalTicker\"}},\"id\":\"4c392660-64f6-4918-bfa7-33fafdf3d358\",\"type\":\"Grid\"},{\"attributes\":{},\"id\":\"5b245992-f66b-49b7-9aaf-d8f8b7ca7624\",\"type\":\"CategoricalTickFormatter\"},{\"attributes\":{\"callback\":null,\"column_names\":[\"x\",\"y\"],\"data\":{\"x\":[\"(25, 13)\",\"(7, 9)\",\"(31, 1)\",\"(29, 1)\",\"(29, 5)\",\"(13, 21)\",\"(21, 12)\",\"(31, 5)\",\"(19, 29)\",\"(31, 9)\",\"(21, 13)\",\"(19, 25)\",\"(17, 21)\",\"(9, 21)\",\"(31, 11)\",\"(25, 29)\",\"(27, 13)\",\"(21, 11)\",\"(21, 7)\",\"(3, 29)\",\"(29, 9)\",\"(9, 29)\",\"(5, 13)\",\"(15, 11)\",\"(5, 27)\",\"(30, 5)\",\"(27, 11)\",\"(15, 25)\",\"(23, 17)\",\"(3, 25)\",\"(24, 11)\",\"(15, 13)\",\"(25, 21)\",\"(19, 21)\",\"(2, 29)\",\"(5, 12)\",\"(31, 13)\",\"(27, 7)\",\"(30, 11)\",\"(7, 13)\",\"(23, 5)\",\"(9, 14)\",\"(30, 1)\",\"(31, 29)\",\"(23, 7)\",\"(31, 14)\",\"(13, 29)\",\"(23, 13)\",\"(11, 27)\",\"(15, 21)\",\"(11, 25)\",\"(11, 28)\",\"(12, 15)\",\"(21, 10)\",\"(20, 25)\",\"(15, 23)\",\"(29, 19)\",\"(27, 25)\",\"(21, 15)\",\"(27, 9)\",\"(6, 19)\",\"(11, 9)\",\"(17, 13)\",\"(15, 1)\",\"(27, 27)\",\"(11, 31)\",\"(19, 31)\",\"(29, 13)\",\"(23, 9)\",\"(14, 31)\",\"(25, 28)\"],\"y\":[2.0,3.0,4.0,4.0,5.0,5.0,5.0,6.0,6.0,6.0,6.0,6.0,6.0,6.0,7.0,7.0,7.0,7.0,7.0,7.0,7.0,7.0,7.0,8.0,8.0,8.0,9.0,9.0,9.0,9.0,9.0,10.0,10.0,10.0,10.0,10.0,11.0,11.0,11.0,11.0,11.0,11.0,11.0,12.0,12.0,12.0,12.0,12.0,12.0,12.0,12.0,12.0,12.0,12.0,12.0,13.0,13.0,13.0,13.0,13.0,13.0,13.0,13.0,14.0,15.0,15.0,15.0,15.0,15.0,17.0,18.0]},\"selected\":null,\"selection_policy\":null},\"id\":\"0dfda6bb-90c8-4d28-86ba-f2635e21210a\",\"type\":\"ColumnDataSource\"},{\"attributes\":{\"dimension\":1,\"plot\":{\"id\":\"cc5a6fd5-07d7-4ced-9480-94bf3975c727\",\"subtype\":\"Figure\",\"type\":\"Plot\"},\"ticker\":{\"id\":\"a4c798b7-0198-4225-9dbc-2c766d78a921\",\"type\":\"BasicTicker\"}},\"id\":\"d638b1a5-b69a-43e0-883f-ae0fc0508885\",\"type\":\"Grid\"},{\"attributes\":{},\"id\":\"6bf4a883-2677-497c-b2a1-de5f79cd3db8\",\"type\":\"CategoricalTicker\"},{\"attributes\":{\"below\":[{\"id\":\"5ee4ce5f-ac54-463f-a517-32d4ff9b4dc9\",\"type\":\"CategoricalAxis\"}],\"left\":[{\"id\":\"6120de4a-8f8d-42f0-aef4-c3d1bc283bbc\",\"type\":\"LinearAxis\"}],\"plot_height\":250,\"renderers\":[{\"id\":\"5ee4ce5f-ac54-463f-a517-32d4ff9b4dc9\",\"type\":\"CategoricalAxis\"},{\"id\":\"4c392660-64f6-4918-bfa7-33fafdf3d358\",\"type\":\"Grid\"},{\"id\":\"6120de4a-8f8d-42f0-aef4-c3d1bc283bbc\",\"type\":\"LinearAxis\"},{\"id\":\"d638b1a5-b69a-43e0-883f-ae0fc0508885\",\"type\":\"Grid\"},{\"id\":\"597537dd-b64d-4f72-ae4a-2bdb3de8d2aa\",\"type\":\"GlyphRenderer\"}],\"title\":{\"id\":\"44f4a101-d1e4-451d-a633-f3be9b714235\",\"type\":\"Title\"},\"toolbar\":{\"id\":\"0f4b5107-9897-4788-8131-03edb029441b\",\"type\":\"Toolbar\"},\"toolbar_location\":null,\"x_range\":{\"id\":\"236ae2b2-b94d-458a-905a-00b5b5ba8cfb\",\"type\":\"FactorRange\"},\"x_scale\":{\"id\":\"5711493e-1a64-425c-91f7-7952dd86cb36\",\"type\":\"CategoricalScale\"},\"y_range\":{\"id\":\"07126626-ada3-4ada-a111-f3752adfff0a\",\"type\":\"DataRange1d\"},\"y_scale\":{\"id\":\"03653557-8e5a-4061-bc8a-32926d4d4bde\",\"type\":\"LinearScale\"}},\"id\":\"cc5a6fd5-07d7-4ced-9480-94bf3975c727\",\"subtype\":\"Figure\",\"type\":\"Plot\"},{\"attributes\":{\"fill_color\":{\"value\":\"#1f77b4\"},\"line_color\":{\"value\":\"#1f77b4\"},\"x\":{\"field\":\"x\"},\"y\":{\"field\":\"y\"}},\"id\":\"734cb51a-d0f1-40bb-81dd-833d6874ba30\",\"type\":\"Circle\"},{\"attributes\":{\"source\":{\"id\":\"0dfda6bb-90c8-4d28-86ba-f2635e21210a\",\"type\":\"ColumnDataSource\"}},\"id\":\"fed2ee24-e13c-407d-a01f-f468b28806d7\",\"type\":\"CDSView\"},{\"attributes\":{\"plot\":null,\"text\":\"Energy of samples\"},\"id\":\"44f4a101-d1e4-451d-a633-f3be9b714235\",\"type\":\"Title\"},{\"attributes\":{},\"id\":\"a4c798b7-0198-4225-9dbc-2c766d78a921\",\"type\":\"BasicTicker\"},{\"attributes\":{\"active_drag\":\"auto\",\"active_inspect\":\"auto\",\"active_scroll\":\"auto\",\"active_tap\":\"auto\"},\"id\":\"0f4b5107-9897-4788-8131-03edb029441b\",\"type\":\"Toolbar\"},{\"attributes\":{\"data_source\":{\"id\":\"0dfda6bb-90c8-4d28-86ba-f2635e21210a\",\"type\":\"ColumnDataSource\"},\"glyph\":{\"id\":\"734cb51a-d0f1-40bb-81dd-833d6874ba30\",\"type\":\"Circle\"},\"hover_glyph\":null,\"muted_glyph\":null,\"nonselection_glyph\":{\"id\":\"fcc7f32a-f638-4c1c-ab90-05084aa6181c\",\"type\":\"Circle\"},\"selection_glyph\":null,\"view\":{\"id\":\"fed2ee24-e13c-407d-a01f-f468b28806d7\",\"type\":\"CDSView\"}},\"id\":\"597537dd-b64d-4f72-ae4a-2bdb3de8d2aa\",\"type\":\"GlyphRenderer\"},{\"attributes\":{\"callback\":null},\"id\":\"07126626-ada3-4ada-a111-f3752adfff0a\",\"type\":\"DataRange1d\"},{\"attributes\":{\"fill_alpha\":{\"value\":0.1},\"fill_color\":{\"value\":\"#1f77b4\"},\"line_alpha\":{\"value\":0.1},\"line_color\":{\"value\":\"#1f77b4\"},\"x\":{\"field\":\"x\"},\"y\":{\"field\":\"y\"}},\"id\":\"fcc7f32a-f638-4c1c-ab90-05084aa6181c\",\"type\":\"Circle\"},{\"attributes\":{},\"id\":\"5711493e-1a64-425c-91f7-7952dd86cb36\",\"type\":\"CategoricalScale\"},{\"attributes\":{\"callback\":null,\"factors\":[\"(25, 13)\",\"(7, 9)\",\"(31, 1)\",\"(29, 1)\",\"(29, 5)\",\"(13, 21)\",\"(21, 12)\",\"(31, 5)\",\"(19, 29)\",\"(31, 9)\",\"(21, 13)\",\"(19, 25)\",\"(17, 21)\",\"(9, 21)\",\"(31, 11)\",\"(25, 29)\",\"(27, 13)\",\"(21, 11)\",\"(21, 7)\",\"(3, 29)\",\"(29, 9)\",\"(9, 29)\",\"(5, 13)\",\"(15, 11)\",\"(5, 27)\",\"(30, 5)\",\"(27, 11)\",\"(15, 25)\",\"(23, 17)\",\"(3, 25)\",\"(24, 11)\",\"(15, 13)\",\"(25, 21)\",\"(19, 21)\",\"(2, 29)\",\"(5, 12)\",\"(31, 13)\",\"(27, 7)\",\"(30, 11)\",\"(7, 13)\",\"(23, 5)\",\"(9, 14)\",\"(30, 1)\",\"(31, 29)\",\"(23, 7)\",\"(31, 14)\",\"(13, 29)\",\"(23, 13)\",\"(11, 27)\",\"(15, 21)\",\"(11, 25)\",\"(11, 28)\",\"(12, 15)\",\"(21, 10)\",\"(20, 25)\",\"(15, 23)\",\"(29, 19)\",\"(27, 25)\",\"(21, 15)\",\"(27, 9)\",\"(6, 19)\",\"(11, 9)\",\"(17, 13)\",\"(15, 1)\",\"(27, 27)\",\"(11, 31)\",\"(19, 31)\",\"(29, 13)\",\"(23, 9)\",\"(14, 31)\",\"(25, 28)\"]},\"id\":\"236ae2b2-b94d-458a-905a-00b5b5ba8cfb\",\"type\":\"FactorRange\"},{\"attributes\":{\"formatter\":{\"id\":\"5b245992-f66b-49b7-9aaf-d8f8b7ca7624\",\"type\":\"CategoricalTickFormatter\"},\"major_label_orientation\":1.5707963267948966,\"plot\":{\"id\":\"cc5a6fd5-07d7-4ced-9480-94bf3975c727\",\"subtype\":\"Figure\",\"type\":\"Plot\"},\"ticker\":{\"id\":\"6bf4a883-2677-497c-b2a1-de5f79cd3db8\",\"type\":\"CategoricalTicker\"}},\"id\":\"5ee4ce5f-ac54-463f-a517-32d4ff9b4dc9\",\"type\":\"CategoricalAxis\"},{\"attributes\":{},\"id\":\"03653557-8e5a-4061-bc8a-32926d4d4bde\",\"type\":\"LinearScale\"}],\"root_ids\":[\"cc5a6fd5-07d7-4ced-9480-94bf3975c727\"]},\"title\":\"Bokeh Application\",\"version\":\"0.12.15\"}};\n",
       "  var render_items = [{\"docid\":\"2f881688-722f-476e-a55e-62fd70c0e389\",\"elementid\":\"81c66cbd-4daf-4218-ba64-08c08e09dadc\",\"modelid\":\"cc5a6fd5-07d7-4ced-9480-94bf3975c727\"}];\n",
       "  root.Bokeh.embed.embed_items_notebook(docs_json, render_items);\n",
       "\n",
       "  }\n",
       "  if (root.Bokeh !== undefined) {\n",
       "    embed_document(root);\n",
       "  } else {\n",
       "    var attempts = 0;\n",
       "    var timer = setInterval(function(root) {\n",
       "      if (root.Bokeh !== undefined) {\n",
       "        embed_document(root);\n",
       "        clearInterval(timer);\n",
       "      }\n",
       "      attempts++;\n",
       "      if (attempts > 100) {\n",
       "        console.log(\"Bokeh: ERROR: Unable to run BokehJS code because BokehJS library is missing\")\n",
       "        clearInterval(timer);\n",
       "      }\n",
       "    }, 10, root)\n",
       "  }\n",
       "})(window);"
      ],
      "application/vnd.bokehjs_exec.v0+json": ""
     },
     "metadata": {
      "application/vnd.bokehjs_exec.v0+json": {
       "id": "cc5a6fd5-07d7-4ced-9480-94bf3975c727"
      }
     },
     "output_type": "display_data"
    }
   ],
   "source": [
    "from helpers import draw\n",
    "\n",
    "from collections import OrderedDict\n",
    "\n",
    "def response_to_dict(sampleset):\n",
    "    results_dict = OrderedDict()\n",
    "    for sample, energy in sampleset.data(['sample', 'energy']):\n",
    "        a, b = to_base_ten(sample, 5)\n",
    "        if (a, b) not in results_dict:\n",
    "            results_dict[(a, b)] = round(energy, 2)\n",
    "            \n",
    "    return results_dict\n",
    "\n",
    "results = response_to_dict(sampleset)\n",
    "\n",
    "draw.energy_of(results)"
   ]
  },
  {
   "cell_type": "code",
   "execution_count": 13,
   "id": "064ac844",
   "metadata": {},
   "outputs": [
    {
     "data": {
      "text/html": [
       "\n",
       "<div class=\"bk-root\">\n",
       "    <div class=\"bk-plotdiv\" id=\"3cf19ca8-cde9-4b02-8093-de30baef1110\"></div>\n",
       "</div>"
      ]
     },
     "metadata": {},
     "output_type": "display_data"
    },
    {
     "data": {
      "application/javascript": [
       "(function(root) {\n",
       "  function embed_document(root) {\n",
       "    \n",
       "  var docs_json = {\"1472aa3e-e649-40b7-afa7-b2a2b6149238\":{\"roots\":{\"references\":[{\"attributes\":{\"callback\":null,\"column_names\":[\"x\",\"y\"],\"data\":{\"x\":[\"(11, 7)\"],\"y\":[11.0]},\"selected\":null,\"selection_policy\":null},\"id\":\"92d59cac-000d-46b0-8022-7bb9291906f9\",\"type\":\"ColumnDataSource\"},{\"attributes\":{\"below\":[{\"id\":\"41f539ac-cb3b-4168-883a-5a1917296e94\",\"type\":\"CategoricalAxis\"}],\"left\":[{\"id\":\"d8de7a38-6a6c-4e28-97f8-3c38712282ed\",\"type\":\"LinearAxis\"}],\"plot_height\":250,\"renderers\":[{\"id\":\"41f539ac-cb3b-4168-883a-5a1917296e94\",\"type\":\"CategoricalAxis\"},{\"id\":\"2b258ab8-79ee-4c80-a424-5d579b2ef6e6\",\"type\":\"Grid\"},{\"id\":\"d8de7a38-6a6c-4e28-97f8-3c38712282ed\",\"type\":\"LinearAxis\"},{\"id\":\"cb3b3ecd-96ca-44eb-85ec-b7e8aed28301\",\"type\":\"Grid\"},{\"id\":\"a14e3f0d-a2ef-4bd7-b5c4-aac6b7b65ac5\",\"type\":\"GlyphRenderer\"}],\"title\":{\"id\":\"4f3b0080-83bd-458c-8cac-3e03aba4e7eb\",\"type\":\"Title\"},\"toolbar\":{\"id\":\"efde2b42-5df2-4776-b250-8dd6b5b497d4\",\"type\":\"Toolbar\"},\"toolbar_location\":null,\"x_range\":{\"id\":\"8d657518-bf70-4187-b84c-06ef7dd90adb\",\"type\":\"FactorRange\"},\"x_scale\":{\"id\":\"49a054d2-0619-4e43-823f-96ce889657b3\",\"type\":\"CategoricalScale\"},\"y_range\":{\"id\":\"7a154818-c0a8-4f8e-aea5-96bf028f7ab4\",\"type\":\"DataRange1d\"},\"y_scale\":{\"id\":\"de2404b4-e861-49b2-aa76-3e8179d60692\",\"type\":\"LinearScale\"}},\"id\":\"24e4273f-6ca2-47ba-ac6f-a07b966de7a4\",\"subtype\":\"Figure\",\"type\":\"Plot\"},{\"attributes\":{\"plot\":null,\"text\":\"Energy of samples\"},\"id\":\"4f3b0080-83bd-458c-8cac-3e03aba4e7eb\",\"type\":\"Title\"},{\"attributes\":{\"callback\":null},\"id\":\"7a154818-c0a8-4f8e-aea5-96bf028f7ab4\",\"type\":\"DataRange1d\"},{\"attributes\":{\"fill_alpha\":{\"value\":0.1},\"fill_color\":{\"value\":\"#1f77b4\"},\"line_alpha\":{\"value\":0.1},\"line_color\":{\"value\":\"#1f77b4\"},\"x\":{\"field\":\"x\"},\"y\":{\"field\":\"y\"}},\"id\":\"90e63e97-ef06-49e2-827a-9eb36c8ef128\",\"type\":\"Circle\"},{\"attributes\":{\"formatter\":{\"id\":\"5013843e-98ff-4d01-a554-2a508a00f8c2\",\"type\":\"BasicTickFormatter\"},\"plot\":{\"id\":\"24e4273f-6ca2-47ba-ac6f-a07b966de7a4\",\"subtype\":\"Figure\",\"type\":\"Plot\"},\"ticker\":{\"id\":\"0da1ae9f-4f1c-4640-a2ba-646076c21cfb\",\"type\":\"BasicTicker\"}},\"id\":\"d8de7a38-6a6c-4e28-97f8-3c38712282ed\",\"type\":\"LinearAxis\"},{\"attributes\":{\"data_source\":{\"id\":\"92d59cac-000d-46b0-8022-7bb9291906f9\",\"type\":\"ColumnDataSource\"},\"glyph\":{\"id\":\"c2f1f2d5-fcf5-4c58-b31d-391ab644a593\",\"type\":\"Circle\"},\"hover_glyph\":null,\"muted_glyph\":null,\"nonselection_glyph\":{\"id\":\"90e63e97-ef06-49e2-827a-9eb36c8ef128\",\"type\":\"Circle\"},\"selection_glyph\":null,\"view\":{\"id\":\"effe3fcf-674e-473c-828b-a821d8ed50df\",\"type\":\"CDSView\"}},\"id\":\"a14e3f0d-a2ef-4bd7-b5c4-aac6b7b65ac5\",\"type\":\"GlyphRenderer\"},{\"attributes\":{},\"id\":\"38bbb4af-43ce-4888-90ca-9e4745b5d3de\",\"type\":\"CategoricalTicker\"},{\"attributes\":{},\"id\":\"5013843e-98ff-4d01-a554-2a508a00f8c2\",\"type\":\"BasicTickFormatter\"},{\"attributes\":{},\"id\":\"1a1cc31b-b52e-4490-b397-0113db55a550\",\"type\":\"CategoricalTickFormatter\"},{\"attributes\":{\"grid_line_color\":{\"value\":null},\"plot\":{\"id\":\"24e4273f-6ca2-47ba-ac6f-a07b966de7a4\",\"subtype\":\"Figure\",\"type\":\"Plot\"},\"ticker\":{\"id\":\"38bbb4af-43ce-4888-90ca-9e4745b5d3de\",\"type\":\"CategoricalTicker\"}},\"id\":\"2b258ab8-79ee-4c80-a424-5d579b2ef6e6\",\"type\":\"Grid\"},{\"attributes\":{\"callback\":null,\"factors\":[\"(11, 7)\"]},\"id\":\"8d657518-bf70-4187-b84c-06ef7dd90adb\",\"type\":\"FactorRange\"},{\"attributes\":{\"active_drag\":\"auto\",\"active_inspect\":\"auto\",\"active_scroll\":\"auto\",\"active_tap\":\"auto\"},\"id\":\"efde2b42-5df2-4776-b250-8dd6b5b497d4\",\"type\":\"Toolbar\"},{\"attributes\":{\"dimension\":1,\"plot\":{\"id\":\"24e4273f-6ca2-47ba-ac6f-a07b966de7a4\",\"subtype\":\"Figure\",\"type\":\"Plot\"},\"ticker\":{\"id\":\"0da1ae9f-4f1c-4640-a2ba-646076c21cfb\",\"type\":\"BasicTicker\"}},\"id\":\"cb3b3ecd-96ca-44eb-85ec-b7e8aed28301\",\"type\":\"Grid\"},{\"attributes\":{\"fill_color\":{\"value\":\"#1f77b4\"},\"line_color\":{\"value\":\"#1f77b4\"},\"x\":{\"field\":\"x\"},\"y\":{\"field\":\"y\"}},\"id\":\"c2f1f2d5-fcf5-4c58-b31d-391ab644a593\",\"type\":\"Circle\"},{\"attributes\":{},\"id\":\"49a054d2-0619-4e43-823f-96ce889657b3\",\"type\":\"CategoricalScale\"},{\"attributes\":{\"formatter\":{\"id\":\"1a1cc31b-b52e-4490-b397-0113db55a550\",\"type\":\"CategoricalTickFormatter\"},\"major_label_orientation\":1.5707963267948966,\"plot\":{\"id\":\"24e4273f-6ca2-47ba-ac6f-a07b966de7a4\",\"subtype\":\"Figure\",\"type\":\"Plot\"},\"ticker\":{\"id\":\"38bbb4af-43ce-4888-90ca-9e4745b5d3de\",\"type\":\"CategoricalTicker\"}},\"id\":\"41f539ac-cb3b-4168-883a-5a1917296e94\",\"type\":\"CategoricalAxis\"},{\"attributes\":{\"source\":{\"id\":\"92d59cac-000d-46b0-8022-7bb9291906f9\",\"type\":\"ColumnDataSource\"}},\"id\":\"effe3fcf-674e-473c-828b-a821d8ed50df\",\"type\":\"CDSView\"},{\"attributes\":{},\"id\":\"de2404b4-e861-49b2-aa76-3e8179d60692\",\"type\":\"LinearScale\"},{\"attributes\":{},\"id\":\"0da1ae9f-4f1c-4640-a2ba-646076c21cfb\",\"type\":\"BasicTicker\"}],\"root_ids\":[\"24e4273f-6ca2-47ba-ac6f-a07b966de7a4\"]},\"title\":\"Bokeh Application\",\"version\":\"0.12.15\"}};\n",
       "  var render_items = [{\"docid\":\"1472aa3e-e649-40b7-afa7-b2a2b6149238\",\"elementid\":\"3cf19ca8-cde9-4b02-8093-de30baef1110\",\"modelid\":\"24e4273f-6ca2-47ba-ac6f-a07b966de7a4\"}];\n",
       "  root.Bokeh.embed.embed_items_notebook(docs_json, render_items);\n",
       "\n",
       "  }\n",
       "  if (root.Bokeh !== undefined) {\n",
       "    embed_document(root);\n",
       "  } else {\n",
       "    var attempts = 0;\n",
       "    var timer = setInterval(function(root) {\n",
       "      if (root.Bokeh !== undefined) {\n",
       "        embed_document(root);\n",
       "        clearInterval(timer);\n",
       "      }\n",
       "      attempts++;\n",
       "      if (attempts > 100) {\n",
       "        console.log(\"Bokeh: ERROR: Unable to run BokehJS code because BokehJS library is missing\")\n",
       "        clearInterval(timer);\n",
       "      }\n",
       "    }, 10, root)\n",
       "  }\n",
       "})(window);"
      ],
      "application/vnd.bokehjs_exec.v0+json": ""
     },
     "metadata": {
      "application/vnd.bokehjs_exec.v0+json": {
       "id": "24e4273f-6ca2-47ba-ac6f-a07b966de7a4"
      }
     },
     "output_type": "display_data"
    }
   ],
   "source": [
    "from collections import OrderedDict\n",
    "\n",
    "def response_to_dict(sampleset):\n",
    "    results_dict = OrderedDict()\n",
    "    for sample, energy in sampleset.data(['sample', 'energy']):\n",
    "        a, b = to_base_ten(sample, 4)\n",
    "        if (a, b) not in results_dict:\n",
    "            if a * b == P:\n",
    "                results_dict[(a, b)] = round(energy, 2)\n",
    "            \n",
    "    return results_dict\n",
    "\n",
    "results = response_to_dict(sampleset)\n",
    "\n",
    "draw.energy_of(results)"
   ]
  },
  {
   "cell_type": "code",
   "execution_count": 31,
   "id": "e27a3718",
   "metadata": {},
   "outputs": [
    {
     "name": "stdout",
     "output_type": "stream",
     "text": [
      "Task Summary\n",
      "{'arn:aws:braket:us-west-2::device/qpu/d-wave/Advantage_system6': {'shots': 100, 'tasks': {'COMPLETED': 1}}}\n",
      "Note: Charges shown are estimates based on your Amazon Braket simulator and quantum processing unit (QPU) task usage. Estimated charges shown may differ from your actual charges. Estimated charges do not factor in any discounts or credits, and you may experience additional charges based on your use of other services such as Amazon Elastic Compute Cloud (Amazon EC2).\n",
      "Estimated cost to run this example: 0.3190000000 USD\n"
     ]
    }
   ],
   "source": [
    "print(\"Task Summary\")\n",
    "print(t.quantum_tasks_statistics())\n",
    "print('Note: Charges shown are estimates based on your Amazon Braket simulator and quantum processing unit (QPU) task usage. Estimated charges shown may differ from your actual charges. Estimated charges do not factor in any discounts or credits, and you may experience additional charges based on your use of other services such as Amazon Elastic Compute Cloud (Amazon EC2).')\n",
    "print(f\"Estimated cost to run this example: {t.qpu_tasks_cost() + t.simulator_tasks_cost()} USD\")"
   ]
  },
  {
   "cell_type": "code",
   "execution_count": null,
   "id": "30e6aeb3",
   "metadata": {},
   "outputs": [],
   "source": []
  }
 ],
 "metadata": {
  "kernelspec": {
   "display_name": "conda_braket",
   "language": "python",
   "name": "conda_braket"
  },
  "language_info": {
   "codemirror_mode": {
    "name": "ipython",
    "version": 3
   },
   "file_extension": ".py",
   "mimetype": "text/x-python",
   "name": "python",
   "nbconvert_exporter": "python",
   "pygments_lexer": "ipython3",
   "version": "3.7.13"
  }
 },
 "nbformat": 4,
 "nbformat_minor": 5
}
