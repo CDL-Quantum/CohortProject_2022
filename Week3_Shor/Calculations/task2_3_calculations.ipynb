{
 "cells": [
  {
   "cell_type": "code",
   "execution_count": 1,
   "id": "ffaf7f69",
   "metadata": {},
   "outputs": [],
   "source": [
    "import matplotlib.pyplot as plt\n",
    "import numpy as np\n",
    "import math\n",
    "from qiskit import Aer\n",
    "from qiskit.utils import QuantumInstance\n",
    "from qiskit.algorithms import Shor"
   ]
  },
  {
   "cell_type": "markdown",
   "id": "82bdf6f7",
   "metadata": {},
   "source": [
    "### Task 2: Everything is in order\n",
    "\n",
    "For this task, research and implement the quantum algorithm for order finding. Then, apply it in the larger context of Shor's algorithm, starting from the pseudocode below. Use you algorithm to factor the value  from the previous task.\n",
    "\n",
    "Shor's algorithm is used to determine the prime factors of an input $N$. It is a classical algorithm which has one step (step 3, below) that should be executed on a quantum computer.\n",
    "\n",
    "0. Determine if $N$ is even, prime or an integer power of a prime number. If so, we will not use Shor's algorithm. There are efficient classical methods of determining if a given input falls into one of the list categories, and calculating the factors.\n",
    "1. Select an integer $q$ such that $$ N^2 \\leq q < 2N^2 . $$.\n",
    "2. Pick a random integer $1<a<N$ and calculate the greatest common divisor (gcd) of $a$ and $N$. If the gcd is not equal to one, then $gcd(a,N)$ is a factor of $N$. The other factor would therefore be $N/gcd(a,N)$. In this case, we are done. Otherwise, continue to step 4.\n",
    "3. Execute the period finding algorithm (see below) to determine $r$.\n",
    "4. If $r$ is odd, go back to step 2.\n",
    "5. If $a^{r/2} \\equiv -1 \\text{ mod } n$ go back to 2.\n",
    "6. The factors of $N$ are $p,q = \\text{gcd}(a^{r/2} \\pm 1, N)$\n",
    "\n",
    "To explain the order finding algorithm, we first describe the quantum Fourier transform.\n",
    "\n",
    "#### Quantum Fourier transform (QFT)\n",
    "\n",
    "The QFT is essentially just a change of basis, as described by:\n",
    "\n",
    "$$ \\sum_{j} \\alpha_j | j \\rangle \\rightarrow \\sum_{k} \\tilde{\\alpha}_k | k \\rangle $$\n",
    "\n",
    "where,\n",
    "\n",
    "$$ | j \\rangle \\rightarrow \\frac{1}{\\sqrt{N}} \\sum_{k=0}^{N-1} e^{2 \\pi i j k /N} | k \\rangle . $$\n",
    "\n",
    "\n",
    "#### Period finding algorithm\n",
    "\n",
    "The problem associated with the period finding algorithm is to determine the smallest integer period $r$ such that $f(x+r) = f(x)$ for $f(x) = a^x \\text{ mod } N$. The algorithm is as follows:\n",
    "\n",
    "1. Prepare the initial state of the system, which consists of two registers of length $l$, where $q=2^l$, in the zero state:\n",
    "$$ | \\Psi_i \\rangle = | 0 \\rangle_{r_1} | 0 \\rangle_{r_2} = | 0 \\rangle^{\\otimes 2^l} $$\n",
    "2. Initialize first register ($r_1$) with a superposition of all states.\n",
    "$$ | \\Psi_0 \\rangle = H^{\\otimes l} \\otimes \\mathbb{1}^{\\otimes l} | 0 \\rangle^{\\otimes 2l} = \\Bigg( \\frac{1}{\\sqrt{2}} \\Big( | 0 \\rangle + | 1 \\rangle \\Big)  \\Bigg)^{\\otimes l} \\otimes | 0 \\rangle^{\\otimes l} = \\frac{1}{\\sqrt{q}} \\sum_{a = 0}^{q-1} | a \\rangle | 0 \\rangle^{\\otimes l} $$\n",
    "3. Apply the unitary that implements the function $f = a^x \\text{ mod } n$.\n",
    "$$ | \\Psi_1 \\rangle = U_f | \\Psi_0 \\rangle = \\frac{1}{\\sqrt{q}} \\sum_{x = 0}^{q-1} | x \\rangle | f(x) \\rangle $$\n",
    "4. Perform the inverse QFT on first register.\n",
    "5. Perform Measurement of the qubits in the first register.\n",
    "6. Continued Fraction Expansion to determine $r$.\n",
    "\n",
    "Our first attempt at implementing the quantum order finding algorithm was following the $\\texttt{QISKIT}$ tutorial found [here](https://qiskit.org/textbook/ch-algorithms/shor.html). Unfortunately, we were unable to determine how to implement the modular exponentiation function for $N=91$. The quantum circuit is supposed to be constructed on the single-gate level, and we were unsure how to decompose the modular exponentiation function into $\\texttt{SWAP}$ gates.\n",
    "\n",
    "Our next attempt to implement the quantum order finding algorithm was by using another $\\texttt{QISKIT}$ tutorial found [here](https://qiskit.org/documentation/tutorials/algorithms/08_factorizers.html#:~:text=Shor's%20Factoring%20algorithm%C2%B6,N%20%3D%2015%20backend%20%3D%20Aer.). This approach was much simpler computationally, as the functions required to implement the entire algorithm are included in the library package- including the modular exponentiation. Again, our attempts to use this package for the case of $N=91$ failed due to insufficient memory to execute the code. Note that we also experimented with different values of $a$, with no success. Additionally, we verified that the memory issue was not a Jupyter Notebook issue, and found that running the relevant code from the command line also produced the memory error.\n",
    "\n",
    "![qiskit_memory](../Images/qiskit_memory.PNG)"
   ]
  },
  {
   "cell_type": "code",
   "execution_count": 2,
   "id": "bd5cfe4c",
   "metadata": {},
   "outputs": [],
   "source": [
    "#N = 91\n",
    "#backend = Aer.get_backend('aer_simulator')\n",
    "#quantum_instance = QuantumInstance(backend, shots=1024)\n",
    "#shor = Shor(quantum_instance=quantum_instance)\n",
    "#result = shor.factor(N)\n",
    "#print(f\"The list of factors of {N} as computed by the Shor's algorithm is {result.factors[0]}.\")"
   ]
  },
  {
   "cell_type": "markdown",
   "id": "378f6ef9",
   "metadata": {},
   "source": [
    "We decided to implement a classical algorithm to solve the order finding problem. This was not the ideal solution, but it was a method to move forward on this task. "
   ]
  },
  {
   "cell_type": "code",
   "execution_count": 3,
   "id": "97e27bbf",
   "metadata": {},
   "outputs": [],
   "source": [
    "def order_finder(a, N):\n",
    "    '''\n",
    "    Function returns order 'r' : a^r = 1 mod N\n",
    "    Inputs: a, n\n",
    "    Returns: order 'r'\n",
    "    '''\n",
    "    ret_val = -1\n",
    "    for i in range(1,1000):\n",
    "        if a**i % 91 == 1:\n",
    "            ret_val = i\n",
    "            break\n",
    "    return ret_val\n",
    "\n",
    "def shor_factorization(N):\n",
    "    '''\n",
    "    Input: int N with unique factorization N = pq\n",
    "    Returns: p, q of type int\n",
    "    '''\n",
    "    p, q = 1, 1\n",
    "    a = 1 # instead of choosing a random a, we will start at a=2, run the algorithm, and increment a if it fails\n",
    "    fails = -1\n",
    "    \n",
    "    while p*q != N:\n",
    "        \n",
    "        if np.gcd(a,N) != 1: # check to see if a and N are co-prime or not\n",
    "            p = a\n",
    "            q = int(N/a)\n",
    "        else:\n",
    "            r = order_finder(a, N)\n",
    "            if r == -1:\n",
    "                pass #print('No order found.')\n",
    "            if r % 2 == 1:\n",
    "                pass #print('r is odd : restarting...')\n",
    "            elif (a**(r/2)%N==1) or (a**(r/2)%N==N-1) :\n",
    "                pass #print('Factor not found, restarting... ')\n",
    "            else:\n",
    "                p = np.gcd(a**int(r/2)+1, N)\n",
    "                q = np.gcd(a**int(r/2)-1, N)\n",
    "        fails += 1\n",
    "        a += 1\n",
    "    \n",
    "    return (p,q, a-1, r, fails)"
   ]
  },
  {
   "cell_type": "code",
   "execution_count": 4,
   "id": "42cb7002",
   "metadata": {},
   "outputs": [
    {
     "name": "stdout",
     "output_type": "stream",
     "text": [
      "a = 2 , r = 12 , a^r % 91 = 1\n",
      "p = 13 q = 7\n"
     ]
    }
   ],
   "source": [
    "p,q,a,r,fails = shor_factorization(91)\n",
    "print('a =', a, ', r =', r, ', a^r % 91 =', a**r % 91)\n",
    "print('p =', p, 'q =', q)"
   ]
  },
  {
   "cell_type": "code",
   "execution_count": 5,
   "id": "804834d1",
   "metadata": {},
   "outputs": [
    {
     "name": "stdout",
     "output_type": "stream",
     "text": [
      "13.7 µs ± 503 ns per loop (mean ± std. dev. of 7 runs, 100,000 loops each)\n"
     ]
    }
   ],
   "source": [
    "%timeit shor_factorization(91)"
   ]
  },
  {
   "cell_type": "markdown",
   "id": "1d4acb8c",
   "metadata": {},
   "source": [
    "For $N = 91$, our code calculates the factors to be (p,q) = (13,7). Since 13x7=91 and we know that 13 and 7 are both prime, the code produces the correct result. Further, the values of a = 2 and r = 12 yield 2^12 % 91 = 1, which is the desired result.\n",
    "\n",
    "Our analysis shows that even using a classical order finding method, breaking RSA which uses 7 bit number (91 = 0b1011011) is very easy. It only takes ~15 microseconds to run the (rather unoptimized) code. That's just a 7 bit number though- we should expect that this will get much tougher for larger numbers.\n",
    "\n",
    "## Task 3: Are we running Shor-t on time?\n",
    "\n",
    "You will likely have noticed in Task 2 that Shor's algorithm is not guaranteed to find a solution. In fact, there are few potential points of failure. How often does your implementation succeed? How does this depend on the size of ?\n",
    "\n",
    "Further to this point, now that you have an implementation, let's stress test it. Use Shor's algorithm to factor a sequence of increasingly large . How large of a number can you reliably factor with your computer? As you are increasing , take the opportunity to perform an analysis of:\n",
    "\n",
    "- Run time (wall time)\n",
    "- Number of qubits required\n",
    "- Number of quantum gates required\n",
    "\n",
    "Present your results graphically and use this to infer the scaling of these resources with the size of the problem instance.\n",
    "\n",
    "After, consider the following: how does the size of your largest solved instance compare with the size of RSA keys in use today? Can you estimate the quantum resources that would be needed to factor numbers of this size, and when we might have a device capable of doing so? Consider the qubit count and gate count in your estimate. To take things further, you could even estimate a rough wall time by looking at circuit depth, and gate operation speeds of present-day hardware.\n"
   ]
  },
  {
   "cell_type": "code",
   "execution_count": 6,
   "id": "f03a4d9f",
   "metadata": {},
   "outputs": [],
   "source": [
    "def a2jmodN(a, j, N):\n",
    "    \"\"\"Compute a^{2^j} (mod N) by repeated squaring\"\"\"\n",
    "    for i in range(j):\n",
    "        a = np.mod(a**2, N)\n",
    "    return a\n",
    "\n",
    "def countTotalBits(num):\n",
    "     \n",
    "     # convert number into it's binary and\n",
    "     # remove first two characters 0b.\n",
    "     binary = bin(num)[2:]\n",
    "     return len(binary)"
   ]
  },
  {
   "cell_type": "code",
   "execution_count": 7,
   "id": "a9400f5b",
   "metadata": {},
   "outputs": [],
   "source": [
    "decimal_vals = np.arange(2,2**15,1)\n",
    "binary_vals = np.array([])\n",
    "\n",
    "for d in decimal_vals:\n",
    "    binary_vals = np.append(binary_vals, countTotalBits(d))"
   ]
  },
  {
   "cell_type": "code",
   "execution_count": 8,
   "id": "7525c114",
   "metadata": {},
   "outputs": [],
   "source": [
    "fail_vals = np.array([])\n",
    "n_qubits = 2*np.log2(np.array([15,21,35,69,129,511,1011,1027,2049,7909,8193,16387,1073741821]))\n",
    "\n",
    "\n",
    "for d in decimal_vals[0:2**8]:\n",
    "    p,q,a,r,fails = shor_factorization(d)\n",
    "    fail_vals = np.append(fail_vals, fails)"
   ]
  },
  {
   "cell_type": "code",
   "execution_count": 9,
   "id": "1d16b080",
   "metadata": {},
   "outputs": [],
   "source": [
    "partitioned_N = np.unique(binary_vals)[0:8]\n",
    "probabilities = np.zeros(len(partitioned_N))\n",
    "sizes = np.zeros(len(partitioned_N))\n",
    "\n",
    "for i in range(len(decimal_vals[0:2**8])):\n",
    "    for j in range(len(partitioned_N)):\n",
    "        if binary_vals[i] == partitioned_N[j]:\n",
    "            probabilities[j] += fail_vals[i]\n",
    "            sizes[j] += 1\n",
    "\n",
    "for i in range(len(probabilities)):\n",
    "    probabilities[i] /= sizes[i]"
   ]
  },
  {
   "cell_type": "code",
   "execution_count": 10,
   "id": "1e2d9816",
   "metadata": {},
   "outputs": [
    {
     "data": {
      "image/png": "[encoded data removed]",
      "text/plain": [
       "<Figure size 1296x432 with 2 Axes>"
      ]
     },
     "metadata": {
      "needs_background": "light"
     },
     "output_type": "display_data"
    }
   ],
   "source": [
    "fig, axes = plt.subplots(figsize=(18, 6), nrows=1, ncols=3)\n",
    "fig.tight_layout(pad=5.0)\n",
    "\n",
    "plt.subplot(1, 2, 1)\n",
    "plt.xlabel('Number of bits in $N$ (n)', fontsize=20); plt.ylabel('Runtime', fontsize=20)\n",
    "plt.plot(np.linspace(1,15,30), 2**np.linspace(1,15,30), lw=5, c='k', label='$O(2^n)$', zorder=5)\n",
    "plt.scatter(binary_vals, a2jmodN(2,10,decimal_vals), s=30, c='firebrick', label='$a^{2j}$ mod $N$ \\n(classical)', zorder=4)\n",
    "plt.xticks(fontsize=20); plt.yticks([],[],fontsize=20) \n",
    "plt.legend(fontsize=20)\n",
    "plt.grid()\n",
    "\n",
    "plt.subplot(1, 2, 2)\n",
    "plt.xlabel('Number of bits in $N$ (n)', fontsize=20); plt.ylabel('Average failures \\n per execution', fontsize=20)\n",
    "plt.plot(np.linspace(0,8,100), 2**(np.linspace(0,8,100)), c='k', label='$O(2^n)$', zorder=4, lw=3)\n",
    "plt.plot(np.linspace(0,9,100), np.linspace(0,9,100)**2, c='navy', label='$O(n^2)$', zorder=4, lw=3)\n",
    "plt.scatter(partitioned_N, probabilities, s=30, c='firebrick', zorder=4, label='Classical')\n",
    "plt.xticks(fontsize=20); plt.yticks(fontsize=20)\n",
    "plt.grid()\n",
    "plt.legend(fontsize=20)\n",
    "\n",
    "plt.subplots_adjust(wspace=0.3)\n",
    "#plt.savefig('shor_comp.PNG')\n",
    "\n",
    "plt.show()"
   ]
  },
  {
   "cell_type": "markdown",
   "id": "f6bca990",
   "metadata": {},
   "source": [
    "The plot on the left shows how the runtime (the number operations/cycles/gates) of the modular exponential function scales with the number of input bits. $N$ is the divisor and $n$ is the number of bits when $N$ is represented as a binary. The red data points correspond to the runtime of the modular exponential function as implemented classically in task 2. We see that in the worst case, the algorithm scales as $O(2^n)$, i.e., it is exponential. With quantum modular exponentiation, on the other hand, the number of operations scales as $O(n^3)$ when the quantum circuit has been efficiently implemented.\n",
    "\n",
    "The plot on the right shows the average numer of failures when Shor's algorithm is implemented using the classical order finding algorithm. The classical implementation actually has fewer failures as compared to the quantum version for $n \\leq 8$. Not surprisingly, for values with legnth longer that a byte, the quantum order finding algorithm results in fewer failures.\n",
    "\n",
    "## References\n",
    "\n",
    "[1] Van Meter, Rodney, and Kohei M. Itoh. \"Fast quantum modular exponentiation.\" Physical Review A 71.5 (2005): 052320."
   ]
  },
  {
   "cell_type": "code",
   "execution_count": 47,
   "id": "ef3c67ca",
   "metadata": {},
   "outputs": [
    {
     "name": "stdout",
     "output_type": "stream",
     "text": [
      "4294967297\n",
      "p = 641 , q = 6700417\n",
      "p*q = 4294967297\n",
      "True\n",
      "33\n"
     ]
    }
   ],
   "source": [
    "d = 32\n",
    "N = 2**d + 1\n",
    "print(N)\n",
    "p,q,a,r,fails = shor_factorization(N)\n",
    "print('p =', p, ', q =', q)\n",
    "print('p*q =', p*q)\n",
    "print(p*q == N)\n",
    "print(countTotalBits(N))"
   ]
  },
  {
   "cell_type": "code",
   "execution_count": 48,
   "id": "60dc1983",
   "metadata": {},
   "outputs": [
    {
     "name": "stdout",
     "output_type": "stream",
     "text": [
      "1.6 s ± 317 ms per loop (mean ± std. dev. of 7 runs, 1 loop each)\n"
     ]
    }
   ],
   "source": [
    "%timeit shor_factorization(N)"
   ]
  },
  {
   "cell_type": "code",
   "execution_count": null,
   "id": "6a057ecb",
   "metadata": {},
   "outputs": [],
   "source": []
  }
 ],
 "metadata": {
  "kernelspec": {
   "display_name": "Python 3 (ipykernel)",
   "language": "python",
   "name": "python3"
  },
  "language_info": {
   "codemirror_mode": {
    "name": "ipython",
    "version": 3
   },
   "file_extension": ".py",
   "mimetype": "text/x-python",
   "name": "python",
   "nbconvert_exporter": "python",
   "pygments_lexer": "ipython3",
   "version": "3.9.12"
  }
 },
 "nbformat": 4,
 "nbformat_minor": 5
}
